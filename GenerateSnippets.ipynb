{
 "cells": [
  {
   "cell_type": "code",
   "execution_count": 3,
   "metadata": {},
   "outputs": [],
   "source": [
    "import os\n",
    "\n",
    "import numpy as np\n",
    "from GenSnippetsLib import *\n",
    "from PIL import Image, ImageDraw, ImageFont"
   ]
  },
  {
   "cell_type": "code",
   "execution_count": 13,
   "outputs": [],
   "source": [
    "def get_color(seed, n_colors):\n",
    "    import random\n",
    "    random.seed(seed)\n",
    "    return [(random.randint(0, 255), random.randint(0, 255), random.randint(0, 255)) for i in range(n_colors)]"
   ],
   "metadata": {
    "collapsed": false,
    "pycharm": {
     "name": "#%%\n"
    }
   }
  },
  {
   "cell_type": "code",
   "execution_count": 11,
   "metadata": {
    "tags": []
   },
   "outputs": [
    {
     "data": {
      "text/plain": "array([[[255, 255, 255, 255],\n        [255, 255, 255, 255],\n        [255, 255, 255, 255],\n        ...,\n        [255, 255, 255, 255],\n        [255, 255, 255, 255],\n        [255, 255, 255, 255]],\n\n       [[255, 255, 255, 255],\n        [255, 255, 255, 255],\n        [255, 255, 255, 255],\n        ...,\n        [255, 255, 255, 255],\n        [255, 255, 255, 255],\n        [255, 255, 255, 255]],\n\n       [[255, 255, 255, 255],\n        [255, 255, 255, 255],\n        [255, 255, 255, 255],\n        ...,\n        [255, 255, 255, 255],\n        [255, 255, 255, 255],\n        [255, 255, 255, 255]],\n\n       ...,\n\n       [[255, 255, 255, 255],\n        [255, 255, 255, 255],\n        [255, 255, 255, 255],\n        ...,\n        [255, 255, 255, 255],\n        [255, 255, 255, 255],\n        [255, 255, 255, 255]],\n\n       [[255, 255, 255, 255],\n        [255, 255, 255, 255],\n        [255, 255, 255, 255],\n        ...,\n        [255, 255, 255, 255],\n        [255, 255, 255, 255],\n        [255, 255, 255, 255]],\n\n       [[255, 255, 255, 255],\n        [255, 255, 255, 255],\n        [255, 255, 255, 255],\n        ...,\n        [255, 255, 255, 255],\n        [255, 255, 255, 255],\n        [255, 255, 255, 255]]], dtype=uint8)"
     },
     "metadata": {},
     "output_type": "display_data"
    }
   ],
   "source": [
    "generator_folder = os.getcwd() + \"\\\\CodeSnippets\\\\Generators\"\n",
    "snippet_folder = os.getcwd() + \"\\\\CodeSnippets\\\\Snippets\"\n",
    "\n",
    "files = os.listdir(generator_folder)\n",
    "\n",
    "for file in files:\n",
    "    filename, _file_extension = os.path.splitext(file)\n",
    "    img, result = create_image(generator_folder + \"\\\\\" + file, font_path=\"\\\\CodeSnippets\\\\fonts\\\\ttf\\\\\")\n",
    "    img = np.array(img)\n",
    "    display(img)\n",
    "    break\n",
    "    #img.save(snippet_folder + \"\\\\\" + filename + \".png\")"
   ]
  },
  {
   "cell_type": "code",
   "execution_count": 51,
   "metadata": {},
   "outputs": [],
   "source": [
    "img, result = create_image(os.getcwd() + \"\\\\dataEvaluation\\\\test.json\", font_path=\"\\\\CodeSnippets\\\\fonts\\\\ttf\\\\\")\n",
    "current_aoi = None\n",
    "for idx, value in enumerate(result):\n",
    "    value[\"BoundingBox\"] = [int(x) for x in value[\"BoundingBox\"]]\n",
    "    if current_aoi is not None and value[\"AOI\"] == current_aoi and current_aoi != \"None\":\n",
    "        value[\"BoundingBox\"][0] = min(value[\"BoundingBox\"][0], result[idx-1][\"BoundingBox\"][0])\n",
    "        value[\"BoundingBox\"][1] = min(value[\"BoundingBox\"][1], result[idx-1][\"BoundingBox\"][1])\n",
    "        value[\"BoundingBox\"][2] = max(value[\"BoundingBox\"][2], result[idx-1][\"BoundingBox\"][2])\n",
    "        value[\"BoundingBox\"][3] = max(value[\"BoundingBox\"][3], result[idx-1][\"BoundingBox\"][3])\n",
    "        result[idx-1][\"AOI\"] = \"None\"\n",
    "    else:\n",
    "        current_aoi = value[\"AOI\"]\n",
    "\n",
    "result = [value for value in result if value[\"AOI\"] != \"None\"]\n",
    "unique_values = list(set([value[\"AOI\"] for value in result]))\n",
    "colors = np.array(get_color(12, len(unique_values)))\n",
    "img = np.array(img)\n",
    "for letter in result:\n",
    "    color = colors[unique_values.index(letter[\"AOI\"])]\n",
    "    bounding_box = letter[\"BoundingBox\"]\n",
    "    bounding_box[1] -= 2\n",
    "    bounding_box[3] += 2\n",
    "    bounding_box = [int(value) for value in bounding_box]\n",
    "    img[bounding_box[1]:bounding_box[3], bounding_box[0]:bounding_box[2], 0:3] = 0.5 * img[bounding_box[1]:bounding_box[3], bounding_box[0]:bounding_box[2], 0:3] + 0.5 * color\n",
    "\n",
    "img = Image.fromarray(img)\n",
    "img.save(\"./test.png\")"
   ]
  },
  {
   "cell_type": "code",
   "execution_count": null,
   "outputs": [],
   "source": [],
   "metadata": {
    "collapsed": false,
    "pycharm": {
     "name": "#%%\n"
    }
   }
  }
 ],
 "metadata": {
  "kernelspec": {
   "display_name": "Python 3",
   "language": "python",
   "name": "python3"
  },
  "language_info": {
   "codemirror_mode": {
    "name": "ipython",
    "version": 3
   },
   "file_extension": ".py",
   "mimetype": "text/x-python",
   "name": "python",
   "nbconvert_exporter": "python",
   "pygments_lexer": "ipython3",
   "version": "3.8.8"
  }
 },
 "nbformat": 4,
 "nbformat_minor": 4
}