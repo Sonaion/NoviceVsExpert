{
 "cells": [
  {
   "cell_type": "code",
   "execution_count": 2,
   "metadata": {},
   "outputs": [],
   "source": [
    "import os\n",
    "import pandas as pd\n",
    "from PIL import Image"
   ]
  },
  {
   "cell_type": "code",
   "execution_count": 12,
   "metadata": {},
   "outputs": [],
   "source": [
    "source_folder = os.getcwd() + \"\\\\CodeSnippets\\\\Source\"\n",
    "snippet_folder = os.getcwd() + \"\\\\CodeSnippets\\\\Snippets\"\n",
    "study_folder = os.getcwd() + \"\\\\CodeSnippets\"\n",
    "\n",
    "name_postfixes = [\"\", \"Input\", \"Right\", \"Wrong1\", \"Wrong2\", \"DontKnow\", \"Next\"]\n",
    "columns = [\"ImagePath\",  \"ImagePathWidth\", \"ImagePathHeight\",\n",
    "           \"InputPath\", \"InputPathWidth\", \"InputPathHeight\", \n",
    "           \"RightPath\", \"RightPathWidth\", \"RightPathHeight\",\n",
    "           \"Wrong1Path\", \"Wrong1PathWidth\", \"Wrong1PathHeight\",\n",
    "           \"Wrong2Path\", \"Wrong2PathWidth\", \"Wrong2PathHeight\",   \n",
    "           \"DontKnowPath\", \"DontKnowPathWidth\", \"DontKnowPathHeight\",\n",
    "           \"NextPath\", \"NextPathWidth\", \"NextPathHeight\",\n",
    "          ]\n",
    "\n",
    "df = pd.DataFrame([], columns=columns)\n",
    "files = os.listdir(source_folder)\n",
    "\n",
    "for file in files:\n",
    "    filename, _file_extension = os.path.splitext(file)\n",
    "    snippet_names = []\n",
    "    for name in name_postfixes:\n",
    "        snippet_names.append(filename + name + \".png\")\n",
    "    \n",
    "    data = []\n",
    "    i = 0\n",
    "    for name in snippet_names:\n",
    "        i += 1\n",
    "        path = snippet_folder + \"\\\\\" + name\n",
    "        img = Image.open(path)\n",
    "        path = \"..\\\\CodeSnippets\\\\Snippets\\\\\" + name\n",
    "        width, height = img.size\n",
    "        data.append(path)\n",
    "        data.append(width)\n",
    "        data.append(height)\n",
    "        \n",
    "    df = df.append(pd.DataFrame([data], columns=columns))\n",
    "    \n",
    "df.to_excel(study_folder + \"\\\\\" + \"conditions.xlsx\", index=False)"
   ]
  },
  {
   "cell_type": "code",
   "execution_count": null,
   "metadata": {},
   "outputs": [],
   "source": []
  },
  {
   "cell_type": "code",
   "execution_count": null,
   "metadata": {},
   "outputs": [],
   "source": []
  }
 ],
 "metadata": {
  "kernelspec": {
   "display_name": "Python 3",
   "language": "python",
   "name": "python3"
  },
  "language_info": {
   "codemirror_mode": {
    "name": "ipython",
    "version": 3
   },
   "file_extension": ".py",
   "mimetype": "text/x-python",
   "name": "python",
   "nbconvert_exporter": "python",
   "pygments_lexer": "ipython3",
   "version": "3.8.5"
  }
 },
 "nbformat": 4,
 "nbformat_minor": 4
}
