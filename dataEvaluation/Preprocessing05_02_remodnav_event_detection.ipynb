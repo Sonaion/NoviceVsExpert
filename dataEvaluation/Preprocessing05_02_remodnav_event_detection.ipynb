{
 "cells": [
  {
   "cell_type": "markdown",
   "source": [
    "# Preprocessing 05 - event detection\n",
    "\n",
    "## Import Libraries"
   ],
   "metadata": {
    "collapsed": false,
    "pycharm": {
     "name": "#%% md\n"
    }
   }
  },
  {
   "cell_type": "code",
   "execution_count": 7,
   "outputs": [],
   "source": [
    "import pandas as pd\n",
    "import numpy as np\n",
    "from dataEvaluation.utils.remodnav import perform_remodnav\n",
    "import scipy.signal as signal\n",
    "import os\n",
    "import contextlib\n",
    "from tqdm.notebook import tqdm"
   ],
   "metadata": {
    "collapsed": false,
    "pycharm": {
     "name": "#%%\n"
    }
   }
  },
  {
   "cell_type": "markdown",
   "source": [
    "## Eyetracking Event Detection"
   ],
   "metadata": {
    "collapsed": false,
    "pycharm": {
     "name": "#%% md\n"
    }
   }
  },
  {
   "cell_type": "code",
   "execution_count": 8,
   "outputs": [],
   "source": [
    "def count_nan_beginning(data):\n",
    "    count = 0\n",
    "    for value in data:\n",
    "        if np.isnan(value):\n",
    "            count += 1\n",
    "        else:\n",
    "            return count\n",
    "    return count\n",
    "\n",
    "def count_nan_end(data):\n",
    "    count = 0\n",
    "    for value in data[::-1]:\n",
    "        if np.isnan(value):\n",
    "            count += 1\n",
    "        else:\n",
    "            return count\n",
    "    return count"
   ],
   "metadata": {
    "collapsed": false,
    "pycharm": {
     "name": "#%%\n"
    }
   }
  },
  {
   "cell_type": "code",
   "execution_count": 9,
   "outputs": [
    {
     "data": {
      "text/plain": "  0%|          | 0/1072 [00:00<?, ?it/s]",
      "application/vnd.jupyter.widget-view+json": {
       "version_major": 2,
       "version_minor": 0,
       "model_id": "b633c0da5eda4bd19d9f5bb0dd167428"
      }
     },
     "metadata": {},
     "output_type": "display_data"
    }
   ],
   "source": [
    "# Read in the Behavioral Data\n",
    "df_behavioral = pd.read_csv(\"./data/filteredData/filtered_data.csv\")\n",
    "\n",
    "sampling_rate = 250.0\n",
    "screen_resolution = (1920, 1080)\n",
    "screen_size = (56.0, 31.5)\n",
    "screen_distance = 60.0\n",
    "x_res = 1920.0\n",
    "y_res = 1080.0\n",
    "\n",
    "df_events = pd.DataFrame(columns=[\"Participant\", \"Algorithm\",\n",
    "                                  \"id\", \"label\", \"start_x\", \"start_y\", \"end_x\", \"end_y\", \"start_time\", \"end_time\",\n",
    "                                  \"amp\", \"peak_vel\", \"med_vel\", \"avg_vel\"])\n",
    "errors = []\n",
    "\n",
    "for index, row in tqdm(df_behavioral.iterrows(), total=len(df_behavioral)):\n",
    "    # read in eyetracking file\n",
    "    df_eyetracking = pd.read_csv(row[\"Eyetracking\"])\n",
    "    participant = row[\"Participant\"]\n",
    "    algorithm = row[\"Algorithm\"]\n",
    "\n",
    "    # normalize the time regarding eyetracking to 0\n",
    "    df_eyetracking[\"time\"] = df_eyetracking[\"time\"].astype(float)\n",
    "    df_eyetracking[\"time\"] = df_eyetracking[\"time\"] - df_eyetracking[\"time\"].iloc[0]\n",
    "\n",
    "    # drop unused columns\n",
    "    df_eyetracking = df_eyetracking.drop(columns=[\"l_gaze_point_in_user_coordinate_system_x\",\n",
    "                                                  \"l_gaze_point_in_user_coordinate_system_y\",\n",
    "                                                  \"l_gaze_point_in_user_coordinate_system_z\",\n",
    "                                                  \"r_gaze_point_in_user_coordinate_system_x\",\n",
    "                                                  \"r_gaze_point_in_user_coordinate_system_y\",\n",
    "                                                  \"r_gaze_point_in_user_coordinate_system_z\",\n",
    "                                                  \"l_gaze_origin_in_user_coordinate_system_x\",\n",
    "                                                  \"l_gaze_origin_in_user_coordinate_system_y\",\n",
    "                                                  \"l_gaze_origin_in_user_coordinate_system_z\",\n",
    "                                                  \"r_gaze_origin_in_user_coordinate_system_x\",\n",
    "                                                  \"r_gaze_origin_in_user_coordinate_system_y\",\n",
    "                                                  \"r_gaze_origin_in_user_coordinate_system_z\"])\n",
    "\n",
    "    # convert eyetracking data to display coordinates\n",
    "    df_eyetracking[\"l_display_x\"] = df_eyetracking[\"l_display_x\"].astype(float) * x_res\n",
    "    df_eyetracking[\"l_display_y\"] = df_eyetracking[\"l_display_y\"].astype(float) * y_res\n",
    "    df_eyetracking[\"r_display_x\"] = df_eyetracking[\"r_display_x\"].astype(float) * x_res\n",
    "    df_eyetracking[\"r_display_y\"] = df_eyetracking[\"r_display_y\"].astype(float) * y_res\n",
    "\n",
    "    # convert eyetracking data to I2MC valid flags\n",
    "    df_eyetracking[\"l_valid\"] = df_eyetracking[\"l_valid\"].astype(int)\n",
    "    df_eyetracking[\"r_valid\"] = df_eyetracking[\"r_valid\"].astype(int)\n",
    "\n",
    "    # convert miss column to right integer used by I2MC\n",
    "    df_eyetracking[\"l_miss_x\"] = df_eyetracking.apply(lambda row: row[\"l_display_x\"] < -x_res or row[\"l_display_x\"] > 2 * x_res, axis=1)\n",
    "    df_eyetracking[\"l_miss_y\"] = df_eyetracking.apply(lambda row: row[\"l_display_y\"] < -y_res or row[\"l_display_y\"] > 2 * y_res, axis=1)\n",
    "    df_eyetracking[\"r_miss_x\"] = df_eyetracking.apply(lambda row: row[\"r_display_x\"] < -x_res or row[\"r_display_x\"] > 2 * x_res, axis=1)\n",
    "    df_eyetracking[\"r_miss_y\"] = df_eyetracking.apply(lambda row: row[\"r_display_y\"] < -y_res or row[\"r_display_y\"] > 2 * y_res, axis=1)\n",
    "\n",
    "    df_eyetracking[\"l_miss\"] = df_eyetracking.apply(lambda row: row[\"l_miss_x\"] or row[\"l_miss_y\"] or not row[\"l_valid\"] >= 1, axis=1)\n",
    "    df_eyetracking[\"r_miss\"] = df_eyetracking.apply(lambda row: row[\"r_miss_x\"] or row[\"r_miss_y\"] or not row[\"r_valid\"] >= 1, axis=1)\n",
    "\n",
    "    # Set a default value for missing data\n",
    "    df_eyetracking.loc[df_eyetracking[\"l_miss\"], \"l_display_x\"] = np.nan\n",
    "    df_eyetracking.loc[df_eyetracking[\"l_miss\"], \"l_display_y\"] = np.nan\n",
    "    df_eyetracking.loc[df_eyetracking[\"r_miss\"], \"r_display_x\"] = np.nan\n",
    "    df_eyetracking.loc[df_eyetracking[\"r_miss\"], \"r_display_y\"] = np.nan\n",
    "\n",
    "    # interpolate missing data\n",
    "    try:\n",
    "        l_display_x = df_eyetracking[\"l_display_x\"].interpolate('cubic')\n",
    "        l_display_y = df_eyetracking[\"l_display_y\"].interpolate('cubic')\n",
    "    except:\n",
    "        l_display_x = df_eyetracking[\"l_display_x\"]\n",
    "        l_display_y = df_eyetracking[\"l_display_y\"]\n",
    "\n",
    "    try:\n",
    "        r_display_x = df_eyetracking[\"r_display_x\"].interpolate('cubic')\n",
    "        r_display_y = df_eyetracking[\"r_display_y\"].interpolate('cubic')\n",
    "    except:\n",
    "        r_display_x = df_eyetracking[\"r_display_x\"]\n",
    "        r_display_y = df_eyetracking[\"r_display_y\"]\n",
    "\n",
    "\n",
    "    with open(os.devnull, 'w') as devnull:\n",
    "        with contextlib.redirect_stdout(devnull):\n",
    "            with contextlib.redirect_stderr(devnull):\n",
    "                # average x of both eyes\n",
    "                avg_x = np.nanmean(np.stack([l_display_x, r_display_x]), axis=0)\n",
    "                # average y of both eyes\n",
    "                avg_y = np.nanmean(np.stack([l_display_y, r_display_y]), axis=0)\n",
    "\n",
    "    # apply moving average filter\n",
    "    avg_x = signal.medfilt(avg_x, kernel_size=7)\n",
    "    avg_y = signal.medfilt(avg_y, kernel_size=7)\n",
    "\n",
    "    nan_beginning = max(count_nan_beginning(avg_x), count_nan_beginning(avg_y))\n",
    "    nan_end = max(count_nan_end(avg_x), count_nan_end(avg_y), 1)\n",
    "\n",
    "    avg_x = avg_x[nan_beginning:-nan_end]\n",
    "    avg_y = avg_y[nan_beginning:-nan_end]\n",
    "\n",
    "    time_offset = 1.0/sampling_rate * nan_beginning\n",
    "\n",
    "    try:\n",
    "        # disallow outputting for next function\n",
    "        with open(os.devnull, 'w') as devnull:\n",
    "            with contextlib.redirect_stdout(devnull):\n",
    "                with contextlib.redirect_stderr(devnull):\n",
    "                    events, pp, clf = perform_remodnav(\n",
    "                        avg_x, avg_y,\n",
    "                        sampling_rate,\n",
    "                        screen_width=screen_size[0],\n",
    "                        screen_width_pixels=screen_resolution[0],\n",
    "                        screen_distance=screen_distance,\n",
    "                        savgol_length=0.02)\n",
    "    except Exception as e:\n",
    "        print(index)\n",
    "        print(e)\n",
    "\n",
    "    df_tmp = pd.DataFrame(columns=df_events.columns)\n",
    "    for cure_idx, value in enumerate(events):\n",
    "        value[\"Participant\"] = participant\n",
    "        value[\"Algorithm\"] = algorithm\n",
    "        value[\"start_time\"] += time_offset\n",
    "        value[\"end_time\"] += time_offset\n",
    "        df_tmp = df_tmp.append(value, ignore_index=True)\n",
    "\n",
    "    df_tmp = df_tmp.reset_index(drop=True)\n",
    "    # append the non duplicated rows to the final dataframe\n",
    "    df_events = df_events.append(df_tmp)\n",
    "    df_events = df_events.reset_index(drop=True)"
   ],
   "metadata": {
    "collapsed": false,
    "pycharm": {
     "name": "#%%\n"
    }
   }
  },
  {
   "cell_type": "markdown",
   "source": [
    "## Export The Data"
   ],
   "metadata": {
    "collapsed": false,
    "pycharm": {
     "name": "#%% md\n"
    }
   }
  },
  {
   "cell_type": "code",
   "execution_count": 11,
   "outputs": [
    {
     "data": {
      "text/plain": "  0%|          | 0/1072 [00:00<?, ?it/s]",
      "application/vnd.jupyter.widget-view+json": {
       "version_major": 2,
       "version_minor": 0,
       "model_id": "2e3b4993899a4163acb832eb086c2f85"
      }
     },
     "metadata": {},
     "output_type": "display_data"
    },
    {
     "name": "stdout",
     "output_type": "stream",
     "text": [
      "36 ReverseArray\n",
      "41 CheckIfLettersOnly\n",
      "60 ArrayAverage\n"
     ]
    }
   ],
   "source": [
    "for (participant, algorithm), df_group in tqdm(df_events.groupby([\"Participant\", \"Algorithm\"])):\n",
    "    df_group = df_group.reset_index(drop=True)\n",
    "    df_group = df_group.sort_values(by=\"start_time\")\n",
    "    # drop columns that are not needed\n",
    "    df_group = df_group.drop(columns=[\"Participant\", \"Algorithm\"])\n",
    "    df_group.to_csv(f\"./data/filteredData/Participant{str(participant).zfill(2)}/{algorithm}_eyetracking.csv\")"
   ],
   "metadata": {
    "collapsed": false,
    "pycharm": {
     "name": "#%%\n"
    }
   }
  },
  {
   "cell_type": "code",
   "execution_count": null,
   "outputs": [],
   "source": [],
   "metadata": {
    "collapsed": false,
    "pycharm": {
     "name": "#%%\n"
    }
   }
  }
 ],
 "metadata": {
  "kernelspec": {
   "display_name": "Python 3",
   "language": "python",
   "name": "python3"
  },
  "language_info": {
   "codemirror_mode": {
    "name": "ipython",
    "version": 2
   },
   "file_extension": ".py",
   "mimetype": "text/x-python",
   "name": "python",
   "nbconvert_exporter": "python",
   "pygments_lexer": "ipython2",
   "version": "2.7.6"
  }
 },
 "nbformat": 4,
 "nbformat_minor": 0
}