{
 "cells": [
  {
   "cell_type": "markdown",
   "metadata": {
    "collapsed": true,
    "pycharm": {
     "name": "#%% md\n"
    }
   },
   "source": [
    "# Notebook for calculating the experience score for the participants and set up the meta data in a useful format"
   ]
  },
  {
   "cell_type": "code",
   "execution_count": 1,
   "outputs": [],
   "source": [
    "import pandas as pd\n",
    "import numpy as np\n",
    "import seaborn as sns"
   ],
   "metadata": {
    "collapsed": false,
    "pycharm": {
     "name": "#%%\n"
    }
   }
  },
  {
   "cell_type": "code",
   "execution_count": 2,
   "outputs": [],
   "source": [
    "df_questionnaire = pd.read_excel(\"./data/Questionnaire.xlsx\", sheet_name=\"Experience\")\n",
    "# transpose the dataframe\n",
    "df_questionnaire = df_questionnaire.transpose()\n",
    "# use first row as column names\n",
    "df_questionnaire.columns = df_questionnaire.iloc[0]\n",
    "#delete first row\n",
    "df_questionnaire = df_questionnaire.drop(df_questionnaire.index[0])\n",
    "#drop row where years of programming is missing\n",
    "df_questionnaire = df_questionnaire.dropna(subset=[\"yearsAtWork\"])\n",
    "#change all NaN to 0\n",
    "df_questionnaire = df_questionnaire.fillna(0)\n",
    "\n",
    "# drop row with \"Participant\" being 9\n",
    "df_questionnaire = df_questionnaire.drop(9)\n",
    "\n",
    "df_questionnaire[\"yearsOfProgramming\"] = df_questionnaire[\"yearsOfProgramming\"].astype(float)\n",
    "df_questionnaire[\"yearsOfJava\"] = df_questionnaire[\"yearsOfJava\"].astype(float)"
   ],
   "metadata": {
    "collapsed": false,
    "pycharm": {
     "name": "#%%\n"
    }
   }
  },
  {
   "cell_type": "markdown",
   "source": [
    "## Check Correlation Effects"
   ],
   "metadata": {
    "collapsed": false,
    "pycharm": {
     "name": "#%% md\n"
    }
   }
  },
  {
   "cell_type": "code",
   "execution_count": 3,
   "outputs": [
    {
     "name": "stderr",
     "output_type": "stream",
     "text": [
      "<ipython-input-3-e8b318895153>:3: FutureWarning: Using a non-tuple sequence for multidimensional indexing is deprecated; use `arr[tuple(seq)]` instead of `arr[seq]`. In the future this will be interpreted as an array index, `arr[np.array(seq)]`, which will result either in an error or a different result.\n",
      "  corr.values[[np.arange(corr.shape[0])] * 2] = 0\n"
     ]
    },
    {
     "data": {
      "text/plain": "Participant                     yearsOfProgramming  \\\nParticipant                                          \nyearsOfProgramming                        0.000000   \nyearsOfProfessionalProgramming            0.912879   \nyearsOfJava                               0.834671   \nlogicalExperience                         0.196881   \nfunctionalExperience                      0.277054   \nimperativExperience                       0.298009   \nobjectExperience                          0.405389   \ncomparedToStudent                        -0.155277   \ncomparedToProfessional                    0.222305   \n\nParticipant                     yearsOfProfessionalProgramming  yearsOfJava  \\\nParticipant                                                                   \nyearsOfProgramming                                    0.912879     0.834671   \nyearsOfProfessionalProgramming                        0.000000     0.755738   \nyearsOfJava                                           0.755738     0.000000   \nlogicalExperience                                     0.162842     0.107167   \nfunctionalExperience                                  0.153438     0.313488   \nimperativExperience                                   0.211286     0.186688   \nobjectExperience                                      0.451542     0.348047   \ncomparedToStudent                                    -0.067585    -0.123541   \ncomparedToProfessional                                0.287723     0.267995   \n\nParticipant                     logicalExperience  functionalExperience  \\\nParticipant                                                               \nyearsOfProgramming                       0.196881              0.277054   \nyearsOfProfessionalProgramming           0.162842              0.153438   \nyearsOfJava                              0.107167              0.313488   \nlogicalExperience                        0.000000              0.438185   \nfunctionalExperience                     0.438185              0.000000   \nimperativExperience                      0.364237              0.311776   \nobjectExperience                         0.112319              0.099272   \ncomparedToStudent                        0.161150              0.019113   \ncomparedToProfessional                   0.299794              0.308248   \n\nParticipant                     imperativExperience  objectExperience  \\\nParticipant                                                             \nyearsOfProgramming                         0.298009          0.405389   \nyearsOfProfessionalProgramming             0.211286          0.451542   \nyearsOfJava                                0.186688          0.348047   \nlogicalExperience                          0.364237          0.112319   \nfunctionalExperience                       0.311776          0.099272   \nimperativExperience                        0.000000          0.393788   \nobjectExperience                           0.393788          0.000000   \ncomparedToStudent                         -0.083585          0.078476   \ncomparedToProfessional                     0.211158          0.393626   \n\nParticipant                     comparedToStudent  comparedToProfessional  \nParticipant                                                                \nyearsOfProgramming                      -0.155277                0.222305  \nyearsOfProfessionalProgramming          -0.067585                0.287723  \nyearsOfJava                             -0.123541                0.267995  \nlogicalExperience                        0.161150                0.299794  \nfunctionalExperience                     0.019113                0.308248  \nimperativExperience                     -0.083585                0.211158  \nobjectExperience                         0.078476                0.393626  \ncomparedToStudent                        0.000000                0.496090  \ncomparedToProfessional                   0.496090                0.000000  ",
      "text/html": "<div>\n<style scoped>\n    .dataframe tbody tr th:only-of-type {\n        vertical-align: middle;\n    }\n\n    .dataframe tbody tr th {\n        vertical-align: top;\n    }\n\n    .dataframe thead th {\n        text-align: right;\n    }\n</style>\n<table border=\"1\" class=\"dataframe\">\n  <thead>\n    <tr style=\"text-align: right;\">\n      <th>Participant</th>\n      <th>yearsOfProgramming</th>\n      <th>yearsOfProfessionalProgramming</th>\n      <th>yearsOfJava</th>\n      <th>logicalExperience</th>\n      <th>functionalExperience</th>\n      <th>imperativExperience</th>\n      <th>objectExperience</th>\n      <th>comparedToStudent</th>\n      <th>comparedToProfessional</th>\n    </tr>\n    <tr>\n      <th>Participant</th>\n      <th></th>\n      <th></th>\n      <th></th>\n      <th></th>\n      <th></th>\n      <th></th>\n      <th></th>\n      <th></th>\n      <th></th>\n    </tr>\n  </thead>\n  <tbody>\n    <tr>\n      <th>yearsOfProgramming</th>\n      <td>0.000000</td>\n      <td>0.912879</td>\n      <td>0.834671</td>\n      <td>0.196881</td>\n      <td>0.277054</td>\n      <td>0.298009</td>\n      <td>0.405389</td>\n      <td>-0.155277</td>\n      <td>0.222305</td>\n    </tr>\n    <tr>\n      <th>yearsOfProfessionalProgramming</th>\n      <td>0.912879</td>\n      <td>0.000000</td>\n      <td>0.755738</td>\n      <td>0.162842</td>\n      <td>0.153438</td>\n      <td>0.211286</td>\n      <td>0.451542</td>\n      <td>-0.067585</td>\n      <td>0.287723</td>\n    </tr>\n    <tr>\n      <th>yearsOfJava</th>\n      <td>0.834671</td>\n      <td>0.755738</td>\n      <td>0.000000</td>\n      <td>0.107167</td>\n      <td>0.313488</td>\n      <td>0.186688</td>\n      <td>0.348047</td>\n      <td>-0.123541</td>\n      <td>0.267995</td>\n    </tr>\n    <tr>\n      <th>logicalExperience</th>\n      <td>0.196881</td>\n      <td>0.162842</td>\n      <td>0.107167</td>\n      <td>0.000000</td>\n      <td>0.438185</td>\n      <td>0.364237</td>\n      <td>0.112319</td>\n      <td>0.161150</td>\n      <td>0.299794</td>\n    </tr>\n    <tr>\n      <th>functionalExperience</th>\n      <td>0.277054</td>\n      <td>0.153438</td>\n      <td>0.313488</td>\n      <td>0.438185</td>\n      <td>0.000000</td>\n      <td>0.311776</td>\n      <td>0.099272</td>\n      <td>0.019113</td>\n      <td>0.308248</td>\n    </tr>\n    <tr>\n      <th>imperativExperience</th>\n      <td>0.298009</td>\n      <td>0.211286</td>\n      <td>0.186688</td>\n      <td>0.364237</td>\n      <td>0.311776</td>\n      <td>0.000000</td>\n      <td>0.393788</td>\n      <td>-0.083585</td>\n      <td>0.211158</td>\n    </tr>\n    <tr>\n      <th>objectExperience</th>\n      <td>0.405389</td>\n      <td>0.451542</td>\n      <td>0.348047</td>\n      <td>0.112319</td>\n      <td>0.099272</td>\n      <td>0.393788</td>\n      <td>0.000000</td>\n      <td>0.078476</td>\n      <td>0.393626</td>\n    </tr>\n    <tr>\n      <th>comparedToStudent</th>\n      <td>-0.155277</td>\n      <td>-0.067585</td>\n      <td>-0.123541</td>\n      <td>0.161150</td>\n      <td>0.019113</td>\n      <td>-0.083585</td>\n      <td>0.078476</td>\n      <td>0.000000</td>\n      <td>0.496090</td>\n    </tr>\n    <tr>\n      <th>comparedToProfessional</th>\n      <td>0.222305</td>\n      <td>0.287723</td>\n      <td>0.267995</td>\n      <td>0.299794</td>\n      <td>0.308248</td>\n      <td>0.211158</td>\n      <td>0.393626</td>\n      <td>0.496090</td>\n      <td>0.000000</td>\n    </tr>\n  </tbody>\n</table>\n</div>"
     },
     "execution_count": 3,
     "metadata": {},
     "output_type": "execute_result"
    }
   ],
   "source": [
    "# calculate the pearson correlation between the years of programming and the years of java\n",
    "corr = df_questionnaire.corr(method=\"pearson\")\n",
    "corr.values[[np.arange(corr.shape[0])] * 2] = 0\n",
    "corr"
   ],
   "metadata": {
    "collapsed": false,
    "pycharm": {
     "name": "#%%\n"
    }
   }
  },
  {
   "cell_type": "code",
   "execution_count": 4,
   "outputs": [],
   "source": [
    "df_behavioral = pd.read_csv(\"./data/filteredData/filtered_data.csv\")\n",
    "# drop unnamed column\n",
    "df_behavioral = df_behavioral[df_behavioral[\"Subpart\"] == \"Code\"]\n",
    "df_behavioral[\"Behavioral\"] = df_behavioral[\"Behavioral\"].apply(lambda x: \"Right\" if x == \"Right\" else \"Wrong\")\n",
    "df_behavioral[\"Duration\"] = df_behavioral[\"EndTime\"] - df_behavioral[\"StartTime\"]"
   ],
   "metadata": {
    "collapsed": false,
    "pycharm": {
     "name": "#%%\n"
    }
   }
  },
  {
   "cell_type": "code",
   "execution_count": 5,
   "outputs": [],
   "source": [
    "lowest = df_behavioral[\"Duration\"].quantile(0.05)\n",
    "highest = df_behavioral[\"Duration\"].quantile(0.95)\n",
    "\n",
    "# kick out all rows where the duration is not in the 5% quantile range\n",
    "df_behavioral[\"IsOutlier\"] = True\n",
    "df_behavioral.loc[((df_behavioral[\"Duration\"] > lowest) & (df_behavioral[\"Duration\"] < highest))\n",
    "                  | (df_behavioral[\"Duration\"] <= lowest) & (\n",
    "                          df_behavioral[\"Behavioral\"] == \"Right\"), \"IsOutlier\"] = False"
   ],
   "metadata": {
    "collapsed": false,
    "pycharm": {
     "name": "#%%\n"
    }
   }
  },
  {
   "cell_type": "code",
   "execution_count": 6,
   "outputs": [
    {
     "data": {
      "text/plain": "<Figure size 432x288 with 1 Axes>",
      "image/png": "[encoded data removed]"
     },
     "metadata": {
      "needs_background": "light"
     },
     "output_type": "display_data"
    }
   ],
   "source": [
    "df_tmp = df_behavioral.groupby(\"Participant\")\\\n",
    "    .apply(lambda df: len(df[df[\"IsOutlier\"] == False]))\\\n",
    "    .to_frame(\"Duration\")\n",
    "\n",
    "# create a histogram of the duration of the snippets\n",
    "g = sns.histplot(df_tmp[\"Duration\"], bins=32, label=\"Participants\")\n",
    "g.set_xlabel(\"Number of total Responses per Participant\")\n",
    "g.set_ylabel(\"Number of Participants\")\n",
    "g.set_title(\"Distribution of the number of responses\")\n",
    "g.set_xlim(0, 33);"
   ],
   "metadata": {
    "collapsed": false,
    "pycharm": {
     "name": "#%%\n"
    }
   }
  },
  {
   "cell_type": "code",
   "execution_count": 7,
   "outputs": [],
   "source": [
    "df_behavioral = df_behavioral.set_index(\"Participant\", drop=True)"
   ],
   "metadata": {
    "collapsed": false,
    "pycharm": {
     "name": "#%%\n"
    }
   }
  },
  {
   "cell_type": "markdown",
   "source": [],
   "metadata": {
    "collapsed": false
   }
  },
  {
   "cell_type": "code",
   "execution_count": 8,
   "outputs": [],
   "source": [
    "df_behavioral[\"SumCorrect\"] = df_behavioral.groupby(\"Participant\")\\\n",
    "    .apply(lambda df: df[df[\"IsOutlier\"] == False])\\\n",
    "    .groupby(\"Participant\")\\\n",
    "    .apply(lambda df: len(df[df[\"Behavioral\"] == \"Right\"]))\n",
    "\n",
    "df_behavioral[\"Total\"] = df_behavioral.groupby(\"Participant\")\\\n",
    "    .apply(lambda df: len(df[df[\"IsOutlier\"] == False]))\n",
    "\n",
    "df_behavioral[\"SumDurationInMinutes\"] = pd.read_csv(\"./data/filteredData/filtered_data.csv\")\\\n",
    "    .groupby(\"Participant\")\\\n",
    "    .apply(lambda df: df[\"EndTime\"].array[-1] - df[\"StartTime\"].array[0] + 30.0)\n",
    "\n",
    "df_behavioral[\"SkillScore\"] = df_behavioral[\"SumCorrect\"] / (df_behavioral[\"SumDurationInMinutes\"] / 60.0)"
   ],
   "metadata": {
    "collapsed": false,
    "pycharm": {
     "name": "#%%\n"
    }
   }
  },
  {
   "cell_type": "code",
   "execution_count": 9,
   "outputs": [
    {
     "data": {
      "text/plain": "Participant\n1     4013.279641\n2     4144.059902\n3     2535.910764\n4     3985.479718\n5     3863.480571\n6     4018.194175\n7     4021.702411\n10    3454.733665\n11    4070.273653\n12    4104.600060\n13    4176.217116\n14    4202.448496\n18    4279.459799\n22    4247.962996\n24    3984.307315\n25    4331.132959\n28    4140.462543\n35    2496.782760\n36    3764.501752\n37    4298.087901\n38    3227.601457\n41    4223.502276\n42    4658.015541\n46    5120.639623\n49    4239.946382\n50    4157.481758\n55    4152.392179\n58    4272.951816\n59    4226.120565\n60    4364.798324\n61    4344.790617\n62    4268.889176\n63    4173.298634\n66    3049.293793\n67    4185.514052\n68    2659.274382\n70    4436.403413\n71    3473.124016\nName: SumDurationInMinutes, dtype: float64"
     },
     "execution_count": 9,
     "metadata": {},
     "output_type": "execute_result"
    }
   ],
   "source": [
    "df_behavioral[~df_behavioral.index.duplicated(keep='first')][\"SumDurationInMinutes\"]"
   ],
   "metadata": {
    "collapsed": false,
    "pycharm": {
     "name": "#%%\n"
    }
   }
  },
  {
   "cell_type": "code",
   "execution_count": 10,
   "outputs": [
    {
     "data": {
      "text/plain": "            Subpart  StartTime     EndTime  \\\nParticipant                                  \n1              Code        0.0   12.390280   \n2              Code        0.0   40.635115   \n3              Code        0.0   92.877823   \n4              Code        0.0   94.990470   \n5              Code        0.0  109.680191   \n6              Code        0.0   28.998734   \n7              Code        0.0   28.138863   \n10             Code        0.0   31.310999   \n11             Code        0.0   51.498158   \n12             Code        0.0  159.448936   \n13             Code        0.0   70.163245   \n14             Code        0.0   20.841279   \n18             Code        0.0   54.980169   \n22             Code        0.0   44.327446   \n24             Code        0.0   29.019001   \n25             Code        0.0   10.538237   \n28             Code        0.0  180.048955   \n35             Code        0.0   31.436806   \n36             Code        0.0   24.274830   \n37             Code        0.0   26.506726   \n38             Code        0.0   19.390261   \n41             Code        0.0   61.172867   \n42             Code        0.0   22.306895   \n46             Code        0.0  180.038784   \n49             Code        0.0  105.149613   \n50             Code        0.0   33.170750   \n55             Code        0.0  180.047289   \n58             Code        0.0  180.050434   \n59             Code        0.0   16.995838   \n60             Code        0.0   48.674718   \n61             Code        0.0   11.003654   \n62             Code        0.0   22.139028   \n63             Code        0.0   36.052612   \n66             Code        0.0   25.362069   \n67             Code        0.0   24.222430   \n68             Code        0.0   51.160555   \n70             Code        0.0   84.501124   \n71             Code        0.0   45.013098   \n\n                                                   Eyetracking  \\\nParticipant                                                      \n1            ./data/filteredData/Participant01/IsPrimecode_...   \n2            ./data/filteredData/Participant02/HeightOfTree...   \n3            ./data/filteredData/Participant03/SiebDesErato...   \n4            ./data/filteredData/Participant04/HIndexcode_e...   \n5            ./data/filteredData/Participant05/SiebDesErato...   \n6            ./data/filteredData/Participant06/RemoveDouble...   \n7            ./data/filteredData/Participant07/InsertSortco...   \n10           ./data/filteredData/Participant10/ContainsSubs...   \n11           ./data/filteredData/Participant11/DumpSortingc...   \n12           ./data/filteredData/Participant12/RabbitTortoi...   \n13           ./data/filteredData/Participant13/ReverseQueue...   \n14           ./data/filteredData/Participant14/ArrayAverage...   \n18           ./data/filteredData/Participant18/ContainsSubs...   \n22           ./data/filteredData/Participant22/Vehiclecode_...   \n24           ./data/filteredData/Participant24/Rectanglecod...   \n25           ./data/filteredData/Participant25/SumArraycode...   \n28           ./data/filteredData/Participant28/HIndexcode_e...   \n35           ./data/filteredData/Participant35/GreatestComm...   \n36           ./data/filteredData/Participant36/ArrayAverage...   \n37           ./data/filteredData/Participant37/CheckIfLette...   \n38           ./data/filteredData/Participant38/IsPrimecode_...   \n41           ./data/filteredData/Participant41/LengthOfLast...   \n42           ./data/filteredData/Participant42/SumArraycode...   \n46           ./data/filteredData/Participant46/IsAnagramcod...   \n49           ./data/filteredData/Participant49/CheckIfLette...   \n50           ./data/filteredData/Participant50/CheckIfLette...   \n55           ./data/filteredData/Participant55/SiebDesErato...   \n58           ./data/filteredData/Participant58/SiebDesErato...   \n59           ./data/filteredData/Participant59/ReverseQueue...   \n60           ./data/filteredData/Participant60/BogoSortcode...   \n61           ./data/filteredData/Participant61/IsPrimecode_...   \n62           ./data/filteredData/Participant62/Ackermancode...   \n63           ./data/filteredData/Participant63/HeightOfTree...   \n66           ./data/filteredData/Participant66/Powercode_ey...   \n67           ./data/filteredData/Participant67/RectanglePow...   \n68           ./data/filteredData/Participant68/GreatestComm...   \n70           ./data/filteredData/Participant70/PermuteStrin...   \n71           ./data/filteredData/Participant71/HIndexcode_e...   \n\n                                                           EEG  SumCorrect  \\\nParticipant                                                                  \n1            ./data/filteredData/Participant01/IsPrimecode_...          22   \n2            ./data/filteredData/Participant02/HeightOfTree...          26   \n3            ./data/filteredData/Participant03/SiebDesErato...          13   \n4            ./data/filteredData/Participant04/HIndexcode_e...          28   \n5            ./data/filteredData/Participant05/SiebDesErato...          20   \n6            ./data/filteredData/Participant06/RemoveDouble...          21   \n7            ./data/filteredData/Participant07/InsertSortco...          28   \n10           ./data/filteredData/Participant10/ContainsSubs...          20   \n11           ./data/filteredData/Participant11/DumpSortingc...          12   \n12           ./data/filteredData/Participant12/RabbitTortoi...          21   \n13           ./data/filteredData/Participant13/ReverseQueue...          29   \n14           ./data/filteredData/Participant14/ArrayAverage...          22   \n18           ./data/filteredData/Participant18/ContainsSubs...          16   \n22           ./data/filteredData/Participant22/Vehiclecode_...          24   \n24           ./data/filteredData/Participant24/Rectanglecod...          14   \n25           ./data/filteredData/Participant25/SumArraycode...          21   \n28           ./data/filteredData/Participant28/HIndexcode_e...          20   \n35           ./data/filteredData/Participant35/GreatestComm...          27   \n36           ./data/filteredData/Participant36/ArrayAverage...          23   \n37           ./data/filteredData/Participant37/CheckIfLette...          23   \n38           ./data/filteredData/Participant38/IsPrimecode_...          21   \n41           ./data/filteredData/Participant41/LengthOfLast...          22   \n42           ./data/filteredData/Participant42/SumArraycode...          24   \n46           ./data/filteredData/Participant46/IsAnagramcod...           7   \n49           ./data/filteredData/Participant49/CheckIfLette...          10   \n50           ./data/filteredData/Participant50/CheckIfLette...          17   \n55           ./data/filteredData/Participant55/SiebDesErato...          14   \n58           ./data/filteredData/Participant58/SiebDesErato...          13   \n59           ./data/filteredData/Participant59/ReverseQueue...          19   \n60           ./data/filteredData/Participant60/BogoSortcode...          29   \n61           ./data/filteredData/Participant61/IsPrimecode_...          14   \n62           ./data/filteredData/Participant62/Ackermancode...          25   \n63           ./data/filteredData/Participant63/HeightOfTree...          23   \n66           ./data/filteredData/Participant66/Powercode_ee...          27   \n67           ./data/filteredData/Participant67/RectanglePow...          18   \n68           ./data/filteredData/Participant68/GreatestComm...          19   \n70           ./data/filteredData/Participant70/PermuteStrin...          17   \n71           ./data/filteredData/Participant71/HIndexcode_e...          25   \n\n             Total  SumDurationInMinutes  SkillScore  \nParticipant                                           \n1               32           4013.279641    0.328908  \n2               32           4144.059902    0.376442  \n3               15           2535.910764    0.307582  \n4               32           3985.479718    0.421530  \n5               32           3863.480571    0.310601  \n6               28           4018.194175    0.313574  \n7               31           4021.702411    0.417734  \n10              30           3454.733665    0.347349  \n11              19           4070.273653    0.176892  \n12              27           4104.600060    0.306973  \n13              32           4176.217116    0.416645  \n14              30           4202.448496    0.314103  \n18              24           4279.459799    0.224327  \n22              27           4247.962996    0.338986  \n24              25           3984.307315    0.210827  \n25              27           4331.132959    0.290917  \n28              29           4140.462543    0.289823  \n35              31           2496.782760    0.648835  \n36              30           3764.501752    0.366582  \n37              30           4298.087901    0.321073  \n38              30           3227.601457    0.390383  \n41              27           4223.502276    0.312537  \n42              32           4658.015541    0.309145  \n46               8           5120.639623    0.082021  \n49              15           4239.946382    0.141511  \n50              32           4157.481758    0.245341  \n55              23           4152.392179    0.202293  \n58              21           4272.951816    0.182544  \n59              25           4226.120565    0.269751  \n60              30           4364.798324    0.398644  \n61              30           4344.790617    0.193335  \n62              30           4268.889176    0.351379  \n63              27           4173.298634    0.330674  \n66              32           3049.293793    0.531271  \n67              22           4185.514052    0.258033  \n68              23           2659.274382    0.428688  \n70              25           4436.403413    0.229916  \n71              31           3473.124016    0.431888  ",
      "text/html": "<div>\n<style scoped>\n    .dataframe tbody tr th:only-of-type {\n        vertical-align: middle;\n    }\n\n    .dataframe tbody tr th {\n        vertical-align: top;\n    }\n\n    .dataframe thead th {\n        text-align: right;\n    }\n</style>\n<table border=\"1\" class=\"dataframe\">\n  <thead>\n    <tr style=\"text-align: right;\">\n      <th></th>\n      <th>Subpart</th>\n      <th>StartTime</th>\n      <th>EndTime</th>\n      <th>Eyetracking</th>\n      <th>EEG</th>\n      <th>SumCorrect</th>\n      <th>Total</th>\n      <th>SumDurationInMinutes</th>\n      <th>SkillScore</th>\n    </tr>\n    <tr>\n      <th>Participant</th>\n      <th></th>\n      <th></th>\n      <th></th>\n      <th></th>\n      <th></th>\n      <th></th>\n      <th></th>\n      <th></th>\n      <th></th>\n    </tr>\n  </thead>\n  <tbody>\n    <tr>\n      <th>1</th>\n      <td>Code</td>\n      <td>0.0</td>\n      <td>12.390280</td>\n      <td>./data/filteredData/Participant01/IsPrimecode_...</td>\n      <td>./data/filteredData/Participant01/IsPrimecode_...</td>\n      <td>22</td>\n      <td>32</td>\n      <td>4013.279641</td>\n      <td>0.328908</td>\n    </tr>\n    <tr>\n      <th>2</th>\n      <td>Code</td>\n      <td>0.0</td>\n      <td>40.635115</td>\n      <td>./data/filteredData/Participant02/HeightOfTree...</td>\n      <td>./data/filteredData/Participant02/HeightOfTree...</td>\n      <td>26</td>\n      <td>32</td>\n      <td>4144.059902</td>\n      <td>0.376442</td>\n    </tr>\n    <tr>\n      <th>3</th>\n      <td>Code</td>\n      <td>0.0</td>\n      <td>92.877823</td>\n      <td>./data/filteredData/Participant03/SiebDesErato...</td>\n      <td>./data/filteredData/Participant03/SiebDesErato...</td>\n      <td>13</td>\n      <td>15</td>\n      <td>2535.910764</td>\n      <td>0.307582</td>\n    </tr>\n    <tr>\n      <th>4</th>\n      <td>Code</td>\n      <td>0.0</td>\n      <td>94.990470</td>\n      <td>./data/filteredData/Participant04/HIndexcode_e...</td>\n      <td>./data/filteredData/Participant04/HIndexcode_e...</td>\n      <td>28</td>\n      <td>32</td>\n      <td>3985.479718</td>\n      <td>0.421530</td>\n    </tr>\n    <tr>\n      <th>5</th>\n      <td>Code</td>\n      <td>0.0</td>\n      <td>109.680191</td>\n      <td>./data/filteredData/Participant05/SiebDesErato...</td>\n      <td>./data/filteredData/Participant05/SiebDesErato...</td>\n      <td>20</td>\n      <td>32</td>\n      <td>3863.480571</td>\n      <td>0.310601</td>\n    </tr>\n    <tr>\n      <th>6</th>\n      <td>Code</td>\n      <td>0.0</td>\n      <td>28.998734</td>\n      <td>./data/filteredData/Participant06/RemoveDouble...</td>\n      <td>./data/filteredData/Participant06/RemoveDouble...</td>\n      <td>21</td>\n      <td>28</td>\n      <td>4018.194175</td>\n      <td>0.313574</td>\n    </tr>\n    <tr>\n      <th>7</th>\n      <td>Code</td>\n      <td>0.0</td>\n      <td>28.138863</td>\n      <td>./data/filteredData/Participant07/InsertSortco...</td>\n      <td>./data/filteredData/Participant07/InsertSortco...</td>\n      <td>28</td>\n      <td>31</td>\n      <td>4021.702411</td>\n      <td>0.417734</td>\n    </tr>\n    <tr>\n      <th>10</th>\n      <td>Code</td>\n      <td>0.0</td>\n      <td>31.310999</td>\n      <td>./data/filteredData/Participant10/ContainsSubs...</td>\n      <td>./data/filteredData/Participant10/ContainsSubs...</td>\n      <td>20</td>\n      <td>30</td>\n      <td>3454.733665</td>\n      <td>0.347349</td>\n    </tr>\n    <tr>\n      <th>11</th>\n      <td>Code</td>\n      <td>0.0</td>\n      <td>51.498158</td>\n      <td>./data/filteredData/Participant11/DumpSortingc...</td>\n      <td>./data/filteredData/Participant11/DumpSortingc...</td>\n      <td>12</td>\n      <td>19</td>\n      <td>4070.273653</td>\n      <td>0.176892</td>\n    </tr>\n    <tr>\n      <th>12</th>\n      <td>Code</td>\n      <td>0.0</td>\n      <td>159.448936</td>\n      <td>./data/filteredData/Participant12/RabbitTortoi...</td>\n      <td>./data/filteredData/Participant12/RabbitTortoi...</td>\n      <td>21</td>\n      <td>27</td>\n      <td>4104.600060</td>\n      <td>0.306973</td>\n    </tr>\n    <tr>\n      <th>13</th>\n      <td>Code</td>\n      <td>0.0</td>\n      <td>70.163245</td>\n      <td>./data/filteredData/Participant13/ReverseQueue...</td>\n      <td>./data/filteredData/Participant13/ReverseQueue...</td>\n      <td>29</td>\n      <td>32</td>\n      <td>4176.217116</td>\n      <td>0.416645</td>\n    </tr>\n    <tr>\n      <th>14</th>\n      <td>Code</td>\n      <td>0.0</td>\n      <td>20.841279</td>\n      <td>./data/filteredData/Participant14/ArrayAverage...</td>\n      <td>./data/filteredData/Participant14/ArrayAverage...</td>\n      <td>22</td>\n      <td>30</td>\n      <td>4202.448496</td>\n      <td>0.314103</td>\n    </tr>\n    <tr>\n      <th>18</th>\n      <td>Code</td>\n      <td>0.0</td>\n      <td>54.980169</td>\n      <td>./data/filteredData/Participant18/ContainsSubs...</td>\n      <td>./data/filteredData/Participant18/ContainsSubs...</td>\n      <td>16</td>\n      <td>24</td>\n      <td>4279.459799</td>\n      <td>0.224327</td>\n    </tr>\n    <tr>\n      <th>22</th>\n      <td>Code</td>\n      <td>0.0</td>\n      <td>44.327446</td>\n      <td>./data/filteredData/Participant22/Vehiclecode_...</td>\n      <td>./data/filteredData/Participant22/Vehiclecode_...</td>\n      <td>24</td>\n      <td>27</td>\n      <td>4247.962996</td>\n      <td>0.338986</td>\n    </tr>\n    <tr>\n      <th>24</th>\n      <td>Code</td>\n      <td>0.0</td>\n      <td>29.019001</td>\n      <td>./data/filteredData/Participant24/Rectanglecod...</td>\n      <td>./data/filteredData/Participant24/Rectanglecod...</td>\n      <td>14</td>\n      <td>25</td>\n      <td>3984.307315</td>\n      <td>0.210827</td>\n    </tr>\n    <tr>\n      <th>25</th>\n      <td>Code</td>\n      <td>0.0</td>\n      <td>10.538237</td>\n      <td>./data/filteredData/Participant25/SumArraycode...</td>\n      <td>./data/filteredData/Participant25/SumArraycode...</td>\n      <td>21</td>\n      <td>27</td>\n      <td>4331.132959</td>\n      <td>0.290917</td>\n    </tr>\n    <tr>\n      <th>28</th>\n      <td>Code</td>\n      <td>0.0</td>\n      <td>180.048955</td>\n      <td>./data/filteredData/Participant28/HIndexcode_e...</td>\n      <td>./data/filteredData/Participant28/HIndexcode_e...</td>\n      <td>20</td>\n      <td>29</td>\n      <td>4140.462543</td>\n      <td>0.289823</td>\n    </tr>\n    <tr>\n      <th>35</th>\n      <td>Code</td>\n      <td>0.0</td>\n      <td>31.436806</td>\n      <td>./data/filteredData/Participant35/GreatestComm...</td>\n      <td>./data/filteredData/Participant35/GreatestComm...</td>\n      <td>27</td>\n      <td>31</td>\n      <td>2496.782760</td>\n      <td>0.648835</td>\n    </tr>\n    <tr>\n      <th>36</th>\n      <td>Code</td>\n      <td>0.0</td>\n      <td>24.274830</td>\n      <td>./data/filteredData/Participant36/ArrayAverage...</td>\n      <td>./data/filteredData/Participant36/ArrayAverage...</td>\n      <td>23</td>\n      <td>30</td>\n      <td>3764.501752</td>\n      <td>0.366582</td>\n    </tr>\n    <tr>\n      <th>37</th>\n      <td>Code</td>\n      <td>0.0</td>\n      <td>26.506726</td>\n      <td>./data/filteredData/Participant37/CheckIfLette...</td>\n      <td>./data/filteredData/Participant37/CheckIfLette...</td>\n      <td>23</td>\n      <td>30</td>\n      <td>4298.087901</td>\n      <td>0.321073</td>\n    </tr>\n    <tr>\n      <th>38</th>\n      <td>Code</td>\n      <td>0.0</td>\n      <td>19.390261</td>\n      <td>./data/filteredData/Participant38/IsPrimecode_...</td>\n      <td>./data/filteredData/Participant38/IsPrimecode_...</td>\n      <td>21</td>\n      <td>30</td>\n      <td>3227.601457</td>\n      <td>0.390383</td>\n    </tr>\n    <tr>\n      <th>41</th>\n      <td>Code</td>\n      <td>0.0</td>\n      <td>61.172867</td>\n      <td>./data/filteredData/Participant41/LengthOfLast...</td>\n      <td>./data/filteredData/Participant41/LengthOfLast...</td>\n      <td>22</td>\n      <td>27</td>\n      <td>4223.502276</td>\n      <td>0.312537</td>\n    </tr>\n    <tr>\n      <th>42</th>\n      <td>Code</td>\n      <td>0.0</td>\n      <td>22.306895</td>\n      <td>./data/filteredData/Participant42/SumArraycode...</td>\n      <td>./data/filteredData/Participant42/SumArraycode...</td>\n      <td>24</td>\n      <td>32</td>\n      <td>4658.015541</td>\n      <td>0.309145</td>\n    </tr>\n    <tr>\n      <th>46</th>\n      <td>Code</td>\n      <td>0.0</td>\n      <td>180.038784</td>\n      <td>./data/filteredData/Participant46/IsAnagramcod...</td>\n      <td>./data/filteredData/Participant46/IsAnagramcod...</td>\n      <td>7</td>\n      <td>8</td>\n      <td>5120.639623</td>\n      <td>0.082021</td>\n    </tr>\n    <tr>\n      <th>49</th>\n      <td>Code</td>\n      <td>0.0</td>\n      <td>105.149613</td>\n      <td>./data/filteredData/Participant49/CheckIfLette...</td>\n      <td>./data/filteredData/Participant49/CheckIfLette...</td>\n      <td>10</td>\n      <td>15</td>\n      <td>4239.946382</td>\n      <td>0.141511</td>\n    </tr>\n    <tr>\n      <th>50</th>\n      <td>Code</td>\n      <td>0.0</td>\n      <td>33.170750</td>\n      <td>./data/filteredData/Participant50/CheckIfLette...</td>\n      <td>./data/filteredData/Participant50/CheckIfLette...</td>\n      <td>17</td>\n      <td>32</td>\n      <td>4157.481758</td>\n      <td>0.245341</td>\n    </tr>\n    <tr>\n      <th>55</th>\n      <td>Code</td>\n      <td>0.0</td>\n      <td>180.047289</td>\n      <td>./data/filteredData/Participant55/SiebDesErato...</td>\n      <td>./data/filteredData/Participant55/SiebDesErato...</td>\n      <td>14</td>\n      <td>23</td>\n      <td>4152.392179</td>\n      <td>0.202293</td>\n    </tr>\n    <tr>\n      <th>58</th>\n      <td>Code</td>\n      <td>0.0</td>\n      <td>180.050434</td>\n      <td>./data/filteredData/Participant58/SiebDesErato...</td>\n      <td>./data/filteredData/Participant58/SiebDesErato...</td>\n      <td>13</td>\n      <td>21</td>\n      <td>4272.951816</td>\n      <td>0.182544</td>\n    </tr>\n    <tr>\n      <th>59</th>\n      <td>Code</td>\n      <td>0.0</td>\n      <td>16.995838</td>\n      <td>./data/filteredData/Participant59/ReverseQueue...</td>\n      <td>./data/filteredData/Participant59/ReverseQueue...</td>\n      <td>19</td>\n      <td>25</td>\n      <td>4226.120565</td>\n      <td>0.269751</td>\n    </tr>\n    <tr>\n      <th>60</th>\n      <td>Code</td>\n      <td>0.0</td>\n      <td>48.674718</td>\n      <td>./data/filteredData/Participant60/BogoSortcode...</td>\n      <td>./data/filteredData/Participant60/BogoSortcode...</td>\n      <td>29</td>\n      <td>30</td>\n      <td>4364.798324</td>\n      <td>0.398644</td>\n    </tr>\n    <tr>\n      <th>61</th>\n      <td>Code</td>\n      <td>0.0</td>\n      <td>11.003654</td>\n      <td>./data/filteredData/Participant61/IsPrimecode_...</td>\n      <td>./data/filteredData/Participant61/IsPrimecode_...</td>\n      <td>14</td>\n      <td>30</td>\n      <td>4344.790617</td>\n      <td>0.193335</td>\n    </tr>\n    <tr>\n      <th>62</th>\n      <td>Code</td>\n      <td>0.0</td>\n      <td>22.139028</td>\n      <td>./data/filteredData/Participant62/Ackermancode...</td>\n      <td>./data/filteredData/Participant62/Ackermancode...</td>\n      <td>25</td>\n      <td>30</td>\n      <td>4268.889176</td>\n      <td>0.351379</td>\n    </tr>\n    <tr>\n      <th>63</th>\n      <td>Code</td>\n      <td>0.0</td>\n      <td>36.052612</td>\n      <td>./data/filteredData/Participant63/HeightOfTree...</td>\n      <td>./data/filteredData/Participant63/HeightOfTree...</td>\n      <td>23</td>\n      <td>27</td>\n      <td>4173.298634</td>\n      <td>0.330674</td>\n    </tr>\n    <tr>\n      <th>66</th>\n      <td>Code</td>\n      <td>0.0</td>\n      <td>25.362069</td>\n      <td>./data/filteredData/Participant66/Powercode_ey...</td>\n      <td>./data/filteredData/Participant66/Powercode_ee...</td>\n      <td>27</td>\n      <td>32</td>\n      <td>3049.293793</td>\n      <td>0.531271</td>\n    </tr>\n    <tr>\n      <th>67</th>\n      <td>Code</td>\n      <td>0.0</td>\n      <td>24.222430</td>\n      <td>./data/filteredData/Participant67/RectanglePow...</td>\n      <td>./data/filteredData/Participant67/RectanglePow...</td>\n      <td>18</td>\n      <td>22</td>\n      <td>4185.514052</td>\n      <td>0.258033</td>\n    </tr>\n    <tr>\n      <th>68</th>\n      <td>Code</td>\n      <td>0.0</td>\n      <td>51.160555</td>\n      <td>./data/filteredData/Participant68/GreatestComm...</td>\n      <td>./data/filteredData/Participant68/GreatestComm...</td>\n      <td>19</td>\n      <td>23</td>\n      <td>2659.274382</td>\n      <td>0.428688</td>\n    </tr>\n    <tr>\n      <th>70</th>\n      <td>Code</td>\n      <td>0.0</td>\n      <td>84.501124</td>\n      <td>./data/filteredData/Participant70/PermuteStrin...</td>\n      <td>./data/filteredData/Participant70/PermuteStrin...</td>\n      <td>17</td>\n      <td>25</td>\n      <td>4436.403413</td>\n      <td>0.229916</td>\n    </tr>\n    <tr>\n      <th>71</th>\n      <td>Code</td>\n      <td>0.0</td>\n      <td>45.013098</td>\n      <td>./data/filteredData/Participant71/HIndexcode_e...</td>\n      <td>./data/filteredData/Participant71/HIndexcode_e...</td>\n      <td>25</td>\n      <td>31</td>\n      <td>3473.124016</td>\n      <td>0.431888</td>\n    </tr>\n  </tbody>\n</table>\n</div>"
     },
     "execution_count": 10,
     "metadata": {},
     "output_type": "execute_result"
    }
   ],
   "source": [
    "df_skill = df_behavioral[~df_behavioral.index.duplicated(keep='first')]\n",
    "df_skill = df_skill.drop(columns=[\"Algorithm\", \"Behavioral\", \"Duration\", \"IsOutlier\"])\n",
    "df_skill"
   ],
   "metadata": {
    "collapsed": false,
    "pycharm": {
     "name": "#%%\n"
    }
   }
  },
  {
   "cell_type": "code",
   "execution_count": 11,
   "outputs": [
    {
     "data": {
      "text/plain": "       StartTime     EndTime  SumCorrect      Total  SumDurationInMinutes  \\\ncount       38.0   38.000000   38.000000  38.000000             38.000000   \nmean         0.0   60.225218   20.368421  27.000000           3983.345163   \nstd          0.0   52.490600    5.508819   5.579887            554.021148   \nmin          0.0   10.538237    7.000000   8.000000           2496.782760   \n25%          0.0   24.546640   17.000000  25.000000           3984.600416   \n50%          0.0   38.343863   21.000000  29.500000           4154.936968   \n75%          0.0   80.916655   24.000000  31.000000           4263.657631   \nmax          0.0  180.050434   29.000000  32.000000           5120.639623   \n\n       SkillScore  \ncount   38.000000  \nmean     0.316291  \nstd      0.107285  \nmin      0.082021  \n25%      0.248514  \n50%      0.313055  \n75%      0.373977  \nmax      0.648835  ",
      "text/html": "<div>\n<style scoped>\n    .dataframe tbody tr th:only-of-type {\n        vertical-align: middle;\n    }\n\n    .dataframe tbody tr th {\n        vertical-align: top;\n    }\n\n    .dataframe thead th {\n        text-align: right;\n    }\n</style>\n<table border=\"1\" class=\"dataframe\">\n  <thead>\n    <tr style=\"text-align: right;\">\n      <th></th>\n      <th>StartTime</th>\n      <th>EndTime</th>\n      <th>SumCorrect</th>\n      <th>Total</th>\n      <th>SumDurationInMinutes</th>\n      <th>SkillScore</th>\n    </tr>\n  </thead>\n  <tbody>\n    <tr>\n      <th>count</th>\n      <td>38.0</td>\n      <td>38.000000</td>\n      <td>38.000000</td>\n      <td>38.000000</td>\n      <td>38.000000</td>\n      <td>38.000000</td>\n    </tr>\n    <tr>\n      <th>mean</th>\n      <td>0.0</td>\n      <td>60.225218</td>\n      <td>20.368421</td>\n      <td>27.000000</td>\n      <td>3983.345163</td>\n      <td>0.316291</td>\n    </tr>\n    <tr>\n      <th>std</th>\n      <td>0.0</td>\n      <td>52.490600</td>\n      <td>5.508819</td>\n      <td>5.579887</td>\n      <td>554.021148</td>\n      <td>0.107285</td>\n    </tr>\n    <tr>\n      <th>min</th>\n      <td>0.0</td>\n      <td>10.538237</td>\n      <td>7.000000</td>\n      <td>8.000000</td>\n      <td>2496.782760</td>\n      <td>0.082021</td>\n    </tr>\n    <tr>\n      <th>25%</th>\n      <td>0.0</td>\n      <td>24.546640</td>\n      <td>17.000000</td>\n      <td>25.000000</td>\n      <td>3984.600416</td>\n      <td>0.248514</td>\n    </tr>\n    <tr>\n      <th>50%</th>\n      <td>0.0</td>\n      <td>38.343863</td>\n      <td>21.000000</td>\n      <td>29.500000</td>\n      <td>4154.936968</td>\n      <td>0.313055</td>\n    </tr>\n    <tr>\n      <th>75%</th>\n      <td>0.0</td>\n      <td>80.916655</td>\n      <td>24.000000</td>\n      <td>31.000000</td>\n      <td>4263.657631</td>\n      <td>0.373977</td>\n    </tr>\n    <tr>\n      <th>max</th>\n      <td>0.0</td>\n      <td>180.050434</td>\n      <td>29.000000</td>\n      <td>32.000000</td>\n      <td>5120.639623</td>\n      <td>0.648835</td>\n    </tr>\n  </tbody>\n</table>\n</div>"
     },
     "execution_count": 11,
     "metadata": {},
     "output_type": "execute_result"
    }
   ],
   "source": [
    "df_skill.describe()"
   ],
   "metadata": {
    "collapsed": false,
    "pycharm": {
     "name": "#%%\n"
    }
   }
  },
  {
   "cell_type": "code",
   "execution_count": 12,
   "outputs": [
    {
     "data": {
      "text/plain": "Text(0.5, 1.0, 'Correct answers per minute Distribution')"
     },
     "execution_count": 12,
     "metadata": {},
     "output_type": "execute_result"
    },
    {
     "data": {
      "text/plain": "<Figure size 432x288 with 1 Axes>",
      "image/png": "[encoded data removed]"
     },
     "metadata": {
      "needs_background": "light"
     },
     "output_type": "display_data"
    }
   ],
   "source": [
    "g = sns.violinplot(y=\"SkillScore\", data=df_skill, inner=\"box\")\n",
    "g.set_xlabel(\"Participant\")\n",
    "g.set_ylabel(\"Correct answers per minute\")\n",
    "g.set_title(\"Correct answers per minute Distribution\")"
   ],
   "metadata": {
    "collapsed": false,
    "pycharm": {
     "name": "#%%\n"
    }
   }
  },
  {
   "cell_type": "code",
   "execution_count": 13,
   "outputs": [
    {
     "data": {
      "text/plain": "ShapiroResult(statistic=0.9649207592010498, pvalue=0.273220032453537)"
     },
     "execution_count": 13,
     "metadata": {},
     "output_type": "execute_result"
    }
   ],
   "source": [
    "# check if correct_per_time is normal distributed with shapiro-wilk test\n",
    "import scipy\n",
    "\n",
    "scipy.stats.shapiro(df_skill[\"SkillScore\"])"
   ],
   "metadata": {
    "collapsed": false,
    "pycharm": {
     "name": "#%%\n"
    }
   }
  },
  {
   "cell_type": "code",
   "execution_count": 14,
   "outputs": [],
   "source": [
    "df_behavioral.to_csv(\"./data/filteredData/filtered_data.csv\")"
   ],
   "metadata": {
    "collapsed": false,
    "pycharm": {
     "name": "#%%\n"
    }
   }
  },
  {
   "cell_type": "code",
   "execution_count": null,
   "outputs": [],
   "source": [],
   "metadata": {
    "collapsed": false,
    "pycharm": {
     "name": "#%%\n"
    }
   }
  }
 ],
 "metadata": {
  "kernelspec": {
   "display_name": "Python 3",
   "language": "python",
   "name": "python3"
  },
  "language_info": {
   "codemirror_mode": {
    "name": "ipython",
    "version": 2
   },
   "file_extension": ".py",
   "mimetype": "text/x-python",
   "name": "python",
   "nbconvert_exporter": "python",
   "pygments_lexer": "ipython2",
   "version": "2.7.6"
  }
 },
 "nbformat": 4,
 "nbformat_minor": 0
}