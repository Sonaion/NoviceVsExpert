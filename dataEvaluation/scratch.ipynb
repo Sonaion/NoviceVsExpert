{
 "cells": [
  {
   "cell_type": "markdown",
   "id": "e5b0b9bc-9a85-4521-8210-9e1ef92c238c",
   "metadata": {},
   "source": [
    "<h2> Load Data</h2>"
   ]
  },
  {
   "cell_type": "code",
   "execution_count": 10,
   "id": "81dc01b0-3756-4775-a258-f1a956ae9599",
   "metadata": {
    "pycharm": {
     "name": "#%%\n"
    }
   },
   "outputs": [],
   "source": [
    "import numpy as np\n",
    "import pandas as pd\n",
    "import matplotlib.pyplot as plt\n",
    "import seaborn as sns\n",
    "from tqdm.notebook import tqdm\n",
    "import utils.GenSnippetsLib as gsl\n",
    "import math\n",
    "import json"
   ]
  },
  {
   "cell_type": "code",
   "execution_count": 3,
   "outputs": [],
   "source": [
    "\n",
    "def string_to_list_string(data):\n",
    "    data = data.replace(' ', ',')\n",
    "    data = data.replace('\\n', ',')\n",
    "    data = ','.join([element for element in data.split(\",\") if len(element) > 0])\n",
    "    if data[1] == \",\":\n",
    "        data = \"[\" + data[2:]\n",
    "    return data\n",
    "\n",
    "\n",
    "df_fixation = pd.read_csv('./data/filteredData/fixation_stats.csv', sep=\";\")\n",
    "df_fixation = df_fixation[df_fixation[\"IsOutlier\"] == False]\n",
    "df_fixation = df_fixation.drop(columns=[\"IsOutlier\", \"Behavioral\"])\n",
    "df_fixation[\"Fixation_startT\"] = df_fixation[\"Fixation_startT\"].apply(string_to_list_string)\n",
    "df_fixation[\"Fixation_endT\"] = df_fixation[\"Fixation_endT\"].apply(string_to_list_string)\n",
    "df_fixation[\"Fixation_x\"] = df_fixation[\"Fixation_x\"].apply(string_to_list_string)\n",
    "df_fixation[\"Fixation_y\"] = df_fixation[\"Fixation_y\"].apply(string_to_list_string)\n",
    "df_fixation[\"Fixation_x_range\"] = df_fixation[\"Fixation_x_range\"].apply(string_to_list_string)\n",
    "df_fixation[\"Fixation_y_range\"] = df_fixation[\"Fixation_y_range\"].apply(string_to_list_string)"
   ],
   "metadata": {
    "collapsed": false,
    "pycharm": {
     "name": "#%%\n"
    }
   }
  },
  {
   "cell_type": "code",
   "execution_count": 6,
   "outputs": [
    {
     "data": {
      "text/plain": "  0%|          | 0/32 [00:00<?, ?it/s]",
      "application/vnd.jupyter.widget-view+json": {
       "version_major": 2,
       "version_minor": 0,
       "model_id": "c40f49eb4c0b406aa26459d3c791a93c"
      }
     },
     "metadata": {},
     "output_type": "display_data"
    },
    {
     "data": {
      "text/plain": "     Algorithm Line            BoundingBox\n0      IsPrime    0  (768, 467, 1152, 482)\n1      IsPrime    1  (768, 486, 1112, 501)\n2      IsPrime    2  (768, 505, 1049, 519)\n3      IsPrime    3  (768, 526, 1008, 539)\n4      IsPrime    4   (768, 543, 880, 557)\n..         ...  ...                    ...\n429  Rectangle   12  (740, 601, 1012, 615)\n430  Rectangle   13   (740, 619, 788, 633)\n431  Rectangle   15   (740, 657, 956, 672)\n432  Rectangle   16  (740, 676, 1100, 691)\n433  Rectangle   17   (740, 695, 788, 709)\n\n[434 rows x 3 columns]",
      "text/html": "<div>\n<style scoped>\n    .dataframe tbody tr th:only-of-type {\n        vertical-align: middle;\n    }\n\n    .dataframe tbody tr th {\n        vertical-align: top;\n    }\n\n    .dataframe thead th {\n        text-align: right;\n    }\n</style>\n<table border=\"1\" class=\"dataframe\">\n  <thead>\n    <tr style=\"text-align: right;\">\n      <th></th>\n      <th>Algorithm</th>\n      <th>Line</th>\n      <th>BoundingBox</th>\n    </tr>\n  </thead>\n  <tbody>\n    <tr>\n      <th>0</th>\n      <td>IsPrime</td>\n      <td>0</td>\n      <td>(768, 467, 1152, 482)</td>\n    </tr>\n    <tr>\n      <th>1</th>\n      <td>IsPrime</td>\n      <td>1</td>\n      <td>(768, 486, 1112, 501)</td>\n    </tr>\n    <tr>\n      <th>2</th>\n      <td>IsPrime</td>\n      <td>2</td>\n      <td>(768, 505, 1049, 519)</td>\n    </tr>\n    <tr>\n      <th>3</th>\n      <td>IsPrime</td>\n      <td>3</td>\n      <td>(768, 526, 1008, 539)</td>\n    </tr>\n    <tr>\n      <th>4</th>\n      <td>IsPrime</td>\n      <td>4</td>\n      <td>(768, 543, 880, 557)</td>\n    </tr>\n    <tr>\n      <th>...</th>\n      <td>...</td>\n      <td>...</td>\n      <td>...</td>\n    </tr>\n    <tr>\n      <th>429</th>\n      <td>Rectangle</td>\n      <td>12</td>\n      <td>(740, 601, 1012, 615)</td>\n    </tr>\n    <tr>\n      <th>430</th>\n      <td>Rectangle</td>\n      <td>13</td>\n      <td>(740, 619, 788, 633)</td>\n    </tr>\n    <tr>\n      <th>431</th>\n      <td>Rectangle</td>\n      <td>15</td>\n      <td>(740, 657, 956, 672)</td>\n    </tr>\n    <tr>\n      <th>432</th>\n      <td>Rectangle</td>\n      <td>16</td>\n      <td>(740, 676, 1100, 691)</td>\n    </tr>\n    <tr>\n      <th>433</th>\n      <td>Rectangle</td>\n      <td>17</td>\n      <td>(740, 695, 788, 709)</td>\n    </tr>\n  </tbody>\n</table>\n<p>434 rows × 3 columns</p>\n</div>"
     },
     "execution_count": 6,
     "metadata": {},
     "output_type": "execute_result"
    }
   ],
   "source": [
    "# Get Bounding Boxes for Lines Of Code\n",
    "snippets = df_fixation[\"Algorithm\"].unique()\n",
    "df_lines = pd.DataFrame(columns=[\"Algorithm\", \"Line\", \"BoundingBox\"])\n",
    "for snippet in tqdm(snippets):\n",
    "    aoi_token_generator = f\"./../CodeSnippets/aois/Generators/{snippet}_ast.json\"\n",
    "    image, aoi_list = gsl.create_image(aoi_token_generator, font_path=\"./../CodeSnippets/fonts/ttf/\")\n",
    "    height, width = image.size\n",
    "    width_offset = int(1920 * 0.5) - int(height / 2)\n",
    "    height_offset = int(1080 * 0.5) - int(width / 2)\n",
    "    aoi_clustered = []\n",
    "    current_left = None\n",
    "    current_top = None\n",
    "    current_right = None\n",
    "    current_bottom = None\n",
    "    current_line = 0\n",
    "    for letter in aoi_list:\n",
    "        if letter[\"letter\"] == '\\n':\n",
    "            if current_left is not None:\n",
    "                aoi_clustered.append((current_line, current_left, current_top, current_right, current_bottom))\n",
    "            current_left = None\n",
    "            current_top = None\n",
    "            current_right = None\n",
    "            current_bottom = None\n",
    "            current_line += 1\n",
    "            continue\n",
    "        if current_left is None:\n",
    "            current_left = letter[\"BoundingBox\"][0]\n",
    "            current_top = letter[\"BoundingBox\"][1]\n",
    "            current_right = letter[\"BoundingBox\"][2]\n",
    "            current_bottom = letter[\"BoundingBox\"][3]\n",
    "        else:\n",
    "            current_left = min(current_left, letter[\"BoundingBox\"][0])\n",
    "            current_top = min(current_top, letter[\"BoundingBox\"][1])\n",
    "            current_right = max(current_right, letter[\"BoundingBox\"][2])\n",
    "            current_bottom = max(current_bottom, letter[\"BoundingBox\"][3])\n",
    "\n",
    "    for token in aoi_clustered:\n",
    "        df_lines.loc[len(df_lines)] = [snippet, token[0],\n",
    "                                                 (token[1] + width_offset,\n",
    "                                                  token[2] + height_offset,\n",
    "                                                  token[3] + width_offset,\n",
    "                                                  token[4] + height_offset)]\n",
    "df_lines"
   ],
   "metadata": {
    "collapsed": false,
    "pycharm": {
     "name": "#%%\n"
    }
   }
  },
  {
   "cell_type": "code",
   "execution_count": 9,
   "outputs": [
    {
     "data": {
      "text/plain": "  0%|          | 0/32 [00:00<?, ?it/s]",
      "application/vnd.jupyter.widget-view+json": {
       "version_major": 2,
       "version_minor": 0,
       "model_id": "caee48a37c7f4d53b8a963b08a3b1c4a"
      }
     },
     "metadata": {},
     "output_type": "display_data"
    },
    {
     "data": {
      "text/plain": "       Algorithm Participant FixationNumber  FixationStart  FixationEnd  \\\n0        IsPrime           1              3       1136.027     1332.034   \n1        IsPrime           1              4       1356.034     1512.039   \n2        IsPrime           1              5       1536.038     1812.044   \n3        IsPrime           1              6       1840.047     2132.055   \n4        IsPrime           1              7       2156.055     2932.074   \n...          ...         ...            ...            ...          ...   \n77833  Rectangle          71             26       8160.260     8312.263   \n77834  Rectangle          71             27       8332.263     8520.265   \n77835  Rectangle          71             29       8800.282     8948.286   \n77836  Rectangle          71             31       9428.297     9596.305   \n77837  Rectangle          71             32       9616.305     9772.311   \n\n      LineNumber  \n0              0  \n1              0  \n2              0  \n3              0  \n4              0  \n...          ...  \n77833          7  \n77834         13  \n77835          3  \n77836          2  \n77837          4  \n\n[77838 rows x 6 columns]",
      "text/html": "<div>\n<style scoped>\n    .dataframe tbody tr th:only-of-type {\n        vertical-align: middle;\n    }\n\n    .dataframe tbody tr th {\n        vertical-align: top;\n    }\n\n    .dataframe thead th {\n        text-align: right;\n    }\n</style>\n<table border=\"1\" class=\"dataframe\">\n  <thead>\n    <tr style=\"text-align: right;\">\n      <th></th>\n      <th>Algorithm</th>\n      <th>Participant</th>\n      <th>FixationNumber</th>\n      <th>FixationStart</th>\n      <th>FixationEnd</th>\n      <th>LineNumber</th>\n    </tr>\n  </thead>\n  <tbody>\n    <tr>\n      <th>0</th>\n      <td>IsPrime</td>\n      <td>1</td>\n      <td>3</td>\n      <td>1136.027</td>\n      <td>1332.034</td>\n      <td>0</td>\n    </tr>\n    <tr>\n      <th>1</th>\n      <td>IsPrime</td>\n      <td>1</td>\n      <td>4</td>\n      <td>1356.034</td>\n      <td>1512.039</td>\n      <td>0</td>\n    </tr>\n    <tr>\n      <th>2</th>\n      <td>IsPrime</td>\n      <td>1</td>\n      <td>5</td>\n      <td>1536.038</td>\n      <td>1812.044</td>\n      <td>0</td>\n    </tr>\n    <tr>\n      <th>3</th>\n      <td>IsPrime</td>\n      <td>1</td>\n      <td>6</td>\n      <td>1840.047</td>\n      <td>2132.055</td>\n      <td>0</td>\n    </tr>\n    <tr>\n      <th>4</th>\n      <td>IsPrime</td>\n      <td>1</td>\n      <td>7</td>\n      <td>2156.055</td>\n      <td>2932.074</td>\n      <td>0</td>\n    </tr>\n    <tr>\n      <th>...</th>\n      <td>...</td>\n      <td>...</td>\n      <td>...</td>\n      <td>...</td>\n      <td>...</td>\n      <td>...</td>\n    </tr>\n    <tr>\n      <th>77833</th>\n      <td>Rectangle</td>\n      <td>71</td>\n      <td>26</td>\n      <td>8160.260</td>\n      <td>8312.263</td>\n      <td>7</td>\n    </tr>\n    <tr>\n      <th>77834</th>\n      <td>Rectangle</td>\n      <td>71</td>\n      <td>27</td>\n      <td>8332.263</td>\n      <td>8520.265</td>\n      <td>13</td>\n    </tr>\n    <tr>\n      <th>77835</th>\n      <td>Rectangle</td>\n      <td>71</td>\n      <td>29</td>\n      <td>8800.282</td>\n      <td>8948.286</td>\n      <td>3</td>\n    </tr>\n    <tr>\n      <th>77836</th>\n      <td>Rectangle</td>\n      <td>71</td>\n      <td>31</td>\n      <td>9428.297</td>\n      <td>9596.305</td>\n      <td>2</td>\n    </tr>\n    <tr>\n      <th>77837</th>\n      <td>Rectangle</td>\n      <td>71</td>\n      <td>32</td>\n      <td>9616.305</td>\n      <td>9772.311</td>\n      <td>4</td>\n    </tr>\n  </tbody>\n</table>\n<p>77838 rows × 6 columns</p>\n</div>"
     },
     "execution_count": 9,
     "metadata": {},
     "output_type": "execute_result"
    }
   ],
   "source": [
    "df_line_fixation_per_participant = pd.DataFrame([], columns=[\"Algorithm\", \"Participant\", \"FixationNumber\", \"FixationStart\", \"FixationEnd\", \"LineNumber\"])\n",
    "participants = df_fixation[\"Participant\"].unique()\n",
    "for snippet in tqdm(snippets):\n",
    "    df_token_per_algo = df_lines[df_lines[\"Algorithm\"] == snippet]\n",
    "\n",
    "    for participant in participants:\n",
    "        df_fixation_participant = df_fixation[(df_fixation[\"Algorithm\"] == snippet) & (df_fixation[\"Participant\"] == participant)]\n",
    "        if len(df_fixation_participant) == 0:\n",
    "            continue\n",
    "        start_times = eval(df_fixation_participant[\"Fixation_startT\"].values[0])\n",
    "        end_times = eval(df_fixation_participant[\"Fixation_endT\"].values[0])\n",
    "        y_coordinates = eval(df_fixation_participant[\"Fixation_y\"].values[0])\n",
    "        y_range = eval(df_fixation_participant[\"Fixation_y_range\"].values[0])\n",
    "        idx_values = range(len(start_times))\n",
    "        for (fix_idx, start, end, y, y_range) in zip(idx_values, start_times, end_times, y_coordinates, y_range):\n",
    "            low_y = int(float(y) - math.ceil(float(y_range)))\n",
    "            high_y = int(float(y) + math.ceil(float(y_range)))\n",
    "            possible_coordinates = [y for y in range(low_y, high_y + 1)]\n",
    "\n",
    "            found = False\n",
    "            for idx, row in df_token_per_algo.iterrows():\n",
    "                line_number = row[\"Line\"]\n",
    "                bounding_box = row[\"BoundingBox\"]\n",
    "\n",
    "                for possible_y in possible_coordinates:\n",
    "                    if bounding_box[1] <= possible_y <= bounding_box[3]:\n",
    "                        df_line_fixation_per_participant.loc[len(df_line_fixation_per_participant)] = [snippet, participant, fix_idx, start, end, line_number]\n",
    "                        found = True\n",
    "                        break\n",
    "                if found:\n",
    "                    break\n",
    "\n",
    "df_line_fixation_per_participant"
   ],
   "metadata": {
    "collapsed": false,
    "pycharm": {
     "name": "#%%\n"
    }
   }
  },
  {
   "cell_type": "code",
   "execution_count": 11,
   "outputs": [
    {
     "data": {
      "text/plain": "  0%|          | 0/32 [00:00<?, ?it/s]",
      "application/vnd.jupyter.widget-view+json": {
       "version_major": 2,
       "version_minor": 0,
       "model_id": "fff66753669e4f38bdf182489a37d869"
      }
     },
     "metadata": {},
     "output_type": "display_data"
    }
   ],
   "source": [
    "snippets = df_fixation[\"Algorithm\"].unique()\n",
    "df_snippet_length = pd.DataFrame(columns=[\"Algorithm\", \"LOC\"])\n",
    "for snippet in tqdm(snippets):\n",
    "    aoi_token_generator = f\"./../CodeSnippets/aois/Generators/{snippet}_ast.json\"\n",
    "    with open(aoi_token_generator) as f:\n",
    "        aoi_list = json.load(f)\n",
    "        data = aoi_list[\"source-code\"]\n",
    "        LOC = len(data)\n",
    "        df_snippet_length.loc[len(df_snippet_length)] = [snippet, LOC]\n",
    "df_snippet_length"
   ],
   "metadata": {
    "collapsed": false,
    "pycharm": {
     "name": "#%%\n"
    }
   }
  },
  {
   "cell_type": "code",
   "execution_count": 14,
   "outputs": [
    {
     "data": {
      "text/plain": "      Participant              Algorithm    Duration  SkillScore\n0               1                IsPrime   12.390280    0.331385\n1               1    SiebDesEratosthenes  152.571914    0.331385\n2               1              IsAnagram  109.615724    0.331385\n3               1       RemoveDoubleChar   53.456276    0.331385\n4               1           BinToDecimal   49.922091    0.331385\n...           ...                    ...         ...         ...\n1066           71  GreatestCommonDivisor   30.757360    0.435651\n1067           71            DumpSorting  113.368945    0.435651\n1068           71    BinomialCoefficient   50.637861    0.435651\n1069           71              IsAnagram  110.995754    0.435651\n1070           71           ArrayAverage    8.310264    0.435651\n\n[1018 rows x 4 columns]",
      "text/html": "<div>\n<style scoped>\n    .dataframe tbody tr th:only-of-type {\n        vertical-align: middle;\n    }\n\n    .dataframe tbody tr th {\n        vertical-align: top;\n    }\n\n    .dataframe thead th {\n        text-align: right;\n    }\n</style>\n<table border=\"1\" class=\"dataframe\">\n  <thead>\n    <tr style=\"text-align: right;\">\n      <th></th>\n      <th>Participant</th>\n      <th>Algorithm</th>\n      <th>Duration</th>\n      <th>SkillScore</th>\n    </tr>\n  </thead>\n  <tbody>\n    <tr>\n      <th>0</th>\n      <td>1</td>\n      <td>IsPrime</td>\n      <td>12.390280</td>\n      <td>0.331385</td>\n    </tr>\n    <tr>\n      <th>1</th>\n      <td>1</td>\n      <td>SiebDesEratosthenes</td>\n      <td>152.571914</td>\n      <td>0.331385</td>\n    </tr>\n    <tr>\n      <th>2</th>\n      <td>1</td>\n      <td>IsAnagram</td>\n      <td>109.615724</td>\n      <td>0.331385</td>\n    </tr>\n    <tr>\n      <th>3</th>\n      <td>1</td>\n      <td>RemoveDoubleChar</td>\n      <td>53.456276</td>\n      <td>0.331385</td>\n    </tr>\n    <tr>\n      <th>4</th>\n      <td>1</td>\n      <td>BinToDecimal</td>\n      <td>49.922091</td>\n      <td>0.331385</td>\n    </tr>\n    <tr>\n      <th>...</th>\n      <td>...</td>\n      <td>...</td>\n      <td>...</td>\n      <td>...</td>\n    </tr>\n    <tr>\n      <th>1066</th>\n      <td>71</td>\n      <td>GreatestCommonDivisor</td>\n      <td>30.757360</td>\n      <td>0.435651</td>\n    </tr>\n    <tr>\n      <th>1067</th>\n      <td>71</td>\n      <td>DumpSorting</td>\n      <td>113.368945</td>\n      <td>0.435651</td>\n    </tr>\n    <tr>\n      <th>1068</th>\n      <td>71</td>\n      <td>BinomialCoefficient</td>\n      <td>50.637861</td>\n      <td>0.435651</td>\n    </tr>\n    <tr>\n      <th>1069</th>\n      <td>71</td>\n      <td>IsAnagram</td>\n      <td>110.995754</td>\n      <td>0.435651</td>\n    </tr>\n    <tr>\n      <th>1070</th>\n      <td>71</td>\n      <td>ArrayAverage</td>\n      <td>8.310264</td>\n      <td>0.435651</td>\n    </tr>\n  </tbody>\n</table>\n<p>1018 rows × 4 columns</p>\n</div>"
     },
     "execution_count": 14,
     "metadata": {},
     "output_type": "execute_result"
    }
   ],
   "source": [
    "df_behavioral = pd.read_csv('./data/filteredData/fixation_stats.csv', sep=\";\")\n",
    "df_behavioral = df_behavioral[df_behavioral[\"IsOutlier\"] == False]\n",
    "df_behavioral = df_behavioral[[\"Participant\", \"Algorithm\", \"Duration\", \"SkillScore\"]]\n",
    "df_behavioral"
   ],
   "metadata": {
    "collapsed": false,
    "pycharm": {
     "name": "#%%\n"
    }
   }
  },
  {
   "cell_type": "code",
   "execution_count": 53,
   "outputs": [
    {
     "data": {
      "text/plain": "                  20%       30%       40%       50%  SkillScore\nParticipant                                                    \n1            0.245391  0.348396  0.432725  0.493120    0.331385\n2            0.251232  0.355527  0.418872  0.464605    0.379187\n3            0.415433  0.521158  0.638263  0.717830    0.311264\n4            0.245859  0.331361  0.427805  0.500664    0.424727\n5            0.298898  0.390414  0.469532  0.536783    0.313031\n6            0.255461  0.391562  0.485468  0.578998    0.315932\n7            0.267153  0.392478  0.459563  0.495865    0.420873\n10           0.152989  0.243787  0.323574  0.405975    0.350392\n11           0.332465  0.457989  0.540979  0.610152    0.178206\n12           0.192586  0.291230  0.382240  0.483282    0.309233\n13           0.082224  0.147341  0.226887  0.325129    0.419660\n14           0.119928  0.189313  0.265715  0.340076    0.316361\n18           0.248608  0.302346  0.348008  0.423028    0.225911\n22           0.342935  0.437507  0.521076  0.607087    0.341397\n24           0.115407  0.187809  0.278484  0.342885    0.212427\n25           0.239604  0.323812  0.414941  0.508929    0.292946\n28           0.203192  0.325553  0.386997  0.456561    0.291938\n35           0.062410  0.127004  0.204227  0.272732    0.656726\n36           0.107101  0.213368  0.280750  0.317348    0.369527\n37           0.295348  0.398624  0.484356  0.555094    0.323330\n38           0.152494  0.229925  0.305608  0.381743    0.394045\n41           0.243174  0.285280  0.332532  0.365590    0.314773\n42           0.186451  0.277115  0.389047  0.452075    0.311148\n49           0.556035  0.691490  0.769187  0.797907    0.142520\n50           0.044056  0.119463  0.195807  0.305629    0.247124\n55           0.053445  0.118774  0.193105  0.285467    0.203765\n58           0.209018  0.333783  0.395619  0.475779    0.183834\n59           0.076968  0.174029  0.251870  0.330754    0.271680\n60           0.089754  0.166522  0.247891  0.309771    0.401403\n61           0.123741  0.219552  0.287566  0.381615    0.194679\n62           0.256269  0.341560  0.436265  0.528106    0.353866\n63           0.275068  0.351322  0.430606  0.519380    0.333068\n66           0.149857  0.237077  0.305374  0.375995    0.536549\n67           0.243628  0.328674  0.431144  0.508905    0.259896\n68           0.212064  0.290170  0.384874  0.444554    0.433580\n70           0.488062  0.582981  0.637074  0.672103    0.231481\n71           0.259448  0.354411  0.462327  0.513231    0.435651",
      "text/html": "<div>\n<style scoped>\n    .dataframe tbody tr th:only-of-type {\n        vertical-align: middle;\n    }\n\n    .dataframe tbody tr th {\n        vertical-align: top;\n    }\n\n    .dataframe thead th {\n        text-align: right;\n    }\n</style>\n<table border=\"1\" class=\"dataframe\">\n  <thead>\n    <tr style=\"text-align: right;\">\n      <th></th>\n      <th>20%</th>\n      <th>30%</th>\n      <th>40%</th>\n      <th>50%</th>\n      <th>SkillScore</th>\n    </tr>\n    <tr>\n      <th>Participant</th>\n      <th></th>\n      <th></th>\n      <th></th>\n      <th></th>\n      <th></th>\n    </tr>\n  </thead>\n  <tbody>\n    <tr>\n      <th>1</th>\n      <td>0.245391</td>\n      <td>0.348396</td>\n      <td>0.432725</td>\n      <td>0.493120</td>\n      <td>0.331385</td>\n    </tr>\n    <tr>\n      <th>2</th>\n      <td>0.251232</td>\n      <td>0.355527</td>\n      <td>0.418872</td>\n      <td>0.464605</td>\n      <td>0.379187</td>\n    </tr>\n    <tr>\n      <th>3</th>\n      <td>0.415433</td>\n      <td>0.521158</td>\n      <td>0.638263</td>\n      <td>0.717830</td>\n      <td>0.311264</td>\n    </tr>\n    <tr>\n      <th>4</th>\n      <td>0.245859</td>\n      <td>0.331361</td>\n      <td>0.427805</td>\n      <td>0.500664</td>\n      <td>0.424727</td>\n    </tr>\n    <tr>\n      <th>5</th>\n      <td>0.298898</td>\n      <td>0.390414</td>\n      <td>0.469532</td>\n      <td>0.536783</td>\n      <td>0.313031</td>\n    </tr>\n    <tr>\n      <th>6</th>\n      <td>0.255461</td>\n      <td>0.391562</td>\n      <td>0.485468</td>\n      <td>0.578998</td>\n      <td>0.315932</td>\n    </tr>\n    <tr>\n      <th>7</th>\n      <td>0.267153</td>\n      <td>0.392478</td>\n      <td>0.459563</td>\n      <td>0.495865</td>\n      <td>0.420873</td>\n    </tr>\n    <tr>\n      <th>10</th>\n      <td>0.152989</td>\n      <td>0.243787</td>\n      <td>0.323574</td>\n      <td>0.405975</td>\n      <td>0.350392</td>\n    </tr>\n    <tr>\n      <th>11</th>\n      <td>0.332465</td>\n      <td>0.457989</td>\n      <td>0.540979</td>\n      <td>0.610152</td>\n      <td>0.178206</td>\n    </tr>\n    <tr>\n      <th>12</th>\n      <td>0.192586</td>\n      <td>0.291230</td>\n      <td>0.382240</td>\n      <td>0.483282</td>\n      <td>0.309233</td>\n    </tr>\n    <tr>\n      <th>13</th>\n      <td>0.082224</td>\n      <td>0.147341</td>\n      <td>0.226887</td>\n      <td>0.325129</td>\n      <td>0.419660</td>\n    </tr>\n    <tr>\n      <th>14</th>\n      <td>0.119928</td>\n      <td>0.189313</td>\n      <td>0.265715</td>\n      <td>0.340076</td>\n      <td>0.316361</td>\n    </tr>\n    <tr>\n      <th>18</th>\n      <td>0.248608</td>\n      <td>0.302346</td>\n      <td>0.348008</td>\n      <td>0.423028</td>\n      <td>0.225911</td>\n    </tr>\n    <tr>\n      <th>22</th>\n      <td>0.342935</td>\n      <td>0.437507</td>\n      <td>0.521076</td>\n      <td>0.607087</td>\n      <td>0.341397</td>\n    </tr>\n    <tr>\n      <th>24</th>\n      <td>0.115407</td>\n      <td>0.187809</td>\n      <td>0.278484</td>\n      <td>0.342885</td>\n      <td>0.212427</td>\n    </tr>\n    <tr>\n      <th>25</th>\n      <td>0.239604</td>\n      <td>0.323812</td>\n      <td>0.414941</td>\n      <td>0.508929</td>\n      <td>0.292946</td>\n    </tr>\n    <tr>\n      <th>28</th>\n      <td>0.203192</td>\n      <td>0.325553</td>\n      <td>0.386997</td>\n      <td>0.456561</td>\n      <td>0.291938</td>\n    </tr>\n    <tr>\n      <th>35</th>\n      <td>0.062410</td>\n      <td>0.127004</td>\n      <td>0.204227</td>\n      <td>0.272732</td>\n      <td>0.656726</td>\n    </tr>\n    <tr>\n      <th>36</th>\n      <td>0.107101</td>\n      <td>0.213368</td>\n      <td>0.280750</td>\n      <td>0.317348</td>\n      <td>0.369527</td>\n    </tr>\n    <tr>\n      <th>37</th>\n      <td>0.295348</td>\n      <td>0.398624</td>\n      <td>0.484356</td>\n      <td>0.555094</td>\n      <td>0.323330</td>\n    </tr>\n    <tr>\n      <th>38</th>\n      <td>0.152494</td>\n      <td>0.229925</td>\n      <td>0.305608</td>\n      <td>0.381743</td>\n      <td>0.394045</td>\n    </tr>\n    <tr>\n      <th>41</th>\n      <td>0.243174</td>\n      <td>0.285280</td>\n      <td>0.332532</td>\n      <td>0.365590</td>\n      <td>0.314773</td>\n    </tr>\n    <tr>\n      <th>42</th>\n      <td>0.186451</td>\n      <td>0.277115</td>\n      <td>0.389047</td>\n      <td>0.452075</td>\n      <td>0.311148</td>\n    </tr>\n    <tr>\n      <th>49</th>\n      <td>0.556035</td>\n      <td>0.691490</td>\n      <td>0.769187</td>\n      <td>0.797907</td>\n      <td>0.142520</td>\n    </tr>\n    <tr>\n      <th>50</th>\n      <td>0.044056</td>\n      <td>0.119463</td>\n      <td>0.195807</td>\n      <td>0.305629</td>\n      <td>0.247124</td>\n    </tr>\n    <tr>\n      <th>55</th>\n      <td>0.053445</td>\n      <td>0.118774</td>\n      <td>0.193105</td>\n      <td>0.285467</td>\n      <td>0.203765</td>\n    </tr>\n    <tr>\n      <th>58</th>\n      <td>0.209018</td>\n      <td>0.333783</td>\n      <td>0.395619</td>\n      <td>0.475779</td>\n      <td>0.183834</td>\n    </tr>\n    <tr>\n      <th>59</th>\n      <td>0.076968</td>\n      <td>0.174029</td>\n      <td>0.251870</td>\n      <td>0.330754</td>\n      <td>0.271680</td>\n    </tr>\n    <tr>\n      <th>60</th>\n      <td>0.089754</td>\n      <td>0.166522</td>\n      <td>0.247891</td>\n      <td>0.309771</td>\n      <td>0.401403</td>\n    </tr>\n    <tr>\n      <th>61</th>\n      <td>0.123741</td>\n      <td>0.219552</td>\n      <td>0.287566</td>\n      <td>0.381615</td>\n      <td>0.194679</td>\n    </tr>\n    <tr>\n      <th>62</th>\n      <td>0.256269</td>\n      <td>0.341560</td>\n      <td>0.436265</td>\n      <td>0.528106</td>\n      <td>0.353866</td>\n    </tr>\n    <tr>\n      <th>63</th>\n      <td>0.275068</td>\n      <td>0.351322</td>\n      <td>0.430606</td>\n      <td>0.519380</td>\n      <td>0.333068</td>\n    </tr>\n    <tr>\n      <th>66</th>\n      <td>0.149857</td>\n      <td>0.237077</td>\n      <td>0.305374</td>\n      <td>0.375995</td>\n      <td>0.536549</td>\n    </tr>\n    <tr>\n      <th>67</th>\n      <td>0.243628</td>\n      <td>0.328674</td>\n      <td>0.431144</td>\n      <td>0.508905</td>\n      <td>0.259896</td>\n    </tr>\n    <tr>\n      <th>68</th>\n      <td>0.212064</td>\n      <td>0.290170</td>\n      <td>0.384874</td>\n      <td>0.444554</td>\n      <td>0.433580</td>\n    </tr>\n    <tr>\n      <th>70</th>\n      <td>0.488062</td>\n      <td>0.582981</td>\n      <td>0.637074</td>\n      <td>0.672103</td>\n      <td>0.231481</td>\n    </tr>\n    <tr>\n      <th>71</th>\n      <td>0.259448</td>\n      <td>0.354411</td>\n      <td>0.462327</td>\n      <td>0.513231</td>\n      <td>0.435651</td>\n    </tr>\n  </tbody>\n</table>\n</div>"
     },
     "execution_count": 53,
     "metadata": {},
     "output_type": "execute_result"
    }
   ],
   "source": [
    "df_combined = pd.merge(df_line_fixation_per_participant, df_snippet_length, on=[\"Algorithm\"])\n",
    "df_combined = pd.merge(df_combined, df_behavioral, on=[\"Participant\", \"Algorithm\"])\n",
    "df_combined[\"FixationStart\"] = df_combined[\"FixationStart\"] / 1000.0\n",
    "df_combined[\"FixationEnd\"] = df_combined[\"FixationEnd\"] / 1000.0\n",
    "\n",
    "\n",
    "def loc_coverage_after_time_percentage(df, percentage):\n",
    "    end_duration = df[\"Duration\"].iloc[0]\n",
    "    loc = df[\"LOC\"].iloc[0]\n",
    "    max_duration = end_duration * percentage\n",
    "    df_filtered = df[df[\"FixationEnd\"] <= max_duration]\n",
    "    unique_loc = df_filtered[\"LineNumber\"].nunique()\n",
    "    return unique_loc / loc\n",
    "\n",
    "df_20 = df_combined.groupby([\"Algorithm\", \"Participant\"]).apply(lambda df : loc_coverage_after_time_percentage(df, 0.2))\n",
    "df_20 = df_20.reset_index()\n",
    "\n",
    "df_30 = df_combined.groupby([\"Algorithm\", \"Participant\"]).apply(lambda df : loc_coverage_after_time_percentage(df, 0.3))\n",
    "df_30 = df_30.reset_index()\n",
    "\n",
    "df_40 = df_combined.groupby([\"Algorithm\", \"Participant\"]).apply(lambda df : loc_coverage_after_time_percentage(df, 0.4))\n",
    "df_40 = df_40.reset_index()\n",
    "\n",
    "df_50 = df_combined.groupby([\"Algorithm\", \"Participant\"]).apply(lambda df : loc_coverage_after_time_percentage(df, 0.5))\n",
    "df_50 = df_50.reset_index()\n",
    "\n",
    "df_20 = df_20.groupby([\"Participant\"]).mean().values.reshape(37, )\n",
    "df_30 = df_30.groupby([\"Participant\"]).mean().values.reshape(37, )\n",
    "df_40 = df_40.groupby([\"Participant\"]).mean().values.reshape(37, )\n",
    "df_50 = df_50.groupby([\"Participant\"]).mean().values.reshape(37, )\n",
    "\n",
    "\n",
    "df_skill = df_behavioral[[\"Participant\", \"SkillScore\"]]\n",
    "df_skill = df_skill.drop_duplicates()\n",
    "\n",
    "df_code_coverage = pd.DataFrame({\"Participant\": participants, \"20%\": df_20, \"30%\": df_30, \"40%\": df_40, \"50%\": df_50})\n",
    "df_code_coverage.set_index(\"Participant\", inplace=True, drop=True)\n",
    "df_code_coverage = pd.merge(df_code_coverage, df_skill, on=[\"Participant\"])\n",
    "df_code_coverage.set_index(\"Participant\", inplace=True, drop=True)\n",
    "df_code_coverage"
   ],
   "metadata": {
    "collapsed": false,
    "pycharm": {
     "name": "#%%\n"
    }
   }
  },
  {
   "cell_type": "code",
   "execution_count": 54,
   "outputs": [
    {
     "data": {
      "text/plain": "0.3102354705268953"
     },
     "execution_count": 54,
     "metadata": {},
     "output_type": "execute_result"
    }
   ],
   "source": [
    "df_code_coverage[\"30%\"].mean()"
   ],
   "metadata": {
    "collapsed": false,
    "pycharm": {
     "name": "#%%\n"
    }
   }
  },
  {
   "cell_type": "code",
   "execution_count": 55,
   "outputs": [
    {
     "data": {
      "text/plain": "                 20%       30%       40%       50%  SkillScore\n20%         1.000000  0.974633  0.964438  0.944523   -0.086060\n30%         0.974633  1.000000  0.982693  0.955666   -0.111190\n40%         0.964438  0.982693  1.000000  0.978426   -0.110479\n50%         0.944523  0.955666  0.978426  1.000000   -0.172831\nSkillScore -0.086060 -0.111190 -0.110479 -0.172831    1.000000",
      "text/html": "<div>\n<style scoped>\n    .dataframe tbody tr th:only-of-type {\n        vertical-align: middle;\n    }\n\n    .dataframe tbody tr th {\n        vertical-align: top;\n    }\n\n    .dataframe thead th {\n        text-align: right;\n    }\n</style>\n<table border=\"1\" class=\"dataframe\">\n  <thead>\n    <tr style=\"text-align: right;\">\n      <th></th>\n      <th>20%</th>\n      <th>30%</th>\n      <th>40%</th>\n      <th>50%</th>\n      <th>SkillScore</th>\n    </tr>\n  </thead>\n  <tbody>\n    <tr>\n      <th>20%</th>\n      <td>1.000000</td>\n      <td>0.974633</td>\n      <td>0.964438</td>\n      <td>0.944523</td>\n      <td>-0.086060</td>\n    </tr>\n    <tr>\n      <th>30%</th>\n      <td>0.974633</td>\n      <td>1.000000</td>\n      <td>0.982693</td>\n      <td>0.955666</td>\n      <td>-0.111190</td>\n    </tr>\n    <tr>\n      <th>40%</th>\n      <td>0.964438</td>\n      <td>0.982693</td>\n      <td>1.000000</td>\n      <td>0.978426</td>\n      <td>-0.110479</td>\n    </tr>\n    <tr>\n      <th>50%</th>\n      <td>0.944523</td>\n      <td>0.955666</td>\n      <td>0.978426</td>\n      <td>1.000000</td>\n      <td>-0.172831</td>\n    </tr>\n    <tr>\n      <th>SkillScore</th>\n      <td>-0.086060</td>\n      <td>-0.111190</td>\n      <td>-0.110479</td>\n      <td>-0.172831</td>\n      <td>1.000000</td>\n    </tr>\n  </tbody>\n</table>\n</div>"
     },
     "execution_count": 55,
     "metadata": {},
     "output_type": "execute_result"
    }
   ],
   "source": [
    "# spearman correlation\n",
    "df_code_coverage.corr(method=\"spearman\")"
   ],
   "metadata": {
    "collapsed": false,
    "pycharm": {
     "name": "#%%\n"
    }
   }
  },
  {
   "cell_type": "code",
   "execution_count": null,
   "outputs": [],
   "source": [],
   "metadata": {
    "collapsed": false,
    "pycharm": {
     "name": "#%%\n"
    }
   }
  }
 ],
 "metadata": {
  "kernelspec": {
   "display_name": "Python 3",
   "language": "python",
   "name": "python3"
  },
  "language_info": {
   "codemirror_mode": {
    "name": "ipython",
    "version": 3
   },
   "file_extension": ".py",
   "mimetype": "text/x-python",
   "name": "python",
   "nbconvert_exporter": "python",
   "pygments_lexer": "ipython3",
   "version": "3.8.8"
  }
 },
 "nbformat": 4,
 "nbformat_minor": 5
}