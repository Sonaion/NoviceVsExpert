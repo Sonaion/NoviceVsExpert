{
 "cells": [
  {
   "cell_type": "markdown",
   "id": "e5b0b9bc-9a85-4521-8210-9e1ef92c238c",
   "metadata": {},
   "source": [
    "<h2> Load Data</h2>"
   ]
  },
  {
   "cell_type": "code",
   "execution_count": 34,
   "id": "81dc01b0-3756-4775-a258-f1a956ae9599",
   "metadata": {},
   "outputs": [],
   "source": [
    "import warnings\n",
    "import matplotlib.pyplot as plt\n",
    "import json\n",
    "import numpy as np\n",
    "import pandas as pd\n",
    "\n",
    "import preparers\n",
    "import sonaion_analysis as son\n",
    "import GenSnippetsLib as snippet\n",
    "from pandas.core.common import SettingWithCopyWarning\n",
    "\n",
    "warnings.simplefilter(action=\"ignore\", category=SettingWithCopyWarning)"
   ]
  },
  {
   "cell_type": "code",
   "execution_count": 35,
   "id": "9e48d263-899b-4295-b8c4-133cb4324147",
   "metadata": {},
   "outputs": [
    {
     "name": "stdout",
     "output_type": "stream",
     "text": [
      "Loading BogoSort Files ....."
     ]
    }
   ],
   "source": [
    "data = preparers.load_queried(\n",
    "    participant_number=1,\n",
    "    snippets=[\"BogoSort\"],\n",
    "    query_code=True,\n",
    "    query_eye_tracking=True,\n",
    ")"
   ]
  },
  {
   "cell_type": "markdown",
   "id": "afb574a9-b8de-4932-b508-b37033b539e2",
   "metadata": {},
   "source": [
    "<h2>potential funtion arguments</h2>"
   ]
  },
  {
   "cell_type": "code",
   "execution_count": 36,
   "outputs": [],
   "source": [
    "def get_line_bounds(img, image_path):\n",
    "    height = img.size[1]\n",
    "    with open(image_path) as json_file:\n",
    "        data = json.load(json_file)\n",
    "        height_margin = data[\"height-margin\"]\n",
    "        loc = len(data[\"source-code\"])\n",
    "        height = height - 2 * height_margin\n",
    "\n",
    "    step_size = height/loc\n",
    "    bounds = []\n",
    "    for i in range(loc):\n",
    "        lower = int(i*step_size) + height_margin\n",
    "        higher = int((i+1)*step_size) + height_margin\n",
    "        bounds.append((i, lower, higher))\n",
    "\n",
    "    return bounds"
   ],
   "metadata": {
    "collapsed": false,
    "pycharm": {
     "name": "#%%\n"
    }
   }
  },
  {
   "cell_type": "code",
   "execution_count": 37,
   "outputs": [],
   "source": [
    "fig, ax = (None, None)\n",
    "denoise_degree = 10\n",
    "display_width = 1920\n",
    "display_height = 1080\n",
    "left_color = (0.0, 1.0, 1.0)\n",
    "right_color = (0.0, 1.0, 0.0)\n",
    "image_path = \"../CodeSnippets/Generators/\" + \"BogoSort\" + \".json\"\n",
    "img, result = snippet.create_image(image_path, font_path=\"/../CodeSnippets/fonts/ttf/\")\n",
    "offset = int(display_height*0.5-img.size[1]*0.5)\n",
    "img_bounds = get_line_bounds(img, image_path)\n",
    "img_bounds = [(i, low + offset, high + offset) for i, low, high in img_bounds]\n",
    "loc = len(img_bounds)\n",
    "line_middle = [int((low+height)/2) for i, low, height in img_bounds]\n",
    "bg = snippet.create_background(display_width, display_height, (180, 180, 180, 255))\n",
    "img = snippet.place_image_on(bg, np.array(img), 0.5, 0.5)\n",
    "cat = np.full(display_height, None)\n",
    "for i, low, height in img_bounds:\n",
    "    for j in range(low, height):\n",
    "        cat[j] = i"
   ],
   "metadata": {
    "collapsed": false,
    "pycharm": {
     "name": "#%%\n"
    }
   }
  },
  {
   "cell_type": "markdown",
   "id": "7546f4be-10cb-40fd-b1a6-e74bd84c752f",
   "metadata": {},
   "source": [
    "<h2> Prepare queried Data</h2>"
   ]
  },
  {
   "cell_type": "code",
   "execution_count": 38,
   "outputs": [],
   "source": [
    "def update_names(df_eyetracking, name_dict):\n",
    "    df_eyetracking = df_eyetracking.rename(columns=name_dict)\n",
    "    return df_eyetracking"
   ],
   "metadata": {
    "collapsed": false,
    "pycharm": {
     "name": "#%%\n"
    }
   }
  },
  {
   "cell_type": "code",
   "execution_count": 39,
   "outputs": [],
   "source": [
    "def update_to_display_coordinates(df_eyetracking):\n",
    "    df_eyetracking[\"display_x\"] = df_eyetracking[\"display_x\"].apply(lambda x: x * display_width)\n",
    "    df_eyetracking[\"display_x\"] = df_eyetracking[\"display_x\"].astype(float).fillna(0).astype(int)\n",
    "\n",
    "    df_eyetracking[\"display_y\"] = df_eyetracking[\"display_y\"].apply(lambda x: x * display_height)\n",
    "    df_eyetracking[\"display_y\"] = df_eyetracking[\"display_y\"].astype(float).fillna(0).astype(int)\n",
    "    return df_eyetracking"
   ],
   "metadata": {
    "collapsed": false,
    "pycharm": {
     "name": "#%%\n"
    }
   }
  },
  {
   "cell_type": "code",
   "execution_count": 40,
   "outputs": [],
   "source": [
    "def update_normalize_time(df_eyetracking):\n",
    "    df_eyetracking[\"time\"] = df_eyetracking[\"time\"] - df_eyetracking[\"time\"][0]\n",
    "    return df_eyetracking"
   ],
   "metadata": {
    "collapsed": false,
    "pycharm": {
     "name": "#%%\n"
    }
   }
  },
  {
   "cell_type": "code",
   "execution_count": 41,
   "outputs": [],
   "source": [
    "def update_replace_invalid(df_eyetracking):\n",
    "    (\n",
    "        replaced_x,\n",
    "        replaced_y,\n",
    "        replaced_diameter,\n",
    "        replaced_valid,\n",
    "    ) = son.eyetracking.preprocessing_invalid.replace_with_prev_invalid(\n",
    "        df_eyetracking[\"display_x\"],\n",
    "        df_eyetracking[\"display_y\"],\n",
    "        df_eyetracking[\"pupil_diameter\"],\n",
    "        df_eyetracking[\"valid\"],\n",
    "    )\n",
    "\n",
    "    df_eyetracking[\"display_x\"] = replaced_x\n",
    "    df_eyetracking[\"display_y\"] = replaced_y\n",
    "    df_eyetracking[\"pupil_diameter\"] = replaced_diameter\n",
    "    df_eyetracking[\"valid\"] = replaced_valid\n",
    "    return df_eyetracking"
   ],
   "metadata": {
    "collapsed": false,
    "pycharm": {
     "name": "#%%\n"
    }
   }
  },
  {
   "cell_type": "code",
   "execution_count": 42,
   "outputs": [],
   "source": [
    "def update_denoise(df_eyetracking, denoise_degree):\n",
    "    for _i in range(denoise_degree):\n",
    "        denoised_x, denoised_y = son.eyetracking.preprocessing_denoise.denoise(\n",
    "            df_eyetracking[\"display_x\"],\n",
    "            df_eyetracking[\"display_y\"],\n",
    "            son.eyetracking.preprocessing_denoise.parabola_5_kernel,\n",
    "        )\n",
    "\n",
    "        df_eyetracking[\"display_x\"] = denoised_x\n",
    "        df_eyetracking[\"display_y\"] = denoised_y\n",
    "    return df_eyetracking"
   ],
   "metadata": {
    "collapsed": false,
    "pycharm": {
     "name": "#%%\n"
    }
   }
  },
  {
   "cell_type": "code",
   "execution_count": 43,
   "outputs": [],
   "source": [
    "def update_match_to_line(df_eyetracking, line_middle, cat):\n",
    "    df_eyetracking[\"display_y\"] =  df_eyetracking[\"display_y\"].apply(lambda x: line_middle[cat[x]] if cat[x] is not None else float(\"Nan\"))\n",
    "    df_eyetracking = df_eyetracking[df_eyetracking[\"display_y\"].notnull()]\n",
    "    df_eyetracking[\"display_y\"] = df_eyetracking[\"display_y\"].astype(int)\n",
    "    df_eyetracking = df_eyetracking.reset_index()\n",
    "    return df_eyetracking"
   ],
   "metadata": {
    "collapsed": false,
    "pycharm": {
     "name": "#%%\n"
    }
   }
  },
  {
   "cell_type": "code",
   "execution_count": 50,
   "outputs": [],
   "source": [
    "def mask_function():\n",
    "    return lambda height, width, coordinate: son.utils.masks.create_circular_mask(height, width, coordinate, 30)\n",
    "\n",
    "def create_heatmap(df_eyetracking, color, width, height):\n",
    "    heat_data = son.eyetracking.heatmap.create_heatmap(\n",
    "        df_eyetracking[\"display_x\"],\n",
    "        df_eyetracking[\"display_y\"],\n",
    "        df_eyetracking[\"valid\"],\n",
    "        0.004,\n",
    "        width,\n",
    "        height,\n",
    "        mask_function(),\n",
    "    )\n",
    "\n",
    "    heat_data = heat_data / heat_data.max()\n",
    "    heat_data = np.array([heat_data * color[0], heat_data * color[1], heat_data * color[2], heat_data])\n",
    "    heat_data = np.moveaxis(heat_data, 0, 2)\n",
    "    return heat_data"
   ],
   "metadata": {
    "collapsed": false,
    "pycharm": {
     "name": "#%%\n"
    }
   }
  },
  {
   "cell_type": "code",
   "execution_count": null,
   "outputs": [],
   "source": [
    "def create_sequence_diagram(df_eyetracking, color, width, height, max_pixel):\n",
    "    step_size = max_pixel/len(df_eyetracking)\n",
    "\n",
    "    sequence_data = son.eyetracking.sequence.create_sequence_diagram_y(\n",
    "        df_eyetracking[\"display_y\"],\n",
    "        df_eyetracking[\"valid\"],\n",
    "        height,\n",
    "        width,\n",
    "        offset=0,\n",
    "        step=step_size,\n",
    "        should_skip=False,\n",
    "    )\n",
    "    sequence_data = np.array([sequence_data * color[0], sequence_data * color[1], sequence_data * color[2], sequence_data])\n",
    "    sequence_data = np.moveaxis(sequence_data, 0, 2)\n",
    "    return sequence_data"
   ],
   "metadata": {
    "collapsed": false,
    "pycharm": {
     "name": "#%%\n"
    }
   }
  },
  {
   "cell_type": "code",
   "execution_count": null,
   "outputs": [],
   "source": [
    "def get_fixation_saccades_metrics(df_eyetracking, d_time):\n",
    "    d_time = 0.004\n",
    "    threshold_for_fixation = 2400.0\n",
    "    saccades = son.eyetracking.metrics.classify_saccades( df_eyetracking[\"display_x\"], df_eyetracking[\"display_y\"], d_time, threshold_for_fixation)\n",
    "    if len(saccades) >= 1:\n",
    "        saccades[0] = saccades[1]\n",
    "\n",
    "\n",
    "    fixxation = son.eyetracking.metrics.classify_fixxation( df_eyetracking[\"display_x\"], df_eyetracking[\"display_y\"], d_time, threshold_for_fixation)\n",
    "    if len(fixxation) >= 1:\n",
    "        fixxation[0] = fixxation[1]\n",
    "\n",
    "\n",
    "    saccades = np.array(saccades)\n",
    "    fixxation = np.array(fixxation)\n",
    "\n",
    "    saccades_count = son.eyetracking.metrics.count_saccades(saccades)\n",
    "    if saccades_count == 0:\n",
    "        saccades_time_of_first = 0\n",
    "        saccades_average_time = 0\n",
    "    else:\n",
    "        saccades_time_of_first = son.eyetracking.metrics.time_of_saccades(saccades, d_time)[0][0]\n",
    "        saccades_average_time = son.eyetracking.metrics.average_saccades_time(son.eyetracking.metrics.time_of_saccades(saccades, d_time))\n",
    "\n",
    "    fixxation_count = son.eyetracking.metrics.count_fixxations(fixxation)\n",
    "    if fixxation_count == 0:\n",
    "        fixxation_time_of_first = 0\n",
    "        fixxation_average_time = 0\n",
    "    else:\n",
    "        fixxation_time_of_first = son.eyetracking.metrics.time_of_fixxations(fixxation, d_time)[0][0]\n",
    "        fixxation_average_time = son.eyetracking.metrics.average_fixxations_time(son.eyetracking.metrics.time_of_fixxations(fixxation, d_time))\n",
    "\n",
    "    return pd.DataFrame([[\n",
    "        saccades_count,\n",
    "        saccades_time_of_first,\n",
    "        saccades_average_time,\n",
    "        fixxation_count,\n",
    "        fixxation_time_of_first,\n",
    "        fixxation_average_time,\n",
    "    ]], columns=[\"Saccades Count\", \"Time to first Saccade\", \"Average Saccade Time\", \"Fixation Count\", \"Time to first Fixation\", \"Average Fixation Time\"])"
   ],
   "metadata": {
    "collapsed": false,
    "pycharm": {
     "name": "#%%\n"
    }
   }
  },
  {
   "cell_type": "code",
   "execution_count": 47,
   "id": "6e789902-fa86-40ee-af55-6dfda9fc0f09",
   "metadata": {
    "pycharm": {
     "name": "#%%\n"
    }
   },
   "outputs": [],
   "source": [
    "df_eyetracking = data[\"BogoSort\"][\"Code\"][\"EyeTracking\"][\n",
    "    [\n",
    "        \"l_valid\",\n",
    "        \"l_display_x\",\n",
    "        \"l_display_y\",\n",
    "        \"time\",\n",
    "        \"l_pupil_diameter\",\n",
    "    ]\n",
    "]\n",
    "\n",
    "left_naming = {\n",
    "    \"l_valid\" : \"valid\",\n",
    "    \"l_display_x\" : \"display_x\",\n",
    "    \"l_display_y\" : \"display_y\",\n",
    "    \"l_pupil_diameter\" : \"pupil_diameter\",\n",
    "}\n",
    "\n",
    "right_naming = {\n",
    "    \"r_valid\" : \"valid\",\n",
    "    \"r_display_x\" : \"display_x\",\n",
    "    \"r_display_y\" : \"display_y\",\n",
    "    \"r_pupil_diameter\" : \"pupil_diameter\",\n",
    "}\n",
    "\n",
    "df_eyetracking = update_names(df_eyetracking, left_naming)\n",
    "df_eyetracking = update_to_display_coordinates(df_eyetracking)\n",
    "df_eyetracking = update_normalize_time(df_eyetracking)\n",
    "df_eyetracking = update_replace_invalid(df_eyetracking)\n",
    "df_eyetracking = update_denoise(df_eyetracking, denoise_degree)\n",
    "df_eyetracking = update_match_to_line(df_eyetracking, line_middle, cat)"
   ]
  }
 ],
 "metadata": {
  "kernelspec": {
   "display_name": "Python 3",
   "language": "python",
   "name": "python3"
  },
  "language_info": {
   "codemirror_mode": {
    "name": "ipython",
    "version": 3
   },
   "file_extension": ".py",
   "mimetype": "text/x-python",
   "name": "python",
   "nbconvert_exporter": "python",
   "pygments_lexer": "ipython3",
   "version": "3.8.8"
  }
 },
 "nbformat": 4,
 "nbformat_minor": 5
}