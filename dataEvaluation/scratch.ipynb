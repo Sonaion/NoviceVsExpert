{
 "cells": [
  {
   "cell_type": "markdown",
   "id": "e5b0b9bc-9a85-4521-8210-9e1ef92c238c",
   "metadata": {},
   "source": [
    "<h2> Load Data</h2>"
   ]
  },
  {
   "cell_type": "code",
   "execution_count": 1,
   "id": "81dc01b0-3756-4775-a258-f1a956ae9599",
   "metadata": {},
   "outputs": [],
   "source": [
    "import warnings\n",
    "import matplotlib.pyplot as plt\n",
    "import json\n",
    "import numpy as np\n",
    "import pandas as pd\n",
    "import regex as re\n",
    "import utils.preparers\n",
    "import sonaion_analysis as son\n",
    "import utils.GenSnippetsLib as snippet\n",
    "import utils.behavioral as bh\n",
    "import os\n",
    "import seaborn as sns\n",
    "import chord\n",
    "from pandas.core.common import SettingWithCopyWarning\n",
    "\n",
    "warnings.simplefilter(action=\"ignore\", category=SettingWithCopyWarning)"
   ]
  },
  {
   "cell_type": "code",
   "execution_count": 2,
   "outputs": [
    {
     "data": {
      "text/plain": "['Ackerman.java',\n 'ArrayAverage.java',\n 'BinarySearch.java',\n 'BinomialCoefficient.java',\n 'BinToDecimal.java',\n 'BogoSort.java',\n 'CheckIfLettersOnly.java',\n 'ContainsSubstring.java',\n 'DropNumber.java',\n 'DumpSorting.java',\n 'GreatestCommonDivisor.java',\n 'HeightOfTree.java',\n 'HIndex.java',\n 'InsertSort.java',\n 'IsAnagram.java',\n 'IsPrime.java',\n 'LengthOfLast.java',\n 'MedianOnSorted.java',\n 'Palindrome.java',\n 'PermuteString.java',\n 'Power.java',\n 'RabbitTortoise.java',\n 'Rectangle.java',\n 'RectanglePower.java',\n 'RemoveDoubleChar.java',\n 'ReverseArray.java',\n 'ReverseQueue.java',\n 'SiebDesEratosthenes.java',\n 'SignChecker.java',\n 'SmallGauss.java',\n 'SumArray.java',\n 'Vehicle.java']"
     },
     "execution_count": 2,
     "metadata": {},
     "output_type": "execute_result"
    }
   ],
   "source": [
    "# get every file from the folder ./data/Snippets\n",
    "# and put it in a list\n",
    "import os\n",
    "\n",
    "data_template = {\n",
    "    \"font-normal\": \"JetBrainsMono-Regular.ttf\",\n",
    "    \"font-bold\": \"JetBrainsMono-Bold.ttf\",\n",
    "    \"font-italic\": \"JetBrainsMono-BoldItalic.ttf\",\n",
    "    \"font-bold-italic\": \"JetBrainsMono-Italic.ttf\",\n",
    "    \"font-size\": 14,\n",
    "    \"width-margin\": 5,\n",
    "    \"height-margin\": 5,\n",
    "    \"spacing\": 1,\n",
    "    \"background-color\": [255, 255, 255],\n",
    "}\n",
    "\n",
    "source_folder = os.getcwd() + \"./data/Snippets\"\n",
    "generator_folder = os.getcwd() + \"./data/Generators\"\n",
    "files = [file for file in os.listdir(source_folder) if file.endswith(\".java\")]\n",
    "\n",
    "data_dict = {}\n",
    "for file in files:\n",
    "    filename, _file_extension = os.path.splitext(file)\n",
    "    file_data = open(source_folder + \"\\\\\" + file, \"r\")\n",
    "    file_data = file_data.read()\n",
    "    file_data_splitted = file_data.split(\"\\n\")\n",
    "    right = [\"right\"]\n",
    "    wrong1 = [\"wrong1\"]\n",
    "    wrong2 = [\"wrong2\"]\n",
    "    dont_know = [\"?\"]\n",
    "    next_snippet = [\"next\"]\n",
    "\n",
    "    data_dict[filename] = [file_data_splitted, file_data_splitted, right, wrong1, wrong2, dont_know, next_snippet]\n",
    "\n",
    "for key, value_array in data_dict.items():\n",
    "    data_dict = []\n",
    "    for value in value_array:\n",
    "        template = data_template.copy()\n",
    "        template[\"source-code\"] = value\n",
    "        data_dict.append(template)\n",
    "\n",
    "    name_postfixes = [\"\", \"Input\", \"Right\", \"Wrong1\", \"Wrong2\", \"DontKnow\", \"Next\"]\n",
    "    for idx, data in enumerate(data_dict):\n",
    "        name = key + name_postfixes[idx] + \".json\"\n",
    "        file_data = json.dumps(data, indent=4, separators=(',', ': '))\n",
    "        f = open(generator_folder + \"\\\\\" + name, \"w\")\n",
    "        f.write(file_data)\n",
    "        f.close()"
   ],
   "metadata": {
    "collapsed": false,
    "pycharm": {
     "name": "#%%\n"
    }
   }
  },
  {
   "cell_type": "markdown",
   "id": "afb574a9-b8de-4932-b508-b37033b539e2",
   "metadata": {},
   "source": [
    "<h2>potential funtion arguments</h2>"
   ]
  },
  {
   "cell_type": "code",
   "execution_count": 2,
   "outputs": [],
   "source": [
    "def get_line_bounds(img, image_path):\n",
    "    height = img.size[1]\n",
    "    with open(image_path) as json_file:\n",
    "        data = json.load(json_file)\n",
    "        height_margin = data[\"height-margin\"]\n",
    "        loc = len(data[\"source-code\"])\n",
    "        height = height - 2 * height_margin\n",
    "\n",
    "    step_size = height / loc\n",
    "    bounds = []\n",
    "    for i in range(loc):\n",
    "        lower = int(i * step_size) + height_margin\n",
    "        higher = int((i + 1) * step_size) + height_margin\n",
    "        bounds.append((i, lower, higher))\n",
    "\n",
    "    return bounds"
   ],
   "metadata": {
    "collapsed": false,
    "pycharm": {
     "name": "#%%\n"
    }
   }
  },
  {
   "cell_type": "code",
   "execution_count": 3,
   "outputs": [],
   "source": [
    "fig, ax = (None, None)\n",
    "denoise_degree = 10\n",
    "display_width = 1920\n",
    "display_height = 1080\n",
    "left_color = (0.0, 1.0, 1.0)\n",
    "right_color = (0.0, 1.0, 0.0)\n",
    "image_path = \"../CodeSnippets/Generators/\" + \"BinarySearch\" + \".json\"\n",
    "img, result = snippet.create_image(image_path, font_path=\"/../CodeSnippets/fonts/ttf/\")\n",
    "offset = int(display_height * 0.5 - img.size[1] * 0.5)\n",
    "img_bounds = get_line_bounds(img, image_path)\n",
    "img_bounds = [(i, low + offset, high + offset) for i, low, high in img_bounds]\n",
    "loc = len(img_bounds)\n",
    "line_middle = [int((low + height) / 2) for i, low, height in img_bounds]\n",
    "bg = snippet.create_background(display_width, display_height, (180, 180, 180, 255))\n",
    "img = snippet.place_image_on(bg, np.array(img), 0.5, 0.5)\n",
    "cat = np.full(display_height, None)\n",
    "for i, low, height in img_bounds:\n",
    "    for j in range(low, height):\n",
    "        cat[j] = i"
   ],
   "metadata": {
    "collapsed": false,
    "pycharm": {
     "name": "#%%\n"
    }
   }
  },
  {
   "cell_type": "code",
   "execution_count": 4,
   "outputs": [
    {
     "data": {
      "text/plain": "<matplotlib.image.AxesImage at 0x21729556c40>"
     },
     "execution_count": 4,
     "metadata": {},
     "output_type": "execute_result"
    },
    {
     "data": {
      "text/plain": "<Figure size 432x288 with 1 Axes>",
      "image/png": "[encoded data removed]"
     },
     "metadata": {
      "needs_background": "light"
     },
     "output_type": "display_data"
    }
   ],
   "source": [
    "img.sa"
   ],
   "metadata": {
    "collapsed": false,
    "pycharm": {
     "name": "#%%\n"
    }
   }
  },
  {
   "cell_type": "code",
   "execution_count": 5,
   "outputs": [],
   "source": [
    "import PIL\n",
    "from PIL import Image\n",
    "img = Image.fromarray(img)\n",
    "img.save(\"./BinarySearch.png\")"
   ],
   "metadata": {
    "collapsed": false,
    "pycharm": {
     "name": "#%%\n"
    }
   }
  },
  {
   "cell_type": "markdown",
   "source": [
    "## Get Experience Score Values"
   ],
   "metadata": {
    "collapsed": false,
    "pycharm": {
     "name": "#%% md\n"
    }
   }
  },
  {
   "cell_type": "code",
   "execution_count": 4,
   "outputs": [],
   "source": [
    "df_questionnaire = pd.read_excel(\"./rawData/Questionnaire.xlsx\", sheet_name=\"Experience\")\n",
    "# transpose the dataframe\n",
    "df_questionnaire = df_questionnaire.transpose()\n",
    "# use first row as column names\n",
    "df_questionnaire.columns = df_questionnaire.iloc[0]\n",
    "#delete first row\n",
    "df_questionnaire = df_questionnaire.drop(df_questionnaire.index[0])\n",
    "#drop row where years of programming is missing\n",
    "df_questionnaire = df_questionnaire.dropna(subset=[\"yearsAtWork\"])\n",
    "#change all NaN to 0\n",
    "df_questionnaire = df_questionnaire.fillna(0)\n",
    "\n",
    "# drop row with \"Participant\" beeing 9\n",
    "df_questionnaire = df_questionnaire.drop(9)\n",
    "\n",
    "df_questionnaire[\"yearsOfProgramming\"] = df_questionnaire[\"yearsOfProgramming\"].astype(float)\n",
    "df_questionnaire[\"yearsOfJava\"] = df_questionnaire[\"yearsOfJava\"].astype(float)"
   ],
   "metadata": {
    "collapsed": false,
    "pycharm": {
     "name": "#%%\n"
    }
   }
  },
  {
   "cell_type": "code",
   "execution_count": 5,
   "outputs": [
    {
     "name": "stderr",
     "output_type": "stream",
     "text": [
      "<ipython-input-5-3b8a0fd0ae9f>:3: FutureWarning: Using a non-tuple sequence for multidimensional indexing is deprecated; use `arr[tuple(seq)]` instead of `arr[seq]`. In the future this will be interpreted as an array index, `arr[np.array(seq)]`, which will result either in an error or a different result.\n",
      "  corr.values[[np.arange(corr.shape[0])] * 2] = 0\n"
     ]
    },
    {
     "data": {
      "text/plain": "Participant                     yearsOfProgramming  \\\nParticipant                                          \nyearsOfProgramming                        0.000000   \nyearsOfProfessionalProgramming            0.912879   \nyearsOfJava                               0.834671   \nlogicalExperience                         0.196881   \nfunctionalExperience                      0.277054   \nimperativExperience                       0.298009   \nobjectExperience                          0.405389   \ncomparedToStudent                        -0.155277   \ncomparedToProfessional                    0.222305   \n\nParticipant                     yearsOfProfessionalProgramming  yearsOfJava  \\\nParticipant                                                                   \nyearsOfProgramming                                    0.912879     0.834671   \nyearsOfProfessionalProgramming                        0.000000     0.755738   \nyearsOfJava                                           0.755738     0.000000   \nlogicalExperience                                     0.162842     0.107167   \nfunctionalExperience                                  0.153438     0.313488   \nimperativExperience                                   0.211286     0.186688   \nobjectExperience                                      0.451542     0.348047   \ncomparedToStudent                                    -0.067585    -0.123541   \ncomparedToProfessional                                0.287723     0.267995   \n\nParticipant                     logicalExperience  functionalExperience  \\\nParticipant                                                               \nyearsOfProgramming                       0.196881              0.277054   \nyearsOfProfessionalProgramming           0.162842              0.153438   \nyearsOfJava                              0.107167              0.313488   \nlogicalExperience                        0.000000              0.438185   \nfunctionalExperience                     0.438185              0.000000   \nimperativExperience                      0.364237              0.311776   \nobjectExperience                         0.112319              0.099272   \ncomparedToStudent                        0.161150              0.019113   \ncomparedToProfessional                   0.299794              0.308248   \n\nParticipant                     imperativExperience  objectExperience  \\\nParticipant                                                             \nyearsOfProgramming                         0.298009          0.405389   \nyearsOfProfessionalProgramming             0.211286          0.451542   \nyearsOfJava                                0.186688          0.348047   \nlogicalExperience                          0.364237          0.112319   \nfunctionalExperience                       0.311776          0.099272   \nimperativExperience                        0.000000          0.393788   \nobjectExperience                           0.393788          0.000000   \ncomparedToStudent                         -0.083585          0.078476   \ncomparedToProfessional                     0.211158          0.393626   \n\nParticipant                     comparedToStudent  comparedToProfessional  \nParticipant                                                                \nyearsOfProgramming                      -0.155277                0.222305  \nyearsOfProfessionalProgramming          -0.067585                0.287723  \nyearsOfJava                             -0.123541                0.267995  \nlogicalExperience                        0.161150                0.299794  \nfunctionalExperience                     0.019113                0.308248  \nimperativExperience                     -0.083585                0.211158  \nobjectExperience                         0.078476                0.393626  \ncomparedToStudent                        0.000000                0.496090  \ncomparedToProfessional                   0.496090                0.000000  ",
      "text/html": "<div>\n<style scoped>\n    .dataframe tbody tr th:only-of-type {\n        vertical-align: middle;\n    }\n\n    .dataframe tbody tr th {\n        vertical-align: top;\n    }\n\n    .dataframe thead th {\n        text-align: right;\n    }\n</style>\n<table border=\"1\" class=\"dataframe\">\n  <thead>\n    <tr style=\"text-align: right;\">\n      <th>Participant</th>\n      <th>yearsOfProgramming</th>\n      <th>yearsOfProfessionalProgramming</th>\n      <th>yearsOfJava</th>\n      <th>logicalExperience</th>\n      <th>functionalExperience</th>\n      <th>imperativExperience</th>\n      <th>objectExperience</th>\n      <th>comparedToStudent</th>\n      <th>comparedToProfessional</th>\n    </tr>\n    <tr>\n      <th>Participant</th>\n      <th></th>\n      <th></th>\n      <th></th>\n      <th></th>\n      <th></th>\n      <th></th>\n      <th></th>\n      <th></th>\n      <th></th>\n    </tr>\n  </thead>\n  <tbody>\n    <tr>\n      <th>yearsOfProgramming</th>\n      <td>0.000000</td>\n      <td>0.912879</td>\n      <td>0.834671</td>\n      <td>0.196881</td>\n      <td>0.277054</td>\n      <td>0.298009</td>\n      <td>0.405389</td>\n      <td>-0.155277</td>\n      <td>0.222305</td>\n    </tr>\n    <tr>\n      <th>yearsOfProfessionalProgramming</th>\n      <td>0.912879</td>\n      <td>0.000000</td>\n      <td>0.755738</td>\n      <td>0.162842</td>\n      <td>0.153438</td>\n      <td>0.211286</td>\n      <td>0.451542</td>\n      <td>-0.067585</td>\n      <td>0.287723</td>\n    </tr>\n    <tr>\n      <th>yearsOfJava</th>\n      <td>0.834671</td>\n      <td>0.755738</td>\n      <td>0.000000</td>\n      <td>0.107167</td>\n      <td>0.313488</td>\n      <td>0.186688</td>\n      <td>0.348047</td>\n      <td>-0.123541</td>\n      <td>0.267995</td>\n    </tr>\n    <tr>\n      <th>logicalExperience</th>\n      <td>0.196881</td>\n      <td>0.162842</td>\n      <td>0.107167</td>\n      <td>0.000000</td>\n      <td>0.438185</td>\n      <td>0.364237</td>\n      <td>0.112319</td>\n      <td>0.161150</td>\n      <td>0.299794</td>\n    </tr>\n    <tr>\n      <th>functionalExperience</th>\n      <td>0.277054</td>\n      <td>0.153438</td>\n      <td>0.313488</td>\n      <td>0.438185</td>\n      <td>0.000000</td>\n      <td>0.311776</td>\n      <td>0.099272</td>\n      <td>0.019113</td>\n      <td>0.308248</td>\n    </tr>\n    <tr>\n      <th>imperativExperience</th>\n      <td>0.298009</td>\n      <td>0.211286</td>\n      <td>0.186688</td>\n      <td>0.364237</td>\n      <td>0.311776</td>\n      <td>0.000000</td>\n      <td>0.393788</td>\n      <td>-0.083585</td>\n      <td>0.211158</td>\n    </tr>\n    <tr>\n      <th>objectExperience</th>\n      <td>0.405389</td>\n      <td>0.451542</td>\n      <td>0.348047</td>\n      <td>0.112319</td>\n      <td>0.099272</td>\n      <td>0.393788</td>\n      <td>0.000000</td>\n      <td>0.078476</td>\n      <td>0.393626</td>\n    </tr>\n    <tr>\n      <th>comparedToStudent</th>\n      <td>-0.155277</td>\n      <td>-0.067585</td>\n      <td>-0.123541</td>\n      <td>0.161150</td>\n      <td>0.019113</td>\n      <td>-0.083585</td>\n      <td>0.078476</td>\n      <td>0.000000</td>\n      <td>0.496090</td>\n    </tr>\n    <tr>\n      <th>comparedToProfessional</th>\n      <td>0.222305</td>\n      <td>0.287723</td>\n      <td>0.267995</td>\n      <td>0.299794</td>\n      <td>0.308248</td>\n      <td>0.211158</td>\n      <td>0.393626</td>\n      <td>0.496090</td>\n      <td>0.000000</td>\n    </tr>\n  </tbody>\n</table>\n</div>"
     },
     "execution_count": 5,
     "metadata": {},
     "output_type": "execute_result"
    }
   ],
   "source": [
    "# calulate the pearson correlation between the years of programming and the years of java\n",
    "corr = df_questionnaire.corr(method=\"pearson\")\n",
    "corr.values[[np.arange(corr.shape[0])] * 2] = 0\n",
    "corr"
   ],
   "metadata": {
    "collapsed": false,
    "pycharm": {
     "name": "#%%\n"
    }
   }
  },
  {
   "cell_type": "code",
   "execution_count": 31,
   "outputs": [],
   "source": [
    "participants = []\n",
    "snippets = []\n",
    "for sub_dirs in list(os.walk(\"./filteredData\"))[0][1]:\n",
    "    participants.append(int(re.findall(r'\\d+', sub_dirs)[0]))\n",
    "\n",
    "df_behavioral = bh.get_behavioral_df(participants)"
   ],
   "metadata": {
    "collapsed": false,
    "pycharm": {
     "name": "#%%\n"
    }
   }
  },
  {
   "cell_type": "code",
   "execution_count": 32,
   "outputs": [
    {
     "data": {
      "text/plain": "              Duration Response              Snippet\nParticipant                                         \n1            27.286223    Wrong             Ackerman\n1            23.420816    Wrong         ArrayAverage\n1            49.922091    Right         BinToDecimal\n1            47.770645    Wrong         BinarySearch\n1            82.632721    Wrong  BinomialCoefficient\n...                ...      ...                  ...\n71           35.637456    Right  SiebDesEratosthenes\n71           16.485685    Right          SignChecker\n71           18.607310    Right           SmallGauss\n71            6.636784    Right             SumArray\n71           15.643219    Right              Vehicle\n\n[1090 rows x 3 columns]",
      "text/html": "<div>\n<style scoped>\n    .dataframe tbody tr th:only-of-type {\n        vertical-align: middle;\n    }\n\n    .dataframe tbody tr th {\n        vertical-align: top;\n    }\n\n    .dataframe thead th {\n        text-align: right;\n    }\n</style>\n<table border=\"1\" class=\"dataframe\">\n  <thead>\n    <tr style=\"text-align: right;\">\n      <th></th>\n      <th>Duration</th>\n      <th>Response</th>\n      <th>Snippet</th>\n    </tr>\n    <tr>\n      <th>Participant</th>\n      <th></th>\n      <th></th>\n      <th></th>\n    </tr>\n  </thead>\n  <tbody>\n    <tr>\n      <th>1</th>\n      <td>27.286223</td>\n      <td>Wrong</td>\n      <td>Ackerman</td>\n    </tr>\n    <tr>\n      <th>1</th>\n      <td>23.420816</td>\n      <td>Wrong</td>\n      <td>ArrayAverage</td>\n    </tr>\n    <tr>\n      <th>1</th>\n      <td>49.922091</td>\n      <td>Right</td>\n      <td>BinToDecimal</td>\n    </tr>\n    <tr>\n      <th>1</th>\n      <td>47.770645</td>\n      <td>Wrong</td>\n      <td>BinarySearch</td>\n    </tr>\n    <tr>\n      <th>1</th>\n      <td>82.632721</td>\n      <td>Wrong</td>\n      <td>BinomialCoefficient</td>\n    </tr>\n    <tr>\n      <th>...</th>\n      <td>...</td>\n      <td>...</td>\n      <td>...</td>\n    </tr>\n    <tr>\n      <th>71</th>\n      <td>35.637456</td>\n      <td>Right</td>\n      <td>SiebDesEratosthenes</td>\n    </tr>\n    <tr>\n      <th>71</th>\n      <td>16.485685</td>\n      <td>Right</td>\n      <td>SignChecker</td>\n    </tr>\n    <tr>\n      <th>71</th>\n      <td>18.607310</td>\n      <td>Right</td>\n      <td>SmallGauss</td>\n    </tr>\n    <tr>\n      <th>71</th>\n      <td>6.636784</td>\n      <td>Right</td>\n      <td>SumArray</td>\n    </tr>\n    <tr>\n      <th>71</th>\n      <td>15.643219</td>\n      <td>Right</td>\n      <td>Vehicle</td>\n    </tr>\n  </tbody>\n</table>\n<p>1090 rows × 3 columns</p>\n</div>"
     },
     "execution_count": 32,
     "metadata": {},
     "output_type": "execute_result"
    }
   ],
   "source": [
    "#transform the response field, so that \"Right\" will be \"Right\" and everything else will be \"Wrong\"\n",
    "df_behavioral[\"Response\"] = df_behavioral[\"Response\"].apply(lambda x: \"Right\" if x == \"Right\" else \"Wrong\")\n",
    "df_behavioral[\"Duration\"] = df_behavioral[\"Duration\"].astype(float)\n",
    "df_behavioral"
   ],
   "metadata": {
    "collapsed": false,
    "pycharm": {
     "name": "#%%\n"
    }
   }
  },
  {
   "cell_type": "code",
   "execution_count": 40,
   "outputs": [],
   "source": [
    "lowest = df_behavioral[\"Duration\"].quantile(0.05)\n",
    "highest = df_behavioral[\"Duration\"].quantile(0.95)\n",
    "# kick out all rows where the duration is not in the 5% quantile range\n",
    "df_behavioral = df_behavioral[\n",
    "    ((df_behavioral[\"Duration\"] > lowest) & (df_behavioral[\"Duration\"] < highest))\n",
    "    | (df_behavioral[\"Duration\"] <= lowest) & (df_behavioral[\"Response\"] == \"Right\")]\n"
   ],
   "metadata": {
    "collapsed": false,
    "pycharm": {
     "name": "#%%\n"
    }
   }
  },
  {
   "cell_type": "code",
   "execution_count": 41,
   "outputs": [
    {
     "data": {
      "text/plain": "(0.0, 33.0)"
     },
     "execution_count": 41,
     "metadata": {},
     "output_type": "execute_result"
    },
    {
     "data": {
      "text/plain": "<Figure size 432x288 with 1 Axes>",
      "image/png": "[encoded data removed]"
     },
     "metadata": {},
     "output_type": "display_data"
    }
   ],
   "source": [
    "df_tmp = df_behavioral.groupby(\"Participant\").count()\n",
    "# create a histogram of the duration of the snippets\n",
    "g = sns.histplot(df_tmp[\"Duration\"],bins=32,label=\"Participants\")\n",
    "g.set_xlabel(\"Number of total Responses per Participant\")\n",
    "g.set_ylabel(\"Number of Participants\")\n",
    "g.set_title(\"Distribution of the number of responses\")\n",
    "g.set_xlim(0, 33)"
   ],
   "metadata": {
    "collapsed": false,
    "pycharm": {
     "name": "#%%\n"
    }
   }
  },
  {
   "cell_type": "code",
   "execution_count": 30,
   "outputs": [
    {
     "data": {
      "text/plain": "             Duration  Response  Snippet\nParticipant                             \n3                  15        15       15\n11                 19        19       19\n46                  8         8        8\n49                 15        15       15",
      "text/html": "<div>\n<style scoped>\n    .dataframe tbody tr th:only-of-type {\n        vertical-align: middle;\n    }\n\n    .dataframe tbody tr th {\n        vertical-align: top;\n    }\n\n    .dataframe thead th {\n        text-align: right;\n    }\n</style>\n<table border=\"1\" class=\"dataframe\">\n  <thead>\n    <tr style=\"text-align: right;\">\n      <th></th>\n      <th>Duration</th>\n      <th>Response</th>\n      <th>Snippet</th>\n    </tr>\n    <tr>\n      <th>Participant</th>\n      <th></th>\n      <th></th>\n      <th></th>\n    </tr>\n  </thead>\n  <tbody>\n    <tr>\n      <th>3</th>\n      <td>15</td>\n      <td>15</td>\n      <td>15</td>\n    </tr>\n    <tr>\n      <th>11</th>\n      <td>19</td>\n      <td>19</td>\n      <td>19</td>\n    </tr>\n    <tr>\n      <th>46</th>\n      <td>8</td>\n      <td>8</td>\n      <td>8</td>\n    </tr>\n    <tr>\n      <th>49</th>\n      <td>15</td>\n      <td>15</td>\n      <td>15</td>\n    </tr>\n  </tbody>\n</table>\n</div>"
     },
     "execution_count": 30,
     "metadata": {},
     "output_type": "execute_result"
    }
   ],
   "source": [
    "df_tmp[df_tmp[\"Response\"] < 20]"
   ],
   "metadata": {
    "collapsed": false,
    "pycharm": {
     "name": "#%%\n"
    }
   }
  },
  {
   "cell_type": "code",
   "execution_count": 11,
   "outputs": [],
   "source": [
    "# get the total time of the experiment per participant\n",
    "participants = []\n",
    "for sub_dirs in list(os.walk(\"./rawData\"))[0][1]:\n",
    "    participants.append(int(re.findall(r'\\d+', sub_dirs)[0]))\n",
    "\n",
    "df_times = pd.DataFrame(columns=[\"Participant\", \"totalTime\"])\n",
    "for participant in participants:\n",
    "    participant_folder = \"./rawData/Participant{}/\".format(str(participant).zfill(2))\n",
    "    psychopy_csv_path = participant_folder\n",
    "\n",
    "    # get path for psychopy log and csv data\n",
    "    for (dirpath, dirnames, filenames) in os.walk(psychopy_csv_path):\n",
    "        for file in filenames:\n",
    "            file, ext = os.path.splitext(file)\n",
    "            if ext == \".csv\" and \"test\" in file:\n",
    "                psychopy_csv_path = participant_folder + file + ext\n",
    "\n",
    "    # read csv file\n",
    "    df = pd.read_csv(psychopy_csv_path)\n",
    "    end_time = df.iloc[-2][\"continuQuestion.started\"]\n",
    "\n",
    "    # drop where ImagePath is empty\n",
    "    df = df.dropna(subset=[\"ImagePath\"])\n",
    "\n",
    "    # get the Image.started from the first row\n",
    "    start_time = df.iloc[0][\"Image.started\"]\n",
    "    # calculate the total time\n",
    "    total_time = end_time - start_time\n",
    "    # add the participant and total time to the dataframe\n",
    "    df_times = df_times.append({\"Participant\": int(participant), \"totalTime\": total_time}, ignore_index=True)\n",
    "\n",
    "# set index to participant\n",
    "df_times[\"Participant\"] = df_times[\"Participant\"].astype(int)\n",
    "df_times = df_times.set_index(\"Participant\", drop=True)\n",
    "df_behavioral[\"totalTime\"] = df_times[\"totalTime\"]"
   ],
   "metadata": {
    "collapsed": false,
    "pycharm": {
     "name": "#%%\n"
    }
   }
  },
  {
   "cell_type": "code",
   "execution_count": 12,
   "outputs": [
    {
     "data": {
      "text/plain": "              Duration Response              Snippet    totalTime\nParticipant                                                      \n1            27.286223    Wrong             Ackerman  4058.363428\n1            23.420816    Wrong         ArrayAverage  4058.363428\n1            49.922091    Right         BinToDecimal  4058.363428\n1            47.770645    Wrong         BinarySearch  4058.363428\n1            82.632721    Wrong  BinomialCoefficient  4058.363428\n...                ...      ...                  ...          ...\n71           35.637456    Right  SiebDesEratosthenes  3518.707351\n71           16.485685    Right          SignChecker  3518.707351\n71           18.607310    Right           SmallGauss  3518.707351\n71            6.636784    Right             SumArray  3518.707351\n71           15.643219    Right              Vehicle  3518.707351\n\n[1026 rows x 4 columns]",
      "text/html": "<div>\n<style scoped>\n    .dataframe tbody tr th:only-of-type {\n        vertical-align: middle;\n    }\n\n    .dataframe tbody tr th {\n        vertical-align: top;\n    }\n\n    .dataframe thead th {\n        text-align: right;\n    }\n</style>\n<table border=\"1\" class=\"dataframe\">\n  <thead>\n    <tr style=\"text-align: right;\">\n      <th></th>\n      <th>Duration</th>\n      <th>Response</th>\n      <th>Snippet</th>\n      <th>totalTime</th>\n    </tr>\n    <tr>\n      <th>Participant</th>\n      <th></th>\n      <th></th>\n      <th></th>\n      <th></th>\n    </tr>\n  </thead>\n  <tbody>\n    <tr>\n      <th>1</th>\n      <td>27.286223</td>\n      <td>Wrong</td>\n      <td>Ackerman</td>\n      <td>4058.363428</td>\n    </tr>\n    <tr>\n      <th>1</th>\n      <td>23.420816</td>\n      <td>Wrong</td>\n      <td>ArrayAverage</td>\n      <td>4058.363428</td>\n    </tr>\n    <tr>\n      <th>1</th>\n      <td>49.922091</td>\n      <td>Right</td>\n      <td>BinToDecimal</td>\n      <td>4058.363428</td>\n    </tr>\n    <tr>\n      <th>1</th>\n      <td>47.770645</td>\n      <td>Wrong</td>\n      <td>BinarySearch</td>\n      <td>4058.363428</td>\n    </tr>\n    <tr>\n      <th>1</th>\n      <td>82.632721</td>\n      <td>Wrong</td>\n      <td>BinomialCoefficient</td>\n      <td>4058.363428</td>\n    </tr>\n    <tr>\n      <th>...</th>\n      <td>...</td>\n      <td>...</td>\n      <td>...</td>\n      <td>...</td>\n    </tr>\n    <tr>\n      <th>71</th>\n      <td>35.637456</td>\n      <td>Right</td>\n      <td>SiebDesEratosthenes</td>\n      <td>3518.707351</td>\n    </tr>\n    <tr>\n      <th>71</th>\n      <td>16.485685</td>\n      <td>Right</td>\n      <td>SignChecker</td>\n      <td>3518.707351</td>\n    </tr>\n    <tr>\n      <th>71</th>\n      <td>18.607310</td>\n      <td>Right</td>\n      <td>SmallGauss</td>\n      <td>3518.707351</td>\n    </tr>\n    <tr>\n      <th>71</th>\n      <td>6.636784</td>\n      <td>Right</td>\n      <td>SumArray</td>\n      <td>3518.707351</td>\n    </tr>\n    <tr>\n      <th>71</th>\n      <td>15.643219</td>\n      <td>Right</td>\n      <td>Vehicle</td>\n      <td>3518.707351</td>\n    </tr>\n  </tbody>\n</table>\n<p>1026 rows × 4 columns</p>\n</div>"
     },
     "execution_count": 12,
     "metadata": {},
     "output_type": "execute_result"
    }
   ],
   "source": [
    "df_behavioral"
   ],
   "metadata": {
    "collapsed": false,
    "pycharm": {
     "name": "#%%\n"
    }
   }
  },
  {
   "cell_type": "code",
   "execution_count": 14,
   "outputs": [
    {
     "data": {
      "text/plain": "      Participant   Duration Response              Snippet    totalTime\n0               1  27.286223    Wrong             Ackerman  4058.363428\n1               1  23.420816    Wrong         ArrayAverage  4058.363428\n2               1  49.922091    Right         BinToDecimal  4058.363428\n3               1  47.770645    Wrong         BinarySearch  4058.363428\n4               1  82.632721    Wrong  BinomialCoefficient  4058.363428\n...           ...        ...      ...                  ...          ...\n1021           71  35.637456    Right  SiebDesEratosthenes  3518.707351\n1022           71  16.485685    Right          SignChecker  3518.707351\n1023           71  18.607310    Right           SmallGauss  3518.707351\n1024           71   6.636784    Right             SumArray  3518.707351\n1025           71  15.643219    Right              Vehicle  3518.707351\n\n[1026 rows x 5 columns]",
      "text/html": "<div>\n<style scoped>\n    .dataframe tbody tr th:only-of-type {\n        vertical-align: middle;\n    }\n\n    .dataframe tbody tr th {\n        vertical-align: top;\n    }\n\n    .dataframe thead th {\n        text-align: right;\n    }\n</style>\n<table border=\"1\" class=\"dataframe\">\n  <thead>\n    <tr style=\"text-align: right;\">\n      <th></th>\n      <th>Participant</th>\n      <th>Duration</th>\n      <th>Response</th>\n      <th>Snippet</th>\n      <th>totalTime</th>\n    </tr>\n  </thead>\n  <tbody>\n    <tr>\n      <th>0</th>\n      <td>1</td>\n      <td>27.286223</td>\n      <td>Wrong</td>\n      <td>Ackerman</td>\n      <td>4058.363428</td>\n    </tr>\n    <tr>\n      <th>1</th>\n      <td>1</td>\n      <td>23.420816</td>\n      <td>Wrong</td>\n      <td>ArrayAverage</td>\n      <td>4058.363428</td>\n    </tr>\n    <tr>\n      <th>2</th>\n      <td>1</td>\n      <td>49.922091</td>\n      <td>Right</td>\n      <td>BinToDecimal</td>\n      <td>4058.363428</td>\n    </tr>\n    <tr>\n      <th>3</th>\n      <td>1</td>\n      <td>47.770645</td>\n      <td>Wrong</td>\n      <td>BinarySearch</td>\n      <td>4058.363428</td>\n    </tr>\n    <tr>\n      <th>4</th>\n      <td>1</td>\n      <td>82.632721</td>\n      <td>Wrong</td>\n      <td>BinomialCoefficient</td>\n      <td>4058.363428</td>\n    </tr>\n    <tr>\n      <th>...</th>\n      <td>...</td>\n      <td>...</td>\n      <td>...</td>\n      <td>...</td>\n      <td>...</td>\n    </tr>\n    <tr>\n      <th>1021</th>\n      <td>71</td>\n      <td>35.637456</td>\n      <td>Right</td>\n      <td>SiebDesEratosthenes</td>\n      <td>3518.707351</td>\n    </tr>\n    <tr>\n      <th>1022</th>\n      <td>71</td>\n      <td>16.485685</td>\n      <td>Right</td>\n      <td>SignChecker</td>\n      <td>3518.707351</td>\n    </tr>\n    <tr>\n      <th>1023</th>\n      <td>71</td>\n      <td>18.607310</td>\n      <td>Right</td>\n      <td>SmallGauss</td>\n      <td>3518.707351</td>\n    </tr>\n    <tr>\n      <th>1024</th>\n      <td>71</td>\n      <td>6.636784</td>\n      <td>Right</td>\n      <td>SumArray</td>\n      <td>3518.707351</td>\n    </tr>\n    <tr>\n      <th>1025</th>\n      <td>71</td>\n      <td>15.643219</td>\n      <td>Right</td>\n      <td>Vehicle</td>\n      <td>3518.707351</td>\n    </tr>\n  </tbody>\n</table>\n<p>1026 rows × 5 columns</p>\n</div>"
     },
     "execution_count": 14,
     "metadata": {},
     "output_type": "execute_result"
    }
   ],
   "source": [
    "df_tmp = df_behavioral.copy()\n",
    "df_tmp.reset_index(inplace=True)\n",
    "df_tmp"
   ],
   "metadata": {
    "collapsed": false,
    "pycharm": {
     "name": "#%%\n"
    }
   }
  },
  {
   "cell_type": "code",
   "execution_count": 16,
   "outputs": [
    {
     "data": {
      "text/plain": "    Participant  correct  total    totalTime  correct_per_minute\n0           1.0     22.0   32.0  4058.363428            0.325254\n1           2.0     26.0   32.0  4187.046853            0.372578\n2           3.0     13.0   15.0  2535.913164            0.307582\n3           4.0     28.0   32.0  4035.150472            0.416341\n4           5.0     20.0   32.0  3909.367293            0.306955\n5           6.0     21.0   28.0  3889.560329            0.323944\n6           7.0     28.0   31.0  4068.585990            0.412920\n7          10.0     20.0   30.0  3497.319535            0.343120\n8          11.0     12.0   19.0  4070.275834            0.176892\n9          12.0     21.0   27.0  4041.637541            0.311755\n10         13.0     29.0   32.0  4223.953318            0.411936\n11         14.0     22.0   30.0  4247.853340            0.310745\n12         18.0     16.0   24.0  4020.811880            0.238758\n13         22.0     24.0   27.0  4018.497384            0.358343\n14         24.0     14.0   25.0  3857.676507            0.217748\n15         25.0     21.0   27.0  4197.653156            0.300168\n16         28.0     20.0   29.0  4044.915832            0.296669\n17         35.0     27.0   31.0  2538.070484            0.638280\n18         36.0     23.0   30.0  3810.088425            0.362196\n19         37.0     23.0   30.0  4110.770489            0.335703\n20         38.0     21.0   30.0  3270.354560            0.385279\n21         41.0     22.0   27.0  4082.638601            0.323320\n22         42.0     24.0   32.0  4704.002974            0.306122\n23         46.0      7.0    8.0  4874.325792            0.086166\n24         49.0     10.0   15.0  4239.951013            0.141511\n25         50.0     17.0   32.0  4201.848822            0.242750\n26         55.0     14.0   23.0  4017.812394            0.209069\n27         58.0     13.0   21.0  4272.951465            0.182544\n28         59.0     19.0   25.0  4139.708024            0.275382\n29         60.0     29.0   30.0  4407.865314            0.394749\n30         61.0     14.0   30.0  4170.209518            0.201429\n31         62.0     25.0   30.0  4316.741778            0.347484\n32         63.0     23.0   27.0  4173.301339            0.330673\n33         66.0     27.0   32.0  3093.560889            0.523668\n34         67.0     18.0   22.0  4185.514306            0.258033\n35         68.0     19.0   23.0  2601.442792            0.438218\n36         70.0     17.0   25.0  4309.171319            0.236704\n37         71.0     25.0   31.0  3518.707351            0.426293",
      "text/html": "<div>\n<style scoped>\n    .dataframe tbody tr th:only-of-type {\n        vertical-align: middle;\n    }\n\n    .dataframe tbody tr th {\n        vertical-align: top;\n    }\n\n    .dataframe thead th {\n        text-align: right;\n    }\n</style>\n<table border=\"1\" class=\"dataframe\">\n  <thead>\n    <tr style=\"text-align: right;\">\n      <th></th>\n      <th>Participant</th>\n      <th>correct</th>\n      <th>total</th>\n      <th>totalTime</th>\n      <th>correct_per_minute</th>\n    </tr>\n  </thead>\n  <tbody>\n    <tr>\n      <th>0</th>\n      <td>1.0</td>\n      <td>22.0</td>\n      <td>32.0</td>\n      <td>4058.363428</td>\n      <td>0.325254</td>\n    </tr>\n    <tr>\n      <th>1</th>\n      <td>2.0</td>\n      <td>26.0</td>\n      <td>32.0</td>\n      <td>4187.046853</td>\n      <td>0.372578</td>\n    </tr>\n    <tr>\n      <th>2</th>\n      <td>3.0</td>\n      <td>13.0</td>\n      <td>15.0</td>\n      <td>2535.913164</td>\n      <td>0.307582</td>\n    </tr>\n    <tr>\n      <th>3</th>\n      <td>4.0</td>\n      <td>28.0</td>\n      <td>32.0</td>\n      <td>4035.150472</td>\n      <td>0.416341</td>\n    </tr>\n    <tr>\n      <th>4</th>\n      <td>5.0</td>\n      <td>20.0</td>\n      <td>32.0</td>\n      <td>3909.367293</td>\n      <td>0.306955</td>\n    </tr>\n    <tr>\n      <th>5</th>\n      <td>6.0</td>\n      <td>21.0</td>\n      <td>28.0</td>\n      <td>3889.560329</td>\n      <td>0.323944</td>\n    </tr>\n    <tr>\n      <th>6</th>\n      <td>7.0</td>\n      <td>28.0</td>\n      <td>31.0</td>\n      <td>4068.585990</td>\n      <td>0.412920</td>\n    </tr>\n    <tr>\n      <th>7</th>\n      <td>10.0</td>\n      <td>20.0</td>\n      <td>30.0</td>\n      <td>3497.319535</td>\n      <td>0.343120</td>\n    </tr>\n    <tr>\n      <th>8</th>\n      <td>11.0</td>\n      <td>12.0</td>\n      <td>19.0</td>\n      <td>4070.275834</td>\n      <td>0.176892</td>\n    </tr>\n    <tr>\n      <th>9</th>\n      <td>12.0</td>\n      <td>21.0</td>\n      <td>27.0</td>\n      <td>4041.637541</td>\n      <td>0.311755</td>\n    </tr>\n    <tr>\n      <th>10</th>\n      <td>13.0</td>\n      <td>29.0</td>\n      <td>32.0</td>\n      <td>4223.953318</td>\n      <td>0.411936</td>\n    </tr>\n    <tr>\n      <th>11</th>\n      <td>14.0</td>\n      <td>22.0</td>\n      <td>30.0</td>\n      <td>4247.853340</td>\n      <td>0.310745</td>\n    </tr>\n    <tr>\n      <th>12</th>\n      <td>18.0</td>\n      <td>16.0</td>\n      <td>24.0</td>\n      <td>4020.811880</td>\n      <td>0.238758</td>\n    </tr>\n    <tr>\n      <th>13</th>\n      <td>22.0</td>\n      <td>24.0</td>\n      <td>27.0</td>\n      <td>4018.497384</td>\n      <td>0.358343</td>\n    </tr>\n    <tr>\n      <th>14</th>\n      <td>24.0</td>\n      <td>14.0</td>\n      <td>25.0</td>\n      <td>3857.676507</td>\n      <td>0.217748</td>\n    </tr>\n    <tr>\n      <th>15</th>\n      <td>25.0</td>\n      <td>21.0</td>\n      <td>27.0</td>\n      <td>4197.653156</td>\n      <td>0.300168</td>\n    </tr>\n    <tr>\n      <th>16</th>\n      <td>28.0</td>\n      <td>20.0</td>\n      <td>29.0</td>\n      <td>4044.915832</td>\n      <td>0.296669</td>\n    </tr>\n    <tr>\n      <th>17</th>\n      <td>35.0</td>\n      <td>27.0</td>\n      <td>31.0</td>\n      <td>2538.070484</td>\n      <td>0.638280</td>\n    </tr>\n    <tr>\n      <th>18</th>\n      <td>36.0</td>\n      <td>23.0</td>\n      <td>30.0</td>\n      <td>3810.088425</td>\n      <td>0.362196</td>\n    </tr>\n    <tr>\n      <th>19</th>\n      <td>37.0</td>\n      <td>23.0</td>\n      <td>30.0</td>\n      <td>4110.770489</td>\n      <td>0.335703</td>\n    </tr>\n    <tr>\n      <th>20</th>\n      <td>38.0</td>\n      <td>21.0</td>\n      <td>30.0</td>\n      <td>3270.354560</td>\n      <td>0.385279</td>\n    </tr>\n    <tr>\n      <th>21</th>\n      <td>41.0</td>\n      <td>22.0</td>\n      <td>27.0</td>\n      <td>4082.638601</td>\n      <td>0.323320</td>\n    </tr>\n    <tr>\n      <th>22</th>\n      <td>42.0</td>\n      <td>24.0</td>\n      <td>32.0</td>\n      <td>4704.002974</td>\n      <td>0.306122</td>\n    </tr>\n    <tr>\n      <th>23</th>\n      <td>46.0</td>\n      <td>7.0</td>\n      <td>8.0</td>\n      <td>4874.325792</td>\n      <td>0.086166</td>\n    </tr>\n    <tr>\n      <th>24</th>\n      <td>49.0</td>\n      <td>10.0</td>\n      <td>15.0</td>\n      <td>4239.951013</td>\n      <td>0.141511</td>\n    </tr>\n    <tr>\n      <th>25</th>\n      <td>50.0</td>\n      <td>17.0</td>\n      <td>32.0</td>\n      <td>4201.848822</td>\n      <td>0.242750</td>\n    </tr>\n    <tr>\n      <th>26</th>\n      <td>55.0</td>\n      <td>14.0</td>\n      <td>23.0</td>\n      <td>4017.812394</td>\n      <td>0.209069</td>\n    </tr>\n    <tr>\n      <th>27</th>\n      <td>58.0</td>\n      <td>13.0</td>\n      <td>21.0</td>\n      <td>4272.951465</td>\n      <td>0.182544</td>\n    </tr>\n    <tr>\n      <th>28</th>\n      <td>59.0</td>\n      <td>19.0</td>\n      <td>25.0</td>\n      <td>4139.708024</td>\n      <td>0.275382</td>\n    </tr>\n    <tr>\n      <th>29</th>\n      <td>60.0</td>\n      <td>29.0</td>\n      <td>30.0</td>\n      <td>4407.865314</td>\n      <td>0.394749</td>\n    </tr>\n    <tr>\n      <th>30</th>\n      <td>61.0</td>\n      <td>14.0</td>\n      <td>30.0</td>\n      <td>4170.209518</td>\n      <td>0.201429</td>\n    </tr>\n    <tr>\n      <th>31</th>\n      <td>62.0</td>\n      <td>25.0</td>\n      <td>30.0</td>\n      <td>4316.741778</td>\n      <td>0.347484</td>\n    </tr>\n    <tr>\n      <th>32</th>\n      <td>63.0</td>\n      <td>23.0</td>\n      <td>27.0</td>\n      <td>4173.301339</td>\n      <td>0.330673</td>\n    </tr>\n    <tr>\n      <th>33</th>\n      <td>66.0</td>\n      <td>27.0</td>\n      <td>32.0</td>\n      <td>3093.560889</td>\n      <td>0.523668</td>\n    </tr>\n    <tr>\n      <th>34</th>\n      <td>67.0</td>\n      <td>18.0</td>\n      <td>22.0</td>\n      <td>4185.514306</td>\n      <td>0.258033</td>\n    </tr>\n    <tr>\n      <th>35</th>\n      <td>68.0</td>\n      <td>19.0</td>\n      <td>23.0</td>\n      <td>2601.442792</td>\n      <td>0.438218</td>\n    </tr>\n    <tr>\n      <th>36</th>\n      <td>70.0</td>\n      <td>17.0</td>\n      <td>25.0</td>\n      <td>4309.171319</td>\n      <td>0.236704</td>\n    </tr>\n    <tr>\n      <th>37</th>\n      <td>71.0</td>\n      <td>25.0</td>\n      <td>31.0</td>\n      <td>3518.707351</td>\n      <td>0.426293</td>\n    </tr>\n  </tbody>\n</table>\n</div>"
     },
     "execution_count": 16,
     "metadata": {},
     "output_type": "execute_result"
    }
   ],
   "source": [
    "# create a dataframe counting the correct answers and the total time per participant based on the dataframe df_behavioral\n",
    "df_correct = pd.DataFrame(columns=[\"Participant\", \"correct\", \"total\", \"totalTime\"])\n",
    "\n",
    "for participant in participants:\n",
    "    correct = len(df_tmp[(df_tmp[\"Participant\"] == participant) & (df_tmp[\"Response\"] == \"Right\")])\n",
    "    total = len(df_tmp[df_tmp[\"Participant\"] == participant])\n",
    "    total_time = df_tmp[df_tmp[\"Participant\"] == participant][\"totalTime\"].iloc[0]\n",
    "    df_correct = df_correct.append(\n",
    "        {\"Participant\": participant, \"correct\": correct, \"total\": total, \"totalTime\": total_time}, ignore_index=True)\n",
    "\n",
    "df_correct[\"correct_per_minute\"] = df_correct[\"correct\"] / (df_correct[\"totalTime\"] / (60.0))\n",
    "df_correct[\"correct_per_minute\"] = df_correct[\"correct_per_minute\"].astype(float)\n",
    "df_correct"
   ],
   "metadata": {
    "collapsed": false,
    "pycharm": {
     "name": "#%%\n"
    }
   }
  },
  {
   "cell_type": "code",
   "execution_count": 17,
   "outputs": [
    {
     "data": {
      "text/plain": "count    38.000000\nmean      0.317823\nstd       0.104168\nmin       0.086166\n25%       0.246571\n50%       0.317538\n75%       0.369982\nmax       0.638280\nName: correct_per_minute, dtype: float64"
     },
     "execution_count": 17,
     "metadata": {},
     "output_type": "execute_result"
    }
   ],
   "source": [
    "df_correct[\"correct_per_minute\"].describe()"
   ],
   "metadata": {
    "collapsed": false,
    "pycharm": {
     "name": "#%%\n"
    }
   }
  },
  {
   "cell_type": "code",
   "execution_count": 18,
   "outputs": [
    {
     "data": {
      "text/plain": "Text(0.5, 1.0, 'Correct answers per minute Distribution')"
     },
     "execution_count": 18,
     "metadata": {},
     "output_type": "execute_result"
    },
    {
     "data": {
      "text/plain": "<Figure size 432x288 with 1 Axes>",
      "image/png": "[encoded data removed]"
     },
     "metadata": {
      "needs_background": "light"
     },
     "output_type": "display_data"
    }
   ],
   "source": [
    "#plot the correct answers per minute as violin plot\n",
    "g = sns.violinplot(y=\"correct_per_minute\", data=df_correct, inner=\"box\")\n",
    "g.set_xlabel(\"Participant\")\n",
    "g.set_ylabel(\"Correct answers per minute\")\n",
    "g.set_title(\"Correct answers per minute Distribution\")"
   ],
   "metadata": {
    "collapsed": false,
    "pycharm": {
     "name": "#%%\n"
    }
   }
  },
  {
   "cell_type": "code",
   "execution_count": 19,
   "outputs": [
    {
     "data": {
      "text/plain": "ShapiroResult(statistic=0.9681628942489624, pvalue=0.34470608830451965)"
     },
     "execution_count": 19,
     "metadata": {},
     "output_type": "execute_result"
    }
   ],
   "source": [
    "# check if correct_per_time is normal distributed with shapiro-wilk test\n",
    "import scipy\n",
    "\n",
    "scipy.stats.shapiro(df_correct[\"correct_per_minute\"])"
   ],
   "metadata": {
    "collapsed": false,
    "pycharm": {
     "name": "#%%\n"
    }
   }
  },
  {
   "cell_type": "code",
   "execution_count": 20,
   "outputs": [
    {
     "data": {
      "text/plain": "             correct  total    totalTime  correct_per_minute\nParticipant                                                 \n1               22.0   32.0  4058.363428            0.325254\n2               26.0   32.0  4187.046853            0.372578\n3               13.0   15.0  2535.913164            0.307582\n4               28.0   32.0  4035.150472            0.416341\n5               20.0   32.0  3909.367293            0.306955\n6               21.0   28.0  3889.560329            0.323944\n7               28.0   31.0  4068.585990            0.412920\n10              20.0   30.0  3497.319535            0.343120\n11              12.0   19.0  4070.275834            0.176892\n12              21.0   27.0  4041.637541            0.311755\n13              29.0   32.0  4223.953318            0.411936\n14              22.0   30.0  4247.853340            0.310745\n18              16.0   24.0  4020.811880            0.238758\n22              24.0   27.0  4018.497384            0.358343\n24              14.0   25.0  3857.676507            0.217748\n25              21.0   27.0  4197.653156            0.300168\n28              20.0   29.0  4044.915832            0.296669\n35              27.0   31.0  2538.070484            0.638280\n36              23.0   30.0  3810.088425            0.362196\n37              23.0   30.0  4110.770489            0.335703\n38              21.0   30.0  3270.354560            0.385279\n41              22.0   27.0  4082.638601            0.323320\n42              24.0   32.0  4704.002974            0.306122\n46               7.0    8.0  4874.325792            0.086166\n49              10.0   15.0  4239.951013            0.141511\n50              17.0   32.0  4201.848822            0.242750\n55              14.0   23.0  4017.812394            0.209069\n58              13.0   21.0  4272.951465            0.182544\n59              19.0   25.0  4139.708024            0.275382\n60              29.0   30.0  4407.865314            0.394749\n61              14.0   30.0  4170.209518            0.201429\n62              25.0   30.0  4316.741778            0.347484\n63              23.0   27.0  4173.301339            0.330673\n66              27.0   32.0  3093.560889            0.523668\n67              18.0   22.0  4185.514306            0.258033\n68              19.0   23.0  2601.442792            0.438218\n70              17.0   25.0  4309.171319            0.236704\n71              25.0   31.0  3518.707351            0.426293",
      "text/html": "<div>\n<style scoped>\n    .dataframe tbody tr th:only-of-type {\n        vertical-align: middle;\n    }\n\n    .dataframe tbody tr th {\n        vertical-align: top;\n    }\n\n    .dataframe thead th {\n        text-align: right;\n    }\n</style>\n<table border=\"1\" class=\"dataframe\">\n  <thead>\n    <tr style=\"text-align: right;\">\n      <th></th>\n      <th>correct</th>\n      <th>total</th>\n      <th>totalTime</th>\n      <th>correct_per_minute</th>\n    </tr>\n    <tr>\n      <th>Participant</th>\n      <th></th>\n      <th></th>\n      <th></th>\n      <th></th>\n    </tr>\n  </thead>\n  <tbody>\n    <tr>\n      <th>1</th>\n      <td>22.0</td>\n      <td>32.0</td>\n      <td>4058.363428</td>\n      <td>0.325254</td>\n    </tr>\n    <tr>\n      <th>2</th>\n      <td>26.0</td>\n      <td>32.0</td>\n      <td>4187.046853</td>\n      <td>0.372578</td>\n    </tr>\n    <tr>\n      <th>3</th>\n      <td>13.0</td>\n      <td>15.0</td>\n      <td>2535.913164</td>\n      <td>0.307582</td>\n    </tr>\n    <tr>\n      <th>4</th>\n      <td>28.0</td>\n      <td>32.0</td>\n      <td>4035.150472</td>\n      <td>0.416341</td>\n    </tr>\n    <tr>\n      <th>5</th>\n      <td>20.0</td>\n      <td>32.0</td>\n      <td>3909.367293</td>\n      <td>0.306955</td>\n    </tr>\n    <tr>\n      <th>6</th>\n      <td>21.0</td>\n      <td>28.0</td>\n      <td>3889.560329</td>\n      <td>0.323944</td>\n    </tr>\n    <tr>\n      <th>7</th>\n      <td>28.0</td>\n      <td>31.0</td>\n      <td>4068.585990</td>\n      <td>0.412920</td>\n    </tr>\n    <tr>\n      <th>10</th>\n      <td>20.0</td>\n      <td>30.0</td>\n      <td>3497.319535</td>\n      <td>0.343120</td>\n    </tr>\n    <tr>\n      <th>11</th>\n      <td>12.0</td>\n      <td>19.0</td>\n      <td>4070.275834</td>\n      <td>0.176892</td>\n    </tr>\n    <tr>\n      <th>12</th>\n      <td>21.0</td>\n      <td>27.0</td>\n      <td>4041.637541</td>\n      <td>0.311755</td>\n    </tr>\n    <tr>\n      <th>13</th>\n      <td>29.0</td>\n      <td>32.0</td>\n      <td>4223.953318</td>\n      <td>0.411936</td>\n    </tr>\n    <tr>\n      <th>14</th>\n      <td>22.0</td>\n      <td>30.0</td>\n      <td>4247.853340</td>\n      <td>0.310745</td>\n    </tr>\n    <tr>\n      <th>18</th>\n      <td>16.0</td>\n      <td>24.0</td>\n      <td>4020.811880</td>\n      <td>0.238758</td>\n    </tr>\n    <tr>\n      <th>22</th>\n      <td>24.0</td>\n      <td>27.0</td>\n      <td>4018.497384</td>\n      <td>0.358343</td>\n    </tr>\n    <tr>\n      <th>24</th>\n      <td>14.0</td>\n      <td>25.0</td>\n      <td>3857.676507</td>\n      <td>0.217748</td>\n    </tr>\n    <tr>\n      <th>25</th>\n      <td>21.0</td>\n      <td>27.0</td>\n      <td>4197.653156</td>\n      <td>0.300168</td>\n    </tr>\n    <tr>\n      <th>28</th>\n      <td>20.0</td>\n      <td>29.0</td>\n      <td>4044.915832</td>\n      <td>0.296669</td>\n    </tr>\n    <tr>\n      <th>35</th>\n      <td>27.0</td>\n      <td>31.0</td>\n      <td>2538.070484</td>\n      <td>0.638280</td>\n    </tr>\n    <tr>\n      <th>36</th>\n      <td>23.0</td>\n      <td>30.0</td>\n      <td>3810.088425</td>\n      <td>0.362196</td>\n    </tr>\n    <tr>\n      <th>37</th>\n      <td>23.0</td>\n      <td>30.0</td>\n      <td>4110.770489</td>\n      <td>0.335703</td>\n    </tr>\n    <tr>\n      <th>38</th>\n      <td>21.0</td>\n      <td>30.0</td>\n      <td>3270.354560</td>\n      <td>0.385279</td>\n    </tr>\n    <tr>\n      <th>41</th>\n      <td>22.0</td>\n      <td>27.0</td>\n      <td>4082.638601</td>\n      <td>0.323320</td>\n    </tr>\n    <tr>\n      <th>42</th>\n      <td>24.0</td>\n      <td>32.0</td>\n      <td>4704.002974</td>\n      <td>0.306122</td>\n    </tr>\n    <tr>\n      <th>46</th>\n      <td>7.0</td>\n      <td>8.0</td>\n      <td>4874.325792</td>\n      <td>0.086166</td>\n    </tr>\n    <tr>\n      <th>49</th>\n      <td>10.0</td>\n      <td>15.0</td>\n      <td>4239.951013</td>\n      <td>0.141511</td>\n    </tr>\n    <tr>\n      <th>50</th>\n      <td>17.0</td>\n      <td>32.0</td>\n      <td>4201.848822</td>\n      <td>0.242750</td>\n    </tr>\n    <tr>\n      <th>55</th>\n      <td>14.0</td>\n      <td>23.0</td>\n      <td>4017.812394</td>\n      <td>0.209069</td>\n    </tr>\n    <tr>\n      <th>58</th>\n      <td>13.0</td>\n      <td>21.0</td>\n      <td>4272.951465</td>\n      <td>0.182544</td>\n    </tr>\n    <tr>\n      <th>59</th>\n      <td>19.0</td>\n      <td>25.0</td>\n      <td>4139.708024</td>\n      <td>0.275382</td>\n    </tr>\n    <tr>\n      <th>60</th>\n      <td>29.0</td>\n      <td>30.0</td>\n      <td>4407.865314</td>\n      <td>0.394749</td>\n    </tr>\n    <tr>\n      <th>61</th>\n      <td>14.0</td>\n      <td>30.0</td>\n      <td>4170.209518</td>\n      <td>0.201429</td>\n    </tr>\n    <tr>\n      <th>62</th>\n      <td>25.0</td>\n      <td>30.0</td>\n      <td>4316.741778</td>\n      <td>0.347484</td>\n    </tr>\n    <tr>\n      <th>63</th>\n      <td>23.0</td>\n      <td>27.0</td>\n      <td>4173.301339</td>\n      <td>0.330673</td>\n    </tr>\n    <tr>\n      <th>66</th>\n      <td>27.0</td>\n      <td>32.0</td>\n      <td>3093.560889</td>\n      <td>0.523668</td>\n    </tr>\n    <tr>\n      <th>67</th>\n      <td>18.0</td>\n      <td>22.0</td>\n      <td>4185.514306</td>\n      <td>0.258033</td>\n    </tr>\n    <tr>\n      <th>68</th>\n      <td>19.0</td>\n      <td>23.0</td>\n      <td>2601.442792</td>\n      <td>0.438218</td>\n    </tr>\n    <tr>\n      <th>70</th>\n      <td>17.0</td>\n      <td>25.0</td>\n      <td>4309.171319</td>\n      <td>0.236704</td>\n    </tr>\n    <tr>\n      <th>71</th>\n      <td>25.0</td>\n      <td>31.0</td>\n      <td>3518.707351</td>\n      <td>0.426293</td>\n    </tr>\n  </tbody>\n</table>\n</div>"
     },
     "execution_count": 20,
     "metadata": {},
     "output_type": "execute_result"
    }
   ],
   "source": [
    "df_correct[\"Participant\"] = df_correct[\"Participant\"].astype(int)\n",
    "df_correct = df_correct.set_index(\"Participant\", drop=True)\n",
    "df_correct"
   ],
   "metadata": {
    "collapsed": false,
    "pycharm": {
     "name": "#%%\n"
    }
   }
  },
  {
   "cell_type": "code",
   "execution_count": 21,
   "outputs": [
    {
     "data": {
      "text/plain": "              Duration Response              Snippet  correct  total  \\\nParticipant                                                            \n1            27.286223    Wrong             Ackerman     22.0   32.0   \n1            23.420816    Wrong         ArrayAverage     22.0   32.0   \n1            49.922091    Right         BinToDecimal     22.0   32.0   \n1            47.770645    Wrong         BinarySearch     22.0   32.0   \n1            82.632721    Wrong  BinomialCoefficient     22.0   32.0   \n...                ...      ...                  ...      ...    ...   \n71           35.637456    Right  SiebDesEratosthenes     25.0   31.0   \n71           16.485685    Right          SignChecker     25.0   31.0   \n71           18.607310    Right           SmallGauss     25.0   31.0   \n71            6.636784    Right             SumArray     25.0   31.0   \n71           15.643219    Right              Vehicle     25.0   31.0   \n\n               totalTime  correct_per_minute  \nParticipant                                   \n1            4058.363428            0.325254  \n1            4058.363428            0.325254  \n1            4058.363428            0.325254  \n1            4058.363428            0.325254  \n1            4058.363428            0.325254  \n...                  ...                 ...  \n71           3518.707351            0.426293  \n71           3518.707351            0.426293  \n71           3518.707351            0.426293  \n71           3518.707351            0.426293  \n71           3518.707351            0.426293  \n\n[1026 rows x 7 columns]",
      "text/html": "<div>\n<style scoped>\n    .dataframe tbody tr th:only-of-type {\n        vertical-align: middle;\n    }\n\n    .dataframe tbody tr th {\n        vertical-align: top;\n    }\n\n    .dataframe thead th {\n        text-align: right;\n    }\n</style>\n<table border=\"1\" class=\"dataframe\">\n  <thead>\n    <tr style=\"text-align: right;\">\n      <th></th>\n      <th>Duration</th>\n      <th>Response</th>\n      <th>Snippet</th>\n      <th>correct</th>\n      <th>total</th>\n      <th>totalTime</th>\n      <th>correct_per_minute</th>\n    </tr>\n    <tr>\n      <th>Participant</th>\n      <th></th>\n      <th></th>\n      <th></th>\n      <th></th>\n      <th></th>\n      <th></th>\n      <th></th>\n    </tr>\n  </thead>\n  <tbody>\n    <tr>\n      <th>1</th>\n      <td>27.286223</td>\n      <td>Wrong</td>\n      <td>Ackerman</td>\n      <td>22.0</td>\n      <td>32.0</td>\n      <td>4058.363428</td>\n      <td>0.325254</td>\n    </tr>\n    <tr>\n      <th>1</th>\n      <td>23.420816</td>\n      <td>Wrong</td>\n      <td>ArrayAverage</td>\n      <td>22.0</td>\n      <td>32.0</td>\n      <td>4058.363428</td>\n      <td>0.325254</td>\n    </tr>\n    <tr>\n      <th>1</th>\n      <td>49.922091</td>\n      <td>Right</td>\n      <td>BinToDecimal</td>\n      <td>22.0</td>\n      <td>32.0</td>\n      <td>4058.363428</td>\n      <td>0.325254</td>\n    </tr>\n    <tr>\n      <th>1</th>\n      <td>47.770645</td>\n      <td>Wrong</td>\n      <td>BinarySearch</td>\n      <td>22.0</td>\n      <td>32.0</td>\n      <td>4058.363428</td>\n      <td>0.325254</td>\n    </tr>\n    <tr>\n      <th>1</th>\n      <td>82.632721</td>\n      <td>Wrong</td>\n      <td>BinomialCoefficient</td>\n      <td>22.0</td>\n      <td>32.0</td>\n      <td>4058.363428</td>\n      <td>0.325254</td>\n    </tr>\n    <tr>\n      <th>...</th>\n      <td>...</td>\n      <td>...</td>\n      <td>...</td>\n      <td>...</td>\n      <td>...</td>\n      <td>...</td>\n      <td>...</td>\n    </tr>\n    <tr>\n      <th>71</th>\n      <td>35.637456</td>\n      <td>Right</td>\n      <td>SiebDesEratosthenes</td>\n      <td>25.0</td>\n      <td>31.0</td>\n      <td>3518.707351</td>\n      <td>0.426293</td>\n    </tr>\n    <tr>\n      <th>71</th>\n      <td>16.485685</td>\n      <td>Right</td>\n      <td>SignChecker</td>\n      <td>25.0</td>\n      <td>31.0</td>\n      <td>3518.707351</td>\n      <td>0.426293</td>\n    </tr>\n    <tr>\n      <th>71</th>\n      <td>18.607310</td>\n      <td>Right</td>\n      <td>SmallGauss</td>\n      <td>25.0</td>\n      <td>31.0</td>\n      <td>3518.707351</td>\n      <td>0.426293</td>\n    </tr>\n    <tr>\n      <th>71</th>\n      <td>6.636784</td>\n      <td>Right</td>\n      <td>SumArray</td>\n      <td>25.0</td>\n      <td>31.0</td>\n      <td>3518.707351</td>\n      <td>0.426293</td>\n    </tr>\n    <tr>\n      <th>71</th>\n      <td>15.643219</td>\n      <td>Right</td>\n      <td>Vehicle</td>\n      <td>25.0</td>\n      <td>31.0</td>\n      <td>3518.707351</td>\n      <td>0.426293</td>\n    </tr>\n  </tbody>\n</table>\n<p>1026 rows × 7 columns</p>\n</div>"
     },
     "execution_count": 21,
     "metadata": {},
     "output_type": "execute_result"
    }
   ],
   "source": [
    "# merge the dataframes df_behavioral and df_correct\n",
    "df_tmp = pd.merge(df_behavioral, df_correct, on=\"Participant\")\n",
    "df_tmp = df_tmp.drop(columns=[\"totalTime_x\"])\n",
    "# rename the column totalTime_y to totalTime\n",
    "df_behavioral = df_tmp.rename(columns={\"totalTime_y\": \"totalTime\"})\n",
    "df_behavioral"
   ],
   "metadata": {
    "collapsed": false,
    "pycharm": {
     "name": "#%%\n"
    }
   }
  },
  {
   "cell_type": "code",
   "execution_count": 22,
   "outputs": [
    {
     "data": {
      "text/plain": "<Figure size 360x360 with 1 Axes>",
      "image/png": "[encoded data removed]"
     },
     "metadata": {},
     "output_type": "display_data"
    }
   ],
   "source": [
    "df_questionnaire[\"correct_per_minute\"] = df_behavioral[\"correct_per_minute\"].drop_duplicates()\n",
    "# do a scatterplot based on yearsOfProgramming and correct_per_minute\n",
    "sns.set(style=\"whitegrid\")\n",
    "g = sns.lmplot(x=\"yearsOfProgramming\", y=\"correct_per_minute\", data=df_questionnaire, hue=\"correct_per_minute\", legend=False)"
   ],
   "metadata": {
    "collapsed": false,
    "pycharm": {
     "name": "#%%\n"
    }
   }
  },
  {
   "cell_type": "markdown",
   "id": "7546f4be-10cb-40fd-b1a6-e74bd84c752f",
   "metadata": {},
   "source": [
    "<h2> Prepare queried Data</h2>"
   ]
  },
  {
   "cell_type": "code",
   "execution_count": 130,
   "outputs": [],
   "source": [
    "def update_names(df_eyetracking, name_dict):\n",
    "    df_eyetracking = df_eyetracking.rename(columns=name_dict)\n",
    "    return df_eyetracking"
   ],
   "metadata": {
    "collapsed": false,
    "pycharm": {
     "name": "#%%\n"
    }
   }
  },
  {
   "cell_type": "code",
   "execution_count": 131,
   "outputs": [],
   "source": [
    "def update_to_display_coordinates(df_eyetracking):\n",
    "    df_eyetracking[\"display_x\"] = df_eyetracking[\"display_x\"].apply(lambda x: x * display_width)\n",
    "    df_eyetracking[\"display_x\"] = df_eyetracking[\"display_x\"].astype(float).fillna(0).astype(int)\n",
    "\n",
    "    df_eyetracking[\"display_y\"] = df_eyetracking[\"display_y\"].apply(lambda x: x * display_height)\n",
    "    df_eyetracking[\"display_y\"] = df_eyetracking[\"display_y\"].astype(float).fillna(0).astype(int)\n",
    "    return df_eyetracking"
   ],
   "metadata": {
    "collapsed": false,
    "pycharm": {
     "name": "#%%\n"
    }
   }
  },
  {
   "cell_type": "code",
   "execution_count": 132,
   "outputs": [],
   "source": [
    "def update_normalize_time(df_eyetracking):\n",
    "    df_eyetracking[\"time\"] = df_eyetracking[\"time\"] - df_eyetracking[\"time\"][0]\n",
    "    return df_eyetracking"
   ],
   "metadata": {
    "collapsed": false,
    "pycharm": {
     "name": "#%%\n"
    }
   }
  },
  {
   "cell_type": "code",
   "execution_count": 133,
   "outputs": [],
   "source": [
    "def update_replace_invalid(df_eyetracking):\n",
    "    (\n",
    "        replaced_x,\n",
    "        replaced_y,\n",
    "        replaced_diameter,\n",
    "        replaced_valid,\n",
    "    ) = son.eyetracking.preprocessing_invalid.replace_with_prev_invalid(\n",
    "        df_eyetracking[\"display_x\"],\n",
    "        df_eyetracking[\"display_y\"],\n",
    "        df_eyetracking[\"pupil_diameter\"],\n",
    "        df_eyetracking[\"valid\"],\n",
    "    )\n",
    "\n",
    "    df_eyetracking[\"display_x\"] = replaced_x\n",
    "    df_eyetracking[\"display_y\"] = replaced_y\n",
    "    df_eyetracking[\"pupil_diameter\"] = replaced_diameter\n",
    "    df_eyetracking[\"valid\"] = replaced_valid\n",
    "    return df_eyetracking"
   ],
   "metadata": {
    "collapsed": false,
    "pycharm": {
     "name": "#%%\n"
    }
   }
  },
  {
   "cell_type": "code",
   "execution_count": 134,
   "outputs": [],
   "source": [
    "def update_denoise(df_eyetracking, denoise_degree):\n",
    "    for _i in range(denoise_degree):\n",
    "        denoised_x, denoised_y = son.eyetracking.preprocessing_denoise.denoise(\n",
    "            df_eyetracking[\"display_x\"],\n",
    "            df_eyetracking[\"display_y\"],\n",
    "            son.eyetracking.preprocessing_denoise.parabola_5_kernel,\n",
    "        )\n",
    "\n",
    "        df_eyetracking[\"display_x\"] = denoised_x\n",
    "        df_eyetracking[\"display_y\"] = denoised_y\n",
    "    return df_eyetracking"
   ],
   "metadata": {
    "collapsed": false,
    "pycharm": {
     "name": "#%%\n"
    }
   }
  },
  {
   "cell_type": "code",
   "execution_count": 135,
   "outputs": [],
   "source": [
    "def update_match_to_line(df_eyetracking, line_middle, cat):\n",
    "    df_eyetracking[\"display_y\"] = df_eyetracking[\"display_y\"].apply(\n",
    "        lambda x: line_middle[cat[x]] if cat[x] is not None else float(\"Nan\"))\n",
    "    df_eyetracking = df_eyetracking[df_eyetracking[\"display_y\"].notnull()]\n",
    "    df_eyetracking[\"display_y\"] = df_eyetracking[\"display_y\"].astype(int)\n",
    "    df_eyetracking = df_eyetracking.reset_index()\n",
    "    return df_eyetracking"
   ],
   "metadata": {
    "collapsed": false,
    "pycharm": {
     "name": "#%%\n"
    }
   }
  },
  {
   "cell_type": "code",
   "execution_count": 136,
   "outputs": [],
   "source": [
    "def mask_function():\n",
    "    return lambda height, width, coordinate: son.utils.masks.create_circular_mask(height, width, coordinate, 30)\n",
    "\n",
    "\n",
    "def create_heatmap(df_eyetracking, color, width, height):\n",
    "    heat_data = son.eyetracking.heatmap.create_heatmap(\n",
    "        df_eyetracking[\"display_x\"],\n",
    "        df_eyetracking[\"display_y\"],\n",
    "        df_eyetracking[\"valid\"],\n",
    "        0.004,\n",
    "        width,\n",
    "        height,\n",
    "        mask_function(),\n",
    "    )\n",
    "\n",
    "    heat_data = heat_data / heat_data.max()\n",
    "    heat_data = np.array([heat_data * color[0], heat_data * color[1], heat_data * color[2], heat_data])\n",
    "    heat_data = np.moveaxis(heat_data, 0, 2)\n",
    "    return heat_data"
   ],
   "metadata": {
    "collapsed": false,
    "pycharm": {
     "name": "#%%\n"
    }
   }
  },
  {
   "cell_type": "code",
   "execution_count": 137,
   "outputs": [],
   "source": [
    "def create_sequence_diagram(df_eyetracking, color, width, height, max_pixel):\n",
    "    step_size = max_pixel / len(df_eyetracking)\n",
    "\n",
    "    sequence_data = son.eyetracking.sequence.create_sequence_diagram_y(\n",
    "        df_eyetracking[\"display_y\"],\n",
    "        df_eyetracking[\"valid\"],\n",
    "        height,\n",
    "        width,\n",
    "        offset=0,\n",
    "        step=step_size,\n",
    "        should_skip=False,\n",
    "    )\n",
    "    sequence_data = np.array(\n",
    "        [sequence_data * color[0], sequence_data * color[1], sequence_data * color[2], sequence_data])\n",
    "    sequence_data = np.moveaxis(sequence_data, 0, 2)\n",
    "    return sequence_data"
   ],
   "metadata": {
    "collapsed": false,
    "pycharm": {
     "name": "#%%\n"
    }
   }
  },
  {
   "cell_type": "code",
   "execution_count": 138,
   "outputs": [],
   "source": [
    "def get_fixation_saccades_metrics(df_eyetracking, d_time):\n",
    "    d_time = 0.004\n",
    "    threshold_for_fixation = 2400.0\n",
    "    saccades = son.eyetracking.metrics.classify_saccades(df_eyetracking[\"display_x\"], df_eyetracking[\"display_y\"],\n",
    "                                                         d_time, threshold_for_fixation)\n",
    "    if len(saccades) >= 1:\n",
    "        saccades[0] = saccades[1]\n",
    "\n",
    "    fixxation = son.eyetracking.metrics.classify_fixxation(df_eyetracking[\"display_x\"], df_eyetracking[\"display_y\"],\n",
    "                                                           d_time, threshold_for_fixation)\n",
    "    if len(fixxation) >= 1:\n",
    "        fixxation[0] = fixxation[1]\n",
    "\n",
    "    saccades = np.array(saccades)\n",
    "    fixxation = np.array(fixxation)\n",
    "\n",
    "    saccades_count = son.eyetracking.metrics.count_saccades(saccades)\n",
    "    if saccades_count == 0:\n",
    "        saccades_time_of_first = 0\n",
    "        saccades_average_time = 0\n",
    "    else:\n",
    "        saccades_time_of_first = son.eyetracking.metrics.time_of_saccades(saccades, d_time)[0][0]\n",
    "        saccades_average_time = son.eyetracking.metrics.average_saccades_time(\n",
    "            son.eyetracking.metrics.time_of_saccades(saccades, d_time))\n",
    "\n",
    "    fixxation_count = son.eyetracking.metrics.count_fixxations(fixxation)\n",
    "    if fixxation_count == 0:\n",
    "        fixxation_time_of_first = 0\n",
    "        fixxation_average_time = 0\n",
    "    else:\n",
    "        fixxation_time_of_first = son.eyetracking.metrics.time_of_fixxations(fixxation, d_time)[0][0]\n",
    "        fixxation_average_time = son.eyetracking.metrics.average_fixxations_time(\n",
    "            son.eyetracking.metrics.time_of_fixxations(fixxation, d_time))\n",
    "\n",
    "    return pd.DataFrame([[\n",
    "        saccades_count,\n",
    "        saccades_time_of_first,\n",
    "        saccades_average_time,\n",
    "        fixxation_count,\n",
    "        fixxation_time_of_first,\n",
    "        fixxation_average_time,\n",
    "    ]], columns=[\"Saccades Count\", \"Time to first Saccade\", \"Average Saccade Time\", \"Fixation Count\",\n",
    "                 \"Time to first Fixation\", \"Average Fixation Time\"])"
   ],
   "metadata": {
    "collapsed": false,
    "pycharm": {
     "name": "#%%\n"
    }
   }
  },
  {
   "cell_type": "code",
   "execution_count": 47,
   "id": "6e789902-fa86-40ee-af55-6dfda9fc0f09",
   "metadata": {
    "pycharm": {
     "name": "#%%\n"
    }
   },
   "outputs": [],
   "source": [
    "df_eyetracking = data[\"BogoSort\"][\"Code\"][\"EyeTracking\"][\n",
    "    [\n",
    "        \"l_valid\",\n",
    "        \"l_display_x\",\n",
    "        \"l_display_y\",\n",
    "        \"time\",\n",
    "        \"l_pupil_diameter\",\n",
    "    ]\n",
    "]\n",
    "\n",
    "left_naming = {\n",
    "    \"l_valid\": \"valid\",\n",
    "    \"l_display_x\": \"display_x\",\n",
    "    \"l_display_y\": \"display_y\",\n",
    "    \"l_pupil_diameter\": \"pupil_diameter\",\n",
    "}\n",
    "\n",
    "right_naming = {\n",
    "    \"r_valid\": \"valid\",\n",
    "    \"r_display_x\": \"display_x\",\n",
    "    \"r_display_y\": \"display_y\",\n",
    "    \"r_pupil_diameter\": \"pupil_diameter\",\n",
    "}\n",
    "\n",
    "df_eyetracking = update_names(df_eyetracking, left_naming)\n",
    "df_eyetracking = update_to_display_coordinates(df_eyetracking)\n",
    "df_eyetracking = update_normalize_time(df_eyetracking)\n",
    "df_eyetracking = update_replace_invalid(df_eyetracking)\n",
    "df_eyetracking = update_denoise(df_eyetracking, denoise_degree)\n",
    "df_eyetracking = update_match_to_line(df_eyetracking, line_middle, cat)"
   ]
  }
 ],
 "metadata": {
  "kernelspec": {
   "display_name": "Python 3",
   "language": "python",
   "name": "python3"
  },
  "language_info": {
   "codemirror_mode": {
    "name": "ipython",
    "version": 3
   },
   "file_extension": ".py",
   "mimetype": "text/x-python",
   "name": "python",
   "nbconvert_exporter": "python",
   "pygments_lexer": "ipython3",
   "version": "3.8.8"
  }
 },
 "nbformat": 4,
 "nbformat_minor": 5
}