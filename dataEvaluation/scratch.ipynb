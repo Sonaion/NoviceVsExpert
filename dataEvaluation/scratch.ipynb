{
 "cells": [
  {
   "cell_type": "markdown",
   "id": "e5b0b9bc-9a85-4521-8210-9e1ef92c238c",
   "metadata": {},
   "source": [
    "<h2> Load Data</h2>"
   ]
  },
  {
   "cell_type": "code",
   "execution_count": 1,
   "id": "81dc01b0-3756-4775-a258-f1a956ae9599",
   "metadata": {},
   "outputs": [],
   "source": [
    "import warnings\n",
    "import matplotlib.pyplot as plt\n",
    "import json\n",
    "import numpy as np\n",
    "import pandas as pd\n",
    "import regex as re\n",
    "import preparers\n",
    "import sonaion_analysis as son\n",
    "import GenSnippetsLib as snippet\n",
    "import behavioral as bh\n",
    "import os\n",
    "import seaborn as sns\n",
    "from pandas.core.common import SettingWithCopyWarning\n",
    "\n",
    "warnings.simplefilter(action=\"ignore\", category=SettingWithCopyWarning)"
   ]
  },
  {
   "cell_type": "markdown",
   "id": "afb574a9-b8de-4932-b508-b37033b539e2",
   "metadata": {},
   "source": [
    "<h2>potential funtion arguments</h2>"
   ]
  },
  {
   "cell_type": "code",
   "execution_count": 2,
   "outputs": [],
   "source": [
    "def get_line_bounds(img, image_path):\n",
    "    height = img.size[1]\n",
    "    with open(image_path) as json_file:\n",
    "        data = json.load(json_file)\n",
    "        height_margin = data[\"height-margin\"]\n",
    "        loc = len(data[\"source-code\"])\n",
    "        height = height - 2 * height_margin\n",
    "\n",
    "    step_size = height/loc\n",
    "    bounds = []\n",
    "    for i in range(loc):\n",
    "        lower = int(i*step_size) + height_margin\n",
    "        higher = int((i+1)*step_size) + height_margin\n",
    "        bounds.append((i, lower, higher))\n",
    "\n",
    "    return bounds"
   ],
   "metadata": {
    "collapsed": false,
    "pycharm": {
     "name": "#%%\n"
    }
   }
  },
  {
   "cell_type": "code",
   "execution_count": 3,
   "outputs": [],
   "source": [
    "fig, ax = (None, None)\n",
    "denoise_degree = 10\n",
    "display_width = 1920\n",
    "display_height = 1080\n",
    "left_color = (0.0, 1.0, 1.0)\n",
    "right_color = (0.0, 1.0, 0.0)\n",
    "image_path = \"../CodeSnippets/Generators/\" + \"BogoSort\" + \".json\"\n",
    "img, result = snippet.create_image(image_path, font_path=\"/../CodeSnippets/fonts/ttf/\")\n",
    "offset = int(display_height*0.5-img.size[1]*0.5)\n",
    "img_bounds = get_line_bounds(img, image_path)\n",
    "img_bounds = [(i, low + offset, high + offset) for i, low, high in img_bounds]\n",
    "loc = len(img_bounds)\n",
    "line_middle = [int((low+height)/2) for i, low, height in img_bounds]\n",
    "bg = snippet.create_background(display_width, display_height, (180, 180, 180, 255))\n",
    "img = snippet.place_image_on(bg, np.array(img), 0.5, 0.5)\n",
    "cat = np.full(display_height, None)\n",
    "for i, low, height in img_bounds:\n",
    "    for j in range(low, height):\n",
    "        cat[j] = i"
   ],
   "metadata": {
    "collapsed": false,
    "pycharm": {
     "name": "#%%\n"
    }
   }
  },
  {
   "cell_type": "markdown",
   "source": [
    "## Get Group Values"
   ],
   "metadata": {
    "collapsed": false,
    "pycharm": {
     "name": "#%% md\n"
    }
   }
  },
  {
   "cell_type": "code",
   "execution_count": 187,
   "outputs": [],
   "source": [
    "def group(row):\n",
    "    if row[\"yearsOfProgramming\"] >= 7.0 and row[\"yearsOfJava\"] >= 2.0:\n",
    "        return  \"expert\"\n",
    "    if row[\"yearsOfProgramming\"] <= 2.0:\n",
    "        return  \"novice\"\n",
    "    return \"middle\""
   ],
   "metadata": {
    "collapsed": false,
    "pycharm": {
     "name": "#%%\n"
    }
   }
  },
  {
   "cell_type": "code",
   "execution_count": 355,
   "outputs": [
    {
     "data": {
      "text/plain": "Participant  yearsOfProgramming  yearsOfJava    group\n1                           7.0          6.0  experts\n2                           6.0          4.0   novice\n3                          10.0          4.0  experts\n4                           7.0          7.0  experts\n5                           8.0          0.0   novice\n6                          20.0         10.0  experts\n7                           7.0          7.0  experts\n10                          7.0          7.0  experts\n11                          8.0          4.0  experts\n12                          7.0          5.0  experts\n13                          9.0          8.0  experts\n14                         30.0         20.0  experts\n19                         10.0          1.0   novice\n22                          4.0          1.0   novice\n24                          1.5          1.5   novice\n25                         19.0         10.0  experts\n28                         20.0         14.0  experts\n35                         10.0         10.0  experts\n36                         12.0          8.0  experts\n37                         17.0          4.0  experts\n38                          5.0          1.0   novice\n41                          4.0          2.0   novice\n42                          4.0          3.0   novice\n48                          3.0          3.0   novice\n49                          1.0          0.5   novice\n50                          1.0          0.5   novice\n55                          2.0          2.0   novice\n58                          5.0          2.0   novice\n59                          6.0          6.0   novice\n60                          4.0          0.5   novice\n61                          6.0          6.0   novice\n62                          3.0          2.0   novice\n63                          6.0          1.0   novice\n66                          7.0          1.0   novice\n67                          6.0          2.0   novice\n68                          5.0          1.0   novice\n70                          7.0          5.0  experts\n71                          2.0          1.0   novice",
      "text/html": "<div>\n<style scoped>\n    .dataframe tbody tr th:only-of-type {\n        vertical-align: middle;\n    }\n\n    .dataframe tbody tr th {\n        vertical-align: top;\n    }\n\n    .dataframe thead th {\n        text-align: right;\n    }\n</style>\n<table border=\"1\" class=\"dataframe\">\n  <thead>\n    <tr style=\"text-align: right;\">\n      <th>Participant</th>\n      <th>yearsOfProgramming</th>\n      <th>yearsOfJava</th>\n      <th>group</th>\n    </tr>\n  </thead>\n  <tbody>\n    <tr>\n      <th>1</th>\n      <td>7.0</td>\n      <td>6.0</td>\n      <td>experts</td>\n    </tr>\n    <tr>\n      <th>2</th>\n      <td>6.0</td>\n      <td>4.0</td>\n      <td>novice</td>\n    </tr>\n    <tr>\n      <th>3</th>\n      <td>10.0</td>\n      <td>4.0</td>\n      <td>experts</td>\n    </tr>\n    <tr>\n      <th>4</th>\n      <td>7.0</td>\n      <td>7.0</td>\n      <td>experts</td>\n    </tr>\n    <tr>\n      <th>5</th>\n      <td>8.0</td>\n      <td>0.0</td>\n      <td>novice</td>\n    </tr>\n    <tr>\n      <th>6</th>\n      <td>20.0</td>\n      <td>10.0</td>\n      <td>experts</td>\n    </tr>\n    <tr>\n      <th>7</th>\n      <td>7.0</td>\n      <td>7.0</td>\n      <td>experts</td>\n    </tr>\n    <tr>\n      <th>10</th>\n      <td>7.0</td>\n      <td>7.0</td>\n      <td>experts</td>\n    </tr>\n    <tr>\n      <th>11</th>\n      <td>8.0</td>\n      <td>4.0</td>\n      <td>experts</td>\n    </tr>\n    <tr>\n      <th>12</th>\n      <td>7.0</td>\n      <td>5.0</td>\n      <td>experts</td>\n    </tr>\n    <tr>\n      <th>13</th>\n      <td>9.0</td>\n      <td>8.0</td>\n      <td>experts</td>\n    </tr>\n    <tr>\n      <th>14</th>\n      <td>30.0</td>\n      <td>20.0</td>\n      <td>experts</td>\n    </tr>\n    <tr>\n      <th>19</th>\n      <td>10.0</td>\n      <td>1.0</td>\n      <td>novice</td>\n    </tr>\n    <tr>\n      <th>22</th>\n      <td>4.0</td>\n      <td>1.0</td>\n      <td>novice</td>\n    </tr>\n    <tr>\n      <th>24</th>\n      <td>1.5</td>\n      <td>1.5</td>\n      <td>novice</td>\n    </tr>\n    <tr>\n      <th>25</th>\n      <td>19.0</td>\n      <td>10.0</td>\n      <td>experts</td>\n    </tr>\n    <tr>\n      <th>28</th>\n      <td>20.0</td>\n      <td>14.0</td>\n      <td>experts</td>\n    </tr>\n    <tr>\n      <th>35</th>\n      <td>10.0</td>\n      <td>10.0</td>\n      <td>experts</td>\n    </tr>\n    <tr>\n      <th>36</th>\n      <td>12.0</td>\n      <td>8.0</td>\n      <td>experts</td>\n    </tr>\n    <tr>\n      <th>37</th>\n      <td>17.0</td>\n      <td>4.0</td>\n      <td>experts</td>\n    </tr>\n    <tr>\n      <th>38</th>\n      <td>5.0</td>\n      <td>1.0</td>\n      <td>novice</td>\n    </tr>\n    <tr>\n      <th>41</th>\n      <td>4.0</td>\n      <td>2.0</td>\n      <td>novice</td>\n    </tr>\n    <tr>\n      <th>42</th>\n      <td>4.0</td>\n      <td>3.0</td>\n      <td>novice</td>\n    </tr>\n    <tr>\n      <th>48</th>\n      <td>3.0</td>\n      <td>3.0</td>\n      <td>novice</td>\n    </tr>\n    <tr>\n      <th>49</th>\n      <td>1.0</td>\n      <td>0.5</td>\n      <td>novice</td>\n    </tr>\n    <tr>\n      <th>50</th>\n      <td>1.0</td>\n      <td>0.5</td>\n      <td>novice</td>\n    </tr>\n    <tr>\n      <th>55</th>\n      <td>2.0</td>\n      <td>2.0</td>\n      <td>novice</td>\n    </tr>\n    <tr>\n      <th>58</th>\n      <td>5.0</td>\n      <td>2.0</td>\n      <td>novice</td>\n    </tr>\n    <tr>\n      <th>59</th>\n      <td>6.0</td>\n      <td>6.0</td>\n      <td>novice</td>\n    </tr>\n    <tr>\n      <th>60</th>\n      <td>4.0</td>\n      <td>0.5</td>\n      <td>novice</td>\n    </tr>\n    <tr>\n      <th>61</th>\n      <td>6.0</td>\n      <td>6.0</td>\n      <td>novice</td>\n    </tr>\n    <tr>\n      <th>62</th>\n      <td>3.0</td>\n      <td>2.0</td>\n      <td>novice</td>\n    </tr>\n    <tr>\n      <th>63</th>\n      <td>6.0</td>\n      <td>1.0</td>\n      <td>novice</td>\n    </tr>\n    <tr>\n      <th>66</th>\n      <td>7.0</td>\n      <td>1.0</td>\n      <td>novice</td>\n    </tr>\n    <tr>\n      <th>67</th>\n      <td>6.0</td>\n      <td>2.0</td>\n      <td>novice</td>\n    </tr>\n    <tr>\n      <th>68</th>\n      <td>5.0</td>\n      <td>1.0</td>\n      <td>novice</td>\n    </tr>\n    <tr>\n      <th>70</th>\n      <td>7.0</td>\n      <td>5.0</td>\n      <td>experts</td>\n    </tr>\n    <tr>\n      <th>71</th>\n      <td>2.0</td>\n      <td>1.0</td>\n      <td>novice</td>\n    </tr>\n  </tbody>\n</table>\n</div>"
     },
     "execution_count": 355,
     "metadata": {},
     "output_type": "execute_result"
    }
   ],
   "source": [
    "df_questionnaire = pd.read_excel(\"./rawData/Questionnaire.xlsx\", sheet_name=\"Experience\")\n",
    "# transpose the dataframe\n",
    "df_questionnaire = df_questionnaire.transpose()\n",
    "# use first row as column names\n",
    "df_questionnaire.columns = df_questionnaire.iloc[0]\n",
    "#delete first row\n",
    "df_questionnaire = df_questionnaire.drop(df_questionnaire.index[0])\n",
    "#drop row where years of programming is missing\n",
    "df_questionnaire = df_questionnaire.dropna(subset=[\"yearsAtWork\"])\n",
    "#change all NaN to 0\n",
    "df_questionnaire = df_questionnaire.fillna(0)\n",
    "\n",
    "# drop row with \"Participant\" beeing 9\n",
    "df_questionnaire = df_questionnaire.drop(9)\n",
    "\n",
    "#classify all particiapnts into two groups:\n",
    "#1. those with yearsOfProgramming >= 7 and yearsOfJava >= 2 as \"experts\"\n",
    "#2. those with yearsOfProgramming < 7 and yearsOfJava < 2 as \"novices\"\n",
    "df_questionnaire[\"yearsOfProgramming\"] = df_questionnaire[\"yearsOfProgramming\"].astype(float)\n",
    "df_questionnaire[\"yearsOfJava\"] = df_questionnaire[\"yearsOfJava\"].astype(float)\n",
    "df_questionnaire[\"group\"] = df_questionnaire.apply(lambda x: \"experts\" if x[\"yearsOfProgramming\"] >= 7.0 and x[\"yearsOfJava\"] >= 2.0 else \"novice\", axis=1)\n",
    "#df_questionnaire[\"group\"] = df_questionnaire.apply(lambda x: group(x), axis=1)\n",
    "df_questionnaire[[\"yearsOfProgramming\", \"yearsOfJava\", \"group\"]]"
   ],
   "metadata": {
    "collapsed": false,
    "pycharm": {
     "name": "#%%\n"
    }
   }
  },
  {
   "cell_type": "code",
   "execution_count": 356,
   "outputs": [
    {
     "data": {
      "text/plain": "Participant                     yearsOfProgramming  \\\nParticipant                                          \nyearsOfProgramming                        1.000000   \nyearsOfProfessionalProgramming            0.912879   \nyearsOfJava                               0.834671   \nlogicalExperience                         0.196881   \nfunctionalExperience                      0.277054   \nimperativExperience                       0.298009   \nobjectExperience                          0.405389   \ncomparedToStudent                        -0.155277   \ncomparedToProfessional                    0.222305   \n\nParticipant                     yearsOfProfessionalProgramming  yearsOfJava  \\\nParticipant                                                                   \nyearsOfProgramming                                    0.912879     0.834671   \nyearsOfProfessionalProgramming                        1.000000     0.755738   \nyearsOfJava                                           0.755738     1.000000   \nlogicalExperience                                     0.162842     0.107167   \nfunctionalExperience                                  0.153438     0.313488   \nimperativExperience                                   0.211286     0.186688   \nobjectExperience                                      0.451542     0.348047   \ncomparedToStudent                                    -0.067585    -0.123541   \ncomparedToProfessional                                0.287723     0.267995   \n\nParticipant                     logicalExperience  functionalExperience  \\\nParticipant                                                               \nyearsOfProgramming                       0.196881              0.277054   \nyearsOfProfessionalProgramming           0.162842              0.153438   \nyearsOfJava                              0.107167              0.313488   \nlogicalExperience                        1.000000              0.438185   \nfunctionalExperience                     0.438185              1.000000   \nimperativExperience                      0.364237              0.311776   \nobjectExperience                         0.112319              0.099272   \ncomparedToStudent                        0.161150              0.019113   \ncomparedToProfessional                   0.299794              0.308248   \n\nParticipant                     imperativExperience  objectExperience  \\\nParticipant                                                             \nyearsOfProgramming                         0.298009          0.405389   \nyearsOfProfessionalProgramming             0.211286          0.451542   \nyearsOfJava                                0.186688          0.348047   \nlogicalExperience                          0.364237          0.112319   \nfunctionalExperience                       0.311776          0.099272   \nimperativExperience                        1.000000          0.393788   \nobjectExperience                           0.393788          1.000000   \ncomparedToStudent                         -0.083585          0.078476   \ncomparedToProfessional                     0.211158          0.393626   \n\nParticipant                     comparedToStudent  comparedToProfessional  \nParticipant                                                                \nyearsOfProgramming                      -0.155277                0.222305  \nyearsOfProfessionalProgramming          -0.067585                0.287723  \nyearsOfJava                             -0.123541                0.267995  \nlogicalExperience                        0.161150                0.299794  \nfunctionalExperience                     0.019113                0.308248  \nimperativExperience                     -0.083585                0.211158  \nobjectExperience                         0.078476                0.393626  \ncomparedToStudent                        1.000000                0.496090  \ncomparedToProfessional                   0.496090                1.000000  ",
      "text/html": "<div>\n<style scoped>\n    .dataframe tbody tr th:only-of-type {\n        vertical-align: middle;\n    }\n\n    .dataframe tbody tr th {\n        vertical-align: top;\n    }\n\n    .dataframe thead th {\n        text-align: right;\n    }\n</style>\n<table border=\"1\" class=\"dataframe\">\n  <thead>\n    <tr style=\"text-align: right;\">\n      <th>Participant</th>\n      <th>yearsOfProgramming</th>\n      <th>yearsOfProfessionalProgramming</th>\n      <th>yearsOfJava</th>\n      <th>logicalExperience</th>\n      <th>functionalExperience</th>\n      <th>imperativExperience</th>\n      <th>objectExperience</th>\n      <th>comparedToStudent</th>\n      <th>comparedToProfessional</th>\n    </tr>\n    <tr>\n      <th>Participant</th>\n      <th></th>\n      <th></th>\n      <th></th>\n      <th></th>\n      <th></th>\n      <th></th>\n      <th></th>\n      <th></th>\n      <th></th>\n    </tr>\n  </thead>\n  <tbody>\n    <tr>\n      <th>yearsOfProgramming</th>\n      <td>1.000000</td>\n      <td>0.912879</td>\n      <td>0.834671</td>\n      <td>0.196881</td>\n      <td>0.277054</td>\n      <td>0.298009</td>\n      <td>0.405389</td>\n      <td>-0.155277</td>\n      <td>0.222305</td>\n    </tr>\n    <tr>\n      <th>yearsOfProfessionalProgramming</th>\n      <td>0.912879</td>\n      <td>1.000000</td>\n      <td>0.755738</td>\n      <td>0.162842</td>\n      <td>0.153438</td>\n      <td>0.211286</td>\n      <td>0.451542</td>\n      <td>-0.067585</td>\n      <td>0.287723</td>\n    </tr>\n    <tr>\n      <th>yearsOfJava</th>\n      <td>0.834671</td>\n      <td>0.755738</td>\n      <td>1.000000</td>\n      <td>0.107167</td>\n      <td>0.313488</td>\n      <td>0.186688</td>\n      <td>0.348047</td>\n      <td>-0.123541</td>\n      <td>0.267995</td>\n    </tr>\n    <tr>\n      <th>logicalExperience</th>\n      <td>0.196881</td>\n      <td>0.162842</td>\n      <td>0.107167</td>\n      <td>1.000000</td>\n      <td>0.438185</td>\n      <td>0.364237</td>\n      <td>0.112319</td>\n      <td>0.161150</td>\n      <td>0.299794</td>\n    </tr>\n    <tr>\n      <th>functionalExperience</th>\n      <td>0.277054</td>\n      <td>0.153438</td>\n      <td>0.313488</td>\n      <td>0.438185</td>\n      <td>1.000000</td>\n      <td>0.311776</td>\n      <td>0.099272</td>\n      <td>0.019113</td>\n      <td>0.308248</td>\n    </tr>\n    <tr>\n      <th>imperativExperience</th>\n      <td>0.298009</td>\n      <td>0.211286</td>\n      <td>0.186688</td>\n      <td>0.364237</td>\n      <td>0.311776</td>\n      <td>1.000000</td>\n      <td>0.393788</td>\n      <td>-0.083585</td>\n      <td>0.211158</td>\n    </tr>\n    <tr>\n      <th>objectExperience</th>\n      <td>0.405389</td>\n      <td>0.451542</td>\n      <td>0.348047</td>\n      <td>0.112319</td>\n      <td>0.099272</td>\n      <td>0.393788</td>\n      <td>1.000000</td>\n      <td>0.078476</td>\n      <td>0.393626</td>\n    </tr>\n    <tr>\n      <th>comparedToStudent</th>\n      <td>-0.155277</td>\n      <td>-0.067585</td>\n      <td>-0.123541</td>\n      <td>0.161150</td>\n      <td>0.019113</td>\n      <td>-0.083585</td>\n      <td>0.078476</td>\n      <td>1.000000</td>\n      <td>0.496090</td>\n    </tr>\n    <tr>\n      <th>comparedToProfessional</th>\n      <td>0.222305</td>\n      <td>0.287723</td>\n      <td>0.267995</td>\n      <td>0.299794</td>\n      <td>0.308248</td>\n      <td>0.211158</td>\n      <td>0.393626</td>\n      <td>0.496090</td>\n      <td>1.000000</td>\n    </tr>\n  </tbody>\n</table>\n</div>"
     },
     "execution_count": 356,
     "metadata": {},
     "output_type": "execute_result"
    }
   ],
   "source": [
    "# calulate the pearson correlation between the years of programming and the years of java\n",
    "corr = df_questionnaire.corr(method=\"pearson\")\n",
    "corr"
   ],
   "metadata": {
    "collapsed": false,
    "pycharm": {
     "name": "#%%\n"
    }
   }
  },
  {
   "cell_type": "code",
   "execution_count": 357,
   "outputs": [
    {
     "data": {
      "text/plain": "<seaborn.axisgrid.FacetGrid at 0x1e96b789790>"
     },
     "execution_count": 357,
     "metadata": {},
     "output_type": "execute_result"
    },
    {
     "data": {
      "text/plain": "<Figure size 435.725x360 with 1 Axes>",
      "image/png": "[encoded data removed]"
     },
     "metadata": {},
     "output_type": "display_data"
    }
   ],
   "source": [
    "# do k means clustering on the dataframe to get the groups of the participants based on yearsOfProgramming and yearsOfJava\n",
    "from sklearn.cluster import KMeans\n",
    "\n",
    "kmeans = KMeans(n_clusters=3, random_state=0).fit(df_questionnaire[[\"yearsOfProgramming\", \"yearsOfJava\"]])\n",
    "# df_questionnaire[\"group\"] = kmeans.labels_\n",
    "# do a scatterplot based on yearsOfProgramming and yearsOfJava\n",
    "sns.set(style=\"whitegrid\")\n",
    "g = sns.lmplot(x=\"yearsOfProgramming\", y=\"yearsOfJava\", data=df_questionnaire, hue=\"group\", fit_reg=False)\n",
    "g.set(ylim=(-1, 31))\n",
    "g.set(xlim=(-1, 31))"
   ],
   "metadata": {
    "collapsed": false,
    "pycharm": {
     "name": "#%%\n"
    }
   }
  },
  {
   "cell_type": "code",
   "execution_count": 358,
   "outputs": [],
   "source": [
    "#df_questionnaire.loc[df_questionnaire[\"group\"] == 0, \"group\"] = \"middle\"\n",
    "#df_questionnaire.loc[df_questionnaire[\"group\"] == 1, \"group\"] = \"experts\"\n",
    "#df_questionnaire.loc[df_questionnaire[\"group\"] == 2, \"group\"] = \"novices\""
   ],
   "metadata": {
    "collapsed": false,
    "pycharm": {
     "name": "#%%\n"
    }
   }
  },
  {
   "cell_type": "code",
   "execution_count": 359,
   "outputs": [],
   "source": [
    "participants = []\n",
    "snippets = []\n",
    "for sub_dirs in list(os.walk(\"./filteredData\"))[0][1]:\n",
    "    participants.append(int(re.findall(r'\\d+', sub_dirs)[0]))\n",
    "\n",
    "df_behavioral = bh.get_behavioral_df(participants)"
   ],
   "metadata": {
    "collapsed": false,
    "pycharm": {
     "name": "#%%\n"
    }
   }
  },
  {
   "cell_type": "code",
   "execution_count": 360,
   "outputs": [],
   "source": [
    "#transform the response field, so that \"Right\" will be \"Right\" and everything else will be \"Wrong\"\n",
    "df_behavioral[\"Response\"] = df_behavioral[\"Response\"].apply(lambda x: \"Right\" if x == \"Right\" else \"Wrong\")"
   ],
   "metadata": {
    "collapsed": false,
    "pycharm": {
     "name": "#%%\n"
    }
   }
  },
  {
   "cell_type": "code",
   "execution_count": 361,
   "outputs": [
    {
     "data": {
      "text/plain": "              Duration Response              Snippet    group  experience\nParticipant                                                              \n1            27.286223    Wrong             Ackerman  experts         7.0\n1            23.420816    Wrong         ArrayAverage  experts         7.0\n1            49.922091    Right         BinToDecimal  experts         7.0\n1            47.770645    Wrong         BinarySearch  experts         7.0\n1            82.632721    Wrong  BinomialCoefficient  experts         7.0\n...                ...      ...                  ...      ...         ...\n71           35.637456    Right  SiebDesEratosthenes   novice         2.0\n71           16.485685    Right          SignChecker   novice         2.0\n71           18.607310    Right           SmallGauss   novice         2.0\n71            6.636784    Right             SumArray   novice         2.0\n71           15.643219    Right              Vehicle   novice         2.0\n\n[1090 rows x 5 columns]",
      "text/html": "<div>\n<style scoped>\n    .dataframe tbody tr th:only-of-type {\n        vertical-align: middle;\n    }\n\n    .dataframe tbody tr th {\n        vertical-align: top;\n    }\n\n    .dataframe thead th {\n        text-align: right;\n    }\n</style>\n<table border=\"1\" class=\"dataframe\">\n  <thead>\n    <tr style=\"text-align: right;\">\n      <th></th>\n      <th>Duration</th>\n      <th>Response</th>\n      <th>Snippet</th>\n      <th>group</th>\n      <th>experience</th>\n    </tr>\n    <tr>\n      <th>Participant</th>\n      <th></th>\n      <th></th>\n      <th></th>\n      <th></th>\n      <th></th>\n    </tr>\n  </thead>\n  <tbody>\n    <tr>\n      <th>1</th>\n      <td>27.286223</td>\n      <td>Wrong</td>\n      <td>Ackerman</td>\n      <td>experts</td>\n      <td>7.0</td>\n    </tr>\n    <tr>\n      <th>1</th>\n      <td>23.420816</td>\n      <td>Wrong</td>\n      <td>ArrayAverage</td>\n      <td>experts</td>\n      <td>7.0</td>\n    </tr>\n    <tr>\n      <th>1</th>\n      <td>49.922091</td>\n      <td>Right</td>\n      <td>BinToDecimal</td>\n      <td>experts</td>\n      <td>7.0</td>\n    </tr>\n    <tr>\n      <th>1</th>\n      <td>47.770645</td>\n      <td>Wrong</td>\n      <td>BinarySearch</td>\n      <td>experts</td>\n      <td>7.0</td>\n    </tr>\n    <tr>\n      <th>1</th>\n      <td>82.632721</td>\n      <td>Wrong</td>\n      <td>BinomialCoefficient</td>\n      <td>experts</td>\n      <td>7.0</td>\n    </tr>\n    <tr>\n      <th>...</th>\n      <td>...</td>\n      <td>...</td>\n      <td>...</td>\n      <td>...</td>\n      <td>...</td>\n    </tr>\n    <tr>\n      <th>71</th>\n      <td>35.637456</td>\n      <td>Right</td>\n      <td>SiebDesEratosthenes</td>\n      <td>novice</td>\n      <td>2.0</td>\n    </tr>\n    <tr>\n      <th>71</th>\n      <td>16.485685</td>\n      <td>Right</td>\n      <td>SignChecker</td>\n      <td>novice</td>\n      <td>2.0</td>\n    </tr>\n    <tr>\n      <th>71</th>\n      <td>18.607310</td>\n      <td>Right</td>\n      <td>SmallGauss</td>\n      <td>novice</td>\n      <td>2.0</td>\n    </tr>\n    <tr>\n      <th>71</th>\n      <td>6.636784</td>\n      <td>Right</td>\n      <td>SumArray</td>\n      <td>novice</td>\n      <td>2.0</td>\n    </tr>\n    <tr>\n      <th>71</th>\n      <td>15.643219</td>\n      <td>Right</td>\n      <td>Vehicle</td>\n      <td>novice</td>\n      <td>2.0</td>\n    </tr>\n  </tbody>\n</table>\n<p>1090 rows × 5 columns</p>\n</div>"
     },
     "execution_count": 361,
     "metadata": {},
     "output_type": "execute_result"
    }
   ],
   "source": [
    "#add a group column that classifies the participants into \"novices\" and \"experts\" based on  the groups in df_questionnaire\n",
    "df_behavioral[\"group\"] = df_questionnaire[\"group\"]\n",
    "df_behavioral[\"experience\"] = df_questionnaire[\"yearsOfProgramming\"]\n",
    "df_behavioral"
   ],
   "metadata": {
    "collapsed": false,
    "pycharm": {
     "name": "#%%\n"
    }
   }
  },
  {
   "cell_type": "code",
   "execution_count": 279,
   "outputs": [
    {
     "data": {
      "text/plain": "novice     22\nexperts    16\nName: group, dtype: int64"
     },
     "execution_count": 279,
     "metadata": {},
     "output_type": "execute_result"
    }
   ],
   "source": [
    "# count novicies and experts and middle\n",
    "df_questionnaire[\"group\"].value_counts()"
   ],
   "metadata": {
    "collapsed": false,
    "pycharm": {
     "name": "#%%\n"
    }
   }
  },
  {
   "cell_type": "code",
   "execution_count": 362,
   "outputs": [],
   "source": [
    "# calculate the quantile of the Duration field for each group and add it to the dataframe\n",
    "# df_behavioral = df_behavioral[df_behavioral[\"Response\"]==\"Right\"]\n",
    "novices_lower = df_behavioral[df_behavioral[\"group\"] == \"novice\"][\"Duration\"].quantile(0.05)\n",
    "novices_upper = df_behavioral[df_behavioral[\"group\"] == \"novice\"][\"Duration\"].quantile(0.95)\n",
    "\n",
    "experts_lower = df_behavioral[df_behavioral[\"group\"] == \"experts\"][\"Duration\"].quantile(0.05)\n",
    "experts_upper = df_behavioral[df_behavioral[\"group\"] == \"experts\"][\"Duration\"].quantile(0.95)\n",
    "\n",
    "# kick out all participants that are not in the lower or upper quantile\n",
    "df_novices = df_behavioral[(df_behavioral[\"group\"] == \"novice\") & (df_behavioral[\"Duration\"] >= novices_lower) & (df_behavioral[\"Duration\"] <= novices_upper)]\n",
    "df_experts = df_behavioral[(df_behavioral[\"group\"] == \"experts\") & (df_behavioral[\"Duration\"] >= experts_lower) & (df_behavioral[\"Duration\"] <= experts_upper)]\n",
    "# merge dataframes\n",
    "df_behavioral = pd.concat([df_novices, df_experts])"
   ],
   "metadata": {
    "collapsed": false,
    "pycharm": {
     "name": "#%%\n"
    }
   }
  },
  {
   "cell_type": "code",
   "execution_count": 363,
   "outputs": [
    {
     "data": {
      "text/plain": "<seaborn.axisgrid.FacetGrid at 0x1e96caa6b80>"
     },
     "execution_count": 363,
     "metadata": {},
     "output_type": "execute_result"
    },
    {
     "data": {
      "text/plain": "<Figure size 435.725x360 with 1 Axes>",
      "image/png": "[encoded data removed]"
     },
     "metadata": {},
     "output_type": "display_data"
    }
   ],
   "source": [
    "#create a violin plot comparing the Duration of novices and experts\n",
    "sns.lmplot(x=\"experience\", y=\"Duration\", data=df_behavioral, hue=\"group\", fit_reg=False)"
   ],
   "metadata": {
    "collapsed": false,
    "pycharm": {
     "name": "#%%\n"
    }
   }
  },
  {
   "cell_type": "code",
   "execution_count": 364,
   "outputs": [],
   "source": [
    "# get the total time of the experiment per participant\n",
    "participants = []\n",
    "for sub_dirs in list(os.walk(\"./rawData\"))[0][1]:\n",
    "    participants.append(int(re.findall(r'\\d+', sub_dirs)[0]))\n",
    "\n",
    "df_times = pd.DataFrame(columns=[\"Participant\", \"totalTime\"])\n",
    "for participant in participants:\n",
    "    participant_folder = \"./rawData/Participant{}/\".format(str(participant).zfill(2))\n",
    "    psychopy_csv_path = participant_folder\n",
    "\n",
    "    # get path for psychopy log and csv data\n",
    "    for (dirpath, dirnames, filenames) in os.walk(psychopy_csv_path):\n",
    "        for file in filenames:\n",
    "            file, ext = os.path.splitext(file)\n",
    "            if ext == \".csv\" and \"test\" in file:\n",
    "                psychopy_csv_path += file + ext\n",
    "\n",
    "    # read csv file\n",
    "    df = pd.read_csv(psychopy_csv_path)\n",
    "    end_time = df.iloc[-2][\"continuQuestion.started\"]\n",
    "\n",
    "    # drop where ImagePath is empty\n",
    "    df = df.dropna(subset=[\"ImagePath\"])\n",
    "\n",
    "    # get the Image.started from the first row\n",
    "    start_time = df.iloc[0][\"Image.started\"]\n",
    "    # calculate the total time\n",
    "    total_time = end_time - start_time\n",
    "    # add the participant and total time to the dataframe\n",
    "    df_times = df_times.append({\"Participant\": int(participant), \"totalTime\": total_time}, ignore_index=True)\n",
    "\n",
    "# set index to participant\n",
    "df_times[\"Participant\"] = df_times[\"Participant\"].astype(int)\n",
    "df_times = df_times.set_index(\"Participant\", drop=True)\n",
    "df_behavioral[\"totalTime\"] = df_times[\"totalTime\"]"
   ],
   "metadata": {
    "collapsed": false,
    "pycharm": {
     "name": "#%%\n"
    }
   }
  },
  {
   "cell_type": "code",
   "execution_count": 367,
   "outputs": [
    {
     "data": {
      "text/plain": "     Participant   Duration Response              Snippet    group  \\\n0              2  56.933922    Right             Ackerman   novice   \n1              2  18.258535    Wrong         ArrayAverage   novice   \n2              2  69.827162    Wrong         BinToDecimal   novice   \n3              2  48.511325    Right         BinarySearch   novice   \n4              2  74.819661    Wrong  BinomialCoefficient   novice   \n..           ...        ...      ...                  ...      ...   \n934           70  48.557159    Right     RemoveDoubleChar  experts   \n935           70  23.689011    Right          SignChecker  experts   \n936           70  39.435422    Right           SmallGauss  experts   \n937           70  16.503451    Right             SumArray  experts   \n938           70  85.623238    Right              Vehicle  experts   \n\n     experience    totalTime  \n0           6.0  4187.046853  \n1           6.0  4187.046853  \n2           6.0  4187.046853  \n3           6.0  4187.046853  \n4           6.0  4187.046853  \n..          ...          ...  \n934         7.0  4309.171319  \n935         7.0  4309.171319  \n936         7.0  4309.171319  \n937         7.0  4309.171319  \n938         7.0  4309.171319  \n\n[939 rows x 7 columns]",
      "text/html": "<div>\n<style scoped>\n    .dataframe tbody tr th:only-of-type {\n        vertical-align: middle;\n    }\n\n    .dataframe tbody tr th {\n        vertical-align: top;\n    }\n\n    .dataframe thead th {\n        text-align: right;\n    }\n</style>\n<table border=\"1\" class=\"dataframe\">\n  <thead>\n    <tr style=\"text-align: right;\">\n      <th></th>\n      <th>Participant</th>\n      <th>Duration</th>\n      <th>Response</th>\n      <th>Snippet</th>\n      <th>group</th>\n      <th>experience</th>\n      <th>totalTime</th>\n    </tr>\n  </thead>\n  <tbody>\n    <tr>\n      <th>0</th>\n      <td>2</td>\n      <td>56.933922</td>\n      <td>Right</td>\n      <td>Ackerman</td>\n      <td>novice</td>\n      <td>6.0</td>\n      <td>4187.046853</td>\n    </tr>\n    <tr>\n      <th>1</th>\n      <td>2</td>\n      <td>18.258535</td>\n      <td>Wrong</td>\n      <td>ArrayAverage</td>\n      <td>novice</td>\n      <td>6.0</td>\n      <td>4187.046853</td>\n    </tr>\n    <tr>\n      <th>2</th>\n      <td>2</td>\n      <td>69.827162</td>\n      <td>Wrong</td>\n      <td>BinToDecimal</td>\n      <td>novice</td>\n      <td>6.0</td>\n      <td>4187.046853</td>\n    </tr>\n    <tr>\n      <th>3</th>\n      <td>2</td>\n      <td>48.511325</td>\n      <td>Right</td>\n      <td>BinarySearch</td>\n      <td>novice</td>\n      <td>6.0</td>\n      <td>4187.046853</td>\n    </tr>\n    <tr>\n      <th>4</th>\n      <td>2</td>\n      <td>74.819661</td>\n      <td>Wrong</td>\n      <td>BinomialCoefficient</td>\n      <td>novice</td>\n      <td>6.0</td>\n      <td>4187.046853</td>\n    </tr>\n    <tr>\n      <th>...</th>\n      <td>...</td>\n      <td>...</td>\n      <td>...</td>\n      <td>...</td>\n      <td>...</td>\n      <td>...</td>\n      <td>...</td>\n    </tr>\n    <tr>\n      <th>934</th>\n      <td>70</td>\n      <td>48.557159</td>\n      <td>Right</td>\n      <td>RemoveDoubleChar</td>\n      <td>experts</td>\n      <td>7.0</td>\n      <td>4309.171319</td>\n    </tr>\n    <tr>\n      <th>935</th>\n      <td>70</td>\n      <td>23.689011</td>\n      <td>Right</td>\n      <td>SignChecker</td>\n      <td>experts</td>\n      <td>7.0</td>\n      <td>4309.171319</td>\n    </tr>\n    <tr>\n      <th>936</th>\n      <td>70</td>\n      <td>39.435422</td>\n      <td>Right</td>\n      <td>SmallGauss</td>\n      <td>experts</td>\n      <td>7.0</td>\n      <td>4309.171319</td>\n    </tr>\n    <tr>\n      <th>937</th>\n      <td>70</td>\n      <td>16.503451</td>\n      <td>Right</td>\n      <td>SumArray</td>\n      <td>experts</td>\n      <td>7.0</td>\n      <td>4309.171319</td>\n    </tr>\n    <tr>\n      <th>938</th>\n      <td>70</td>\n      <td>85.623238</td>\n      <td>Right</td>\n      <td>Vehicle</td>\n      <td>experts</td>\n      <td>7.0</td>\n      <td>4309.171319</td>\n    </tr>\n  </tbody>\n</table>\n<p>939 rows × 7 columns</p>\n</div>"
     },
     "execution_count": 367,
     "metadata": {},
     "output_type": "execute_result"
    }
   ],
   "source": [
    "df_tmp = df_behavioral.copy()\n",
    "df_tmp.reset_index(inplace=True)\n",
    "df_tmp"
   ],
   "metadata": {
    "collapsed": false,
    "pycharm": {
     "name": "#%%\n"
    }
   }
  },
  {
   "cell_type": "code",
   "execution_count": 369,
   "outputs": [
    {
     "data": {
      "text/plain": "0     0.310470\n1     0.343918\n2     0.307582\n3     0.401472\n4     0.276260\n5     0.323944\n6     0.383426\n7     0.274496\n8     0.162151\n9     0.311755\n10    0.383527\n11    0.296620\n12    0.343412\n13    0.217748\n14    0.285874\n15    0.281835\n16    0.449160\n17    0.330701\n18    0.335703\n19    0.293546\n20    0.308624\n21    0.306122\n22    0.141511\n23    0.242750\n24    0.209069\n25    0.182544\n26    0.275382\n27    0.367525\n28    0.187041\n29    0.319686\n30    0.301919\n31    0.465483\n32    0.258033\n33    0.392090\n34    0.236704\n35    0.341034\nName: correct_per_time, dtype: float64"
     },
     "execution_count": 369,
     "metadata": {},
     "output_type": "execute_result"
    }
   ],
   "source": [
    "# create a dataframe counting the correct answers and the total time per participant based on the dataframe df_behavioral\n",
    "df_correct = pd.DataFrame(columns=[\"Participant\", \"correct\", \"total\", \"totalTime\", \"group\"])\n",
    "\n",
    "for participant in participants:\n",
    "    try:\n",
    "        correct = len(df_tmp[(df_tmp[\"Participant\"] == participant) & (df_tmp[\"Response\"] == \"Right\")])\n",
    "        total = len(df_tmp[df_tmp[\"Participant\"] == participant])\n",
    "        total_time = df_tmp[df_tmp[\"Participant\"] == participant][\"totalTime\"].iloc[0]\n",
    "        group = df_tmp[df_tmp[\"Participant\"] == participant][\"group\"].iloc[0]\n",
    "        df_correct = df_correct.append({\"Participant\": participant, \"correct\": correct, \"total\": total, \"totalTime\": total_time, \"group\": group}, ignore_index=True)\n",
    "    except:\n",
    "        pass\n",
    "\n",
    "df_correct[\"correct_per_time\"] = df_correct[\"correct\"] / (df_correct[\"totalTime\"]/(60.0))\n",
    "df_correct[\"correct_per_time\"] = df_correct[\"correct_per_time\"].astype(float)\n",
    "df_correct[\"correct_per_time\"]"
   ],
   "metadata": {
    "collapsed": false,
    "pycharm": {
     "name": "#%%\n"
    }
   }
  },
  {
   "cell_type": "code",
   "execution_count": 377,
   "outputs": [
    {
     "data": {
      "text/plain": "ShapiroResult(statistic=0.9822531938552856, pvalue=0.8185938000679016)"
     },
     "execution_count": 377,
     "metadata": {},
     "output_type": "execute_result"
    }
   ],
   "source": [
    "# create violin plot\n",
    "# sns.violinplot(y=\"correct_per_time\", data=df_correct, split=True)\n",
    "\n",
    "# check if correct_per_time is normal distributed with shapiro-wilk test\n",
    "import scipy\n",
    "\n",
    "scipy.stats.shapiro(df_correct[\"correct_per_time\"])"
   ],
   "metadata": {
    "collapsed": false,
    "pycharm": {
     "name": "#%%\n"
    }
   }
  },
  {
   "cell_type": "code",
   "execution_count": 353,
   "outputs": [
    {
     "data": {
      "text/plain": "Empty DataFrame\nColumns: [Participant, correct, total, totalTime, group, correct_per_time]\nIndex: []",
      "text/html": "<div>\n<style scoped>\n    .dataframe tbody tr th:only-of-type {\n        vertical-align: middle;\n    }\n\n    .dataframe tbody tr th {\n        vertical-align: top;\n    }\n\n    .dataframe thead th {\n        text-align: right;\n    }\n</style>\n<table border=\"1\" class=\"dataframe\">\n  <thead>\n    <tr style=\"text-align: right;\">\n      <th></th>\n      <th>Participant</th>\n      <th>correct</th>\n      <th>total</th>\n      <th>totalTime</th>\n      <th>group</th>\n      <th>correct_per_time</th>\n    </tr>\n  </thead>\n  <tbody>\n  </tbody>\n</table>\n</div>"
     },
     "execution_count": 353,
     "metadata": {},
     "output_type": "execute_result"
    }
   ],
   "source": [
    "#violin plot of correct_per_time\n",
    "#sns.violinplot(y=\"correct_per_time\", data=df_correct)\n",
    "df_correct"
   ],
   "metadata": {
    "collapsed": false,
    "pycharm": {
     "name": "#%%\n"
    }
   }
  },
  {
   "cell_type": "code",
   "execution_count": 334,
   "outputs": [
    {
     "data": {
      "text/plain": "            correct total    totalTime    group correct_per_time\nParticipant                                                     \n1                21    31  4058.363428  experts        18.628199\n2                24    30  4187.046853   novice        20.635069\n3                13    15  2535.913164  experts        18.454891\n4                27    31  4035.150472  experts        24.088321\n5                18    30  3909.367293   novice        16.575572\n6                21    27  3889.560329  experts        19.436644\n7                26    29  4068.585990  experts        23.005536\n10               16    26  3497.319535  experts        16.469756\n11               11    18  4070.275834  experts          9.72907\n12               21    25  4041.637541  experts        18.705289\n13               27    30  4223.953318  experts        23.011618\n14               21    29  4247.853340  experts        17.797225\n22               23    26  4018.497384   novice        20.604717\n24               14    25  3857.676507   novice        13.064859\n25               20    26  4197.653156  experts        17.152441\n28               19    28  4044.915832  experts        16.910117\n35               19    23  2538.070484  experts        26.949606\n36               21    28  3810.088425  experts        19.842059\n37               23    30  4110.770489  experts        20.142209\n38               16    25  3270.354560   novice        17.612769\n41               21    26  4082.638601   novice        18.517436\n42               24    32  4704.002974   novice        18.367335\n49               10    15  4239.951013   novice         8.490664\n50               17    32  4201.848822   novice        14.565017\n55               14    23  4017.812394   novice         12.54414\n58               13    20  4272.951465   novice        10.952617\n59               19    24  4139.708024   novice        16.522904\n60               27    28  4407.865314   novice         22.05149\n61               13    29  4170.209518   novice        11.222458\n62               23    30  4316.741778   novice        19.181133\n63               21    25  4173.301339   novice        18.115155\n66               24    29  3093.560889   novice         27.92898\n67               18    22  4185.514306   novice        15.481968\n68               17    21  2601.442792   novice        23.525407\n70               17    25  4309.171319  experts        14.202267\n71               20    26  3518.707351   novice         20.46206",
      "text/html": "<div>\n<style scoped>\n    .dataframe tbody tr th:only-of-type {\n        vertical-align: middle;\n    }\n\n    .dataframe tbody tr th {\n        vertical-align: top;\n    }\n\n    .dataframe thead th {\n        text-align: right;\n    }\n</style>\n<table border=\"1\" class=\"dataframe\">\n  <thead>\n    <tr style=\"text-align: right;\">\n      <th></th>\n      <th>correct</th>\n      <th>total</th>\n      <th>totalTime</th>\n      <th>group</th>\n      <th>correct_per_time</th>\n    </tr>\n    <tr>\n      <th>Participant</th>\n      <th></th>\n      <th></th>\n      <th></th>\n      <th></th>\n      <th></th>\n    </tr>\n  </thead>\n  <tbody>\n    <tr>\n      <th>1</th>\n      <td>21</td>\n      <td>31</td>\n      <td>4058.363428</td>\n      <td>experts</td>\n      <td>18.628199</td>\n    </tr>\n    <tr>\n      <th>2</th>\n      <td>24</td>\n      <td>30</td>\n      <td>4187.046853</td>\n      <td>novice</td>\n      <td>20.635069</td>\n    </tr>\n    <tr>\n      <th>3</th>\n      <td>13</td>\n      <td>15</td>\n      <td>2535.913164</td>\n      <td>experts</td>\n      <td>18.454891</td>\n    </tr>\n    <tr>\n      <th>4</th>\n      <td>27</td>\n      <td>31</td>\n      <td>4035.150472</td>\n      <td>experts</td>\n      <td>24.088321</td>\n    </tr>\n    <tr>\n      <th>5</th>\n      <td>18</td>\n      <td>30</td>\n      <td>3909.367293</td>\n      <td>novice</td>\n      <td>16.575572</td>\n    </tr>\n    <tr>\n      <th>6</th>\n      <td>21</td>\n      <td>27</td>\n      <td>3889.560329</td>\n      <td>experts</td>\n      <td>19.436644</td>\n    </tr>\n    <tr>\n      <th>7</th>\n      <td>26</td>\n      <td>29</td>\n      <td>4068.585990</td>\n      <td>experts</td>\n      <td>23.005536</td>\n    </tr>\n    <tr>\n      <th>10</th>\n      <td>16</td>\n      <td>26</td>\n      <td>3497.319535</td>\n      <td>experts</td>\n      <td>16.469756</td>\n    </tr>\n    <tr>\n      <th>11</th>\n      <td>11</td>\n      <td>18</td>\n      <td>4070.275834</td>\n      <td>experts</td>\n      <td>9.72907</td>\n    </tr>\n    <tr>\n      <th>12</th>\n      <td>21</td>\n      <td>25</td>\n      <td>4041.637541</td>\n      <td>experts</td>\n      <td>18.705289</td>\n    </tr>\n    <tr>\n      <th>13</th>\n      <td>27</td>\n      <td>30</td>\n      <td>4223.953318</td>\n      <td>experts</td>\n      <td>23.011618</td>\n    </tr>\n    <tr>\n      <th>14</th>\n      <td>21</td>\n      <td>29</td>\n      <td>4247.853340</td>\n      <td>experts</td>\n      <td>17.797225</td>\n    </tr>\n    <tr>\n      <th>22</th>\n      <td>23</td>\n      <td>26</td>\n      <td>4018.497384</td>\n      <td>novice</td>\n      <td>20.604717</td>\n    </tr>\n    <tr>\n      <th>24</th>\n      <td>14</td>\n      <td>25</td>\n      <td>3857.676507</td>\n      <td>novice</td>\n      <td>13.064859</td>\n    </tr>\n    <tr>\n      <th>25</th>\n      <td>20</td>\n      <td>26</td>\n      <td>4197.653156</td>\n      <td>experts</td>\n      <td>17.152441</td>\n    </tr>\n    <tr>\n      <th>28</th>\n      <td>19</td>\n      <td>28</td>\n      <td>4044.915832</td>\n      <td>experts</td>\n      <td>16.910117</td>\n    </tr>\n    <tr>\n      <th>35</th>\n      <td>19</td>\n      <td>23</td>\n      <td>2538.070484</td>\n      <td>experts</td>\n      <td>26.949606</td>\n    </tr>\n    <tr>\n      <th>36</th>\n      <td>21</td>\n      <td>28</td>\n      <td>3810.088425</td>\n      <td>experts</td>\n      <td>19.842059</td>\n    </tr>\n    <tr>\n      <th>37</th>\n      <td>23</td>\n      <td>30</td>\n      <td>4110.770489</td>\n      <td>experts</td>\n      <td>20.142209</td>\n    </tr>\n    <tr>\n      <th>38</th>\n      <td>16</td>\n      <td>25</td>\n      <td>3270.354560</td>\n      <td>novice</td>\n      <td>17.612769</td>\n    </tr>\n    <tr>\n      <th>41</th>\n      <td>21</td>\n      <td>26</td>\n      <td>4082.638601</td>\n      <td>novice</td>\n      <td>18.517436</td>\n    </tr>\n    <tr>\n      <th>42</th>\n      <td>24</td>\n      <td>32</td>\n      <td>4704.002974</td>\n      <td>novice</td>\n      <td>18.367335</td>\n    </tr>\n    <tr>\n      <th>49</th>\n      <td>10</td>\n      <td>15</td>\n      <td>4239.951013</td>\n      <td>novice</td>\n      <td>8.490664</td>\n    </tr>\n    <tr>\n      <th>50</th>\n      <td>17</td>\n      <td>32</td>\n      <td>4201.848822</td>\n      <td>novice</td>\n      <td>14.565017</td>\n    </tr>\n    <tr>\n      <th>55</th>\n      <td>14</td>\n      <td>23</td>\n      <td>4017.812394</td>\n      <td>novice</td>\n      <td>12.54414</td>\n    </tr>\n    <tr>\n      <th>58</th>\n      <td>13</td>\n      <td>20</td>\n      <td>4272.951465</td>\n      <td>novice</td>\n      <td>10.952617</td>\n    </tr>\n    <tr>\n      <th>59</th>\n      <td>19</td>\n      <td>24</td>\n      <td>4139.708024</td>\n      <td>novice</td>\n      <td>16.522904</td>\n    </tr>\n    <tr>\n      <th>60</th>\n      <td>27</td>\n      <td>28</td>\n      <td>4407.865314</td>\n      <td>novice</td>\n      <td>22.05149</td>\n    </tr>\n    <tr>\n      <th>61</th>\n      <td>13</td>\n      <td>29</td>\n      <td>4170.209518</td>\n      <td>novice</td>\n      <td>11.222458</td>\n    </tr>\n    <tr>\n      <th>62</th>\n      <td>23</td>\n      <td>30</td>\n      <td>4316.741778</td>\n      <td>novice</td>\n      <td>19.181133</td>\n    </tr>\n    <tr>\n      <th>63</th>\n      <td>21</td>\n      <td>25</td>\n      <td>4173.301339</td>\n      <td>novice</td>\n      <td>18.115155</td>\n    </tr>\n    <tr>\n      <th>66</th>\n      <td>24</td>\n      <td>29</td>\n      <td>3093.560889</td>\n      <td>novice</td>\n      <td>27.92898</td>\n    </tr>\n    <tr>\n      <th>67</th>\n      <td>18</td>\n      <td>22</td>\n      <td>4185.514306</td>\n      <td>novice</td>\n      <td>15.481968</td>\n    </tr>\n    <tr>\n      <th>68</th>\n      <td>17</td>\n      <td>21</td>\n      <td>2601.442792</td>\n      <td>novice</td>\n      <td>23.525407</td>\n    </tr>\n    <tr>\n      <th>70</th>\n      <td>17</td>\n      <td>25</td>\n      <td>4309.171319</td>\n      <td>experts</td>\n      <td>14.202267</td>\n    </tr>\n    <tr>\n      <th>71</th>\n      <td>20</td>\n      <td>26</td>\n      <td>3518.707351</td>\n      <td>novice</td>\n      <td>20.46206</td>\n    </tr>\n  </tbody>\n</table>\n</div>"
     },
     "execution_count": 334,
     "metadata": {},
     "output_type": "execute_result"
    }
   ],
   "source": [
    "df_correct.set_index(\"Participant\", inplace=True)\n",
    "df_correct"
   ],
   "metadata": {
    "collapsed": false,
    "pycharm": {
     "name": "#%%\n"
    }
   }
  },
  {
   "cell_type": "code",
   "execution_count": 348,
   "outputs": [
    {
     "data": {
      "text/plain": "Participant         yearsOfProgramming  yearsOfJava  correct_per_time\nParticipant                                                          \nyearsOfProgramming            1.000000     0.681698          0.223766\nyearsOfJava                   0.681698     1.000000          0.130169\ncorrect_per_time              0.223766     0.130169          1.000000",
      "text/html": "<div>\n<style scoped>\n    .dataframe tbody tr th:only-of-type {\n        vertical-align: middle;\n    }\n\n    .dataframe tbody tr th {\n        vertical-align: top;\n    }\n\n    .dataframe thead th {\n        text-align: right;\n    }\n</style>\n<table border=\"1\" class=\"dataframe\">\n  <thead>\n    <tr style=\"text-align: right;\">\n      <th>Participant</th>\n      <th>yearsOfProgramming</th>\n      <th>yearsOfJava</th>\n      <th>correct_per_time</th>\n    </tr>\n    <tr>\n      <th>Participant</th>\n      <th></th>\n      <th></th>\n      <th></th>\n    </tr>\n  </thead>\n  <tbody>\n    <tr>\n      <th>yearsOfProgramming</th>\n      <td>1.000000</td>\n      <td>0.681698</td>\n      <td>0.223766</td>\n    </tr>\n    <tr>\n      <th>yearsOfJava</th>\n      <td>0.681698</td>\n      <td>1.000000</td>\n      <td>0.130169</td>\n    </tr>\n    <tr>\n      <th>correct_per_time</th>\n      <td>0.223766</td>\n      <td>0.130169</td>\n      <td>1.000000</td>\n    </tr>\n  </tbody>\n</table>\n</div>"
     },
     "execution_count": 348,
     "metadata": {},
     "output_type": "execute_result"
    }
   ],
   "source": [
    "df_questionnaire[\"correct_per_time\"] = df_correct[\"correct_per_time\"].astype(float)\n",
    "#corr = df_questionnaire.corr(method=\"pearson\")\n",
    "#corr[[\"yearsOfProgramming\", \"yearsOfJava\", \"correct_per_time\"]]\n",
    "df_tmp = df_questionnaire[[\"yearsOfProgramming\", \"yearsOfJava\", \"correct_per_time\"]]\n",
    "corr = df_tmp.corr(method=\"spearman\")\n",
    "corr"
   ],
   "metadata": {
    "collapsed": false,
    "pycharm": {
     "name": "#%%\n"
    }
   }
  },
  {
   "cell_type": "code",
   "execution_count": 324,
   "outputs": [
    {
     "ename": "TypeError",
     "evalue": "No loop matching the specified signature and casting was found for ufunc add",
     "output_type": "error",
     "traceback": [
      "\u001B[1;31m---------------------------------------------------------------------------\u001B[0m",
      "\u001B[1;31mTypeError\u001B[0m                                 Traceback (most recent call last)",
      "\u001B[1;32m<ipython-input-324-cdb80593d53e>\u001B[0m in \u001B[0;36m<module>\u001B[1;34m\u001B[0m\n\u001B[0;32m      1\u001B[0m \u001B[1;31m#create a violin plot comparing the correct_per_time of novices and experts\u001B[0m\u001B[1;33m\u001B[0m\u001B[1;33m\u001B[0m\u001B[1;33m\u001B[0m\u001B[0m\n\u001B[1;32m----> 2\u001B[1;33m \u001B[0msns\u001B[0m\u001B[1;33m.\u001B[0m\u001B[0mviolinplot\u001B[0m\u001B[1;33m(\u001B[0m\u001B[0mx\u001B[0m\u001B[1;33m=\u001B[0m\u001B[1;34m\"group\"\u001B[0m\u001B[1;33m,\u001B[0m \u001B[0my\u001B[0m\u001B[1;33m=\u001B[0m\u001B[1;34m\"correct_per_time\"\u001B[0m\u001B[1;33m,\u001B[0m \u001B[0mdata\u001B[0m\u001B[1;33m=\u001B[0m\u001B[0mdf_correct\u001B[0m\u001B[1;33m,\u001B[0m \u001B[0mfit_reg\u001B[0m\u001B[1;33m=\u001B[0m\u001B[1;32mFalse\u001B[0m\u001B[1;33m)\u001B[0m\u001B[1;33m\u001B[0m\u001B[1;33m\u001B[0m\u001B[0m\n\u001B[0m",
      "\u001B[1;32m~\\anaconda3\\lib\\site-packages\\seaborn\\_decorators.py\u001B[0m in \u001B[0;36minner_f\u001B[1;34m(*args, **kwargs)\u001B[0m\n\u001B[0;32m     44\u001B[0m             )\n\u001B[0;32m     45\u001B[0m         \u001B[0mkwargs\u001B[0m\u001B[1;33m.\u001B[0m\u001B[0mupdate\u001B[0m\u001B[1;33m(\u001B[0m\u001B[1;33m{\u001B[0m\u001B[0mk\u001B[0m\u001B[1;33m:\u001B[0m \u001B[0marg\u001B[0m \u001B[1;32mfor\u001B[0m \u001B[0mk\u001B[0m\u001B[1;33m,\u001B[0m \u001B[0marg\u001B[0m \u001B[1;32min\u001B[0m \u001B[0mzip\u001B[0m\u001B[1;33m(\u001B[0m\u001B[0msig\u001B[0m\u001B[1;33m.\u001B[0m\u001B[0mparameters\u001B[0m\u001B[1;33m,\u001B[0m \u001B[0margs\u001B[0m\u001B[1;33m)\u001B[0m\u001B[1;33m}\u001B[0m\u001B[1;33m)\u001B[0m\u001B[1;33m\u001B[0m\u001B[1;33m\u001B[0m\u001B[0m\n\u001B[1;32m---> 46\u001B[1;33m         \u001B[1;32mreturn\u001B[0m \u001B[0mf\u001B[0m\u001B[1;33m(\u001B[0m\u001B[1;33m**\u001B[0m\u001B[0mkwargs\u001B[0m\u001B[1;33m)\u001B[0m\u001B[1;33m\u001B[0m\u001B[1;33m\u001B[0m\u001B[0m\n\u001B[0m\u001B[0;32m     47\u001B[0m     \u001B[1;32mreturn\u001B[0m \u001B[0minner_f\u001B[0m\u001B[1;33m\u001B[0m\u001B[1;33m\u001B[0m\u001B[0m\n\u001B[0;32m     48\u001B[0m \u001B[1;33m\u001B[0m\u001B[0m\n",
      "\u001B[1;32m~\\anaconda3\\lib\\site-packages\\seaborn\\categorical.py\u001B[0m in \u001B[0;36mviolinplot\u001B[1;34m(x, y, hue, data, order, hue_order, bw, cut, scale, scale_hue, gridsize, width, inner, split, dodge, orient, linewidth, color, palette, saturation, ax, **kwargs)\u001B[0m\n\u001B[0;32m   2395\u001B[0m ):\n\u001B[0;32m   2396\u001B[0m \u001B[1;33m\u001B[0m\u001B[0m\n\u001B[1;32m-> 2397\u001B[1;33m     plotter = _ViolinPlotter(x, y, hue, data, order, hue_order,\n\u001B[0m\u001B[0;32m   2398\u001B[0m                              \u001B[0mbw\u001B[0m\u001B[1;33m,\u001B[0m \u001B[0mcut\u001B[0m\u001B[1;33m,\u001B[0m \u001B[0mscale\u001B[0m\u001B[1;33m,\u001B[0m \u001B[0mscale_hue\u001B[0m\u001B[1;33m,\u001B[0m \u001B[0mgridsize\u001B[0m\u001B[1;33m,\u001B[0m\u001B[1;33m\u001B[0m\u001B[1;33m\u001B[0m\u001B[0m\n\u001B[0;32m   2399\u001B[0m                              \u001B[0mwidth\u001B[0m\u001B[1;33m,\u001B[0m \u001B[0minner\u001B[0m\u001B[1;33m,\u001B[0m \u001B[0msplit\u001B[0m\u001B[1;33m,\u001B[0m \u001B[0mdodge\u001B[0m\u001B[1;33m,\u001B[0m \u001B[0morient\u001B[0m\u001B[1;33m,\u001B[0m \u001B[0mlinewidth\u001B[0m\u001B[1;33m,\u001B[0m\u001B[1;33m\u001B[0m\u001B[1;33m\u001B[0m\u001B[0m\n",
      "\u001B[1;32m~\\anaconda3\\lib\\site-packages\\seaborn\\categorical.py\u001B[0m in \u001B[0;36m__init__\u001B[1;34m(self, x, y, hue, data, order, hue_order, bw, cut, scale, scale_hue, gridsize, width, inner, split, dodge, orient, linewidth, color, palette, saturation)\u001B[0m\n\u001B[0;32m    522\u001B[0m         \u001B[0mself\u001B[0m\u001B[1;33m.\u001B[0m\u001B[0mestablish_variables\u001B[0m\u001B[1;33m(\u001B[0m\u001B[0mx\u001B[0m\u001B[1;33m,\u001B[0m \u001B[0my\u001B[0m\u001B[1;33m,\u001B[0m \u001B[0mhue\u001B[0m\u001B[1;33m,\u001B[0m \u001B[0mdata\u001B[0m\u001B[1;33m,\u001B[0m \u001B[0morient\u001B[0m\u001B[1;33m,\u001B[0m \u001B[0morder\u001B[0m\u001B[1;33m,\u001B[0m \u001B[0mhue_order\u001B[0m\u001B[1;33m)\u001B[0m\u001B[1;33m\u001B[0m\u001B[1;33m\u001B[0m\u001B[0m\n\u001B[0;32m    523\u001B[0m         \u001B[0mself\u001B[0m\u001B[1;33m.\u001B[0m\u001B[0mestablish_colors\u001B[0m\u001B[1;33m(\u001B[0m\u001B[0mcolor\u001B[0m\u001B[1;33m,\u001B[0m \u001B[0mpalette\u001B[0m\u001B[1;33m,\u001B[0m \u001B[0msaturation\u001B[0m\u001B[1;33m)\u001B[0m\u001B[1;33m\u001B[0m\u001B[1;33m\u001B[0m\u001B[0m\n\u001B[1;32m--> 524\u001B[1;33m         \u001B[0mself\u001B[0m\u001B[1;33m.\u001B[0m\u001B[0mestimate_densities\u001B[0m\u001B[1;33m(\u001B[0m\u001B[0mbw\u001B[0m\u001B[1;33m,\u001B[0m \u001B[0mcut\u001B[0m\u001B[1;33m,\u001B[0m \u001B[0mscale\u001B[0m\u001B[1;33m,\u001B[0m \u001B[0mscale_hue\u001B[0m\u001B[1;33m,\u001B[0m \u001B[0mgridsize\u001B[0m\u001B[1;33m)\u001B[0m\u001B[1;33m\u001B[0m\u001B[1;33m\u001B[0m\u001B[0m\n\u001B[0m\u001B[0;32m    525\u001B[0m \u001B[1;33m\u001B[0m\u001B[0m\n\u001B[0;32m    526\u001B[0m         \u001B[0mself\u001B[0m\u001B[1;33m.\u001B[0m\u001B[0mgridsize\u001B[0m \u001B[1;33m=\u001B[0m \u001B[0mgridsize\u001B[0m\u001B[1;33m\u001B[0m\u001B[1;33m\u001B[0m\u001B[0m\n",
      "\u001B[1;32m~\\anaconda3\\lib\\site-packages\\seaborn\\categorical.py\u001B[0m in \u001B[0;36mestimate_densities\u001B[1;34m(self, bw, cut, scale, scale_hue, gridsize)\u001B[0m\n\u001B[0;32m    588\u001B[0m \u001B[1;33m\u001B[0m\u001B[0m\n\u001B[0;32m    589\u001B[0m                 \u001B[1;31m# Fit the KDE and get the used bandwidth size\u001B[0m\u001B[1;33m\u001B[0m\u001B[1;33m\u001B[0m\u001B[1;33m\u001B[0m\u001B[0m\n\u001B[1;32m--> 590\u001B[1;33m                 \u001B[0mkde\u001B[0m\u001B[1;33m,\u001B[0m \u001B[0mbw_used\u001B[0m \u001B[1;33m=\u001B[0m \u001B[0mself\u001B[0m\u001B[1;33m.\u001B[0m\u001B[0mfit_kde\u001B[0m\u001B[1;33m(\u001B[0m\u001B[0mkde_data\u001B[0m\u001B[1;33m,\u001B[0m \u001B[0mbw\u001B[0m\u001B[1;33m)\u001B[0m\u001B[1;33m\u001B[0m\u001B[1;33m\u001B[0m\u001B[0m\n\u001B[0m\u001B[0;32m    591\u001B[0m \u001B[1;33m\u001B[0m\u001B[0m\n\u001B[0;32m    592\u001B[0m                 \u001B[1;31m# Determine the support grid and get the density over it\u001B[0m\u001B[1;33m\u001B[0m\u001B[1;33m\u001B[0m\u001B[1;33m\u001B[0m\u001B[0m\n",
      "\u001B[1;32m~\\anaconda3\\lib\\site-packages\\seaborn\\categorical.py\u001B[0m in \u001B[0;36mfit_kde\u001B[1;34m(self, x, bw)\u001B[0m\n\u001B[0;32m    673\u001B[0m     \u001B[1;32mdef\u001B[0m \u001B[0mfit_kde\u001B[0m\u001B[1;33m(\u001B[0m\u001B[0mself\u001B[0m\u001B[1;33m,\u001B[0m \u001B[0mx\u001B[0m\u001B[1;33m,\u001B[0m \u001B[0mbw\u001B[0m\u001B[1;33m)\u001B[0m\u001B[1;33m:\u001B[0m\u001B[1;33m\u001B[0m\u001B[1;33m\u001B[0m\u001B[0m\n\u001B[0;32m    674\u001B[0m         \u001B[1;34m\"\"\"Estimate a KDE for a vector of data with flexible bandwidth.\"\"\"\u001B[0m\u001B[1;33m\u001B[0m\u001B[1;33m\u001B[0m\u001B[0m\n\u001B[1;32m--> 675\u001B[1;33m         \u001B[0mkde\u001B[0m \u001B[1;33m=\u001B[0m \u001B[0mstats\u001B[0m\u001B[1;33m.\u001B[0m\u001B[0mgaussian_kde\u001B[0m\u001B[1;33m(\u001B[0m\u001B[0mx\u001B[0m\u001B[1;33m,\u001B[0m \u001B[0mbw\u001B[0m\u001B[1;33m)\u001B[0m\u001B[1;33m\u001B[0m\u001B[1;33m\u001B[0m\u001B[0m\n\u001B[0m\u001B[0;32m    676\u001B[0m \u001B[1;33m\u001B[0m\u001B[0m\n\u001B[0;32m    677\u001B[0m         \u001B[1;31m# Extract the numeric bandwidth from the KDE object\u001B[0m\u001B[1;33m\u001B[0m\u001B[1;33m\u001B[0m\u001B[1;33m\u001B[0m\u001B[0m\n",
      "\u001B[1;32m~\\anaconda3\\lib\\site-packages\\scipy\\stats\\kde.py\u001B[0m in \u001B[0;36m__init__\u001B[1;34m(self, dataset, bw_method, weights)\u001B[0m\n\u001B[0;32m    204\u001B[0m             \u001B[0mself\u001B[0m\u001B[1;33m.\u001B[0m\u001B[0m_neff\u001B[0m \u001B[1;33m=\u001B[0m \u001B[1;36m1\u001B[0m\u001B[1;33m/\u001B[0m\u001B[0msum\u001B[0m\u001B[1;33m(\u001B[0m\u001B[0mself\u001B[0m\u001B[1;33m.\u001B[0m\u001B[0m_weights\u001B[0m\u001B[1;33m**\u001B[0m\u001B[1;36m2\u001B[0m\u001B[1;33m)\u001B[0m\u001B[1;33m\u001B[0m\u001B[1;33m\u001B[0m\u001B[0m\n\u001B[0;32m    205\u001B[0m \u001B[1;33m\u001B[0m\u001B[0m\n\u001B[1;32m--> 206\u001B[1;33m         \u001B[0mself\u001B[0m\u001B[1;33m.\u001B[0m\u001B[0mset_bandwidth\u001B[0m\u001B[1;33m(\u001B[0m\u001B[0mbw_method\u001B[0m\u001B[1;33m=\u001B[0m\u001B[0mbw_method\u001B[0m\u001B[1;33m)\u001B[0m\u001B[1;33m\u001B[0m\u001B[1;33m\u001B[0m\u001B[0m\n\u001B[0m\u001B[0;32m    207\u001B[0m \u001B[1;33m\u001B[0m\u001B[0m\n\u001B[0;32m    208\u001B[0m     \u001B[1;32mdef\u001B[0m \u001B[0mevaluate\u001B[0m\u001B[1;33m(\u001B[0m\u001B[0mself\u001B[0m\u001B[1;33m,\u001B[0m \u001B[0mpoints\u001B[0m\u001B[1;33m)\u001B[0m\u001B[1;33m:\u001B[0m\u001B[1;33m\u001B[0m\u001B[1;33m\u001B[0m\u001B[0m\n",
      "\u001B[1;32m~\\anaconda3\\lib\\site-packages\\scipy\\stats\\kde.py\u001B[0m in \u001B[0;36mset_bandwidth\u001B[1;34m(self, bw_method)\u001B[0m\n\u001B[0;32m    554\u001B[0m             \u001B[1;32mraise\u001B[0m \u001B[0mValueError\u001B[0m\u001B[1;33m(\u001B[0m\u001B[0mmsg\u001B[0m\u001B[1;33m)\u001B[0m\u001B[1;33m\u001B[0m\u001B[1;33m\u001B[0m\u001B[0m\n\u001B[0;32m    555\u001B[0m \u001B[1;33m\u001B[0m\u001B[0m\n\u001B[1;32m--> 556\u001B[1;33m         \u001B[0mself\u001B[0m\u001B[1;33m.\u001B[0m\u001B[0m_compute_covariance\u001B[0m\u001B[1;33m(\u001B[0m\u001B[1;33m)\u001B[0m\u001B[1;33m\u001B[0m\u001B[1;33m\u001B[0m\u001B[0m\n\u001B[0m\u001B[0;32m    557\u001B[0m \u001B[1;33m\u001B[0m\u001B[0m\n\u001B[0;32m    558\u001B[0m     \u001B[1;32mdef\u001B[0m \u001B[0m_compute_covariance\u001B[0m\u001B[1;33m(\u001B[0m\u001B[0mself\u001B[0m\u001B[1;33m)\u001B[0m\u001B[1;33m:\u001B[0m\u001B[1;33m\u001B[0m\u001B[1;33m\u001B[0m\u001B[0m\n",
      "\u001B[1;32m~\\anaconda3\\lib\\site-packages\\scipy\\stats\\kde.py\u001B[0m in \u001B[0;36m_compute_covariance\u001B[1;34m(self)\u001B[0m\n\u001B[0;32m    563\u001B[0m         \u001B[1;31m# Cache covariance and inverse covariance of the data\u001B[0m\u001B[1;33m\u001B[0m\u001B[1;33m\u001B[0m\u001B[1;33m\u001B[0m\u001B[0m\n\u001B[0;32m    564\u001B[0m         \u001B[1;32mif\u001B[0m \u001B[1;32mnot\u001B[0m \u001B[0mhasattr\u001B[0m\u001B[1;33m(\u001B[0m\u001B[0mself\u001B[0m\u001B[1;33m,\u001B[0m \u001B[1;34m'_data_inv_cov'\u001B[0m\u001B[1;33m)\u001B[0m\u001B[1;33m:\u001B[0m\u001B[1;33m\u001B[0m\u001B[1;33m\u001B[0m\u001B[0m\n\u001B[1;32m--> 565\u001B[1;33m             self._data_covariance = atleast_2d(cov(self.dataset, rowvar=1,\n\u001B[0m\u001B[0;32m    566\u001B[0m                                                \u001B[0mbias\u001B[0m\u001B[1;33m=\u001B[0m\u001B[1;32mFalse\u001B[0m\u001B[1;33m,\u001B[0m\u001B[1;33m\u001B[0m\u001B[1;33m\u001B[0m\u001B[0m\n\u001B[0;32m    567\u001B[0m                                                aweights=self.weights))\n",
      "\u001B[1;32m<__array_function__ internals>\u001B[0m in \u001B[0;36mcov\u001B[1;34m(*args, **kwargs)\u001B[0m\n",
      "\u001B[1;32m~\\anaconda3\\lib\\site-packages\\numpy\\lib\\function_base.py\u001B[0m in \u001B[0;36mcov\u001B[1;34m(m, y, rowvar, bias, ddof, fweights, aweights, dtype)\u001B[0m\n\u001B[0;32m   2467\u001B[0m             \u001B[0mw\u001B[0m \u001B[1;33m*=\u001B[0m \u001B[0maweights\u001B[0m\u001B[1;33m\u001B[0m\u001B[1;33m\u001B[0m\u001B[0m\n\u001B[0;32m   2468\u001B[0m \u001B[1;33m\u001B[0m\u001B[0m\n\u001B[1;32m-> 2469\u001B[1;33m     \u001B[0mavg\u001B[0m\u001B[1;33m,\u001B[0m \u001B[0mw_sum\u001B[0m \u001B[1;33m=\u001B[0m \u001B[0maverage\u001B[0m\u001B[1;33m(\u001B[0m\u001B[0mX\u001B[0m\u001B[1;33m,\u001B[0m \u001B[0maxis\u001B[0m\u001B[1;33m=\u001B[0m\u001B[1;36m1\u001B[0m\u001B[1;33m,\u001B[0m \u001B[0mweights\u001B[0m\u001B[1;33m=\u001B[0m\u001B[0mw\u001B[0m\u001B[1;33m,\u001B[0m \u001B[0mreturned\u001B[0m\u001B[1;33m=\u001B[0m\u001B[1;32mTrue\u001B[0m\u001B[1;33m)\u001B[0m\u001B[1;33m\u001B[0m\u001B[1;33m\u001B[0m\u001B[0m\n\u001B[0m\u001B[0;32m   2470\u001B[0m     \u001B[0mw_sum\u001B[0m \u001B[1;33m=\u001B[0m \u001B[0mw_sum\u001B[0m\u001B[1;33m[\u001B[0m\u001B[1;36m0\u001B[0m\u001B[1;33m]\u001B[0m\u001B[1;33m\u001B[0m\u001B[1;33m\u001B[0m\u001B[0m\n\u001B[0;32m   2471\u001B[0m \u001B[1;33m\u001B[0m\u001B[0m\n",
      "\u001B[1;32m<__array_function__ internals>\u001B[0m in \u001B[0;36maverage\u001B[1;34m(*args, **kwargs)\u001B[0m\n",
      "\u001B[1;32m~\\anaconda3\\lib\\site-packages\\numpy\\lib\\function_base.py\u001B[0m in \u001B[0;36maverage\u001B[1;34m(a, axis, weights, returned)\u001B[0m\n\u001B[0;32m    405\u001B[0m             \u001B[0mwgt\u001B[0m \u001B[1;33m=\u001B[0m \u001B[0mwgt\u001B[0m\u001B[1;33m.\u001B[0m\u001B[0mswapaxes\u001B[0m\u001B[1;33m(\u001B[0m\u001B[1;33m-\u001B[0m\u001B[1;36m1\u001B[0m\u001B[1;33m,\u001B[0m \u001B[0maxis\u001B[0m\u001B[1;33m)\u001B[0m\u001B[1;33m\u001B[0m\u001B[1;33m\u001B[0m\u001B[0m\n\u001B[0;32m    406\u001B[0m \u001B[1;33m\u001B[0m\u001B[0m\n\u001B[1;32m--> 407\u001B[1;33m         \u001B[0mscl\u001B[0m \u001B[1;33m=\u001B[0m \u001B[0mwgt\u001B[0m\u001B[1;33m.\u001B[0m\u001B[0msum\u001B[0m\u001B[1;33m(\u001B[0m\u001B[0maxis\u001B[0m\u001B[1;33m=\u001B[0m\u001B[0maxis\u001B[0m\u001B[1;33m,\u001B[0m \u001B[0mdtype\u001B[0m\u001B[1;33m=\u001B[0m\u001B[0mresult_dtype\u001B[0m\u001B[1;33m)\u001B[0m\u001B[1;33m\u001B[0m\u001B[1;33m\u001B[0m\u001B[0m\n\u001B[0m\u001B[0;32m    408\u001B[0m         \u001B[1;32mif\u001B[0m \u001B[0mnp\u001B[0m\u001B[1;33m.\u001B[0m\u001B[0many\u001B[0m\u001B[1;33m(\u001B[0m\u001B[0mscl\u001B[0m \u001B[1;33m==\u001B[0m \u001B[1;36m0.0\u001B[0m\u001B[1;33m)\u001B[0m\u001B[1;33m:\u001B[0m\u001B[1;33m\u001B[0m\u001B[1;33m\u001B[0m\u001B[0m\n\u001B[0;32m    409\u001B[0m             raise ZeroDivisionError(\n",
      "\u001B[1;32m~\\anaconda3\\lib\\site-packages\\numpy\\core\\_methods.py\u001B[0m in \u001B[0;36m_sum\u001B[1;34m(a, axis, dtype, out, keepdims, initial, where)\u001B[0m\n\u001B[0;32m     45\u001B[0m def _sum(a, axis=None, dtype=None, out=None, keepdims=False,\n\u001B[0;32m     46\u001B[0m          initial=_NoValue, where=True):\n\u001B[1;32m---> 47\u001B[1;33m     \u001B[1;32mreturn\u001B[0m \u001B[0mumr_sum\u001B[0m\u001B[1;33m(\u001B[0m\u001B[0ma\u001B[0m\u001B[1;33m,\u001B[0m \u001B[0maxis\u001B[0m\u001B[1;33m,\u001B[0m \u001B[0mdtype\u001B[0m\u001B[1;33m,\u001B[0m \u001B[0mout\u001B[0m\u001B[1;33m,\u001B[0m \u001B[0mkeepdims\u001B[0m\u001B[1;33m,\u001B[0m \u001B[0minitial\u001B[0m\u001B[1;33m,\u001B[0m \u001B[0mwhere\u001B[0m\u001B[1;33m)\u001B[0m\u001B[1;33m\u001B[0m\u001B[1;33m\u001B[0m\u001B[0m\n\u001B[0m\u001B[0;32m     48\u001B[0m \u001B[1;33m\u001B[0m\u001B[0m\n\u001B[0;32m     49\u001B[0m def _prod(a, axis=None, dtype=None, out=None, keepdims=False,\n",
      "\u001B[1;31mTypeError\u001B[0m: No loop matching the specified signature and casting was found for ufunc add"
     ]
    }
   ],
   "source": [
    "#create a violin plot comparing the correct_per_time of novices and experts\n",
    "sns.violinplot(x=\"group\", y=\"correct_per_time\", data=df_correct, fit_reg=False)"
   ],
   "metadata": {
    "collapsed": false,
    "pycharm": {
     "name": "#%%\n"
    }
   }
  },
  {
   "cell_type": "code",
   "execution_count": 74,
   "outputs": [
    {
     "data": {
      "text/plain": "<AxesSubplot:xlabel='group', ylabel='Duration'>"
     },
     "execution_count": 74,
     "metadata": {},
     "output_type": "execute_result"
    },
    {
     "data": {
      "text/plain": "<Figure size 432x288 with 1 Axes>",
      "image/png": "[encoded data removed]"
     },
     "metadata": {
      "needs_background": "light"
     },
     "output_type": "display_data"
    }
   ],
   "source": [
    "#create a violin plot comparing the Duration of novices and experts\n",
    "sns.boxplot(x=\"group\", y=\"Duration\", data=df_behavioral)"
   ],
   "metadata": {
    "collapsed": false,
    "pycharm": {
     "name": "#%%\n"
    }
   }
  },
  {
   "cell_type": "code",
   "execution_count": 199,
   "outputs": [
    {
     "data": {
      "text/plain": "        count       mean        std       min        25%        50%  \\\ngroup                                                                 \nexpert  469.0  55.469152  41.064863  4.215789  25.255712  42.046653   \nmiddle  439.0  53.534093  39.909116  5.707289  24.220098  42.071379   \nnovice  137.0  63.543413  45.258711  5.690529  30.757360  50.637861   \n\n              75%         max  \ngroup                          \nexpert  77.165128  180.076877  \nmiddle  70.977094  180.075031  \nnovice  83.207245  180.079868  ",
      "text/html": "<div>\n<style scoped>\n    .dataframe tbody tr th:only-of-type {\n        vertical-align: middle;\n    }\n\n    .dataframe tbody tr th {\n        vertical-align: top;\n    }\n\n    .dataframe thead th {\n        text-align: right;\n    }\n</style>\n<table border=\"1\" class=\"dataframe\">\n  <thead>\n    <tr style=\"text-align: right;\">\n      <th></th>\n      <th>count</th>\n      <th>mean</th>\n      <th>std</th>\n      <th>min</th>\n      <th>25%</th>\n      <th>50%</th>\n      <th>75%</th>\n      <th>max</th>\n    </tr>\n    <tr>\n      <th>group</th>\n      <th></th>\n      <th></th>\n      <th></th>\n      <th></th>\n      <th></th>\n      <th></th>\n      <th></th>\n      <th></th>\n    </tr>\n  </thead>\n  <tbody>\n    <tr>\n      <th>expert</th>\n      <td>469.0</td>\n      <td>55.469152</td>\n      <td>41.064863</td>\n      <td>4.215789</td>\n      <td>25.255712</td>\n      <td>42.046653</td>\n      <td>77.165128</td>\n      <td>180.076877</td>\n    </tr>\n    <tr>\n      <th>middle</th>\n      <td>439.0</td>\n      <td>53.534093</td>\n      <td>39.909116</td>\n      <td>5.707289</td>\n      <td>24.220098</td>\n      <td>42.071379</td>\n      <td>70.977094</td>\n      <td>180.075031</td>\n    </tr>\n    <tr>\n      <th>novice</th>\n      <td>137.0</td>\n      <td>63.543413</td>\n      <td>45.258711</td>\n      <td>5.690529</td>\n      <td>30.757360</td>\n      <td>50.637861</td>\n      <td>83.207245</td>\n      <td>180.079868</td>\n    </tr>\n  </tbody>\n</table>\n</div>"
     },
     "execution_count": 199,
     "metadata": {},
     "output_type": "execute_result"
    }
   ],
   "source": [
    "df_behavioral.groupby(\"group\")[\"Duration\"].describe()"
   ],
   "metadata": {
    "collapsed": false,
    "pycharm": {
     "name": "#%%\n"
    }
   }
  },
  {
   "cell_type": "code",
   "execution_count": 104,
   "outputs": [
    {
     "data": {
      "text/plain": "<AxesSubplot:xlabel='group', ylabel='count'>"
     },
     "execution_count": 104,
     "metadata": {},
     "output_type": "execute_result"
    },
    {
     "data": {
      "text/plain": "<Figure size 432x288 with 1 Axes>",
      "image/png": "[encoded data removed]"
     },
     "metadata": {
      "needs_background": "light"
     },
     "output_type": "display_data"
    }
   ],
   "source": [
    "# create plot based on the group coulmn and the count of \"Right\" and \"Wrong\" in the response column\n",
    "sns.countplot(x=\"group\", hue=\"Response\", data=df_behavioral)"
   ],
   "metadata": {
    "collapsed": false,
    "pycharm": {
     "name": "#%%\n"
    }
   }
  },
  {
   "cell_type": "code",
   "execution_count": 106,
   "outputs": [],
   "source": [
    "# group df_behavioral based on groups and count the number of \"Right\" and \"Wrong\" in the response column\n",
    "correctness = df_behavioral.groupby(\"group\")[\"Response\"].value_counts()"
   ],
   "metadata": {
    "collapsed": false,
    "pycharm": {
     "name": "#%%\n"
    }
   }
  },
  {
   "cell_type": "code",
   "execution_count": 110,
   "outputs": [
    {
     "data": {
      "text/plain": "0.7258687258687259"
     },
     "execution_count": 110,
     "metadata": {},
     "output_type": "execute_result"
    }
   ],
   "source": [
    "correctness[\"novices\"][\"Right\"] / len(df_behavioral[df_behavioral[\"group\"] == \"novices\"])"
   ],
   "metadata": {
    "collapsed": false,
    "pycharm": {
     "name": "#%%\n"
    }
   }
  },
  {
   "cell_type": "code",
   "execution_count": 111,
   "outputs": [
    {
     "data": {
      "text/plain": "0.7672209026128266"
     },
     "execution_count": 111,
     "metadata": {},
     "output_type": "execute_result"
    }
   ],
   "source": [
    "correctness[\"experts\"][\"Right\"] / len(df_behavioral[df_behavioral[\"group\"] == \"experts\"])"
   ],
   "metadata": {
    "collapsed": false,
    "pycharm": {
     "name": "#%%\n"
    }
   }
  },
  {
   "cell_type": "markdown",
   "id": "7546f4be-10cb-40fd-b1a6-e74bd84c752f",
   "metadata": {},
   "source": [
    "<h2> Prepare queried Data</h2>"
   ]
  },
  {
   "cell_type": "code",
   "execution_count": 38,
   "outputs": [],
   "source": [
    "def update_names(df_eyetracking, name_dict):\n",
    "    df_eyetracking = df_eyetracking.rename(columns=name_dict)\n",
    "    return df_eyetracking"
   ],
   "metadata": {
    "collapsed": false,
    "pycharm": {
     "name": "#%%\n"
    }
   }
  },
  {
   "cell_type": "code",
   "execution_count": 39,
   "outputs": [],
   "source": [
    "def update_to_display_coordinates(df_eyetracking):\n",
    "    df_eyetracking[\"display_x\"] = df_eyetracking[\"display_x\"].apply(lambda x: x * display_width)\n",
    "    df_eyetracking[\"display_x\"] = df_eyetracking[\"display_x\"].astype(float).fillna(0).astype(int)\n",
    "\n",
    "    df_eyetracking[\"display_y\"] = df_eyetracking[\"display_y\"].apply(lambda x: x * display_height)\n",
    "    df_eyetracking[\"display_y\"] = df_eyetracking[\"display_y\"].astype(float).fillna(0).astype(int)\n",
    "    return df_eyetracking"
   ],
   "metadata": {
    "collapsed": false,
    "pycharm": {
     "name": "#%%\n"
    }
   }
  },
  {
   "cell_type": "code",
   "execution_count": 40,
   "outputs": [],
   "source": [
    "def update_normalize_time(df_eyetracking):\n",
    "    df_eyetracking[\"time\"] = df_eyetracking[\"time\"] - df_eyetracking[\"time\"][0]\n",
    "    return df_eyetracking"
   ],
   "metadata": {
    "collapsed": false,
    "pycharm": {
     "name": "#%%\n"
    }
   }
  },
  {
   "cell_type": "code",
   "execution_count": 41,
   "outputs": [],
   "source": [
    "def update_replace_invalid(df_eyetracking):\n",
    "    (\n",
    "        replaced_x,\n",
    "        replaced_y,\n",
    "        replaced_diameter,\n",
    "        replaced_valid,\n",
    "    ) = son.eyetracking.preprocessing_invalid.replace_with_prev_invalid(\n",
    "        df_eyetracking[\"display_x\"],\n",
    "        df_eyetracking[\"display_y\"],\n",
    "        df_eyetracking[\"pupil_diameter\"],\n",
    "        df_eyetracking[\"valid\"],\n",
    "    )\n",
    "\n",
    "    df_eyetracking[\"display_x\"] = replaced_x\n",
    "    df_eyetracking[\"display_y\"] = replaced_y\n",
    "    df_eyetracking[\"pupil_diameter\"] = replaced_diameter\n",
    "    df_eyetracking[\"valid\"] = replaced_valid\n",
    "    return df_eyetracking"
   ],
   "metadata": {
    "collapsed": false,
    "pycharm": {
     "name": "#%%\n"
    }
   }
  },
  {
   "cell_type": "code",
   "execution_count": 42,
   "outputs": [],
   "source": [
    "def update_denoise(df_eyetracking, denoise_degree):\n",
    "    for _i in range(denoise_degree):\n",
    "        denoised_x, denoised_y = son.eyetracking.preprocessing_denoise.denoise(\n",
    "            df_eyetracking[\"display_x\"],\n",
    "            df_eyetracking[\"display_y\"],\n",
    "            son.eyetracking.preprocessing_denoise.parabola_5_kernel,\n",
    "        )\n",
    "\n",
    "        df_eyetracking[\"display_x\"] = denoised_x\n",
    "        df_eyetracking[\"display_y\"] = denoised_y\n",
    "    return df_eyetracking"
   ],
   "metadata": {
    "collapsed": false,
    "pycharm": {
     "name": "#%%\n"
    }
   }
  },
  {
   "cell_type": "code",
   "execution_count": 43,
   "outputs": [],
   "source": [
    "def update_match_to_line(df_eyetracking, line_middle, cat):\n",
    "    df_eyetracking[\"display_y\"] =  df_eyetracking[\"display_y\"].apply(lambda x: line_middle[cat[x]] if cat[x] is not None else float(\"Nan\"))\n",
    "    df_eyetracking = df_eyetracking[df_eyetracking[\"display_y\"].notnull()]\n",
    "    df_eyetracking[\"display_y\"] = df_eyetracking[\"display_y\"].astype(int)\n",
    "    df_eyetracking = df_eyetracking.reset_index()\n",
    "    return df_eyetracking"
   ],
   "metadata": {
    "collapsed": false,
    "pycharm": {
     "name": "#%%\n"
    }
   }
  },
  {
   "cell_type": "code",
   "execution_count": 50,
   "outputs": [],
   "source": [
    "def mask_function():\n",
    "    return lambda height, width, coordinate: son.utils.masks.create_circular_mask(height, width, coordinate, 30)\n",
    "\n",
    "def create_heatmap(df_eyetracking, color, width, height):\n",
    "    heat_data = son.eyetracking.heatmap.create_heatmap(\n",
    "        df_eyetracking[\"display_x\"],\n",
    "        df_eyetracking[\"display_y\"],\n",
    "        df_eyetracking[\"valid\"],\n",
    "        0.004,\n",
    "        width,\n",
    "        height,\n",
    "        mask_function(),\n",
    "    )\n",
    "\n",
    "    heat_data = heat_data / heat_data.max()\n",
    "    heat_data = np.array([heat_data * color[0], heat_data * color[1], heat_data * color[2], heat_data])\n",
    "    heat_data = np.moveaxis(heat_data, 0, 2)\n",
    "    return heat_data"
   ],
   "metadata": {
    "collapsed": false,
    "pycharm": {
     "name": "#%%\n"
    }
   }
  },
  {
   "cell_type": "code",
   "execution_count": null,
   "outputs": [],
   "source": [
    "def create_sequence_diagram(df_eyetracking, color, width, height, max_pixel):\n",
    "    step_size = max_pixel/len(df_eyetracking)\n",
    "\n",
    "    sequence_data = son.eyetracking.sequence.create_sequence_diagram_y(\n",
    "        df_eyetracking[\"display_y\"],\n",
    "        df_eyetracking[\"valid\"],\n",
    "        height,\n",
    "        width,\n",
    "        offset=0,\n",
    "        step=step_size,\n",
    "        should_skip=False,\n",
    "    )\n",
    "    sequence_data = np.array([sequence_data * color[0], sequence_data * color[1], sequence_data * color[2], sequence_data])\n",
    "    sequence_data = np.moveaxis(sequence_data, 0, 2)\n",
    "    return sequence_data"
   ],
   "metadata": {
    "collapsed": false,
    "pycharm": {
     "name": "#%%\n"
    }
   }
  },
  {
   "cell_type": "code",
   "execution_count": null,
   "outputs": [],
   "source": [
    "def get_fixation_saccades_metrics(df_eyetracking, d_time):\n",
    "    d_time = 0.004\n",
    "    threshold_for_fixation = 2400.0\n",
    "    saccades = son.eyetracking.metrics.classify_saccades( df_eyetracking[\"display_x\"], df_eyetracking[\"display_y\"], d_time, threshold_for_fixation)\n",
    "    if len(saccades) >= 1:\n",
    "        saccades[0] = saccades[1]\n",
    "\n",
    "\n",
    "    fixxation = son.eyetracking.metrics.classify_fixxation( df_eyetracking[\"display_x\"], df_eyetracking[\"display_y\"], d_time, threshold_for_fixation)\n",
    "    if len(fixxation) >= 1:\n",
    "        fixxation[0] = fixxation[1]\n",
    "\n",
    "\n",
    "    saccades = np.array(saccades)\n",
    "    fixxation = np.array(fixxation)\n",
    "\n",
    "    saccades_count = son.eyetracking.metrics.count_saccades(saccades)\n",
    "    if saccades_count == 0:\n",
    "        saccades_time_of_first = 0\n",
    "        saccades_average_time = 0\n",
    "    else:\n",
    "        saccades_time_of_first = son.eyetracking.metrics.time_of_saccades(saccades, d_time)[0][0]\n",
    "        saccades_average_time = son.eyetracking.metrics.average_saccades_time(son.eyetracking.metrics.time_of_saccades(saccades, d_time))\n",
    "\n",
    "    fixxation_count = son.eyetracking.metrics.count_fixxations(fixxation)\n",
    "    if fixxation_count == 0:\n",
    "        fixxation_time_of_first = 0\n",
    "        fixxation_average_time = 0\n",
    "    else:\n",
    "        fixxation_time_of_first = son.eyetracking.metrics.time_of_fixxations(fixxation, d_time)[0][0]\n",
    "        fixxation_average_time = son.eyetracking.metrics.average_fixxations_time(son.eyetracking.metrics.time_of_fixxations(fixxation, d_time))\n",
    "\n",
    "    return pd.DataFrame([[\n",
    "        saccades_count,\n",
    "        saccades_time_of_first,\n",
    "        saccades_average_time,\n",
    "        fixxation_count,\n",
    "        fixxation_time_of_first,\n",
    "        fixxation_average_time,\n",
    "    ]], columns=[\"Saccades Count\", \"Time to first Saccade\", \"Average Saccade Time\", \"Fixation Count\", \"Time to first Fixation\", \"Average Fixation Time\"])"
   ],
   "metadata": {
    "collapsed": false,
    "pycharm": {
     "name": "#%%\n"
    }
   }
  },
  {
   "cell_type": "code",
   "execution_count": 47,
   "id": "6e789902-fa86-40ee-af55-6dfda9fc0f09",
   "metadata": {
    "pycharm": {
     "name": "#%%\n"
    }
   },
   "outputs": [],
   "source": [
    "df_eyetracking = data[\"BogoSort\"][\"Code\"][\"EyeTracking\"][\n",
    "    [\n",
    "        \"l_valid\",\n",
    "        \"l_display_x\",\n",
    "        \"l_display_y\",\n",
    "        \"time\",\n",
    "        \"l_pupil_diameter\",\n",
    "    ]\n",
    "]\n",
    "\n",
    "left_naming = {\n",
    "    \"l_valid\" : \"valid\",\n",
    "    \"l_display_x\" : \"display_x\",\n",
    "    \"l_display_y\" : \"display_y\",\n",
    "    \"l_pupil_diameter\" : \"pupil_diameter\",\n",
    "}\n",
    "\n",
    "right_naming = {\n",
    "    \"r_valid\" : \"valid\",\n",
    "    \"r_display_x\" : \"display_x\",\n",
    "    \"r_display_y\" : \"display_y\",\n",
    "    \"r_pupil_diameter\" : \"pupil_diameter\",\n",
    "}\n",
    "\n",
    "df_eyetracking = update_names(df_eyetracking, left_naming)\n",
    "df_eyetracking = update_to_display_coordinates(df_eyetracking)\n",
    "df_eyetracking = update_normalize_time(df_eyetracking)\n",
    "df_eyetracking = update_replace_invalid(df_eyetracking)\n",
    "df_eyetracking = update_denoise(df_eyetracking, denoise_degree)\n",
    "df_eyetracking = update_match_to_line(df_eyetracking, line_middle, cat)"
   ]
  }
 ],
 "metadata": {
  "kernelspec": {
   "display_name": "Python 3",
   "language": "python",
   "name": "python3"
  },
  "language_info": {
   "codemirror_mode": {
    "name": "ipython",
    "version": 3
   },
   "file_extension": ".py",
   "mimetype": "text/x-python",
   "name": "python",
   "nbconvert_exporter": "python",
   "pygments_lexer": "ipython3",
   "version": "3.8.8"
  }
 },
 "nbformat": 4,
 "nbformat_minor": 5
}