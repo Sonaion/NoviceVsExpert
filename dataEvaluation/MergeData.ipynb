{
 "cells": [
  {
   "cell_type": "code",
   "execution_count": 1,
   "id": "119d17f7-2f14-495a-8a10-8588aee4133b",
   "metadata": {},
   "outputs": [],
   "source": [
    "import preparers\n",
    "import os\n",
    "import re"
   ]
  },
  {
   "cell_type": "code",
   "execution_count": 2,
   "outputs": [],
   "source": [
    "participants = []\n",
    "for _dir, sub_dirs, _files in os.walk(\"./rawData\"):\n",
    "    for dir in sub_dirs:\n",
    "        numbers = re.findall(r'\\d+', dir)\n",
    "        participants.append(int(numbers[0]))"
   ],
   "metadata": {
    "collapsed": false,
    "pycharm": {
     "name": "#%%\n"
    }
   }
  },
  {
   "cell_type": "code",
   "execution_count": 3,
   "id": "61ea64c4-969f-4ff5-9a9e-e86a19298b89",
   "metadata": {},
   "outputs": [
    {
     "name": "stdout",
     "output_type": "stream",
     "text": [
      "Participant #68\n"
     ]
    },
    {
     "name": "stderr",
     "output_type": "stream",
     "text": [
      "C:\\Users\\jonas\\Documents\\GitHub\\NoviceVsExpert\\dataEvaluation\\preparers.py:142: RuntimeWarning: This filename (./rawData/Participant68/CollectedData_2021-11-11_0.fif) does not conform to MNE naming conventions. All raw files should end with raw.fif, raw_sss.fif, raw_tsss.fif, _meg.fif, _eeg.fif, _ieeg.fif, raw.fif.gz, raw_sss.fif.gz, raw_tsss.fif.gz, _meg.fif.gz, _eeg.fif.gz or _ieeg.fif.gz\n",
      "  raw = mne.io.read_raw_fif(fname=eeg_path, preload=True)\n"
     ]
    }
   ],
   "source": [
    "for participant in participants:\n",
    "    print(\"Participant #\" + str(participant))\n",
    "    data = preparers.load_raw(participant, cores=24, logging=False)\n",
    "    preparers.save(data, participant, logging=False)\n",
    "\n",
    "   # Read all lines, keep final value."
   ]
  },
  {
   "cell_type": "code",
   "execution_count": 11,
   "id": "30e74809-07ed-4369-be80-67dbd1ba3ea1",
   "metadata": {},
   "outputs": [],
   "source": [
    "raw = []\n",
    "for _dir, sub_dirs, _files in os.walk(\"./rawData\"):\n",
    "    for dir in sub_dirs:\n",
    "        numbers = re.findall(r'\\d+', dir)\n",
    "        raw.append(int(numbers[0]))\n",
    "\n",
    "filtered = []\n",
    "for _dir, sub_dirs, _files in os.walk(\"./filteredData\"):\n",
    "    numbers = 0\n",
    "    for dir in sub_dirs:\n",
    "        numbers = re.findall(r'\\d+', dir)\n",
    "        filtered.append(int(numbers[0]))\n",
    "        if 71 == int(numbers[0]):\n",
    "            break\n",
    "    if 71 == int(numbers[0]):\n",
    "        break\n",
    "\n",
    "for value in filtered:\n",
    "    if value not in raw:\n",
    "        print(value)"
   ]
  },
  {
   "cell_type": "code",
   "execution_count": null,
   "outputs": [],
   "source": [],
   "metadata": {
    "collapsed": false,
    "pycharm": {
     "name": "#%%\n"
    }
   }
  }
 ],
 "metadata": {
  "kernelspec": {
   "display_name": "Python 3",
   "language": "python",
   "name": "python3"
  },
  "language_info": {
   "codemirror_mode": {
    "name": "ipython",
    "version": 3
   },
   "file_extension": ".py",
   "mimetype": "text/x-python",
   "name": "python",
   "nbconvert_exporter": "python",
   "pygments_lexer": "ipython3",
   "version": "3.8.8"
  }
 },
 "nbformat": 4,
 "nbformat_minor": 5
}