{
 "cells": [
  {
   "cell_type": "code",
   "execution_count": 1,
   "id": "119d17f7-2f14-495a-8a10-8588aee4133b",
   "metadata": {},
   "outputs": [],
   "source": [
    "import preparers"
   ]
  },
  {
   "cell_type": "code",
   "execution_count": 2,
   "id": "61ea64c4-969f-4ff5-9a9e-e86a19298b89",
   "metadata": {},
   "outputs": [
    {
     "name": "stdout",
     "output_type": "stream",
     "text": [
      "(01/13) Construct Paths\n",
      "(02/13) Read Questionnaire\n",
      "(03/13) Read Eye Tracker Data\n",
      "(04/13) Transform Eye Tracker Data\n",
      "(05/13) Normalize Eye Tracker Time\n",
      "(06/13) Read EEG Data\n"
     ]
    },
    {
     "name": "stderr",
     "output_type": "stream",
     "text": [
      "C:\\Users\\jonas\\Documents\\GitHub\\NoviceVsExpert\\dataEvaluation\\preparers.py:151: RuntimeWarning: This filename (./rawData/Participant01/CollectedData_2021-07-29_1.fif) does not conform to MNE naming conventions. All raw files should end with raw.fif, raw_sss.fif, raw_tsss.fif, _meg.fif, _eeg.fif, _ieeg.fif, raw.fif.gz, raw_sss.fif.gz, raw_tsss.fif.gz, _meg.fif.gz, _eeg.fif.gz or _ieeg.fif.gz\n",
      "  raw = mne.io.read_raw_fif(fname=eeg_path, preload=True)\n"
     ]
    },
    {
     "name": "stdout",
     "output_type": "stream",
     "text": [
      "(07/13) Preprocess EEG Data\n",
      "(08/13) Construct Events from EEG Data\n",
      "(09/13) Read PsychoPy Data\n",
      "(10/13) Transform PsychoPy Data\n",
      "(11/13) Normalize PsychoPy Time\n",
      "(12/13) Read PsychoPy Log Data\n",
      "(13/13) Transform All Data to Dictionary\n"
     ]
    }
   ],
   "source": [
    "data = preparers.load_raw(1, cores=12)"
   ]
  },
  {
   "cell_type": "code",
   "execution_count": 3,
   "id": "24bacc18-1bd7-489f-b90d-f60d3af42157",
   "metadata": {},
   "outputs": [
    {
     "name": "stdout",
     "output_type": "stream",
     "text": [
      "Saving IsPrime Files ............\n",
      "Saving SiebDesEratosthenes Files ............\n",
      "Saving IsAnagram Files ............\n",
      "Saving RemoveDoubleChar Files ............\n",
      "Saving BinToDecimal Files ............\n",
      "Saving PermuteString Files ............\n",
      "Saving Power Files ............\n",
      "Saving BinarySearch Files ............\n",
      "Saving ContainsSubstring Files ............\n",
      "Saving ReverseArray Files ............\n",
      "Saving SumArray Files ............\n",
      "Saving RectanglePower Files ............\n",
      "Saving Vehicle Files ............\n",
      "Saving GreatestCommonDivisor Files ............\n",
      "Saving HIndex Files ............\n",
      "Saving LengthOfLast Files ............\n",
      "Saving MedianOnSorted Files ............\n",
      "Saving SignChecker Files ............\n",
      "Saving ArrayAverage Files ............\n",
      "Saving DropNumber Files ............\n",
      "Saving BinomialCoefficient Files ............\n",
      "Saving Palindrome Files ............\n",
      "Saving DumpSorting Files ............\n",
      "Saving InsertSort Files ............\n",
      "Saving HeightOfTree Files ............\n",
      "Saving CheckIfLettersOnly Files ............\n",
      "Saving SmallGauss Files ............\n",
      "Saving BogoSort Files ............\n",
      "Saving ReverseQueue Files ............\n",
      "Saving Ackerman Files ............\n",
      "Saving RabbitTortoise Files ............\n",
      "Saving Rectangle Files ............\n"
     ]
    }
   ],
   "source": [
    "preparers.save(data, 1)"
   ]
  },
  {
   "cell_type": "code",
   "execution_count": 4,
   "id": "fa994fa0-e3e5-4e62-9e06-e0bb9c393d23",
   "metadata": {},
   "outputs": [
    {
     "name": "stdout",
     "output_type": "stream",
     "text": [
      "Loading Ackerman Files ......\n",
      "Loading BogoSort Files ......\n"
     ]
    }
   ],
   "source": [
    "data = preparers.load_queried(\n",
    "    participant_number=1, snippets=[\"BogoSort\", \"Ackerman\"], query_code=True, query_eeg=True, query_eye_tracking=True, query_behavioral=True, query_log=True, query_meta=True,\n",
    ")"
   ]
  }
 ],
 "metadata": {
  "kernelspec": {
   "display_name": "Python 3",
   "language": "python",
   "name": "python3"
  },
  "language_info": {
   "codemirror_mode": {
    "name": "ipython",
    "version": 3
   },
   "file_extension": ".py",
   "mimetype": "text/x-python",
   "name": "python",
   "nbconvert_exporter": "python",
   "pygments_lexer": "ipython3",
   "version": "3.8.8"
  }
 },
 "nbformat": 4,
 "nbformat_minor": 5
}
