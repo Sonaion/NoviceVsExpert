{
 "cells": [
  {
   "cell_type": "markdown",
   "source": [
    "# Preprocessing 03 - Data Format - Transforming the Raw Data into splitted Data\n",
    "\n",
    "## Importing the libraries"
   ],
   "metadata": {
    "collapsed": false,
    "pycharm": {
     "name": "#%% md\n"
    }
   }
  },
  {
   "cell_type": "code",
   "execution_count": 1,
   "outputs": [],
   "source": [
    "import utils.preparers as preparers\n",
    "import os\n",
    "import re\n",
    "import pandas as pd\n",
    "from tqdm.notebook import tqdm"
   ],
   "metadata": {
    "collapsed": false,
    "pycharm": {
     "name": "#%%\n"
    }
   }
  },
  {
   "cell_type": "markdown",
   "source": [
    "## Get all the Participants based on the folders in data/rawData"
   ],
   "metadata": {
    "collapsed": false,
    "pycharm": {
     "name": "#%% md\n"
    }
   }
  },
  {
   "cell_type": "code",
   "execution_count": 2,
   "outputs": [],
   "source": [
    "participants = []\n",
    "for _dir, sub_dirs, _files in os.walk(\"./data/rawData\"):\n",
    "    for dir in sub_dirs:\n",
    "        numbers = re.findall(r'\\d+', dir)\n",
    "        participants.append(int(numbers[0]))\n",
    "    break"
   ],
   "metadata": {
    "collapsed": false,
    "pycharm": {
     "name": "#%%\n"
    }
   }
  },
  {
   "cell_type": "markdown",
   "source": [
    "## Move ICA eeg files back to the raw folder and delete everything in the eeg_tmp folder"
   ],
   "metadata": {
    "collapsed": false,
    "pycharm": {
     "name": "#%% md\n"
    }
   }
  },
  {
   "cell_type": "code",
   "execution_count": 3,
   "outputs": [
    {
     "data": {
      "text/plain": "  0%|          | 0/39 [00:00<?, ?it/s]",
      "application/vnd.jupyter.widget-view+json": {
       "version_major": 2,
       "version_minor": 0,
       "model_id": "221565c56ee2410aa25a0622f09efcf4"
      }
     },
     "metadata": {},
     "output_type": "display_data"
    }
   ],
   "source": [
    "ica_folder = \"./data/eeg_tmp/ica\"\n",
    "raw_folder = \"./data/eeg_tmp/raw\"\n",
    "\n",
    "# Move ICA eeg files back to the raw folder\n",
    "for participant in tqdm(participants):\n",
    "    participant_folder = \"./data/rawData/Participant\" + str(participant).zfill(2)\n",
    "    fdt_file_source = ica_folder + \"/eeg_raw_\" + str(participant).zfill(2) + \".fdt\"\n",
    "    set_file_source = ica_folder + \"/eeg_raw_\" + str(participant).zfill(2) + \".set\"\n",
    "    fdt_file_destination = participant_folder + \"/eeg_raw_\" + str(participant).zfill(2) + \".fdt\"\n",
    "    set_file_destination = participant_folder + \"/eeg_raw_\" + str(participant).zfill(2) + \".set\"\n",
    "    try:\n",
    "        # check if the source file exists\n",
    "        if os.path.exists(fdt_file_source):\n",
    "            os.remove(fdt_file_destination)\n",
    "    except:\n",
    "        pass\n",
    "    try:\n",
    "        if os.path.exists(set_file_source):\n",
    "            os.remove(set_file_destination)\n",
    "    except:\n",
    "        pass\n",
    "    try:\n",
    "        os.rename(fdt_file_source, fdt_file_destination)\n",
    "        os.rename(set_file_source, set_file_destination)\n",
    "    except:\n",
    "        print(\"Participant \" + str(participant) + \" already has the files\")\n",
    "\n",
    "# delete every file in the raw_folder\n",
    "for _dir, _sub_dirs, _files in os.walk(raw_folder):\n",
    "    for file in _files:\n",
    "        os.remove(raw_folder + \"/\" + file)"
   ],
   "metadata": {
    "collapsed": false,
    "pycharm": {
     "name": "#%%\n"
    }
   }
  },
  {
   "cell_type": "markdown",
   "source": [
    "## Delete every psydata and log file in data/rawData"
   ],
   "metadata": {
    "collapsed": false,
    "pycharm": {
     "name": "#%% md\n"
    }
   }
  },
  {
   "cell_type": "code",
   "execution_count": 4,
   "outputs": [
    {
     "data": {
      "text/plain": "  0%|          | 0/39 [00:00<?, ?it/s]",
      "application/vnd.jupyter.widget-view+json": {
       "version_major": 2,
       "version_minor": 0,
       "model_id": "b5e31f24b56c49d1b9f0059d05eb5b36"
      }
     },
     "metadata": {},
     "output_type": "display_data"
    }
   ],
   "source": [
    "for participant in tqdm(participants):\n",
    "    current_folder = \"./data/rawData/Participant\" + str(participant).zfill(2)\n",
    "    # iterate over all files in the current folder\n",
    "    for _dir, _sub_dirs, files in os.walk(current_folder):\n",
    "        for file in files:\n",
    "            if file.endswith(\".psydat\") or file.endswith(\".log\"):\n",
    "                os.remove(os.path.join(current_folder, file))\n",
    "                continue\n",
    "            if file.endswith(\".fif\"):\n",
    "                #rename the file\n",
    "                os.rename(os.path.join(_dir, file), os.path.join(_dir, \"eeg_raw.fif\"))\n",
    "                continue\n",
    "            if file.endswith(\".csv\"):\n",
    "                if \"experiment_data\" in file or \"eyetracking\" in file:\n",
    "                    #rename the file\n",
    "                    os.rename(os.path.join(_dir, file), os.path.join(_dir, \"eyetracking_raw.csv\"))\n",
    "                    continue\n",
    "                else:\n",
    "                    #rename the file\n",
    "                    os.rename(os.path.join(_dir, file), os.path.join(_dir, \"experiment.csv\"))\n",
    "                    continue"
   ],
   "metadata": {
    "collapsed": false,
    "pycharm": {
     "name": "#%%\n"
    }
   }
  },
  {
   "cell_type": "markdown",
   "source": [
    "## Transform all the Data into splitted Data"
   ],
   "metadata": {
    "collapsed": false,
    "pycharm": {
     "name": "#%% md\n"
    }
   }
  },
  {
   "cell_type": "code",
   "execution_count": 5,
   "outputs": [
    {
     "data": {
      "text/plain": "  0%|          | 0/39 [00:00<?, ?it/s]",
      "application/vnd.jupyter.widget-view+json": {
       "version_major": 2,
       "version_minor": 0,
       "model_id": "86d4a16016124aa192e24fb6bf22ab72"
      }
     },
     "metadata": {},
     "output_type": "display_data"
    }
   ],
   "source": [
    "from contextlib import redirect_stderr, redirect_stdout\n",
    "\n",
    "columns = [\"Participant\", \"Algorithm\", \"Subpart\", \"Behavioral\", \"StartTime\", \"EndTime\", \"Eyetracking\", \"EEG\", \"CrossEEG\"]\n",
    "df_filtered = pd.DataFrame(columns=columns)\n",
    "\n",
    "def rescale(data):\n",
    "    # Scaling factor (to obtain values in [V], depends on device and settings etc.)\n",
    "    scaling_factor = 1e-8\n",
    "    return scaling_factor * data\n",
    "\n",
    "# Iterate over all participants\n",
    "for participant in tqdm(participants):\n",
    "    if participant == 9:\n",
    "        continue\n",
    "\n",
    "    # Check if folder exists\n",
    "    if not os.path.exists(\"./data/filteredData/Participant\" + str(participant).zfill(2)):\n",
    "        os.makedirs(\"./data/filteredData/Participant\" + str(participant).zfill(2))\n",
    "\n",
    "    # Load in Raw Data from Input folder\n",
    "    # disables the stdout and stderr\n",
    "    with open(os.devnull, 'w') as devnull:\n",
    "        with redirect_stdout(devnull):\n",
    "            with redirect_stderr(devnull):\n",
    "                data = preparers.load_raw(participant, cores=24, logging=True)\n",
    "    folder_prev = \"./data/filteredData/Participant\" + str(participant).zfill(2) + \"/\"\n",
    "\n",
    "    # save the raw data into splited data for task/input/output\n",
    "    for algorithm in data.keys():\n",
    "        # get the answer for the algorithm\n",
    "        answer = data[algorithm][\"Behavioral\"][\"ChosenAnswer\"].array[0]\n",
    "\n",
    "        # get the eeg data from cross fixation\n",
    "        cross_eeg = data[algorithm][\"Cross\"][\"EEG\"]\n",
    "        cross_eeg.apply_function(rescale, picks=['eeg'])\n",
    "        cross_eeg.save(folder_prev + algorithm + \"cross_eeg_raw.fif\",overwrite=True)\n",
    "        cross_eeg = folder_prev + algorithm + \"cross_eeg_raw.fif\"\n",
    "\n",
    "        # get the start and end time, eyetracking and eeg data\n",
    "        code_start = data[algorithm][\"Behavioral\"][\"SnippetStart\"].array[0]\n",
    "        code_end = data[algorithm][\"Behavioral\"][\"SnippetStop\"].array[0]\n",
    "        code_eyetracking = data[algorithm][\"Code\"][\"EyeTracking\"]\n",
    "        code_eeg = data[algorithm][\"Code\"][\"EEG\"]\n",
    "\n",
    "        # rescale the eeg data\n",
    "        code_eeg.apply_function(rescale, picks=['eeg'])\n",
    "\n",
    "        #save code_eeg to file\n",
    "        code_eeg.save(folder_prev + algorithm + \"code_eeg_raw.fif\", overwrite=True)\n",
    "        code_eeg = folder_prev + algorithm + \"code_eeg_raw.fif\"\n",
    "\n",
    "        #save code_eyetracking to file\n",
    "        code_eyetracking.to_csv(folder_prev + algorithm + \"code_eyetracking_raw.csv\", index=False)\n",
    "        code_eyetracking = folder_prev + algorithm + \"code_eyetracking_raw.csv\"\n",
    "\n",
    "        # append the data to the dataframe\n",
    "        df_filtered.loc[len(df_filtered)] = [\n",
    "            participant, algorithm, \"Code\", answer,\n",
    "            code_start, code_end, code_eyetracking, code_eeg,\n",
    "            cross_eeg]\n",
    "\n",
    "        input_start = data[algorithm][\"Behavioral\"][\"InputStart\"].array[0]\n",
    "        input_end = data[algorithm][\"Behavioral\"][\"InputStop\"].array[0]\n",
    "        input_eyetracking = data[algorithm][\"Input\"][\"EyeTracking\"]\n",
    "        input_eeg = data[algorithm][\"Input\"][\"EEG\"]\n",
    "\n",
    "        input_eeg.apply_function(rescale, picks=['eeg'])\n",
    "\n",
    "        #save input_eeg to file\n",
    "        input_eeg.save(folder_prev + algorithm + \"input_eeg_raw.fif\", overwrite=True)\n",
    "        input_eeg = folder_prev + algorithm + \"input_eeg_raw.fif\"\n",
    "\n",
    "        #save input_eyetracking to file\n",
    "        input_eyetracking.to_csv(folder_prev + algorithm + \"input_eyetracking_raw.csv\", index=False)\n",
    "        input_eyetracking = folder_prev + algorithm + \"input_eyetracking_raw.csv\"\n",
    "\n",
    "        # append the data to the dataframe\n",
    "        df_filtered.loc[len(df_filtered)] = [\n",
    "            participant, algorithm, \"Input\", answer,\n",
    "            input_start, input_end, input_eyetracking, input_eeg,\n",
    "            cross_eeg]\n",
    "\n",
    "        output_start = data[algorithm][\"Behavioral\"][\"OutputStart\"].array[0]\n",
    "        output_end = data[algorithm][\"Behavioral\"][\"OutputStop\"].array[0]\n",
    "        output_eyetracking = data[algorithm][\"Output\"][\"EyeTracking\"]\n",
    "        output_eeg = data[algorithm][\"Output\"][\"EEG\"]\n",
    "\n",
    "        output_eeg.apply_function(rescale, picks=['eeg'])\n",
    "\n",
    "        #save output_eeg to file\n",
    "        output_eeg.save(folder_prev + algorithm + \"output_eeg_raw.fif\",overwrite=True)\n",
    "        output_eeg = folder_prev + algorithm + \"output_eeg_raw.fif\"\n",
    "\n",
    "        #save output_eyetracking to file\n",
    "        output_eyetracking.to_csv(folder_prev + algorithm + \"output_eyetracking_raw.csv\", index=False)\n",
    "        output_eyetracking = folder_prev + algorithm + \"output_eyetracking_raw.csv\"\n",
    "\n",
    "        # append the data to the dataframe\n",
    "        df_filtered.loc[len(df_filtered)] = [\n",
    "            participant, algorithm, \"Output\", answer,\n",
    "            output_start, output_end, output_eyetracking, output_eeg,\n",
    "            cross_eeg]\n",
    "\n",
    "df_filtered.to_csv(\"./data/filteredData/filtered_data.csv\", index=False)"
   ],
   "metadata": {
    "collapsed": false,
    "pycharm": {
     "name": "#%%\n"
    }
   }
  },
  {
   "cell_type": "code",
   "execution_count": null,
   "outputs": [],
   "source": [],
   "metadata": {
    "collapsed": false,
    "pycharm": {
     "name": "#%%\n"
    }
   }
  }
 ],
 "metadata": {
  "kernelspec": {
   "display_name": "Python 3",
   "language": "python",
   "name": "python3"
  },
  "language_info": {
   "codemirror_mode": {
    "name": "ipython",
    "version": 2
   },
   "file_extension": ".py",
   "mimetype": "text/x-python",
   "name": "python",
   "nbconvert_exporter": "python",
   "pygments_lexer": "ipython2",
   "version": "2.7.6"
  }
 },
 "nbformat": 4,
 "nbformat_minor": 0
}