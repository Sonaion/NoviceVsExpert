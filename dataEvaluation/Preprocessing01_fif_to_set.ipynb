{
 "cells": [
  {
   "cell_type": "code",
   "execution_count": 40,
   "metadata": {
    "collapsed": true
   },
   "outputs": [],
   "source": [
    "import os\n",
    "import mne\n",
    "from pybv import write_brainvision\n",
    "import numpy as np\n",
    "import pybv\n",
    "import regex as re\n",
    "import tqdm"
   ]
  },
  {
   "cell_type": "code",
   "execution_count": null,
   "outputs": [],
   "source": [
    "\n",
    "filepath_out: str = \"./data/eeg_tmp/raw\"\n",
    "montage_path = \"AC-64.bvef\"\n",
    "channels_to_drop = ['x_dir', 'y_dir', 'z_dir']"
   ],
   "metadata": {
    "collapsed": false,
    "pycharm": {
     "name": "#%%\n"
    }
   }
  },
  {
   "cell_type": "code",
   "execution_count": 48,
   "outputs": [],
   "source": [
    "def load_fif_file(filename, filepath):\n",
    "    full_filename = os.path.join(filepath, filename)\n",
    "    return mne.io.read_raw_fif(fname=full_filename + '.fif', preload=True)\n",
    "\n",
    "\n",
    "def convert_fif_to_set(filename, load_from, save_to, number):\n",
    "    raw = load_fif_file(filename, load_from)\n",
    "\n",
    "    # set montage\n",
    "    montage = mne.channels.read_custom_montage(montage_path, head_size=0.085)\n",
    "    # montage.plot()\n",
    "    raw.set_montage(montage)\n",
    "\n",
    "    # drop channels\n",
    "    raw.drop_channels(channels_to_drop)\n",
    "\n",
    "    savepath: str = os.path.join(save_to, filename + \"_\" + number + \".set\")\n",
    "    mne.export.export_raw(savepath, raw, 'eeglab', 'auto', overwrite=True)\n",
    "    events = raw.info[\"events\"]\n",
    "    np_e = []\n",
    "    for e in events:\n",
    "        np_e.append([e['list'][0], e['list'][2]])\n",
    "\n",
    "    np_array = np.asarray(np_e)\n",
    "    # event_np = (x for x in events)\n",
    "\n",
    "    channels = raw.ch_names\n",
    "    # df = raw.to_data_frame()\n",
    "    df = raw.get_data(channels)\n",
    "    filename = filename + \"_\" + number\n",
    "    write_brainvision(data=df, sfreq=500, ch_names=channels, folder_out=filepath_out, fname_base=filename,\n",
    "                      events=np_array, overwrite=True)"
   ],
   "metadata": {
    "collapsed": false,
    "pycharm": {
     "name": "#%%\n"
    }
   }
  },
  {
   "cell_type": "code",
   "execution_count": 49,
   "outputs": [
    {
     "data": {
      "text/plain": "  0%|          | 0/38 [00:00<?, ?it/s]",
      "application/vnd.jupyter.widget-view+json": {
       "version_major": 2,
       "version_minor": 0,
       "model_id": "032d56b7cfbb40908818a1845f32e050"
      }
     },
     "metadata": {},
     "output_type": "display_data"
    },
    {
     "name": "stderr",
     "output_type": "stream",
     "text": [
      "C:\\Users\\jonas\\AppData\\Local\\Temp/ipykernel_7864/3239953908.py:12: RuntimeWarning: Fiducial point nasion not found, assuming identity unknown to head transformation\n",
      "  raw.set_montage(montage)\n",
      "C:\\Users\\jonas\\AppData\\Local\\Temp/ipykernel_7864/3239953908.py:12: RuntimeWarning: Fiducial point nasion not found, assuming identity unknown to head transformation\n",
      "  raw.set_montage(montage)\n",
      "C:\\Users\\jonas\\AppData\\Local\\Temp/ipykernel_7864/3239953908.py:12: RuntimeWarning: Fiducial point nasion not found, assuming identity unknown to head transformation\n",
      "  raw.set_montage(montage)\n",
      "C:\\Users\\jonas\\AppData\\Local\\Temp/ipykernel_7864/3239953908.py:12: RuntimeWarning: Fiducial point nasion not found, assuming identity unknown to head transformation\n",
      "  raw.set_montage(montage)\n",
      "C:\\Users\\jonas\\AppData\\Local\\Temp/ipykernel_7864/3239953908.py:12: RuntimeWarning: Fiducial point nasion not found, assuming identity unknown to head transformation\n",
      "  raw.set_montage(montage)\n",
      "C:\\Users\\jonas\\AppData\\Local\\Temp/ipykernel_7864/3239953908.py:12: RuntimeWarning: Fiducial point nasion not found, assuming identity unknown to head transformation\n",
      "  raw.set_montage(montage)\n",
      "C:\\Users\\jonas\\AppData\\Local\\Temp/ipykernel_7864/3239953908.py:12: RuntimeWarning: Fiducial point nasion not found, assuming identity unknown to head transformation\n",
      "  raw.set_montage(montage)\n",
      "C:\\Users\\jonas\\AppData\\Local\\Temp/ipykernel_7864/3239953908.py:12: RuntimeWarning: Fiducial point nasion not found, assuming identity unknown to head transformation\n",
      "  raw.set_montage(montage)\n",
      "C:\\Users\\jonas\\AppData\\Local\\Temp/ipykernel_7864/3239953908.py:12: RuntimeWarning: Fiducial point nasion not found, assuming identity unknown to head transformation\n",
      "  raw.set_montage(montage)\n",
      "C:\\Users\\jonas\\AppData\\Local\\Temp/ipykernel_7864/3239953908.py:12: RuntimeWarning: Fiducial point nasion not found, assuming identity unknown to head transformation\n",
      "  raw.set_montage(montage)\n",
      "C:\\Users\\jonas\\AppData\\Local\\Temp/ipykernel_7864/3239953908.py:12: RuntimeWarning: Fiducial point nasion not found, assuming identity unknown to head transformation\n",
      "  raw.set_montage(montage)\n",
      "C:\\Users\\jonas\\AppData\\Local\\Temp/ipykernel_7864/3239953908.py:12: RuntimeWarning: Fiducial point nasion not found, assuming identity unknown to head transformation\n",
      "  raw.set_montage(montage)\n",
      "C:\\Users\\jonas\\AppData\\Local\\Temp/ipykernel_7864/3239953908.py:12: RuntimeWarning: Fiducial point nasion not found, assuming identity unknown to head transformation\n",
      "  raw.set_montage(montage)\n",
      "C:\\Users\\jonas\\AppData\\Local\\Temp/ipykernel_7864/3239953908.py:12: RuntimeWarning: Fiducial point nasion not found, assuming identity unknown to head transformation\n",
      "  raw.set_montage(montage)\n",
      "C:\\Users\\jonas\\AppData\\Local\\Temp/ipykernel_7864/3239953908.py:12: RuntimeWarning: Fiducial point nasion not found, assuming identity unknown to head transformation\n",
      "  raw.set_montage(montage)\n",
      "C:\\Users\\jonas\\AppData\\Local\\Temp/ipykernel_7864/3239953908.py:12: RuntimeWarning: Fiducial point nasion not found, assuming identity unknown to head transformation\n",
      "  raw.set_montage(montage)\n",
      "C:\\Users\\jonas\\AppData\\Local\\Temp/ipykernel_7864/3239953908.py:12: RuntimeWarning: Fiducial point nasion not found, assuming identity unknown to head transformation\n",
      "  raw.set_montage(montage)\n",
      "C:\\Users\\jonas\\AppData\\Local\\Temp/ipykernel_7864/3239953908.py:12: RuntimeWarning: Fiducial point nasion not found, assuming identity unknown to head transformation\n",
      "  raw.set_montage(montage)\n",
      "C:\\Users\\jonas\\AppData\\Local\\Temp/ipykernel_7864/3239953908.py:12: RuntimeWarning: Fiducial point nasion not found, assuming identity unknown to head transformation\n",
      "  raw.set_montage(montage)\n",
      "C:\\Users\\jonas\\AppData\\Local\\Temp/ipykernel_7864/3239953908.py:12: RuntimeWarning: Fiducial point nasion not found, assuming identity unknown to head transformation\n",
      "  raw.set_montage(montage)\n",
      "C:\\Users\\jonas\\AppData\\Local\\Temp/ipykernel_7864/3239953908.py:12: RuntimeWarning: Fiducial point nasion not found, assuming identity unknown to head transformation\n",
      "  raw.set_montage(montage)\n",
      "C:\\Users\\jonas\\AppData\\Local\\Temp/ipykernel_7864/3239953908.py:12: RuntimeWarning: Fiducial point nasion not found, assuming identity unknown to head transformation\n",
      "  raw.set_montage(montage)\n",
      "C:\\Users\\jonas\\AppData\\Local\\Temp/ipykernel_7864/3239953908.py:12: RuntimeWarning: Fiducial point nasion not found, assuming identity unknown to head transformation\n",
      "  raw.set_montage(montage)\n",
      "C:\\Users\\jonas\\AppData\\Local\\Temp/ipykernel_7864/3239953908.py:12: RuntimeWarning: Fiducial point nasion not found, assuming identity unknown to head transformation\n",
      "  raw.set_montage(montage)\n",
      "C:\\Users\\jonas\\AppData\\Local\\Temp/ipykernel_7864/3239953908.py:12: RuntimeWarning: Fiducial point nasion not found, assuming identity unknown to head transformation\n",
      "  raw.set_montage(montage)\n",
      "C:\\Users\\jonas\\AppData\\Local\\Temp/ipykernel_7864/3239953908.py:12: RuntimeWarning: Fiducial point nasion not found, assuming identity unknown to head transformation\n",
      "  raw.set_montage(montage)\n",
      "C:\\Users\\jonas\\AppData\\Local\\Temp/ipykernel_7864/3239953908.py:12: RuntimeWarning: Fiducial point nasion not found, assuming identity unknown to head transformation\n",
      "  raw.set_montage(montage)\n",
      "C:\\Users\\jonas\\AppData\\Local\\Temp/ipykernel_7864/3239953908.py:12: RuntimeWarning: Fiducial point nasion not found, assuming identity unknown to head transformation\n",
      "  raw.set_montage(montage)\n",
      "C:\\Users\\jonas\\AppData\\Local\\Temp/ipykernel_7864/3239953908.py:12: RuntimeWarning: Fiducial point nasion not found, assuming identity unknown to head transformation\n",
      "  raw.set_montage(montage)\n",
      "C:\\Users\\jonas\\AppData\\Local\\Temp/ipykernel_7864/3239953908.py:12: RuntimeWarning: Fiducial point nasion not found, assuming identity unknown to head transformation\n",
      "  raw.set_montage(montage)\n",
      "C:\\Users\\jonas\\AppData\\Local\\Temp/ipykernel_7864/3239953908.py:12: RuntimeWarning: Fiducial point nasion not found, assuming identity unknown to head transformation\n",
      "  raw.set_montage(montage)\n",
      "C:\\Users\\jonas\\AppData\\Local\\Temp/ipykernel_7864/3239953908.py:12: RuntimeWarning: Fiducial point nasion not found, assuming identity unknown to head transformation\n",
      "  raw.set_montage(montage)\n",
      "C:\\Users\\jonas\\AppData\\Local\\Temp/ipykernel_7864/3239953908.py:12: RuntimeWarning: Fiducial point nasion not found, assuming identity unknown to head transformation\n",
      "  raw.set_montage(montage)\n",
      "C:\\Users\\jonas\\AppData\\Local\\Temp/ipykernel_7864/3239953908.py:12: RuntimeWarning: Fiducial point nasion not found, assuming identity unknown to head transformation\n",
      "  raw.set_montage(montage)\n",
      "C:\\Users\\jonas\\AppData\\Local\\Temp/ipykernel_7864/3239953908.py:12: RuntimeWarning: Fiducial point nasion not found, assuming identity unknown to head transformation\n",
      "  raw.set_montage(montage)\n",
      "C:\\Users\\jonas\\AppData\\Local\\Temp/ipykernel_7864/3239953908.py:12: RuntimeWarning: Fiducial point nasion not found, assuming identity unknown to head transformation\n",
      "  raw.set_montage(montage)\n",
      "C:\\Users\\jonas\\AppData\\Local\\Temp/ipykernel_7864/3239953908.py:12: RuntimeWarning: Fiducial point nasion not found, assuming identity unknown to head transformation\n",
      "  raw.set_montage(montage)\n",
      "C:\\Users\\jonas\\AppData\\Local\\Temp/ipykernel_7864/3239953908.py:12: RuntimeWarning: Fiducial point nasion not found, assuming identity unknown to head transformation\n",
      "  raw.set_montage(montage)\n"
     ]
    }
   ],
   "source": [
    "# get all folders in data/filteredData\n",
    "folders = [f.path for f in os.scandir('./data/rawData') if f.is_dir()]\n",
    "# extract the numbers\n",
    "folders = [f.split('/')[-1] for f in folders]\n",
    "numbers = [int(re.findall(r'\\d+', f)[0]) for f in folders]\n",
    "# numbers to str with leading zeros\n",
    "numbers = [str(n).zfill(2) for n in numbers]\n",
    "\n",
    "for number in tqdm(numbers):\n",
    "    load_from = \"./data/rawData/Participant\" + number\n",
    "    save_to = \"./data/eeg_tmp/raw\"\n",
    "    file_name = \"eeg_raw\"\n",
    "    convert_fif_to_set(file_name, load_from, save_to, number)"
   ],
   "metadata": {
    "collapsed": false,
    "pycharm": {
     "name": "#%%\n"
    }
   }
  },
  {
   "cell_type": "code",
   "execution_count": null,
   "outputs": [],
   "source": [],
   "metadata": {
    "collapsed": false,
    "pycharm": {
     "name": "#%%\n"
    }
   }
  }
 ],
 "metadata": {
  "kernelspec": {
   "display_name": "Python 3",
   "language": "python",
   "name": "python3"
  },
  "language_info": {
   "codemirror_mode": {
    "name": "ipython",
    "version": 2
   },
   "file_extension": ".py",
   "mimetype": "text/x-python",
   "name": "python",
   "nbconvert_exporter": "python",
   "pygments_lexer": "ipython2",
   "version": "2.7.6"
  }
 },
 "nbformat": 4,
 "nbformat_minor": 0
}