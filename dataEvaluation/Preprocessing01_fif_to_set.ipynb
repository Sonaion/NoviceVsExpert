{
 "cells": [
  {
   "cell_type": "markdown",
   "source": [
    "# Preprocessing 01 - Data Preparation - Convert EEG .fif files to .set and .vhdr files\n",
    "\n",
    "## Import libraries"
   ],
   "metadata": {
    "collapsed": false,
    "pycharm": {
     "name": "#%% md\n"
    }
   }
  },
  {
   "cell_type": "code",
   "execution_count": 1,
   "outputs": [],
   "source": [
    "import os\n",
    "import mne\n",
    "from pybv import write_brainvision\n",
    "import numpy as np\n",
    "import regex as re\n",
    "from tqdm.notebook import tqdm"
   ],
   "metadata": {
    "collapsed": false,
    "pycharm": {
     "name": "#%%\n"
    }
   }
  },
  {
   "cell_type": "markdown",
   "source": [
    "## Set Input directory, Path to Montage, and Channels to drop"
   ],
   "metadata": {
    "collapsed": false,
    "pycharm": {
     "name": "#%% md\n"
    }
   }
  },
  {
   "cell_type": "code",
   "execution_count": 2,
   "outputs": [],
   "source": [
    "filepath_out: str = \"./data/eeg_tmp/raw\"\n",
    "montage_path = \"./data/EEG/AC-64.bvef\"\n",
    "channels_to_drop = ['x_dir', 'y_dir', 'z_dir']"
   ],
   "metadata": {
    "collapsed": false,
    "pycharm": {
     "name": "#%%\n"
    }
   }
  },
  {
   "cell_type": "markdown",
   "source": [
    "## Helper Functions For Transorming EEG .fif files to .set and .vhdr files"
   ],
   "metadata": {
    "collapsed": false,
    "pycharm": {
     "name": "#%% md\n"
    }
   }
  },
  {
   "cell_type": "code",
   "execution_count": 3,
   "outputs": [],
   "source": [
    "def load_fif_file(filename, filepath):\n",
    "    full_filename = os.path.join(filepath, filename)\n",
    "    return mne.io.read_raw_fif(fname=full_filename + '.fif', preload=True)\n",
    "\n",
    "\n",
    "def convert_fif_to_set(filename, load_from, save_to, number):\n",
    "    # load fif file\n",
    "    raw = load_fif_file(filename, load_from)\n",
    "\n",
    "    # load and set montage\n",
    "    montage = mne.channels.read_custom_montage(montage_path, head_size=0.085)\n",
    "    raw.set_montage(montage)\n",
    "\n",
    "    # drop channels that wont be used\n",
    "    raw.drop_channels(channels_to_drop)\n",
    "\n",
    "    # save data to eeglab format\n",
    "    savepath: str = os.path.join(save_to, filename + \"_\" + number + \".set\")\n",
    "    #mne.export.export_raw(savepath, raw, 'eeglab', 'auto', verbose=\"ERROR\")\n",
    "\n",
    "    # transform events to eeglab format\n",
    "    events = raw.info[\"events\"]\n",
    "    np_e = []\n",
    "    for e in events:\n",
    "        np_e.append([e['list'][0], e['list'][2]])\n",
    "\n",
    "    np_array = np.asarray(np_e)\n",
    "\n",
    "    # save events to eeglab format\n",
    "    channels = raw.ch_names\n",
    "    df = raw.get_data(channels)\n",
    "    filename = filename + \"_\" + number\n",
    "    write_brainvision(data=df, sfreq=500, ch_names=channels, folder_out=filepath_out, fname_base=filename, events=np_array, overwrite=True)"
   ],
   "metadata": {
    "collapsed": false,
    "pycharm": {
     "name": "#%%\n"
    }
   }
  },
  {
   "cell_type": "code",
   "execution_count": 4,
   "outputs": [
    {
     "data": {
      "text/plain": "  0%|          | 0/39 [00:00<?, ?it/s]",
      "application/vnd.jupyter.widget-view+json": {
       "version_major": 2,
       "version_minor": 0,
       "model_id": "b8e1c6138c0043cabe1cee5d3f27f65a"
      }
     },
     "metadata": {},
     "output_type": "display_data"
    }
   ],
   "source": [
    "# get all folders in data/filteredData\n",
    "folders = [f.path for f in os.scandir('./data/rawData') if f.is_dir()]\n",
    "# extract the numbers\n",
    "folders = [f.split('/')[-1] for f in folders]\n",
    "numbers = [int(re.findall(r'\\d+', f)[0]) for f in folders]\n",
    "# numbers to str with leading zeros\n",
    "numbers = [str(n).zfill(2) for n in numbers]\n",
    "\n",
    "mne.set_log_level('ERROR')\n",
    "\n",
    "# iterate over all folders\n",
    "for number in tqdm(numbers):\n",
    "    source_folder = \"./data/rawData/Participant\" + number\n",
    "    # go trough every file in folder\n",
    "    for filename in os.listdir(source_folder):\n",
    "        if filename.endswith(\".fif\"):\n",
    "            # rename file\n",
    "            new_filename = \"eeg_raw.fif\"\n",
    "            # rename the file\n",
    "            os.rename(os.path.join(source_folder, filename), os.path.join(source_folder, new_filename))"
   ],
   "metadata": {
    "collapsed": false,
    "pycharm": {
     "name": "#%%\n"
    }
   }
  },
  {
   "cell_type": "markdown",
   "source": [
    "## Transform EEG .fif files to .set and .vhdr files"
   ],
   "metadata": {
    "collapsed": false,
    "pycharm": {
     "name": "#%% md\n"
    }
   }
  },
  {
   "cell_type": "code",
   "execution_count": 5,
   "outputs": [
    {
     "data": {
      "text/plain": "  0%|          | 0/39 [00:00<?, ?it/s]",
      "application/vnd.jupyter.widget-view+json": {
       "version_major": 2,
       "version_minor": 0,
       "model_id": "d682dd97aa9e485baff33bd42dff996f"
      }
     },
     "metadata": {},
     "output_type": "display_data"
    }
   ],
   "source": [
    "# get all folders in data/filteredData\n",
    "folders = [f.path for f in os.scandir('./data/rawData') if f.is_dir()]\n",
    "# extract the numbers\n",
    "folders = [f.split('/')[-1] for f in folders]\n",
    "numbers = [int(re.findall(r'\\d+', f)[0]) for f in folders]\n",
    "# numbers to str with leading zeros\n",
    "numbers = [str(n).zfill(2) for n in numbers]\n",
    "\n",
    "mne.set_log_level('ERROR')\n",
    "\n",
    "# iterate over all folders\n",
    "for number in tqdm(numbers):\n",
    "    # construct path to folder\n",
    "    load_from = \"./data/rawData/Participant\" + number\n",
    "    save_to = \"./data/eeg_tmp/raw\"\n",
    "    file_name = \"eeg_raw\"\n",
    "    # transform file via side effect\n",
    "    convert_fif_to_set(file_name, load_from, save_to, number)"
   ],
   "metadata": {
    "collapsed": false,
    "pycharm": {
     "name": "#%%\n"
    }
   }
  },
  {
   "cell_type": "code",
   "execution_count": null,
   "outputs": [],
   "source": [],
   "metadata": {
    "collapsed": false,
    "pycharm": {
     "name": "#%%\n"
    }
   }
  }
 ],
 "metadata": {
  "kernelspec": {
   "display_name": "Python 3",
   "language": "python",
   "name": "python3"
  },
  "language_info": {
   "codemirror_mode": {
    "name": "ipython",
    "version": 2
   },
   "file_extension": ".py",
   "mimetype": "text/x-python",
   "name": "python",
   "nbconvert_exporter": "python",
   "pygments_lexer": "ipython2",
   "version": "2.7.6"
  }
 },
 "nbformat": 4,
 "nbformat_minor": 0
}