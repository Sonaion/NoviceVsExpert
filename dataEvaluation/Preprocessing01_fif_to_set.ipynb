{
 "cells": [
  {
   "cell_type": "markdown",
   "source": [
    "# Preprocessing 01 - Data Preparation - Convert EEG .fif files to .set and .vhdr files\n",
    "\n",
    "## Import libraries"
   ],
   "metadata": {
    "collapsed": false,
    "pycharm": {
     "name": "#%% md\n"
    }
   }
  },
  {
   "cell_type": "code",
   "execution_count": 1,
   "outputs": [],
   "source": [
    "import os\n",
    "import mne\n",
    "from pybv import write_brainvision\n",
    "import numpy as np\n",
    "import regex as re\n",
    "from tqdm.notebook import tqdm"
   ],
   "metadata": {
    "collapsed": false,
    "pycharm": {
     "name": "#%%\n"
    }
   }
  },
  {
   "cell_type": "markdown",
   "source": [
    "## Set Input directory, Path to Montage, and Channels to drop"
   ],
   "metadata": {
    "collapsed": false,
    "pycharm": {
     "name": "#%% md\n"
    }
   }
  },
  {
   "cell_type": "code",
   "execution_count": 2,
   "outputs": [],
   "source": [
    "filepath_out: str = \"./data/eeg_tmp/raw\"\n",
    "montage_path = \"./data/EEG/AC-64.bvef\"\n",
    "channels_to_drop = ['x_dir', 'y_dir', 'z_dir']"
   ],
   "metadata": {
    "collapsed": false,
    "pycharm": {
     "name": "#%%\n"
    }
   }
  },
  {
   "cell_type": "markdown",
   "source": [
    "## Helper Functions For Transorming EEG .fif files to .set and .vhdr files"
   ],
   "metadata": {
    "collapsed": false,
    "pycharm": {
     "name": "#%% md\n"
    }
   }
  },
  {
   "cell_type": "code",
   "execution_count": 3,
   "outputs": [],
   "source": [
    "def load_fif_file(filename, filepath):\n",
    "    full_filename = os.path.join(filepath, filename)\n",
    "    return mne.io.read_raw_fif(fname=full_filename + '.fif', preload=True)\n",
    "\n",
    "\n",
    "def convert_fif_to_set(filename, load_from, save_to, number):\n",
    "    # load fif file\n",
    "    raw = load_fif_file(filename, load_from)\n",
    "\n",
    "    # load and set montage\n",
    "    montage = mne.channels.read_custom_montage(montage_path, head_size=0.085)\n",
    "    raw.set_montage(montage)\n",
    "\n",
    "    # drop channels that wont be used\n",
    "    raw.drop_channels(channels_to_drop)\n",
    "\n",
    "    # save data to eeglab format\n",
    "    savepath: str = os.path.join(save_to, filename + \"_\" + number + \".set\")\n",
    "    mne.export.export_raw(savepath, raw, 'eeglab', 'auto', overwrite=True, verbose=\"ERROR\")\n",
    "\n",
    "    # transform events to eeglab format\n",
    "    events = raw.info[\"events\"]\n",
    "    np_e = []\n",
    "    for e in events:\n",
    "        np_e.append([e['list'][0], e['list'][2]])\n",
    "\n",
    "    np_array = np.asarray(np_e)\n",
    "\n",
    "    # save events to eeglab format\n",
    "    channels = raw.ch_names\n",
    "    df = raw.get_data(channels)\n",
    "    filename = filename + \"_\" + number\n",
    "    write_brainvision(data=df, sfreq=500, ch_names=channels, folder_out=filepath_out, fname_base=filename, events=np_array, overwrite=True)"
   ],
   "metadata": {
    "collapsed": false,
    "pycharm": {
     "name": "#%%\n"
    }
   }
  },
  {
   "cell_type": "markdown",
   "source": [
    "## Transform EEG .fif files to .set and .vhdr files"
   ],
   "metadata": {
    "collapsed": false,
    "pycharm": {
     "name": "#%% md\n"
    }
   }
  },
  {
   "cell_type": "code",
   "execution_count": 4,
   "outputs": [
    {
     "data": {
      "text/plain": "  0%|          | 0/38 [00:00<?, ?it/s]",
      "application/vnd.jupyter.widget-view+json": {
       "version_major": 2,
       "version_minor": 0,
       "model_id": "e48b827c431f44b991eeb01403de6855"
      }
     },
     "metadata": {},
     "output_type": "display_data"
    },
    {
     "name": "stdout",
     "output_type": "stream",
     "text": [
      "Opening raw data file ./data/rawData/Participant01\\eeg_raw.fif...\n",
      "Isotrak not found\n",
      "    Range : 0 ... 2036249 =      0.000 ...  4072.498 secs\n",
      "Ready.\n",
      "Reading 0 ... 2036249  =      0.000 ...  4072.498 secs...\n"
     ]
    },
    {
     "name": "stderr",
     "output_type": "stream",
     "text": [
      "C:\\Users\\jonas\\AppData\\Local\\Temp/ipykernel_20272/3093821844.py:12: RuntimeWarning: Fiducial point nasion not found, assuming identity unknown to head transformation\n",
      "  raw.set_montage(montage)\n"
     ]
    },
    {
     "name": "stdout",
     "output_type": "stream",
     "text": [
      "Overwriting existing file.\n",
      "Opening raw data file ./data/rawData/Participant02\\eeg_raw.fif...\n",
      "Isotrak not found\n",
      "    Range : 0 ... 2097849 =      0.000 ...  4195.698 secs\n",
      "Ready.\n",
      "Reading 0 ... 2097849  =      0.000 ...  4195.698 secs...\n"
     ]
    },
    {
     "name": "stderr",
     "output_type": "stream",
     "text": [
      "C:\\Users\\jonas\\AppData\\Local\\Temp/ipykernel_20272/3093821844.py:12: RuntimeWarning: Fiducial point nasion not found, assuming identity unknown to head transformation\n",
      "  raw.set_montage(montage)\n"
     ]
    },
    {
     "name": "stdout",
     "output_type": "stream",
     "text": [
      "Overwriting existing file.\n",
      "Opening raw data file ./data/rawData/Participant03\\eeg_raw.fif...\n",
      "Isotrak not found\n",
      "    Range : 0 ... 1352829 =      0.000 ...  2705.658 secs\n",
      "Ready.\n",
      "Reading 0 ... 1352829  =      0.000 ...  2705.658 secs...\n"
     ]
    },
    {
     "name": "stderr",
     "output_type": "stream",
     "text": [
      "C:\\Users\\jonas\\AppData\\Local\\Temp/ipykernel_20272/3093821844.py:12: RuntimeWarning: Fiducial point nasion not found, assuming identity unknown to head transformation\n",
      "  raw.set_montage(montage)\n"
     ]
    },
    {
     "name": "stdout",
     "output_type": "stream",
     "text": [
      "Opening raw data file ./data/rawData/Participant04\\eeg_raw.fif...\n",
      "Isotrak not found\n",
      "    Range : 0 ... 2033159 =      0.000 ...  4066.318 secs\n",
      "Ready.\n",
      "Reading 0 ... 2033159  =      0.000 ...  4066.318 secs...\n"
     ]
    },
    {
     "name": "stderr",
     "output_type": "stream",
     "text": [
      "C:\\Users\\jonas\\AppData\\Local\\Temp/ipykernel_20272/3093821844.py:12: RuntimeWarning: Fiducial point nasion not found, assuming identity unknown to head transformation\n",
      "  raw.set_montage(montage)\n"
     ]
    },
    {
     "name": "stdout",
     "output_type": "stream",
     "text": [
      "Opening raw data file ./data/rawData/Participant05\\eeg_raw.fif...\n",
      "Isotrak not found\n",
      "    Range : 0 ... 1959509 =      0.000 ...  3919.018 secs\n",
      "Ready.\n",
      "Reading 0 ... 1959509  =      0.000 ...  3919.018 secs...\n"
     ]
    },
    {
     "name": "stderr",
     "output_type": "stream",
     "text": [
      "C:\\Users\\jonas\\AppData\\Local\\Temp/ipykernel_20272/3093821844.py:12: RuntimeWarning: Fiducial point nasion not found, assuming identity unknown to head transformation\n",
      "  raw.set_montage(montage)\n"
     ]
    },
    {
     "name": "stdout",
     "output_type": "stream",
     "text": [
      "Opening raw data file ./data/rawData/Participant06\\eeg_raw.fif...\n",
      "Isotrak not found\n",
      "    Range : 0 ... 2015979 =      0.000 ...  4031.958 secs\n",
      "Ready.\n",
      "Reading 0 ... 2015979  =      0.000 ...  4031.958 secs...\n"
     ]
    },
    {
     "name": "stderr",
     "output_type": "stream",
     "text": [
      "C:\\Users\\jonas\\AppData\\Local\\Temp/ipykernel_20272/3093821844.py:12: RuntimeWarning: Fiducial point nasion not found, assuming identity unknown to head transformation\n",
      "  raw.set_montage(montage)\n"
     ]
    },
    {
     "name": "stdout",
     "output_type": "stream",
     "text": [
      "Opening raw data file ./data/rawData/Participant07\\eeg_raw.fif...\n",
      "Isotrak not found\n",
      "    Range : 0 ... 2043319 =      0.000 ...  4086.638 secs\n",
      "Ready.\n",
      "Reading 0 ... 2043319  =      0.000 ...  4086.638 secs...\n"
     ]
    },
    {
     "name": "stderr",
     "output_type": "stream",
     "text": [
      "C:\\Users\\jonas\\AppData\\Local\\Temp/ipykernel_20272/3093821844.py:12: RuntimeWarning: Fiducial point nasion not found, assuming identity unknown to head transformation\n",
      "  raw.set_montage(montage)\n"
     ]
    },
    {
     "name": "stdout",
     "output_type": "stream",
     "text": [
      "Opening raw data file ./data/rawData/Participant10\\eeg_raw.fif...\n",
      "Isotrak not found\n",
      "    Range : 0 ... 1754869 =      0.000 ...  3509.738 secs\n",
      "Ready.\n",
      "Reading 0 ... 1754869  =      0.000 ...  3509.738 secs...\n"
     ]
    },
    {
     "name": "stderr",
     "output_type": "stream",
     "text": [
      "C:\\Users\\jonas\\AppData\\Local\\Temp/ipykernel_20272/3093821844.py:12: RuntimeWarning: Fiducial point nasion not found, assuming identity unknown to head transformation\n",
      "  raw.set_montage(montage)\n"
     ]
    },
    {
     "name": "stdout",
     "output_type": "stream",
     "text": [
      "Opening raw data file ./data/rawData/Participant11\\eeg_raw.fif...\n",
      "Isotrak not found\n",
      "    Range : 0 ... 2067759 =      0.000 ...  4135.518 secs\n",
      "Ready.\n",
      "Reading 0 ... 2067759  =      0.000 ...  4135.518 secs...\n"
     ]
    },
    {
     "name": "stderr",
     "output_type": "stream",
     "text": [
      "C:\\Users\\jonas\\AppData\\Local\\Temp/ipykernel_20272/3093821844.py:12: RuntimeWarning: Fiducial point nasion not found, assuming identity unknown to head transformation\n",
      "  raw.set_montage(montage)\n"
     ]
    },
    {
     "name": "stdout",
     "output_type": "stream",
     "text": [
      "Opening raw data file ./data/rawData/Participant12\\eeg_raw.fif...\n",
      "Isotrak not found\n",
      "    Range : 0 ... 2056379 =      0.000 ...  4112.758 secs\n",
      "Ready.\n",
      "Reading 0 ... 2056379  =      0.000 ...  4112.758 secs...\n"
     ]
    },
    {
     "name": "stderr",
     "output_type": "stream",
     "text": [
      "C:\\Users\\jonas\\AppData\\Local\\Temp/ipykernel_20272/3093821844.py:12: RuntimeWarning: Fiducial point nasion not found, assuming identity unknown to head transformation\n",
      "  raw.set_montage(montage)\n"
     ]
    },
    {
     "name": "stdout",
     "output_type": "stream",
     "text": [
      "Opening raw data file ./data/rawData/Participant13\\eeg_raw.fif...\n",
      "Isotrak not found\n",
      "    Range : 0 ... 2127129 =      0.000 ...  4254.258 secs\n",
      "Ready.\n",
      "Reading 0 ... 2127129  =      0.000 ...  4254.258 secs...\n"
     ]
    },
    {
     "name": "stderr",
     "output_type": "stream",
     "text": [
      "C:\\Users\\jonas\\AppData\\Local\\Temp/ipykernel_20272/3093821844.py:12: RuntimeWarning: Fiducial point nasion not found, assuming identity unknown to head transformation\n",
      "  raw.set_montage(montage)\n"
     ]
    },
    {
     "name": "stdout",
     "output_type": "stream",
     "text": [
      "Opening raw data file ./data/rawData/Participant14\\eeg_raw.fif...\n",
      "Isotrak not found\n",
      "    Range : 0 ... 2128919 =      0.000 ...  4257.838 secs\n",
      "Ready.\n",
      "Reading 0 ... 2128919  =      0.000 ...  4257.838 secs...\n"
     ]
    },
    {
     "name": "stderr",
     "output_type": "stream",
     "text": [
      "C:\\Users\\jonas\\AppData\\Local\\Temp/ipykernel_20272/3093821844.py:12: RuntimeWarning: Fiducial point nasion not found, assuming identity unknown to head transformation\n",
      "  raw.set_montage(montage)\n"
     ]
    },
    {
     "name": "stdout",
     "output_type": "stream",
     "text": [
      "Opening raw data file ./data/rawData/Participant18\\eeg_raw.fif...\n",
      "Isotrak not found\n",
      "    Range : 0 ... 2152549 =      0.000 ...  4305.098 secs\n",
      "Ready.\n",
      "Reading 0 ... 2152549  =      0.000 ...  4305.098 secs...\n"
     ]
    },
    {
     "name": "stderr",
     "output_type": "stream",
     "text": [
      "C:\\Users\\jonas\\AppData\\Local\\Temp/ipykernel_20272/3093821844.py:12: RuntimeWarning: Fiducial point nasion not found, assuming identity unknown to head transformation\n",
      "  raw.set_montage(montage)\n"
     ]
    },
    {
     "name": "stdout",
     "output_type": "stream",
     "text": [
      "Opening raw data file ./data/rawData/Participant22\\eeg_raw.fif...\n",
      "Isotrak not found\n",
      "    Range : 0 ... 2128709 =      0.000 ...  4257.418 secs\n",
      "Ready.\n",
      "Reading 0 ... 2128709  =      0.000 ...  4257.418 secs...\n"
     ]
    },
    {
     "name": "stderr",
     "output_type": "stream",
     "text": [
      "C:\\Users\\jonas\\AppData\\Local\\Temp/ipykernel_20272/3093821844.py:12: RuntimeWarning: Fiducial point nasion not found, assuming identity unknown to head transformation\n",
      "  raw.set_montage(montage)\n"
     ]
    },
    {
     "name": "stdout",
     "output_type": "stream",
     "text": [
      "Opening raw data file ./data/rawData/Participant24\\eeg_raw.fif...\n",
      "Isotrak not found\n",
      "    Range : 0 ... 1995559 =      0.000 ...  3991.118 secs\n",
      "Ready.\n",
      "Reading 0 ... 1995559  =      0.000 ...  3991.118 secs...\n"
     ]
    },
    {
     "name": "stderr",
     "output_type": "stream",
     "text": [
      "C:\\Users\\jonas\\AppData\\Local\\Temp/ipykernel_20272/3093821844.py:12: RuntimeWarning: Fiducial point nasion not found, assuming identity unknown to head transformation\n",
      "  raw.set_montage(montage)\n"
     ]
    },
    {
     "name": "stdout",
     "output_type": "stream",
     "text": [
      "Opening raw data file ./data/rawData/Participant25\\eeg_raw.fif...\n",
      "Isotrak not found\n",
      "    Range : 0 ... 2170529 =      0.000 ...  4341.058 secs\n",
      "Ready.\n",
      "Reading 0 ... 2170529  =      0.000 ...  4341.058 secs...\n"
     ]
    },
    {
     "name": "stderr",
     "output_type": "stream",
     "text": [
      "C:\\Users\\jonas\\AppData\\Local\\Temp/ipykernel_20272/3093821844.py:12: RuntimeWarning: Fiducial point nasion not found, assuming identity unknown to head transformation\n",
      "  raw.set_montage(montage)\n"
     ]
    },
    {
     "name": "stdout",
     "output_type": "stream",
     "text": [
      "Opening raw data file ./data/rawData/Participant28\\eeg_raw.fif...\n",
      "Isotrak not found\n",
      "    Range : 0 ... 2078849 =      0.000 ...  4157.698 secs\n",
      "Ready.\n",
      "Reading 0 ... 2078849  =      0.000 ...  4157.698 secs...\n"
     ]
    },
    {
     "name": "stderr",
     "output_type": "stream",
     "text": [
      "C:\\Users\\jonas\\AppData\\Local\\Temp/ipykernel_20272/3093821844.py:12: RuntimeWarning: Fiducial point nasion not found, assuming identity unknown to head transformation\n",
      "  raw.set_montage(montage)\n"
     ]
    },
    {
     "name": "stdout",
     "output_type": "stream",
     "text": [
      "Opening raw data file ./data/rawData/Participant35\\eeg_raw.fif...\n",
      "Isotrak not found\n",
      "    Range : 0 ... 1273529 =      0.000 ...  2547.058 secs\n",
      "Ready.\n",
      "Reading 0 ... 1273529  =      0.000 ...  2547.058 secs...\n"
     ]
    },
    {
     "name": "stderr",
     "output_type": "stream",
     "text": [
      "C:\\Users\\jonas\\AppData\\Local\\Temp/ipykernel_20272/3093821844.py:12: RuntimeWarning: Fiducial point nasion not found, assuming identity unknown to head transformation\n",
      "  raw.set_montage(montage)\n"
     ]
    },
    {
     "name": "stdout",
     "output_type": "stream",
     "text": [
      "Opening raw data file ./data/rawData/Participant36\\eeg_raw.fif...\n",
      "Isotrak not found\n",
      "    Range : 0 ... 1909499 =      0.000 ...  3818.998 secs\n",
      "Ready.\n",
      "Reading 0 ... 1909499  =      0.000 ...  3818.998 secs...\n"
     ]
    },
    {
     "name": "stderr",
     "output_type": "stream",
     "text": [
      "C:\\Users\\jonas\\AppData\\Local\\Temp/ipykernel_20272/3093821844.py:12: RuntimeWarning: Fiducial point nasion not found, assuming identity unknown to head transformation\n",
      "  raw.set_montage(montage)\n"
     ]
    },
    {
     "name": "stdout",
     "output_type": "stream",
     "text": [
      "Opening raw data file ./data/rawData/Participant37\\eeg_raw.fif...\n",
      "Isotrak not found\n",
      "    Range : 0 ... 2153139 =      0.000 ...  4306.278 secs\n",
      "Ready.\n",
      "Reading 0 ... 2153139  =      0.000 ...  4306.278 secs...\n"
     ]
    },
    {
     "name": "stderr",
     "output_type": "stream",
     "text": [
      "C:\\Users\\jonas\\AppData\\Local\\Temp/ipykernel_20272/3093821844.py:12: RuntimeWarning: Fiducial point nasion not found, assuming identity unknown to head transformation\n",
      "  raw.set_montage(montage)\n"
     ]
    },
    {
     "name": "stdout",
     "output_type": "stream",
     "text": [
      "Opening raw data file ./data/rawData/Participant38\\eeg_raw.fif...\n",
      "Isotrak not found\n",
      "    Range : 0 ... 1639859 =      0.000 ...  3279.718 secs\n",
      "Ready.\n",
      "Reading 0 ... 1639859  =      0.000 ...  3279.718 secs...\n"
     ]
    },
    {
     "name": "stderr",
     "output_type": "stream",
     "text": [
      "C:\\Users\\jonas\\AppData\\Local\\Temp/ipykernel_20272/3093821844.py:12: RuntimeWarning: Fiducial point nasion not found, assuming identity unknown to head transformation\n",
      "  raw.set_montage(montage)\n"
     ]
    },
    {
     "name": "stdout",
     "output_type": "stream",
     "text": [
      "Opening raw data file ./data/rawData/Participant41\\eeg_raw.fif...\n",
      "Isotrak not found\n",
      "    Range : 0 ... 2119169 =      0.000 ...  4238.338 secs\n",
      "Ready.\n",
      "Reading 0 ... 2119169  =      0.000 ...  4238.338 secs...\n"
     ]
    },
    {
     "name": "stderr",
     "output_type": "stream",
     "text": [
      "C:\\Users\\jonas\\AppData\\Local\\Temp/ipykernel_20272/3093821844.py:12: RuntimeWarning: Fiducial point nasion not found, assuming identity unknown to head transformation\n",
      "  raw.set_montage(montage)\n"
     ]
    },
    {
     "name": "stdout",
     "output_type": "stream",
     "text": [
      "Opening raw data file ./data/rawData/Participant42\\eeg_raw.fif...\n",
      "Isotrak not found\n",
      "    Range : 0 ... 2358679 =      0.000 ...  4717.358 secs\n",
      "Ready.\n",
      "Reading 0 ... 2358679  =      0.000 ...  4717.358 secs...\n"
     ]
    },
    {
     "name": "stderr",
     "output_type": "stream",
     "text": [
      "C:\\Users\\jonas\\AppData\\Local\\Temp/ipykernel_20272/3093821844.py:12: RuntimeWarning: Fiducial point nasion not found, assuming identity unknown to head transformation\n",
      "  raw.set_montage(montage)\n"
     ]
    },
    {
     "name": "stdout",
     "output_type": "stream",
     "text": [
      "Opening raw data file ./data/rawData/Participant46\\eeg_raw.fif...\n",
      "Isotrak not found\n",
      "    Range : 0 ... 2560399 =      0.000 ...  5120.798 secs\n",
      "Ready.\n",
      "Reading 0 ... 2560399  =      0.000 ...  5120.798 secs...\n"
     ]
    },
    {
     "name": "stderr",
     "output_type": "stream",
     "text": [
      "C:\\Users\\jonas\\AppData\\Local\\Temp/ipykernel_20272/3093821844.py:12: RuntimeWarning: Fiducial point nasion not found, assuming identity unknown to head transformation\n",
      "  raw.set_montage(montage)\n"
     ]
    },
    {
     "name": "stdout",
     "output_type": "stream",
     "text": [
      "Opening raw data file ./data/rawData/Participant49\\eeg_raw.fif...\n",
      "Isotrak not found\n",
      "    Range : 0 ... 2157509 =      0.000 ...  4315.018 secs\n",
      "Ready.\n",
      "Reading 0 ... 2157509  =      0.000 ...  4315.018 secs...\n"
     ]
    },
    {
     "name": "stderr",
     "output_type": "stream",
     "text": [
      "C:\\Users\\jonas\\AppData\\Local\\Temp/ipykernel_20272/3093821844.py:12: RuntimeWarning: Fiducial point nasion not found, assuming identity unknown to head transformation\n",
      "  raw.set_montage(montage)\n"
     ]
    },
    {
     "name": "stdout",
     "output_type": "stream",
     "text": [
      "Opening raw data file ./data/rawData/Participant50\\eeg_raw.fif...\n",
      "Isotrak not found\n",
      "    Range : 0 ... 2106489 =      0.000 ...  4212.978 secs\n",
      "Ready.\n",
      "Reading 0 ... 2106489  =      0.000 ...  4212.978 secs...\n"
     ]
    },
    {
     "name": "stderr",
     "output_type": "stream",
     "text": [
      "C:\\Users\\jonas\\AppData\\Local\\Temp/ipykernel_20272/3093821844.py:12: RuntimeWarning: Fiducial point nasion not found, assuming identity unknown to head transformation\n",
      "  raw.set_montage(montage)\n"
     ]
    },
    {
     "name": "stdout",
     "output_type": "stream",
     "text": [
      "Opening raw data file ./data/rawData/Participant55\\eeg_raw.fif...\n",
      "Isotrak not found\n",
      "    Range : 0 ... 2080049 =      0.000 ...  4160.098 secs\n",
      "Ready.\n",
      "Reading 0 ... 2080049  =      0.000 ...  4160.098 secs...\n"
     ]
    },
    {
     "name": "stderr",
     "output_type": "stream",
     "text": [
      "C:\\Users\\jonas\\AppData\\Local\\Temp/ipykernel_20272/3093821844.py:12: RuntimeWarning: Fiducial point nasion not found, assuming identity unknown to head transformation\n",
      "  raw.set_montage(montage)\n"
     ]
    },
    {
     "name": "stdout",
     "output_type": "stream",
     "text": [
      "Opening raw data file ./data/rawData/Participant58\\eeg_raw.fif...\n",
      "Isotrak not found\n",
      "    Range : 0 ... 2162799 =      0.000 ...  4325.598 secs\n",
      "Ready.\n",
      "Reading 0 ... 2162799  =      0.000 ...  4325.598 secs...\n"
     ]
    },
    {
     "name": "stderr",
     "output_type": "stream",
     "text": [
      "C:\\Users\\jonas\\AppData\\Local\\Temp/ipykernel_20272/3093821844.py:12: RuntimeWarning: Fiducial point nasion not found, assuming identity unknown to head transformation\n",
      "  raw.set_montage(montage)\n"
     ]
    },
    {
     "name": "stdout",
     "output_type": "stream",
     "text": [
      "Opening raw data file ./data/rawData/Participant59\\eeg_raw.fif...\n",
      "Isotrak not found\n",
      "    Range : 0 ... 2120229 =      0.000 ...  4240.458 secs\n",
      "Ready.\n",
      "Reading 0 ... 2120229  =      0.000 ...  4240.458 secs...\n"
     ]
    },
    {
     "name": "stderr",
     "output_type": "stream",
     "text": [
      "C:\\Users\\jonas\\AppData\\Local\\Temp/ipykernel_20272/3093821844.py:12: RuntimeWarning: Fiducial point nasion not found, assuming identity unknown to head transformation\n",
      "  raw.set_montage(montage)\n"
     ]
    },
    {
     "name": "stdout",
     "output_type": "stream",
     "text": [
      "Opening raw data file ./data/rawData/Participant60\\eeg_raw.fif...\n",
      "Isotrak not found\n",
      "    Range : 0 ... 2211389 =      0.000 ...  4422.778 secs\n",
      "Ready.\n",
      "Reading 0 ... 2211389  =      0.000 ...  4422.778 secs...\n"
     ]
    },
    {
     "name": "stderr",
     "output_type": "stream",
     "text": [
      "C:\\Users\\jonas\\AppData\\Local\\Temp/ipykernel_20272/3093821844.py:12: RuntimeWarning: Fiducial point nasion not found, assuming identity unknown to head transformation\n",
      "  raw.set_montage(montage)\n"
     ]
    },
    {
     "name": "stdout",
     "output_type": "stream",
     "text": [
      "Opening raw data file ./data/rawData/Participant61\\eeg_raw.fif...\n",
      "Isotrak not found\n",
      "    Range : 0 ... 2179599 =      0.000 ...  4359.198 secs\n",
      "Ready.\n",
      "Reading 0 ... 2179599  =      0.000 ...  4359.198 secs...\n"
     ]
    },
    {
     "name": "stderr",
     "output_type": "stream",
     "text": [
      "C:\\Users\\jonas\\AppData\\Local\\Temp/ipykernel_20272/3093821844.py:12: RuntimeWarning: Fiducial point nasion not found, assuming identity unknown to head transformation\n",
      "  raw.set_montage(montage)\n"
     ]
    },
    {
     "name": "stdout",
     "output_type": "stream",
     "text": [
      "Opening raw data file ./data/rawData/Participant62\\eeg_raw.fif...\n",
      "Isotrak not found\n",
      "    Range : 0 ... 2163599 =      0.000 ...  4327.198 secs\n",
      "Ready.\n",
      "Reading 0 ... 2163599  =      0.000 ...  4327.198 secs...\n"
     ]
    },
    {
     "name": "stderr",
     "output_type": "stream",
     "text": [
      "C:\\Users\\jonas\\AppData\\Local\\Temp/ipykernel_20272/3093821844.py:12: RuntimeWarning: Fiducial point nasion not found, assuming identity unknown to head transformation\n",
      "  raw.set_montage(montage)\n"
     ]
    },
    {
     "name": "stdout",
     "output_type": "stream",
     "text": [
      "Opening raw data file ./data/rawData/Participant63\\eeg_raw.fif...\n",
      "Isotrak not found\n",
      "    Range : 0 ... 2114889 =      0.000 ...  4229.778 secs\n",
      "Ready.\n",
      "Reading 0 ... 2114889  =      0.000 ...  4229.778 secs...\n"
     ]
    },
    {
     "name": "stderr",
     "output_type": "stream",
     "text": [
      "C:\\Users\\jonas\\AppData\\Local\\Temp/ipykernel_20272/3093821844.py:12: RuntimeWarning: Fiducial point nasion not found, assuming identity unknown to head transformation\n",
      "  raw.set_montage(montage)\n"
     ]
    },
    {
     "name": "stdout",
     "output_type": "stream",
     "text": [
      "Opening raw data file ./data/rawData/Participant66\\eeg_raw.fif...\n",
      "Isotrak not found\n",
      "    Range : 0 ... 1552749 =      0.000 ...  3105.498 secs\n",
      "Ready.\n",
      "Reading 0 ... 1552749  =      0.000 ...  3105.498 secs...\n"
     ]
    },
    {
     "name": "stderr",
     "output_type": "stream",
     "text": [
      "C:\\Users\\jonas\\AppData\\Local\\Temp/ipykernel_20272/3093821844.py:12: RuntimeWarning: Fiducial point nasion not found, assuming identity unknown to head transformation\n",
      "  raw.set_montage(montage)\n"
     ]
    },
    {
     "name": "stdout",
     "output_type": "stream",
     "text": [
      "Opening raw data file ./data/rawData/Participant67\\eeg_raw.fif...\n",
      "Isotrak not found\n",
      "    Range : 0 ... 2123199 =      0.000 ...  4246.398 secs\n",
      "Ready.\n",
      "Reading 0 ... 2123199  =      0.000 ...  4246.398 secs...\n"
     ]
    },
    {
     "name": "stderr",
     "output_type": "stream",
     "text": [
      "C:\\Users\\jonas\\AppData\\Local\\Temp/ipykernel_20272/3093821844.py:12: RuntimeWarning: Fiducial point nasion not found, assuming identity unknown to head transformation\n",
      "  raw.set_montage(montage)\n"
     ]
    },
    {
     "name": "stdout",
     "output_type": "stream",
     "text": [
      "Opening raw data file ./data/rawData/Participant68\\eeg_raw.fif...\n",
      "Isotrak not found\n",
      "    Range : 0 ... 1334449 =      0.000 ...  2668.898 secs\n",
      "Ready.\n",
      "Reading 0 ... 1334449  =      0.000 ...  2668.898 secs...\n"
     ]
    },
    {
     "name": "stderr",
     "output_type": "stream",
     "text": [
      "C:\\Users\\jonas\\AppData\\Local\\Temp/ipykernel_20272/3093821844.py:12: RuntimeWarning: Fiducial point nasion not found, assuming identity unknown to head transformation\n",
      "  raw.set_montage(montage)\n"
     ]
    },
    {
     "name": "stdout",
     "output_type": "stream",
     "text": [
      "Opening raw data file ./data/rawData/Participant70\\eeg_raw.fif...\n",
      "Isotrak not found\n",
      "    Range : 0 ... 2222109 =      0.000 ...  4444.218 secs\n",
      "Ready.\n",
      "Reading 0 ... 2222109  =      0.000 ...  4444.218 secs...\n"
     ]
    },
    {
     "name": "stderr",
     "output_type": "stream",
     "text": [
      "C:\\Users\\jonas\\AppData\\Local\\Temp/ipykernel_20272/3093821844.py:12: RuntimeWarning: Fiducial point nasion not found, assuming identity unknown to head transformation\n",
      "  raw.set_montage(montage)\n"
     ]
    },
    {
     "name": "stdout",
     "output_type": "stream",
     "text": [
      "Opening raw data file ./data/rawData/Participant71\\eeg_raw.fif...\n",
      "Isotrak not found\n",
      "    Range : 0 ... 1767489 =      0.000 ...  3534.978 secs\n",
      "Ready.\n",
      "Reading 0 ... 1767489  =      0.000 ...  3534.978 secs...\n"
     ]
    },
    {
     "name": "stderr",
     "output_type": "stream",
     "text": [
      "C:\\Users\\jonas\\AppData\\Local\\Temp/ipykernel_20272/3093821844.py:12: RuntimeWarning: Fiducial point nasion not found, assuming identity unknown to head transformation\n",
      "  raw.set_montage(montage)\n"
     ]
    }
   ],
   "source": [
    "# get all folders in data/filteredData\n",
    "folders = [f.path for f in os.scandir('./data/rawData') if f.is_dir()]\n",
    "# extract the numbers\n",
    "folders = [f.split('/')[-1] for f in folders]\n",
    "numbers = [int(re.findall(r'\\d+', f)[0]) for f in folders]\n",
    "# numbers to str with leading zeros\n",
    "numbers = [str(n).zfill(2) for n in numbers]\n",
    "\n",
    "\n",
    "\n",
    "# iterate over all folders\n",
    "for number in tqdm(numbers):\n",
    "    # construct path to folder\n",
    "    load_from = \"./data/rawData/Participant\" + number\n",
    "    save_to = \"./data/eeg_tmp/raw\"\n",
    "    file_name = \"eeg_raw\"\n",
    "    # transform file via side effect\n",
    "    convert_fif_to_set(file_name, load_from, save_to, number)\n"
   ],
   "metadata": {
    "collapsed": false,
    "pycharm": {
     "name": "#%%\n"
    }
   }
  },
  {
   "cell_type": "code",
   "execution_count": null,
   "outputs": [],
   "source": [],
   "metadata": {
    "collapsed": false,
    "pycharm": {
     "name": "#%%\n"
    }
   }
  }
 ],
 "metadata": {
  "kernelspec": {
   "display_name": "Python 3",
   "language": "python",
   "name": "python3"
  },
  "language_info": {
   "codemirror_mode": {
    "name": "ipython",
    "version": 2
   },
   "file_extension": ".py",
   "mimetype": "text/x-python",
   "name": "python",
   "nbconvert_exporter": "python",
   "pygments_lexer": "ipython2",
   "version": "2.7.6"
  }
 },
 "nbformat": 4,
 "nbformat_minor": 0
}