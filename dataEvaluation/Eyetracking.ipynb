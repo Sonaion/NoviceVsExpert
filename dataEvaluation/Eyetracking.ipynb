{
 "cells": [
  {
   "cell_type": "markdown",
   "id": "e5b0b9bc-9a85-4521-8210-9e1ef92c238c",
   "metadata": {},
   "source": [
    "<h2> Load Data</h2>"
   ]
  },
  {
   "cell_type": "code",
   "execution_count": 1,
   "id": "81dc01b0-3756-4775-a258-f1a956ae9599",
   "metadata": {},
   "outputs": [],
   "source": [
    "import os\n",
    "import warnings\n",
    "\n",
    "import ipynb.fs.full.GenSnippetsLib as snippet\n",
    "import matplotlib.image as mpimg\n",
    "\n",
    "%matplotlib qt\n",
    "import matplotlib.pyplot as plt\n",
    "import numpy as np\n",
    "import pandas as pd\n",
    "import preparers\n",
    "import seaborn as sns\n",
    "from pandas.core.common import SettingWithCopyWarning\n",
    "\n",
    "warnings.simplefilter(action=\"ignore\", category=SettingWithCopyWarning)"
   ]
  },
  {
   "cell_type": "code",
   "execution_count": 2,
   "id": "9e48d263-899b-4295-b8c4-133cb4324147",
   "metadata": {},
   "outputs": [
    {
     "name": "stdout",
     "output_type": "stream",
     "text": [
      "Loading Ackerman Files ......\n",
      "Loading BogoSort Files ......\n"
     ]
    }
   ],
   "source": [
    "data = preparers.load_queried(\n",
    "    participant_number=1,\n",
    "    snippets=[\"BogoSort\", \"Ackerman\"],\n",
    "    query_code=True,\n",
    "    query_eeg=True,\n",
    "    query_eye_tracking=True,\n",
    "    query_behavioral=True,\n",
    "    query_log=True,\n",
    "    query_meta=True,\n",
    ")"
   ]
  },
  {
   "cell_type": "markdown",
   "id": "afb574a9-b8de-4932-b508-b37033b539e2",
   "metadata": {},
   "source": [
    "<h2>potential funtion arguments</h2>"
   ]
  },
  {
   "cell_type": "code",
   "execution_count": null,
   "id": "317fad01-4bde-44ad-a2bf-0b61ab0365ad",
   "metadata": {},
   "outputs": [],
   "source": [
    "fig, ax = (None, None)\n",
    "display_width = 1920\n",
    "display_height = 1080\n",
    "image_path = \"../CodeSnippets/Generators/\" + \"BogoSort\" + \".json\"\n",
    "img, result = snippet.create_image(image_path, font_path=\"/../fonts/ttf/\")\n",
    "bg = snippet.create_background(display_width, display_height, (200, 200, 200, 255))\n",
    "img = snippet.place_image_on(bg, np.array(img), 0.5, 0.5)"
   ]
  },
  {
   "cell_type": "markdown",
   "id": "7546f4be-10cb-40fd-b1a6-e74bd84c752f",
   "metadata": {},
   "source": [
    "<h2> Prepare queried Data</h2>"
   ]
  },
  {
   "cell_type": "code",
   "execution_count": 5,
   "id": "6e789902-fa86-40ee-af55-6dfda9fc0f09",
   "metadata": {},
   "outputs": [],
   "source": [
    "df_eyetracking = data[\"BogoSort\"][\"Code\"][\"EyeTracking\"][\n",
    "    [\n",
    "        \"l_valid\",\n",
    "        \"r_valid\",\n",
    "        \"l_display_x\",\n",
    "        \"l_display_y\",\n",
    "        \"r_display_x\",\n",
    "        \"r_display_y\",\n",
    "        \"time\",\n",
    "        \"l_pupil_diameter\",\n",
    "        \"r_pupil_diameter\",\n",
    "    ]\n",
    "]\n",
    "df_eyetracking[\"l_display_x\"] = df_eyetracking[\"l_display_x\"].apply(lambda x: x * display_width)\n",
    "df_eyetracking[\"l_display_x\"] = df_eyetracking[\"l_display_x\"].astype(int)\n",
    "\n",
    "df_eyetracking[\"r_display_x\"] = df_eyetracking[\"r_display_x\"].apply(lambda x: x * display_width)\n",
    "df_eyetracking[\"r_display_x\"] = df_eyetracking[\"r_display_x\"].astype(int)\n",
    "\n",
    "df_eyetracking[\"l_display_y\"] = df_eyetracking[\"l_display_y\"].apply(lambda x: x * display_height)\n",
    "df_eyetracking[\"l_display_y\"] = df_eyetracking[\"l_display_y\"].astype(int)\n",
    "\n",
    "df_eyetracking[\"r_display_y\"] = df_eyetracking[\"r_display_y\"].apply(lambda x: x * display_height)\n",
    "df_eyetracking[\"r_display_y\"] = df_eyetracking[\"r_display_y\"].astype(int)\n",
    "\n",
    "df_eyetracking[\"time\"] = df_eyetracking[\"time\"] - df_eyetracking[\"time\"][0]"
   ]
  },
  {
   "cell_type": "markdown",
   "id": "256a6b9e-ed91-4a77-bcc7-61ed719c8f37",
   "metadata": {},
   "source": [
    "<h2> Make Heatmaps</h2>"
   ]
  },
  {
   "cell_type": "code",
   "execution_count": 6,
   "id": "0f344f7e-1e20-45b3-a13f-0df031cb4296",
   "metadata": {},
   "outputs": [],
   "source": [
    "def create_circular_mask(h, w, center=None, radius=None):\n",
    "\n",
    "    if center is None:  # use the middle of the image\n",
    "        center = (int(w / 2), int(h / 2))\n",
    "    if radius is None:  # use the smallest distance between the center and image walls\n",
    "        radius = min(center[0], center[1], w - center[0], h - center[1])\n",
    "\n",
    "    Y, X = np.ogrid[:h, :w]\n",
    "    x_low = max(center[0] - radius, 0.0)\n",
    "    x_high = min(center[0] + radius, w)\n",
    "    y_low = max(center[1] - radius, 0.0)\n",
    "    y_high = min(center[1] + radius, w)\n",
    "    X = X[:, x_low:x_high]\n",
    "    Y = Y[y_low:y_high]\n",
    "    dist_from_center = np.full([h, w], radius + 1)\n",
    "    dist_from_center[y_low:y_high, x_low:x_high] = np.sqrt((X - center[0]) ** 2 + (Y - center[1]) ** 2)\n",
    "\n",
    "    mask = dist_from_center <= radius\n",
    "    return mask\n",
    "\n",
    "\n",
    "def create_heapmap(eye_x, eye_y, eye_valid, d_time, h, w, radius=30):\n",
    "    hmap = np.full([h, w], 0.0)\n",
    "    heat = np.full([h, w], d_time)\n",
    "    for idx in range(len(eye_x)):\n",
    "        if eye_valid[idx]:\n",
    "            x = eye_x[idx]\n",
    "            y = eye_y[idx]\n",
    "            mask = create_circular_mask(h, w, (x, y), radius)\n",
    "            hmap[mask] += heat[mask]\n",
    "    return hmap"
   ]
  },
  {
   "cell_type": "code",
   "execution_count": null,
   "id": "4df1e4be-6f7d-4066-b2ec-2d9616a40aa6",
   "metadata": {},
   "outputs": [],
   "source": [
    "def apply_filter(data, kernel_width):\n",
    "    print(data)\n",
    "\n",
    "\n",
    "apply_filter(df_edf_eyetrackingking)"
   ]
  },
  {
   "cell_type": "code",
   "execution_count": 7,
   "id": "6d27dc1d-5e1c-40e9-a70c-b463c56284c8",
   "metadata": {},
   "outputs": [],
   "source": [
    "data_right = create_heapmap(\n",
    "    df_eyetracking[\"r_display_x\"],\n",
    "    df_eyetracking[\"r_display_y\"],\n",
    "    df_eyetracking[\"r_valid\"],\n",
    "    0.004,\n",
    "    display_height,\n",
    "    display_width,\n",
    ")\n",
    "data_left = create_heapmap(\n",
    "    df_eyetracking[\"l_display_x\"],\n",
    "    df_eyetracking[\"l_display_y\"],\n",
    "    df_eyetracking[\"l_valid\"],\n",
    "    0.004,\n",
    "    display_height,\n",
    "    display_width,\n",
    ")\n",
    "\n",
    "data_left = data_left / data_left.max()\n",
    "data_right = data_right / data_right.max()\n",
    "\n",
    "left_color = (1.0, 0.0, 0.0)\n",
    "right_color = (0.0, 1.0, 0.0)\n",
    "\n",
    "data_right = np.array(\n",
    "    [data_right * right_color[0], data_right * right_color[1], data_right * right_color[2], data_right]\n",
    ")\n",
    "data_right = np.moveaxis(data_right, 0, 2)\n",
    "\n",
    "data_left = np.array([data_left * left_color[0], data_left * left_color[1], data_left * left_color[2], data_left])\n",
    "data_left = np.moveaxis(data_left, 0, 2)"
   ]
  },
  {
   "cell_type": "code",
   "execution_count": 36,
   "id": "b21cb009-de86-43bf-bc49-e6587e9d7314",
   "metadata": {},
   "outputs": [],
   "source": [
    "fig, ax = plt.subplots()\n",
    "ax.imshow(data_right, zorder=2, alpha=0.5)\n",
    "ax.imshow(img, zorder=1)\n",
    "plt.show()"
   ]
  },
  {
   "cell_type": "code",
   "execution_count": 38,
   "id": "8899b60c-1612-4965-b5f7-d77fbc1ff09c",
   "metadata": {},
   "outputs": [],
   "source": [
    "fig, ax = plt.subplots()\n",
    "ax.imshow(data_left, zorder=2, alpha=0.5)\n",
    "ax.imshow(img, zorder=1)\n",
    "plt.show()"
   ]
  },
  {
   "cell_type": "code",
   "execution_count": 40,
   "id": "7df98981-ab39-42b3-a1a1-4d9e1e858d79",
   "metadata": {},
   "outputs": [],
   "source": [
    "fig, ax = plt.subplots()\n",
    "ax.imshow(data_left, zorder=2, alpha=0.5)\n",
    "ax.imshow(data_right, zorder=3, alpha=0.5)\n",
    "ax.imshow(img, zorder=1)\n",
    "plt.show()"
   ]
  },
  {
   "cell_type": "markdown",
   "id": "6e97395c-7a17-481d-87e7-865a0729ad0b",
   "metadata": {},
   "source": [
    "<h2>Make Sequence Diagrams</h2>"
   ]
  },
  {
   "cell_type": "code",
   "execution_count": 63,
   "id": "83c6ee38-5e13-49e2-ba82-155bec223c95",
   "metadata": {},
   "outputs": [],
   "source": [
    "def create_sequence_diagram(eye_y, eye_valid, h, w, offset=0, step=0.1):\n",
    "    sequence = np.full([h, w], 0.0)\n",
    "    current_x = offset\n",
    "    current = None\n",
    "    x_step = step\n",
    "\n",
    "    for idx, y in enumerate(eye_y):\n",
    "        if eye_valid[idx]:\n",
    "            current = (min(max(0, y), h - 1), current_x)\n",
    "            break\n",
    "\n",
    "    for idx, y in enumerate(eye_y):\n",
    "        if eye_valid[idx]:\n",
    "            old_x = current[1]\n",
    "            old_y = current[0]\n",
    "            next_y = min(max(0, y), h - 1)\n",
    "            next_x = min(max(0, current[1] + x_step), w - 1)\n",
    "            sequence[old_y, int(old_x) : int(next_x)] = 1.0\n",
    "            sequence[old_y:next_y, int(next_x)] = 1.0\n",
    "            sequence[next_y:old_y, int(next_x)] = 1.0\n",
    "            current = (next_y, next_x)\n",
    "\n",
    "    return sequence"
   ]
  },
  {
   "cell_type": "code",
   "execution_count": 73,
   "id": "23cc1eca-b185-4bbf-8200-537d3d00d602",
   "metadata": {},
   "outputs": [],
   "source": [
    "data_right = create_sequence_diagram(\n",
    "    df_eyetracking[\"r_display_x\"],\n",
    "    df_eyetracking[\"r_display_y\"][0],\n",
    "    df_eyetracking[\"r_valid\"][0],\n",
    "    display_height,\n",
    "    display_width,\n",
    "    offset=670,\n",
    ")\n",
    "data_right = np.array(\n",
    "    [data_right * right_color[0], data_right * right_color[1], data_right * right_color[2], data_right]\n",
    ")\n",
    "data_right = np.moveaxis(data_right, 0, 2)\n",
    "\n",
    "data_left = create_sequence_diagram(\n",
    "    df_eyetracking[\"l_display_y\"], df_eyetracking[\"l_valid\"], display_height, display_width, offset=670\n",
    ")\n",
    "data_left = np.array([data_left * left_color[0], data_left * left_color[1], data_left * left_color[2], data_left])\n",
    "data_left = np.moveaxis(data_left, 0, 2)"
   ]
  },
  {
   "cell_type": "code",
   "execution_count": 76,
   "id": "670cbc54-6e9a-4cc2-8bc9-c79ec8808eb2",
   "metadata": {},
   "outputs": [
    {
     "data": {
      "text/plain": [
       "(1080, 1920, 4)"
      ]
     },
     "execution_count": 76,
     "metadata": {},
     "output_type": "execute_result"
    }
   ],
   "source": [
    "fig, ax = plt.subplots()\n",
    "ax.imshow(data_left, zorder=2, alpha=0.5)\n",
    "ax.imshow(data_right, zorder=3, alpha=0.5)\n",
    "ax.imshow(img, zorder=1)\n",
    "plt.show()\n",
    "data_right.shape"
   ]
  },
  {
   "cell_type": "markdown",
   "id": "787cf345-6343-40af-9488-e3d9b90c57a6",
   "metadata": {},
   "source": [
    "<h2> Make marker</h2>"
   ]
  },
  {
   "cell_type": "code",
   "execution_count": 95,
   "id": "e8738df8-aba7-4581-a670-181a36335f69",
   "metadata": {},
   "outputs": [
    {
     "data": {
      "text/plain": [
       "<matplotlib.image.AxesImage at 0x1f981834d90>"
      ]
     },
     "execution_count": 95,
     "metadata": {},
     "output_type": "execute_result"
    }
   ],
   "source": [
    "def create_marker(eye_x, eye_y, eye_valid, h, w, radius=30):\n",
    "    if not eye_valid:\n",
    "        return np.full([h, w], 0.0)\n",
    "    circle_1 = create_circular_mask(h, w, (eye_x, eye_y), radius)\n",
    "    circle_2 = create_circular_mask(h, w, (eye_x, eye_y), radius - 3)\n",
    "    circle_1 = circle_1 * 1.0\n",
    "    circle_2 = circle_2 * 1.0\n",
    "    return circle_1 - circle_2\n",
    "\n",
    "\n",
    "nmb = 0\n",
    "data_right = create_marker(\n",
    "    df_eyetracking[\"r_display_x\"][nmb],\n",
    "    df_eyetracking[\"r_display_y\"][nmb],\n",
    "    df_eyetracking[\"r_valid\"][nmb],\n",
    "    display_height,\n",
    "    display_width,\n",
    ")\n",
    "data_right = np.array(\n",
    "    [data_right * right_color[0], data_right * right_color[1], data_right * right_color[2], data_right]\n",
    ")\n",
    "data_right = np.moveaxis(data_right, 0, 2)\n",
    "plt.imshow(data_right)"
   ]
  },
  {
   "cell_type": "code",
   "execution_count": 81,
   "id": "a5135900-b27a-47a0-a4fa-5182756bfedd",
   "metadata": {},
   "outputs": [
    {
     "data": {
      "text/plain": [
       "317"
      ]
     },
     "execution_count": 81,
     "metadata": {},
     "output_type": "execute_result"
    }
   ],
   "source": [
    "fig, ax = plt.subplots()\n",
    "ax.imshow(data_left, zorder=2, alpha=0.5)\n",
    "ax.imshow(data_right, zorder=3, alpha=0.5)\n",
    "ax.imshow(img, zorder=1)\n",
    "plt.show()\n",
    "data_right.shape"
   ]
  },
  {
   "cell_type": "code",
   "execution_count": null,
   "id": "856d0804-9615-4858-a1a4-4b7e82dc6331",
   "metadata": {},
   "outputs": [],
   "source": []
  }
 ],
 "metadata": {
  "kernelspec": {
   "display_name": "Python 3",
   "language": "python",
   "name": "python3"
  },
  "language_info": {
   "codemirror_mode": {
    "name": "ipython",
    "version": 3
   },
   "file_extension": ".py",
   "mimetype": "text/x-python",
   "name": "python",
   "nbconvert_exporter": "python",
   "pygments_lexer": "ipython3",
   "version": "3.8.8"
  }
 },
 "nbformat": 4,
 "nbformat_minor": 5
}
