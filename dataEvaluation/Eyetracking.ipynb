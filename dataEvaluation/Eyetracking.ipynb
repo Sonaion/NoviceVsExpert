{
 "cells": [
  {
   "cell_type": "markdown",
   "id": "e5b0b9bc-9a85-4521-8210-9e1ef92c238c",
   "metadata": {},
   "source": [
    "<h2> Load Data</h2>"
   ]
  },
  {
   "cell_type": "code",
   "execution_count": 1,
   "id": "81dc01b0-3756-4775-a258-f1a956ae9599",
   "metadata": {},
   "outputs": [],
   "source": [
    "import os\n",
    "import warnings\n",
    "\n",
    "import ipynb.fs.full.GenSnippetsLib as snippet\n",
    "import matplotlib.image as mpimg\n",
    "\n",
    "%matplotlib qt\n",
    "import matplotlib.pyplot as plt\n",
    "import numpy as np\n",
    "import pandas as pd\n",
    "import preparers\n",
    "import seaborn as sns\n",
    "import sonaion_analysis as son\n",
    "from pandas.core.common import SettingWithCopyWarning\n",
    "\n",
    "warnings.simplefilter(action=\"ignore\", category=SettingWithCopyWarning)"
   ]
  },
  {
   "cell_type": "code",
   "execution_count": 2,
   "id": "9e48d263-899b-4295-b8c4-133cb4324147",
   "metadata": {},
   "outputs": [
    {
     "name": "stdout",
     "output_type": "stream",
     "text": [
      "Loading Ackerman Files ......\n",
      "Loading BogoSort Files ......\n"
     ]
    }
   ],
   "source": [
    "data = preparers.load_queried(participant_number=1, snippets=[\"BogoSort\", \"Ackerman\"], query_code=True, query_eeg=True, query_eye_tracking=True, query_behavioral=True, query_log=True, query_meta=True,)"
   ]
  },
  {
   "cell_type": "markdown",
   "id": "afb574a9-b8de-4932-b508-b37033b539e2",
   "metadata": {},
   "source": [
    "<h2>potential funtion arguments</h2>"
   ]
  },
  {
   "cell_type": "code",
   "execution_count": 3,
   "id": "317fad01-4bde-44ad-a2bf-0b61ab0365ad",
   "metadata": {},
   "outputs": [],
   "source": [
    "fig, ax = (None, None)\n",
    "denoise_degree = 10\n",
    "display_width = 1920\n",
    "display_height = 1080\n",
    "left_color = (1.0, 0.0, 0.0)\n",
    "right_color = (0.0, 1.0, 0.0)\n",
    "image_path = \"../CodeSnippets/Generators/\" + \"BogoSort\" + \".json\"\n",
    "img, result = snippet.create_image(image_path, font_path=\"/../CodeSnippets/fonts/ttf/\")\n",
    "bg = snippet.create_background(display_width, display_height, (180, 180, 180, 255))\n",
    "img = snippet.place_image_on(bg, np.array(img), 0.5, 0.5)"
   ]
  },
  {
   "cell_type": "markdown",
   "id": "7546f4be-10cb-40fd-b1a6-e74bd84c752f",
   "metadata": {},
   "source": [
    "<h2> Prepare queried Data</h2>"
   ]
  },
  {
   "cell_type": "code",
   "execution_count": 4,
   "id": "6e789902-fa86-40ee-af55-6dfda9fc0f09",
   "metadata": {},
   "outputs": [],
   "source": [
    "df_eyetracking = data[\"BogoSort\"][\"Code\"][\"EyeTracking\"][[\"l_valid\", \"r_valid\", \"l_display_x\", \"l_display_y\", \"r_display_x\", \"r_display_y\", \"time\", \"l_pupil_diameter\", \"r_pupil_diameter\",]]\n",
    "df_eyetracking[\"l_display_x\"] = df_eyetracking[\"l_display_x\"].apply(lambda x: x * display_width)\n",
    "df_eyetracking[\"l_display_x\"] = df_eyetracking[\"l_display_x\"].astype(int)\n",
    "\n",
    "df_eyetracking[\"r_display_x\"] = df_eyetracking[\"r_display_x\"].apply(lambda x: x * display_width)\n",
    "df_eyetracking[\"r_display_x\"] = df_eyetracking[\"r_display_x\"].astype(int)\n",
    "\n",
    "df_eyetracking[\"l_display_y\"] = df_eyetracking[\"l_display_y\"].apply(lambda x: x * display_height)\n",
    "df_eyetracking[\"l_display_y\"] = df_eyetracking[\"l_display_y\"].astype(int)\n",
    "\n",
    "df_eyetracking[\"r_display_y\"] = df_eyetracking[\"r_display_y\"].apply(lambda x: x * display_height)\n",
    "df_eyetracking[\"r_display_y\"] = df_eyetracking[\"r_display_y\"].astype(int)\n",
    "\n",
    "df_eyetracking[\"time\"] = df_eyetracking[\"time\"] - df_eyetracking[\"time\"][0]"
   ]
  },
  {
   "cell_type": "code",
   "execution_count": 5,
   "id": "8b59e6af-e1f3-4a70-bb18-ed34f04c8732",
   "metadata": {},
   "outputs": [
    {
     "data": {
      "text/html": [
       "<div>\n",
       "<style scoped>\n",
       "    .dataframe tbody tr th:only-of-type {\n",
       "        vertical-align: middle;\n",
       "    }\n",
       "\n",
       "    .dataframe tbody tr th {\n",
       "        vertical-align: top;\n",
       "    }\n",
       "\n",
       "    .dataframe thead th {\n",
       "        text-align: right;\n",
       "    }\n",
       "</style>\n",
       "<table border=\"1\" class=\"dataframe\">\n",
       "  <thead>\n",
       "    <tr style=\"text-align: right;\">\n",
       "      <th></th>\n",
       "      <th>l_valid</th>\n",
       "      <th>r_valid</th>\n",
       "      <th>l_display_x</th>\n",
       "      <th>l_display_y</th>\n",
       "      <th>r_display_x</th>\n",
       "      <th>r_display_y</th>\n",
       "      <th>time</th>\n",
       "      <th>l_pupil_diameter</th>\n",
       "      <th>r_pupil_diameter</th>\n",
       "    </tr>\n",
       "  </thead>\n",
       "  <tbody>\n",
       "    <tr>\n",
       "      <th>0</th>\n",
       "      <td>1</td>\n",
       "      <td>1</td>\n",
       "      <td>831</td>\n",
       "      <td>328</td>\n",
       "      <td>833</td>\n",
       "      <td>317</td>\n",
       "      <td>0.000000</td>\n",
       "      <td>3.526718</td>\n",
       "      <td>3.530930</td>\n",
       "    </tr>\n",
       "    <tr>\n",
       "      <th>1</th>\n",
       "      <td>1</td>\n",
       "      <td>1</td>\n",
       "      <td>825</td>\n",
       "      <td>317</td>\n",
       "      <td>828</td>\n",
       "      <td>309</td>\n",
       "      <td>0.004000</td>\n",
       "      <td>3.510849</td>\n",
       "      <td>3.528107</td>\n",
       "    </tr>\n",
       "    <tr>\n",
       "      <th>2</th>\n",
       "      <td>1</td>\n",
       "      <td>1</td>\n",
       "      <td>829</td>\n",
       "      <td>320</td>\n",
       "      <td>830</td>\n",
       "      <td>307</td>\n",
       "      <td>0.008000</td>\n",
       "      <td>3.513443</td>\n",
       "      <td>3.512985</td>\n",
       "    </tr>\n",
       "    <tr>\n",
       "      <th>3</th>\n",
       "      <td>1</td>\n",
       "      <td>1</td>\n",
       "      <td>836</td>\n",
       "      <td>321</td>\n",
       "      <td>834</td>\n",
       "      <td>312</td>\n",
       "      <td>0.012001</td>\n",
       "      <td>3.510406</td>\n",
       "      <td>3.534103</td>\n",
       "    </tr>\n",
       "    <tr>\n",
       "      <th>4</th>\n",
       "      <td>1</td>\n",
       "      <td>1</td>\n",
       "      <td>822</td>\n",
       "      <td>312</td>\n",
       "      <td>830</td>\n",
       "      <td>299</td>\n",
       "      <td>0.016000</td>\n",
       "      <td>3.490219</td>\n",
       "      <td>3.501907</td>\n",
       "    </tr>\n",
       "    <tr>\n",
       "      <th>...</th>\n",
       "      <td>...</td>\n",
       "      <td>...</td>\n",
       "      <td>...</td>\n",
       "      <td>...</td>\n",
       "      <td>...</td>\n",
       "      <td>...</td>\n",
       "      <td>...</td>\n",
       "      <td>...</td>\n",
       "      <td>...</td>\n",
       "    </tr>\n",
       "    <tr>\n",
       "      <th>4260</th>\n",
       "      <td>1</td>\n",
       "      <td>1</td>\n",
       "      <td>949</td>\n",
       "      <td>554</td>\n",
       "      <td>930</td>\n",
       "      <td>557</td>\n",
       "      <td>17.040607</td>\n",
       "      <td>3.313324</td>\n",
       "      <td>3.368393</td>\n",
       "    </tr>\n",
       "    <tr>\n",
       "      <th>4261</th>\n",
       "      <td>1</td>\n",
       "      <td>1</td>\n",
       "      <td>934</td>\n",
       "      <td>549</td>\n",
       "      <td>919</td>\n",
       "      <td>557</td>\n",
       "      <td>17.044607</td>\n",
       "      <td>3.319641</td>\n",
       "      <td>3.379089</td>\n",
       "    </tr>\n",
       "    <tr>\n",
       "      <th>4262</th>\n",
       "      <td>1</td>\n",
       "      <td>1</td>\n",
       "      <td>936</td>\n",
       "      <td>560</td>\n",
       "      <td>930</td>\n",
       "      <td>565</td>\n",
       "      <td>17.048607</td>\n",
       "      <td>3.348572</td>\n",
       "      <td>3.392838</td>\n",
       "    </tr>\n",
       "    <tr>\n",
       "      <th>4263</th>\n",
       "      <td>1</td>\n",
       "      <td>1</td>\n",
       "      <td>927</td>\n",
       "      <td>553</td>\n",
       "      <td>928</td>\n",
       "      <td>550</td>\n",
       "      <td>17.052607</td>\n",
       "      <td>3.316315</td>\n",
       "      <td>3.375214</td>\n",
       "    </tr>\n",
       "    <tr>\n",
       "      <th>4264</th>\n",
       "      <td>1</td>\n",
       "      <td>1</td>\n",
       "      <td>930</td>\n",
       "      <td>561</td>\n",
       "      <td>937</td>\n",
       "      <td>559</td>\n",
       "      <td>17.056607</td>\n",
       "      <td>3.320969</td>\n",
       "      <td>3.398605</td>\n",
       "    </tr>\n",
       "  </tbody>\n",
       "</table>\n",
       "<p>4265 rows × 9 columns</p>\n",
       "</div>"
      ],
      "text/plain": [
       "      l_valid  r_valid  l_display_x  l_display_y  r_display_x  r_display_y  \\\n",
       "0           1        1          831          328          833          317   \n",
       "1           1        1          825          317          828          309   \n",
       "2           1        1          829          320          830          307   \n",
       "3           1        1          836          321          834          312   \n",
       "4           1        1          822          312          830          299   \n",
       "...       ...      ...          ...          ...          ...          ...   \n",
       "4260        1        1          949          554          930          557   \n",
       "4261        1        1          934          549          919          557   \n",
       "4262        1        1          936          560          930          565   \n",
       "4263        1        1          927          553          928          550   \n",
       "4264        1        1          930          561          937          559   \n",
       "\n",
       "           time  l_pupil_diameter  r_pupil_diameter  \n",
       "0      0.000000          3.526718          3.530930  \n",
       "1      0.004000          3.510849          3.528107  \n",
       "2      0.008000          3.513443          3.512985  \n",
       "3      0.012001          3.510406          3.534103  \n",
       "4      0.016000          3.490219          3.501907  \n",
       "...         ...               ...               ...  \n",
       "4260  17.040607          3.313324          3.368393  \n",
       "4261  17.044607          3.319641          3.379089  \n",
       "4262  17.048607          3.348572          3.392838  \n",
       "4263  17.052607          3.316315          3.375214  \n",
       "4264  17.056607          3.320969          3.398605  \n",
       "\n",
       "[4265 rows x 9 columns]"
      ]
     },
     "execution_count": 5,
     "metadata": {},
     "output_type": "execute_result"
    }
   ],
   "source": [
    "df_eyetracking"
   ]
  },
  {
   "cell_type": "code",
   "execution_count": 6,
   "id": "c340f040-1df5-4ba6-9376-7799f1179d92",
   "metadata": {},
   "outputs": [],
   "source": [
    "replaced_r_x, replaced_r_y, replaced_r_diameter, replaced_r_valid = son.eyetracking.preprocessing_invalid.replace_with_prev_invalid(\n",
    "    df_eyetracking[\"r_display_x\"], df_eyetracking[\"r_display_y\"], df_eyetracking[\"r_pupil_diameter\"], df_eyetracking[\"r_valid\"]\n",
    ")\n",
    "df_eyetracking[\"r_display_x\"] = replaced_r_x\n",
    "df_eyetracking[\"r_display_y\"] = replaced_r_y\n",
    "df_eyetracking[\"r_pupil_diameter\"] = replaced_r_diameter\n",
    "df_eyetracking[\"r_valid\"] = replaced_r_valid\n",
    "\n",
    "replaced_l_x, replaced_l_y, replaced_l_diameter, replaced_l_valid = son.eyetracking.preprocessing_invalid.replace_with_prev_invalid(\n",
    "    df_eyetracking[\"l_display_x\"], df_eyetracking[\"l_display_y\"], df_eyetracking[\"l_pupil_diameter\"], df_eyetracking[\"l_valid\"]\n",
    ")\n",
    "\n",
    "df_eyetracking[\"l_display_x\"] = replaced_l_x\n",
    "df_eyetracking[\"l_display_y\"] = replaced_l_y\n",
    "df_eyetracking[\"l_pupil_diameter\"] = replaced_l_diameter\n",
    "df_eyetracking[\"l_valid\"] = replaced_l_valid"
   ]
  },
  {
   "cell_type": "code",
   "execution_count": 7,
   "id": "b374d2c6-14fa-4711-9689-63b79a98a72d",
   "metadata": {},
   "outputs": [],
   "source": [
    "for _i in range(denoise_degree):\n",
    "    denoised_r_x, denoised_r_y = son.eyetracking.preprocessing_denoise.denoise(df_eyetracking[\"r_display_x\"], df_eyetracking[\"r_display_y\"], son.eyetracking.preprocessing_denoise.parabola_5_kernel)\n",
    "\n",
    "    denoised_l_x, denoised_l_y = son.eyetracking.preprocessing_denoise.denoise(df_eyetracking[\"l_display_x\"], df_eyetracking[\"l_display_y\"], son.eyetracking.preprocessing_denoise.parabola_5_kernel)\n",
    "\n",
    "    df_eyetracking[\"r_display_x\"] = denoised_r_x\n",
    "    df_eyetracking[\"r_display_y\"] = denoised_r_y\n",
    "\n",
    "    df_eyetracking[\"l_display_x\"] = denoised_l_x\n",
    "    df_eyetracking[\"l_display_y\"] = denoised_l_y"
   ]
  },
  {
   "cell_type": "markdown",
   "id": "256a6b9e-ed91-4a77-bcc7-61ed719c8f37",
   "metadata": {},
   "source": [
    "<h2> Make Heatmaps</h2>"
   ]
  },
  {
   "cell_type": "code",
   "execution_count": 8,
   "id": "6d27dc1d-5e1c-40e9-a70c-b463c56284c8",
   "metadata": {},
   "outputs": [],
   "source": [
    "def mask_function():\n",
    "    return lambda height, width, coordinate: son.utils.masks.create_circular_mask(height, width, coordinate, 30)\n",
    "\n",
    "\n",
    "data_left = son.eyetracking.heatmap.create_heatmap(df_eyetracking[\"l_display_x\"], df_eyetracking[\"l_display_y\"], df_eyetracking[\"l_valid\"], 0.004, display_width, display_height, mask_function())\n",
    "data_right = son.eyetracking.heatmap.create_heatmap(df_eyetracking[\"r_display_x\"], df_eyetracking[\"r_display_y\"], df_eyetracking[\"r_valid\"], 0.004, display_width, display_height, mask_function())\n",
    "\n",
    "data_left = data_left / data_left.max()\n",
    "data_right = data_right / data_right.max()\n",
    "\n",
    "data_right = np.array([data_right * right_color[0], data_right * right_color[1], data_right * right_color[2], data_right])\n",
    "data_right = np.moveaxis(data_right, 0, 2)\n",
    "\n",
    "data_left = np.array([data_left * left_color[0], data_left * left_color[1], data_left * left_color[2], data_left])\n",
    "data_left = np.moveaxis(data_left, 0, 2)"
   ]
  },
  {
   "cell_type": "code",
   "execution_count": 9,
   "id": "b21cb009-de86-43bf-bc49-e6587e9d7314",
   "metadata": {},
   "outputs": [],
   "source": [
    "fig, ax = plt.subplots()\n",
    "ax.imshow(data_right, zorder=2, alpha=0.5)\n",
    "ax.imshow(img, zorder=1)\n",
    "plt.show()"
   ]
  },
  {
   "cell_type": "code",
   "execution_count": 10,
   "id": "8899b60c-1612-4965-b5f7-d77fbc1ff09c",
   "metadata": {},
   "outputs": [],
   "source": [
    "fig, ax = plt.subplots()\n",
    "ax.imshow(data_left, zorder=2, alpha=0.5)\n",
    "ax.imshow(img, zorder=1)\n",
    "plt.show()"
   ]
  },
  {
   "cell_type": "code",
   "execution_count": 11,
   "id": "7df98981-ab39-42b3-a1a1-4d9e1e858d79",
   "metadata": {},
   "outputs": [],
   "source": [
    "fig, ax = plt.subplots()\n",
    "ax.imshow(data_left, zorder=2, alpha=0.5)\n",
    "ax.imshow(data_right, zorder=3, alpha=0.5)\n",
    "ax.imshow(img, zorder=1)\n",
    "plt.show()"
   ]
  },
  {
   "cell_type": "markdown",
   "id": "6e97395c-7a17-481d-87e7-865a0729ad0b",
   "metadata": {},
   "source": [
    "<h2>Make Sequence Diagrams</h2>"
   ]
  },
  {
   "cell_type": "code",
   "execution_count": 12,
   "id": "9a0df752-3bfa-4644-b210-ddf749697115",
   "metadata": {},
   "outputs": [],
   "source": [
    "data_right = son.eyetracking.sequence.create_sequence_diagram_y(df_eyetracking[\"r_display_y\"], df_eyetracking[\"r_valid\"], display_height, display_width, offset=670, step=0.1, should_skip=True)\n",
    "data_right = np.array([data_right * right_color[0], data_right * right_color[1], data_right * right_color[2], data_right])\n",
    "data_right = np.moveaxis(data_right, 0, 2)\n",
    "\n",
    "data_left = son.eyetracking.sequence.create_sequence_diagram_y(df_eyetracking[\"l_display_y\"], df_eyetracking[\"l_valid\"], display_height, display_width, offset=670, step=0.1, should_skip=False)\n",
    "data_left = np.array([data_left * left_color[0], data_left * left_color[1], data_left * left_color[2], data_left])\n",
    "data_left = np.moveaxis(data_left, 0, 2)"
   ]
  },
  {
   "cell_type": "code",
   "execution_count": 13,
   "id": "e6b0b88c-9ad1-4e9a-b8a5-db0405a861a3",
   "metadata": {},
   "outputs": [],
   "source": [
    "fig, ax = plt.subplots()\n",
    "ax.imshow(data_left, zorder=2, alpha=0.5)\n",
    "ax.imshow(data_right, zorder=3, alpha=0.5)\n",
    "ax.imshow(img, zorder=1)\n",
    "plt.show()"
   ]
  },
  {
   "cell_type": "markdown",
   "id": "787cf345-6343-40af-9488-e3d9b90c57a6",
   "metadata": {},
   "source": [
    "<h2> Make marker</h2>"
   ]
  },
  {
   "cell_type": "code",
   "execution_count": 14,
   "id": "e8738df8-aba7-4581-a670-181a36335f69",
   "metadata": {},
   "outputs": [],
   "source": [
    "nmb = 0\n",
    "data_right = son.eyetracking.field_of_view.create_field_of_view_image(df_eyetracking[\"r_display_x\"][nmb], df_eyetracking[\"r_display_y\"][nmb], display_height, display_width, 32, 30, son.utils.masks.create_circular_mask)\n",
    "data_right = np.array([data_right * right_color[0], data_right * right_color[1], data_right * right_color[2], data_right])\n",
    "data_right = np.moveaxis(data_right, 0, 2)\n",
    "\n",
    "data_left = son.eyetracking.field_of_view.create_field_of_view_image(df_eyetracking[\"r_display_x\"][nmb], df_eyetracking[\"r_display_y\"][nmb], display_height, display_width, 32, 30, son.utils.masks.create_circular_mask)\n",
    "data_left = np.array([data_left * left_color[0], data_left * left_color[1], data_left * left_color[2], data_left])\n",
    "data_left = np.moveaxis(data_left, 0, 2)"
   ]
  },
  {
   "cell_type": "code",
   "execution_count": 15,
   "id": "4633ff74-7be9-4a06-b90b-4a22cf01993d",
   "metadata": {},
   "outputs": [],
   "source": [
    "fig, ax = plt.subplots()\n",
    "ax.imshow(data_left, zorder=2, alpha=0.5)\n",
    "ax.imshow(data_right, zorder=3, alpha=0.5)\n",
    "ax.imshow(img, zorder=1)\n",
    "plt.show()"
   ]
  },
  {
   "cell_type": "markdown",
   "id": "fe5f01d6-c880-4413-a395-9c155c9b26f3",
   "metadata": {},
   "source": [
    "<h2>Fixxations and Saccades</h2>"
   ]
  },
  {
   "cell_type": "code",
   "execution_count": 16,
   "id": "ac903cbe-c37f-453a-b20f-2a2ae1ea2c49",
   "metadata": {},
   "outputs": [],
   "source": [
    "treshhold = 2000.0\n",
    "d_time = 0.004\n",
    "\n",
    "right_saccades_color = (1.0, 0.0, 1.0)\n",
    "right_fixxation_color = (0.0, 1.0, 0.0)\n",
    "saccades_r = son.eyetracking.metrics.classify_saccades(df_eyetracking[\"r_display_x\"], df_eyetracking[\"r_display_y\"], d_time, treshhold)\n",
    "saccades_r[0] = saccades_r[1]\n",
    "fixxation_r = son.eyetracking.metrics.classify_fixxation(df_eyetracking[\"r_display_x\"], df_eyetracking[\"r_display_y\"], d_time, treshhold)\n",
    "fixxation_r[0] = fixxation_r[1]\n",
    "\n",
    "saccades_r = np.array(saccades_r)\n",
    "fixxation_r = np.array(fixxation_r)\n",
    "classificator_right = np.add(saccades_r, np.multiply(fixxation_r, 2))\n",
    "\n",
    "\n",
    "left_saccades_color = (0.0, 1.0, 1.0)\n",
    "left_fixxation_color = (1.0, 0.0, 0.0)\n",
    "saccades_l = son.eyetracking.metrics.classify_saccades(df_eyetracking[\"l_display_x\"], df_eyetracking[\"l_display_y\"], d_time, treshhold)\n",
    "saccades_l[0] = saccades_l[1]\n",
    "fixxation_l = son.eyetracking.metrics.classify_fixxation(df_eyetracking[\"l_display_x\"], df_eyetracking[\"l_display_y\"], d_time, treshhold)\n",
    "fixxation_l[0] = fixxation_l[1]\n",
    "\n",
    "saccades_l = np.array(saccades_l)\n",
    "fixxation_l = np.array(fixxation_l)\n",
    "classificator_left = np.add(saccades_l, np.multiply(fixxation_l, 2))"
   ]
  },
  {
   "cell_type": "markdown",
   "id": "ad7f904f-b372-47de-ab7c-20a788c437e9",
   "metadata": {},
   "source": [
    "<h2> Create Fixxation Map</h2>"
   ]
  },
  {
   "cell_type": "code",
   "execution_count": 17,
   "id": "856d0804-9615-4858-a1a4-4b7e82dc6331",
   "metadata": {},
   "outputs": [],
   "source": [
    "data_right = son.eyetracking.sequence.create_classified_sequence_diagram_y(df_eyetracking[\"r_display_y\"], classificator_right, display_height, display_width, offset=10, step=0.1)\n",
    "\n",
    "data_right_saccades = np.array(data_right).astype(int)\n",
    "data_right_saccades[np.where(data_right_saccades == 2)] = 0\n",
    "data_right_saccades = np.array([data_right_saccades * right_saccades_color[0], data_right_saccades * right_saccades_color[1], data_right_saccades * right_saccades_color[2], data_right_saccades])\n",
    "data_right_saccades = np.moveaxis(data_right_saccades, 0, 2)\n",
    "\n",
    "data_right_fixxations = np.array(data_right).astype(int)\n",
    "data_right_fixxations[np.where(data_right_fixxations == 1)] = 0\n",
    "data_right_fixxations = data_right_fixxations / 2\n",
    "data_right_fixxations = np.array([data_right_fixxations * right_fixxation_color[0], data_right_fixxations * right_fixxation_color[1], data_right_fixxations * right_fixxation_color[2], data_right_fixxations])\n",
    "data_right_fixxations = np.moveaxis(data_right_fixxations, 0, 2)\n",
    "\n",
    "\n",
    "data_left = son.eyetracking.sequence.create_classified_sequence_diagram_y(df_eyetracking[\"l_display_y\"], classificator_left, display_height, display_width, offset=10, step=0.1)\n",
    "\n",
    "data_left_saccades = np.array(data_left).astype(int)\n",
    "data_left_saccades[np.where(data_left_saccades == 2)] = 0\n",
    "data_left_saccades = np.array([data_left_saccades * left_saccades_color[0], data_left_saccades * left_saccades_color[1], data_left_saccades * left_saccades_color[2], data_left_saccades])\n",
    "data_left_saccades = np.moveaxis(data_left_saccades, 0, 2)\n",
    "\n",
    "data_left_fixxations = np.array(data_left).astype(int)\n",
    "data_left_fixxations[np.where(data_left_fixxations == 1)] = 0\n",
    "data_left_fixxations = data_left_fixxations / 2\n",
    "data_left_fixxations = np.array([data_left_fixxations * left_fixxation_color[0], data_left_fixxations * left_fixxation_color[1], data_left_fixxations * left_fixxation_color[2], data_left_fixxations])\n",
    "data_left_fixxations = np.moveaxis(data_left_fixxations, 0, 2)"
   ]
  },
  {
   "cell_type": "code",
   "execution_count": 18,
   "id": "8ef3fd8d-0a71-4dc4-b0cb-258703617693",
   "metadata": {},
   "outputs": [],
   "source": [
    "fig, ax = plt.subplots()\n",
    "ax.imshow(data_right_fixxations, zorder=2, alpha=0.8)\n",
    "ax.imshow(data_right_saccades, zorder=2, alpha=0.8)\n",
    "ax.imshow(img, zorder=1)\n",
    "plt.show()"
   ]
  },
  {
   "cell_type": "code",
   "execution_count": 19,
   "id": "f279d714-b4b5-469b-a1d5-a5c2d3061376",
   "metadata": {},
   "outputs": [],
   "source": [
    "fig, ax = plt.subplots()\n",
    "ax.imshow(data_left_fixxations, zorder=2, alpha=0.8)\n",
    "ax.imshow(data_left_saccades, zorder=2, alpha=0.8)\n",
    "ax.imshow(img, zorder=1)\n",
    "plt.show()"
   ]
  },
  {
   "cell_type": "code",
   "execution_count": 20,
   "id": "444c54b1-2b57-41f0-8663-878515405672",
   "metadata": {},
   "outputs": [],
   "source": [
    "fig, ax = plt.subplots()\n",
    "ax.imshow(data_right_fixxations, zorder=2, alpha=0.8)\n",
    "ax.imshow(data_right_saccades, zorder=2, alpha=0.8)\n",
    "ax.imshow(data_left_fixxations, zorder=2, alpha=0.8)\n",
    "ax.imshow(data_left_saccades, zorder=2, alpha=0.8)\n",
    "ax.imshow(img, zorder=1)\n",
    "plt.show()"
   ]
  },
  {
   "cell_type": "code",
   "execution_count": 21,
   "id": "ad1586a9-fb77-4361-bdae-5fb98bb43a06",
   "metadata": {},
   "outputs": [
    {
     "name": "stdout",
     "output_type": "stream",
     "text": [
      "Left Metrics\n",
      "Saccades: Saccedes Count:  38\n",
      "Saccades: Time to first Saccade:  1.0640000000000007 s\n",
      "Saccades: Average Saccade Time:  0.024210526315788582\n",
      "Fixxation: Fixxation Count:  39\n",
      "Fixxation: Time to first Fixxation:  0.0 s\n",
      "Fixxation: Average Fixxation Time:  0.41999999999997395\n"
     ]
    }
   ],
   "source": [
    "print(\"Left Metrics\")\n",
    "print(\"Saccades: Saccedes Count: \", son.eyetracking.metrics.count_saccades(saccades_l))\n",
    "print(\"Saccades: Time to first Saccade: \", son.eyetracking.metrics.time_of_saccades(saccades_l, d_time)[0][0], \"s\")\n",
    "print(\"Saccades: Average Saccade Time: \", son.eyetracking.metrics.average_saccades_time(son.eyetracking.metrics.time_of_saccades(saccades_l, d_time)))\n",
    "print(\"Fixxation: Fixxation Count: \", son.eyetracking.metrics.count_saccades(fixxation_l))\n",
    "print(\"Fixxation: Time to first Fixxation: \", son.eyetracking.metrics.time_of_saccades(fixxation_l, d_time)[0][0], \"s\")\n",
    "print(\"Fixxation: Average Fixxation Time: \", son.eyetracking.metrics.average_saccades_time(son.eyetracking.metrics.time_of_saccades(fixxation_l, d_time)))"
   ]
  },
  {
   "cell_type": "code",
   "execution_count": 22,
   "id": "de3d2be9-f137-44e9-bb7d-cf6c97f221d7",
   "metadata": {},
   "outputs": [
    {
     "name": "stdout",
     "output_type": "stream",
     "text": [
      "Right Metrics\n",
      "Saccades: Saccedes Count:  39\n",
      "Saccades: Time to first Saccade:  1.0640000000000007 s\n",
      "Saccades: Average Saccade Time:  0.021641025641024828\n",
      "Fixxation: Fixxation Count:  40\n",
      "Fixxation: Time to first Fixxation:  0.0 s\n",
      "Fixxation: Average Fixxation Time:  0.41117948717946173\n"
     ]
    }
   ],
   "source": [
    "print(\"Right Metrics\")\n",
    "print(\"Saccades: Saccedes Count: \", son.eyetracking.metrics.count_saccades(saccades_r))\n",
    "print(\"Saccades: Time to first Saccade: \", son.eyetracking.metrics.time_of_saccades(saccades_r, d_time)[0][0], \"s\")\n",
    "print(\"Saccades: Average Saccade Time: \", son.eyetracking.metrics.average_saccades_time(son.eyetracking.metrics.time_of_saccades(saccades_r, d_time)))\n",
    "print(\"Fixxation: Fixxation Count: \", son.eyetracking.metrics.count_saccades(fixxation_r))\n",
    "print(\"Fixxation: Time to first Fixxation: \", son.eyetracking.metrics.time_of_saccades(fixxation_r, d_time)[0][0], \"s\")\n",
    "print(\"Fixxation: Average Fixxation Time: \", son.eyetracking.metrics.average_saccades_time(son.eyetracking.metrics.time_of_saccades(fixxation_r, d_time)))"
   ]
  },
  {
   "cell_type": "markdown",
   "id": "0e995b9b-e1a6-4047-ba32-d317aceeffbc",
   "metadata": {},
   "source": [
    "<h2>Fixxation Map</h2>"
   ]
  },
  {
   "cell_type": "code",
   "execution_count": 23,
   "id": "c44e1a41-141e-4394-aa09-2542924a0cdc",
   "metadata": {},
   "outputs": [],
   "source": [
    "from sonaion_analysis.utils.smallestenclosingcircle import make_circle\n",
    "\n",
    "\n",
    "def create_fixxation_map(eye_x, eye_y, fixxation_classifier):\n",
    "    points_array = []\n",
    "    currently_fixxation = False\n",
    "    current_points = []\n",
    "\n",
    "    for idx, classifier in enumerate(fixxation_classifier):\n",
    "        if classifier == 1 and currently_fixxation == False:\n",
    "            current_points = [(eye_x[idx], eye_y[idx])]\n",
    "            currently_fixxation = True\n",
    "        elif classifier == 1:\n",
    "            current_points.append((eye_x[idx], eye_y[idx]))\n",
    "        elif classifier == 0 and currently_fixxation == True:\n",
    "            points_array.append((current_points.copy(), True))\n",
    "            current_points = []\n",
    "            currently_fixxation = False\n",
    "            points_array.append(([(eye_x[idx], eye_y[idx])], False))\n",
    "        else:\n",
    "            points_array.append(([(eye_x[idx], eye_y[idx])], False))\n",
    "\n",
    "    circles = [(make_circle(points), is_fixxation) for points, is_fixxation in points_array]\n",
    "    circles = [((x, y), radius, is_fixxation) for ((x, y, radius), is_fixxation) in circles]\n",
    "\n",
    "    return circles\n",
    "\n",
    "\n",
    "def interpolate(start_color, end_color, current, max_value):\n",
    "    t = current / float(max_value)\n",
    "    r = (1.0 - t) * start_color[0] + t * end_color[0]\n",
    "    g = (1.0 - t) * start_color[1] + t * end_color[1]\n",
    "    b = (1.0 - t) * start_color[2] + t * end_color[2]\n",
    "    return (r, g, b)"
   ]
  },
  {
   "cell_type": "code",
   "execution_count": 24,
   "id": "833ab457-60c5-4de7-a693-3e22f1d16111",
   "metadata": {},
   "outputs": [],
   "source": [
    "fixxation_map_l = create_fixxation_map(df_eyetracking[\"l_display_x\"], df_eyetracking[\"l_display_y\"], fixxation_l)\n",
    "fixxation_map_r = create_fixxation_map(df_eyetracking[\"r_display_x\"], df_eyetracking[\"r_display_y\"], fixxation_r)"
   ]
  },
  {
   "cell_type": "code",
   "execution_count": 25,
   "id": "f23a4dec-8e30-4536-b9fb-3d4b6f4f90e3",
   "metadata": {},
   "outputs": [],
   "source": [
    "fig, ax = plt.subplots()\n",
    "x_val = [float(int(x)) for ((x, _), _, _) in fixxation_map_l]\n",
    "y_val = [float(int(y)) for ((_, y), _, _) in fixxation_map_l]\n",
    "\n",
    "for i in range(len(x_val) - 2):\n",
    "    ax.plot(x_val[i : i + 2], y_val[i : i + 2], \"-\", color=interpolate(left_color, (0.0, 0.0, 0.0), i, len(x_val)), zorder=2, alpha=0.6)\n",
    "\n",
    "filtered_x_val = [float(int(x)) for ((x, _), _, flag) in fixxation_map_l if flag]\n",
    "filtered_y_val = [float(int(y)) for ((_, y), _, flag) in fixxation_map_l if flag]\n",
    "ax.scatter(filtered_x_val, filtered_y_val, 30, c=[interpolate(left_color, (0.0, 0.0, 0.0), idx, len(x_val)) for idx, (_, _, flag) in enumerate(fixxation_map_l) if flag], zorder=3, alpha=0.6)\n",
    "ax.imshow(img, zorder=1)\n",
    "plt.show()"
   ]
  },
  {
   "cell_type": "code",
   "execution_count": 26,
   "id": "ed362252-c0ba-46f8-8f07-966b335ed239",
   "metadata": {},
   "outputs": [],
   "source": [
    "fig, ax = plt.subplots()\n",
    "x_val = [float(int(x)) for ((x, _), _, _) in fixxation_map_r]\n",
    "y_val = [float(int(y)) for ((_, y), _, _) in fixxation_map_r]\n",
    "\n",
    "for i in range(len(x_val) - 2):\n",
    "    ax.plot(x_val[i : i + 2], y_val[i : i + 2], \"-\", color=interpolate(right_color, (0.0, 0.0, 0.0), i, len(x_val)), zorder=2, alpha=0.6)\n",
    "\n",
    "filtered_x_val = [float(int(x)) for ((x, _), _, flag) in fixxation_map_r if flag]\n",
    "filtered_y_val = [float(int(y)) for ((_, y), _, flag) in fixxation_map_r if flag]\n",
    "ax.scatter(filtered_x_val, filtered_y_val, 30, c=[interpolate(right_color, (0.0, 0.0, 0.0), idx, len(x_val)) for idx, (_, _, flag) in enumerate(fixxation_map_r) if flag], zorder=3, alpha=0.6)\n",
    "ax.imshow(img, zorder=1)\n",
    "plt.show()"
   ]
  },
  {
   "cell_type": "code",
   "execution_count": null,
   "id": "14110e21-7cfe-472d-b1c3-e400afd4f7cc",
   "metadata": {},
   "outputs": [],
   "source": []
  }
 ],
 "metadata": {
  "kernelspec": {
   "display_name": "Python 3",
   "language": "python",
   "name": "python3"
  },
  "language_info": {
   "codemirror_mode": {
    "name": "ipython",
    "version": 3
   },
   "file_extension": ".py",
   "mimetype": "text/x-python",
   "name": "python",
   "nbconvert_exporter": "python",
   "pygments_lexer": "ipython3",
   "version": "3.8.8"
  }
 },
 "nbformat": 4,
 "nbformat_minor": 5
}
