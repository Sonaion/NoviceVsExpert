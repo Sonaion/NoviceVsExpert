{
 "cells": [
  {
   "cell_type": "code",
   "execution_count": 15,
   "id": "62d5ee16-951f-4259-adc8-3b3c53362140",
   "metadata": {},
   "outputs": [],
   "source": [
    "import os\n",
    "import warnings\n",
    "\n",
    "%matplotlib qt\n",
    "import matplotlib.pyplot as plt\n",
    "import numpy as np\n",
    "import pandas as pd\n",
    "import preparers\n",
    "import seaborn as sns\n",
    "from pandas.core.common import SettingWithCopyWarning\n",
    "\n",
    "warnings.simplefilter(action=\"ignore\", category=SettingWithCopyWarning)"
   ]
  },
  {
   "cell_type": "code",
   "execution_count": 17,
   "id": "08fe801e-8a64-4501-ade0-d893e7a95e9a",
   "metadata": {},
   "outputs": [
    {
     "name": "stdout",
     "output_type": "stream",
     "text": [
      "Loading Ackerman Files ....\n",
      "Loading BogoSort Files ....\n",
      "Loading Ackerman Files ....\n",
      "Loading BogoSort Files ....\n",
      "Loading Ackerman Files ....\n",
      "Loading BogoSort Files ....\n",
      "Loading Ackerman Files ....\n",
      "Loading BogoSort Files ....\n"
     ]
    }
   ],
   "source": [
    "behavioral_data = []\n",
    "participants = [1, 2, 3, 4]\n",
    "for participant in participants:\n",
    "    data = preparers.load_queried(\n",
    "        participant_number=participant, snippets=[\"BogoSort\", \"Ackerman\"], query_behavioral=True\n",
    "    )\n",
    "    behavioral_data.append((participant, data))"
   ]
  },
  {
   "cell_type": "code",
   "execution_count": 18,
   "id": "30cee6eb-e529-4903-853e-c2159760357e",
   "metadata": {},
   "outputs": [],
   "source": [
    "def extract_time(behavioral_data, snippet_name, kind=\"Snippet\"):\n",
    "    columns = [\"Participant\", \"Duration\"]\n",
    "    df = pd.DataFrame([], columns=columns)\n",
    "    for (number, data) in behavioral_data:\n",
    "        if snippet_name in data:\n",
    "            tmp = data[snippet_name][\"Behavioral\"]\n",
    "            start = tmp[kind + \"Start\"][0]\n",
    "            end = tmp[kind + \"Stop\"][0]\n",
    "            df_tmp = pd.DataFrame([[number, end - start]], columns=columns)\n",
    "            df = df.append(df_tmp)\n",
    "    df = df.set_index(\"Participant\")\n",
    "    return df\n",
    "\n",
    "\n",
    "def extract_response(behavioral_data, snippet_name):\n",
    "    columns = [\"Participant\", \"Response\"]\n",
    "    df = pd.DataFrame([], columns=columns)\n",
    "    for (number, data) in behavioral_data:\n",
    "        if snippet_name in data:\n",
    "            answer = data[snippet_name][\"Behavioral\"][\"ChoosenAnwer\"][0]\n",
    "            df_tmp = pd.DataFrame([[number, answer]], columns=columns)\n",
    "            df = df.append(df_tmp)\n",
    "    df = df.set_index(\"Participant\")\n",
    "    return df\n",
    "\n",
    "\n",
    "def extract_age(behavioral_data):\n",
    "    columns = [\"Participant\", \"Age\"]\n",
    "    df = pd.DataFrame([], columns=columns)\n",
    "    for (number, data) in behavioral_data:\n",
    "        if \"_Meta\" in data:\n",
    "            answer = data[\"_Meta\"][\"age\"][0]\n",
    "            df_tmp = pd.DataFrame([[number, answer]], columns=columns)\n",
    "            df = df.append(df_tmp)\n",
    "    df = df.set_index(\"Participant\")\n",
    "    return df\n",
    "\n",
    "\n",
    "def extract_sex(behavioral_data):\n",
    "    columns = [\"Participant\", \"sex\"]\n",
    "    df = pd.DataFrame([], columns=columns)\n",
    "    for (number, data) in behavioral_data:\n",
    "        if \"_Meta\" in data:\n",
    "            answer = data[\"_Meta\"][\"sex\"][0]\n",
    "            df_tmp = pd.DataFrame([[number, answer]], columns=columns)\n",
    "            df = df.append(df_tmp)\n",
    "    df = df.set_index(\"Participant\")\n",
    "    return df\n",
    "\n",
    "\n",
    "def extract_hand(behavioral_data):\n",
    "    columns = [\"Participant\", \"hand\"]\n",
    "    df = pd.DataFrame([], columns=columns)\n",
    "    for (number, data) in behavioral_data:\n",
    "        if \"_Meta\" in data:\n",
    "            answer = data[\"_Meta\"][\"hand\"][0]\n",
    "            df_tmp = pd.DataFrame([[number, answer]], columns=columns)\n",
    "            df = df.append(df_tmp)\n",
    "    df = df.set_index(\"Participant\")\n",
    "    return df\n",
    "\n",
    "\n",
    "def extract_colorblindness(behavioral_data):\n",
    "    columns = [\"Participant\", \"colorblindness\"]\n",
    "    df = pd.DataFrame([], columns=columns)\n",
    "    for (number, data) in behavioral_data:\n",
    "        if \"_Meta\" in data:\n",
    "            answer = data[\"_Meta\"][\"colorblindness\"][0]\n",
    "            df_tmp = pd.DataFrame([[number, answer]], columns=columns)\n",
    "            df = df.append(df_tmp)\n",
    "    df = df.set_index(\"Participant\")\n",
    "    return df\n",
    "\n",
    "\n",
    "def extract_concentration_difficulty(behavioral_data):\n",
    "    columns = [\"Participant\", \"concentrationDifficulty\"]\n",
    "    df = pd.DataFrame([], columns=columns)\n",
    "    for (number, data) in behavioral_data:\n",
    "        if \"_Meta\" in data:\n",
    "            answer = data[\"_Meta\"][\"concentrationDifficulty\"][0]\n",
    "            df_tmp = pd.DataFrame([[number, answer]], columns=columns)\n",
    "            df = df.append(df_tmp)\n",
    "    df = df.set_index(\"Participant\")\n",
    "    return df\n",
    "\n",
    "\n",
    "def extract_reading_difficulty(behavioral_data):\n",
    "    columns = [\"Participant\", \"readingDifficulty\"]\n",
    "    df = pd.DataFrame([], columns=columns)\n",
    "    for (number, data) in behavioral_data:\n",
    "        if \"_Meta\" in data:\n",
    "            answer = data[\"_Meta\"][\"readingDifficulty\"][0]\n",
    "            df_tmp = pd.DataFrame([[number, answer]], columns=columns)\n",
    "            df = df.append(df_tmp)\n",
    "    df = df.set_index(\"Participant\")\n",
    "    return df\n",
    "\n",
    "\n",
    "def extract_job(behavioral_data):\n",
    "    columns = [\"Participant\", \"job\"]\n",
    "    df = pd.DataFrame([], columns=columns)\n",
    "    for (number, data) in behavioral_data:\n",
    "        if \"_Meta\" in data:\n",
    "            answer = data[\"_Meta\"][\"job\"][0]\n",
    "            df_tmp = pd.DataFrame([[number, answer]], columns=columns)\n",
    "            df = df.append(df_tmp)\n",
    "    df = df.set_index(\"Participant\")\n",
    "    return df\n",
    "\n",
    "\n",
    "def extract_education(behavioral_data):\n",
    "    columns = [\"Participant\", \"education\"]\n",
    "    df = pd.DataFrame([], columns=columns)\n",
    "    for (number, data) in behavioral_data:\n",
    "        if \"_Meta\" in data:\n",
    "            answer = data[\"_Meta\"][\"education\"][0]\n",
    "            df_tmp = pd.DataFrame([[number, answer]], columns=columns)\n",
    "            df = df.append(df_tmp)\n",
    "    df = df.set_index(\"Participant\")\n",
    "    return df"
   ]
  },
  {
   "cell_type": "code",
   "execution_count": 19,
   "id": "bd72b8dc-dd3f-4b4a-8452-0ce8e6ea46f2",
   "metadata": {},
   "outputs": [
    {
     "data": {
      "text/plain": "              Duration Response  sex  Age hand colorblindness  \\\nParticipant                                                     \n1            79.191794    Right  NaN  NaN  NaN            NaN   \n2            82.274031    Right  NaN  NaN  NaN            NaN   \n3            61.165801    Right  NaN  NaN  NaN            NaN   \n4            42.370765    Right  NaN  NaN  NaN            NaN   \n\n            concentrationDifficulty readingDifficulty  job education  \nParticipant                                                           \n1                               NaN               NaN  NaN       NaN  \n2                               NaN               NaN  NaN       NaN  \n3                               NaN               NaN  NaN       NaN  \n4                               NaN               NaN  NaN       NaN  ",
      "text/html": "<div>\n<style scoped>\n    .dataframe tbody tr th:only-of-type {\n        vertical-align: middle;\n    }\n\n    .dataframe tbody tr th {\n        vertical-align: top;\n    }\n\n    .dataframe thead th {\n        text-align: right;\n    }\n</style>\n<table border=\"1\" class=\"dataframe\">\n  <thead>\n    <tr style=\"text-align: right;\">\n      <th></th>\n      <th>Duration</th>\n      <th>Response</th>\n      <th>sex</th>\n      <th>Age</th>\n      <th>hand</th>\n      <th>colorblindness</th>\n      <th>concentrationDifficulty</th>\n      <th>readingDifficulty</th>\n      <th>job</th>\n      <th>education</th>\n    </tr>\n    <tr>\n      <th>Participant</th>\n      <th></th>\n      <th></th>\n      <th></th>\n      <th></th>\n      <th></th>\n      <th></th>\n      <th></th>\n      <th></th>\n      <th></th>\n      <th></th>\n    </tr>\n  </thead>\n  <tbody>\n    <tr>\n      <th>1</th>\n      <td>79.191794</td>\n      <td>Right</td>\n      <td>NaN</td>\n      <td>NaN</td>\n      <td>NaN</td>\n      <td>NaN</td>\n      <td>NaN</td>\n      <td>NaN</td>\n      <td>NaN</td>\n      <td>NaN</td>\n    </tr>\n    <tr>\n      <th>2</th>\n      <td>82.274031</td>\n      <td>Right</td>\n      <td>NaN</td>\n      <td>NaN</td>\n      <td>NaN</td>\n      <td>NaN</td>\n      <td>NaN</td>\n      <td>NaN</td>\n      <td>NaN</td>\n      <td>NaN</td>\n    </tr>\n    <tr>\n      <th>3</th>\n      <td>61.165801</td>\n      <td>Right</td>\n      <td>NaN</td>\n      <td>NaN</td>\n      <td>NaN</td>\n      <td>NaN</td>\n      <td>NaN</td>\n      <td>NaN</td>\n      <td>NaN</td>\n      <td>NaN</td>\n    </tr>\n    <tr>\n      <th>4</th>\n      <td>42.370765</td>\n      <td>Right</td>\n      <td>NaN</td>\n      <td>NaN</td>\n      <td>NaN</td>\n      <td>NaN</td>\n      <td>NaN</td>\n      <td>NaN</td>\n      <td>NaN</td>\n      <td>NaN</td>\n    </tr>\n  </tbody>\n</table>\n</div>"
     },
     "execution_count": 19,
     "metadata": {},
     "output_type": "execute_result"
    }
   ],
   "source": [
    "df_behaviroal = extract_time(behavioral_data, \"BogoSort\", kind=\"Snippet\")\n",
    "df_behaviroal = df_behaviroal.join(extract_response(behavioral_data, \"BogoSort\"), how=\"outer\")\n",
    "df_behaviroal = df_behaviroal.join(extract_sex(behavioral_data), how=\"outer\")\n",
    "df_behaviroal = df_behaviroal.join(extract_age(behavioral_data), how=\"outer\")\n",
    "df_behaviroal = df_behaviroal.join(extract_hand(behavioral_data), how=\"outer\")\n",
    "df_behaviroal = df_behaviroal.join(extract_colorblindness(behavioral_data), how=\"outer\")\n",
    "df_behaviroal = df_behaviroal.join(extract_concentration_difficulty(behavioral_data), how=\"outer\")\n",
    "df_behaviroal = df_behaviroal.join(extract_reading_difficulty(behavioral_data), how=\"outer\")\n",
    "df_behaviroal = df_behaviroal.join(extract_job(behavioral_data), how=\"outer\")\n",
    "df_behaviroal = df_behaviroal.join(extract_education(behavioral_data), how=\"outer\")\n",
    "\n",
    "df_behaviroal"
   ]
  },
  {
   "cell_type": "code",
   "execution_count": 23,
   "outputs": [
    {
     "data": {
      "text/plain": "     0        lel\n0  lel  Algorithm\n1  lel  Algorithm\n2  lel  Algorithm\n3  lel  Algorithm\n4  lel  Algorithm\n5  lel  Algorithm\n6  lel  Algorithm\n7  lel  Algorithm\n8  lel  Algorithm\n9  lel  Algorithm",
      "text/html": "<div>\n<style scoped>\n    .dataframe tbody tr th:only-of-type {\n        vertical-align: middle;\n    }\n\n    .dataframe tbody tr th {\n        vertical-align: top;\n    }\n\n    .dataframe thead th {\n        text-align: right;\n    }\n</style>\n<table border=\"1\" class=\"dataframe\">\n  <thead>\n    <tr style=\"text-align: right;\">\n      <th></th>\n      <th>0</th>\n      <th>lel</th>\n    </tr>\n  </thead>\n  <tbody>\n    <tr>\n      <th>0</th>\n      <td>lel</td>\n      <td>Algorithm</td>\n    </tr>\n    <tr>\n      <th>1</th>\n      <td>lel</td>\n      <td>Algorithm</td>\n    </tr>\n    <tr>\n      <th>2</th>\n      <td>lel</td>\n      <td>Algorithm</td>\n    </tr>\n    <tr>\n      <th>3</th>\n      <td>lel</td>\n      <td>Algorithm</td>\n    </tr>\n    <tr>\n      <th>4</th>\n      <td>lel</td>\n      <td>Algorithm</td>\n    </tr>\n    <tr>\n      <th>5</th>\n      <td>lel</td>\n      <td>Algorithm</td>\n    </tr>\n    <tr>\n      <th>6</th>\n      <td>lel</td>\n      <td>Algorithm</td>\n    </tr>\n    <tr>\n      <th>7</th>\n      <td>lel</td>\n      <td>Algorithm</td>\n    </tr>\n    <tr>\n      <th>8</th>\n      <td>lel</td>\n      <td>Algorithm</td>\n    </tr>\n    <tr>\n      <th>9</th>\n      <td>lel</td>\n      <td>Algorithm</td>\n    </tr>\n  </tbody>\n</table>\n</div>"
     },
     "execution_count": 23,
     "metadata": {},
     "output_type": "execute_result"
    }
   ],
   "source": [
    "df_test = pd.DataFrame([[\"lel\" for i in range(10)]]).transpose()\n",
    "df_test[\"lel\"] = \"Algorithm\"\n",
    "df_test"
   ],
   "metadata": {
    "collapsed": false,
    "pycharm": {
     "name": "#%%\n"
    }
   }
  },
  {
   "cell_type": "code",
   "execution_count": 11,
   "id": "04502d83-b60a-47c7-80e9-3ef1d6a4c395",
   "metadata": {},
   "outputs": [],
   "source": [
    "def create_histoplot(data, column, ax=None, bins=\"auto\", color=None):\n",
    "    ax = sns.histplot(data[column], kde=True, ax=ax, bins=bins, color=None)\n",
    "    return ax\n",
    "\n",
    "\n",
    "def create_histoplot_on(data, column, hue, ax=None, bins=\"auto\"):\n",
    "    colors = sns.color_palette(\"bright\")[: data[hue].nunique()]\n",
    "    ax = sns.histplot(data, x=column, hue=hue, kde=True, ax=ax, bins=bins)\n",
    "    return ax\n",
    "\n",
    "\n",
    "def create_violinplot(data, column, ax=None, color=None):\n",
    "    ax = sns.violinplot(y=data[column], ax=ax, color=color)\n",
    "    return ax\n",
    "\n",
    "\n",
    "def create_violinplot_on(data, column, hue, ax=None, color=None):\n",
    "    ax = sns.violinplot(x=hue, y=column, data=df, ax=ax, color=color)\n",
    "    return ax\n",
    "\n",
    "\n",
    "def create_boxplot(data, column, ax=None, color=None):\n",
    "    ax = sns.boxplot(y=data[column], ax=ax, color=color)\n",
    "    return ax\n",
    "\n",
    "\n",
    "def create_boxplot_on(data, column, hue, ax=None, color=None):\n",
    "    ax = sns.boxplot(x=hue, y=column, data=df, ax=ax, color=color)\n",
    "    return ax"
   ]
  },
  {
   "cell_type": "code",
   "execution_count": 12,
   "id": "9cf236d4-72b3-4b4c-9791-1c9597f1f91c",
   "metadata": {},
   "outputs": [],
   "source": [
    "import random\n",
    "\n",
    "df = pd.DataFrame([], columns=[\"Duration\", \"sex\"])\n",
    "for i in range(100):\n",
    "    Duration = float(random.randint(0, 100))\n",
    "    sex = \"male\"\n",
    "    if i % 3 == 0:\n",
    "        sex = \"female\"\n",
    "    df = df.append(pd.DataFrame([[Duration, sex]], columns=[\"Duration\", \"sex\"]))\n",
    "df = df.reset_index(drop=True)\n",
    "# ax = create_histoplot_on(df, \"Duration\", \"sex\", bins=10)\n",
    "# ax = create_violinplot(df, \"Duration\")\n",
    "# ax = create_violinplot_on(df, \"Duration\", \"sex\")\n",
    "# ax = create_boxplot(df, \"Duration\")\n",
    "# ax = create_boxplot_on(df, \"Duration\", \"sex\")\n",
    "# plt.show()"
   ]
  },
  {
   "cell_type": "code",
   "execution_count": 13,
   "id": "8e2d3fa8-d92f-4f57-8e44-13818fed36bd",
   "metadata": {},
   "outputs": [
    {
     "data": {
      "text/plain": "              Duration Response  sex  Age hand colorblindness  \\\nParticipant                                                     \n1            79.191794    Right  NaN  NaN  NaN            NaN   \n2            82.274031    Right  NaN  NaN  NaN            NaN   \n3            61.165801    Right  NaN  NaN  NaN            NaN   \n4            42.370765    Right  NaN  NaN  NaN            NaN   \n\n            concentrationDifficulty readingDifficulty  job education  \nParticipant                                                           \n1                               NaN               NaN  NaN       NaN  \n2                               NaN               NaN  NaN       NaN  \n3                               NaN               NaN  NaN       NaN  \n4                               NaN               NaN  NaN       NaN  ",
      "text/html": "<div>\n<style scoped>\n    .dataframe tbody tr th:only-of-type {\n        vertical-align: middle;\n    }\n\n    .dataframe tbody tr th {\n        vertical-align: top;\n    }\n\n    .dataframe thead th {\n        text-align: right;\n    }\n</style>\n<table border=\"1\" class=\"dataframe\">\n  <thead>\n    <tr style=\"text-align: right;\">\n      <th></th>\n      <th>Duration</th>\n      <th>Response</th>\n      <th>sex</th>\n      <th>Age</th>\n      <th>hand</th>\n      <th>colorblindness</th>\n      <th>concentrationDifficulty</th>\n      <th>readingDifficulty</th>\n      <th>job</th>\n      <th>education</th>\n    </tr>\n    <tr>\n      <th>Participant</th>\n      <th></th>\n      <th></th>\n      <th></th>\n      <th></th>\n      <th></th>\n      <th></th>\n      <th></th>\n      <th></th>\n      <th></th>\n      <th></th>\n    </tr>\n  </thead>\n  <tbody>\n    <tr>\n      <th>1</th>\n      <td>79.191794</td>\n      <td>Right</td>\n      <td>NaN</td>\n      <td>NaN</td>\n      <td>NaN</td>\n      <td>NaN</td>\n      <td>NaN</td>\n      <td>NaN</td>\n      <td>NaN</td>\n      <td>NaN</td>\n    </tr>\n    <tr>\n      <th>2</th>\n      <td>82.274031</td>\n      <td>Right</td>\n      <td>NaN</td>\n      <td>NaN</td>\n      <td>NaN</td>\n      <td>NaN</td>\n      <td>NaN</td>\n      <td>NaN</td>\n      <td>NaN</td>\n      <td>NaN</td>\n    </tr>\n    <tr>\n      <th>3</th>\n      <td>61.165801</td>\n      <td>Right</td>\n      <td>NaN</td>\n      <td>NaN</td>\n      <td>NaN</td>\n      <td>NaN</td>\n      <td>NaN</td>\n      <td>NaN</td>\n      <td>NaN</td>\n      <td>NaN</td>\n    </tr>\n    <tr>\n      <th>4</th>\n      <td>42.370765</td>\n      <td>Right</td>\n      <td>NaN</td>\n      <td>NaN</td>\n      <td>NaN</td>\n      <td>NaN</td>\n      <td>NaN</td>\n      <td>NaN</td>\n      <td>NaN</td>\n      <td>NaN</td>\n    </tr>\n  </tbody>\n</table>\n</div>"
     },
     "execution_count": 13,
     "metadata": {},
     "output_type": "execute_result"
    }
   ],
   "source": [
    "df_behaviroal"
   ]
  },
  {
   "cell_type": "code",
   "execution_count": null,
   "id": "b379a6d9-764f-4e84-8d7d-627d524e867b",
   "metadata": {},
   "outputs": [],
   "source": []
  }
 ],
 "metadata": {
  "kernelspec": {
   "display_name": "Python 3",
   "language": "python",
   "name": "python3"
  },
  "language_info": {
   "codemirror_mode": {
    "name": "ipython",
    "version": 3
   },
   "file_extension": ".py",
   "mimetype": "text/x-python",
   "name": "python",
   "nbconvert_exporter": "python",
   "pygments_lexer": "ipython3",
   "version": "3.8.8"
  }
 },
 "nbformat": 4,
 "nbformat_minor": 5
}