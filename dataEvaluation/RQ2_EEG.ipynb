{
 "cells": [
  {
   "cell_type": "code",
   "execution_count": 32,
   "metadata": {
    "collapsed": true
   },
   "outputs": [],
   "source": [
    "import mne\n",
    "import numpy as np\n",
    "import scipy.signal as signal\n",
    "import pandas as pd\n",
    "import matplotlib.pyplot as plt"
   ]
  },
  {
   "cell_type": "code",
   "execution_count": 7,
   "metadata": {
    "collapsed": false,
    "pycharm": {
     "name": "#%%\n"
    }
   },
   "outputs": [
    {
     "data": {
      "text/plain": "      Participant            Algorithm  SkillScore  \\\n0               1              IsPrime    0.331385   \n1               1  SiebDesEratosthenes    0.331385   \n2               1            IsAnagram    0.331385   \n3               1     RemoveDoubleChar    0.331385   \n4               1         BinToDecimal    0.331385   \n...           ...                  ...         ...   \n1067           71          DumpSorting    0.435651   \n1068           71  BinomialCoefficient    0.435651   \n1069           71            IsAnagram    0.435651   \n1070           71         ArrayAverage    0.435651   \n1071           71              IsPrime    0.435651   \n\n                                                    EEG  \n0     ./data/filteredData/Participant01/IsPrimecode_...  \n1     ./data/filteredData/Participant01/SiebDesErato...  \n2     ./data/filteredData/Participant01/IsAnagramcod...  \n3     ./data/filteredData/Participant01/RemoveDouble...  \n4     ./data/filteredData/Participant01/BinToDecimal...  \n...                                                 ...  \n1067  ./data/filteredData/Participant71/DumpSortingc...  \n1068  ./data/filteredData/Participant71/BinomialCoef...  \n1069  ./data/filteredData/Participant71/IsAnagramcod...  \n1070  ./data/filteredData/Participant71/ArrayAverage...  \n1071  ./data/filteredData/Participant71/IsPrimecode_...  \n\n[1072 rows x 4 columns]",
      "text/html": "<div>\n<style scoped>\n    .dataframe tbody tr th:only-of-type {\n        vertical-align: middle;\n    }\n\n    .dataframe tbody tr th {\n        vertical-align: top;\n    }\n\n    .dataframe thead th {\n        text-align: right;\n    }\n</style>\n<table border=\"1\" class=\"dataframe\">\n  <thead>\n    <tr style=\"text-align: right;\">\n      <th></th>\n      <th>Participant</th>\n      <th>Algorithm</th>\n      <th>SkillScore</th>\n      <th>EEG</th>\n    </tr>\n  </thead>\n  <tbody>\n    <tr>\n      <th>0</th>\n      <td>1</td>\n      <td>IsPrime</td>\n      <td>0.331385</td>\n      <td>./data/filteredData/Participant01/IsPrimecode_...</td>\n    </tr>\n    <tr>\n      <th>1</th>\n      <td>1</td>\n      <td>SiebDesEratosthenes</td>\n      <td>0.331385</td>\n      <td>./data/filteredData/Participant01/SiebDesErato...</td>\n    </tr>\n    <tr>\n      <th>2</th>\n      <td>1</td>\n      <td>IsAnagram</td>\n      <td>0.331385</td>\n      <td>./data/filteredData/Participant01/IsAnagramcod...</td>\n    </tr>\n    <tr>\n      <th>3</th>\n      <td>1</td>\n      <td>RemoveDoubleChar</td>\n      <td>0.331385</td>\n      <td>./data/filteredData/Participant01/RemoveDouble...</td>\n    </tr>\n    <tr>\n      <th>4</th>\n      <td>1</td>\n      <td>BinToDecimal</td>\n      <td>0.331385</td>\n      <td>./data/filteredData/Participant01/BinToDecimal...</td>\n    </tr>\n    <tr>\n      <th>...</th>\n      <td>...</td>\n      <td>...</td>\n      <td>...</td>\n      <td>...</td>\n    </tr>\n    <tr>\n      <th>1067</th>\n      <td>71</td>\n      <td>DumpSorting</td>\n      <td>0.435651</td>\n      <td>./data/filteredData/Participant71/DumpSortingc...</td>\n    </tr>\n    <tr>\n      <th>1068</th>\n      <td>71</td>\n      <td>BinomialCoefficient</td>\n      <td>0.435651</td>\n      <td>./data/filteredData/Participant71/BinomialCoef...</td>\n    </tr>\n    <tr>\n      <th>1069</th>\n      <td>71</td>\n      <td>IsAnagram</td>\n      <td>0.435651</td>\n      <td>./data/filteredData/Participant71/IsAnagramcod...</td>\n    </tr>\n    <tr>\n      <th>1070</th>\n      <td>71</td>\n      <td>ArrayAverage</td>\n      <td>0.435651</td>\n      <td>./data/filteredData/Participant71/ArrayAverage...</td>\n    </tr>\n    <tr>\n      <th>1071</th>\n      <td>71</td>\n      <td>IsPrime</td>\n      <td>0.435651</td>\n      <td>./data/filteredData/Participant71/IsPrimecode_...</td>\n    </tr>\n  </tbody>\n</table>\n<p>1072 rows × 4 columns</p>\n</div>"
     },
     "execution_count": 7,
     "metadata": {},
     "output_type": "execute_result"
    }
   ],
   "source": [
    "# Load data\n",
    "df_skill = pd.read_csv(f\"./data/filteredData/filtered_data.csv\")\n",
    "df_filtered = df_skill[[\"Participant\", \"Algorithm\", \"SkillScore\", \"EEG\"]]\n",
    "df_filtered"
   ]
  },
  {
   "cell_type": "code",
   "execution_count": 33,
   "metadata": {
    "collapsed": false,
    "pycharm": {
     "name": "#%%\n"
    }
   },
   "outputs": [
    {
     "name": "stdout",
     "output_type": "stream",
     "text": [
      "Opening raw data file ./data/filteredData/Participant01/IsPrimecode_eeg_raw.fif...\n",
      "    Range : 6629 ... 12819 =     13.258 ...    25.638 secs\n",
      "Ready.\n",
      "Reading 0 ... 6190  =      0.000 ...    12.380 secs...\n",
      "Signal with one channel: (64, 6191)\n"
     ]
    },
    {
     "data": {
      "text/plain": "<Figure size 432x288 with 1 Axes>",
      "image/png": "[encoded data removed]"
     },
     "metadata": {
      "needs_background": "light"
     },
     "output_type": "display_data"
    }
   ],
   "source": [
    "def get_spectrum(data, sampling_rate, method='welch', decibel=False, resolution='auto'):\n",
    "    \"\"\"\n",
    "    Calculate amplitude or power spectrum\n",
    "\n",
    "    data: Should be of shape (n_channels, n_samples)\n",
    "    sampling_rate: Sampling rate... (float)\n",
    "    method:\n",
    "        * welch for power spectrum using Welch's method (recommended)\n",
    "        * ft for simple Fourier transform (amplitude spectrum)\n",
    "        * ps for power spectrum using a simple fourier transform\n",
    "    decibel: Convert spectrum to decibel (bool)\n",
    "    \"\"\"\n",
    "\n",
    "    axis = -1\n",
    "\n",
    "    n_channels, n_samples = data.shape\n",
    "\n",
    "    if resolution == 'auto':\n",
    "        n_frequencies = n_samples\n",
    "    elif isinstance(resolution, (int, float)):\n",
    "        n_frequencies = np.round(sampling_rate / resolution).astype('int')\n",
    "    else:\n",
    "        raise ValueError('\\'{}\\''.format(resolution))\n",
    "\n",
    "    # Spectrum\n",
    "    if method in ['ft', 'ps']:\n",
    "        # Using FFT\n",
    "        # Get (complex) spectrum\n",
    "        spec = np.fft.fft(data, n=n_frequencies, axis=axis)\n",
    "        freq = np.fft.fftfreq(n_frequencies) * sampling_rate\n",
    "\n",
    "        # Convert to real positive-sided spectrum\n",
    "        spec = np.abs(spec)\n",
    "        nyquist = 0.5 * sampling_rate\n",
    "        is_positive = np.logical_or(np.logical_and(freq >= 0, freq <= nyquist), freq == -nyquist)\n",
    "        n_pos = np.sum(is_positive)\n",
    "        is_positive = np.repeat(is_positive[np.newaxis], n_channels, axis=0)\n",
    "        spec = np.reshape(spec[is_positive], (n_channels, n_pos))\n",
    "        freq = np.abs(freq[is_positive])\n",
    "        is_double = np.logical_and(freq > 0, freq < nyquist)\n",
    "        is_double = np.repeat(is_double[np.newaxis], n_channels, axis=0)\n",
    "        spec[is_double] = 2 * spec[is_double]\n",
    "\n",
    "        if method in ['ps']:\n",
    "            # Get power spectral density\n",
    "            spec = (1 / (sampling_rate * n_frequencies)) * spec ** 2\n",
    "\n",
    "            # Convert to decibel if required\n",
    "            if decibel:\n",
    "                spec = _to_decibel(spec)\n",
    "    elif method in ['welch', 'welch_db']:\n",
    "        # Using Welch method\n",
    "        freq, spec = signal.welch(data, sampling_rate, nperseg=n_frequencies, detrend='constant', axis=axis)\n",
    "\n",
    "        # Convert to decibel if required\n",
    "        if decibel:\n",
    "            spec = _to_decibel(spec)\n",
    "    else:\n",
    "        raise RuntimeError('Unknown method \\'{}\\''.format(method))\n",
    "\n",
    "    return spec, freq\n",
    "\n",
    "\n",
    "def _to_decibel(spec):\n",
    "    return 10 * np.log10(spec)\n",
    "\n",
    "\n",
    "sampling_freq = 500.0\n",
    "first_eeg_file = df_filtered.iloc[0][\"EEG\"]\n",
    "eeg_data = mne.io.read_raw_fif(first_eeg_file, preload=True)\n",
    "eeg_data = eeg_data.get_data()\n",
    "data_ref = eeg_data - np.mean(eeg_data, axis=0)\n",
    "\n",
    "\n",
    "print('Signal with one channel:', data_ref.shape)\n",
    "\n",
    "spec, freq = get_spectrum(data_ref, sampling_freq, method='welch', decibel=False, resolution='auto')\n",
    "\n",
    "plt.plot(freq, spec.transpose())\n",
    "plt.xlabel('Frequency (Hz)')\n",
    "plt.show()"
   ]
  },
  {
   "cell_type": "code",
   "execution_count": null,
   "outputs": [],
   "source": [],
   "metadata": {
    "collapsed": false,
    "pycharm": {
     "name": "#%%\n"
    }
   }
  },
  {
   "cell_type": "code",
   "execution_count": null,
   "metadata": {
    "collapsed": false,
    "pycharm": {
     "name": "#%%\n"
    }
   },
   "outputs": [],
   "source": []
  }
 ],
 "metadata": {
  "kernelspec": {
   "display_name": "Python 3",
   "language": "python",
   "name": "python3"
  },
  "language_info": {
   "codemirror_mode": {
    "name": "ipython",
    "version": 2
   },
   "file_extension": ".py",
   "mimetype": "text/x-python",
   "name": "python",
   "nbconvert_exporter": "python",
   "pygments_lexer": "ipython2",
   "version": "2.7.6"
  }
 },
 "nbformat": 4,
 "nbformat_minor": 0
}