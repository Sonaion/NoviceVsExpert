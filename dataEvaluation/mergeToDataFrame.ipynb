{
 "cells": [
  {
   "cell_type": "markdown",
   "id": "c98ed269-7bb1-4435-bdf0-e0ebc29d8d37",
   "metadata": {},
   "source": [
    "<h1>Merge DataFrame Together To Useful Dataformat</h1>"
   ]
  },
  {
   "cell_type": "markdown",
   "id": "54a808d4-b3dc-4765-98a2-ceda88af84f7",
   "metadata": {},
   "source": [
    "<h2>Imports And Makros</h2>"
   ]
  },
  {
   "cell_type": "code",
   "execution_count": null,
   "id": "65963033-3717-4345-b9f7-e9c176a94573",
   "metadata": {},
   "outputs": [],
   "source": [
    "import os\n",
    "\n",
    "import mne\n",
    "i\n",
    "mne.set_log_level(\"WARNING\")\n",
    "\n",
    "import re\n",
    "from multiprocessing import Pool\n",
    "\n",
    "import dask.dataframe as dd\n",
    "import matplotlib.pyplot as plt\n",
    "import numpy as np\n",
    "import pandas as pd\n",
    "import swifter\n",
    "from psychopy.misc import fromFile\n",
    "\n",
    "%matplotlib widget"
   ]
  },
  {
   "cell_type": "markdown",
   "id": "663afe19-f3c5-421c-8fb1-59629e829751",
   "metadata": {},
   "source": [
    "<h2>Potential Function Arguments</h2>"
   ]
  },
  {
   "cell_type": "code",
   "execution_count": 2,
   "id": "63bf85b6-8390-4c38-9bda-8b036aaaa216",
   "metadata": {},
   "outputs": [],
   "source": [
    "participant_number = 1\n",
    "questionaire_path = \"./rawData/Questionnaire.xlsx\"\n",
    "participant_folder = \"./rawData/Participant\" + str(participant_number).zfill(2) + \"/\"\n",
    "eyetracking_path = participant_folder + \"experiment_data.csv\"\n",
    "eeg_path = participant_folder\n",
    "psychopy_csv_path = participant_folder + \"data/\"\n",
    "psychopy_log_path = participant_folder + \"data/\"\n",
    "for (dirpath, dirnames, filenames) in os.walk(psychopy_csv_path):\n",
    "    for file in filenames:\n",
    "        _file, ext = os.path.splitext(file)\n",
    "        if ext == \".csv\":\n",
    "            psychopy_csv_path += file\n",
    "        if ext == \".log\":\n",
    "            psychopy_log_path += file\n",
    "for (dirpath, dirnames, filenames) in os.walk(participant_folder):\n",
    "    for file in filenames:\n",
    "        _file, ext = os.path.splitext(file)\n",
    "        if ext == \".fif\":\n",
    "            eeg_path += file"
   ]
  },
  {
   "cell_type": "markdown",
   "id": "9bb878f5-7120-436c-9a13-9b4e3dac40b9",
   "metadata": {},
   "source": [
    "<h2>Get Data From participant 1</h2>"
   ]
  },
  {
   "cell_type": "code",
   "execution_count": 3,
   "id": "8d05edcc-757d-4bda-b24d-f51f58e0deda",
   "metadata": {},
   "outputs": [],
   "source": [
    "df_questionaire = pd.read_excel(questionaire_path)\n",
    "df_questionaire = df_questionaire.transpose()\n",
    "df_questionaire.columns = df_questionaire.iloc[0]\n",
    "df_questionaire = df_questionaire.iloc[1:]\n",
    "df_questionaire = df_questionaire.loc[participant_number]"
   ]
  },
  {
   "cell_type": "markdown",
   "id": "0a9d00d7-dc35-486b-986a-96e78f6e92e0",
   "metadata": {},
   "source": [
    "<h2>Read Eyetracking Data</h2>"
   ]
  },
  {
   "cell_type": "code",
   "execution_count": 4,
   "id": "e21b5b4c-93da-4ea7-b07a-6f8036f93760",
   "metadata": {},
   "outputs": [],
   "source": [
    "df_eyetracking = pd.read_csv(eyetracking_path, header=None, sep=\";\")"
   ]
  },
  {
   "cell_type": "code",
   "execution_count": 5,
   "id": "589a5cbe-377a-46d4-816a-b020fcbbca00",
   "metadata": {},
   "outputs": [],
   "source": [
    "three_extractor_compiled = re.compile(\"\\((.*), (.*), (.*)\\)\")\n",
    "two_extractor_compiled = re.compile(\"\\((.*), (.*)\\)\")\n",
    "\n",
    "\n",
    "def three_extractor(value):\n",
    "    pattern = three_extractor_compiled.match(value)\n",
    "    return float(pattern.group(1)), float(pattern.group(2)), float(pattern.group(3))\n",
    "\n",
    "\n",
    "def two_extractor(value):\n",
    "    pattern = two_extractor_compiled.match(value)\n",
    "    return float(pattern.group(1)), float(pattern.group(2))\n",
    "\n",
    "\n",
    "meta_type = dd.utils.make_meta(0.0)\n",
    "ddf_eyetracking = dd.from_pandas(df_eyetracking, npartitions=2)\n",
    "df_0 = pd.DataFrame(\n",
    "    ddf_eyetracking.apply(lambda x: three_extractor(x[0]), meta=meta_type, axis=1).compute().transpose().tolist(),\n",
    "    columns=[\"l_gaze_point_in_user_coordinate_system_x\", \"l_gaze_point_in_user_coordinate_system_y\", \"l_gaze_point_in_user_coordinate_system_z\"],\n",
    ")\n",
    "df_1 = pd.DataFrame(ddf_eyetracking[1].compute().transpose().tolist(), columns=[\"l_valid\"])\n",
    "df_2 = pd.DataFrame(ddf_eyetracking[2].compute().transpose().tolist(), columns=[\"r_valid\"])\n",
    "df_3 = pd.DataFrame(\n",
    "    ddf_eyetracking.apply(lambda x: three_extractor(x[3]), meta=meta_type, axis=1).compute().transpose().tolist(),\n",
    "    columns=[\"r_gaze_point_in_user_coordinate_system_x\", \"r_gaze_point_in_user_coordinate_system_y\", \"r_gaze_point_in_user_coordinate_system_z\"],\n",
    ")\n",
    "df_4 = pd.DataFrame(\n",
    "    ddf_eyetracking.apply(lambda x: three_extractor(x[4]), meta=meta_type, axis=1).compute().transpose().tolist(),\n",
    "    columns=[\"l_gaze_origin_in_user_coordinate_system_x\", \"l_gaze_origin_in_user_coordinate_system_y\", \"l_gaze_origin_in_user_coordinate_system_z\"],\n",
    ")\n",
    "df_5 = pd.DataFrame(\n",
    "    ddf_eyetracking.apply(lambda x: three_extractor(x[5]), meta=meta_type, axis=1).compute().transpose().tolist(),\n",
    "    columns=[\"r_gaze_origin_in_user_coordinate_system_x\", \"r_gaze_origin_in_user_coordinate_system_y\", \"r_gaze_origin_in_user_coordinate_system_z\"],\n",
    ")\n",
    "df_6 = pd.DataFrame(ddf_eyetracking.apply(lambda x: two_extractor(x[6]), meta=meta_type, axis=1).compute().transpose().tolist(), columns=[\"l_display_x\", \"r_display_x\"])\n",
    "df_7 = pd.DataFrame(ddf_eyetracking.apply(lambda x: two_extractor(x[7]), meta=meta_type, axis=1).compute().transpose().tolist(), columns=[\"r_display_x\", \"r_display_y\"])\n",
    "df_8 = pd.DataFrame(ddf_eyetracking[8].compute().transpose().tolist(), columns=[\"time\"])\n",
    "df_9 = pd.DataFrame(ddf_eyetracking[9].compute().transpose().tolist(), columns=[\"l_pupil_diameter\"])\n",
    "df_10 = pd.DataFrame(ddf_eyetracking[10].compute().transpose().tolist(), columns=[\"r_pupil_diameter\"])\n",
    "df_eyetracking = pd.concat([df_0, df_1, df_2, df_3, df_4, df_5, df_6, df_7, df_8, df_9, df_10], axis=1)"
   ]
  },
  {
   "cell_type": "markdown",
   "id": "8276e413-c2c3-4ddc-b332-ac5d789d5f25",
   "metadata": {},
   "source": [
    "<h2>Read EEG Data</h2>"
   ]
  },
  {
   "cell_type": "code",
   "execution_count": 6,
   "id": "91d92711-0b65-460e-9733-8a32836ad32a",
   "metadata": {},
   "outputs": [
    {
     "name": "stderr",
     "output_type": "stream",
     "text": [
      "<ipython-input-6-bea2758364fe>:26: RuntimeWarning: This filename (./rawData/Participant01/CollectedData_2021-07-29_1.fif) does not conform to MNE naming conventions. All raw files should end with raw.fif, raw_sss.fif, raw_tsss.fif, _meg.fif, _eeg.fif, _ieeg.fif, raw.fif.gz, raw_sss.fif.gz, raw_tsss.fif.gz, _meg.fif.gz, _eeg.fif.gz or _ieeg.fif.gz\n",
      "  raw = mne.io.read_raw_fif(fname=eeg_path, preload=True)\n"
     ]
    }
   ],
   "source": [
    "def rescale(data):\n",
    "    # Scaling factor (to obtain values in [V], depends on device and settings etc.)\n",
    "    scaling_factor = 7e-9\n",
    "    return scaling_factor * data\n",
    "\n",
    "\n",
    "def get_events_from_info(inst):\n",
    "    \"\"\" Helper to read events from the info field directly; specific to some of our recordings \"\"\"\n",
    "    eventsMNE = []\n",
    "    eventsFromFIF = inst.info[\"events\"]\n",
    "    for i in range(0, len(eventsFromFIF)):\n",
    "        if eventsFromFIF[i].get(\"list\") is not None:\n",
    "            content = eventsFromFIF[i].get(\"list\")\n",
    "            content_list = content.tolist()\n",
    "            content_new = [content_list[2], content_list[1], content_list[0]]\n",
    "            eventsMNE.append(content_new)\n",
    "        elif eventsFromFIF[i].get(\"channels\") is not None:\n",
    "            raise\n",
    "            # content = eventsFromFIF[i].get('channels')\n",
    "        else:\n",
    "            print(\"fiftools: Type of entry #\" + str(i + 1) + \"unkown.\")\n",
    "    eventsMNE = np.array(eventsMNE)\n",
    "    return eventsMNE\n",
    "\n",
    "\n",
    "raw = mne.io.read_raw_fif(fname=eeg_path, preload=True)\n",
    "raw.apply_function(rescale, picks=[\"eeg\"])\n",
    "\n",
    "\n",
    "# Preprocessing: Bandpass filter (0.5 to 80 Hz) and notch filter (power net frequency and harmonics)\n",
    "raw.filter(0.5, 80)\n",
    "raw.notch_filter([50, 100]);"
   ]
  },
  {
   "cell_type": "code",
   "execution_count": 7,
   "id": "cb4c85c8-cc20-4897-9ced-ab9f07b4a35d",
   "metadata": {},
   "outputs": [],
   "source": [
    "picks = raw.pick_types(eeg=True)\n",
    "data = raw.get_data(picks=[\"eeg\"])\n",
    "\n",
    "channel_names = raw.info[\"ch_names\"]\n",
    "sampling_rate = raw.info[\"sfreq\"]\n",
    "\n",
    "events = get_events_from_info(raw)\n",
    "event_ids = events[:, 2]\n",
    "\n",
    "indices_events = events[:, 0]\n",
    "t_events = event_ids / sampling_rate\n",
    "\n",
    "start_time = t_events[1]\n",
    "t_events = t_events - start_time\n",
    "\n",
    "columns = [\n",
    "    \"Snippet\",\n",
    "    \"SnippetStart\",\n",
    "    \"SnippetStop\",\n",
    "    \"InputStart\",\n",
    "    \"InputStop\",\n",
    "    \"OutputStart\",\n",
    "    \"OutputStop\",\n",
    "    \"EEG\",\n",
    "]\n",
    "df_eeg = pd.DataFrame([], columns=columns)\n",
    "for i in range(0, len(t_events)):\n",
    "    if indices_events[i] > 100:\n",
    "        continue\n",
    "    df_eeg = df_eeg.append(pd.DataFrame([[None, t_events[i + 1], t_events[i + 2], t_events[i + 2], t_events[i + 3], t_events[i + 3], None, None,]], columns=columns,))\n",
    "df_eeg = df_eeg.reset_index(drop=True)"
   ]
  },
  {
   "cell_type": "code",
   "execution_count": 8,
   "id": "69cb39c3-e9d5-493d-9081-2a54a61ae9e4",
   "metadata": {},
   "outputs": [],
   "source": [
    "#Snippet0 = raw.crop(0.0, 12.0)\n",
    "# Snippet0.plot_psd(show=False)\n",
    "#Snippet0.plot(block=True)\n",
    "# result[0].plot_psd(show=False)\n",
    "# result[0].plot(block=True)"
   ]
  },
  {
   "cell_type": "markdown",
   "id": "704db971-1bf9-40e8-853d-80c60b21b547",
   "metadata": {},
   "source": [
    "<h2>Read PsychoPy Data</h2>"
   ]
  },
  {
   "cell_type": "code",
   "execution_count": 9,
   "id": "cb303d9c-8db2-44c0-a546-f1de67c2c353",
   "metadata": {},
   "outputs": [],
   "source": [
    "def to_file_name(path):\n",
    "    file, _ext = os.path.splitext(path)\n",
    "    return file.split(\"\\\\\")[-1]\n",
    "\n",
    "\n",
    "def map_to_answer(answer):\n",
    "    if \"Right\" in answer:\n",
    "        return \"Right\"\n",
    "    if \"Wrong1\" in answer:\n",
    "        return \"Wrong1\"\n",
    "    if \"Wrong2\" in answer:\n",
    "        return \"Wrong2\"\n",
    "    if \"None\" in answer:\n",
    "        return \"Wrong3\"\n",
    "    if \"Skipped\" in answer:\n",
    "        return \"Skipped\"\n",
    "\n",
    "\n",
    "df_psydata = pd.read_csv(psychopy_csv_path)\n",
    "df_psydata = df_psydata[\n",
    "    [\"ImagePath\", \"Image.started\", \"Image.stopped\", \"InputPath\", \"image.started\", \"image.stopped\", \"ImagePathInputs\", \"image_1.started\", \"image_1.stopped\", \"ChoosenAnwer\", \"image_7.started\",]\n",
    "]\n",
    "df_psydata = df_psydata[df_psydata[\"ImagePath\"].notna()]\n",
    "df_psydata.insert(0, \"Snippet\", df_psydata[\"ImagePath\"].apply(to_file_name))\n",
    "df_psydata[\"ChoosenAnwer\"] = df_psydata[\"ChoosenAnwer\"].apply(map_to_answer)\n",
    "df_psydata = df_psydata.reset_index(drop=True)\n",
    "df_psydata = df_psydata.rename(columns={\"Image.started\": \"SnippetStart\", \"Image.stopped\": \"SnippetStop\"})\n",
    "df_psydata = df_psydata.rename(columns={\"image.started\": \"InputStart\", \"image.stopped\": \"InputStop\"})\n",
    "df_psydata = df_psydata.rename(columns={\"image_1.started\": \"OutputStart\", \"image_1.stopped\": \"OutputStop\"})\n",
    "df_psydata = df_psydata.rename(columns={\"image_7.started\": \"CrossStart\"})\n",
    "df_psydata[\"SnippetStop\"] = df_psydata[\"InputStart\"]\n",
    "df_psydata[\"InputStop\"] = df_psydata[\"OutputStart\"]\n",
    "df_psydata[\"OutputStop\"] = df_psydata[\"CrossStart\"]\n",
    "df_psydata = df_psydata.drop([\"ImagePath\", \"InputPath\", \"ImagePathInputs\", \"CrossStart\"], axis=1)\n",
    "\n",
    "start_time = df_psydata[\"SnippetStart\"][0]\n",
    "df_psydata[\"SnippetStart\"] = df_psydata[\"SnippetStart\"] - start_time\n",
    "df_psydata[\"SnippetStop\"] = df_psydata[\"SnippetStop\"] - start_time\n",
    "df_psydata[\"InputStart\"] = df_psydata[\"InputStart\"] - start_time\n",
    "df_psydata[\"InputStop\"] = df_psydata[\"InputStop\"] - start_time\n",
    "df_psydata[\"OutputStart\"] = df_psydata[\"OutputStart\"] - start_time\n",
    "df_psydata[\"OutputStop\"] = df_psydata[\"OutputStop\"] - start_time"
   ]
  },
  {
   "cell_type": "code",
   "execution_count": 10,
   "id": "76e0a316-f64b-4da8-8705-292e45edbbab",
   "metadata": {},
   "outputs": [],
   "source": [
    "df_psylog = pd.read_csv(psychopy_log_path, header=None, sep=\"\\t\")"
   ]
  },
  {
   "cell_type": "markdown",
   "id": "881629db-b5f3-44bb-9e16-b0155459dd2f",
   "metadata": {},
   "source": [
    "<h2>Bring Data Together and Groub them by Snippet</h2>"
   ]
  },
  {
   "cell_type": "code",
   "execution_count": 11,
   "id": "d9bcf48a-1b23-4c83-94f6-6c39b14fdc63",
   "metadata": {},
   "outputs": [],
   "source": [
    "# set snippet name and endtime of each snippet\n",
    "df_eeg[\"Snippet\"] = df_psydata[\"Snippet\"]\n",
    "df_eeg[\"OutputStop\"] = df_eeg[\"OutputStart\"] + df_psydata[\"OutputStop\"] - df_psydata[\"OutputStart\"]"
   ]
  },
  {
   "cell_type": "code",
   "execution_count": null,
   "id": "afc91666-0aaf-4da9-b4a2-04fdbd493319",
   "metadata": {},
   "outputs": [],
   "source": [
    "result = {}\n",
    "template = {\n",
    "    \"Code\": {\"EyeTracking\": None, \"EEG\": None, \"Log\": None, \"Time\": None,},\n",
    "    \"Input\": {\"EyeTracking\": None, \"EEG\": None, \"Log\": None, \"Time\": None,},\n",
    "    \"Output\": {\"EyeTracking\": None, \"EEG\": None, \"Log\": None, \"Time\": None,},\n",
    "}\n",
    "for index, row in df_psydata.iterrows():\n",
    "    current = template.copy()\n",
    "    current[\"Code\"][\"EyeTracking\"] = df_eyetracking"
   ]
  },
  {
   "cell_type": "code",
   "execution_count": null,
   "id": "b9f79498-4ff1-4945-9b78-114d37c46a4d",
   "metadata": {},
   "outputs": [],
   "source": [
    "df_eyetracking"
   ]
  },
  {
   "cell_type": "code",
   "execution_count": null,
   "id": "5c936c12-7670-48fe-9300-d37b2481b892",
   "metadata": {},
   "outputs": [],
   "source": []
  }
 ],
 "metadata": {
  "kernelspec": {
   "display_name": "Python 3",
   "language": "python",
   "name": "python3"
  },
  "language_info": {
   "codemirror_mode": {
    "name": "ipython",
    "version": 3
   },
   "file_extension": ".py",
   "mimetype": "text/x-python",
   "name": "python",
   "nbconvert_exporter": "python",
   "pygments_lexer": "ipython3",
   "version": "3.8.8"
  }
 },
 "nbformat": 4,
 "nbformat_minor": 5
}
