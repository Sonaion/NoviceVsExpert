{
 "cells": [
  {
   "cell_type": "markdown",
   "id": "c98ed269-7bb1-4435-bdf0-e0ebc29d8d37",
   "metadata": {},
   "source": [
    "<h1>Merge DataFrame together to useful Dataformat</h1>"
   ]
  },
  {
   "cell_type": "markdown",
   "id": "54a808d4-b3dc-4765-98a2-ceda88af84f7",
   "metadata": {},
   "source": [
    "<h2>Imports and makros</h2>"
   ]
  },
  {
   "cell_type": "code",
   "execution_count": 3,
   "id": "65963033-3717-4345-b9f7-e9c176a94573",
   "metadata": {},
   "outputs": [],
   "source": [
    "import pandas as pd\n",
    "%matplotlib widget"
   ]
  },
  {
   "cell_type": "markdown",
   "id": "663afe19-f3c5-421c-8fb1-59629e829751",
   "metadata": {},
   "source": [
    "potential function arguments"
   ]
  },
  {
   "cell_type": "code",
   "execution_count": 17,
   "id": "63bf85b6-8390-4c38-9bda-8b036aaaa216",
   "metadata": {},
   "outputs": [],
   "source": [
    "participant_number = 1\n",
    "questionaire_path = \"./rawData/Questionnaire.xlsx\""
   ]
  },
  {
   "cell_type": "code",
   "execution_count": 23,
   "id": "8d05edcc-757d-4bda-b24d-f51f58e0deda",
   "metadata": {},
   "outputs": [
    {
     "data": {
      "text/html": [
       "<div>\n",
       "<style scoped>\n",
       "    .dataframe tbody tr th:only-of-type {\n",
       "        vertical-align: middle;\n",
       "    }\n",
       "\n",
       "    .dataframe tbody tr th {\n",
       "        vertical-align: top;\n",
       "    }\n",
       "\n",
       "    .dataframe thead th {\n",
       "        text-align: right;\n",
       "    }\n",
       "</style>\n",
       "<table border=\"1\" class=\"dataframe\">\n",
       "  <thead>\n",
       "    <tr style=\"text-align: right;\">\n",
       "      <th>Frage\\Participant:</th>\n",
       "      <th>age</th>\n",
       "      <th>sex</th>\n",
       "      <th>hand</th>\n",
       "      <th>colorblindness</th>\n",
       "      <th>concentrationDifficulty</th>\n",
       "      <th>readingDifficulty</th>\n",
       "      <th>job</th>\n",
       "      <th>education</th>\n",
       "    </tr>\n",
       "  </thead>\n",
       "  <tbody>\n",
       "    <tr>\n",
       "      <th>1</th>\n",
       "      <td>27</td>\n",
       "      <td>male</td>\n",
       "      <td>right</td>\n",
       "      <td>no</td>\n",
       "      <td>1</td>\n",
       "      <td>1</td>\n",
       "      <td>Universitätsmitarbeiter</td>\n",
       "      <td>Master</td>\n",
       "    </tr>\n",
       "    <tr>\n",
       "      <th>2</th>\n",
       "      <td>26</td>\n",
       "      <td>female</td>\n",
       "      <td>right</td>\n",
       "      <td>no</td>\n",
       "      <td>1</td>\n",
       "      <td>4</td>\n",
       "      <td>StudentMaster</td>\n",
       "      <td>Bachelor</td>\n",
       "    </tr>\n",
       "    <tr>\n",
       "      <th>3</th>\n",
       "      <td>26</td>\n",
       "      <td>male</td>\n",
       "      <td>right</td>\n",
       "      <td>no</td>\n",
       "      <td>1</td>\n",
       "      <td>1</td>\n",
       "      <td>StudentMaster</td>\n",
       "      <td>Bachelor</td>\n",
       "    </tr>\n",
       "    <tr>\n",
       "      <th>4</th>\n",
       "      <td>NaN</td>\n",
       "      <td>NaN</td>\n",
       "      <td>NaN</td>\n",
       "      <td>NaN</td>\n",
       "      <td>NaN</td>\n",
       "      <td>NaN</td>\n",
       "      <td>NaN</td>\n",
       "      <td>NaN</td>\n",
       "    </tr>\n",
       "    <tr>\n",
       "      <th>5</th>\n",
       "      <td>26</td>\n",
       "      <td>male</td>\n",
       "      <td>right</td>\n",
       "      <td>no</td>\n",
       "      <td>1</td>\n",
       "      <td>1</td>\n",
       "      <td>ProfessionalSoftwareengineering</td>\n",
       "      <td>BeruflicheAusbildung</td>\n",
       "    </tr>\n",
       "  </tbody>\n",
       "</table>\n",
       "</div>"
      ],
      "text/plain": [
       "Frage\\Participant:  age     sex   hand colorblindness concentrationDifficulty  \\\n",
       "1                    27    male  right             no                       1   \n",
       "2                    26  female  right             no                       1   \n",
       "3                    26    male  right             no                       1   \n",
       "4                   NaN     NaN    NaN            NaN                     NaN   \n",
       "5                    26    male  right             no                       1   \n",
       "\n",
       "Frage\\Participant: readingDifficulty                              job  \\\n",
       "1                                  1          Universitätsmitarbeiter   \n",
       "2                                  4                    StudentMaster   \n",
       "3                                  1                    StudentMaster   \n",
       "4                                NaN                              NaN   \n",
       "5                                  1  ProfessionalSoftwareengineering   \n",
       "\n",
       "Frage\\Participant:             education  \n",
       "1                                 Master  \n",
       "2                               Bachelor  \n",
       "3                               Bachelor  \n",
       "4                                    NaN  \n",
       "5                   BeruflicheAusbildung  "
      ]
     },
     "metadata": {},
     "output_type": "display_data"
    },
    {
     "data": {
      "text/plain": [
       "Frage\\Participant:\n",
       "age                                   26\n",
       "sex                               female\n",
       "hand                               right\n",
       "colorblindness                        no\n",
       "concentrationDifficulty                1\n",
       "readingDifficulty                      4\n",
       "job                        StudentMaster\n",
       "education                       Bachelor\n",
       "Name: 2, dtype: object"
      ]
     },
     "execution_count": 23,
     "metadata": {},
     "output_type": "execute_result"
    }
   ],
   "source": [
    "df_questionaire = pd.read_excel(questionaire_path)\n",
    "df_questionaire = df_questionaire.transpose()\n",
    "df_questionaire.columns = df_questionaire.iloc[0]\n",
    "df_questionaire = df_questionaire.iloc[1:]\n",
    "display(df_questionaire)\n",
    "df_questionaire = df_questionaire.iloc[participant_number]\n",
    "df_questionaire"
   ]
  },
  {
   "cell_type": "code",
   "execution_count": null,
   "id": "d561cd59-90d9-4931-8165-cec80914c8e4",
   "metadata": {},
   "outputs": [],
   "source": []
  },
  {
   "cell_type": "code",
   "execution_count": null,
   "id": "e21b5b4c-93da-4ea7-b07a-6f8036f93760",
   "metadata": {},
   "outputs": [],
   "source": []
  },
  {
   "cell_type": "code",
   "execution_count": null,
   "id": "d6a96733-b03b-40ff-948d-8b4f827e8b2b",
   "metadata": {},
   "outputs": [],
   "source": []
  }
 ],
 "metadata": {
  "kernelspec": {
   "display_name": "Python 3",
   "language": "python",
   "name": "python3"
  },
  "language_info": {
   "codemirror_mode": {
    "name": "ipython",
    "version": 3
   },
   "file_extension": ".py",
   "mimetype": "text/x-python",
   "name": "python",
   "nbconvert_exporter": "python",
   "pygments_lexer": "ipython3",
   "version": "3.8.8"
  }
 },
 "nbformat": 4,
 "nbformat_minor": 5
}
