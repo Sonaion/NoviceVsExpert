{
 "cells": [
  {
   "cell_type": "code",
   "execution_count": 9,
   "metadata": {
    "collapsed": true,
    "pycharm": {
     "name": "#%%\n"
    }
   },
   "outputs": [],
   "source": [
    "import javalang\n",
    "import time\n",
    "import json\n",
    "import os\n",
    "from tqdm.notebook import tqdm"
   ]
  },
  {
   "cell_type": "code",
   "execution_count": 10,
   "outputs": [],
   "source": [
    "data_template = {\n",
    "    \"font-normal\" : \"JetBrainsMono-Regular.ttf\",\n",
    "    \"font-bold\" : \"JetBrainsMono-Bold.ttf\",\n",
    "    \"font-italic\" : \"JetBrainsMono-BoldItalic.ttf\",\n",
    "    \"font-bold-italic\" : \"JetBrainsMono-Italic.ttf\",\n",
    "    \"font-size\" : 14,\n",
    "    \"width-margin\" : 5,\n",
    "    \"height-margin\" : 5,\n",
    "    \"spacing\" : 1,\n",
    "    \"background-color\" : [255, 255, 255],\n",
    "}"
   ],
   "metadata": {
    "collapsed": false,
    "pycharm": {
     "name": "#%%\n"
    }
   }
  },
  {
   "cell_type": "code",
   "execution_count": 15,
   "outputs": [
    {
     "data": {
      "text/plain": "  0%|          | 0/32 [00:00<?, ?it/s]",
      "application/vnd.jupyter.widget-view+json": {
       "version_major": 2,
       "version_minor": 0,
       "model_id": "aed719c7f0c54f43bcd511afcadcce70"
      }
     },
     "metadata": {},
     "output_type": "display_data"
    }
   ],
   "source": [
    "source_folder = os.getcwd() + \"./data/Snippets\"\n",
    "generator_folder = os.getcwd() + \"./data/Generators\"\n",
    "files = [file for file in os.listdir(source_folder) if file.endswith(\".java\")]\n",
    "\n",
    "for file in tqdm(files):\n",
    "    f = open(source_folder + \"/\" + file)\n",
    "    result = \"\"\n",
    "    tokens = javalang.tokenizer.tokenize(f.read())\n",
    "    base_line = None\n",
    "    base_column = None\n",
    "    flag = True\n",
    "    for token in tokens:\n",
    "        token_name = token.__class__.__name__\n",
    "        token_value = token.value\n",
    "        token_span = token.position\n",
    "        if base_line is None:\n",
    "            base_line = token_span[0]\n",
    "        while token_span[0] > base_line:\n",
    "            base_line += 1\n",
    "            result += \"\\n\"\n",
    "            flag = True\n",
    "        if flag:\n",
    "            result += \" \" * token_span[1]\n",
    "            base_column = token_span[1]\n",
    "            flag = False\n",
    "        while token_span[1] > base_column:\n",
    "            result += \" \"\n",
    "            base_column += 1\n",
    "        result += \"[aoi={}]{}[/aoi={}]\".format(token_name, token_value, token_name)\n",
    "        #result += \"{}\".format(token_value)\n",
    "        base_column += len(token_value)\n",
    "    data = data_template.copy()\n",
    "    result = result.split(\"\\n\")\n",
    "    data[\"source-code\"] = result\n",
    "    file_data = json.dumps(data, indent=4, separators=(',', ': '))\n",
    "    file_name, ext = os.path.splitext(file)\n",
    "    # write to file\n",
    "    with open(generator_folder + \"/\" + file_name + \"_ast.json\", \"w\") as f:\n",
    "        f.write(file_data)"
   ],
   "metadata": {
    "collapsed": false,
    "pycharm": {
     "name": "#%%\n"
    }
   }
  },
  {
   "cell_type": "code",
   "execution_count": null,
   "outputs": [],
   "source": [],
   "metadata": {
    "collapsed": false,
    "pycharm": {
     "name": "#%%\n"
    }
   }
  }
 ],
 "metadata": {
  "kernelspec": {
   "display_name": "Python 3",
   "language": "python",
   "name": "python3"
  },
  "language_info": {
   "codemirror_mode": {
    "name": "ipython",
    "version": 2
   },
   "file_extension": ".py",
   "mimetype": "text/x-python",
   "name": "python",
   "nbconvert_exporter": "python",
   "pygments_lexer": "ipython2",
   "version": "2.7.6"
  }
 },
 "nbformat": 4,
 "nbformat_minor": 0
}