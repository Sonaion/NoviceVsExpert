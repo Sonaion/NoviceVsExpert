{
 "cells": [
  {
   "cell_type": "code",
   "execution_count": 1,
   "metadata": {
    "collapsed": true
   },
   "outputs": [],
   "source": [
    "import I2MC\n",
    "import pandas as pd\n",
    "import numpy as np"
   ]
  },
  {
   "cell_type": "code",
   "execution_count": 2,
   "outputs": [],
   "source": [
    "opt = dict()\n",
    "# General variables for eye-tracking data\n",
    "# maximum value of horizontal resolution in pixels\n",
    "opt['xres'] = 1920.0\n",
    "opt['yres'] = 1080.0  # maximum value of vertical resolution in pixels\n",
    "# missing value for horizontal position in eye-tracking data (example data uses -xres). used throughout\n",
    "# internal_helpers as signal for data loss\n",
    "opt['missingx'] = -opt['xres']\n",
    "# missing value for vertical position in eye-tracking data (example data uses -yres). used throughout\n",
    "# internal_helpers as signal for data loss\n",
    "opt['missingy'] = -opt['yres']\n",
    "# sampling frequency of data (check that this value matches with values actually obtained from measurement!)\n",
    "opt['freq'] = 250.0\n",
    "\n",
    "# Variables for the calculation of visual angle\n",
    "# These values are used to calculate noise measures (RMS and BCEA) of\n",
    "# fixations. The may be left as is, but don't use the noise measures then.\n",
    "# If either or both are empty, the noise measures are provided in pixels\n",
    "# instead of degrees.\n",
    "# screen size in cm\n",
    "opt['scrSz'] = [53.1, 29.8]\n",
    "# distance to screen in cm.\n",
    "opt['disttoscreen'] = 65.0\n",
    "\n",
    "# STEFFEN INTERPOLATION\n",
    "# max duration (s) of missing values for interpolation to occur\n",
    "opt['windowtimeInterp'] = 0.1\n",
    "# amount of data (number of samples) at edges needed for interpolation\n",
    "opt['edgeSampInterp'] = 2\n",
    "# maximum displacement during missing for interpolation to be possible\n",
    "opt['maxdisp'] = opt['xres'] * 0.2 * np.sqrt(2)\n",
    "\n",
    "# # K-MEANS CLUSTERING\n",
    "# time window (s) over which to calculate 2-means clustering (choose value so that max. 1 saccade can occur)\n",
    "opt['windowtime'] = 0.2\n",
    "# time window shift (s) for each iteration. Use zero for sample by sample processing\n",
    "opt['steptime'] = 0.02\n",
    "# maximum number of errors allowed in k-means clustering procedure before proceeding to next file\n",
    "opt['maxerrors'] = 100\n",
    "opt['downsamples'] = [2.0, 5.0, 10.0]\n",
    "# use chebychev filter when down sampling? 1: yes, 0: no. requires signal processing toolbox. is what matlab's\n",
    "# down sampling internal_helpers do, but could cause trouble (ringing) with the hard edges in eye-movement data\n",
    "opt['downsampFilter'] = 0\n",
    "\n",
    "# # FIXATION DETERMINATION\n",
    "# number of standard deviations above mean k-means weights will be used as fixation cutoff\n",
    "opt['cutoffstd'] = 2.0\n",
    "# number of MAD away from median fixation duration. Will be used to walk forward at fixation starts and backward at\n",
    "# fixation ends to refine their placement and stop algorithm from eating into saccades\n",
    "opt['onoffsetThresh'] = 3.0\n",
    "# maximum Euclidean distance in pixels between fixations for merging\n",
    "opt['maxMergeDist'] = 30.0\n",
    "# maximum time in ms between fixations for merging\n",
    "opt['maxMergeTime'] = 30.0\n",
    "# minimum fixation duration after merging, fixations with shorter duration are removed from output\n",
    "opt['minFixDur'] = 40.0"
   ],
   "metadata": {
    "collapsed": false,
    "pycharm": {
     "name": "#%%\n"
    }
   }
  },
  {
   "cell_type": "code",
   "execution_count": 11,
   "outputs": [
    {
     "name": "stdout",
     "output_type": "stream",
     "text": [
      "1-IsPrime: Fixation Calculation\n"
     ]
    },
    {
     "data": {
      "text/plain": "{'cutoff': 1.3492060479083539,\n 'start': array([], dtype=int32),\n 'end': array([], dtype=int32),\n 'startT': array([], dtype=float64),\n 'endT': array([], dtype=float64),\n 'dur': array([], dtype=float64),\n 'xpos': array([], dtype=float64),\n 'ypos': array([], dtype=float64),\n 'flankdataloss': array([], dtype=float64),\n 'fracinterped': array([], dtype=float64),\n 'RMSxy': array([], dtype=float64),\n 'BCEA': array([], dtype=float64),\n 'fixRangeX': array([], dtype=float64),\n 'fixRangeY': array([], dtype=float64)}"
     },
     "metadata": {},
     "output_type": "display_data"
    },
    {
     "name": "stdout",
     "output_type": "stream",
     "text": [
      "1-SiebDesEratosthenes: Fixation Calculation\n"
     ]
    },
    {
     "data": {
      "text/plain": "{'cutoff': 1.3441139990784154,\n 'start': array([], dtype=int32),\n 'end': array([], dtype=int32),\n 'startT': array([], dtype=float64),\n 'endT': array([], dtype=float64),\n 'dur': array([], dtype=float64),\n 'xpos': array([], dtype=float64),\n 'ypos': array([], dtype=float64),\n 'flankdataloss': array([], dtype=float64),\n 'fracinterped': array([], dtype=float64),\n 'RMSxy': array([], dtype=float64),\n 'BCEA': array([], dtype=float64),\n 'fixRangeX': array([], dtype=float64),\n 'fixRangeY': array([], dtype=float64)}"
     },
     "metadata": {},
     "output_type": "display_data"
    },
    {
     "name": "stdout",
     "output_type": "stream",
     "text": [
      "1-IsAnagram: Fixation Calculation\n"
     ]
    },
    {
     "data": {
      "text/plain": "{'cutoff': 1.3678339903157046,\n 'start': array([], dtype=int32),\n 'end': array([], dtype=int32),\n 'startT': array([], dtype=float64),\n 'endT': array([], dtype=float64),\n 'dur': array([], dtype=float64),\n 'xpos': array([], dtype=float64),\n 'ypos': array([], dtype=float64),\n 'flankdataloss': array([], dtype=float64),\n 'fracinterped': array([], dtype=float64),\n 'RMSxy': array([], dtype=float64),\n 'BCEA': array([], dtype=float64),\n 'fixRangeX': array([], dtype=float64),\n 'fixRangeY': array([], dtype=float64)}"
     },
     "metadata": {},
     "output_type": "display_data"
    },
    {
     "name": "stdout",
     "output_type": "stream",
     "text": [
      "1-RemoveDoubleChar: Fixation Calculation\n"
     ]
    },
    {
     "data": {
      "text/plain": "{'cutoff': 1.378821931954254,\n 'start': array([], dtype=int32),\n 'end': array([], dtype=int32),\n 'startT': array([], dtype=float64),\n 'endT': array([], dtype=float64),\n 'dur': array([], dtype=float64),\n 'xpos': array([], dtype=float64),\n 'ypos': array([], dtype=float64),\n 'flankdataloss': array([], dtype=float64),\n 'fracinterped': array([], dtype=float64),\n 'RMSxy': array([], dtype=float64),\n 'BCEA': array([], dtype=float64),\n 'fixRangeX': array([], dtype=float64),\n 'fixRangeY': array([], dtype=float64)}"
     },
     "metadata": {},
     "output_type": "display_data"
    },
    {
     "name": "stdout",
     "output_type": "stream",
     "text": [
      "1-BinToDecimal: Fixation Calculation\n"
     ]
    },
    {
     "data": {
      "text/plain": "{'cutoff': 1.4297048472025105,\n 'start': array([], dtype=int32),\n 'end': array([], dtype=int32),\n 'startT': array([], dtype=float64),\n 'endT': array([], dtype=float64),\n 'dur': array([], dtype=float64),\n 'xpos': array([], dtype=float64),\n 'ypos': array([], dtype=float64),\n 'flankdataloss': array([], dtype=float64),\n 'fracinterped': array([], dtype=float64),\n 'RMSxy': array([], dtype=float64),\n 'BCEA': array([], dtype=float64),\n 'fixRangeX': array([], dtype=float64),\n 'fixRangeY': array([], dtype=float64)}"
     },
     "metadata": {},
     "output_type": "display_data"
    },
    {
     "name": "stdout",
     "output_type": "stream",
     "text": [
      "1-PermuteString: Fixation Calculation\n"
     ]
    },
    {
     "data": {
      "text/plain": "{'cutoff': 1.3961821098430025,\n 'start': array([], dtype=int32),\n 'end': array([], dtype=int32),\n 'startT': array([], dtype=float64),\n 'endT': array([], dtype=float64),\n 'dur': array([], dtype=float64),\n 'xpos': array([], dtype=float64),\n 'ypos': array([], dtype=float64),\n 'flankdataloss': array([], dtype=float64),\n 'fracinterped': array([], dtype=float64),\n 'RMSxy': array([], dtype=float64),\n 'BCEA': array([], dtype=float64),\n 'fixRangeX': array([], dtype=float64),\n 'fixRangeY': array([], dtype=float64)}"
     },
     "metadata": {},
     "output_type": "display_data"
    },
    {
     "name": "stdout",
     "output_type": "stream",
     "text": [
      "1-Power: Fixation Calculation\n"
     ]
    },
    {
     "data": {
      "text/plain": "{'cutoff': 1.4464751308562585,\n 'start': array([], dtype=int32),\n 'end': array([], dtype=int32),\n 'startT': array([], dtype=float64),\n 'endT': array([], dtype=float64),\n 'dur': array([], dtype=float64),\n 'xpos': array([], dtype=float64),\n 'ypos': array([], dtype=float64),\n 'flankdataloss': array([], dtype=float64),\n 'fracinterped': array([], dtype=float64),\n 'RMSxy': array([], dtype=float64),\n 'BCEA': array([], dtype=float64),\n 'fixRangeX': array([], dtype=float64),\n 'fixRangeY': array([], dtype=float64)}"
     },
     "metadata": {},
     "output_type": "display_data"
    },
    {
     "name": "stdout",
     "output_type": "stream",
     "text": [
      "1-BinarySearch: Fixation Calculation\n"
     ]
    },
    {
     "ename": "KeyboardInterrupt",
     "evalue": "",
     "output_type": "error",
     "traceback": [
      "\u001B[1;31m---------------------------------------------------------------------------\u001B[0m",
      "\u001B[1;31mKeyboardInterrupt\u001B[0m                         Traceback (most recent call last)",
      "\u001B[1;32m<ipython-input-11-d55f38132fba>\u001B[0m in \u001B[0;36m<module>\u001B[1;34m\u001B[0m\n\u001B[0;32m     51\u001B[0m     \u001B[1;31m# rename columns\u001B[0m\u001B[1;33m\u001B[0m\u001B[1;33m\u001B[0m\u001B[1;33m\u001B[0m\u001B[0m\n\u001B[0;32m     52\u001B[0m     \u001B[1;32mtry\u001B[0m\u001B[1;33m:\u001B[0m\u001B[1;33m\u001B[0m\u001B[1;33m\u001B[0m\u001B[0m\n\u001B[1;32m---> 53\u001B[1;33m         \u001B[0mfix\u001B[0m\u001B[1;33m,\u001B[0m \u001B[0mdata\u001B[0m\u001B[1;33m,\u001B[0m \u001B[0mpar\u001B[0m \u001B[1;33m=\u001B[0m \u001B[0mI2MC\u001B[0m\u001B[1;33m.\u001B[0m\u001B[0mI2MC\u001B[0m\u001B[1;33m(\u001B[0m\u001B[0mdf_eyetracking\u001B[0m\u001B[1;33m,\u001B[0m \u001B[0mopt\u001B[0m\u001B[1;33m,\u001B[0m \u001B[0mlogging\u001B[0m\u001B[1;33m=\u001B[0m\u001B[1;32mFalse\u001B[0m\u001B[1;33m)\u001B[0m\u001B[1;33m\u001B[0m\u001B[1;33m\u001B[0m\u001B[0m\n\u001B[0m\u001B[0;32m     54\u001B[0m     \u001B[1;32mexcept\u001B[0m \u001B[0mException\u001B[0m \u001B[1;32mas\u001B[0m \u001B[0me\u001B[0m\u001B[1;33m:\u001B[0m\u001B[1;33m\u001B[0m\u001B[1;33m\u001B[0m\u001B[0m\n\u001B[0;32m     55\u001B[0m         \u001B[0mprint\u001B[0m\u001B[1;33m(\u001B[0m\u001B[1;34m'\\t\\tError in file {}: {}'\u001B[0m\u001B[1;33m.\u001B[0m\u001B[0mformat\u001B[0m\u001B[1;33m(\u001B[0m\u001B[0m__file__\u001B[0m\u001B[1;33m,\u001B[0m \u001B[0me\u001B[0m\u001B[1;33m)\u001B[0m\u001B[1;33m)\u001B[0m\u001B[1;33m\u001B[0m\u001B[1;33m\u001B[0m\u001B[0m\n",
      "\u001B[1;32m~\\anaconda3\\lib\\site-packages\\I2MC\\I2MC.py\u001B[0m in \u001B[0;36mI2MC\u001B[1;34m(gazeData, options, logging, logging_offset)\u001B[0m\n\u001B[0;32m   1410\u001B[0m         \u001B[1;32mif\u001B[0m \u001B[0mlogging\u001B[0m\u001B[1;33m:\u001B[0m\u001B[1;33m\u001B[0m\u001B[1;33m\u001B[0m\u001B[0m\n\u001B[0;32m   1411\u001B[0m             \u001B[0mprint\u001B[0m\u001B[1;33m(\u001B[0m\u001B[0mlogging_offset\u001B[0m \u001B[1;33m+\u001B[0m \u001B[1;34m'I2MC: 2-Means clustering started for right eye signal'\u001B[0m\u001B[1;33m)\u001B[0m\u001B[1;33m\u001B[0m\u001B[1;33m\u001B[0m\u001B[0m\n\u001B[1;32m-> 1412\u001B[1;33m         finalweights_right, stopped = twoClusterWeighting(rrx, rry, rrmissn, par['downsamples'], par['downsampFilter'],\n\u001B[0m\u001B[0;32m   1413\u001B[0m                                                           \u001B[0mpar\u001B[0m\u001B[1;33m[\u001B[0m\u001B[1;34m'chebyOrder'\u001B[0m\u001B[1;33m]\u001B[0m\u001B[1;33m,\u001B[0m \u001B[0mpar\u001B[0m\u001B[1;33m[\u001B[0m\u001B[1;34m'windowtime'\u001B[0m\u001B[1;33m]\u001B[0m\u001B[1;33m,\u001B[0m \u001B[0mpar\u001B[0m\u001B[1;33m[\u001B[0m\u001B[1;34m'steptime'\u001B[0m\u001B[1;33m]\u001B[0m\u001B[1;33m,\u001B[0m\u001B[1;33m\u001B[0m\u001B[1;33m\u001B[0m\u001B[0m\n\u001B[0;32m   1414\u001B[0m                                                           \u001B[0mpar\u001B[0m\u001B[1;33m[\u001B[0m\u001B[1;34m'freq'\u001B[0m\u001B[1;33m]\u001B[0m\u001B[1;33m,\u001B[0m \u001B[0mpar\u001B[0m\u001B[1;33m[\u001B[0m\u001B[1;34m'maxerrors'\u001B[0m\u001B[1;33m]\u001B[0m\u001B[1;33m,\u001B[0m\u001B[1;33m\u001B[0m\u001B[1;33m\u001B[0m\u001B[0m\n",
      "\u001B[1;32m~\\anaconda3\\lib\\site-packages\\I2MC\\I2MC.py\u001B[0m in \u001B[0;36mtwoClusterWeighting\u001B[1;34m(xpos, ypos, missing, downsamples, downsamp_filter, cheby_order, windowtime, steptime, freq, max_errors, logging, logging_offset)\u001B[0m\n\u001B[0;32m    769\u001B[0m         \u001B[1;32mtry\u001B[0m\u001B[1;33m:\u001B[0m\u001B[1;33m\u001B[0m\u001B[1;33m\u001B[0m\u001B[0m\n\u001B[0;32m    770\u001B[0m             \u001B[1;32mfor\u001B[0m \u001B[0mp\u001B[0m \u001B[1;32min\u001B[0m \u001B[0mrange\u001B[0m\u001B[1;33m(\u001B[0m\u001B[0mnd\u001B[0m \u001B[1;33m+\u001B[0m \u001B[1;36m1\u001B[0m\u001B[1;33m)\u001B[0m\u001B[1;33m:\u001B[0m\u001B[1;33m\u001B[0m\u001B[1;33m\u001B[0m\u001B[0m\n\u001B[1;32m--> 771\u001B[1;33m                 \u001B[0mIDL_d\u001B[0m\u001B[1;33m[\u001B[0m\u001B[0mp\u001B[0m\u001B[1;33m]\u001B[0m \u001B[1;33m=\u001B[0m \u001B[0mkmeans2\u001B[0m\u001B[1;33m(\u001B[0m\u001B[0mll_d\u001B[0m\u001B[1;33m[\u001B[0m\u001B[0mp\u001B[0m\u001B[1;33m]\u001B[0m\u001B[1;33m.\u001B[0m\u001B[0mT\u001B[0m\u001B[1;33m)\u001B[0m\u001B[1;33m[\u001B[0m\u001B[1;36m0\u001B[0m\u001B[1;33m]\u001B[0m\u001B[1;33m\u001B[0m\u001B[1;33m\u001B[0m\u001B[0m\n\u001B[0m\u001B[0;32m    772\u001B[0m         \u001B[1;32mexcept\u001B[0m \u001B[0mException\u001B[0m \u001B[1;32mas\u001B[0m \u001B[0me\u001B[0m\u001B[1;33m:\u001B[0m\u001B[1;33m\u001B[0m\u001B[1;33m\u001B[0m\u001B[0m\n\u001B[0;32m    773\u001B[0m             \u001B[1;32mif\u001B[0m \u001B[0mlogging\u001B[0m\u001B[1;33m:\u001B[0m\u001B[1;33m\u001B[0m\u001B[1;33m\u001B[0m\u001B[0m\n",
      "\u001B[1;32m~\\anaconda3\\lib\\site-packages\\I2MC\\I2MC.py\u001B[0m in \u001B[0;36mkmeans2\u001B[1;34m(data)\u001B[0m\n\u001B[0;32m    519\u001B[0m     \u001B[0mcumprobs\u001B[0m \u001B[1;33m=\u001B[0m \u001B[0mprobs\u001B[0m\u001B[1;33m.\u001B[0m\u001B[0mcumsum\u001B[0m\u001B[1;33m(\u001B[0m\u001B[1;33m)\u001B[0m\u001B[1;33m\u001B[0m\u001B[1;33m\u001B[0m\u001B[0m\n\u001B[0;32m    520\u001B[0m     \u001B[0mr\u001B[0m \u001B[1;33m=\u001B[0m \u001B[0mnp\u001B[0m\u001B[1;33m.\u001B[0m\u001B[0mrandom\u001B[0m\u001B[1;33m.\u001B[0m\u001B[0mrand\u001B[0m\u001B[1;33m(\u001B[0m\u001B[1;33m)\u001B[0m\u001B[1;33m\u001B[0m\u001B[1;33m\u001B[0m\u001B[0m\n\u001B[1;32m--> 521\u001B[1;33m     \u001B[0mC\u001B[0m\u001B[1;33m[\u001B[0m\u001B[1;36m1\u001B[0m\u001B[1;33m,\u001B[0m \u001B[1;33m:\u001B[0m\u001B[1;33m]\u001B[0m \u001B[1;33m=\u001B[0m \u001B[0mdata\u001B[0m\u001B[1;33m[\u001B[0m\u001B[0mnp\u001B[0m\u001B[1;33m.\u001B[0m\u001B[0msearchsorted\u001B[0m\u001B[1;33m(\u001B[0m\u001B[0mcumprobs\u001B[0m\u001B[1;33m,\u001B[0m \u001B[0mr\u001B[0m\u001B[1;33m)\u001B[0m\u001B[1;33m]\u001B[0m\u001B[1;33m\u001B[0m\u001B[1;33m\u001B[0m\u001B[0m\n\u001B[0m\u001B[0;32m    522\u001B[0m \u001B[1;33m\u001B[0m\u001B[0m\n\u001B[0;32m    523\u001B[0m     \u001B[1;31m# Compute the distance from every point to each cluster centroid and the\u001B[0m\u001B[1;33m\u001B[0m\u001B[1;33m\u001B[0m\u001B[1;33m\u001B[0m\u001B[0m\n",
      "\u001B[1;31mKeyboardInterrupt\u001B[0m: "
     ]
    }
   ],
   "source": [
    "df_behavioral = pd.read_csv(\"./data/filteredData/filtered_data.csv\")\n",
    "#iterate through each row\n",
    "for index, row in df_behavioral.iterrows():\n",
    "    print(\"{}-{}: Fixation Calculation\".format(row[\"Participant\"], row[\"Algorithm\"]))\n",
    "    df_eyetracking = pd.read_csv(row[\"Eyetracking\"])\n",
    "    df_eyetracking[\"time\"] = df_eyetracking[\"time\"].astype(float)\n",
    "    df_eyetracking[\"time\"] = df_eyetracking[\"time\"] - df_eyetracking[\"time\"].iloc[0]\n",
    "    # drop col\n",
    "    df_eyetracking = df_eyetracking.drop(columns=[\"l_gaze_point_in_user_coordinate_system_x\",\n",
    "                                                  \"l_gaze_point_in_user_coordinate_system_y\",\n",
    "                                                  \"l_gaze_point_in_user_coordinate_system_z\",\n",
    "                                                  \"r_gaze_point_in_user_coordinate_system_x\",\n",
    "                                                  \"r_gaze_point_in_user_coordinate_system_y\",\n",
    "                                                  \"r_gaze_point_in_user_coordinate_system_z\",\n",
    "                                                  \"l_gaze_origin_in_user_coordinate_system_x\",\n",
    "                                                  \"l_gaze_origin_in_user_coordinate_system_y\",\n",
    "                                                  \"l_gaze_origin_in_user_coordinate_system_z\",\n",
    "                                                  \"r_gaze_origin_in_user_coordinate_system_x\",\n",
    "                                                  \"r_gaze_origin_in_user_coordinate_system_y\",\n",
    "                                                  \"r_gaze_origin_in_user_coordinate_system_z\"])\n",
    "\n",
    "    df_eyetracking[\"l_display_x\"] = df_eyetracking[\"l_display_x\"].astype(float) * opt[\"xres\"]\n",
    "    df_eyetracking[\"l_display_y\"] = df_eyetracking[\"l_display_y\"].astype(float) * opt[\"yres\"]\n",
    "    df_eyetracking[\"r_display_x\"] = df_eyetracking[\"r_display_x\"].astype(float) * opt[\"xres\"]\n",
    "    df_eyetracking[\"r_display_y\"] = df_eyetracking[\"r_display_y\"].astype(float) * opt[\"yres\"]\n",
    "    df_eyetracking[\"l_valid\"] = df_eyetracking[\"l_valid\"].astype(int)\n",
    "    df_eyetracking[\"r_valid\"] = df_eyetracking[\"r_valid\"].astype(int)\n",
    "\n",
    "    df_eyetracking[\"l_miss_x\"] = df_eyetracking.apply(lambda row: row[\"l_display_x\"] < -opt[\"xres\"] or row[\"l_display_x\"] > 2 * opt[\"xres\"], axis=1)\n",
    "    df_eyetracking[\"l_miss_y\"] = df_eyetracking.apply(lambda row: row[\"l_display_y\"] < -opt[\"yres\"] or row[\"l_display_y\"] > 2 * opt[\"yres\"], axis=1)\n",
    "    df_eyetracking[\"r_miss_x\"] = df_eyetracking.apply(lambda row: row[\"r_display_x\"] < -opt[\"xres\"] or row[\"r_display_x\"] > 2 * opt[\"xres\"], axis=1)\n",
    "    df_eyetracking[\"r_miss_y\"] = df_eyetracking.apply(lambda row: row[\"r_display_y\"] < -opt[\"yres\"] or row[\"r_display_y\"] > 2 * opt[\"yres\"], axis=1)\n",
    "\n",
    "    df_eyetracking[\"l_miss\"] = df_eyetracking.apply(lambda row: row[\"l_miss_x\"] or row[\"l_miss_y\"] or not row[\"l_valid\"] >= 1, axis=1)\n",
    "    df_eyetracking[\"r_miss\"] = df_eyetracking.apply(lambda row: row[\"r_miss_x\"] or row[\"r_miss_y\"] or not row[\"r_valid\"] >= 1, axis=1)\n",
    "\n",
    "    df_eyetracking.loc[df_eyetracking[\"l_miss\"], \"l_display_x\"] = opt[\"missingx\"]\n",
    "    df_eyetracking.loc[df_eyetracking[\"l_miss\"], \"l_display_y\"] = opt[\"missingy\"]\n",
    "    df_eyetracking.loc[df_eyetracking[\"r_miss\"], \"r_display_x\"] = opt[\"missingx\"]\n",
    "    df_eyetracking.loc[df_eyetracking[\"r_miss\"], \"r_display_y\"] = opt[\"missingy\"]\n",
    "\n",
    "    df_eyetracking = df_eyetracking.drop(columns=[\"l_miss_x\", \"l_miss_y\", \"r_miss_x\", \"r_miss_y\", \"l_miss\", \"r_miss\"])\n",
    "\n",
    "    df_eyetracking.rename(columns={\"l_display_x\": \"L_X\",\n",
    "                                   \"l_display_y\": \"L_Y\",\n",
    "                                   \"r_display_x\": \"R_X\",\n",
    "                                   \"r_display_y\": \"R_Y\",\n",
    "                                   \"l_valid\" : \"LValidity\",\n",
    "                                   \"r_valid\" : \"RValidity\"}, inplace=True)\n",
    "\n",
    "    # rename columns\n",
    "    try:\n",
    "        fix, data, par = I2MC.I2MC(df_eyetracking, opt, logging=False)\n",
    "    except Exception as e:\n",
    "        print('\\t\\tError in file {}: {}'.format(__file__, e))\n",
    "        continue\n",
    "\n",
    "    if not fix:\n",
    "        print('{}-{}: Fixation calculation had some Problem'.format(row[\"Participant\"], row[\"Algorithm\"]))\n",
    "        continue\n",
    "\n",
    "    df_eyetracking[\"FixationNumber\"] = np.nan\n",
    "    df_eyetracking[\"FixationDuration\"] = np.nan\n",
    "    df_eyetracking[\"FixationX\"] = np.nan\n",
    "    df_eyetracking[\"FixationY\"] = np.nan\n",
    "    df_eyetracking[\"FixationFlankedDataLoss\"] = np.nan\n",
    "    df_eyetracking[\"FixationFracInterpreted\"] = np.nan\n",
    "    df_eyetracking[\"FixationRMSxy\"] = np.nan\n",
    "    df_eyetracking[\"FixationBCEA\"] = np.nan\n",
    "    df_eyetracking[\"FixationRangeX\"] = np.nan\n",
    "    df_eyetracking[\"FixationRangeY\"] = np.nan\n",
    "\n",
    "    display(fix)"
   ],
   "metadata": {
    "collapsed": false,
    "pycharm": {
     "name": "#%%\n"
    }
   }
  },
  {
   "cell_type": "code",
   "execution_count": 4,
   "outputs": [],
   "source": [],
   "metadata": {
    "collapsed": false,
    "pycharm": {
     "name": "#%%\n"
    }
   }
  }
 ],
 "metadata": {
  "kernelspec": {
   "display_name": "Python 3",
   "language": "python",
   "name": "python3"
  },
  "language_info": {
   "codemirror_mode": {
    "name": "ipython",
    "version": 2
   },
   "file_extension": ".py",
   "mimetype": "text/x-python",
   "name": "python",
   "nbconvert_exporter": "python",
   "pygments_lexer": "ipython2",
   "version": "2.7.6"
  }
 },
 "nbformat": 4,
 "nbformat_minor": 0
}