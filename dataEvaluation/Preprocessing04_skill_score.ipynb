{
 "cells": [
  {
   "cell_type": "markdown",
   "metadata": {
    "collapsed": true,
    "pycharm": {
     "name": "#%% md\n"
    }
   },
   "source": [
    "# Notebook for calculating the experience score for the participants and set up the meta data in a useful format"
   ]
  },
  {
   "cell_type": "code",
   "execution_count": 1,
   "outputs": [],
   "source": [
    "import pandas as pd\n",
    "import numpy as np\n",
    "import seaborn as sns"
   ],
   "metadata": {
    "collapsed": false,
    "pycharm": {
     "name": "#%%\n"
    }
   }
  },
  {
   "cell_type": "code",
   "execution_count": 2,
   "outputs": [],
   "source": [
    "df_questionnaire = pd.read_excel(\"./data/Questionnaire.xlsx\", sheet_name=\"Experience\")\n",
    "# transpose the dataframe\n",
    "df_questionnaire = df_questionnaire.transpose()\n",
    "# use first row as column names\n",
    "df_questionnaire.columns = df_questionnaire.iloc[0]\n",
    "#delete first row\n",
    "df_questionnaire = df_questionnaire.drop(df_questionnaire.index[0])\n",
    "#drop row where years of programming is missing\n",
    "df_questionnaire = df_questionnaire.dropna(subset=[\"yearsAtWork\"])\n",
    "#change all NaN to 0\n",
    "df_questionnaire = df_questionnaire.fillna(0)\n",
    "\n",
    "# drop row with \"Participant\" being 9\n",
    "df_questionnaire = df_questionnaire.drop(9)\n",
    "\n",
    "df_questionnaire[\"yearsOfProgramming\"] = df_questionnaire[\"yearsOfProgramming\"].astype(float)\n",
    "df_questionnaire[\"yearsOfJava\"] = df_questionnaire[\"yearsOfJava\"].astype(float)"
   ],
   "metadata": {
    "collapsed": false,
    "pycharm": {
     "name": "#%%\n"
    }
   }
  },
  {
   "cell_type": "markdown",
   "source": [
    "## Check Correlation Effects"
   ],
   "metadata": {
    "collapsed": false,
    "pycharm": {
     "name": "#%% md\n"
    }
   }
  },
  {
   "cell_type": "code",
   "execution_count": 3,
   "outputs": [
    {
     "name": "stderr",
     "output_type": "stream",
     "text": [
      "C:\\Users\\jonas\\AppData\\Local\\Temp/ipykernel_28352/2849650928.py:3: FutureWarning: Using a non-tuple sequence for multidimensional indexing is deprecated; use `arr[tuple(seq)]` instead of `arr[seq]`. In the future this will be interpreted as an array index, `arr[np.array(seq)]`, which will result either in an error or a different result.\n",
      "  corr.values[[np.arange(corr.shape[0])] * 2] = 0\n"
     ]
    },
    {
     "data": {
      "text/plain": "Participant                     yearsOfProgramming  \\\nParticipant                                          \nyearsOfProgramming                        0.000000   \nyearsOfProfessionalProgramming            0.912879   \nyearsOfJava                               0.834671   \nlogicalExperience                         0.196881   \nfunctionalExperience                      0.277054   \nimperativExperience                       0.298009   \nobjectExperience                          0.405389   \ncomparedToStudent                        -0.155277   \ncomparedToProfessional                    0.222305   \n\nParticipant                     yearsOfProfessionalProgramming  yearsOfJava  \\\nParticipant                                                                   \nyearsOfProgramming                                    0.912879     0.834671   \nyearsOfProfessionalProgramming                        0.000000     0.755738   \nyearsOfJava                                           0.755738     0.000000   \nlogicalExperience                                     0.162842     0.107167   \nfunctionalExperience                                  0.153438     0.313488   \nimperativExperience                                   0.211286     0.186688   \nobjectExperience                                      0.451542     0.348047   \ncomparedToStudent                                    -0.067585    -0.123541   \ncomparedToProfessional                                0.287723     0.267995   \n\nParticipant                     logicalExperience  functionalExperience  \\\nParticipant                                                               \nyearsOfProgramming                       0.196881              0.277054   \nyearsOfProfessionalProgramming           0.162842              0.153438   \nyearsOfJava                              0.107167              0.313488   \nlogicalExperience                        0.000000              0.438185   \nfunctionalExperience                     0.438185              0.000000   \nimperativExperience                      0.364237              0.311776   \nobjectExperience                         0.112319              0.099272   \ncomparedToStudent                        0.161150              0.019113   \ncomparedToProfessional                   0.299794              0.308248   \n\nParticipant                     imperativExperience  objectExperience  \\\nParticipant                                                             \nyearsOfProgramming                         0.298009          0.405389   \nyearsOfProfessionalProgramming             0.211286          0.451542   \nyearsOfJava                                0.186688          0.348047   \nlogicalExperience                          0.364237          0.112319   \nfunctionalExperience                       0.311776          0.099272   \nimperativExperience                        0.000000          0.393788   \nobjectExperience                           0.393788          0.000000   \ncomparedToStudent                         -0.083585          0.078476   \ncomparedToProfessional                     0.211158          0.393626   \n\nParticipant                     comparedToStudent  comparedToProfessional  \nParticipant                                                                \nyearsOfProgramming                      -0.155277                0.222305  \nyearsOfProfessionalProgramming          -0.067585                0.287723  \nyearsOfJava                             -0.123541                0.267995  \nlogicalExperience                        0.161150                0.299794  \nfunctionalExperience                     0.019113                0.308248  \nimperativExperience                     -0.083585                0.211158  \nobjectExperience                         0.078476                0.393626  \ncomparedToStudent                        0.000000                0.496090  \ncomparedToProfessional                   0.496090                0.000000  ",
      "text/html": "<div>\n<style scoped>\n    .dataframe tbody tr th:only-of-type {\n        vertical-align: middle;\n    }\n\n    .dataframe tbody tr th {\n        vertical-align: top;\n    }\n\n    .dataframe thead th {\n        text-align: right;\n    }\n</style>\n<table border=\"1\" class=\"dataframe\">\n  <thead>\n    <tr style=\"text-align: right;\">\n      <th>Participant</th>\n      <th>yearsOfProgramming</th>\n      <th>yearsOfProfessionalProgramming</th>\n      <th>yearsOfJava</th>\n      <th>logicalExperience</th>\n      <th>functionalExperience</th>\n      <th>imperativExperience</th>\n      <th>objectExperience</th>\n      <th>comparedToStudent</th>\n      <th>comparedToProfessional</th>\n    </tr>\n    <tr>\n      <th>Participant</th>\n      <th></th>\n      <th></th>\n      <th></th>\n      <th></th>\n      <th></th>\n      <th></th>\n      <th></th>\n      <th></th>\n      <th></th>\n    </tr>\n  </thead>\n  <tbody>\n    <tr>\n      <th>yearsOfProgramming</th>\n      <td>0.000000</td>\n      <td>0.912879</td>\n      <td>0.834671</td>\n      <td>0.196881</td>\n      <td>0.277054</td>\n      <td>0.298009</td>\n      <td>0.405389</td>\n      <td>-0.155277</td>\n      <td>0.222305</td>\n    </tr>\n    <tr>\n      <th>yearsOfProfessionalProgramming</th>\n      <td>0.912879</td>\n      <td>0.000000</td>\n      <td>0.755738</td>\n      <td>0.162842</td>\n      <td>0.153438</td>\n      <td>0.211286</td>\n      <td>0.451542</td>\n      <td>-0.067585</td>\n      <td>0.287723</td>\n    </tr>\n    <tr>\n      <th>yearsOfJava</th>\n      <td>0.834671</td>\n      <td>0.755738</td>\n      <td>0.000000</td>\n      <td>0.107167</td>\n      <td>0.313488</td>\n      <td>0.186688</td>\n      <td>0.348047</td>\n      <td>-0.123541</td>\n      <td>0.267995</td>\n    </tr>\n    <tr>\n      <th>logicalExperience</th>\n      <td>0.196881</td>\n      <td>0.162842</td>\n      <td>0.107167</td>\n      <td>0.000000</td>\n      <td>0.438185</td>\n      <td>0.364237</td>\n      <td>0.112319</td>\n      <td>0.161150</td>\n      <td>0.299794</td>\n    </tr>\n    <tr>\n      <th>functionalExperience</th>\n      <td>0.277054</td>\n      <td>0.153438</td>\n      <td>0.313488</td>\n      <td>0.438185</td>\n      <td>0.000000</td>\n      <td>0.311776</td>\n      <td>0.099272</td>\n      <td>0.019113</td>\n      <td>0.308248</td>\n    </tr>\n    <tr>\n      <th>imperativExperience</th>\n      <td>0.298009</td>\n      <td>0.211286</td>\n      <td>0.186688</td>\n      <td>0.364237</td>\n      <td>0.311776</td>\n      <td>0.000000</td>\n      <td>0.393788</td>\n      <td>-0.083585</td>\n      <td>0.211158</td>\n    </tr>\n    <tr>\n      <th>objectExperience</th>\n      <td>0.405389</td>\n      <td>0.451542</td>\n      <td>0.348047</td>\n      <td>0.112319</td>\n      <td>0.099272</td>\n      <td>0.393788</td>\n      <td>0.000000</td>\n      <td>0.078476</td>\n      <td>0.393626</td>\n    </tr>\n    <tr>\n      <th>comparedToStudent</th>\n      <td>-0.155277</td>\n      <td>-0.067585</td>\n      <td>-0.123541</td>\n      <td>0.161150</td>\n      <td>0.019113</td>\n      <td>-0.083585</td>\n      <td>0.078476</td>\n      <td>0.000000</td>\n      <td>0.496090</td>\n    </tr>\n    <tr>\n      <th>comparedToProfessional</th>\n      <td>0.222305</td>\n      <td>0.287723</td>\n      <td>0.267995</td>\n      <td>0.299794</td>\n      <td>0.308248</td>\n      <td>0.211158</td>\n      <td>0.393626</td>\n      <td>0.496090</td>\n      <td>0.000000</td>\n    </tr>\n  </tbody>\n</table>\n</div>"
     },
     "execution_count": 3,
     "metadata": {},
     "output_type": "execute_result"
    }
   ],
   "source": [
    "# calculate the pearson correlation between the years of programming and the years of java\n",
    "corr = df_questionnaire.corr(method=\"pearson\")\n",
    "corr.values[[np.arange(corr.shape[0])] * 2] = 0\n",
    "corr"
   ],
   "metadata": {
    "collapsed": false,
    "pycharm": {
     "name": "#%%\n"
    }
   }
  },
  {
   "cell_type": "code",
   "execution_count": 4,
   "outputs": [],
   "source": [
    "df_behavioral = pd.read_csv(\"./data/filteredData/filtered_data.csv\")\n",
    "# drop unnamed column\n",
    "df_behavioral = df_behavioral[df_behavioral[\"Subpart\"] == \"Code\"]\n",
    "df_behavioral[\"Behavioral\"] = df_behavioral[\"Behavioral\"].apply(lambda x: \"Right\" if x == \"Right\" else \"Wrong\")\n",
    "df_behavioral[\"Duration\"] = df_behavioral[\"EndTime\"] - df_behavioral[\"StartTime\"]"
   ],
   "metadata": {
    "collapsed": false,
    "pycharm": {
     "name": "#%%\n"
    }
   }
  },
  {
   "cell_type": "code",
   "execution_count": 5,
   "outputs": [],
   "source": [
    "lowest = df_behavioral[\"Duration\"].quantile(0.05)\n",
    "highest = df_behavioral[\"Duration\"].quantile(0.95)\n",
    "\n",
    "# kick out all rows where the duration is not in the 5% quantile range\n",
    "df_behavioral[\"IsOutlier\"] = True\n",
    "df_behavioral.loc[((df_behavioral[\"Duration\"] > lowest) & (df_behavioral[\"Duration\"] < highest))\n",
    "                  | (df_behavioral[\"Duration\"] <= lowest) & (\n",
    "                          df_behavioral[\"Behavioral\"] == \"Right\"), \"IsOutlier\"] = False"
   ],
   "metadata": {
    "collapsed": false,
    "pycharm": {
     "name": "#%%\n"
    }
   }
  },
  {
   "cell_type": "code",
   "execution_count": 6,
   "outputs": [
    {
     "data": {
      "text/plain": "<Figure size 432x288 with 1 Axes>",
      "image/png": "[encoded data removed]"
     },
     "metadata": {
      "needs_background": "light"
     },
     "output_type": "display_data"
    }
   ],
   "source": [
    "df_tmp = df_behavioral.groupby(\"Participant\")\\\n",
    "    .apply(lambda df: len(df[df[\"IsOutlier\"] == False]))\\\n",
    "    .to_frame(\"Count\")\n",
    "df_tmp = df_tmp[df_tmp[\"Count\"] != 0]\n",
    "# create a histogram of the duration of the snippets\n",
    "g = sns.histplot(df_tmp[\"Count\"], bins=32, label=\"Participants\")\n",
    "g.set_xlabel(\"Number of total Responses per Participant\")\n",
    "g.set_ylabel(\"Number of Participants\")\n",
    "g.set_title(\"Distribution of the number of responses\")\n",
    "g.set_xlim(0, 33);"
   ],
   "metadata": {
    "collapsed": false,
    "pycharm": {
     "name": "#%%\n"
    }
   }
  },
  {
   "cell_type": "code",
   "execution_count": 7,
   "outputs": [],
   "source": [
    "df_behavioral.loc[df_behavioral[\"Participant\"] == 46, \"IsOutlier\"] = True\n",
    "df_behavioral = df_behavioral[df_behavioral[\"Participant\"] != 46]"
   ],
   "metadata": {
    "collapsed": false,
    "pycharm": {
     "name": "#%%\n"
    }
   }
  },
  {
   "cell_type": "code",
   "execution_count": 8,
   "outputs": [],
   "source": [
    "df_behavioral = df_behavioral.set_index(\"Participant\", drop=True)"
   ],
   "metadata": {
    "collapsed": false,
    "pycharm": {
     "name": "#%%\n"
    }
   }
  },
  {
   "cell_type": "markdown",
   "source": [],
   "metadata": {
    "collapsed": false
   }
  },
  {
   "cell_type": "code",
   "execution_count": 9,
   "outputs": [],
   "source": [
    "df_behavioral[\"SumCorrect\"] = df_behavioral.groupby(\"Participant\")\\\n",
    "    .apply(lambda df: df[df[\"IsOutlier\"] == False])\\\n",
    "    .groupby(\"Participant\")\\\n",
    "    .apply(lambda df: len(df[df[\"Behavioral\"] == \"Right\"]))\n",
    "\n",
    "df_behavioral[\"Total\"] = df_behavioral.groupby(\"Participant\")\\\n",
    "    .apply(lambda df: len(df[df[\"IsOutlier\"] == False]))\n",
    "\n",
    "df_behavioral[\"SumDurationInMinutes\"] = pd.read_csv(\"./data/filteredData/filtered_data.csv\")\\\n",
    "    .groupby(\"Participant\")\\\n",
    "    .apply(lambda df: df[\"EndTime\"].array[-1] - df[\"StartTime\"].array[0])\n",
    "\n",
    "df_behavioral[\"SkillScore\"] = df_behavioral[\"SumCorrect\"] / (df_behavioral[\"SumDurationInMinutes\"] / 60.0)"
   ],
   "metadata": {
    "collapsed": false,
    "pycharm": {
     "name": "#%%\n"
    }
   }
  },
  {
   "cell_type": "code",
   "execution_count": 10,
   "outputs": [
    {
     "data": {
      "text/plain": "Participant\n1     3983.279641\n2     4114.059902\n3     2505.910764\n4     3955.479718\n5     3833.480571\n6     3988.194175\n7     3991.702411\n10    3424.733665\n11    4040.273653\n12    4074.600060\n13    4146.217116\n14    4172.448496\n18    4249.459799\n22    4217.962996\n24    3954.307315\n25    4301.132959\n28    4110.462543\n35    2466.782760\n36    3734.501752\n37    4268.087901\n38    3197.601457\n41    4193.502276\n42    4628.015541\n49    4209.946382\n50    4127.481758\n55    4122.392179\n58    4242.951816\n59    4196.120565\n60    4334.798324\n61    4314.790617\n62    4238.889176\n63    4143.298634\n66    3019.293793\n67    4155.514052\n68    2629.274382\n70    4406.403413\n71    3443.124016\nName: SumDurationInMinutes, dtype: float64"
     },
     "execution_count": 10,
     "metadata": {},
     "output_type": "execute_result"
    }
   ],
   "source": [
    "df_behavioral[~df_behavioral.index.duplicated(keep='first')][\"SumDurationInMinutes\"]"
   ],
   "metadata": {
    "collapsed": false,
    "pycharm": {
     "name": "#%%\n"
    }
   }
  },
  {
   "cell_type": "code",
   "execution_count": 11,
   "outputs": [
    {
     "data": {
      "text/plain": "            Subpart  StartTime     EndTime  \\\nParticipant                                  \n1              Code        0.0   12.390280   \n2              Code        0.0   40.635115   \n3              Code        0.0   92.877823   \n4              Code        0.0   94.990470   \n5              Code        0.0  109.680191   \n6              Code        0.0   28.998734   \n7              Code        0.0   28.138863   \n10             Code        0.0   31.310999   \n11             Code        0.0   51.498158   \n12             Code        0.0  159.448936   \n13             Code        0.0   70.163245   \n14             Code        0.0   20.841279   \n18             Code        0.0   54.980169   \n22             Code        0.0   44.327446   \n24             Code        0.0   29.019001   \n25             Code        0.0   10.538237   \n28             Code        0.0  180.048955   \n35             Code        0.0   31.436806   \n36             Code        0.0   24.274830   \n37             Code        0.0   26.506726   \n38             Code        0.0   19.390261   \n41             Code        0.0   61.172867   \n42             Code        0.0   22.306895   \n49             Code        0.0  105.149613   \n50             Code        0.0   33.170750   \n55             Code        0.0  180.047289   \n58             Code        0.0  180.050434   \n59             Code        0.0   16.995838   \n60             Code        0.0   48.674718   \n61             Code        0.0   11.003654   \n62             Code        0.0   22.139028   \n63             Code        0.0   36.052612   \n66             Code        0.0   25.362069   \n67             Code        0.0   24.222430   \n68             Code        0.0   51.160555   \n70             Code        0.0   84.501124   \n71             Code        0.0   45.013098   \n\n                                                   Eyetracking  \\\nParticipant                                                      \n1            ./data/filteredData/Participant01/IsPrimecode_...   \n2            ./data/filteredData/Participant02/HeightOfTree...   \n3            ./data/filteredData/Participant03/SiebDesErato...   \n4            ./data/filteredData/Participant04/HIndexcode_e...   \n5            ./data/filteredData/Participant05/SiebDesErato...   \n6            ./data/filteredData/Participant06/RemoveDouble...   \n7            ./data/filteredData/Participant07/InsertSortco...   \n10           ./data/filteredData/Participant10/ContainsSubs...   \n11           ./data/filteredData/Participant11/DumpSortingc...   \n12           ./data/filteredData/Participant12/RabbitTortoi...   \n13           ./data/filteredData/Participant13/ReverseQueue...   \n14           ./data/filteredData/Participant14/ArrayAverage...   \n18           ./data/filteredData/Participant18/ContainsSubs...   \n22           ./data/filteredData/Participant22/Vehiclecode_...   \n24           ./data/filteredData/Participant24/Rectanglecod...   \n25           ./data/filteredData/Participant25/SumArraycode...   \n28           ./data/filteredData/Participant28/HIndexcode_e...   \n35           ./data/filteredData/Participant35/GreatestComm...   \n36           ./data/filteredData/Participant36/ArrayAverage...   \n37           ./data/filteredData/Participant37/CheckIfLette...   \n38           ./data/filteredData/Participant38/IsPrimecode_...   \n41           ./data/filteredData/Participant41/LengthOfLast...   \n42           ./data/filteredData/Participant42/SumArraycode...   \n49           ./data/filteredData/Participant49/CheckIfLette...   \n50           ./data/filteredData/Participant50/CheckIfLette...   \n55           ./data/filteredData/Participant55/SiebDesErato...   \n58           ./data/filteredData/Participant58/SiebDesErato...   \n59           ./data/filteredData/Participant59/ReverseQueue...   \n60           ./data/filteredData/Participant60/BogoSortcode...   \n61           ./data/filteredData/Participant61/IsPrimecode_...   \n62           ./data/filteredData/Participant62/Ackermancode...   \n63           ./data/filteredData/Participant63/HeightOfTree...   \n66           ./data/filteredData/Participant66/Powercode_ey...   \n67           ./data/filteredData/Participant67/RectanglePow...   \n68           ./data/filteredData/Participant68/GreatestComm...   \n70           ./data/filteredData/Participant70/PermuteStrin...   \n71           ./data/filteredData/Participant71/HIndexcode_e...   \n\n                                                           EEG  SumCorrect  \\\nParticipant                                                                  \n1            ./data/filteredData/Participant01/IsPrimecode_...          22   \n2            ./data/filteredData/Participant02/HeightOfTree...          26   \n3            ./data/filteredData/Participant03/SiebDesErato...          13   \n4            ./data/filteredData/Participant04/HIndexcode_e...          28   \n5            ./data/filteredData/Participant05/SiebDesErato...          20   \n6            ./data/filteredData/Participant06/RemoveDouble...          21   \n7            ./data/filteredData/Participant07/InsertSortco...          28   \n10           ./data/filteredData/Participant10/ContainsSubs...          20   \n11           ./data/filteredData/Participant11/DumpSortingc...          12   \n12           ./data/filteredData/Participant12/RabbitTortoi...          21   \n13           ./data/filteredData/Participant13/ReverseQueue...          29   \n14           ./data/filteredData/Participant14/ArrayAverage...          22   \n18           ./data/filteredData/Participant18/ContainsSubs...          16   \n22           ./data/filteredData/Participant22/Vehiclecode_...          24   \n24           ./data/filteredData/Participant24/Rectanglecod...          14   \n25           ./data/filteredData/Participant25/SumArraycode...          21   \n28           ./data/filteredData/Participant28/HIndexcode_e...          20   \n35           ./data/filteredData/Participant35/GreatestComm...          27   \n36           ./data/filteredData/Participant36/ArrayAverage...          23   \n37           ./data/filteredData/Participant37/CheckIfLette...          23   \n38           ./data/filteredData/Participant38/IsPrimecode_...          21   \n41           ./data/filteredData/Participant41/LengthOfLast...          22   \n42           ./data/filteredData/Participant42/SumArraycode...          24   \n49           ./data/filteredData/Participant49/CheckIfLette...          10   \n50           ./data/filteredData/Participant50/CheckIfLette...          17   \n55           ./data/filteredData/Participant55/SiebDesErato...          14   \n58           ./data/filteredData/Participant58/SiebDesErato...          13   \n59           ./data/filteredData/Participant59/ReverseQueue...          19   \n60           ./data/filteredData/Participant60/BogoSortcode...          29   \n61           ./data/filteredData/Participant61/IsPrimecode_...          14   \n62           ./data/filteredData/Participant62/Ackermancode...          25   \n63           ./data/filteredData/Participant63/HeightOfTree...          23   \n66           ./data/filteredData/Participant66/Powercode_ee...          27   \n67           ./data/filteredData/Participant67/RectanglePow...          18   \n68           ./data/filteredData/Participant68/GreatestComm...          19   \n70           ./data/filteredData/Participant70/PermuteStrin...          17   \n71           ./data/filteredData/Participant71/HIndexcode_e...          25   \n\n             Total  SumDurationInMinutes  SkillScore  \nParticipant                                           \n1               32           3983.279641    0.331385  \n2               32           4114.059902    0.379187  \n3               15           2505.910764    0.311264  \n4               32           3955.479718    0.424727  \n5               32           3833.480571    0.313031  \n6               28           3988.194175    0.315932  \n7               31           3991.702411    0.420873  \n10              30           3424.733665    0.350392  \n11              19           4040.273653    0.178206  \n12              27           4074.600060    0.309233  \n13              32           4146.217116    0.419660  \n14              30           4172.448496    0.316361  \n18              24           4249.459799    0.225911  \n22              27           4217.962996    0.341397  \n24              25           3954.307315    0.212427  \n25              27           4301.132959    0.292946  \n28              29           4110.462543    0.291938  \n35              31           2466.782760    0.656726  \n36              30           3734.501752    0.369527  \n37              30           4268.087901    0.323330  \n38              30           3197.601457    0.394045  \n41              27           4193.502276    0.314773  \n42              32           4628.015541    0.311148  \n49              15           4209.946382    0.142520  \n50              32           4127.481758    0.247124  \n55              23           4122.392179    0.203765  \n58              21           4242.951816    0.183834  \n59              25           4196.120565    0.271680  \n60              30           4334.798324    0.401403  \n61              30           4314.790617    0.194679  \n62              30           4238.889176    0.353866  \n63              27           4143.298634    0.333068  \n66              32           3019.293793    0.536549  \n67              22           4155.514052    0.259896  \n68              23           2629.274382    0.433580  \n70              25           4406.403413    0.231481  \n71              31           3443.124016    0.435651  ",
      "text/html": "<div>\n<style scoped>\n    .dataframe tbody tr th:only-of-type {\n        vertical-align: middle;\n    }\n\n    .dataframe tbody tr th {\n        vertical-align: top;\n    }\n\n    .dataframe thead th {\n        text-align: right;\n    }\n</style>\n<table border=\"1\" class=\"dataframe\">\n  <thead>\n    <tr style=\"text-align: right;\">\n      <th></th>\n      <th>Subpart</th>\n      <th>StartTime</th>\n      <th>EndTime</th>\n      <th>Eyetracking</th>\n      <th>EEG</th>\n      <th>SumCorrect</th>\n      <th>Total</th>\n      <th>SumDurationInMinutes</th>\n      <th>SkillScore</th>\n    </tr>\n    <tr>\n      <th>Participant</th>\n      <th></th>\n      <th></th>\n      <th></th>\n      <th></th>\n      <th></th>\n      <th></th>\n      <th></th>\n      <th></th>\n      <th></th>\n    </tr>\n  </thead>\n  <tbody>\n    <tr>\n      <th>1</th>\n      <td>Code</td>\n      <td>0.0</td>\n      <td>12.390280</td>\n      <td>./data/filteredData/Participant01/IsPrimecode_...</td>\n      <td>./data/filteredData/Participant01/IsPrimecode_...</td>\n      <td>22</td>\n      <td>32</td>\n      <td>3983.279641</td>\n      <td>0.331385</td>\n    </tr>\n    <tr>\n      <th>2</th>\n      <td>Code</td>\n      <td>0.0</td>\n      <td>40.635115</td>\n      <td>./data/filteredData/Participant02/HeightOfTree...</td>\n      <td>./data/filteredData/Participant02/HeightOfTree...</td>\n      <td>26</td>\n      <td>32</td>\n      <td>4114.059902</td>\n      <td>0.379187</td>\n    </tr>\n    <tr>\n      <th>3</th>\n      <td>Code</td>\n      <td>0.0</td>\n      <td>92.877823</td>\n      <td>./data/filteredData/Participant03/SiebDesErato...</td>\n      <td>./data/filteredData/Participant03/SiebDesErato...</td>\n      <td>13</td>\n      <td>15</td>\n      <td>2505.910764</td>\n      <td>0.311264</td>\n    </tr>\n    <tr>\n      <th>4</th>\n      <td>Code</td>\n      <td>0.0</td>\n      <td>94.990470</td>\n      <td>./data/filteredData/Participant04/HIndexcode_e...</td>\n      <td>./data/filteredData/Participant04/HIndexcode_e...</td>\n      <td>28</td>\n      <td>32</td>\n      <td>3955.479718</td>\n      <td>0.424727</td>\n    </tr>\n    <tr>\n      <th>5</th>\n      <td>Code</td>\n      <td>0.0</td>\n      <td>109.680191</td>\n      <td>./data/filteredData/Participant05/SiebDesErato...</td>\n      <td>./data/filteredData/Participant05/SiebDesErato...</td>\n      <td>20</td>\n      <td>32</td>\n      <td>3833.480571</td>\n      <td>0.313031</td>\n    </tr>\n    <tr>\n      <th>6</th>\n      <td>Code</td>\n      <td>0.0</td>\n      <td>28.998734</td>\n      <td>./data/filteredData/Participant06/RemoveDouble...</td>\n      <td>./data/filteredData/Participant06/RemoveDouble...</td>\n      <td>21</td>\n      <td>28</td>\n      <td>3988.194175</td>\n      <td>0.315932</td>\n    </tr>\n    <tr>\n      <th>7</th>\n      <td>Code</td>\n      <td>0.0</td>\n      <td>28.138863</td>\n      <td>./data/filteredData/Participant07/InsertSortco...</td>\n      <td>./data/filteredData/Participant07/InsertSortco...</td>\n      <td>28</td>\n      <td>31</td>\n      <td>3991.702411</td>\n      <td>0.420873</td>\n    </tr>\n    <tr>\n      <th>10</th>\n      <td>Code</td>\n      <td>0.0</td>\n      <td>31.310999</td>\n      <td>./data/filteredData/Participant10/ContainsSubs...</td>\n      <td>./data/filteredData/Participant10/ContainsSubs...</td>\n      <td>20</td>\n      <td>30</td>\n      <td>3424.733665</td>\n      <td>0.350392</td>\n    </tr>\n    <tr>\n      <th>11</th>\n      <td>Code</td>\n      <td>0.0</td>\n      <td>51.498158</td>\n      <td>./data/filteredData/Participant11/DumpSortingc...</td>\n      <td>./data/filteredData/Participant11/DumpSortingc...</td>\n      <td>12</td>\n      <td>19</td>\n      <td>4040.273653</td>\n      <td>0.178206</td>\n    </tr>\n    <tr>\n      <th>12</th>\n      <td>Code</td>\n      <td>0.0</td>\n      <td>159.448936</td>\n      <td>./data/filteredData/Participant12/RabbitTortoi...</td>\n      <td>./data/filteredData/Participant12/RabbitTortoi...</td>\n      <td>21</td>\n      <td>27</td>\n      <td>4074.600060</td>\n      <td>0.309233</td>\n    </tr>\n    <tr>\n      <th>13</th>\n      <td>Code</td>\n      <td>0.0</td>\n      <td>70.163245</td>\n      <td>./data/filteredData/Participant13/ReverseQueue...</td>\n      <td>./data/filteredData/Participant13/ReverseQueue...</td>\n      <td>29</td>\n      <td>32</td>\n      <td>4146.217116</td>\n      <td>0.419660</td>\n    </tr>\n    <tr>\n      <th>14</th>\n      <td>Code</td>\n      <td>0.0</td>\n      <td>20.841279</td>\n      <td>./data/filteredData/Participant14/ArrayAverage...</td>\n      <td>./data/filteredData/Participant14/ArrayAverage...</td>\n      <td>22</td>\n      <td>30</td>\n      <td>4172.448496</td>\n      <td>0.316361</td>\n    </tr>\n    <tr>\n      <th>18</th>\n      <td>Code</td>\n      <td>0.0</td>\n      <td>54.980169</td>\n      <td>./data/filteredData/Participant18/ContainsSubs...</td>\n      <td>./data/filteredData/Participant18/ContainsSubs...</td>\n      <td>16</td>\n      <td>24</td>\n      <td>4249.459799</td>\n      <td>0.225911</td>\n    </tr>\n    <tr>\n      <th>22</th>\n      <td>Code</td>\n      <td>0.0</td>\n      <td>44.327446</td>\n      <td>./data/filteredData/Participant22/Vehiclecode_...</td>\n      <td>./data/filteredData/Participant22/Vehiclecode_...</td>\n      <td>24</td>\n      <td>27</td>\n      <td>4217.962996</td>\n      <td>0.341397</td>\n    </tr>\n    <tr>\n      <th>24</th>\n      <td>Code</td>\n      <td>0.0</td>\n      <td>29.019001</td>\n      <td>./data/filteredData/Participant24/Rectanglecod...</td>\n      <td>./data/filteredData/Participant24/Rectanglecod...</td>\n      <td>14</td>\n      <td>25</td>\n      <td>3954.307315</td>\n      <td>0.212427</td>\n    </tr>\n    <tr>\n      <th>25</th>\n      <td>Code</td>\n      <td>0.0</td>\n      <td>10.538237</td>\n      <td>./data/filteredData/Participant25/SumArraycode...</td>\n      <td>./data/filteredData/Participant25/SumArraycode...</td>\n      <td>21</td>\n      <td>27</td>\n      <td>4301.132959</td>\n      <td>0.292946</td>\n    </tr>\n    <tr>\n      <th>28</th>\n      <td>Code</td>\n      <td>0.0</td>\n      <td>180.048955</td>\n      <td>./data/filteredData/Participant28/HIndexcode_e...</td>\n      <td>./data/filteredData/Participant28/HIndexcode_e...</td>\n      <td>20</td>\n      <td>29</td>\n      <td>4110.462543</td>\n      <td>0.291938</td>\n    </tr>\n    <tr>\n      <th>35</th>\n      <td>Code</td>\n      <td>0.0</td>\n      <td>31.436806</td>\n      <td>./data/filteredData/Participant35/GreatestComm...</td>\n      <td>./data/filteredData/Participant35/GreatestComm...</td>\n      <td>27</td>\n      <td>31</td>\n      <td>2466.782760</td>\n      <td>0.656726</td>\n    </tr>\n    <tr>\n      <th>36</th>\n      <td>Code</td>\n      <td>0.0</td>\n      <td>24.274830</td>\n      <td>./data/filteredData/Participant36/ArrayAverage...</td>\n      <td>./data/filteredData/Participant36/ArrayAverage...</td>\n      <td>23</td>\n      <td>30</td>\n      <td>3734.501752</td>\n      <td>0.369527</td>\n    </tr>\n    <tr>\n      <th>37</th>\n      <td>Code</td>\n      <td>0.0</td>\n      <td>26.506726</td>\n      <td>./data/filteredData/Participant37/CheckIfLette...</td>\n      <td>./data/filteredData/Participant37/CheckIfLette...</td>\n      <td>23</td>\n      <td>30</td>\n      <td>4268.087901</td>\n      <td>0.323330</td>\n    </tr>\n    <tr>\n      <th>38</th>\n      <td>Code</td>\n      <td>0.0</td>\n      <td>19.390261</td>\n      <td>./data/filteredData/Participant38/IsPrimecode_...</td>\n      <td>./data/filteredData/Participant38/IsPrimecode_...</td>\n      <td>21</td>\n      <td>30</td>\n      <td>3197.601457</td>\n      <td>0.394045</td>\n    </tr>\n    <tr>\n      <th>41</th>\n      <td>Code</td>\n      <td>0.0</td>\n      <td>61.172867</td>\n      <td>./data/filteredData/Participant41/LengthOfLast...</td>\n      <td>./data/filteredData/Participant41/LengthOfLast...</td>\n      <td>22</td>\n      <td>27</td>\n      <td>4193.502276</td>\n      <td>0.314773</td>\n    </tr>\n    <tr>\n      <th>42</th>\n      <td>Code</td>\n      <td>0.0</td>\n      <td>22.306895</td>\n      <td>./data/filteredData/Participant42/SumArraycode...</td>\n      <td>./data/filteredData/Participant42/SumArraycode...</td>\n      <td>24</td>\n      <td>32</td>\n      <td>4628.015541</td>\n      <td>0.311148</td>\n    </tr>\n    <tr>\n      <th>49</th>\n      <td>Code</td>\n      <td>0.0</td>\n      <td>105.149613</td>\n      <td>./data/filteredData/Participant49/CheckIfLette...</td>\n      <td>./data/filteredData/Participant49/CheckIfLette...</td>\n      <td>10</td>\n      <td>15</td>\n      <td>4209.946382</td>\n      <td>0.142520</td>\n    </tr>\n    <tr>\n      <th>50</th>\n      <td>Code</td>\n      <td>0.0</td>\n      <td>33.170750</td>\n      <td>./data/filteredData/Participant50/CheckIfLette...</td>\n      <td>./data/filteredData/Participant50/CheckIfLette...</td>\n      <td>17</td>\n      <td>32</td>\n      <td>4127.481758</td>\n      <td>0.247124</td>\n    </tr>\n    <tr>\n      <th>55</th>\n      <td>Code</td>\n      <td>0.0</td>\n      <td>180.047289</td>\n      <td>./data/filteredData/Participant55/SiebDesErato...</td>\n      <td>./data/filteredData/Participant55/SiebDesErato...</td>\n      <td>14</td>\n      <td>23</td>\n      <td>4122.392179</td>\n      <td>0.203765</td>\n    </tr>\n    <tr>\n      <th>58</th>\n      <td>Code</td>\n      <td>0.0</td>\n      <td>180.050434</td>\n      <td>./data/filteredData/Participant58/SiebDesErato...</td>\n      <td>./data/filteredData/Participant58/SiebDesErato...</td>\n      <td>13</td>\n      <td>21</td>\n      <td>4242.951816</td>\n      <td>0.183834</td>\n    </tr>\n    <tr>\n      <th>59</th>\n      <td>Code</td>\n      <td>0.0</td>\n      <td>16.995838</td>\n      <td>./data/filteredData/Participant59/ReverseQueue...</td>\n      <td>./data/filteredData/Participant59/ReverseQueue...</td>\n      <td>19</td>\n      <td>25</td>\n      <td>4196.120565</td>\n      <td>0.271680</td>\n    </tr>\n    <tr>\n      <th>60</th>\n      <td>Code</td>\n      <td>0.0</td>\n      <td>48.674718</td>\n      <td>./data/filteredData/Participant60/BogoSortcode...</td>\n      <td>./data/filteredData/Participant60/BogoSortcode...</td>\n      <td>29</td>\n      <td>30</td>\n      <td>4334.798324</td>\n      <td>0.401403</td>\n    </tr>\n    <tr>\n      <th>61</th>\n      <td>Code</td>\n      <td>0.0</td>\n      <td>11.003654</td>\n      <td>./data/filteredData/Participant61/IsPrimecode_...</td>\n      <td>./data/filteredData/Participant61/IsPrimecode_...</td>\n      <td>14</td>\n      <td>30</td>\n      <td>4314.790617</td>\n      <td>0.194679</td>\n    </tr>\n    <tr>\n      <th>62</th>\n      <td>Code</td>\n      <td>0.0</td>\n      <td>22.139028</td>\n      <td>./data/filteredData/Participant62/Ackermancode...</td>\n      <td>./data/filteredData/Participant62/Ackermancode...</td>\n      <td>25</td>\n      <td>30</td>\n      <td>4238.889176</td>\n      <td>0.353866</td>\n    </tr>\n    <tr>\n      <th>63</th>\n      <td>Code</td>\n      <td>0.0</td>\n      <td>36.052612</td>\n      <td>./data/filteredData/Participant63/HeightOfTree...</td>\n      <td>./data/filteredData/Participant63/HeightOfTree...</td>\n      <td>23</td>\n      <td>27</td>\n      <td>4143.298634</td>\n      <td>0.333068</td>\n    </tr>\n    <tr>\n      <th>66</th>\n      <td>Code</td>\n      <td>0.0</td>\n      <td>25.362069</td>\n      <td>./data/filteredData/Participant66/Powercode_ey...</td>\n      <td>./data/filteredData/Participant66/Powercode_ee...</td>\n      <td>27</td>\n      <td>32</td>\n      <td>3019.293793</td>\n      <td>0.536549</td>\n    </tr>\n    <tr>\n      <th>67</th>\n      <td>Code</td>\n      <td>0.0</td>\n      <td>24.222430</td>\n      <td>./data/filteredData/Participant67/RectanglePow...</td>\n      <td>./data/filteredData/Participant67/RectanglePow...</td>\n      <td>18</td>\n      <td>22</td>\n      <td>4155.514052</td>\n      <td>0.259896</td>\n    </tr>\n    <tr>\n      <th>68</th>\n      <td>Code</td>\n      <td>0.0</td>\n      <td>51.160555</td>\n      <td>./data/filteredData/Participant68/GreatestComm...</td>\n      <td>./data/filteredData/Participant68/GreatestComm...</td>\n      <td>19</td>\n      <td>23</td>\n      <td>2629.274382</td>\n      <td>0.433580</td>\n    </tr>\n    <tr>\n      <th>70</th>\n      <td>Code</td>\n      <td>0.0</td>\n      <td>84.501124</td>\n      <td>./data/filteredData/Participant70/PermuteStrin...</td>\n      <td>./data/filteredData/Participant70/PermuteStrin...</td>\n      <td>17</td>\n      <td>25</td>\n      <td>4406.403413</td>\n      <td>0.231481</td>\n    </tr>\n    <tr>\n      <th>71</th>\n      <td>Code</td>\n      <td>0.0</td>\n      <td>45.013098</td>\n      <td>./data/filteredData/Participant71/HIndexcode_e...</td>\n      <td>./data/filteredData/Participant71/HIndexcode_e...</td>\n      <td>25</td>\n      <td>31</td>\n      <td>3443.124016</td>\n      <td>0.435651</td>\n    </tr>\n  </tbody>\n</table>\n</div>"
     },
     "execution_count": 11,
     "metadata": {},
     "output_type": "execute_result"
    }
   ],
   "source": [
    "df_skill = df_behavioral[~df_behavioral.index.duplicated(keep='first')]\n",
    "df_skill = df_skill.drop(columns=[\"Algorithm\", \"Behavioral\", \"Duration\", \"IsOutlier\"])\n",
    "df_skill"
   ],
   "metadata": {
    "collapsed": false,
    "pycharm": {
     "name": "#%%\n"
    }
   }
  },
  {
   "cell_type": "code",
   "execution_count": 12,
   "outputs": [
    {
     "data": {
      "text/plain": "       StartTime     EndTime  SumCorrect      Total  SumDurationInMinutes  \\\ncount       37.0   37.000000   37.000000  37.000000             37.000000   \nmean         0.0   56.987013   20.729730  27.513514           3922.607475   \nstd          0.0   49.216489    5.107993   4.658455            527.793165   \nmin          0.0   10.538237   10.000000  15.000000           2466.782760   \n25%          0.0   24.274830   17.000000  25.000000           3954.307315   \n50%          0.0   36.052612   21.000000  30.000000           4122.392179   \n75%          0.0   70.163245   24.000000  31.000000           4217.962996   \nmax          0.0  180.050434   29.000000  32.000000           4628.015541   \n\n       SkillScore  \ncount   37.000000  \nmean     0.325230  \nstd      0.102510  \nmin      0.142520  \n25%      0.259896  \n50%      0.315932  \n75%      0.379187  \nmax      0.656726  ",
      "text/html": "<div>\n<style scoped>\n    .dataframe tbody tr th:only-of-type {\n        vertical-align: middle;\n    }\n\n    .dataframe tbody tr th {\n        vertical-align: top;\n    }\n\n    .dataframe thead th {\n        text-align: right;\n    }\n</style>\n<table border=\"1\" class=\"dataframe\">\n  <thead>\n    <tr style=\"text-align: right;\">\n      <th></th>\n      <th>StartTime</th>\n      <th>EndTime</th>\n      <th>SumCorrect</th>\n      <th>Total</th>\n      <th>SumDurationInMinutes</th>\n      <th>SkillScore</th>\n    </tr>\n  </thead>\n  <tbody>\n    <tr>\n      <th>count</th>\n      <td>37.0</td>\n      <td>37.000000</td>\n      <td>37.000000</td>\n      <td>37.000000</td>\n      <td>37.000000</td>\n      <td>37.000000</td>\n    </tr>\n    <tr>\n      <th>mean</th>\n      <td>0.0</td>\n      <td>56.987013</td>\n      <td>20.729730</td>\n      <td>27.513514</td>\n      <td>3922.607475</td>\n      <td>0.325230</td>\n    </tr>\n    <tr>\n      <th>std</th>\n      <td>0.0</td>\n      <td>49.216489</td>\n      <td>5.107993</td>\n      <td>4.658455</td>\n      <td>527.793165</td>\n      <td>0.102510</td>\n    </tr>\n    <tr>\n      <th>min</th>\n      <td>0.0</td>\n      <td>10.538237</td>\n      <td>10.000000</td>\n      <td>15.000000</td>\n      <td>2466.782760</td>\n      <td>0.142520</td>\n    </tr>\n    <tr>\n      <th>25%</th>\n      <td>0.0</td>\n      <td>24.274830</td>\n      <td>17.000000</td>\n      <td>25.000000</td>\n      <td>3954.307315</td>\n      <td>0.259896</td>\n    </tr>\n    <tr>\n      <th>50%</th>\n      <td>0.0</td>\n      <td>36.052612</td>\n      <td>21.000000</td>\n      <td>30.000000</td>\n      <td>4122.392179</td>\n      <td>0.315932</td>\n    </tr>\n    <tr>\n      <th>75%</th>\n      <td>0.0</td>\n      <td>70.163245</td>\n      <td>24.000000</td>\n      <td>31.000000</td>\n      <td>4217.962996</td>\n      <td>0.379187</td>\n    </tr>\n    <tr>\n      <th>max</th>\n      <td>0.0</td>\n      <td>180.050434</td>\n      <td>29.000000</td>\n      <td>32.000000</td>\n      <td>4628.015541</td>\n      <td>0.656726</td>\n    </tr>\n  </tbody>\n</table>\n</div>"
     },
     "execution_count": 12,
     "metadata": {},
     "output_type": "execute_result"
    }
   ],
   "source": [
    "df_skill.describe()"
   ],
   "metadata": {
    "collapsed": false,
    "pycharm": {
     "name": "#%%\n"
    }
   }
  },
  {
   "cell_type": "code",
   "execution_count": 13,
   "outputs": [
    {
     "data": {
      "text/plain": "Text(0.5, 1.0, 'Correct answers per minute Distribution')"
     },
     "execution_count": 13,
     "metadata": {},
     "output_type": "execute_result"
    },
    {
     "data": {
      "text/plain": "<Figure size 432x288 with 1 Axes>",
      "image/png": "[encoded data removed]"
     },
     "metadata": {
      "needs_background": "light"
     },
     "output_type": "display_data"
    }
   ],
   "source": [
    "g = sns.violinplot(y=\"SkillScore\", data=df_skill, inner=\"box\")\n",
    "g.set_xlabel(\"Participant\")\n",
    "g.set_ylabel(\"Correct answers per minute\")\n",
    "g.set_title(\"Correct answers per minute Distribution\")"
   ],
   "metadata": {
    "collapsed": false,
    "pycharm": {
     "name": "#%%\n"
    }
   }
  },
  {
   "cell_type": "code",
   "execution_count": 14,
   "outputs": [
    {
     "data": {
      "text/plain": "ShapiroResult(statistic=0.9470059871673584, pvalue=0.07728726416826248)"
     },
     "execution_count": 14,
     "metadata": {},
     "output_type": "execute_result"
    }
   ],
   "source": [
    "# check if correct_per_time is normal distributed with shapiro-wilk test\n",
    "import scipy\n",
    "\n",
    "scipy.stats.shapiro(df_skill[\"SkillScore\"])"
   ],
   "metadata": {
    "collapsed": false,
    "pycharm": {
     "name": "#%%\n"
    }
   }
  },
  {
   "cell_type": "code",
   "execution_count": 15,
   "outputs": [],
   "source": [
    "df_behavioral.to_csv(\"./data/filteredData/filtered_data.csv\")"
   ],
   "metadata": {
    "collapsed": false,
    "pycharm": {
     "name": "#%%\n"
    }
   }
  },
  {
   "cell_type": "code",
   "execution_count": null,
   "outputs": [],
   "source": [],
   "metadata": {
    "collapsed": false,
    "pycharm": {
     "name": "#%%\n"
    }
   }
  }
 ],
 "metadata": {
  "kernelspec": {
   "display_name": "Python 3",
   "language": "python",
   "name": "python3"
  },
  "language_info": {
   "codemirror_mode": {
    "name": "ipython",
    "version": 2
   },
   "file_extension": ".py",
   "mimetype": "text/x-python",
   "name": "python",
   "nbconvert_exporter": "python",
   "pygments_lexer": "ipython2",
   "version": "2.7.6"
  }
 },
 "nbformat": 4,
 "nbformat_minor": 0
}