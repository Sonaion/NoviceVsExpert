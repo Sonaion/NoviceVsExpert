{
 "cells": [
  {
   "cell_type": "markdown",
   "id": "e5b0b9bc-9a85-4521-8210-9e1ef92c238c",
   "metadata": {},
   "source": [
    "<h2> Load Data</h2>"
   ]
  },
  {
   "cell_type": "code",
   "execution_count": 1,
   "id": "81dc01b0-3756-4775-a258-f1a956ae9599",
   "metadata": {},
   "outputs": [],
   "source": [
    "import warnings\n",
    "\n",
    "%matplotlib qt\n",
    "import matplotlib.pyplot as plt\n",
    "import pandas as pd\n",
    "import preparers\n",
    "from pandas.core.common import SettingWithCopyWarning\n",
    "\n",
    "warnings.simplefilter(action=\"ignore\", category=SettingWithCopyWarning)"
   ]
  },
  {
   "cell_type": "code",
   "execution_count": 2,
   "id": "9e48d263-899b-4295-b8c4-133cb4324147",
   "metadata": {},
   "outputs": [
    {
     "name": "stdout",
     "output_type": "stream",
     "text": [
      "Loading Ackerman Files .........\n",
      "Loading BogoSort Files .........\n"
     ]
    }
   ],
   "source": [
    "data = preparers.load_queried(\n",
    "    participant_number=1,\n",
    "    snippets=[\"BogoSort\", \"Ackerman\"],\n",
    "    query_code=True,\n",
    "    query_eeg=True,\n",
    "    query_eye_tracking=True,\n",
    "    query_behavioral=True,\n",
    "    query_log=True,\n",
    "    query_input=True,\n",
    "    query_meta=True,\n",
    ")"
   ]
  },
  {
   "cell_type": "markdown",
   "id": "afb574a9-b8de-4932-b508-b37033b539e2",
   "metadata": {},
   "source": [
    "<h2>potential funtion arguments</h2>"
   ]
  },
  {
   "cell_type": "code",
   "execution_count": 3,
   "id": "317fad01-4bde-44ad-a2bf-0b61ab0365ad",
   "metadata": {},
   "outputs": [],
   "source": [
    "fig, ax = (None, None)\n",
    "image_path = \"./screenshots/BogoSort.png\"\n",
    "display_width = 1920\n",
    "display_height = 1080"
   ]
  },
  {
   "cell_type": "markdown",
   "id": "256a6b9e-ed91-4a77-bcc7-61ed719c8f37",
   "metadata": {},
   "source": [
    "<h2> make animation</h2>"
   ]
  },
  {
   "cell_type": "code",
   "execution_count": 4,
   "id": "6e789902-fa86-40ee-af55-6dfda9fc0f09",
   "metadata": {},
   "outputs": [],
   "source": [
    "df_eyetracking = data[\"BogoSort\"][\"Code\"][\"EyeTracking\"][\n",
    "    [\"l_valid\", \"r_valid\", \"l_display_x\", \"l_display_y\", \"r_display_x\", \"r_display_y\", \"time\", \"l_pupil_diameter\", \"r_pupil_diameter\",]\n",
    "]\n",
    "df_eyetracking[\"l_display_x\"] = df_eyetracking[\"l_display_x\"].apply(lambda x: x * display_width)\n",
    "df_eyetracking[\"l_display_x\"] = df_eyetracking[\"l_display_x\"].astype(int)\n",
    "\n",
    "df_eyetracking[\"r_display_x\"] = df_eyetracking[\"r_display_x\"].apply(lambda x: x * display_width)\n",
    "df_eyetracking[\"r_display_x\"] = df_eyetracking[\"r_display_x\"].astype(int)\n",
    "\n",
    "df_eyetracking[\"l_display_y\"] = df_eyetracking[\"l_display_y\"].apply(lambda x: x * display_height)\n",
    "df_eyetracking[\"l_display_y\"] = df_eyetracking[\"l_display_y\"].astype(int)\n",
    "\n",
    "df_eyetracking[\"r_display_y\"] = df_eyetracking[\"r_display_y\"].apply(lambda x: x * display_height)\n",
    "df_eyetracking[\"r_display_y\"] = df_eyetracking[\"r_display_y\"].astype(int)\n",
    "\n",
    "raw_eeg = data[\"BogoSort\"][\"Code\"][\"EEG\"]"
   ]
  },
  {
   "cell_type": "code",
   "execution_count": 13,
   "id": "7c0fc9b7-9f2a-4f72-9098-6f55df186e85",
   "metadata": {},
   "outputs": [],
   "source": [
    "import math\n",
    "import tkinter as tk\n",
    "\n",
    "import matplotlib.image as mpimg\n",
    "import matplotlib.pyplot as plt\n",
    "from matplotlib.backends.backend_tkagg import FigureCanvasTkAgg\n",
    "from matplotlib.gridspec import GridSpec\n",
    "from pandas import DataFrame\n",
    "\n",
    "\n",
    "class DataStreamer:\n",
    "    def __draw_image_to(self, axis, image, title=\"\"):\n",
    "        axis.imshow(image)\n",
    "        axis.set_title(title)\n",
    "        axis.axis(\"off\")\n",
    "\n",
    "    def __draw_plot_to(self, axis, x, y, current_time, style=\"c-\", title=\"\", xlabel=\"\", ylabel=\"\"):\n",
    "        axis.plot(x, y, style)\n",
    "        axis.set_title(title)\n",
    "        axis.set_xlabel(xlabel)\n",
    "        axis.set_ylabel(ylabel)\n",
    "        axis.axvline(\n",
    "            x=current_time, color=\"k\", linestyle=\"--\",\n",
    "        )\n",
    "\n",
    "    def __draw_eeg_to(self, axis, raw, time, title=\"\"):\n",
    "        axis.set_title(title)\n",
    "        df_eeg = raw.to_data_frame()\n",
    "        df_time = df_eeg[\"time\"]\n",
    "        df_eeg = df_eeg.drop([\"x_dir\", \"y_dir\", \"z_dir\"], axis=1)\n",
    "        df_eeg = df_eeg.set_index(\"time\")\n",
    "\n",
    "        current = 0.0\n",
    "        step = math.ceil(max(abs(min(df_eeg.min())), abs(max(df_eeg.max()))) / 10.0)\n",
    "        y_ticks = []\n",
    "        for name, value in df_eeg.iteritems():\n",
    "            df_eeg[name] = df_eeg[name] + current\n",
    "            y_ticks.append(current)\n",
    "            current += step\n",
    "\n",
    "        axis.plot(df_time, df_eeg)\n",
    "        axis.set_xlim(0, df_time.max())\n",
    "        axis.axvline(\n",
    "            x=time, color=\"k\", linestyle=\"--\",\n",
    "        )\n",
    "        axis.set_yticks(y_ticks)\n",
    "        axis.set_yticklabels(df_eeg.columns)\n",
    "\n",
    "    # helper functions for matplotlib and gui setup\n",
    "\n",
    "    def __plot_to_gui(self, figure, root, column, row, columnspan=1, rowspan=1, sticky=\"news\"):\n",
    "        tk_fig = FigureCanvasTkAgg(figure, root)\n",
    "        tk_fig.get_tk_widget().grid(column=column, row=row, columnspan=columnspan, rowspan=rowspan, sticky=\"nw\")\n",
    "\n",
    "    def __create_figure(self, figsize, dpi=80):\n",
    "        fig = plt.Figure(figsize=figsize, dpi=dpi)\n",
    "        ax = fig.add_subplot(111)\n",
    "        return fig, ax\n",
    "\n",
    "    # gui building functions start here\n",
    "\n",
    "    def __draw_main_image(self):\n",
    "        (fig, ax) = self.__create_figure((self.main_image_width, self.main_image_height))\n",
    "        self.__draw_image_to(ax, self.base_image, title=\"Main Image\")\n",
    "        width = self.left_eye_current_width\n",
    "        self.__plot_to_gui(fig, root, width, 0, self.main_image_width, self.main_image_height)\n",
    "\n",
    "    def __draw_left_eye_gaze(self):\n",
    "        (fig, ax) = self.__create_figure((self.left_eye_gaze_width, self.left_eye_gaze_height))\n",
    "        self.__draw_plot_to(\n",
    "            ax,\n",
    "            self.df_eyetracking[\"time\"],\n",
    "            self.df_eyetracking[\"l_pupil_diameter\"],\n",
    "            self.current_time,\n",
    "            style=\"c-\",\n",
    "            title=\"left pupil diameter\",\n",
    "            xlabel=\"time in seconds\",\n",
    "            ylabel=\"diameter in mm\",\n",
    "        )\n",
    "        self.__plot_to_gui(fig, root, 0, 0, self.left_eye_gaze_height, self.left_eye_gaze_width)\n",
    "\n",
    "    def __draw_right_eye_gaze(self):\n",
    "        (fig, ax) = self.__create_figure((self.right_eye_gaze_width, self.right_eye_gaze_height))\n",
    "        self.__draw_plot_to(\n",
    "            ax,\n",
    "            self.df_eyetracking[\"time\"],\n",
    "            self.df_eyetracking[\"r_pupil_diameter\"],\n",
    "            self.current_time,\n",
    "            style=\"c-\",\n",
    "            title=\"right pupil diameter\",\n",
    "            xlabel=\"time in seconds\",\n",
    "            ylabel=\"diameter in mm\",\n",
    "        )\n",
    "        height = self.left_eye_gaze_height\n",
    "        self.__plot_to_gui(fig, root, 0, height, self.right_eye_gaze_height, self.right_eye_gaze_width)\n",
    "\n",
    "    def __draw_left_eye_current(self):\n",
    "        (fig, ax) = self.__create_figure((self.left_eye_current_width, self.left_eye_current_height))\n",
    "        # todo - change image\n",
    "        self.__draw_image_to(ax, self.base_image, title=\"Current Left Eye\")\n",
    "        height = self.left_eye_gaze_height + self.right_eye_gaze_height\n",
    "        self.__plot_to_gui(fig, root, 0, height, self.left_eye_current_height, self.left_eye_current_width)\n",
    "\n",
    "    def __draw_right_eye_current(self):\n",
    "        (fig, ax) = self.__create_figure((self.right_eye_current_width, self.right_eye_current_height))\n",
    "        # todo - change image\n",
    "        self.__draw_image_to(ax, self.base_image, title=\"Current Right Eye\")\n",
    "        height = self.left_eye_gaze_height + self.right_eye_gaze_height + self.left_eye_current_height\n",
    "        self.__plot_to_gui(fig, root, 0, height, self.right_eye_current_height, self.right_eye_current_width)\n",
    "\n",
    "    # init from here on\n",
    "\n",
    "    def __init__(self, master, image_path, df_eyetracking, raw_eeg):\n",
    "        self.master = master\n",
    "        master.title(\"Eyetracking-EEG Analysis Tool\")\n",
    "        self.current_time = 3970\n",
    "\n",
    "        self.base_image = plt.imread(image_path)\n",
    "\n",
    "        self.main_image_width = 12\n",
    "        self.main_image_height = 12\n",
    "\n",
    "        self.left_eye_gaze_width = 4\n",
    "        self.left_eye_gaze_height = 2\n",
    "\n",
    "        self.right_eye_gaze_width = 4\n",
    "        self.right_eye_gaze_height = 2\n",
    "\n",
    "        self.left_eye_current_width = 4\n",
    "        self.left_eye_current_height = 4\n",
    "\n",
    "        self.right_eye_current_width = 4\n",
    "        self.right_eye_current_height = 4\n",
    "\n",
    "        self.top_plot_width = 4\n",
    "        self.top_plot_height = 4\n",
    "\n",
    "        self.eeg_channels_width = 8\n",
    "        self.eeg_channels_height = 8\n",
    "\n",
    "        self.df_eeg = raw_eeg.to_data_frame()\n",
    "        self.df_eeg = self.df_eeg.drop([\"x_dir\", \"y_dir\", \"z_dir\"], axis=1)\n",
    "\n",
    "        self.df_eyetracking = df_eyetracking\n",
    "\n",
    "        self.__draw_left_eye_gaze()\n",
    "        self.__draw_right_eye_gaze()\n",
    "        self.__draw_left_eye_current()\n",
    "        self.__draw_right_eye_current()\n",
    "        self.__draw_main_image()\n",
    "\n",
    "\n",
    "root = tk.Tk()\n",
    "window = DataStreamer(root, image_path, df_eyetracking, raw_eeg)\n",
    "root.mainloop()"
   ]
  },
  {
   "cell_type": "code",
   "execution_count": 12,
   "id": "464fb64d-450b-4eab-8b32-64423743cebc",
   "metadata": {},
   "outputs": [
    {
     "ename": "AttributeError",
     "evalue": "module 'mne' has no attribute 'read_raw_eeg'",
     "output_type": "error",
     "traceback": [
      "\u001b[1;31m---------------------------------------------------------------------------\u001b[0m",
      "\u001b[1;31mAttributeError\u001b[0m                            Traceback (most recent call last)",
      "\u001b[1;32m<ipython-input-12-6c1590e579c1>\u001b[0m in \u001b[0;36m<module>\u001b[1;34m\u001b[0m\n\u001b[0;32m      1\u001b[0m \u001b[1;32mimport\u001b[0m \u001b[0mmne\u001b[0m\u001b[1;33m\u001b[0m\u001b[1;33m\u001b[0m\u001b[0m\n\u001b[0;32m      2\u001b[0m \u001b[1;33m\u001b[0m\u001b[0m\n\u001b[1;32m----> 3\u001b[1;33m \u001b[0msomething\u001b[0m \u001b[1;33m=\u001b[0m \u001b[0mmne\u001b[0m\u001b[1;33m.\u001b[0m\u001b[0mread_raw_eeg\u001b[0m\u001b[1;33m(\u001b[0m\u001b[1;34m\"./filteredData/Participant01/EEG/Code_BogoSort_raw.fif\"\u001b[0m\u001b[1;33m)\u001b[0m\u001b[1;33m\u001b[0m\u001b[1;33m\u001b[0m\u001b[0m\n\u001b[0m",
      "\u001b[1;31mAttributeError\u001b[0m: module 'mne' has no attribute 'read_raw_eeg'"
     ]
    }
   ],
   "source": [
    "import mne\n",
    "\n",
    "something = mne.read_raw_eeg(\"./filteredData/Participant01/EEG/Code_BogoSort_raw.fif\")"
   ]
  },
  {
   "cell_type": "code",
   "execution_count": 8,
   "id": "2d68862d-0b7c-46f3-9f98-66564711a89b",
   "metadata": {},
   "outputs": [
    {
     "ename": "RuntimeError",
     "evalue": "No valid channel positions found",
     "output_type": "error",
     "traceback": [
      "\u001b[1;31m---------------------------------------------------------------------------\u001b[0m",
      "\u001b[1;31mRuntimeError\u001b[0m                              Traceback (most recent call last)",
      "\u001b[1;32m<ipython-input-8-31a7693ad8b5>\u001b[0m in \u001b[0;36m<module>\u001b[1;34m\u001b[0m\n\u001b[1;32m----> 1\u001b[1;33m \u001b[0mraw_eeg\u001b[0m\u001b[1;33m.\u001b[0m\u001b[0mplot_sensors\u001b[0m\u001b[1;33m(\u001b[0m\u001b[1;33m)\u001b[0m\u001b[1;33m\u001b[0m\u001b[1;33m\u001b[0m\u001b[0m\n\u001b[0m",
      "\u001b[1;32m<decorator-gen-36>\u001b[0m in \u001b[0;36mplot_sensors\u001b[1;34m(self, kind, ch_type, title, show_names, ch_groups, to_sphere, axes, block, show, sphere, verbose)\u001b[0m\n",
      "\u001b[1;32m~\\anaconda3\\lib\\site-packages\\mne\\channels\\channels.py\u001b[0m in \u001b[0;36mplot_sensors\u001b[1;34m(self, kind, ch_type, title, show_names, ch_groups, to_sphere, axes, block, show, sphere, verbose)\u001b[0m\n\u001b[0;32m    591\u001b[0m         \"\"\"\n\u001b[0;32m    592\u001b[0m         \u001b[1;32mfrom\u001b[0m \u001b[1;33m.\u001b[0m\u001b[1;33m.\u001b[0m\u001b[0mviz\u001b[0m\u001b[1;33m.\u001b[0m\u001b[0mutils\u001b[0m \u001b[1;32mimport\u001b[0m \u001b[0mplot_sensors\u001b[0m\u001b[1;33m\u001b[0m\u001b[1;33m\u001b[0m\u001b[0m\n\u001b[1;32m--> 593\u001b[1;33m         return plot_sensors(self.info, kind=kind, ch_type=ch_type, title=title,\n\u001b[0m\u001b[0;32m    594\u001b[0m                             \u001b[0mshow_names\u001b[0m\u001b[1;33m=\u001b[0m\u001b[0mshow_names\u001b[0m\u001b[1;33m,\u001b[0m \u001b[0mch_groups\u001b[0m\u001b[1;33m=\u001b[0m\u001b[0mch_groups\u001b[0m\u001b[1;33m,\u001b[0m\u001b[1;33m\u001b[0m\u001b[1;33m\u001b[0m\u001b[0m\n\u001b[0;32m    595\u001b[0m                             \u001b[0mto_sphere\u001b[0m\u001b[1;33m=\u001b[0m\u001b[0mto_sphere\u001b[0m\u001b[1;33m,\u001b[0m \u001b[0maxes\u001b[0m\u001b[1;33m=\u001b[0m\u001b[0maxes\u001b[0m\u001b[1;33m,\u001b[0m \u001b[0mblock\u001b[0m\u001b[1;33m=\u001b[0m\u001b[0mblock\u001b[0m\u001b[1;33m,\u001b[0m\u001b[1;33m\u001b[0m\u001b[1;33m\u001b[0m\u001b[0m\n",
      "\u001b[1;32m<decorator-gen-97>\u001b[0m in \u001b[0;36mplot_sensors\u001b[1;34m(info, kind, ch_type, title, show_names, ch_groups, to_sphere, axes, block, show, sphere, verbose)\u001b[0m\n",
      "\u001b[1;32m~\\anaconda3\\lib\\site-packages\\mne\\viz\\utils.py\u001b[0m in \u001b[0;36mplot_sensors\u001b[1;34m(info, kind, ch_type, title, show_names, ch_groups, to_sphere, axes, block, show, sphere, verbose)\u001b[0m\n\u001b[0;32m    910\u001b[0m     \u001b[0mchs\u001b[0m \u001b[1;33m=\u001b[0m \u001b[1;33m[\u001b[0m\u001b[0minfo\u001b[0m\u001b[1;33m[\u001b[0m\u001b[1;34m'chs'\u001b[0m\u001b[1;33m]\u001b[0m\u001b[1;33m[\u001b[0m\u001b[0mpick\u001b[0m\u001b[1;33m]\u001b[0m \u001b[1;32mfor\u001b[0m \u001b[0mpick\u001b[0m \u001b[1;32min\u001b[0m \u001b[0mpicks\u001b[0m\u001b[1;33m]\u001b[0m\u001b[1;33m\u001b[0m\u001b[1;33m\u001b[0m\u001b[0m\n\u001b[0;32m    911\u001b[0m     \u001b[1;32mif\u001b[0m \u001b[1;32mnot\u001b[0m \u001b[0m_check_ch_locs\u001b[0m\u001b[1;33m(\u001b[0m\u001b[0mchs\u001b[0m\u001b[1;33m)\u001b[0m\u001b[1;33m:\u001b[0m\u001b[1;33m\u001b[0m\u001b[1;33m\u001b[0m\u001b[0m\n\u001b[1;32m--> 912\u001b[1;33m         \u001b[1;32mraise\u001b[0m \u001b[0mRuntimeError\u001b[0m\u001b[1;33m(\u001b[0m\u001b[1;34m'No valid channel positions found'\u001b[0m\u001b[1;33m)\u001b[0m\u001b[1;33m\u001b[0m\u001b[1;33m\u001b[0m\u001b[0m\n\u001b[0m\u001b[0;32m    913\u001b[0m     \u001b[0mdev_head_t\u001b[0m \u001b[1;33m=\u001b[0m \u001b[0minfo\u001b[0m\u001b[1;33m[\u001b[0m\u001b[1;34m'dev_head_t'\u001b[0m\u001b[1;33m]\u001b[0m\u001b[1;33m\u001b[0m\u001b[1;33m\u001b[0m\u001b[0m\n\u001b[0;32m    914\u001b[0m     \u001b[0mpos\u001b[0m \u001b[1;33m=\u001b[0m \u001b[0mnp\u001b[0m\u001b[1;33m.\u001b[0m\u001b[0mempty\u001b[0m\u001b[1;33m(\u001b[0m\u001b[1;33m(\u001b[0m\u001b[0mlen\u001b[0m\u001b[1;33m(\u001b[0m\u001b[0mchs\u001b[0m\u001b[1;33m)\u001b[0m\u001b[1;33m,\u001b[0m \u001b[1;36m3\u001b[0m\u001b[1;33m)\u001b[0m\u001b[1;33m)\u001b[0m\u001b[1;33m\u001b[0m\u001b[1;33m\u001b[0m\u001b[0m\n",
      "\u001b[1;31mRuntimeError\u001b[0m: No valid channel positions found"
     ]
    }
   ],
   "source": [
    "raw_eeg.plot_sensors()"
   ]
  },
  {
   "cell_type": "code",
   "execution_count": null,
   "id": "23ee08fe-859e-43cb-81d5-7e036fc579b4",
   "metadata": {},
   "outputs": [],
   "source": []
  }
 ],
 "metadata": {
  "kernelspec": {
   "display_name": "Python 3",
   "language": "python",
   "name": "python3"
  },
  "language_info": {
   "codemirror_mode": {
    "name": "ipython",
    "version": 3
   },
   "file_extension": ".py",
   "mimetype": "text/x-python",
   "name": "python",
   "nbconvert_exporter": "python",
   "pygments_lexer": "ipython3",
   "version": "3.8.8"
  }
 },
 "nbformat": 4,
 "nbformat_minor": 5
}
