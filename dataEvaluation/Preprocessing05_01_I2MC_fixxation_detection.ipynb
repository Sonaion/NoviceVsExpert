{
 "cells": [
  {
   "cell_type": "markdown",
   "source": [
    "# Preprocessing 05 - Fixation Detection\n",
    "\n",
    "## Import Libraries"
   ],
   "metadata": {
    "collapsed": false,
    "pycharm": {
     "name": "#%% md\n"
    }
   }
  },
  {
   "cell_type": "code",
   "execution_count": 1,
   "outputs": [],
   "source": [
    "from utils.remodnav import perform_remodnav\n",
    "import pandas as pd\n",
    "import numpy as np\n",
    "import scipy.signal as signal\n",
    "import matplotlib.pyplot as plt\n",
    "from tqdm.auto import tqdm\n",
    "import os, contextlib"
   ],
   "metadata": {
    "collapsed": false,
    "pycharm": {
     "name": "#%%\n"
    }
   }
  },
  {
   "cell_type": "markdown",
   "source": [
    "## Set Options for I2MC algorithm"
   ],
   "metadata": {
    "collapsed": false,
    "pycharm": {
     "name": "#%% md\n"
    }
   }
  },
  {
   "cell_type": "code",
   "execution_count": 2,
   "outputs": [],
   "source": [
    "opt = dict()\n",
    "# General variables for eye-tracking data\n",
    "# maximum value of horizontal resolution in pixels\n",
    "opt['xres'] = 1920.0\n",
    "opt['yres'] = 1080.0  # maximum value of vertical resolution in pixels\n",
    "# missing value for horizontal position in eye-tracking data (example data uses -xres). used throughout\n",
    "# internal_helpers as signal for data loss\n",
    "opt['missingx'] = -opt['xres']\n",
    "# missing value for vertical position in eye-tracking data (example data uses -yres). used throughout\n",
    "# internal_helpers as signal for data loss\n",
    "opt['missingy'] = -opt['yres']\n",
    "# sampling frequency of data (check that this value matches with values actually obtained from measurement!)\n",
    "opt['freq'] = 250.0\n",
    "\n",
    "# Variables for the calculation of visual angle\n",
    "# These values are used to calculate noise measures (RMS and BCEA) of\n",
    "# fixations. The may be left as is, but don't use the noise measures then.\n",
    "# If either or both are empty, the noise measures are provided in pixels\n",
    "# instead of degrees.\n",
    "# screen size in cm\n",
    "opt['scrSz'] = [55.0, 32.5]\n",
    "# distance to screen in cm.\n",
    "opt['disttoscreen'] = 65.0\n",
    "\n",
    "# STEFFEN INTERPOLATION\n",
    "# max duration (s) of missing values for interpolation to occur\n",
    "opt['windowtimeInterp'] = 0.1\n",
    "# amount of data (number of samples) at edges needed for interpolation\n",
    "opt['edgeSampInterp'] = 2\n",
    "# maximum displacement during missing for interpolation to be possible\n",
    "opt['maxdisp'] = opt['xres'] * 0.2 * np.sqrt(2)\n",
    "\n",
    "# # K-MEANS CLUSTERING\n",
    "# time window (s) over which to calculate 2-means clustering (choose value so that max. 1 saccade can occur)\n",
    "opt['windowtime'] = 0.2\n",
    "# time window shift (s) for each iteration. Use zero for sample by sample processing\n",
    "opt['steptime'] = 0.02\n",
    "# maximum number of errors allowed in k-means clustering procedure before proceeding to next file\n",
    "opt['maxerrors'] = 100\n",
    "opt['downsamples'] = [2, 5, 10]\n",
    "# use chebychev filter when down sampling? 1: yes, 0: no. requires signal processing toolbox. is what matlab's\n",
    "# down sampling internal_helpers do, but could cause trouble (ringing) with the hard edges in eye-movement data\n",
    "opt['downsampFilter'] = False\n",
    "\n",
    "# # FIXATION DETERMINATION\n",
    "# number of standard deviations above mean k-means weights will be used as fixation cutoff\n",
    "opt['cutoffstd'] = 2.0\n",
    "# number of MAD away from median fixation duration. Will be used to walk forward at fixation starts and backward at\n",
    "# fixation ends to refine their placement and stop algorithm from eating into saccades\n",
    "opt['onoffsetThresh'] = 3.0\n",
    "# maximum Euclidean distance in pixels between fixations for merging\n",
    "opt['maxMergeDist'] = 40.0\n",
    "# maximum time in ms between fixations for merging\n",
    "opt['maxMergeTime'] = 60.0\n",
    "# minimum fixation duration after merging, fixations with shorter duration are removed from output\n",
    "opt['minFixDur'] = 90.0"
   ],
   "metadata": {
    "collapsed": false,
    "pycharm": {
     "name": "#%%\n"
    }
   }
  },
  {
   "cell_type": "markdown",
   "source": [
    "## Iterate over every Algorithm - Participant and generate Fixation"
   ],
   "metadata": {
    "collapsed": false,
    "pycharm": {
     "name": "#%% md\n"
    }
   }
  },
  {
   "cell_type": "code",
   "execution_count": 3,
   "outputs": [
    {
     "ename": "AssertionError",
     "evalue": "",
     "output_type": "error",
     "traceback": [
      "\u001B[1;31m---------------------------------------------------------------------------\u001B[0m",
      "\u001B[1;31mAssertionError\u001B[0m                            Traceback (most recent call last)",
      "\u001B[1;32m<ipython-input-3-8447de0fba88>\u001B[0m in \u001B[0;36m<module>\u001B[1;34m\u001B[0m\n\u001B[0;32m      1\u001B[0m \u001B[1;31m# Read in the Behavioral Data\u001B[0m\u001B[1;33m\u001B[0m\u001B[1;33m\u001B[0m\u001B[1;33m\u001B[0m\u001B[0m\n\u001B[0;32m      2\u001B[0m \u001B[0mdf_behavioral\u001B[0m \u001B[1;33m=\u001B[0m \u001B[0mpd\u001B[0m\u001B[1;33m.\u001B[0m\u001B[0mread_csv\u001B[0m\u001B[1;33m(\u001B[0m\u001B[1;34m\"./data/filteredData/filtered_data.csv\"\u001B[0m\u001B[1;33m)\u001B[0m\u001B[1;33m\u001B[0m\u001B[1;33m\u001B[0m\u001B[0m\n\u001B[1;32m----> 3\u001B[1;33m \u001B[1;32massert\u001B[0m \u001B[1;32mFalse\u001B[0m\u001B[1;33m\u001B[0m\u001B[1;33m\u001B[0m\u001B[0m\n\u001B[0m\u001B[0;32m      4\u001B[0m \u001B[1;33m\u001B[0m\u001B[0m\n\u001B[0;32m      5\u001B[0m \u001B[1;31m# Setup Dataframe for storing fixation data\u001B[0m\u001B[1;33m\u001B[0m\u001B[1;33m\u001B[0m\u001B[1;33m\u001B[0m\u001B[0m\n",
      "\u001B[1;31mAssertionError\u001B[0m: "
     ]
    }
   ],
   "source": [
    "# Read in the Behavioral Data\n",
    "df_behavioral = pd.read_csv(\"./data/filteredData/filtered_data.csv\")\n",
    "assert False\n",
    "\n",
    "# Setup Dataframe for storing fixation data\n",
    "df_fixation = pd.DataFrame([], columns=[\"Participant\", \"Algorithm\", \"Behavioral\", \"StartTime\", \"EndTime\", \"Duration\", \"IsOutlier\", \"SkillScore\",\n",
    "                                        \"Fixation_startT\", \"Fixation_endT\",  \"Fixation_x\", \"Fixation_y\", \"Fixation_x_range\", \"Fixation_y_range\"])\n",
    "\n",
    "#iterate through each row to generate fixation data\n",
    "for index, row in tqdm(df_behavioral.iterrows(), total=len(df_behavioral)):\n",
    "    # read in eyetracking file\n",
    "    df_eyetracking = pd.read_csv(row[\"Eyetracking\"])\n",
    "\n",
    "    # normalize the time regarding eyetracking to 0\n",
    "    df_eyetracking[\"time\"] = df_eyetracking[\"time\"].astype(float)\n",
    "    df_eyetracking[\"time\"] = df_eyetracking[\"time\"] - df_eyetracking[\"time\"].iloc[0]\n",
    "\n",
    "    # drop unused columns\n",
    "    df_eyetracking = df_eyetracking.drop(columns=[\"l_gaze_point_in_user_coordinate_system_x\",\n",
    "                                                  \"l_gaze_point_in_user_coordinate_system_y\",\n",
    "                                                  \"l_gaze_point_in_user_coordinate_system_z\",\n",
    "                                                  \"r_gaze_point_in_user_coordinate_system_x\",\n",
    "                                                  \"r_gaze_point_in_user_coordinate_system_y\",\n",
    "                                                  \"r_gaze_point_in_user_coordinate_system_z\",\n",
    "                                                  \"l_gaze_origin_in_user_coordinate_system_x\",\n",
    "                                                  \"l_gaze_origin_in_user_coordinate_system_y\",\n",
    "                                                  \"l_gaze_origin_in_user_coordinate_system_z\",\n",
    "                                                  \"r_gaze_origin_in_user_coordinate_system_x\",\n",
    "                                                  \"r_gaze_origin_in_user_coordinate_system_y\",\n",
    "                                                  \"r_gaze_origin_in_user_coordinate_system_z\"])\n",
    "\n",
    "    # convert eyetracking data to display coordinates\n",
    "    df_eyetracking[\"l_display_x\"] = df_eyetracking[\"l_display_x\"].astype(float) * opt[\"xres\"]\n",
    "    df_eyetracking[\"l_display_y\"] = df_eyetracking[\"l_display_y\"].astype(float) * opt[\"yres\"]\n",
    "    df_eyetracking[\"r_display_x\"] = df_eyetracking[\"r_display_x\"].astype(float) * opt[\"xres\"]\n",
    "    df_eyetracking[\"r_display_y\"] = df_eyetracking[\"r_display_y\"].astype(float) * opt[\"yres\"]\n",
    "\n",
    "    # convert eyetracking data to I2MC valid flags\n",
    "    df_eyetracking[\"l_valid\"] = df_eyetracking[\"l_valid\"].astype(int)\n",
    "    df_eyetracking[\"r_valid\"] = df_eyetracking[\"r_valid\"].astype(int)\n",
    "\n",
    "    # convert miss column to right integer used by I2MC\n",
    "    df_eyetracking[\"l_miss_x\"] = df_eyetracking.apply(lambda row: row[\"l_display_x\"] < -opt[\"xres\"] or row[\"l_display_x\"] > 2 * opt[\"xres\"], axis=1)\n",
    "    df_eyetracking[\"l_miss_y\"] = df_eyetracking.apply(lambda row: row[\"l_display_y\"] < -opt[\"yres\"] or row[\"l_display_y\"] > 2 * opt[\"yres\"], axis=1)\n",
    "    df_eyetracking[\"r_miss_x\"] = df_eyetracking.apply(lambda row: row[\"r_display_x\"] < -opt[\"xres\"] or row[\"r_display_x\"] > 2 * opt[\"xres\"], axis=1)\n",
    "    df_eyetracking[\"r_miss_y\"] = df_eyetracking.apply(lambda row: row[\"r_display_y\"] < -opt[\"yres\"] or row[\"r_display_y\"] > 2 * opt[\"yres\"], axis=1)\n",
    "\n",
    "    df_eyetracking[\"l_miss\"] = df_eyetracking.apply(lambda row: row[\"l_miss_x\"] or row[\"l_miss_y\"] or not row[\"l_valid\"] >= 1, axis=1)\n",
    "    df_eyetracking[\"r_miss\"] = df_eyetracking.apply(lambda row: row[\"r_miss_x\"] or row[\"r_miss_y\"] or not row[\"r_valid\"] >= 1, axis=1)\n",
    "\n",
    "    # Set a default value for missing data\n",
    "    df_eyetracking.loc[df_eyetracking[\"l_miss\"], \"l_display_x\"] = opt[\"missingx\"]\n",
    "    df_eyetracking.loc[df_eyetracking[\"l_miss\"], \"l_display_y\"] = opt[\"missingy\"]\n",
    "    df_eyetracking.loc[df_eyetracking[\"r_miss\"], \"r_display_x\"] = opt[\"missingx\"]\n",
    "    df_eyetracking.loc[df_eyetracking[\"r_miss\"], \"r_display_y\"] = opt[\"missingy\"]\n",
    "\n",
    "    # drop unused columns\n",
    "    df_eyetracking = df_eyetracking.drop(columns=[\"l_miss_x\", \"l_miss_y\", \"r_miss_x\", \"r_miss_y\", \"l_miss\", \"r_miss\"])\n",
    "\n",
    "    # rename columns to match I2MC format\n",
    "    df_eyetracking.rename(columns={\"l_display_x\": \"L_X\",\n",
    "                                   \"l_display_y\": \"L_Y\",\n",
    "                                   \"r_display_x\": \"R_X\",\n",
    "                                   \"r_display_y\": \"R_Y\",\n",
    "                                   \"l_valid\" : \"LValidity\",\n",
    "                                   \"r_valid\" : \"RValidity\"}, inplace=True)\n",
    "\n",
    "    # Transform time to ms\n",
    "    df_eyetracking[\"time\"] = df_eyetracking[\"time\"].astype(float) * 1000.0\n",
    "\n",
    "    # df to dict of numpy array to be applicable to I2MC\n",
    "    data = {}\n",
    "    data[\"L_X\"] = df_eyetracking[\"L_X\"].to_numpy()\n",
    "    data[\"L_Y\"] = df_eyetracking[\"L_Y\"].to_numpy()\n",
    "    data[\"R_X\"] = df_eyetracking[\"R_X\"].to_numpy()\n",
    "    data[\"R_Y\"] = df_eyetracking[\"R_Y\"].to_numpy()\n",
    "    data[\"LValidity\"] = df_eyetracking[\"LValidity\"].to_numpy()\n",
    "    data[\"RValidity\"] = df_eyetracking[\"RValidity\"].to_numpy()\n",
    "    data[\"time\"] = df_eyetracking[\"time\"].to_numpy()\n",
    "\n",
    "    # run I2MC\n",
    "    try:\n",
    "        fix, data, par = I2MC.I2MC(data, opt, logging=False)\n",
    "    except Exception as e:\n",
    "        print('\\t\\tError in file: {}'.format(e))\n",
    "        continue\n",
    "\n",
    "    # Check if I2MC returned a fixation\n",
    "    if not fix:\n",
    "        print('{}-{}: Fixation calculation had some Problem'.format(row[\"Participant\"], row[\"Algorithm\"]))\n",
    "        continue\n",
    "\n",
    "    # potentially plot the fixation\n",
    "    #f = I2MC.plot.plot_data_and_fixations(data, fix, fix_as_line=True, res=[opt['xres'], opt['yres']])\n",
    "\n",
    "    # save the fixation\n",
    "    # extract meta data\n",
    "    participant = row[\"Participant\"]\n",
    "    algorithm = row[\"Algorithm\"]\n",
    "    behavioral = row[\"Behavioral\"]\n",
    "    start_time = row[\"StartTime\"]\n",
    "    end_time = row[\"EndTime\"]\n",
    "    duration = row[\"Duration\"]\n",
    "    is_outlier = row[\"IsOutlier\"]\n",
    "    skill_score = row[\"SkillScore\"]\n",
    "\n",
    "    # extract fixation data\n",
    "    fixations_start_time = np.array(fix[\"startT\"])\n",
    "    fixations_end_time = np.array(fix[\"endT\"])\n",
    "    fixations_x_pos = np.array(fix[\"xpos\"])\n",
    "    fixations_y_pos = np.array(fix[\"ypos\"])\n",
    "    fixations_x_range = np.array(fix[\"fixRangeX\"])\n",
    "    fixations_y_range = np.array(fix[\"fixRangeY\"])\n",
    "\n",
    "    # append data to dataframe\n",
    "    df_fixation.loc[len(df_fixation)] = [participant, algorithm, behavioral, start_time, end_time, duration, is_outlier, skill_score,\n",
    "                                         fixations_start_time, fixations_end_time, fixations_x_pos, fixations_y_pos, fixations_x_range, fixations_y_range]\n"
   ],
   "metadata": {
    "collapsed": false,
    "pycharm": {
     "name": "#%%\n"
    }
   }
  },
  {
   "cell_type": "markdown",
   "source": [
    "## Transform Fixation Lists to savable string for csv"
   ],
   "metadata": {
    "collapsed": false,
    "pycharm": {
     "name": "#%% md\n"
    }
   }
  },
  {
   "cell_type": "code",
   "execution_count": null,
   "outputs": [],
   "source": [
    "# Transform the lists to strings\n",
    "df_fixation[\"Fixation_startT\"] = df_fixation[\"Fixation_startT\"].astype(str)\n",
    "df_fixation[\"Fixation_endT\"] = df_fixation[\"Fixation_endT\"].astype(str)\n",
    "df_fixation[\"Fixation_x\"] = df_fixation[\"Fixation_x\"].astype(str)\n",
    "df_fixation[\"Fixation_y\"] = df_fixation[\"Fixation_y\"].astype(str)\n",
    "df_fixation[\"Fixation_x_range\"] = df_fixation[\"Fixation_x_range\"].astype(str)\n",
    "df_fixation[\"Fixation_y_range\"] = df_fixation[\"Fixation_y_range\"].astype(str)\n",
    "\n",
    "# Save the data\n",
    "df_fixation.to_csv(\"./data/filteredData/fixation_stats.csv\", index=False, sep=\";\")"
   ],
   "metadata": {
    "collapsed": false,
    "pycharm": {
     "name": "#%%\n"
    }
   }
  },
  {
   "cell_type": "markdown",
   "source": [
    "## Fixation Stats"
   ],
   "metadata": {
    "collapsed": false,
    "pycharm": {
     "name": "#%% md\n"
    }
   }
  },
  {
   "cell_type": "code",
   "execution_count": 34,
   "outputs": [],
   "source": [
    "def count_nan_beginning(data):\n",
    "    count = 0\n",
    "    for value in data:\n",
    "        if np.isnan(value):\n",
    "            count += 1\n",
    "        else:\n",
    "            return count\n",
    "    return count\n",
    "\n",
    "def count_nan_end(data):\n",
    "    count = 0\n",
    "    for value in data[::-1]:\n",
    "        if np.isnan(value):\n",
    "            count += 1\n",
    "        else:\n",
    "            return count\n",
    "    return count"
   ],
   "metadata": {
    "collapsed": false,
    "pycharm": {
     "name": "#%%\n"
    }
   }
  },
  {
   "cell_type": "code",
   "execution_count": 77,
   "outputs": [
    {
     "data": {
      "text/plain": "  0%|          | 0/1072 [00:00<?, ?it/s]",
      "application/vnd.jupyter.widget-view+json": {
       "version_major": 2,
       "version_minor": 0,
       "model_id": "4dab5ef2a554451eaa7925c4143367b9"
      }
     },
     "metadata": {},
     "output_type": "display_data"
    }
   ],
   "source": [
    "# Read in the Behavioral Data\n",
    "df_behavioral = pd.read_csv(\"./data/filteredData/filtered_data.csv\")\n",
    "\n",
    "sampling_rate = 250.0\n",
    "screen_resolution = (1920, 1080)\n",
    "screen_size = (56.0, 31.5)\n",
    "screen_distance = 60.0\n",
    "x_res = 1920.0\n",
    "y_res = 1080.0\n",
    "\n",
    "df_events = pd.DataFrame(columns=[\"Participant\", \"Algorithm\",\n",
    "                                  \"id\", \"label\", \"start_x\", \"start_y\", \"end_x\", \"end_y\", \"start_time\", \"end_time\",\n",
    "                                  \"amp\", \"peak_vel\", \"med_vel\", \"avg_vel\"])\n",
    "errors = []\n",
    "\n",
    "for index, row in tqdm(df_behavioral.iterrows(), total=len(df_behavioral)):\n",
    "    # read in eyetracking file\n",
    "    df_eyetracking = pd.read_csv(row[\"Eyetracking\"])\n",
    "    participant = row[\"Participant\"]\n",
    "    algorithm = row[\"Algorithm\"]\n",
    "\n",
    "    # normalize the time regarding eyetracking to 0\n",
    "    df_eyetracking[\"time\"] = df_eyetracking[\"time\"].astype(float)\n",
    "    df_eyetracking[\"time\"] = df_eyetracking[\"time\"] - df_eyetracking[\"time\"].iloc[0]\n",
    "\n",
    "    # drop unused columns\n",
    "    df_eyetracking = df_eyetracking.drop(columns=[\"l_gaze_point_in_user_coordinate_system_x\",\n",
    "                                                  \"l_gaze_point_in_user_coordinate_system_y\",\n",
    "                                                  \"l_gaze_point_in_user_coordinate_system_z\",\n",
    "                                                  \"r_gaze_point_in_user_coordinate_system_x\",\n",
    "                                                  \"r_gaze_point_in_user_coordinate_system_y\",\n",
    "                                                  \"r_gaze_point_in_user_coordinate_system_z\",\n",
    "                                                  \"l_gaze_origin_in_user_coordinate_system_x\",\n",
    "                                                  \"l_gaze_origin_in_user_coordinate_system_y\",\n",
    "                                                  \"l_gaze_origin_in_user_coordinate_system_z\",\n",
    "                                                  \"r_gaze_origin_in_user_coordinate_system_x\",\n",
    "                                                  \"r_gaze_origin_in_user_coordinate_system_y\",\n",
    "                                                  \"r_gaze_origin_in_user_coordinate_system_z\"])\n",
    "\n",
    "    # convert eyetracking data to display coordinates\n",
    "    df_eyetracking[\"l_display_x\"] = df_eyetracking[\"l_display_x\"].astype(float) * x_res\n",
    "    df_eyetracking[\"l_display_y\"] = df_eyetracking[\"l_display_y\"].astype(float) * y_res\n",
    "    df_eyetracking[\"r_display_x\"] = df_eyetracking[\"r_display_x\"].astype(float) * x_res\n",
    "    df_eyetracking[\"r_display_y\"] = df_eyetracking[\"r_display_y\"].astype(float) * y_res\n",
    "\n",
    "    # convert eyetracking data to I2MC valid flags\n",
    "    df_eyetracking[\"l_valid\"] = df_eyetracking[\"l_valid\"].astype(int)\n",
    "    df_eyetracking[\"r_valid\"] = df_eyetracking[\"r_valid\"].astype(int)\n",
    "\n",
    "    # convert miss column to right integer used by I2MC\n",
    "    df_eyetracking[\"l_miss_x\"] = df_eyetracking.apply(lambda row: row[\"l_display_x\"] < -x_res or row[\"l_display_x\"] > 2 * x_res, axis=1)\n",
    "    df_eyetracking[\"l_miss_y\"] = df_eyetracking.apply(lambda row: row[\"l_display_y\"] < -y_res or row[\"l_display_y\"] > 2 * y_res, axis=1)\n",
    "    df_eyetracking[\"r_miss_x\"] = df_eyetracking.apply(lambda row: row[\"r_display_x\"] < -x_res or row[\"r_display_x\"] > 2 * x_res, axis=1)\n",
    "    df_eyetracking[\"r_miss_y\"] = df_eyetracking.apply(lambda row: row[\"r_display_y\"] < -y_res or row[\"r_display_y\"] > 2 * y_res, axis=1)\n",
    "\n",
    "    df_eyetracking[\"l_miss\"] = df_eyetracking.apply(lambda row: row[\"l_miss_x\"] or row[\"l_miss_y\"] or not row[\"l_valid\"] >= 1, axis=1)\n",
    "    df_eyetracking[\"r_miss\"] = df_eyetracking.apply(lambda row: row[\"r_miss_x\"] or row[\"r_miss_y\"] or not row[\"r_valid\"] >= 1, axis=1)\n",
    "\n",
    "    # Set a default value for missing data\n",
    "    df_eyetracking.loc[df_eyetracking[\"l_miss\"], \"l_display_x\"] = np.nan\n",
    "    df_eyetracking.loc[df_eyetracking[\"l_miss\"], \"l_display_y\"] = np.nan\n",
    "    df_eyetracking.loc[df_eyetracking[\"r_miss\"], \"r_display_x\"] = np.nan\n",
    "    df_eyetracking.loc[df_eyetracking[\"r_miss\"], \"r_display_y\"] = np.nan\n",
    "\n",
    "    # interpolate missing data\n",
    "    try:\n",
    "        l_display_x = df_eyetracking[\"l_display_x\"].interpolate('cubic')\n",
    "        l_display_y = df_eyetracking[\"l_display_y\"].interpolate('cubic')\n",
    "    except:\n",
    "        l_display_x = df_eyetracking[\"l_display_x\"]\n",
    "        l_display_y = df_eyetracking[\"l_display_y\"]\n",
    "\n",
    "    try:\n",
    "        r_display_x = df_eyetracking[\"r_display_x\"].interpolate('cubic')\n",
    "        r_display_y = df_eyetracking[\"r_display_y\"].interpolate('cubic')\n",
    "    except:\n",
    "        r_display_x = df_eyetracking[\"r_display_x\"]\n",
    "        r_display_y = df_eyetracking[\"r_display_y\"]\n",
    "\n",
    "\n",
    "    with open(os.devnull, 'w') as devnull:\n",
    "        with contextlib.redirect_stdout(devnull):\n",
    "            with contextlib.redirect_stderr(devnull):\n",
    "                # average x of both eyes\n",
    "                avg_x = np.nanmean(np.stack([l_display_x, r_display_x]), axis=0)\n",
    "                # average y of both eyes\n",
    "                avg_y = np.nanmean(np.stack([l_display_y, r_display_y]), axis=0)\n",
    "\n",
    "    # apply moving average filter\n",
    "    avg_x = signal.medfilt(avg_x, kernel_size=7)\n",
    "    avg_y = signal.medfilt(avg_y, kernel_size=7)\n",
    "\n",
    "    nan_beginning = max(count_nan_beginning(avg_x), count_nan_beginning(avg_y))\n",
    "    nan_end = max(count_nan_end(avg_x), count_nan_end(avg_y), 1)\n",
    "\n",
    "    avg_x = avg_x[nan_beginning:-nan_end]\n",
    "    avg_y = avg_y[nan_beginning:-nan_end]\n",
    "\n",
    "    time_offset = 1.0/sampling_rate * nan_beginning\n",
    "\n",
    "    try:\n",
    "        # disallow outputting for next function\n",
    "        with open(os.devnull, 'w') as devnull:\n",
    "            with contextlib.redirect_stdout(devnull):\n",
    "                with contextlib.redirect_stderr(devnull):\n",
    "                    events, pp, clf = perform_remodnav(\n",
    "                        avg_x, avg_y,\n",
    "                        sampling_rate,\n",
    "                        screen_width=screen_size[0],\n",
    "                        screen_width_pixels=screen_resolution[0],\n",
    "                        screen_distance=screen_distance,\n",
    "                        savgol_length=0.02)\n",
    "    except Exception as e:\n",
    "        print(index)\n",
    "        print(e)\n",
    "\n",
    "    df_tmp = pd.DataFrame(columns=df_events.columns)\n",
    "    for cure_idx, value in enumerate(events):\n",
    "        value[\"Participant\"] = participant\n",
    "        value[\"Algorithm\"] = algorithm\n",
    "        value[\"start_time\"] += float(idx*step_size/sampling_rate) + time_offset\n",
    "        value[\"end_time\"] += float(idx*step_size/sampling_rate) + time_offset\n",
    "        df_tmp = df_tmp.append(value, ignore_index=True)\n",
    "\n",
    "    df_tmp = df_tmp.reset_index(drop=True)\n",
    "    # append the non duplicated rows to the final dataframe\n",
    "    df_events = df_events.append(df_tmp)\n",
    "    df_events = df_events.reset_index(drop=True)"
   ],
   "metadata": {
    "collapsed": false,
    "pycharm": {
     "name": "#%%\n"
    }
   }
  },
  {
   "cell_type": "code",
   "execution_count": 80,
   "outputs": [],
   "source": [
    "for (participant, algorithm), df_group in df_events.groupby([\"Participant\", \"Algorithm\"]):\n",
    "    df_group = df_group.reset_index(drop=True)\n",
    "    df_group = df_group.sort_values(by=\"start_time\")\n",
    "    # drop columns that are not needed\n",
    "    df_group = df_group.drop(columns=[\"Participant\", \"Algorithm\"])\n",
    "    df_group.to_csv(f\"./data/filteredData/Participant{str(participant).zfill(2)}/{algorithm}_eyetracking.csv\")"
   ],
   "metadata": {
    "collapsed": false,
    "pycharm": {
     "name": "#%%\n"
    }
   }
  },
  {
   "cell_type": "code",
   "execution_count": null,
   "outputs": [],
   "source": [],
   "metadata": {
    "collapsed": false,
    "pycharm": {
     "name": "#%%\n"
    }
   }
  }
 ],
 "metadata": {
  "kernelspec": {
   "display_name": "Python 3",
   "language": "python",
   "name": "python3"
  },
  "language_info": {
   "codemirror_mode": {
    "name": "ipython",
    "version": 2
   },
   "file_extension": ".py",
   "mimetype": "text/x-python",
   "name": "python",
   "nbconvert_exporter": "python",
   "pygments_lexer": "ipython2",
   "version": "2.7.6"
  }
 },
 "nbformat": 4,
 "nbformat_minor": 0
}