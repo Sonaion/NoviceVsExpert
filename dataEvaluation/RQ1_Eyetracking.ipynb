{
 "cells": [
  {
   "cell_type": "markdown",
   "source": [
    "# RQ1 - Eyetracking"
   ],
   "metadata": {
    "collapsed": false,
    "pycharm": {
     "name": "#%% md\n"
    }
   }
  },
  {
   "cell_type": "markdown",
   "source": [
    "## Import Libraries"
   ],
   "metadata": {
    "collapsed": false,
    "pycharm": {
     "name": "#%% md\n"
    }
   }
  },
  {
   "cell_type": "code",
   "execution_count": 1,
   "outputs": [],
   "source": [
    "import numpy as np\n",
    "import pandas as pd\n",
    "from tqdm.notebook import tqdm\n",
    "import utils.GenSnippetsLib as gsl\n",
    "import math\n",
    "import json"
   ],
   "metadata": {
    "collapsed": false,
    "pycharm": {
     "name": "#%%\n"
    }
   }
  },
  {
   "cell_type": "markdown",
   "metadata": {
    "collapsed": false,
    "pycharm": {
     "name": "#%% md\n"
    }
   },
   "source": [
    "## Import Fixation Data"
   ]
  },
  {
   "cell_type": "code",
   "execution_count": 2,
   "metadata": {
    "collapsed": false,
    "pycharm": {
     "name": "#%%\n"
    }
   },
   "outputs": [],
   "source": [
    "# function to convert a string seperated by whitespace characters back to python list\n",
    "def string_to_list_string(data):\n",
    "    data = data.replace(' ', ',')\n",
    "    data = data.replace('\\n', ',')\n",
    "    data = ','.join([element for element in data.split(\",\") if len(element) > 0])\n",
    "    if data[1] == \",\":\n",
    "        data = \"[\" + data[2:]\n",
    "    return data\n",
    "\n",
    "# read in the fixation data\n",
    "df_fixation = pd.read_csv('./data/filteredData/fixation_stats.csv', sep=\";\")\n",
    "# kick out outliers\n",
    "df_fixation = df_fixation[df_fixation[\"IsOutlier\"] == False]\n",
    "df_fixation = df_fixation.drop(columns=[\"IsOutlier\", \"Behavioral\"])\n",
    "\n",
    "# transform fixation strings to lists\n",
    "df_fixation[\"Fixation_startT\"] = df_fixation[\"Fixation_startT\"].apply(string_to_list_string)\n",
    "df_fixation[\"Fixation_endT\"] = df_fixation[\"Fixation_endT\"].apply(string_to_list_string)\n",
    "df_fixation[\"Fixation_x\"] = df_fixation[\"Fixation_x\"].apply(string_to_list_string)\n",
    "df_fixation[\"Fixation_y\"] = df_fixation[\"Fixation_y\"].apply(string_to_list_string)\n",
    "df_fixation[\"Fixation_x_range\"] = df_fixation[\"Fixation_x_range\"].apply(string_to_list_string)\n",
    "df_fixation[\"Fixation_y_range\"] = df_fixation[\"Fixation_y_range\"].apply(string_to_list_string)"
   ]
  },
  {
   "cell_type": "markdown",
   "metadata": {
    "collapsed": false,
    "pycharm": {
     "name": "#%% md\n"
    }
   },
   "source": [
    "# Token Based Metrics"
   ]
  },
  {
   "cell_type": "markdown",
   "metadata": {
    "collapsed": false,
    "pycharm": {
     "name": "#%% md\n"
    }
   },
   "source": [
    "### Read in the Generator for Token Based Metrics to get The BoundingBoxes and Indices of each Token per Algorithm"
   ]
  },
  {
   "cell_type": "code",
   "execution_count": 3,
   "metadata": {
    "collapsed": false,
    "pycharm": {
     "name": "#%%\n"
    }
   },
   "outputs": [
    {
     "data": {
      "text/plain": "  0%|          | 0/32 [00:00<?, ?it/s]",
      "application/vnd.jupyter.widget-view+json": {
       "version_major": 2,
       "version_minor": 0,
       "model_id": "72f762ebf62148338dbdf2815dc51127"
      }
     },
     "metadata": {},
     "output_type": "display_data"
    },
    {
     "data": {
      "text/plain": "      Algorithm       Token TokenIdx             BoundingBox\n0       IsPrime    Modifier        0    (808, 468, 856, 482)\n1       IsPrime    Modifier        1    (864, 468, 912, 479)\n2       IsPrime   BasicType        2    (920, 469, 976, 479)\n3       IsPrime  Identifier        3   (984, 468, 1040, 479)\n4       IsPrime   Separator        4  (1040, 467, 1048, 481)\n...         ...         ...      ...                     ...\n2700  Rectangle     Keyword       82   (988, 677, 1020, 688)\n2701  Rectangle   Separator       83  (1020, 685, 1028, 688)\n2702  Rectangle  Identifier       84  (1028, 677, 1076, 691)\n2703  Rectangle   Separator       85  (1076, 676, 1100, 691)\n2704  Rectangle   Separator       86    (780, 695, 788, 709)\n\n[2705 rows x 4 columns]",
      "text/html": "<div>\n<style scoped>\n    .dataframe tbody tr th:only-of-type {\n        vertical-align: middle;\n    }\n\n    .dataframe tbody tr th {\n        vertical-align: top;\n    }\n\n    .dataframe thead th {\n        text-align: right;\n    }\n</style>\n<table border=\"1\" class=\"dataframe\">\n  <thead>\n    <tr style=\"text-align: right;\">\n      <th></th>\n      <th>Algorithm</th>\n      <th>Token</th>\n      <th>TokenIdx</th>\n      <th>BoundingBox</th>\n    </tr>\n  </thead>\n  <tbody>\n    <tr>\n      <th>0</th>\n      <td>IsPrime</td>\n      <td>Modifier</td>\n      <td>0</td>\n      <td>(808, 468, 856, 482)</td>\n    </tr>\n    <tr>\n      <th>1</th>\n      <td>IsPrime</td>\n      <td>Modifier</td>\n      <td>1</td>\n      <td>(864, 468, 912, 479)</td>\n    </tr>\n    <tr>\n      <th>2</th>\n      <td>IsPrime</td>\n      <td>BasicType</td>\n      <td>2</td>\n      <td>(920, 469, 976, 479)</td>\n    </tr>\n    <tr>\n      <th>3</th>\n      <td>IsPrime</td>\n      <td>Identifier</td>\n      <td>3</td>\n      <td>(984, 468, 1040, 479)</td>\n    </tr>\n    <tr>\n      <th>4</th>\n      <td>IsPrime</td>\n      <td>Separator</td>\n      <td>4</td>\n      <td>(1040, 467, 1048, 481)</td>\n    </tr>\n    <tr>\n      <th>...</th>\n      <td>...</td>\n      <td>...</td>\n      <td>...</td>\n      <td>...</td>\n    </tr>\n    <tr>\n      <th>2700</th>\n      <td>Rectangle</td>\n      <td>Keyword</td>\n      <td>82</td>\n      <td>(988, 677, 1020, 688)</td>\n    </tr>\n    <tr>\n      <th>2701</th>\n      <td>Rectangle</td>\n      <td>Separator</td>\n      <td>83</td>\n      <td>(1020, 685, 1028, 688)</td>\n    </tr>\n    <tr>\n      <th>2702</th>\n      <td>Rectangle</td>\n      <td>Identifier</td>\n      <td>84</td>\n      <td>(1028, 677, 1076, 691)</td>\n    </tr>\n    <tr>\n      <th>2703</th>\n      <td>Rectangle</td>\n      <td>Separator</td>\n      <td>85</td>\n      <td>(1076, 676, 1100, 691)</td>\n    </tr>\n    <tr>\n      <th>2704</th>\n      <td>Rectangle</td>\n      <td>Separator</td>\n      <td>86</td>\n      <td>(780, 695, 788, 709)</td>\n    </tr>\n  </tbody>\n</table>\n<p>2705 rows × 4 columns</p>\n</div>"
     },
     "execution_count": 3,
     "metadata": {},
     "output_type": "execute_result"
    }
   ],
   "source": [
    "# Get Token based AOIs\n",
    "snippets = df_fixation[\"Algorithm\"].unique()\n",
    "df_token_aois = pd.DataFrame(columns=[\"Algorithm\", \"Token\", \"TokenIdx\", \"BoundingBox\"])\n",
    "for snippet in tqdm(snippets):\n",
    "    aoi_token_generator = f\"./../CodeSnippets/aois/Generators/{snippet}_ast.json\"\n",
    "    image, aoi_list = gsl.create_image(aoi_token_generator, font_path=\"./../CodeSnippets/fonts/ttf/\")\n",
    "    height, width = image.size\n",
    "    width_offset = int(1920 * 0.5) - int(height / 2)\n",
    "    height_offset = int(1080 * 0.5) - int(width / 2)\n",
    "    aoi_clustered = []\n",
    "    current_left = None\n",
    "    current_top = None\n",
    "    current_right = None\n",
    "    current_bottom = None\n",
    "    current_aoi = None\n",
    "    color = None\n",
    "    for letter in aoi_list:\n",
    "        if len(letter[\"AOI\"]) == 1 or letter[\"letter\"] == '\\n':\n",
    "            if current_aoi is not None:\n",
    "                aoi_clustered.append(\n",
    "                    (len(aoi_clustered), current_aoi, current_left, current_top, current_right, current_bottom, color))\n",
    "            current_aoi = None\n",
    "            color = None\n",
    "            current_left = None\n",
    "            current_top = None\n",
    "            current_right = None\n",
    "            current_bottom = None\n",
    "            continue\n",
    "        if current_aoi is None:\n",
    "            current_aoi = letter[\"AOI\"][1]\n",
    "            color = letter[\"color\"]\n",
    "            current_left = letter[\"BoundingBox\"][0]\n",
    "            current_top = letter[\"BoundingBox\"][1]\n",
    "            current_right = letter[\"BoundingBox\"][2]\n",
    "            current_bottom = letter[\"BoundingBox\"][3]\n",
    "        elif current_aoi == letter[\"AOI\"][1]:\n",
    "            current_left = min(current_left, letter[\"BoundingBox\"][0])\n",
    "            current_top = min(current_top, letter[\"BoundingBox\"][1])\n",
    "            current_right = max(current_right, letter[\"BoundingBox\"][2])\n",
    "            current_bottom = max(current_bottom, letter[\"BoundingBox\"][3])\n",
    "        else:\n",
    "            aoi_clustered.append(\n",
    "                (len(aoi_clustered), current_aoi, current_left, current_top, current_right, current_bottom, color))\n",
    "            current_aoi = letter[\"AOI\"][1]\n",
    "            color = letter[\"color\"]\n",
    "            current_left = letter[\"BoundingBox\"][0]\n",
    "            current_top = letter[\"BoundingBox\"][1]\n",
    "            current_right = letter[\"BoundingBox\"][2]\n",
    "            current_bottom = letter[\"BoundingBox\"][3]\n",
    "\n",
    "    for token in aoi_clustered:\n",
    "        df_token_aois.loc[len(df_token_aois)] = [snippet, token[1], token[0],\n",
    "                                                 (token[2] + width_offset,\n",
    "                                                  token[3] + height_offset,\n",
    "                                                  token[4] + width_offset,\n",
    "                                                  token[5] + height_offset)]\n",
    "df_token_aois"
   ]
  },
  {
   "cell_type": "markdown",
   "metadata": {
    "collapsed": false,
    "pycharm": {
     "name": "#%% md\n"
    }
   },
   "source": [
    "### Check which Fixation of which Participant is in which Token"
   ]
  },
  {
   "cell_type": "code",
   "execution_count": 4,
   "metadata": {
    "collapsed": false,
    "pycharm": {
     "name": "#%%\n"
    }
   },
   "outputs": [
    {
     "data": {
      "text/plain": "  0%|          | 0/32 [00:00<?, ?it/s]",
      "application/vnd.jupyter.widget-view+json": {
       "version_major": 2,
       "version_minor": 0,
       "model_id": "cf585d9ed92d462b91ccda0d566eba9e"
      }
     },
     "metadata": {},
     "output_type": "display_data"
    },
    {
     "data": {
      "text/plain": "       Algorithm Participant FixationNumber  FixationDuration TokenIdx\n0        IsPrime           1              4           156.005        0\n1        IsPrime           1              6           292.008        1\n2        IsPrime           1              7           776.019        3\n3        IsPrime           1             11           196.006       13\n4        IsPrime           1             16           480.011       38\n...          ...         ...            ...               ...      ...\n37381  Rectangle          70             70           347.998       66\n37382  Rectangle          71             16           212.006       43\n37383  Rectangle          71             17           776.027       42\n37384  Rectangle          71             26           152.003       42\n37385  Rectangle          71             29           148.004       32\n\n[37386 rows x 5 columns]",
      "text/html": "<div>\n<style scoped>\n    .dataframe tbody tr th:only-of-type {\n        vertical-align: middle;\n    }\n\n    .dataframe tbody tr th {\n        vertical-align: top;\n    }\n\n    .dataframe thead th {\n        text-align: right;\n    }\n</style>\n<table border=\"1\" class=\"dataframe\">\n  <thead>\n    <tr style=\"text-align: right;\">\n      <th></th>\n      <th>Algorithm</th>\n      <th>Participant</th>\n      <th>FixationNumber</th>\n      <th>FixationDuration</th>\n      <th>TokenIdx</th>\n    </tr>\n  </thead>\n  <tbody>\n    <tr>\n      <th>0</th>\n      <td>IsPrime</td>\n      <td>1</td>\n      <td>4</td>\n      <td>156.005</td>\n      <td>0</td>\n    </tr>\n    <tr>\n      <th>1</th>\n      <td>IsPrime</td>\n      <td>1</td>\n      <td>6</td>\n      <td>292.008</td>\n      <td>1</td>\n    </tr>\n    <tr>\n      <th>2</th>\n      <td>IsPrime</td>\n      <td>1</td>\n      <td>7</td>\n      <td>776.019</td>\n      <td>3</td>\n    </tr>\n    <tr>\n      <th>3</th>\n      <td>IsPrime</td>\n      <td>1</td>\n      <td>11</td>\n      <td>196.006</td>\n      <td>13</td>\n    </tr>\n    <tr>\n      <th>4</th>\n      <td>IsPrime</td>\n      <td>1</td>\n      <td>16</td>\n      <td>480.011</td>\n      <td>38</td>\n    </tr>\n    <tr>\n      <th>...</th>\n      <td>...</td>\n      <td>...</td>\n      <td>...</td>\n      <td>...</td>\n      <td>...</td>\n    </tr>\n    <tr>\n      <th>37381</th>\n      <td>Rectangle</td>\n      <td>70</td>\n      <td>70</td>\n      <td>347.998</td>\n      <td>66</td>\n    </tr>\n    <tr>\n      <th>37382</th>\n      <td>Rectangle</td>\n      <td>71</td>\n      <td>16</td>\n      <td>212.006</td>\n      <td>43</td>\n    </tr>\n    <tr>\n      <th>37383</th>\n      <td>Rectangle</td>\n      <td>71</td>\n      <td>17</td>\n      <td>776.027</td>\n      <td>42</td>\n    </tr>\n    <tr>\n      <th>37384</th>\n      <td>Rectangle</td>\n      <td>71</td>\n      <td>26</td>\n      <td>152.003</td>\n      <td>42</td>\n    </tr>\n    <tr>\n      <th>37385</th>\n      <td>Rectangle</td>\n      <td>71</td>\n      <td>29</td>\n      <td>148.004</td>\n      <td>32</td>\n    </tr>\n  </tbody>\n</table>\n<p>37386 rows × 5 columns</p>\n</div>"
     },
     "execution_count": 4,
     "metadata": {},
     "output_type": "execute_result"
    }
   ],
   "source": [
    "df_token_fixation_per_participant = pd.DataFrame([], columns=[\"Algorithm\", \"Participant\", \"FixationNumber\",\n",
    "                                                              \"FixationDuration\", \"TokenIdx\"])\n",
    "participants = df_fixation[\"Participant\"].unique()\n",
    "for snippet in tqdm(snippets):\n",
    "    df_token_per_algo = df_token_aois[df_token_aois[\"Algorithm\"] == snippet]\n",
    "\n",
    "    for participant in participants:\n",
    "        df_fixation_participant = df_fixation[\n",
    "            (df_fixation[\"Algorithm\"] == snippet) & (df_fixation[\"Participant\"] == participant)]\n",
    "        if len(df_fixation_participant) == 0:\n",
    "            continue\n",
    "        start_times = eval(df_fixation_participant[\"Fixation_startT\"].values[0])\n",
    "        end_times = eval(df_fixation_participant[\"Fixation_endT\"].values[0])\n",
    "        x_coordinates = eval(df_fixation_participant[\"Fixation_x\"].values[0])\n",
    "        y_coordinates = eval(df_fixation_participant[\"Fixation_y\"].values[0])\n",
    "        x_range = eval(df_fixation_participant[\"Fixation_x_range\"].values[0])\n",
    "        y_range = eval(df_fixation_participant[\"Fixation_y_range\"].values[0])\n",
    "        idx_values = range(len(start_times))\n",
    "        for (fix_idx, start, end, x, y, x_range, y_range) in zip(idx_values, start_times, end_times, x_coordinates, y_coordinates, x_range, y_range):\n",
    "            low_x = int(float(x) - math.ceil(float(x_range)))\n",
    "            low_y = int(float(y) - math.ceil(float(y_range)))\n",
    "            high_x = int(float(x) + math.ceil(float(x_range)))\n",
    "            high_y = int(float(y) + math.ceil(float(y_range)))\n",
    "            possible_coordinates = [(x, y) for x in range(low_x, high_x + 1) for y in range(low_y, high_y + 1)]\n",
    "\n",
    "            found = False\n",
    "            for idx, row in df_token_per_algo.iterrows():\n",
    "                token_idx = row[\"TokenIdx\"]\n",
    "                bounding_box = row[\"BoundingBox\"]\n",
    "\n",
    "                for possible_x, possible_y in possible_coordinates:\n",
    "                    if bounding_box[0] <= possible_x <= bounding_box[2] and bounding_box[1] <= possible_y <=bounding_box[3]:\n",
    "                        df_token_fixation_per_participant.loc[len(df_token_fixation_per_participant)] = [snippet, participant,fix_idx,end - start,token_idx]\n",
    "                        found = True\n",
    "                        break\n",
    "                if found:\n",
    "                    break\n",
    "\n",
    "df_token_fixation_per_participant"
   ]
  },
  {
   "cell_type": "markdown",
   "metadata": {
    "collapsed": false,
    "pycharm": {
     "name": "#%% md\n"
    }
   },
   "source": [
    "### Transform the Data to a Fixation/ Refixation split by Participant"
   ]
  },
  {
   "cell_type": "code",
   "execution_count": 5,
   "metadata": {
    "collapsed": false,
    "pycharm": {
     "name": "#%%\n"
    }
   },
   "outputs": [
    {
     "data": {
      "text/plain": "  0%|          | 0/37386 [00:00<?, ?it/s]",
      "application/vnd.jupyter.widget-view+json": {
       "version_major": 2,
       "version_minor": 0,
       "model_id": "85afce90d3e44e969d3e2be99f75e48a"
      }
     },
     "metadata": {},
     "output_type": "display_data"
    },
    {
     "data": {
      "text/plain": "      Algorithm TokenIdx      TokenFixation_P1    TokenReFixation_P1  \\\n0       IsPrime        0  [156.00499999999988]                    []   \n1       IsPrime        1   [292.0079999999998]                    []   \n2       IsPrime        2                    []                    []   \n3       IsPrime        3   [776.0190000000002]  [204.00900000000001]   \n4       IsPrime        4                    []                    []   \n...         ...      ...                   ...                   ...   \n2700  Rectangle       82   [376.0139999999992]                    []   \n2701  Rectangle       83                    []                    []   \n2702  Rectangle       84                    []                    []   \n2703  Rectangle       85                    []                    []   \n2704  Rectangle       86                    []                    []   \n\n          TokenFixation_P2                                 TokenReFixation_P2  \\\n0     [296.01099999999997]                                [156.0050000000001]   \n1     [388.01199999999994]              [360.0160000000001, 96.0029999999997]   \n2     [192.01600000000008]  [212.0050000000001, 176.00800000000027, 996.04...   \n3                       []                                                 []   \n4     [236.00099999999998]                                                 []   \n...                    ...                                                ...   \n2700                    []                                                 []   \n2701                    []                                                 []   \n2702                    []                                                 []   \n2703                    []                                                 []   \n2704                    []                                                 []   \n\n          TokenFixation_P3 TokenReFixation_P3     TokenFixation_P4  \\\n0                       []                 []                   []   \n1     [216.00700000000143]                 []  [208.0069999999996]   \n2                       []                 []  [440.0110000000004]   \n3                       []                 []  [620.0229999999997]   \n4                       []                 []                   []   \n...                    ...                ...                  ...   \n2700                    []                 []                   []   \n2701                    []                 []                   []   \n2702                    []                 []                   []   \n2703                    []                 []                   []   \n2704                    []                 []                   []   \n\n     TokenReFixation_P4  ...     TokenFixation_P66 TokenReFixation_P66  \\\n0                    []  ...                    []                  []   \n1                    []  ...                    []                  []   \n2                    []  ...                    []                  []   \n3                    []  ...  [156.00400000000081]  [500.012999999999]   \n4                    []  ...                    []                  []   \n...                 ...  ...                   ...                 ...   \n2700                 []  ...                    []                  []   \n2701                 []  ...                    []                  []   \n2702                 []  ...                    []                  []   \n2703                 []  ...                    []                  []   \n2704                 []  ...                    []                  []   \n\n         TokenFixation_P67                                TokenReFixation_P67  \\\n0      [312.0119999999988]                                                 []   \n1     [1108.0370000000003]  [1240.0420000000013, 232.00499999999738, 648.0...   \n2     [1944.0699999999997]            [235.9960000000001, 3036.1009999999987]   \n3                [740.028]  [900.031, 276.0159999999996, 212.0099999999984...   \n4                       []                                                 []   \n...                    ...                                                ...   \n2700                    []                                                 []   \n2701                    []                                                 []   \n2702                    []                                                 []   \n2703                    []                                                 []   \n2704                    []                                                 []   \n\n        TokenFixation_P68                                TokenReFixation_P68  \\\n0                      []                                                 []   \n1                      []                                                 []   \n2     [704.0219999999999]  [236.00700000000143, 368.01300000000265, 3268....   \n3     [320.0129999999999]                                                 []   \n4                      []                                                 []   \n...                   ...                                                ...   \n2700                   []                                                 []   \n2701                   []                                                 []   \n2702                   []                                                 []   \n2703                   []                                                 []   \n2704                   []                                                 []   \n\n     TokenFixation_P70 TokenReFixation_P70 TokenFixation_P71  \\\n0                   []                  []                []   \n1                   []                  []                []   \n2                   []                  []                []   \n3                   []                  []                []   \n4                   []                  []                []   \n...                ...                 ...               ...   \n2700                []                  []                []   \n2701                []                  []                []   \n2702                []                  []                []   \n2703                []                  []                []   \n2704                []                  []                []   \n\n     TokenReFixation_P71  \n0                     []  \n1                     []  \n2                     []  \n3                     []  \n4                     []  \n...                  ...  \n2700                  []  \n2701                  []  \n2702                  []  \n2703                  []  \n2704                  []  \n\n[2705 rows x 76 columns]",
      "text/html": "<div>\n<style scoped>\n    .dataframe tbody tr th:only-of-type {\n        vertical-align: middle;\n    }\n\n    .dataframe tbody tr th {\n        vertical-align: top;\n    }\n\n    .dataframe thead th {\n        text-align: right;\n    }\n</style>\n<table border=\"1\" class=\"dataframe\">\n  <thead>\n    <tr style=\"text-align: right;\">\n      <th></th>\n      <th>Algorithm</th>\n      <th>TokenIdx</th>\n      <th>TokenFixation_P1</th>\n      <th>TokenReFixation_P1</th>\n      <th>TokenFixation_P2</th>\n      <th>TokenReFixation_P2</th>\n      <th>TokenFixation_P3</th>\n      <th>TokenReFixation_P3</th>\n      <th>TokenFixation_P4</th>\n      <th>TokenReFixation_P4</th>\n      <th>...</th>\n      <th>TokenFixation_P66</th>\n      <th>TokenReFixation_P66</th>\n      <th>TokenFixation_P67</th>\n      <th>TokenReFixation_P67</th>\n      <th>TokenFixation_P68</th>\n      <th>TokenReFixation_P68</th>\n      <th>TokenFixation_P70</th>\n      <th>TokenReFixation_P70</th>\n      <th>TokenFixation_P71</th>\n      <th>TokenReFixation_P71</th>\n    </tr>\n  </thead>\n  <tbody>\n    <tr>\n      <th>0</th>\n      <td>IsPrime</td>\n      <td>0</td>\n      <td>[156.00499999999988]</td>\n      <td>[]</td>\n      <td>[296.01099999999997]</td>\n      <td>[156.0050000000001]</td>\n      <td>[]</td>\n      <td>[]</td>\n      <td>[]</td>\n      <td>[]</td>\n      <td>...</td>\n      <td>[]</td>\n      <td>[]</td>\n      <td>[312.0119999999988]</td>\n      <td>[]</td>\n      <td>[]</td>\n      <td>[]</td>\n      <td>[]</td>\n      <td>[]</td>\n      <td>[]</td>\n      <td>[]</td>\n    </tr>\n    <tr>\n      <th>1</th>\n      <td>IsPrime</td>\n      <td>1</td>\n      <td>[292.0079999999998]</td>\n      <td>[]</td>\n      <td>[388.01199999999994]</td>\n      <td>[360.0160000000001, 96.0029999999997]</td>\n      <td>[216.00700000000143]</td>\n      <td>[]</td>\n      <td>[208.0069999999996]</td>\n      <td>[]</td>\n      <td>...</td>\n      <td>[]</td>\n      <td>[]</td>\n      <td>[1108.0370000000003]</td>\n      <td>[1240.0420000000013, 232.00499999999738, 648.0...</td>\n      <td>[]</td>\n      <td>[]</td>\n      <td>[]</td>\n      <td>[]</td>\n      <td>[]</td>\n      <td>[]</td>\n    </tr>\n    <tr>\n      <th>2</th>\n      <td>IsPrime</td>\n      <td>2</td>\n      <td>[]</td>\n      <td>[]</td>\n      <td>[192.01600000000008]</td>\n      <td>[212.0050000000001, 176.00800000000027, 996.04...</td>\n      <td>[]</td>\n      <td>[]</td>\n      <td>[440.0110000000004]</td>\n      <td>[]</td>\n      <td>...</td>\n      <td>[]</td>\n      <td>[]</td>\n      <td>[1944.0699999999997]</td>\n      <td>[235.9960000000001, 3036.1009999999987]</td>\n      <td>[704.0219999999999]</td>\n      <td>[236.00700000000143, 368.01300000000265, 3268....</td>\n      <td>[]</td>\n      <td>[]</td>\n      <td>[]</td>\n      <td>[]</td>\n    </tr>\n    <tr>\n      <th>3</th>\n      <td>IsPrime</td>\n      <td>3</td>\n      <td>[776.0190000000002]</td>\n      <td>[204.00900000000001]</td>\n      <td>[]</td>\n      <td>[]</td>\n      <td>[]</td>\n      <td>[]</td>\n      <td>[620.0229999999997]</td>\n      <td>[]</td>\n      <td>...</td>\n      <td>[156.00400000000081]</td>\n      <td>[500.012999999999]</td>\n      <td>[740.028]</td>\n      <td>[900.031, 276.0159999999996, 212.0099999999984...</td>\n      <td>[320.0129999999999]</td>\n      <td>[]</td>\n      <td>[]</td>\n      <td>[]</td>\n      <td>[]</td>\n      <td>[]</td>\n    </tr>\n    <tr>\n      <th>4</th>\n      <td>IsPrime</td>\n      <td>4</td>\n      <td>[]</td>\n      <td>[]</td>\n      <td>[236.00099999999998]</td>\n      <td>[]</td>\n      <td>[]</td>\n      <td>[]</td>\n      <td>[]</td>\n      <td>[]</td>\n      <td>...</td>\n      <td>[]</td>\n      <td>[]</td>\n      <td>[]</td>\n      <td>[]</td>\n      <td>[]</td>\n      <td>[]</td>\n      <td>[]</td>\n      <td>[]</td>\n      <td>[]</td>\n      <td>[]</td>\n    </tr>\n    <tr>\n      <th>...</th>\n      <td>...</td>\n      <td>...</td>\n      <td>...</td>\n      <td>...</td>\n      <td>...</td>\n      <td>...</td>\n      <td>...</td>\n      <td>...</td>\n      <td>...</td>\n      <td>...</td>\n      <td>...</td>\n      <td>...</td>\n      <td>...</td>\n      <td>...</td>\n      <td>...</td>\n      <td>...</td>\n      <td>...</td>\n      <td>...</td>\n      <td>...</td>\n      <td>...</td>\n      <td>...</td>\n    </tr>\n    <tr>\n      <th>2700</th>\n      <td>Rectangle</td>\n      <td>82</td>\n      <td>[376.0139999999992]</td>\n      <td>[]</td>\n      <td>[]</td>\n      <td>[]</td>\n      <td>[]</td>\n      <td>[]</td>\n      <td>[]</td>\n      <td>[]</td>\n      <td>...</td>\n      <td>[]</td>\n      <td>[]</td>\n      <td>[]</td>\n      <td>[]</td>\n      <td>[]</td>\n      <td>[]</td>\n      <td>[]</td>\n      <td>[]</td>\n      <td>[]</td>\n      <td>[]</td>\n    </tr>\n    <tr>\n      <th>2701</th>\n      <td>Rectangle</td>\n      <td>83</td>\n      <td>[]</td>\n      <td>[]</td>\n      <td>[]</td>\n      <td>[]</td>\n      <td>[]</td>\n      <td>[]</td>\n      <td>[]</td>\n      <td>[]</td>\n      <td>...</td>\n      <td>[]</td>\n      <td>[]</td>\n      <td>[]</td>\n      <td>[]</td>\n      <td>[]</td>\n      <td>[]</td>\n      <td>[]</td>\n      <td>[]</td>\n      <td>[]</td>\n      <td>[]</td>\n    </tr>\n    <tr>\n      <th>2702</th>\n      <td>Rectangle</td>\n      <td>84</td>\n      <td>[]</td>\n      <td>[]</td>\n      <td>[]</td>\n      <td>[]</td>\n      <td>[]</td>\n      <td>[]</td>\n      <td>[]</td>\n      <td>[]</td>\n      <td>...</td>\n      <td>[]</td>\n      <td>[]</td>\n      <td>[]</td>\n      <td>[]</td>\n      <td>[]</td>\n      <td>[]</td>\n      <td>[]</td>\n      <td>[]</td>\n      <td>[]</td>\n      <td>[]</td>\n    </tr>\n    <tr>\n      <th>2703</th>\n      <td>Rectangle</td>\n      <td>85</td>\n      <td>[]</td>\n      <td>[]</td>\n      <td>[]</td>\n      <td>[]</td>\n      <td>[]</td>\n      <td>[]</td>\n      <td>[]</td>\n      <td>[]</td>\n      <td>...</td>\n      <td>[]</td>\n      <td>[]</td>\n      <td>[]</td>\n      <td>[]</td>\n      <td>[]</td>\n      <td>[]</td>\n      <td>[]</td>\n      <td>[]</td>\n      <td>[]</td>\n      <td>[]</td>\n    </tr>\n    <tr>\n      <th>2704</th>\n      <td>Rectangle</td>\n      <td>86</td>\n      <td>[]</td>\n      <td>[]</td>\n      <td>[]</td>\n      <td>[]</td>\n      <td>[]</td>\n      <td>[]</td>\n      <td>[]</td>\n      <td>[]</td>\n      <td>...</td>\n      <td>[]</td>\n      <td>[]</td>\n      <td>[]</td>\n      <td>[]</td>\n      <td>[]</td>\n      <td>[]</td>\n      <td>[]</td>\n      <td>[]</td>\n      <td>[]</td>\n      <td>[]</td>\n    </tr>\n  </tbody>\n</table>\n<p>2705 rows × 76 columns</p>\n</div>"
     },
     "execution_count": 5,
     "metadata": {},
     "output_type": "execute_result"
    }
   ],
   "source": [
    "df_token = df_token_aois.copy()\n",
    "df_token = df_token.drop([\"BoundingBox\", \"Token\"], axis=1)\n",
    "for participant in participants:\n",
    "    df_token.loc[:, f\"TokenFixation_P{participant}\"] = [[] for _ in range(len(df_token))]\n",
    "    df_token.loc[:, f\"TokenReFixation_P{participant}\"] = [[] for _ in range(len(df_token))]\n",
    "\n",
    "\n",
    "prev_participant = df_token_fixation_per_participant[\"Participant\"].iloc[0]\n",
    "prev_token_idx = df_token_fixation_per_participant[\"TokenIdx\"].iloc[0]\n",
    "prev_algorithm = df_token_fixation_per_participant[\"Algorithm\"].iloc[0]\n",
    "fixations = []\n",
    "re_fixation = False\n",
    "for idx, row in tqdm(df_token_fixation_per_participant.iterrows(), total=len(df_token_fixation_per_participant)):\n",
    "    participant = row[\"Participant\"]\n",
    "    token_idx = row[\"TokenIdx\"]\n",
    "    algorithm = row[\"Algorithm\"]\n",
    "    FixationDuration = row[\"FixationDuration\"]\n",
    "\n",
    "    # fixation switches\n",
    "    if prev_participant != participant or prev_token_idx != token_idx:\n",
    "        index = df_token[(df_token[\"TokenIdx\"] == prev_token_idx) & (df_token[\"Algorithm\"] == prev_algorithm)].index[0]\n",
    "        if re_fixation:\n",
    "            re_fixations = df_token.loc[index, f\"TokenReFixation_P{prev_participant}\"]\n",
    "            re_fixations.extend(fixations.copy())\n",
    "            df_token.loc[index, f\"TokenReFixation_P{prev_participant}\"] = re_fixations.copy()\n",
    "        else:\n",
    "            df_token.loc[index, f\"TokenFixation_P{prev_participant}\"] = fixations.copy()\n",
    "        fixations = []\n",
    "        # possible new fixation\n",
    "        re_fixation = False\n",
    "\n",
    "    sub_frame = df_token[(df_token[\"TokenIdx\"] == token_idx) & (df_token[\"Algorithm\"] == algorithm)]\n",
    "    if len(sub_frame) == 0:\n",
    "        raise Exception(f\"No Token found for {token_idx} in Algorithm {algorithm}\")\n",
    "    len_of_fixation = len(sub_frame[f\"TokenFixation_P{participant}\"].iloc[0])\n",
    "    if re_fixation == False and len_of_fixation > 0 and len(fixations) == 0:\n",
    "        re_fixation = True\n",
    "\n",
    "    fixations.append(FixationDuration)\n",
    "    prev_participant = participant\n",
    "    prev_token_idx = token_idx\n",
    "    prev_algorithm = algorithm\n",
    "\n",
    "df_token"
   ]
  },
  {
   "cell_type": "markdown",
   "metadata": {
    "collapsed": false,
    "pycharm": {
     "name": "#%% md\n"
    }
   },
   "source": [
    "### Calculate the Token Based Eyetracking Metrics"
   ]
  },
  {
   "cell_type": "code",
   "execution_count": 6,
   "metadata": {
    "collapsed": false,
    "pycharm": {
     "name": "#%%\n"
    }
   },
   "outputs": [
    {
     "data": {
      "text/plain": "                                  FirstFixationDuration  \\\nFirstFixationDuration                          1.000000   \nSingleFixationDuration                         0.995258   \nGazeDuration                                   0.970602   \nTotalTime                                      0.822191   \nTokenNoFixationProbability                     0.122333   \nTokenSingleFixationProbability                 0.117117   \nTokenMultipleFixationProbability              -0.070175   \nTokenFixationProbability                       0.059507   \nSkill                                         -0.141299   \n\n                                  SingleFixationDuration  GazeDuration  \\\nFirstFixationDuration                           0.995258      0.970602   \nSingleFixationDuration                          1.000000      0.968468   \nGazeDuration                                    0.968468      1.000000   \nTotalTime                                       0.823850      0.781650   \nTokenNoFixationProbability                      0.130394      0.174964   \nTokenSingleFixationProbability                  0.117591      0.066619   \nTokenMultipleFixationProbability               -0.064011     -0.136795   \nTokenFixationProbability                        0.064723      0.004979   \nSkill                                          -0.143433     -0.188952   \n\n                                  TotalTime  TokenNoFixationProbability  \\\nFirstFixationDuration              0.822191                    0.122333   \nSingleFixationDuration             0.823850                    0.130394   \nGazeDuration                       0.781650                    0.174964   \nTotalTime                          1.000000                   -0.040778   \nTokenNoFixationProbability        -0.040778                    1.000000   \nTokenSingleFixationProbability     0.271930                   -0.740161   \nTokenMultipleFixationProbability   0.287340                   -0.717639   \nTokenFixationProbability           0.322191                   -0.731152   \nSkill                             -0.370792                    0.081555   \n\n                                  TokenSingleFixationProbability  \\\nFirstFixationDuration                                   0.117117   \nSingleFixationDuration                                  0.117591   \nGazeDuration                                            0.066619   \nTotalTime                                               0.271930   \nTokenNoFixationProbability                             -0.740161   \nTokenSingleFixationProbability                          1.000000   \nTokenMultipleFixationProbability                        0.800379   \nTokenFixationProbability                                0.946894   \nSkill                                                  -0.311759   \n\n                                  TokenMultipleFixationProbability  \\\nFirstFixationDuration                                    -0.070175   \nSingleFixationDuration                                   -0.064011   \nGazeDuration                                             -0.136795   \nTotalTime                                                 0.287340   \nTokenNoFixationProbability                               -0.717639   \nTokenSingleFixationProbability                            0.800379   \nTokenMultipleFixationProbability                          1.000000   \nTokenFixationProbability                                  0.925794   \nSkill                                                    -0.374111   \n\n                                  TokenFixationProbability     Skill  \nFirstFixationDuration                             0.059507 -0.141299  \nSingleFixationDuration                            0.064723 -0.143433  \nGazeDuration                                      0.004979 -0.188952  \nTotalTime                                         0.322191 -0.370792  \nTokenNoFixationProbability                       -0.731152  0.081555  \nTokenSingleFixationProbability                    0.946894 -0.311759  \nTokenMultipleFixationProbability                  0.925794 -0.374111  \nTokenFixationProbability                          1.000000 -0.402323  \nSkill                                            -0.402323  1.000000  ",
      "text/html": "<div>\n<style scoped>\n    .dataframe tbody tr th:only-of-type {\n        vertical-align: middle;\n    }\n\n    .dataframe tbody tr th {\n        vertical-align: top;\n    }\n\n    .dataframe thead th {\n        text-align: right;\n    }\n</style>\n<table border=\"1\" class=\"dataframe\">\n  <thead>\n    <tr style=\"text-align: right;\">\n      <th></th>\n      <th>FirstFixationDuration</th>\n      <th>SingleFixationDuration</th>\n      <th>GazeDuration</th>\n      <th>TotalTime</th>\n      <th>TokenNoFixationProbability</th>\n      <th>TokenSingleFixationProbability</th>\n      <th>TokenMultipleFixationProbability</th>\n      <th>TokenFixationProbability</th>\n      <th>Skill</th>\n    </tr>\n  </thead>\n  <tbody>\n    <tr>\n      <th>FirstFixationDuration</th>\n      <td>1.000000</td>\n      <td>0.995258</td>\n      <td>0.970602</td>\n      <td>0.822191</td>\n      <td>0.122333</td>\n      <td>0.117117</td>\n      <td>-0.070175</td>\n      <td>0.059507</td>\n      <td>-0.141299</td>\n    </tr>\n    <tr>\n      <th>SingleFixationDuration</th>\n      <td>0.995258</td>\n      <td>1.000000</td>\n      <td>0.968468</td>\n      <td>0.823850</td>\n      <td>0.130394</td>\n      <td>0.117591</td>\n      <td>-0.064011</td>\n      <td>0.064723</td>\n      <td>-0.143433</td>\n    </tr>\n    <tr>\n      <th>GazeDuration</th>\n      <td>0.970602</td>\n      <td>0.968468</td>\n      <td>1.000000</td>\n      <td>0.781650</td>\n      <td>0.174964</td>\n      <td>0.066619</td>\n      <td>-0.136795</td>\n      <td>0.004979</td>\n      <td>-0.188952</td>\n    </tr>\n    <tr>\n      <th>TotalTime</th>\n      <td>0.822191</td>\n      <td>0.823850</td>\n      <td>0.781650</td>\n      <td>1.000000</td>\n      <td>-0.040778</td>\n      <td>0.271930</td>\n      <td>0.287340</td>\n      <td>0.322191</td>\n      <td>-0.370792</td>\n    </tr>\n    <tr>\n      <th>TokenNoFixationProbability</th>\n      <td>0.122333</td>\n      <td>0.130394</td>\n      <td>0.174964</td>\n      <td>-0.040778</td>\n      <td>1.000000</td>\n      <td>-0.740161</td>\n      <td>-0.717639</td>\n      <td>-0.731152</td>\n      <td>0.081555</td>\n    </tr>\n    <tr>\n      <th>TokenSingleFixationProbability</th>\n      <td>0.117117</td>\n      <td>0.117591</td>\n      <td>0.066619</td>\n      <td>0.271930</td>\n      <td>-0.740161</td>\n      <td>1.000000</td>\n      <td>0.800379</td>\n      <td>0.946894</td>\n      <td>-0.311759</td>\n    </tr>\n    <tr>\n      <th>TokenMultipleFixationProbability</th>\n      <td>-0.070175</td>\n      <td>-0.064011</td>\n      <td>-0.136795</td>\n      <td>0.287340</td>\n      <td>-0.717639</td>\n      <td>0.800379</td>\n      <td>1.000000</td>\n      <td>0.925794</td>\n      <td>-0.374111</td>\n    </tr>\n    <tr>\n      <th>TokenFixationProbability</th>\n      <td>0.059507</td>\n      <td>0.064723</td>\n      <td>0.004979</td>\n      <td>0.322191</td>\n      <td>-0.731152</td>\n      <td>0.946894</td>\n      <td>0.925794</td>\n      <td>1.000000</td>\n      <td>-0.402323</td>\n    </tr>\n    <tr>\n      <th>Skill</th>\n      <td>-0.141299</td>\n      <td>-0.143433</td>\n      <td>-0.188952</td>\n      <td>-0.370792</td>\n      <td>0.081555</td>\n      <td>-0.311759</td>\n      <td>-0.374111</td>\n      <td>-0.402323</td>\n      <td>1.000000</td>\n    </tr>\n  </tbody>\n</table>\n</div>"
     },
     "execution_count": 6,
     "metadata": {},
     "output_type": "execute_result"
    }
   ],
   "source": [
    "# Melt the Dataframe to be thinner so that we have Algorithm TokenIdx and Participant and Keys per Fixation / Refixation\n",
    "df_token_melted = pd.melt(df_token, id_vars=[\"Algorithm\", \"TokenIdx\"], var_name=\"KindOfFixation\", value_name=\"FixationDurations\")\n",
    "\n",
    "# Classify Participant and the Kind and Number of Fixations / Refixations\n",
    "df_token_melted[\"Participant\"] = df_token_melted[\"KindOfFixation\"].apply(lambda x: int(x.split(\"_\")[1][1:]))\n",
    "df_token_melted[\"KindOfFixation\"] = df_token_melted[\"KindOfFixation\"].apply(lambda x: x.split(\"_\")[0])\n",
    "df_token_melted[\"KindOfFixation\"] = df_token_melted[\"KindOfFixation\"].apply(lambda x: \"Fixation\" if x == \"TokenFixation\" else \"ReFixation\")\n",
    "df_token_melted[\"NumberOfFixations\"] = df_token_melted[\"FixationDurations\"].apply(lambda x: len(x))\n",
    "\n",
    "# Get the number of Participants for further calculations\n",
    "number_of_participants = len(participants)\n",
    "\n",
    "# Calculate the First Fixation Duration per Participant per Token\n",
    "df_token_melted[\"FirstFixationDuration\"] = None\n",
    "df_token_melted.loc[df_token_melted[\"KindOfFixation\"] == \"Fixation\" , \"FirstFixationDuration\"] = df_token_melted[\"FixationDurations\"]\\\n",
    "    .apply(lambda x: x[0] if len(x) > 0 else None)\n",
    "\n",
    "# Calculate the Single Fixation Duration per Participant per Token\n",
    "df_token_melted[\"SingleFixationDuration\"] = None\n",
    "df_token_melted.loc[df_token_melted[\"KindOfFixation\"] == \"Fixation\" , \"SingleFixationDuration\"] = df_token_melted[\"FixationDurations\"]\\\n",
    "    .apply(lambda x: x[0] if len(x) == 1 else None)\n",
    "\n",
    "# Calculate the Gaze Duration per Participant per Token\n",
    "df_token_melted[\"GazeDuration\"] = None\n",
    "df_token_melted.loc[df_token_melted[\"KindOfFixation\"] == \"Fixation\" , \"GazeDuration\"] = df_token_melted[\"FixationDurations\"]\\\n",
    "    .apply(lambda x: sum(x) if len(x) > 0 else None)\n",
    "\n",
    "# Calculate the Total Time per Participant per Token\n",
    "df_token_melted_total_time = df_token_melted.groupby([\"Participant\", \"Algorithm\", \"TokenIdx\"])\\\n",
    "    .agg({\"FixationDurations\": lambda x: sum(x.values.sum())})\n",
    "df_token_melted_total_time = df_token_melted_total_time.rename(columns={\"FixationDurations\": \"TotalTime\"})\n",
    "\n",
    "# Merge the Dataframes\n",
    "df_token_melted = pd.merge(df_token_melted, df_token_melted_total_time, on=[\"Participant\", \"Algorithm\", \"TokenIdx\"], how=\"left\")\n",
    "\n",
    "# Cast the Dataframes to the right datatype\n",
    "df_token_melted[\"FirstFixationDuration\"] = df_token_melted[\"FirstFixationDuration\"].astype(float)\n",
    "df_token_melted[\"SingleFixationDuration\"] = df_token_melted[\"SingleFixationDuration\"].astype(float)\n",
    "df_token_melted[\"GazeDuration\"] = df_token_melted[\"GazeDuration\"].astype(float)\n",
    "df_token_melted[\"TotalTime\"] = df_token_melted[\"TotalTime\"].astype(float).replace(0, np.nan)\n",
    "\n",
    "# Read in the Skilllevel\n",
    "df_skill = pd.read_csv(f\"./data/filteredData/filtered_data.csv\")\n",
    "df_skill = df_skill[[\"Participant\", \"SkillScore\"]]\n",
    "df_skill = df_skill.drop_duplicates()\n",
    "\n",
    "# Merge the Dataframes to combine metrics with the Skilllevel\n",
    "df_metrics_skill = pd.merge(df_token_melted, df_skill, on=[\"Participant\"], how=\"left\")\n",
    "\n",
    "# Helper Methods for the Metrics\n",
    "def get_no_fixations(df):\n",
    "    df_fixations = df[df[\"KindOfFixation\"] == \"Fixation\"]\n",
    "    # remove every entry from df fixations on [\"Algorithm\", \"TokenIdx\"] where there is a refixation6\n",
    "    df_fixations = df_fixations[df_fixations[\"NumberOfFixations\"] == 0]\n",
    "    return df_fixations\n",
    "\n",
    "\n",
    "def get_single_fixations(df):\n",
    "    df_fixations = df[df[\"KindOfFixation\"] == \"Fixation\"]\n",
    "    df_refixations = df[df[\"KindOfFixation\"] == \"ReFixation\"]\n",
    "    df_refixations = df_refixations[df_refixations[\"NumberOfFixations\"] > 0]\n",
    "    # remove every entry from df fixations on [\"Algorithm\", \"TokenIdx\"] where there is a refixation6\n",
    "    df_fixations = df_fixations[~df_fixations[\"TokenIdx\"].isin(df_refixations[\"TokenIdx\"].values)]\n",
    "    # remove every entry from df fixations on where Number Of Fixations is not 1\n",
    "    df_fixations = df_fixations[df_fixations[\"NumberOfFixations\"] == 1]\n",
    "    return df_fixations\n",
    "\n",
    "def get_multiple_fixations(df):\n",
    "    df_fixations = df[df[\"KindOfFixation\"] == \"Fixation\"]\n",
    "    df_refixations = df[df[\"KindOfFixation\"] == \"ReFixation\"]\n",
    "    df_refixations = df_refixations[df_refixations[\"NumberOfFixations\"] > 0]\n",
    "    # remove every entry from df fixations on [\"Algorithm\", \"TokenIdx\"] where there is a refixation6\n",
    "    df_fixations = df_fixations[(df_fixations[\"TokenIdx\"].isin(df_refixations[\"TokenIdx\"].values)) & (df_fixations[\"NumberOfFixations\"] >= 1)]\n",
    "    return df_fixations\n",
    "\n",
    "def get_fixations(df):\n",
    "    df_fixations = df[df[\"KindOfFixation\"] == \"Fixation\"]\n",
    "    # remove every entry from df fixations on where no Fixation is found\n",
    "    df_fixations = df_fixations[df_fixations[\"NumberOfFixations\"] >= 1]\n",
    "    return df_fixations\n",
    "\n",
    "\n",
    "\n",
    "# dataframe for number of fixations per participant\n",
    "number_of_fixation_per_algorithm = df_metrics_skill.groupby([\"Participant\", \"Algorithm\"])[\"NumberOfFixations\"].count()\n",
    "number_of_fixation_per_algorithm = number_of_fixation_per_algorithm.reset_index()\n",
    "\n",
    "# dataframe for number of tokens per algorithm\n",
    "number_of_tokens_per_algorithm = df_metrics_skill.groupby([\"Algorithm\"])[\"TokenIdx\"].max()\n",
    "number_of_tokens_per_algorithm = number_of_tokens_per_algorithm.reset_index()\n",
    "\n",
    "# dataframe for number of tokens with no fixation per algorithm per participant\n",
    "df_no_fixation_per_algorithm = df_metrics_skill.groupby([\"Participant\", \"Algorithm\"])\\\n",
    "    .apply(get_no_fixations)\\\n",
    "    .drop([\"Algorithm\"], axis=1)\n",
    "\n",
    "# dataframe for number of tokens with only one fixation per algorithm per participant\n",
    "df_single_fixation_per_algorithm = df_metrics_skill.groupby([\"Participant\", \"Algorithm\"])\\\n",
    "    .apply(get_single_fixations)\\\n",
    "    .drop([\"Algorithm\"], axis=1)\n",
    "\n",
    "# dataframe for number of tokens with more than one fixation per algorithm per participant\n",
    "df_multiple_fixation_per_algorithm = df_metrics_skill.groupby([\"Participant\", \"Algorithm\"])\\\n",
    "    .apply(get_multiple_fixations)\\\n",
    "    .drop([\"Algorithm\"], axis=1)\n",
    "\n",
    "# dataframe for number of tokens with more or equal than one fixation per algorithm per participant\n",
    "df_fixation_per_algorithm = df_metrics_skill.groupby([\"Participant\", \"Algorithm\"])\\\n",
    "    .apply(get_fixations)\\\n",
    "    .drop([\"Algorithm\"], axis=1)\n",
    "\n",
    "# Reformat the dataframes\n",
    "no_fixation_per_algorithm = df_no_fixation_per_algorithm[[\"TokenIdx\"]]\n",
    "no_fixation_per_algorithm = no_fixation_per_algorithm.reset_index().drop([\"level_2\"], axis=1)\n",
    "\n",
    "single_fixation_per_algorithm = df_single_fixation_per_algorithm[[\"TokenIdx\"]]\n",
    "single_fixation_per_algorithm = single_fixation_per_algorithm.reset_index().drop([\"level_2\"], axis=1)\n",
    "\n",
    "multiple_fixation_per_algorithm = df_multiple_fixation_per_algorithm[[\"TokenIdx\"]]\n",
    "multiple_fixation_per_algorithm = multiple_fixation_per_algorithm.reset_index().drop([\"level_2\"], axis=1)\n",
    "\n",
    "fixations_per_algorithm = df_fixation_per_algorithm[[\"TokenIdx\"]]\n",
    "fixations_per_algorithm = fixations_per_algorithm.reset_index().drop([\"level_2\"], axis=1)\n",
    "\n",
    "# Helper Method for Probability Metrics\n",
    "def group_len_divided_by_number(current_df, counting_df):\n",
    "    algorithm = current_df[\"Algorithm\"].iloc[0]\n",
    "    number_of_tokens = counting_df[counting_df[\"Algorithm\"] == algorithm][\"TokenIdx\"].iloc[0]\n",
    "    value = len(current_df) / number_of_tokens\n",
    "    return len(current_df) / (number_of_tokens + 1)\n",
    "\n",
    "# Calculate the Metrics per Participant\n",
    "# Probability of no fixation\n",
    "df_no_fixation_probability = no_fixation_per_algorithm.groupby([\"Participant\", \"Algorithm\"]).apply(lambda df: group_len_divided_by_number(df, number_of_tokens_per_algorithm))\n",
    "df_no_fixation_probability = df_no_fixation_probability.reset_index()\n",
    "\n",
    "# Probability of single fixation\n",
    "df_single_fixation_probability = single_fixation_per_algorithm.groupby([\"Participant\", \"Algorithm\"]).apply(lambda df: group_len_divided_by_number(df, number_of_tokens_per_algorithm))\n",
    "df_single_fixation_probability = df_single_fixation_probability.reset_index()\n",
    "\n",
    "# Probability of multiple fixation\n",
    "df_multiple_fixation_probability = multiple_fixation_per_algorithm.groupby([\"Participant\", \"Algorithm\"]).apply(lambda df: group_len_divided_by_number(df, number_of_tokens_per_algorithm))\n",
    "df_multiple_fixation_probability = df_multiple_fixation_probability.reset_index()\n",
    "\n",
    "# Probability of fixation\n",
    "df_fixation_probability = fixations_per_algorithm.groupby([\"Participant\", \"Algorithm\"]).apply(lambda df: group_len_divided_by_number(df, number_of_tokens_per_algorithm))\n",
    "df_fixation_probability = df_fixation_probability.reset_index()\n",
    "\n",
    "# Calculate the means for the metrics per algorithm\n",
    "df_no_fixation_probability = df_no_fixation_probability.groupby([\"Participant\"]).mean()\n",
    "df_single_fixation_probability = df_single_fixation_probability.groupby([\"Participant\"]).mean()\n",
    "df_multiple_fixation_probability = df_multiple_fixation_probability.groupby([\"Participant\"]).mean()\n",
    "df_fixation_probability = df_fixation_probability.groupby([\"Participant\"]).mean()\n",
    "\n",
    "# Raw Durations Metrics\n",
    "# Duration of first fixation\n",
    "df_first_fixation = df_metrics_skill[~df_metrics_skill[\"FirstFixationDuration\"].isnull()]\n",
    "df_first_fixation = df_first_fixation.groupby([\"Participant\"])[\"FirstFixationDuration\"].mean()\n",
    "\n",
    "# Duration of single fixation\n",
    "df_single_fixation = df_metrics_skill[~df_metrics_skill[\"SingleFixationDuration\"].isnull()]\n",
    "df_single_fixation = df_single_fixation.groupby([\"Participant\"])[\"SingleFixationDuration\"].mean()\n",
    "\n",
    "# Duration of gaze duration\n",
    "df_gaze_duration = df_metrics_skill[~df_metrics_skill[\"GazeDuration\"].isnull()]\n",
    "df_gaze_duration = df_gaze_duration.groupby([\"Participant\"])[\"GazeDuration\"].mean()\n",
    "\n",
    "# Total Time\n",
    "df_total_time = df_metrics_skill[~df_metrics_skill[\"TotalTime\"].isnull()]\n",
    "df_total_time = df_total_time.groupby([\"Participant\"])[\"TotalTime\"].mean()\n",
    "\n",
    "# Put every metric dataframe together into one\n",
    "df_combined = pd.DataFrame({\"FirstFixationDuration\": df_first_fixation.values,\n",
    "                            \"SingleFixationDuration\": df_single_fixation.values,\n",
    "                            \"GazeDuration\": df_gaze_duration.values,\n",
    "                            \"TotalTime\": df_total_time.values,\n",
    "                            \"TokenNoFixationProbability\": df_no_fixation_probability.values.reshape(37, ),\n",
    "                            \"TokenSingleFixationProbability\": df_single_fixation_probability.values.reshape(37, ),\n",
    "                            \"TokenMultipleFixationProbability\": df_multiple_fixation_probability.values.reshape(37, ),\n",
    "                            \"TokenFixationProbability\": df_fixation_probability.values.reshape(37, ),\n",
    "                            \"Skill\": df_metrics_skill.groupby([\"Participant\"])[\"SkillScore\"].mean().values})\n",
    "# get spearman correlation for metrics and skill level\n",
    "df_combined.corr(method=\"spearman\")"
   ]
  },
  {
   "cell_type": "code",
   "execution_count": 7,
   "outputs": [
    {
     "data": {
      "text/plain": "    FirstFixationDuration  SingleFixationDuration  GazeDuration    TotalTime  \\\n0              330.662205              326.411354    371.305286   707.658900   \n1              313.104215              314.190092    348.219513   646.500694   \n2              381.768777              382.297585    415.759306   765.761157   \n3              319.236548              316.926716    344.305588   628.221830   \n4              412.378790              405.754305    450.792283   780.771334   \n5              327.741601              327.238020    340.964807   657.711066   \n6              312.649495              311.576167    322.660773   649.147247   \n7              374.679231              374.003720    392.063152   591.161567   \n8              303.785972              302.936897    325.042030   710.583037   \n9              325.260632              325.399822    350.294311   761.426003   \n10             337.041532              334.779527    375.897750   733.512324   \n11             388.576807              387.561238    420.668816   779.753459   \n12             443.761701              439.848798    495.078732   856.012703   \n13             441.729725              448.342087    453.730180   839.008677   \n14             478.357145              479.449780    514.189947   938.827221   \n15             337.413872              335.351816    367.657964   803.109677   \n16             264.200469              265.969874    282.402666   568.078395   \n17             361.595997              359.816726    391.921849   582.070487   \n18             449.913587              444.262645    480.495920  1075.886469   \n19             430.297392              433.164445    463.099516   905.670218   \n20             260.936219              260.861677    275.632567   393.667850   \n21             311.180385              317.366110    387.479104   651.901704   \n22             436.250100              429.924949    489.931576   770.593127   \n23             409.443684              407.301253    438.292316   984.614645   \n24             328.738676              329.499439    351.585752   559.658655   \n25             405.870542              397.220126    446.534188   797.416315   \n26             331.253051              332.734303    371.014332   855.612022   \n27             432.854923              424.742843    484.589941   757.726833   \n28             452.255673              450.300503    483.879707   890.657594   \n29             380.176400              378.526038    411.408770   776.026149   \n30             296.021437              295.445200    304.616483   530.658974   \n31             328.498311              328.079477    349.744474   736.544521   \n32             400.413557              401.493433    425.716540   704.168585   \n33             487.810523              483.067856    524.083362   935.167093   \n34             438.925533              434.155070    471.549066   856.687604   \n35             301.594962              298.541741    322.841360   686.819137   \n36             284.612522              281.744319    301.223116   590.334939   \n\n    TokenNoFixationProbability  TokenSingleFixationProbability  \\\n0                     0.744239                        0.141495   \n1                     0.711317                        0.168782   \n2                     0.850774                        0.182016   \n3                     0.788384                        0.139174   \n4                     0.699688                        0.191709   \n5                     0.708169                        0.186568   \n6                     0.805211                        0.136361   \n7                     0.819189                        0.130493   \n8                     0.820006                        0.157956   \n9                     0.773548                        0.151653   \n10                    0.801444                        0.118077   \n11                    0.831187                        0.121530   \n12                    0.789022                        0.166294   \n13                    0.745560                        0.187624   \n14                    0.822044                        0.124707   \n15                    0.767100                        0.149060   \n16                    0.778026                        0.134293   \n17                    0.870033                        0.093666   \n18                    0.857922                        0.083983   \n19                    0.714795                        0.162228   \n20                    0.872037                        0.092483   \n21                    0.955266                        0.046513   \n22                    0.729256                        0.169025   \n23                    0.784837                        0.214411   \n24                    0.838040                        0.102388   \n25                    0.865689                        0.112778   \n26                    0.734761                        0.173214   \n27                    0.841636                        0.125003   \n28                    0.871748                        0.094335   \n29                    0.796085                        0.125793   \n30                    0.740187                        0.169640   \n31                    0.769570                        0.159365   \n32                    0.812863                        0.121040   \n33                    0.801169                        0.179690   \n34                    0.817629                        0.157156   \n35                    0.790308                        0.152818   \n36                    0.783211                        0.123094   \n\n    TokenMultipleFixationProbability  TokenFixationProbability     Skill  \n0                           0.114619                  0.255761  0.331385  \n1                           0.121058                  0.288683  0.379187  \n2                           0.130160                  0.318348  0.311264  \n3                           0.076980                  0.211616  0.424727  \n4                           0.110045                  0.300312  0.313031  \n5                           0.147491                  0.333521  0.315932  \n6                           0.086894                  0.222616  0.420873  \n7                           0.070650                  0.192865  0.350392  \n8                           0.145561                  0.303147  0.178206  \n9                           0.115111                  0.268388  0.309233  \n10                          0.089695                  0.204961  0.419660  \n11                          0.083443                  0.186277  0.316361  \n12                          0.110003                  0.281304  0.225911  \n13                          0.117296                  0.301558  0.341397  \n14                          0.101411                  0.227783  0.212427  \n15                          0.132128                  0.276030  0.292946  \n16                          0.112540                  0.244937  0.291938  \n17                          0.046636                  0.134160  0.656726  \n18                          0.076216                  0.156775  0.369527  \n19                          0.138087                  0.304219  0.323330  \n20                          0.057950                  0.136494  0.394045  \n21                          0.046604                  0.079528  0.314773  \n22                          0.097249                  0.270744  0.311148  \n23                          0.234092                  0.459013  0.142520  \n24                          0.073700                  0.161960  0.247124  \n25                          0.073931                  0.186867  0.203765  \n26                          0.222164                  0.404173  0.183834  \n27                          0.082368                  0.202706  0.271680  \n28                          0.066428                  0.152002  0.401403  \n29                          0.092447                  0.217510  0.194679  \n30                          0.102772                  0.277133  0.353866  \n31                          0.116873                  0.273102  0.333068  \n32                          0.078339                  0.187137  0.536549  \n33                          0.104916                  0.289209  0.259896  \n34                          0.103867                  0.253733  0.433580  \n35                          0.108155                  0.268406  0.231481  \n36                          0.110268                  0.223782  0.435651  ",
      "text/html": "<div>\n<style scoped>\n    .dataframe tbody tr th:only-of-type {\n        vertical-align: middle;\n    }\n\n    .dataframe tbody tr th {\n        vertical-align: top;\n    }\n\n    .dataframe thead th {\n        text-align: right;\n    }\n</style>\n<table border=\"1\" class=\"dataframe\">\n  <thead>\n    <tr style=\"text-align: right;\">\n      <th></th>\n      <th>FirstFixationDuration</th>\n      <th>SingleFixationDuration</th>\n      <th>GazeDuration</th>\n      <th>TotalTime</th>\n      <th>TokenNoFixationProbability</th>\n      <th>TokenSingleFixationProbability</th>\n      <th>TokenMultipleFixationProbability</th>\n      <th>TokenFixationProbability</th>\n      <th>Skill</th>\n    </tr>\n  </thead>\n  <tbody>\n    <tr>\n      <th>0</th>\n      <td>330.662205</td>\n      <td>326.411354</td>\n      <td>371.305286</td>\n      <td>707.658900</td>\n      <td>0.744239</td>\n      <td>0.141495</td>\n      <td>0.114619</td>\n      <td>0.255761</td>\n      <td>0.331385</td>\n    </tr>\n    <tr>\n      <th>1</th>\n      <td>313.104215</td>\n      <td>314.190092</td>\n      <td>348.219513</td>\n      <td>646.500694</td>\n      <td>0.711317</td>\n      <td>0.168782</td>\n      <td>0.121058</td>\n      <td>0.288683</td>\n      <td>0.379187</td>\n    </tr>\n    <tr>\n      <th>2</th>\n      <td>381.768777</td>\n      <td>382.297585</td>\n      <td>415.759306</td>\n      <td>765.761157</td>\n      <td>0.850774</td>\n      <td>0.182016</td>\n      <td>0.130160</td>\n      <td>0.318348</td>\n      <td>0.311264</td>\n    </tr>\n    <tr>\n      <th>3</th>\n      <td>319.236548</td>\n      <td>316.926716</td>\n      <td>344.305588</td>\n      <td>628.221830</td>\n      <td>0.788384</td>\n      <td>0.139174</td>\n      <td>0.076980</td>\n      <td>0.211616</td>\n      <td>0.424727</td>\n    </tr>\n    <tr>\n      <th>4</th>\n      <td>412.378790</td>\n      <td>405.754305</td>\n      <td>450.792283</td>\n      <td>780.771334</td>\n      <td>0.699688</td>\n      <td>0.191709</td>\n      <td>0.110045</td>\n      <td>0.300312</td>\n      <td>0.313031</td>\n    </tr>\n    <tr>\n      <th>5</th>\n      <td>327.741601</td>\n      <td>327.238020</td>\n      <td>340.964807</td>\n      <td>657.711066</td>\n      <td>0.708169</td>\n      <td>0.186568</td>\n      <td>0.147491</td>\n      <td>0.333521</td>\n      <td>0.315932</td>\n    </tr>\n    <tr>\n      <th>6</th>\n      <td>312.649495</td>\n      <td>311.576167</td>\n      <td>322.660773</td>\n      <td>649.147247</td>\n      <td>0.805211</td>\n      <td>0.136361</td>\n      <td>0.086894</td>\n      <td>0.222616</td>\n      <td>0.420873</td>\n    </tr>\n    <tr>\n      <th>7</th>\n      <td>374.679231</td>\n      <td>374.003720</td>\n      <td>392.063152</td>\n      <td>591.161567</td>\n      <td>0.819189</td>\n      <td>0.130493</td>\n      <td>0.070650</td>\n      <td>0.192865</td>\n      <td>0.350392</td>\n    </tr>\n    <tr>\n      <th>8</th>\n      <td>303.785972</td>\n      <td>302.936897</td>\n      <td>325.042030</td>\n      <td>710.583037</td>\n      <td>0.820006</td>\n      <td>0.157956</td>\n      <td>0.145561</td>\n      <td>0.303147</td>\n      <td>0.178206</td>\n    </tr>\n    <tr>\n      <th>9</th>\n      <td>325.260632</td>\n      <td>325.399822</td>\n      <td>350.294311</td>\n      <td>761.426003</td>\n      <td>0.773548</td>\n      <td>0.151653</td>\n      <td>0.115111</td>\n      <td>0.268388</td>\n      <td>0.309233</td>\n    </tr>\n    <tr>\n      <th>10</th>\n      <td>337.041532</td>\n      <td>334.779527</td>\n      <td>375.897750</td>\n      <td>733.512324</td>\n      <td>0.801444</td>\n      <td>0.118077</td>\n      <td>0.089695</td>\n      <td>0.204961</td>\n      <td>0.419660</td>\n    </tr>\n    <tr>\n      <th>11</th>\n      <td>388.576807</td>\n      <td>387.561238</td>\n      <td>420.668816</td>\n      <td>779.753459</td>\n      <td>0.831187</td>\n      <td>0.121530</td>\n      <td>0.083443</td>\n      <td>0.186277</td>\n      <td>0.316361</td>\n    </tr>\n    <tr>\n      <th>12</th>\n      <td>443.761701</td>\n      <td>439.848798</td>\n      <td>495.078732</td>\n      <td>856.012703</td>\n      <td>0.789022</td>\n      <td>0.166294</td>\n      <td>0.110003</td>\n      <td>0.281304</td>\n      <td>0.225911</td>\n    </tr>\n    <tr>\n      <th>13</th>\n      <td>441.729725</td>\n      <td>448.342087</td>\n      <td>453.730180</td>\n      <td>839.008677</td>\n      <td>0.745560</td>\n      <td>0.187624</td>\n      <td>0.117296</td>\n      <td>0.301558</td>\n      <td>0.341397</td>\n    </tr>\n    <tr>\n      <th>14</th>\n      <td>478.357145</td>\n      <td>479.449780</td>\n      <td>514.189947</td>\n      <td>938.827221</td>\n      <td>0.822044</td>\n      <td>0.124707</td>\n      <td>0.101411</td>\n      <td>0.227783</td>\n      <td>0.212427</td>\n    </tr>\n    <tr>\n      <th>15</th>\n      <td>337.413872</td>\n      <td>335.351816</td>\n      <td>367.657964</td>\n      <td>803.109677</td>\n      <td>0.767100</td>\n      <td>0.149060</td>\n      <td>0.132128</td>\n      <td>0.276030</td>\n      <td>0.292946</td>\n    </tr>\n    <tr>\n      <th>16</th>\n      <td>264.200469</td>\n      <td>265.969874</td>\n      <td>282.402666</td>\n      <td>568.078395</td>\n      <td>0.778026</td>\n      <td>0.134293</td>\n      <td>0.112540</td>\n      <td>0.244937</td>\n      <td>0.291938</td>\n    </tr>\n    <tr>\n      <th>17</th>\n      <td>361.595997</td>\n      <td>359.816726</td>\n      <td>391.921849</td>\n      <td>582.070487</td>\n      <td>0.870033</td>\n      <td>0.093666</td>\n      <td>0.046636</td>\n      <td>0.134160</td>\n      <td>0.656726</td>\n    </tr>\n    <tr>\n      <th>18</th>\n      <td>449.913587</td>\n      <td>444.262645</td>\n      <td>480.495920</td>\n      <td>1075.886469</td>\n      <td>0.857922</td>\n      <td>0.083983</td>\n      <td>0.076216</td>\n      <td>0.156775</td>\n      <td>0.369527</td>\n    </tr>\n    <tr>\n      <th>19</th>\n      <td>430.297392</td>\n      <td>433.164445</td>\n      <td>463.099516</td>\n      <td>905.670218</td>\n      <td>0.714795</td>\n      <td>0.162228</td>\n      <td>0.138087</td>\n      <td>0.304219</td>\n      <td>0.323330</td>\n    </tr>\n    <tr>\n      <th>20</th>\n      <td>260.936219</td>\n      <td>260.861677</td>\n      <td>275.632567</td>\n      <td>393.667850</td>\n      <td>0.872037</td>\n      <td>0.092483</td>\n      <td>0.057950</td>\n      <td>0.136494</td>\n      <td>0.394045</td>\n    </tr>\n    <tr>\n      <th>21</th>\n      <td>311.180385</td>\n      <td>317.366110</td>\n      <td>387.479104</td>\n      <td>651.901704</td>\n      <td>0.955266</td>\n      <td>0.046513</td>\n      <td>0.046604</td>\n      <td>0.079528</td>\n      <td>0.314773</td>\n    </tr>\n    <tr>\n      <th>22</th>\n      <td>436.250100</td>\n      <td>429.924949</td>\n      <td>489.931576</td>\n      <td>770.593127</td>\n      <td>0.729256</td>\n      <td>0.169025</td>\n      <td>0.097249</td>\n      <td>0.270744</td>\n      <td>0.311148</td>\n    </tr>\n    <tr>\n      <th>23</th>\n      <td>409.443684</td>\n      <td>407.301253</td>\n      <td>438.292316</td>\n      <td>984.614645</td>\n      <td>0.784837</td>\n      <td>0.214411</td>\n      <td>0.234092</td>\n      <td>0.459013</td>\n      <td>0.142520</td>\n    </tr>\n    <tr>\n      <th>24</th>\n      <td>328.738676</td>\n      <td>329.499439</td>\n      <td>351.585752</td>\n      <td>559.658655</td>\n      <td>0.838040</td>\n      <td>0.102388</td>\n      <td>0.073700</td>\n      <td>0.161960</td>\n      <td>0.247124</td>\n    </tr>\n    <tr>\n      <th>25</th>\n      <td>405.870542</td>\n      <td>397.220126</td>\n      <td>446.534188</td>\n      <td>797.416315</td>\n      <td>0.865689</td>\n      <td>0.112778</td>\n      <td>0.073931</td>\n      <td>0.186867</td>\n      <td>0.203765</td>\n    </tr>\n    <tr>\n      <th>26</th>\n      <td>331.253051</td>\n      <td>332.734303</td>\n      <td>371.014332</td>\n      <td>855.612022</td>\n      <td>0.734761</td>\n      <td>0.173214</td>\n      <td>0.222164</td>\n      <td>0.404173</td>\n      <td>0.183834</td>\n    </tr>\n    <tr>\n      <th>27</th>\n      <td>432.854923</td>\n      <td>424.742843</td>\n      <td>484.589941</td>\n      <td>757.726833</td>\n      <td>0.841636</td>\n      <td>0.125003</td>\n      <td>0.082368</td>\n      <td>0.202706</td>\n      <td>0.271680</td>\n    </tr>\n    <tr>\n      <th>28</th>\n      <td>452.255673</td>\n      <td>450.300503</td>\n      <td>483.879707</td>\n      <td>890.657594</td>\n      <td>0.871748</td>\n      <td>0.094335</td>\n      <td>0.066428</td>\n      <td>0.152002</td>\n      <td>0.401403</td>\n    </tr>\n    <tr>\n      <th>29</th>\n      <td>380.176400</td>\n      <td>378.526038</td>\n      <td>411.408770</td>\n      <td>776.026149</td>\n      <td>0.796085</td>\n      <td>0.125793</td>\n      <td>0.092447</td>\n      <td>0.217510</td>\n      <td>0.194679</td>\n    </tr>\n    <tr>\n      <th>30</th>\n      <td>296.021437</td>\n      <td>295.445200</td>\n      <td>304.616483</td>\n      <td>530.658974</td>\n      <td>0.740187</td>\n      <td>0.169640</td>\n      <td>0.102772</td>\n      <td>0.277133</td>\n      <td>0.353866</td>\n    </tr>\n    <tr>\n      <th>31</th>\n      <td>328.498311</td>\n      <td>328.079477</td>\n      <td>349.744474</td>\n      <td>736.544521</td>\n      <td>0.769570</td>\n      <td>0.159365</td>\n      <td>0.116873</td>\n      <td>0.273102</td>\n      <td>0.333068</td>\n    </tr>\n    <tr>\n      <th>32</th>\n      <td>400.413557</td>\n      <td>401.493433</td>\n      <td>425.716540</td>\n      <td>704.168585</td>\n      <td>0.812863</td>\n      <td>0.121040</td>\n      <td>0.078339</td>\n      <td>0.187137</td>\n      <td>0.536549</td>\n    </tr>\n    <tr>\n      <th>33</th>\n      <td>487.810523</td>\n      <td>483.067856</td>\n      <td>524.083362</td>\n      <td>935.167093</td>\n      <td>0.801169</td>\n      <td>0.179690</td>\n      <td>0.104916</td>\n      <td>0.289209</td>\n      <td>0.259896</td>\n    </tr>\n    <tr>\n      <th>34</th>\n      <td>438.925533</td>\n      <td>434.155070</td>\n      <td>471.549066</td>\n      <td>856.687604</td>\n      <td>0.817629</td>\n      <td>0.157156</td>\n      <td>0.103867</td>\n      <td>0.253733</td>\n      <td>0.433580</td>\n    </tr>\n    <tr>\n      <th>35</th>\n      <td>301.594962</td>\n      <td>298.541741</td>\n      <td>322.841360</td>\n      <td>686.819137</td>\n      <td>0.790308</td>\n      <td>0.152818</td>\n      <td>0.108155</td>\n      <td>0.268406</td>\n      <td>0.231481</td>\n    </tr>\n    <tr>\n      <th>36</th>\n      <td>284.612522</td>\n      <td>281.744319</td>\n      <td>301.223116</td>\n      <td>590.334939</td>\n      <td>0.783211</td>\n      <td>0.123094</td>\n      <td>0.110268</td>\n      <td>0.223782</td>\n      <td>0.435651</td>\n    </tr>\n  </tbody>\n</table>\n</div>"
     },
     "execution_count": 7,
     "metadata": {},
     "output_type": "execute_result"
    }
   ],
   "source": [
    "df_combined"
   ],
   "metadata": {
    "collapsed": false,
    "pycharm": {
     "name": "#%%\n"
    }
   }
  },
  {
   "cell_type": "markdown",
   "metadata": {
    "collapsed": false,
    "pycharm": {
     "name": "#%% md\n"
    }
   },
   "source": [
    "# AOI based analysis"
   ]
  },
  {
   "cell_type": "markdown",
   "metadata": {
    "collapsed": false,
    "pycharm": {
     "name": "#%% md\n"
    }
   },
   "source": [
    "### Read in the Generator for AOI Based Metrics to get The BoundingBoxes and Indices of each Token per Algorithm"
   ]
  },
  {
   "cell_type": "code",
   "execution_count": 8,
   "metadata": {
    "collapsed": false,
    "pycharm": {
     "name": "#%%\n"
    }
   },
   "outputs": [
    {
     "data": {
      "text/plain": "  0%|          | 0/32 [00:00<?, ?it/s]",
      "application/vnd.jupyter.widget-view+json": {
       "version_major": 2,
       "version_minor": 0,
       "model_id": "2a42e09c709e48878d2ae7c4d83786b5"
      }
     },
     "metadata": {},
     "output_type": "display_data"
    },
    {
     "data": {
      "text/plain": "     Algorithm                          AOI AOIIdx             BoundingBox\n0      IsPrime            method_identifier      0   (993, 444, 1070, 460)\n1      IsPrime             method_signature      1   (751, 444, 1202, 464)\n2      IsPrime  method_argument_declaration      2  (1070, 444, 1202, 463)\n3      IsPrime                     for_head      3   (795, 469, 1147, 489)\n4      IsPrime        arithmetic_expression      4    (883, 494, 994, 510)\n..         ...                          ...    ...                     ...\n626  Rectangle       method_call_identifier     14  (1048, 769, 1114, 789)\n627  Rectangle             method_arguments     15  (1114, 769, 1136, 788)\n628  Rectangle                  method_call     16   (993, 769, 1136, 789)\n629  Rectangle        arithmetic_expression     17   (828, 769, 1136, 789)\n630  Rectangle            class_declaration     18   (663, 218, 1257, 862)\n\n[631 rows x 4 columns]",
      "text/html": "<div>\n<style scoped>\n    .dataframe tbody tr th:only-of-type {\n        vertical-align: middle;\n    }\n\n    .dataframe tbody tr th {\n        vertical-align: top;\n    }\n\n    .dataframe thead th {\n        text-align: right;\n    }\n</style>\n<table border=\"1\" class=\"dataframe\">\n  <thead>\n    <tr style=\"text-align: right;\">\n      <th></th>\n      <th>Algorithm</th>\n      <th>AOI</th>\n      <th>AOIIdx</th>\n      <th>BoundingBox</th>\n    </tr>\n  </thead>\n  <tbody>\n    <tr>\n      <th>0</th>\n      <td>IsPrime</td>\n      <td>method_identifier</td>\n      <td>0</td>\n      <td>(993, 444, 1070, 460)</td>\n    </tr>\n    <tr>\n      <th>1</th>\n      <td>IsPrime</td>\n      <td>method_signature</td>\n      <td>1</td>\n      <td>(751, 444, 1202, 464)</td>\n    </tr>\n    <tr>\n      <th>2</th>\n      <td>IsPrime</td>\n      <td>method_argument_declaration</td>\n      <td>2</td>\n      <td>(1070, 444, 1202, 463)</td>\n    </tr>\n    <tr>\n      <th>3</th>\n      <td>IsPrime</td>\n      <td>for_head</td>\n      <td>3</td>\n      <td>(795, 469, 1147, 489)</td>\n    </tr>\n    <tr>\n      <th>4</th>\n      <td>IsPrime</td>\n      <td>arithmetic_expression</td>\n      <td>4</td>\n      <td>(883, 494, 994, 510)</td>\n    </tr>\n    <tr>\n      <th>...</th>\n      <td>...</td>\n      <td>...</td>\n      <td>...</td>\n      <td>...</td>\n    </tr>\n    <tr>\n      <th>626</th>\n      <td>Rectangle</td>\n      <td>method_call_identifier</td>\n      <td>14</td>\n      <td>(1048, 769, 1114, 789)</td>\n    </tr>\n    <tr>\n      <th>627</th>\n      <td>Rectangle</td>\n      <td>method_arguments</td>\n      <td>15</td>\n      <td>(1114, 769, 1136, 788)</td>\n    </tr>\n    <tr>\n      <th>628</th>\n      <td>Rectangle</td>\n      <td>method_call</td>\n      <td>16</td>\n      <td>(993, 769, 1136, 789)</td>\n    </tr>\n    <tr>\n      <th>629</th>\n      <td>Rectangle</td>\n      <td>arithmetic_expression</td>\n      <td>17</td>\n      <td>(828, 769, 1136, 789)</td>\n    </tr>\n    <tr>\n      <th>630</th>\n      <td>Rectangle</td>\n      <td>class_declaration</td>\n      <td>18</td>\n      <td>(663, 218, 1257, 862)</td>\n    </tr>\n  </tbody>\n</table>\n<p>631 rows × 4 columns</p>\n</div>"
     },
     "execution_count": 8,
     "metadata": {},
     "output_type": "execute_result"
    }
   ],
   "source": [
    "# Get Token based AOIs\n",
    "snippets = df_fixation[\"Algorithm\"].unique()\n",
    "df_aois = pd.DataFrame(columns=[\"Algorithm\", \"AOI\", \"AOIIdx\", \"BoundingBox\"])\n",
    "for snippet in tqdm(snippets):\n",
    "    aoi_token_generator = f\"./../CodeSnippets/aois/Generators/{snippet}.json\"\n",
    "    try:\n",
    "        image, aoi_list = gsl.create_image(aoi_token_generator, font_path=\"./../CodeSnippets/fonts/ttf/\")\n",
    "    except:\n",
    "        print(f\"{snippet} failed\")\n",
    "        image, aoi_list = gsl.create_image(aoi_token_generator, font_path=\"./../CodeSnippets/fonts/ttf/\", logging=True)\n",
    "        break\n",
    "    height, width = image.size\n",
    "    width_offset = int(1920 * 0.5) - int(height / 2)\n",
    "    height_offset = int(1080 * 0.5) - int(width / 2)\n",
    "    aoi_clustered = []\n",
    "    current_left = []\n",
    "    current_top = []\n",
    "    current_right = []\n",
    "    current_bottom = []\n",
    "    current_aoi = []\n",
    "    color = []\n",
    "    for letter in aoi_list:\n",
    "        # Close AOI\n",
    "        if letter['letter'] in \" \\t\\n\":\n",
    "            continue\n",
    "        if len(letter[\"AOI\"]) == 1:\n",
    "            for idx in range(len(current_aoi)):\n",
    "                aoi_clustered.append((len(aoi_clustered), current_aoi[idx], current_left[idx], current_top[idx], current_right[idx], current_bottom[idx], color[idx]))\n",
    "\n",
    "            current_aoi = []\n",
    "            color = []\n",
    "            current_left = []\n",
    "            current_top = []\n",
    "            current_right = []\n",
    "            current_bottom = []\n",
    "            continue\n",
    "        # There is no AOI set\n",
    "        if len(current_aoi) == 0:\n",
    "            current_aoi = []\n",
    "            color = []\n",
    "            current_left = []\n",
    "            current_top = []\n",
    "            current_right = []\n",
    "            current_bottom = []\n",
    "            for idx in range(1, len(letter[\"AOI\"])):\n",
    "                current_aoi.append(letter[\"AOI\"][idx])\n",
    "                current_left.append(letter[\"BoundingBox\"][0])\n",
    "                current_top.append(letter[\"BoundingBox\"][1])\n",
    "                current_right.append(letter[\"BoundingBox\"][2])\n",
    "                current_bottom.append(letter[\"BoundingBox\"][3])\n",
    "                color.append(letter[\"color\"])\n",
    "            continue\n",
    "\n",
    "\n",
    "        for idx in reversed(range(len(current_aoi))):\n",
    "            if current_aoi[idx] in letter[\"AOI\"]:\n",
    "                current_left[idx] = min(current_left[idx], letter[\"BoundingBox\"][0])\n",
    "                current_top[idx] = min(current_top[idx], letter[\"BoundingBox\"][1])\n",
    "                current_right[idx] = max(current_right[idx], letter[\"BoundingBox\"][2])\n",
    "                current_bottom[idx] = max(current_bottom[idx], letter[\"BoundingBox\"][3])\n",
    "                # remove the AOI from the letter\n",
    "                letter[\"AOI\"].remove(current_aoi[idx])\n",
    "            else:\n",
    "                aoi_clustered.append((len(aoi_clustered), current_aoi[idx], current_left[idx], current_top[idx], current_right[idx], current_bottom[idx], color[idx]))\n",
    "                del current_aoi[idx]\n",
    "                del current_left[idx]\n",
    "                del current_top[idx]\n",
    "                del current_right[idx]\n",
    "                del current_bottom[idx]\n",
    "                del color[idx]\n",
    "\n",
    "        for idx in range(1, len(letter[\"AOI\"])):\n",
    "            current_aoi.append(letter[\"AOI\"][idx])\n",
    "            current_left.append(letter[\"BoundingBox\"][0])\n",
    "            current_top.append(letter[\"BoundingBox\"][1])\n",
    "            current_right.append(letter[\"BoundingBox\"][2])\n",
    "            current_bottom.append(letter[\"BoundingBox\"][3])\n",
    "            color.append(letter[\"color\"])\n",
    "\n",
    "    for idx in range(len(current_aoi)):\n",
    "        aoi_clustered.append((len(aoi_clustered), current_aoi[idx], current_left[idx], current_top[idx], current_right[idx], current_bottom[idx], color[idx]))\n",
    "\n",
    "    for token in aoi_clustered:\n",
    "        df_aois.loc[len(df_aois)] = [snippet, token[1], token[0],\n",
    "                                                 (token[2] + width_offset,\n",
    "                                                  token[3] + height_offset,\n",
    "                                                  token[4] + width_offset,\n",
    "                                                  token[5] + height_offset)]\n",
    "\n",
    "df_aois"
   ]
  },
  {
   "cell_type": "markdown",
   "metadata": {
    "collapsed": false,
    "pycharm": {
     "name": "#%% md\n"
    }
   },
   "source": [
    "### Check which Fixation of which Participant is in which AOI"
   ]
  },
  {
   "cell_type": "code",
   "execution_count": 9,
   "metadata": {
    "collapsed": false,
    "pycharm": {
     "name": "#%%\n"
    }
   },
   "outputs": [
    {
     "data": {
      "text/plain": "  0%|          | 0/32 [00:00<?, ?it/s]",
      "application/vnd.jupyter.widget-view+json": {
       "version_major": 2,
       "version_minor": 0,
       "model_id": "a2188cfa9cbf4266b0ff3c31b7857c40"
      }
     },
     "metadata": {},
     "output_type": "display_data"
    },
    {
     "data": {
      "text/plain": "  0%|          | 0/37 [00:00<?, ?it/s]",
      "application/vnd.jupyter.widget-view+json": {
       "version_major": 2,
       "version_minor": 0,
       "model_id": "d9e0f8e330f042989a018069e665755a"
      }
     },
     "metadata": {},
     "output_type": "display_data"
    },
    {
     "data": {
      "text/plain": "  0%|          | 0/37 [00:00<?, ?it/s]",
      "application/vnd.jupyter.widget-view+json": {
       "version_major": 2,
       "version_minor": 0,
       "model_id": "5325def60f1145a09dd467dd41b9fca8"
      }
     },
     "metadata": {},
     "output_type": "display_data"
    },
    {
     "data": {
      "text/plain": "  0%|          | 0/37 [00:00<?, ?it/s]",
      "application/vnd.jupyter.widget-view+json": {
       "version_major": 2,
       "version_minor": 0,
       "model_id": "97081fe455594bdd8461ca4d60eb6be4"
      }
     },
     "metadata": {},
     "output_type": "display_data"
    },
    {
     "data": {
      "text/plain": "  0%|          | 0/37 [00:00<?, ?it/s]",
      "application/vnd.jupyter.widget-view+json": {
       "version_major": 2,
       "version_minor": 0,
       "model_id": "705d50e9cb9f45119f8149227c680073"
      }
     },
     "metadata": {},
     "output_type": "display_data"
    },
    {
     "data": {
      "text/plain": "  0%|          | 0/37 [00:00<?, ?it/s]",
      "application/vnd.jupyter.widget-view+json": {
       "version_major": 2,
       "version_minor": 0,
       "model_id": "2cf6c2476c1f43df95a93f5fe4c7d570"
      }
     },
     "metadata": {},
     "output_type": "display_data"
    },
    {
     "data": {
      "text/plain": "  0%|          | 0/37 [00:00<?, ?it/s]",
      "application/vnd.jupyter.widget-view+json": {
       "version_major": 2,
       "version_minor": 0,
       "model_id": "6f4e2a044ed34820a571fc8c930def08"
      }
     },
     "metadata": {},
     "output_type": "display_data"
    },
    {
     "data": {
      "text/plain": "  0%|          | 0/37 [00:00<?, ?it/s]",
      "application/vnd.jupyter.widget-view+json": {
       "version_major": 2,
       "version_minor": 0,
       "model_id": "c62d0ca325144cd4a2a7f4f5230730cb"
      }
     },
     "metadata": {},
     "output_type": "display_data"
    },
    {
     "data": {
      "text/plain": "  0%|          | 0/37 [00:00<?, ?it/s]",
      "application/vnd.jupyter.widget-view+json": {
       "version_major": 2,
       "version_minor": 0,
       "model_id": "b654b5c2a7d34c1d88b35eedabaaa7fb"
      }
     },
     "metadata": {},
     "output_type": "display_data"
    },
    {
     "data": {
      "text/plain": "  0%|          | 0/37 [00:00<?, ?it/s]",
      "application/vnd.jupyter.widget-view+json": {
       "version_major": 2,
       "version_minor": 0,
       "model_id": "8894ab24fdb44f4cba9823301ca54b4a"
      }
     },
     "metadata": {},
     "output_type": "display_data"
    },
    {
     "data": {
      "text/plain": "  0%|          | 0/37 [00:00<?, ?it/s]",
      "application/vnd.jupyter.widget-view+json": {
       "version_major": 2,
       "version_minor": 0,
       "model_id": "c522d7b515c34dceb143963dc2131c77"
      }
     },
     "metadata": {},
     "output_type": "display_data"
    },
    {
     "data": {
      "text/plain": "  0%|          | 0/37 [00:00<?, ?it/s]",
      "application/vnd.jupyter.widget-view+json": {
       "version_major": 2,
       "version_minor": 0,
       "model_id": "286cc27d16c646c1899081ccc1712cf8"
      }
     },
     "metadata": {},
     "output_type": "display_data"
    },
    {
     "data": {
      "text/plain": "  0%|          | 0/37 [00:00<?, ?it/s]",
      "application/vnd.jupyter.widget-view+json": {
       "version_major": 2,
       "version_minor": 0,
       "model_id": "94be4220aee8421eb2ecc2f44bb8bcc9"
      }
     },
     "metadata": {},
     "output_type": "display_data"
    },
    {
     "data": {
      "text/plain": "  0%|          | 0/37 [00:00<?, ?it/s]",
      "application/vnd.jupyter.widget-view+json": {
       "version_major": 2,
       "version_minor": 0,
       "model_id": "e57dd304203742448879689608f5b8c1"
      }
     },
     "metadata": {},
     "output_type": "display_data"
    },
    {
     "data": {
      "text/plain": "  0%|          | 0/37 [00:00<?, ?it/s]",
      "application/vnd.jupyter.widget-view+json": {
       "version_major": 2,
       "version_minor": 0,
       "model_id": "341e560e49e646d2a2e03a62c7e326ba"
      }
     },
     "metadata": {},
     "output_type": "display_data"
    },
    {
     "data": {
      "text/plain": "  0%|          | 0/37 [00:00<?, ?it/s]",
      "application/vnd.jupyter.widget-view+json": {
       "version_major": 2,
       "version_minor": 0,
       "model_id": "f7d204bb3de94492ba75539ddd0c3202"
      }
     },
     "metadata": {},
     "output_type": "display_data"
    },
    {
     "data": {
      "text/plain": "  0%|          | 0/37 [00:00<?, ?it/s]",
      "application/vnd.jupyter.widget-view+json": {
       "version_major": 2,
       "version_minor": 0,
       "model_id": "12de9944832a43858ded3dfd702f9701"
      }
     },
     "metadata": {},
     "output_type": "display_data"
    },
    {
     "data": {
      "text/plain": "  0%|          | 0/37 [00:00<?, ?it/s]",
      "application/vnd.jupyter.widget-view+json": {
       "version_major": 2,
       "version_minor": 0,
       "model_id": "b88afc585dbd40f28d14836876105477"
      }
     },
     "metadata": {},
     "output_type": "display_data"
    },
    {
     "data": {
      "text/plain": "  0%|          | 0/37 [00:00<?, ?it/s]",
      "application/vnd.jupyter.widget-view+json": {
       "version_major": 2,
       "version_minor": 0,
       "model_id": "07bd890dca3b451ba04203b9eae5c5c0"
      }
     },
     "metadata": {},
     "output_type": "display_data"
    },
    {
     "data": {
      "text/plain": "  0%|          | 0/37 [00:00<?, ?it/s]",
      "application/vnd.jupyter.widget-view+json": {
       "version_major": 2,
       "version_minor": 0,
       "model_id": "0545c7fd3c50479a8d09a5054dbb2437"
      }
     },
     "metadata": {},
     "output_type": "display_data"
    },
    {
     "data": {
      "text/plain": "  0%|          | 0/37 [00:00<?, ?it/s]",
      "application/vnd.jupyter.widget-view+json": {
       "version_major": 2,
       "version_minor": 0,
       "model_id": "3f927df226ed4afdb53d03001a175624"
      }
     },
     "metadata": {},
     "output_type": "display_data"
    },
    {
     "data": {
      "text/plain": "  0%|          | 0/37 [00:00<?, ?it/s]",
      "application/vnd.jupyter.widget-view+json": {
       "version_major": 2,
       "version_minor": 0,
       "model_id": "2b5353b277a2417a8410adc97897cf15"
      }
     },
     "metadata": {},
     "output_type": "display_data"
    },
    {
     "data": {
      "text/plain": "  0%|          | 0/37 [00:00<?, ?it/s]",
      "application/vnd.jupyter.widget-view+json": {
       "version_major": 2,
       "version_minor": 0,
       "model_id": "4cc4b01bca9e437f9bade25a0486421a"
      }
     },
     "metadata": {},
     "output_type": "display_data"
    },
    {
     "data": {
      "text/plain": "  0%|          | 0/37 [00:00<?, ?it/s]",
      "application/vnd.jupyter.widget-view+json": {
       "version_major": 2,
       "version_minor": 0,
       "model_id": "90ee485e766b42779fd9c95289c11ec7"
      }
     },
     "metadata": {},
     "output_type": "display_data"
    },
    {
     "data": {
      "text/plain": "  0%|          | 0/37 [00:00<?, ?it/s]",
      "application/vnd.jupyter.widget-view+json": {
       "version_major": 2,
       "version_minor": 0,
       "model_id": "9d98e7ba5141487eadd25a4b83bbd32d"
      }
     },
     "metadata": {},
     "output_type": "display_data"
    },
    {
     "data": {
      "text/plain": "  0%|          | 0/37 [00:00<?, ?it/s]",
      "application/vnd.jupyter.widget-view+json": {
       "version_major": 2,
       "version_minor": 0,
       "model_id": "a7f1085adeed41a9a9aa7166c90191a0"
      }
     },
     "metadata": {},
     "output_type": "display_data"
    },
    {
     "data": {
      "text/plain": "  0%|          | 0/37 [00:00<?, ?it/s]",
      "application/vnd.jupyter.widget-view+json": {
       "version_major": 2,
       "version_minor": 0,
       "model_id": "c4493e8dcebd4941be0348d4629d61b6"
      }
     },
     "metadata": {},
     "output_type": "display_data"
    },
    {
     "data": {
      "text/plain": "  0%|          | 0/37 [00:00<?, ?it/s]",
      "application/vnd.jupyter.widget-view+json": {
       "version_major": 2,
       "version_minor": 0,
       "model_id": "d13867673326430b84cf25cbc1efbf97"
      }
     },
     "metadata": {},
     "output_type": "display_data"
    },
    {
     "data": {
      "text/plain": "  0%|          | 0/37 [00:00<?, ?it/s]",
      "application/vnd.jupyter.widget-view+json": {
       "version_major": 2,
       "version_minor": 0,
       "model_id": "09cd70aaaba849c68a16364c1cad5c4e"
      }
     },
     "metadata": {},
     "output_type": "display_data"
    },
    {
     "data": {
      "text/plain": "  0%|          | 0/37 [00:00<?, ?it/s]",
      "application/vnd.jupyter.widget-view+json": {
       "version_major": 2,
       "version_minor": 0,
       "model_id": "077623003b754b7194bcaec87a07cad1"
      }
     },
     "metadata": {},
     "output_type": "display_data"
    },
    {
     "data": {
      "text/plain": "  0%|          | 0/37 [00:00<?, ?it/s]",
      "application/vnd.jupyter.widget-view+json": {
       "version_major": 2,
       "version_minor": 0,
       "model_id": "fddc6196584a4099a427022e0aa84d3f"
      }
     },
     "metadata": {},
     "output_type": "display_data"
    },
    {
     "data": {
      "text/plain": "  0%|          | 0/37 [00:00<?, ?it/s]",
      "application/vnd.jupyter.widget-view+json": {
       "version_major": 2,
       "version_minor": 0,
       "model_id": "49974dea21cc4c6d99948b633b56dde5"
      }
     },
     "metadata": {},
     "output_type": "display_data"
    },
    {
     "data": {
      "text/plain": "  0%|          | 0/37 [00:00<?, ?it/s]",
      "application/vnd.jupyter.widget-view+json": {
       "version_major": 2,
       "version_minor": 0,
       "model_id": "9e31c4a9bb0340519f96a2285285fcdc"
      }
     },
     "metadata": {},
     "output_type": "display_data"
    }
   ],
   "source": [
    "df_aoi_fixation_per_participant = pd.DataFrame([], columns=[\"Algorithm\", \"Participant\", \"FixationNumber\",\n",
    "                                                              \"FixationDuration\", \"AOIIdx\", \"AOIName\"])\n",
    "participants = df_fixation[\"Participant\"].unique()\n",
    "for snippet in tqdm(snippets):\n",
    "    df_aois_per_algo = df_aois[df_aois[\"Algorithm\"] == snippet]\n",
    "\n",
    "    for participant in tqdm(participants):\n",
    "\n",
    "        df_fixation_participant = df_fixation[(df_fixation[\"Algorithm\"] == snippet) & (df_fixation[\"Participant\"] == participant)]\n",
    "        if len(df_fixation_participant) == 0:\n",
    "            continue\n",
    "        start_times = eval(df_fixation_participant[\"Fixation_startT\"].values[0])\n",
    "        end_times = eval(df_fixation_participant[\"Fixation_endT\"].values[0])\n",
    "        x_coordinates = eval(df_fixation_participant[\"Fixation_x\"].values[0])\n",
    "        y_coordinates = eval(df_fixation_participant[\"Fixation_y\"].values[0])\n",
    "        x_range = eval(df_fixation_participant[\"Fixation_x_range\"].values[0])\n",
    "        y_range = eval(df_fixation_participant[\"Fixation_y_range\"].values[0])\n",
    "        idx_values = range(len(start_times))\n",
    "        for (fix_idx, start, end, x, y, x_range, y_range) in zip(idx_values, start_times, end_times, x_coordinates, y_coordinates, x_range, y_range):\n",
    "            low_x = int(float(x) - math.ceil(float(x_range)))\n",
    "            low_y = int(float(y) - math.ceil(float(y_range)))\n",
    "            high_x = int(float(x) + math.ceil(float(x_range)))\n",
    "            high_y = int(float(y) + math.ceil(float(y_range)))\n",
    "            possible_coordinates = [(x, y) for x in range(low_x, high_x + 1) for y in range(low_y, high_y + 1)]\n",
    "\n",
    "            for idx, row in df_aois_per_algo.iterrows():\n",
    "                aoi_idx = row[\"AOIIdx\"]\n",
    "                aoi_name = row[\"AOI\"]\n",
    "                bounding_box = row[\"BoundingBox\"]\n",
    "\n",
    "                for possible_x, possible_y in possible_coordinates:\n",
    "                    if bounding_box[0] <= possible_x <= bounding_box[2] and bounding_box[1] <= possible_y <=bounding_box[3]:\n",
    "                        df_aoi_fixation_per_participant.loc[len(df_aoi_fixation_per_participant)] = [snippet, participant, fix_idx ,end - start, aoi_idx, aoi_name]\n",
    "                        break"
   ]
  },
  {
   "cell_type": "markdown",
   "metadata": {
    "collapsed": false,
    "pycharm": {
     "name": "#%% md\n"
    }
   },
   "source": [
    "\n",
    "### Transform the Data to a Fixation/ Refixation split by Participant"
   ]
  },
  {
   "cell_type": "code",
   "execution_count": 10,
   "metadata": {
    "collapsed": false,
    "pycharm": {
     "name": "#%%\n"
    }
   },
   "outputs": [
    {
     "data": {
      "text/plain": "  0%|          | 0/37386 [00:00<?, ?it/s]",
      "application/vnd.jupyter.widget-view+json": {
       "version_major": 2,
       "version_minor": 0,
       "model_id": "fda43789028f4fe1969303ed1006377d"
      }
     },
     "metadata": {},
     "output_type": "display_data"
    }
   ],
   "source": [
    "df_token = df_token_aois.copy()\n",
    "df_token = df_token.drop([\"BoundingBox\", \"Token\"], axis=1)\n",
    "for participant in participants:\n",
    "    df_token.loc[:, f\"TokenFixation_P{participant}\"] = [[] for _ in range(len(df_token))]\n",
    "    df_token.loc[:, f\"TokenReFixation_P{participant}\"] = [[] for _ in range(len(df_token))]\n",
    "\n",
    "\n",
    "prev_participant = df_token_fixation_per_participant[\"Participant\"].iloc[0]\n",
    "prev_token_idx = df_token_fixation_per_participant[\"TokenIdx\"].iloc[0]\n",
    "prev_algorithm = df_token_fixation_per_participant[\"Algorithm\"].iloc[0]\n",
    "fixations = []\n",
    "re_fixation = False\n",
    "for idx, row in tqdm(df_token_fixation_per_participant.iterrows(), total=len(df_token_fixation_per_participant)):\n",
    "    participant = row[\"Participant\"]\n",
    "    token_idx = row[\"TokenIdx\"]\n",
    "    algorithm = row[\"Algorithm\"]\n",
    "    FixationDuration = row[\"FixationDuration\"]\n",
    "\n",
    "    # fixation switches\n",
    "    if prev_participant != participant or prev_token_idx != token_idx:\n",
    "        index = df_token[(df_token[\"TokenIdx\"] == prev_token_idx) & (df_token[\"Algorithm\"] == prev_algorithm)].index[0]\n",
    "        if re_fixation:\n",
    "            re_fixations = df_token.loc[index, f\"TokenReFixation_P{prev_participant}\"]\n",
    "            re_fixations.extend(fixations.copy())\n",
    "            df_token.loc[index, f\"TokenReFixation_P{prev_participant}\"] = re_fixations.copy()\n",
    "        else:\n",
    "            df_token.loc[index, f\"TokenFixation_P{prev_participant}\"] = fixations.copy()\n",
    "        fixations = []\n",
    "        # possible new fixation\n",
    "        re_fixation = False\n",
    "\n",
    "    sub_frame = df_token[(df_token[\"TokenIdx\"] == token_idx) & (df_token[\"Algorithm\"] == algorithm)]\n",
    "    if len(sub_frame) == 0:\n",
    "        raise Exception(f\"No Token found for {token_idx} in Algorithm {algorithm}\")\n",
    "    len_of_fixation = len(sub_frame[f\"TokenFixation_P{participant}\"].iloc[0])\n",
    "    if re_fixation == False and len_of_fixation > 0 and len(fixations) == 0:\n",
    "        re_fixation = True\n",
    "\n",
    "    fixations.append(FixationDuration)\n",
    "    prev_participant = participant\n",
    "    prev_token_idx = token_idx\n",
    "    prev_algorithm = algorithm"
   ]
  },
  {
   "cell_type": "markdown",
   "metadata": {
    "collapsed": false,
    "pycharm": {
     "name": "#%% md\n"
    }
   },
   "source": [
    "### Calculate the AOI Based Eyetracking Metrics"
   ]
  },
  {
   "cell_type": "code",
   "execution_count": 11,
   "metadata": {
    "collapsed": false,
    "pycharm": {
     "name": "#%%\n"
    }
   },
   "outputs": [
    {
     "data": {
      "text/plain": "                                  FirstFixationDuration  \\\nFirstFixationDuration                          1.000000   \nSingleFixationDuration                         0.995258   \nGazeDuration                                   0.970602   \nTotalTime                                      0.822191   \nTokenNoFixationProbability                     0.122333   \nTokenSingleFixationProbability                 0.117117   \nTokenMultipleFixationProbability              -0.070175   \nTokenFixationProbability                       0.059507   \nSkill                                         -0.141299   \n\n                                  SingleFixationDuration  GazeDuration  \\\nFirstFixationDuration                           0.995258      0.970602   \nSingleFixationDuration                          1.000000      0.968468   \nGazeDuration                                    0.968468      1.000000   \nTotalTime                                       0.823850      0.781650   \nTokenNoFixationProbability                      0.130394      0.174964   \nTokenSingleFixationProbability                  0.117591      0.066619   \nTokenMultipleFixationProbability               -0.064011     -0.136795   \nTokenFixationProbability                        0.064723      0.004979   \nSkill                                          -0.143433     -0.188952   \n\n                                  TotalTime  TokenNoFixationProbability  \\\nFirstFixationDuration              0.822191                    0.122333   \nSingleFixationDuration             0.823850                    0.130394   \nGazeDuration                       0.781650                    0.174964   \nTotalTime                          1.000000                   -0.040778   \nTokenNoFixationProbability        -0.040778                    1.000000   \nTokenSingleFixationProbability     0.271930                   -0.740161   \nTokenMultipleFixationProbability   0.287340                   -0.717639   \nTokenFixationProbability           0.322191                   -0.731152   \nSkill                             -0.370792                    0.081555   \n\n                                  TokenSingleFixationProbability  \\\nFirstFixationDuration                                   0.117117   \nSingleFixationDuration                                  0.117591   \nGazeDuration                                            0.066619   \nTotalTime                                               0.271930   \nTokenNoFixationProbability                             -0.740161   \nTokenSingleFixationProbability                          1.000000   \nTokenMultipleFixationProbability                        0.800379   \nTokenFixationProbability                                0.946894   \nSkill                                                  -0.311759   \n\n                                  TokenMultipleFixationProbability  \\\nFirstFixationDuration                                    -0.070175   \nSingleFixationDuration                                   -0.064011   \nGazeDuration                                             -0.136795   \nTotalTime                                                 0.287340   \nTokenNoFixationProbability                               -0.717639   \nTokenSingleFixationProbability                            0.800379   \nTokenMultipleFixationProbability                          1.000000   \nTokenFixationProbability                                  0.925794   \nSkill                                                    -0.374111   \n\n                                  TokenFixationProbability     Skill  \nFirstFixationDuration                             0.059507 -0.141299  \nSingleFixationDuration                            0.064723 -0.143433  \nGazeDuration                                      0.004979 -0.188952  \nTotalTime                                         0.322191 -0.370792  \nTokenNoFixationProbability                       -0.731152  0.081555  \nTokenSingleFixationProbability                    0.946894 -0.311759  \nTokenMultipleFixationProbability                  0.925794 -0.374111  \nTokenFixationProbability                          1.000000 -0.402323  \nSkill                                            -0.402323  1.000000  ",
      "text/html": "<div>\n<style scoped>\n    .dataframe tbody tr th:only-of-type {\n        vertical-align: middle;\n    }\n\n    .dataframe tbody tr th {\n        vertical-align: top;\n    }\n\n    .dataframe thead th {\n        text-align: right;\n    }\n</style>\n<table border=\"1\" class=\"dataframe\">\n  <thead>\n    <tr style=\"text-align: right;\">\n      <th></th>\n      <th>FirstFixationDuration</th>\n      <th>SingleFixationDuration</th>\n      <th>GazeDuration</th>\n      <th>TotalTime</th>\n      <th>TokenNoFixationProbability</th>\n      <th>TokenSingleFixationProbability</th>\n      <th>TokenMultipleFixationProbability</th>\n      <th>TokenFixationProbability</th>\n      <th>Skill</th>\n    </tr>\n  </thead>\n  <tbody>\n    <tr>\n      <th>FirstFixationDuration</th>\n      <td>1.000000</td>\n      <td>0.995258</td>\n      <td>0.970602</td>\n      <td>0.822191</td>\n      <td>0.122333</td>\n      <td>0.117117</td>\n      <td>-0.070175</td>\n      <td>0.059507</td>\n      <td>-0.141299</td>\n    </tr>\n    <tr>\n      <th>SingleFixationDuration</th>\n      <td>0.995258</td>\n      <td>1.000000</td>\n      <td>0.968468</td>\n      <td>0.823850</td>\n      <td>0.130394</td>\n      <td>0.117591</td>\n      <td>-0.064011</td>\n      <td>0.064723</td>\n      <td>-0.143433</td>\n    </tr>\n    <tr>\n      <th>GazeDuration</th>\n      <td>0.970602</td>\n      <td>0.968468</td>\n      <td>1.000000</td>\n      <td>0.781650</td>\n      <td>0.174964</td>\n      <td>0.066619</td>\n      <td>-0.136795</td>\n      <td>0.004979</td>\n      <td>-0.188952</td>\n    </tr>\n    <tr>\n      <th>TotalTime</th>\n      <td>0.822191</td>\n      <td>0.823850</td>\n      <td>0.781650</td>\n      <td>1.000000</td>\n      <td>-0.040778</td>\n      <td>0.271930</td>\n      <td>0.287340</td>\n      <td>0.322191</td>\n      <td>-0.370792</td>\n    </tr>\n    <tr>\n      <th>TokenNoFixationProbability</th>\n      <td>0.122333</td>\n      <td>0.130394</td>\n      <td>0.174964</td>\n      <td>-0.040778</td>\n      <td>1.000000</td>\n      <td>-0.740161</td>\n      <td>-0.717639</td>\n      <td>-0.731152</td>\n      <td>0.081555</td>\n    </tr>\n    <tr>\n      <th>TokenSingleFixationProbability</th>\n      <td>0.117117</td>\n      <td>0.117591</td>\n      <td>0.066619</td>\n      <td>0.271930</td>\n      <td>-0.740161</td>\n      <td>1.000000</td>\n      <td>0.800379</td>\n      <td>0.946894</td>\n      <td>-0.311759</td>\n    </tr>\n    <tr>\n      <th>TokenMultipleFixationProbability</th>\n      <td>-0.070175</td>\n      <td>-0.064011</td>\n      <td>-0.136795</td>\n      <td>0.287340</td>\n      <td>-0.717639</td>\n      <td>0.800379</td>\n      <td>1.000000</td>\n      <td>0.925794</td>\n      <td>-0.374111</td>\n    </tr>\n    <tr>\n      <th>TokenFixationProbability</th>\n      <td>0.059507</td>\n      <td>0.064723</td>\n      <td>0.004979</td>\n      <td>0.322191</td>\n      <td>-0.731152</td>\n      <td>0.946894</td>\n      <td>0.925794</td>\n      <td>1.000000</td>\n      <td>-0.402323</td>\n    </tr>\n    <tr>\n      <th>Skill</th>\n      <td>-0.141299</td>\n      <td>-0.143433</td>\n      <td>-0.188952</td>\n      <td>-0.370792</td>\n      <td>0.081555</td>\n      <td>-0.311759</td>\n      <td>-0.374111</td>\n      <td>-0.402323</td>\n      <td>1.000000</td>\n    </tr>\n  </tbody>\n</table>\n</div>"
     },
     "execution_count": 11,
     "metadata": {},
     "output_type": "execute_result"
    }
   ],
   "source": [
    "# Melt the Dataframe to be thinner so that we have Algorithm TokenIdx and Participant and Keys per Fixation / Refixation\n",
    "df_token_melted = pd.melt(df_token, id_vars=[\"Algorithm\", \"TokenIdx\"], var_name=\"KindOfFixation\", value_name=\"FixationDurations\")\n",
    "\n",
    "# Classify Participant and the Kind and Number of Fixations / Refixations\n",
    "df_token_melted[\"Participant\"] = df_token_melted[\"KindOfFixation\"].apply(lambda x: int(x.split(\"_\")[1][1:]))\n",
    "df_token_melted[\"KindOfFixation\"] = df_token_melted[\"KindOfFixation\"].apply(lambda x: x.split(\"_\")[0])\n",
    "df_token_melted[\"KindOfFixation\"] = df_token_melted[\"KindOfFixation\"].apply(lambda x: \"Fixation\" if x == \"TokenFixation\" else \"ReFixation\")\n",
    "df_token_melted[\"NumberOfFixations\"] = df_token_melted[\"FixationDurations\"].apply(lambda x: len(x))\n",
    "\n",
    "# Get the number of Participants for further calculations\n",
    "number_of_participants = len(participants)\n",
    "\n",
    "# Calculate the First Fixation Duration per Participant per Token\n",
    "df_token_melted[\"FirstFixationDuration\"] = None\n",
    "df_token_melted.loc[df_token_melted[\"KindOfFixation\"] == \"Fixation\" , \"FirstFixationDuration\"] = df_token_melted[\"FixationDurations\"]\\\n",
    "    .apply(lambda x: x[0] if len(x) > 0 else None)\n",
    "\n",
    "# Calculate the Single Fixation Duration per Participant per Token\n",
    "df_token_melted[\"SingleFixationDuration\"] = None\n",
    "df_token_melted.loc[df_token_melted[\"KindOfFixation\"] == \"Fixation\" , \"SingleFixationDuration\"] = df_token_melted[\"FixationDurations\"]\\\n",
    "    .apply(lambda x: x[0] if len(x) == 1 else None)\n",
    "\n",
    "# Calculate the Gaze Duration per Participant per Token\n",
    "df_token_melted[\"GazeDuration\"] = None\n",
    "df_token_melted.loc[df_token_melted[\"KindOfFixation\"] == \"Fixation\" , \"GazeDuration\"] = df_token_melted[\"FixationDurations\"]\\\n",
    "    .apply(lambda x: sum(x) if len(x) > 0 else None)\n",
    "\n",
    "# Calculate the Total Time per Participant per Token\n",
    "df_token_melted_total_time = df_token_melted.groupby([\"Participant\", \"Algorithm\", \"TokenIdx\"])\\\n",
    "    .agg({\"FixationDurations\": lambda x: sum(x.values.sum())})\n",
    "df_token_melted_total_time = df_token_melted_total_time.rename(columns={\"FixationDurations\": \"TotalTime\"})\n",
    "\n",
    "# Merge the Dataframes\n",
    "df_token_melted = pd.merge(df_token_melted, df_token_melted_total_time, on=[\"Participant\", \"Algorithm\", \"TokenIdx\"], how=\"left\")\n",
    "\n",
    "# Cast the Dataframes to the right datatype\n",
    "df_token_melted[\"FirstFixationDuration\"] = df_token_melted[\"FirstFixationDuration\"].astype(float)\n",
    "df_token_melted[\"SingleFixationDuration\"] = df_token_melted[\"SingleFixationDuration\"].astype(float)\n",
    "df_token_melted[\"GazeDuration\"] = df_token_melted[\"GazeDuration\"].astype(float)\n",
    "df_token_melted[\"TotalTime\"] = df_token_melted[\"TotalTime\"].astype(float).replace(0, np.nan)\n",
    "\n",
    "# Read in the Skilllevel\n",
    "df_skill = pd.read_csv(f\"./data/filteredData/filtered_data.csv\")\n",
    "df_skill = df_skill[[\"Participant\", \"SkillScore\"]]\n",
    "df_skill = df_skill.drop_duplicates()\n",
    "\n",
    "# Merge the Dataframes to combine metrics with the Skilllevel\n",
    "df_metrics_skill = pd.merge(df_token_melted, df_skill, on=[\"Participant\"], how=\"left\")\n",
    "\n",
    "# Helper Methods for the Metrics (2. Define because of nearness of the code)\n",
    "def get_no_fixations(df):\n",
    "    df_fixations = df[df[\"KindOfFixation\"] == \"Fixation\"]\n",
    "    # remove every entry from df fixations on [\"Algorithm\", \"TokenIdx\"] where there is a refixation6\n",
    "    df_fixations = df_fixations[df_fixations[\"NumberOfFixations\"] == 0]\n",
    "    return df_fixations\n",
    "\n",
    "\n",
    "def get_single_fixations(df):\n",
    "    df_fixations = df[df[\"KindOfFixation\"] == \"Fixation\"]\n",
    "    df_refixations = df[df[\"KindOfFixation\"] == \"ReFixation\"]\n",
    "    df_refixations = df_refixations[df_refixations[\"NumberOfFixations\"] > 0]\n",
    "    # remove every entry from df fixations on [\"Algorithm\", \"TokenIdx\"] where there is a refixation6\n",
    "    df_fixations = df_fixations[~df_fixations[\"TokenIdx\"].isin(df_refixations[\"TokenIdx\"].values)]\n",
    "    # remove every entry from df fixations on where Number Of Fixations is not 1\n",
    "    df_fixations = df_fixations[df_fixations[\"NumberOfFixations\"] == 1]\n",
    "    return df_fixations\n",
    "\n",
    "def get_multiple_fixations(df):\n",
    "    df_fixations = df[df[\"KindOfFixation\"] == \"Fixation\"]\n",
    "    df_refixations = df[df[\"KindOfFixation\"] == \"ReFixation\"]\n",
    "    df_refixations = df_refixations[df_refixations[\"NumberOfFixations\"] > 0]\n",
    "    # remove every entry from df fixations on [\"Algorithm\", \"TokenIdx\"] where there is a refixation6\n",
    "    df_fixations = df_fixations[(df_fixations[\"TokenIdx\"].isin(df_refixations[\"TokenIdx\"].values)) & (df_fixations[\"NumberOfFixations\"] >= 1)]\n",
    "    return df_fixations\n",
    "\n",
    "def get_fixations(df):\n",
    "    df_fixations = df[df[\"KindOfFixation\"] == \"Fixation\"]\n",
    "    # remove every entry from df fixations on where no Fixation is found\n",
    "    df_fixations = df_fixations[df_fixations[\"NumberOfFixations\"] >= 1]\n",
    "    return df_fixations\n",
    "\n",
    "\n",
    "\n",
    "# dataframe for number of fixations per participant\n",
    "number_of_fixation_per_algorithm = df_metrics_skill.groupby([\"Participant\", \"Algorithm\"])[\"NumberOfFixations\"].count()\n",
    "number_of_fixation_per_algorithm = number_of_fixation_per_algorithm.reset_index()\n",
    "\n",
    "# dataframe for number of tokens per algorithm\n",
    "number_of_tokens_per_algorithm = df_metrics_skill.groupby([\"Algorithm\"])[\"TokenIdx\"].max()\n",
    "number_of_tokens_per_algorithm = number_of_tokens_per_algorithm.reset_index()\n",
    "\n",
    "# dataframe for number of tokens with no fixation per algorithm per participant\n",
    "df_no_fixation_per_algorithm = df_metrics_skill.groupby([\"Participant\", \"Algorithm\"])\\\n",
    "    .apply(get_no_fixations)\\\n",
    "    .drop([\"Algorithm\"], axis=1)\n",
    "\n",
    "# dataframe for number of tokens with only one fixation per algorithm per participant\n",
    "df_single_fixation_per_algorithm = df_metrics_skill.groupby([\"Participant\", \"Algorithm\"])\\\n",
    "    .apply(get_single_fixations)\\\n",
    "    .drop([\"Algorithm\"], axis=1)\n",
    "\n",
    "# dataframe for number of tokens with more than one fixation per algorithm per participant\n",
    "df_multiple_fixation_per_algorithm = df_metrics_skill.groupby([\"Participant\", \"Algorithm\"])\\\n",
    "    .apply(get_multiple_fixations)\\\n",
    "    .drop([\"Algorithm\"], axis=1)\n",
    "\n",
    "# dataframe for number of tokens with more or equal than one fixation per algorithm per participant\n",
    "df_fixation_per_algorithm = df_metrics_skill.groupby([\"Participant\", \"Algorithm\"])\\\n",
    "    .apply(get_fixations)\\\n",
    "    .drop([\"Algorithm\"], axis=1)\n",
    "\n",
    "# Reformat the dataframes\n",
    "no_fixation_per_algorithm = df_no_fixation_per_algorithm[[\"TokenIdx\"]]\n",
    "no_fixation_per_algorithm = no_fixation_per_algorithm.reset_index().drop([\"level_2\"], axis=1)\n",
    "\n",
    "single_fixation_per_algorithm = df_single_fixation_per_algorithm[[\"TokenIdx\"]]\n",
    "single_fixation_per_algorithm = single_fixation_per_algorithm.reset_index().drop([\"level_2\"], axis=1)\n",
    "\n",
    "multiple_fixation_per_algorithm = df_multiple_fixation_per_algorithm[[\"TokenIdx\"]]\n",
    "multiple_fixation_per_algorithm = multiple_fixation_per_algorithm.reset_index().drop([\"level_2\"], axis=1)\n",
    "\n",
    "fixations_per_algorithm = df_fixation_per_algorithm[[\"TokenIdx\"]]\n",
    "fixations_per_algorithm = fixations_per_algorithm.reset_index().drop([\"level_2\"], axis=1)\n",
    "\n",
    "# Helper Method for Probability Metrics\n",
    "def group_len_divided_by_number(current_df, counting_df):\n",
    "    algorithm = current_df[\"Algorithm\"].iloc[0]\n",
    "    number_of_tokens = counting_df[counting_df[\"Algorithm\"] == algorithm][\"TokenIdx\"].iloc[0]\n",
    "    value = len(current_df) / number_of_tokens\n",
    "    return len(current_df) / (number_of_tokens + 1)\n",
    "\n",
    "# Calculate the Metrics per Participant\n",
    "# Probability of no fixation\n",
    "df_no_fixation_probability = no_fixation_per_algorithm.groupby([\"Participant\", \"Algorithm\"]).apply(lambda df: group_len_divided_by_number(df, number_of_tokens_per_algorithm))\n",
    "df_no_fixation_probability = df_no_fixation_probability.reset_index()\n",
    "\n",
    "# Probability of single fixation\n",
    "df_single_fixation_probability = single_fixation_per_algorithm.groupby([\"Participant\", \"Algorithm\"]).apply(lambda df: group_len_divided_by_number(df, number_of_tokens_per_algorithm))\n",
    "df_single_fixation_probability = df_single_fixation_probability.reset_index()\n",
    "\n",
    "# Probability of multiple fixation\n",
    "df_multiple_fixation_probability = multiple_fixation_per_algorithm.groupby([\"Participant\", \"Algorithm\"]).apply(lambda df: group_len_divided_by_number(df, number_of_tokens_per_algorithm))\n",
    "df_multiple_fixation_probability = df_multiple_fixation_probability.reset_index()\n",
    "\n",
    "# Probability of fixation\n",
    "df_fixation_probability = fixations_per_algorithm.groupby([\"Participant\", \"Algorithm\"]).apply(lambda df: group_len_divided_by_number(df, number_of_tokens_per_algorithm))\n",
    "df_fixation_probability = df_fixation_probability.reset_index()\n",
    "\n",
    "# Calculate the means for the metrics per algorithm\n",
    "df_no_fixation_probability = df_no_fixation_probability.groupby([\"Participant\"]).mean()\n",
    "df_single_fixation_probability = df_single_fixation_probability.groupby([\"Participant\"]).mean()\n",
    "df_multiple_fixation_probability = df_multiple_fixation_probability.groupby([\"Participant\"]).mean()\n",
    "df_fixation_probability = df_fixation_probability.groupby([\"Participant\"]).mean()\n",
    "\n",
    "# Raw Durations Metrics\n",
    "# Duration of first fixation\n",
    "df_first_fixation = df_metrics_skill[~df_metrics_skill[\"FirstFixationDuration\"].isnull()]\n",
    "df_first_fixation = df_first_fixation.groupby([\"Participant\"])[\"FirstFixationDuration\"].mean()\n",
    "\n",
    "# Duration of single fixation\n",
    "df_single_fixation = df_metrics_skill[~df_metrics_skill[\"SingleFixationDuration\"].isnull()]\n",
    "df_single_fixation = df_single_fixation.groupby([\"Participant\"])[\"SingleFixationDuration\"].mean()\n",
    "\n",
    "# Duration of gaze duration\n",
    "df_gaze_duration = df_metrics_skill[~df_metrics_skill[\"GazeDuration\"].isnull()]\n",
    "df_gaze_duration = df_gaze_duration.groupby([\"Participant\"])[\"GazeDuration\"].mean()\n",
    "\n",
    "# Total Time\n",
    "df_total_time = df_metrics_skill[~df_metrics_skill[\"TotalTime\"].isnull()]\n",
    "df_total_time = df_total_time.groupby([\"Participant\"])[\"TotalTime\"].mean()\n",
    "\n",
    "# Put every metric dataframe together into one\n",
    "df_combined = pd.DataFrame({\"FirstFixationDuration\": df_first_fixation.values,\n",
    "                            \"SingleFixationDuration\": df_single_fixation.values,\n",
    "                            \"GazeDuration\": df_gaze_duration.values,\n",
    "                            \"TotalTime\": df_total_time.values,\n",
    "                            \"TokenNoFixationProbability\": df_no_fixation_probability.values.reshape(37, ),\n",
    "                            \"TokenSingleFixationProbability\": df_single_fixation_probability.values.reshape(37, ),\n",
    "                            \"TokenMultipleFixationProbability\": df_multiple_fixation_probability.values.reshape(37, ),\n",
    "                            \"TokenFixationProbability\": df_fixation_probability.values.reshape(37, ),\n",
    "                            \"Skill\": df_metrics_skill.groupby([\"Participant\"])[\"SkillScore\"].mean().values})\n",
    "# get spearman correlation for metrics and skill level\n",
    "df_combined.corr(method=\"spearman\")"
   ]
  },
  {
   "cell_type": "markdown",
   "metadata": {
    "collapsed": false,
    "pycharm": {
     "name": "#%% md\n"
    }
   },
   "source": [
    "# Get the LOCs"
   ]
  },
  {
   "cell_type": "code",
   "execution_count": 12,
   "metadata": {
    "collapsed": false,
    "pycharm": {
     "name": "#%%\n"
    }
   },
   "outputs": [
    {
     "data": {
      "text/plain": "  0%|          | 0/32 [00:00<?, ?it/s]",
      "application/vnd.jupyter.widget-view+json": {
       "version_major": 2,
       "version_minor": 0,
       "model_id": "e99f1cd2092b45d68b826220486794eb"
      }
     },
     "metadata": {},
     "output_type": "display_data"
    },
    {
     "data": {
      "text/plain": "     Algorithm Line            BoundingBox\n0      IsPrime    0  (768, 467, 1152, 482)\n1      IsPrime    1  (768, 486, 1112, 501)\n2      IsPrime    2  (768, 505, 1049, 519)\n3      IsPrime    3  (768, 526, 1008, 539)\n4      IsPrime    4   (768, 543, 880, 557)\n..         ...  ...                    ...\n429  Rectangle   12  (740, 601, 1012, 615)\n430  Rectangle   13   (740, 619, 788, 633)\n431  Rectangle   15   (740, 657, 956, 672)\n432  Rectangle   16  (740, 676, 1100, 691)\n433  Rectangle   17   (740, 695, 788, 709)\n\n[434 rows x 3 columns]",
      "text/html": "<div>\n<style scoped>\n    .dataframe tbody tr th:only-of-type {\n        vertical-align: middle;\n    }\n\n    .dataframe tbody tr th {\n        vertical-align: top;\n    }\n\n    .dataframe thead th {\n        text-align: right;\n    }\n</style>\n<table border=\"1\" class=\"dataframe\">\n  <thead>\n    <tr style=\"text-align: right;\">\n      <th></th>\n      <th>Algorithm</th>\n      <th>Line</th>\n      <th>BoundingBox</th>\n    </tr>\n  </thead>\n  <tbody>\n    <tr>\n      <th>0</th>\n      <td>IsPrime</td>\n      <td>0</td>\n      <td>(768, 467, 1152, 482)</td>\n    </tr>\n    <tr>\n      <th>1</th>\n      <td>IsPrime</td>\n      <td>1</td>\n      <td>(768, 486, 1112, 501)</td>\n    </tr>\n    <tr>\n      <th>2</th>\n      <td>IsPrime</td>\n      <td>2</td>\n      <td>(768, 505, 1049, 519)</td>\n    </tr>\n    <tr>\n      <th>3</th>\n      <td>IsPrime</td>\n      <td>3</td>\n      <td>(768, 526, 1008, 539)</td>\n    </tr>\n    <tr>\n      <th>4</th>\n      <td>IsPrime</td>\n      <td>4</td>\n      <td>(768, 543, 880, 557)</td>\n    </tr>\n    <tr>\n      <th>...</th>\n      <td>...</td>\n      <td>...</td>\n      <td>...</td>\n    </tr>\n    <tr>\n      <th>429</th>\n      <td>Rectangle</td>\n      <td>12</td>\n      <td>(740, 601, 1012, 615)</td>\n    </tr>\n    <tr>\n      <th>430</th>\n      <td>Rectangle</td>\n      <td>13</td>\n      <td>(740, 619, 788, 633)</td>\n    </tr>\n    <tr>\n      <th>431</th>\n      <td>Rectangle</td>\n      <td>15</td>\n      <td>(740, 657, 956, 672)</td>\n    </tr>\n    <tr>\n      <th>432</th>\n      <td>Rectangle</td>\n      <td>16</td>\n      <td>(740, 676, 1100, 691)</td>\n    </tr>\n    <tr>\n      <th>433</th>\n      <td>Rectangle</td>\n      <td>17</td>\n      <td>(740, 695, 788, 709)</td>\n    </tr>\n  </tbody>\n</table>\n<p>434 rows × 3 columns</p>\n</div>"
     },
     "execution_count": 12,
     "metadata": {},
     "output_type": "execute_result"
    }
   ],
   "source": [
    "# Get Bounding Boxes for Lines Of Code\n",
    "snippets = df_fixation[\"Algorithm\"].unique()\n",
    "df_lines = pd.DataFrame(columns=[\"Algorithm\", \"Line\", \"BoundingBox\"])\n",
    "for snippet in tqdm(snippets):\n",
    "    aoi_token_generator = f\"./../CodeSnippets/aois/Generators/{snippet}_ast.json\"\n",
    "    image, aoi_list = gsl.create_image(aoi_token_generator, font_path=\"./../CodeSnippets/fonts/ttf/\")\n",
    "    height, width = image.size\n",
    "    width_offset = int(1920 * 0.5) - int(height / 2)\n",
    "    height_offset = int(1080 * 0.5) - int(width / 2)\n",
    "    aoi_clustered = []\n",
    "    current_left = None\n",
    "    current_top = None\n",
    "    current_right = None\n",
    "    current_bottom = None\n",
    "    current_line = 0\n",
    "    for letter in aoi_list:\n",
    "        if letter[\"letter\"] == '\\n':\n",
    "            if current_left is not None:\n",
    "                aoi_clustered.append((current_line, current_left, current_top, current_right, current_bottom))\n",
    "            current_left = None\n",
    "            current_top = None\n",
    "            current_right = None\n",
    "            current_bottom = None\n",
    "            current_line += 1\n",
    "            continue\n",
    "        if current_left is None:\n",
    "            current_left = letter[\"BoundingBox\"][0]\n",
    "            current_top = letter[\"BoundingBox\"][1]\n",
    "            current_right = letter[\"BoundingBox\"][2]\n",
    "            current_bottom = letter[\"BoundingBox\"][3]\n",
    "        else:\n",
    "            current_left = min(current_left, letter[\"BoundingBox\"][0])\n",
    "            current_top = min(current_top, letter[\"BoundingBox\"][1])\n",
    "            current_right = max(current_right, letter[\"BoundingBox\"][2])\n",
    "            current_bottom = max(current_bottom, letter[\"BoundingBox\"][3])\n",
    "\n",
    "    for token in aoi_clustered:\n",
    "        df_lines.loc[len(df_lines)] = [snippet, token[0],\n",
    "                                       (token[1] + width_offset,\n",
    "                                        token[2] + height_offset,\n",
    "                                        token[3] + width_offset,\n",
    "                                        token[4] + height_offset)]\n",
    "df_lines"
   ]
  },
  {
   "cell_type": "code",
   "execution_count": 13,
   "outputs": [
    {
     "data": {
      "text/plain": "  0%|          | 0/32 [00:00<?, ?it/s]",
      "application/vnd.jupyter.widget-view+json": {
       "version_major": 2,
       "version_minor": 0,
       "model_id": "315d51ae2a8a43b48ee45425a327641f"
      }
     },
     "metadata": {},
     "output_type": "display_data"
    },
    {
     "data": {
      "text/plain": "       Algorithm Participant FixationNumber  FixationStart  FixationEnd  \\\n0        IsPrime           1              3       1136.027     1332.034   \n1        IsPrime           1              4       1356.034     1512.039   \n2        IsPrime           1              5       1536.038     1812.044   \n3        IsPrime           1              6       1840.047     2132.055   \n4        IsPrime           1              7       2156.055     2932.074   \n...          ...         ...            ...            ...          ...   \n77833  Rectangle          71             26       8160.260     8312.263   \n77834  Rectangle          71             27       8332.263     8520.265   \n77835  Rectangle          71             29       8800.282     8948.286   \n77836  Rectangle          71             31       9428.297     9596.305   \n77837  Rectangle          71             32       9616.305     9772.311   \n\n      LineNumber  \n0              0  \n1              0  \n2              0  \n3              0  \n4              0  \n...          ...  \n77833          7  \n77834         13  \n77835          3  \n77836          2  \n77837          4  \n\n[77838 rows x 6 columns]",
      "text/html": "<div>\n<style scoped>\n    .dataframe tbody tr th:only-of-type {\n        vertical-align: middle;\n    }\n\n    .dataframe tbody tr th {\n        vertical-align: top;\n    }\n\n    .dataframe thead th {\n        text-align: right;\n    }\n</style>\n<table border=\"1\" class=\"dataframe\">\n  <thead>\n    <tr style=\"text-align: right;\">\n      <th></th>\n      <th>Algorithm</th>\n      <th>Participant</th>\n      <th>FixationNumber</th>\n      <th>FixationStart</th>\n      <th>FixationEnd</th>\n      <th>LineNumber</th>\n    </tr>\n  </thead>\n  <tbody>\n    <tr>\n      <th>0</th>\n      <td>IsPrime</td>\n      <td>1</td>\n      <td>3</td>\n      <td>1136.027</td>\n      <td>1332.034</td>\n      <td>0</td>\n    </tr>\n    <tr>\n      <th>1</th>\n      <td>IsPrime</td>\n      <td>1</td>\n      <td>4</td>\n      <td>1356.034</td>\n      <td>1512.039</td>\n      <td>0</td>\n    </tr>\n    <tr>\n      <th>2</th>\n      <td>IsPrime</td>\n      <td>1</td>\n      <td>5</td>\n      <td>1536.038</td>\n      <td>1812.044</td>\n      <td>0</td>\n    </tr>\n    <tr>\n      <th>3</th>\n      <td>IsPrime</td>\n      <td>1</td>\n      <td>6</td>\n      <td>1840.047</td>\n      <td>2132.055</td>\n      <td>0</td>\n    </tr>\n    <tr>\n      <th>4</th>\n      <td>IsPrime</td>\n      <td>1</td>\n      <td>7</td>\n      <td>2156.055</td>\n      <td>2932.074</td>\n      <td>0</td>\n    </tr>\n    <tr>\n      <th>...</th>\n      <td>...</td>\n      <td>...</td>\n      <td>...</td>\n      <td>...</td>\n      <td>...</td>\n      <td>...</td>\n    </tr>\n    <tr>\n      <th>77833</th>\n      <td>Rectangle</td>\n      <td>71</td>\n      <td>26</td>\n      <td>8160.260</td>\n      <td>8312.263</td>\n      <td>7</td>\n    </tr>\n    <tr>\n      <th>77834</th>\n      <td>Rectangle</td>\n      <td>71</td>\n      <td>27</td>\n      <td>8332.263</td>\n      <td>8520.265</td>\n      <td>13</td>\n    </tr>\n    <tr>\n      <th>77835</th>\n      <td>Rectangle</td>\n      <td>71</td>\n      <td>29</td>\n      <td>8800.282</td>\n      <td>8948.286</td>\n      <td>3</td>\n    </tr>\n    <tr>\n      <th>77836</th>\n      <td>Rectangle</td>\n      <td>71</td>\n      <td>31</td>\n      <td>9428.297</td>\n      <td>9596.305</td>\n      <td>2</td>\n    </tr>\n    <tr>\n      <th>77837</th>\n      <td>Rectangle</td>\n      <td>71</td>\n      <td>32</td>\n      <td>9616.305</td>\n      <td>9772.311</td>\n      <td>4</td>\n    </tr>\n  </tbody>\n</table>\n<p>77838 rows × 6 columns</p>\n</div>"
     },
     "execution_count": 13,
     "metadata": {},
     "output_type": "execute_result"
    }
   ],
   "source": [
    "df_line_fixation_per_participant = pd.DataFrame([], columns=[\"Algorithm\", \"Participant\", \"FixationNumber\", \"FixationStart\", \"FixationEnd\", \"LineNumber\"])\n",
    "participants = df_fixation[\"Participant\"].unique()\n",
    "for snippet in tqdm(snippets):\n",
    "    df_token_per_algo = df_lines[df_lines[\"Algorithm\"] == snippet]\n",
    "\n",
    "    for participant in participants:\n",
    "        df_fixation_participant = df_fixation[(df_fixation[\"Algorithm\"] == snippet) & (df_fixation[\"Participant\"] == participant)]\n",
    "        if len(df_fixation_participant) == 0:\n",
    "            continue\n",
    "        start_times = eval(df_fixation_participant[\"Fixation_startT\"].values[0])\n",
    "        end_times = eval(df_fixation_participant[\"Fixation_endT\"].values[0])\n",
    "        y_coordinates = eval(df_fixation_participant[\"Fixation_y\"].values[0])\n",
    "        y_range = eval(df_fixation_participant[\"Fixation_y_range\"].values[0])\n",
    "        idx_values = range(len(start_times))\n",
    "        for (fix_idx, start, end, y, y_range) in zip(idx_values, start_times, end_times, y_coordinates, y_range):\n",
    "            low_y = int(float(y) - math.ceil(float(y_range)))\n",
    "            high_y = int(float(y) + math.ceil(float(y_range)))\n",
    "            possible_coordinates = [y for y in range(low_y, high_y + 1)]\n",
    "\n",
    "            found = False\n",
    "            for idx, row in df_token_per_algo.iterrows():\n",
    "                line_number = row[\"Line\"]\n",
    "                bounding_box = row[\"BoundingBox\"]\n",
    "\n",
    "                for possible_y in possible_coordinates:\n",
    "                    if bounding_box[1] <= possible_y <= bounding_box[3]:\n",
    "                        df_line_fixation_per_participant.loc[len(df_line_fixation_per_participant)] = [snippet, participant, fix_idx, start, end, line_number]\n",
    "                        found = True\n",
    "                        break\n",
    "                if found:\n",
    "                    break\n",
    "\n",
    "df_line_fixation_per_participant"
   ],
   "metadata": {
    "collapsed": false,
    "pycharm": {
     "name": "#%%\n"
    }
   }
  },
  {
   "cell_type": "code",
   "execution_count": 14,
   "outputs": [
    {
     "data": {
      "text/plain": "  0%|          | 0/32 [00:00<?, ?it/s]",
      "application/vnd.jupyter.widget-view+json": {
       "version_major": 2,
       "version_minor": 0,
       "model_id": "22ba57a27238425bb52a64a9cf2ab1c7"
      }
     },
     "metadata": {},
     "output_type": "display_data"
    },
    {
     "data": {
      "text/plain": "                Algorithm LOC\n0                 IsPrime   8\n1     SiebDesEratosthenes  20\n2               IsAnagram  28\n3        RemoveDoubleChar  19\n4            BinToDecimal   9\n5           PermuteString  23\n6                   Power   7\n7            BinarySearch  15\n8       ContainsSubstring  21\n9            ReverseArray   7\n10               SumArray   9\n11         RectanglePower  11\n12                Vehicle  19\n13  GreatestCommonDivisor  18\n14                 HIndex  15\n15           LengthOfLast  17\n16         MedianOnSorted   8\n17            SignChecker  19\n18           ArrayAverage  12\n19             DropNumber  22\n20    BinomialCoefficient  12\n21             Palindrome   8\n22            DumpSorting  29\n23             InsertSort  15\n24           HeightOfTree  17\n25     CheckIfLettersOnly  11\n26             SmallGauss   7\n27               BogoSort  23\n28           ReverseQueue   8\n29               Ackerman   9\n30         RabbitTortoise  16\n31              Rectangle  18",
      "text/html": "<div>\n<style scoped>\n    .dataframe tbody tr th:only-of-type {\n        vertical-align: middle;\n    }\n\n    .dataframe tbody tr th {\n        vertical-align: top;\n    }\n\n    .dataframe thead th {\n        text-align: right;\n    }\n</style>\n<table border=\"1\" class=\"dataframe\">\n  <thead>\n    <tr style=\"text-align: right;\">\n      <th></th>\n      <th>Algorithm</th>\n      <th>LOC</th>\n    </tr>\n  </thead>\n  <tbody>\n    <tr>\n      <th>0</th>\n      <td>IsPrime</td>\n      <td>8</td>\n    </tr>\n    <tr>\n      <th>1</th>\n      <td>SiebDesEratosthenes</td>\n      <td>20</td>\n    </tr>\n    <tr>\n      <th>2</th>\n      <td>IsAnagram</td>\n      <td>28</td>\n    </tr>\n    <tr>\n      <th>3</th>\n      <td>RemoveDoubleChar</td>\n      <td>19</td>\n    </tr>\n    <tr>\n      <th>4</th>\n      <td>BinToDecimal</td>\n      <td>9</td>\n    </tr>\n    <tr>\n      <th>5</th>\n      <td>PermuteString</td>\n      <td>23</td>\n    </tr>\n    <tr>\n      <th>6</th>\n      <td>Power</td>\n      <td>7</td>\n    </tr>\n    <tr>\n      <th>7</th>\n      <td>BinarySearch</td>\n      <td>15</td>\n    </tr>\n    <tr>\n      <th>8</th>\n      <td>ContainsSubstring</td>\n      <td>21</td>\n    </tr>\n    <tr>\n      <th>9</th>\n      <td>ReverseArray</td>\n      <td>7</td>\n    </tr>\n    <tr>\n      <th>10</th>\n      <td>SumArray</td>\n      <td>9</td>\n    </tr>\n    <tr>\n      <th>11</th>\n      <td>RectanglePower</td>\n      <td>11</td>\n    </tr>\n    <tr>\n      <th>12</th>\n      <td>Vehicle</td>\n      <td>19</td>\n    </tr>\n    <tr>\n      <th>13</th>\n      <td>GreatestCommonDivisor</td>\n      <td>18</td>\n    </tr>\n    <tr>\n      <th>14</th>\n      <td>HIndex</td>\n      <td>15</td>\n    </tr>\n    <tr>\n      <th>15</th>\n      <td>LengthOfLast</td>\n      <td>17</td>\n    </tr>\n    <tr>\n      <th>16</th>\n      <td>MedianOnSorted</td>\n      <td>8</td>\n    </tr>\n    <tr>\n      <th>17</th>\n      <td>SignChecker</td>\n      <td>19</td>\n    </tr>\n    <tr>\n      <th>18</th>\n      <td>ArrayAverage</td>\n      <td>12</td>\n    </tr>\n    <tr>\n      <th>19</th>\n      <td>DropNumber</td>\n      <td>22</td>\n    </tr>\n    <tr>\n      <th>20</th>\n      <td>BinomialCoefficient</td>\n      <td>12</td>\n    </tr>\n    <tr>\n      <th>21</th>\n      <td>Palindrome</td>\n      <td>8</td>\n    </tr>\n    <tr>\n      <th>22</th>\n      <td>DumpSorting</td>\n      <td>29</td>\n    </tr>\n    <tr>\n      <th>23</th>\n      <td>InsertSort</td>\n      <td>15</td>\n    </tr>\n    <tr>\n      <th>24</th>\n      <td>HeightOfTree</td>\n      <td>17</td>\n    </tr>\n    <tr>\n      <th>25</th>\n      <td>CheckIfLettersOnly</td>\n      <td>11</td>\n    </tr>\n    <tr>\n      <th>26</th>\n      <td>SmallGauss</td>\n      <td>7</td>\n    </tr>\n    <tr>\n      <th>27</th>\n      <td>BogoSort</td>\n      <td>23</td>\n    </tr>\n    <tr>\n      <th>28</th>\n      <td>ReverseQueue</td>\n      <td>8</td>\n    </tr>\n    <tr>\n      <th>29</th>\n      <td>Ackerman</td>\n      <td>9</td>\n    </tr>\n    <tr>\n      <th>30</th>\n      <td>RabbitTortoise</td>\n      <td>16</td>\n    </tr>\n    <tr>\n      <th>31</th>\n      <td>Rectangle</td>\n      <td>18</td>\n    </tr>\n  </tbody>\n</table>\n</div>"
     },
     "execution_count": 14,
     "metadata": {},
     "output_type": "execute_result"
    }
   ],
   "source": [
    "# Calculate the LOCs\n",
    "snippets = df_fixation[\"Algorithm\"].unique()\n",
    "df_snippet_length = pd.DataFrame(columns=[\"Algorithm\", \"LOC\"])\n",
    "for snippet in tqdm(snippets):\n",
    "    aoi_token_generator = f\"./../CodeSnippets/aois/Generators/{snippet}_ast.json\"\n",
    "    with open(aoi_token_generator) as f:\n",
    "        aoi_list = json.load(f)\n",
    "        data = aoi_list[\"source-code\"]\n",
    "        LOC = len(data)\n",
    "        df_snippet_length.loc[len(df_snippet_length)] = [snippet, LOC]\n",
    "df_snippet_length"
   ],
   "metadata": {
    "collapsed": false,
    "pycharm": {
     "name": "#%%\n"
    }
   }
  },
  {
   "cell_type": "code",
   "execution_count": 15,
   "outputs": [
    {
     "data": {
      "text/plain": "      Participant              Algorithm    Duration  SkillScore\n0               1                IsPrime   12.390280    0.331385\n1               1    SiebDesEratosthenes  152.571914    0.331385\n2               1              IsAnagram  109.615724    0.331385\n3               1       RemoveDoubleChar   53.456276    0.331385\n4               1           BinToDecimal   49.922091    0.331385\n...           ...                    ...         ...         ...\n1066           71  GreatestCommonDivisor   30.757360    0.435651\n1067           71            DumpSorting  113.368945    0.435651\n1068           71    BinomialCoefficient   50.637861    0.435651\n1069           71              IsAnagram  110.995754    0.435651\n1070           71           ArrayAverage    8.310264    0.435651\n\n[1018 rows x 4 columns]",
      "text/html": "<div>\n<style scoped>\n    .dataframe tbody tr th:only-of-type {\n        vertical-align: middle;\n    }\n\n    .dataframe tbody tr th {\n        vertical-align: top;\n    }\n\n    .dataframe thead th {\n        text-align: right;\n    }\n</style>\n<table border=\"1\" class=\"dataframe\">\n  <thead>\n    <tr style=\"text-align: right;\">\n      <th></th>\n      <th>Participant</th>\n      <th>Algorithm</th>\n      <th>Duration</th>\n      <th>SkillScore</th>\n    </tr>\n  </thead>\n  <tbody>\n    <tr>\n      <th>0</th>\n      <td>1</td>\n      <td>IsPrime</td>\n      <td>12.390280</td>\n      <td>0.331385</td>\n    </tr>\n    <tr>\n      <th>1</th>\n      <td>1</td>\n      <td>SiebDesEratosthenes</td>\n      <td>152.571914</td>\n      <td>0.331385</td>\n    </tr>\n    <tr>\n      <th>2</th>\n      <td>1</td>\n      <td>IsAnagram</td>\n      <td>109.615724</td>\n      <td>0.331385</td>\n    </tr>\n    <tr>\n      <th>3</th>\n      <td>1</td>\n      <td>RemoveDoubleChar</td>\n      <td>53.456276</td>\n      <td>0.331385</td>\n    </tr>\n    <tr>\n      <th>4</th>\n      <td>1</td>\n      <td>BinToDecimal</td>\n      <td>49.922091</td>\n      <td>0.331385</td>\n    </tr>\n    <tr>\n      <th>...</th>\n      <td>...</td>\n      <td>...</td>\n      <td>...</td>\n      <td>...</td>\n    </tr>\n    <tr>\n      <th>1066</th>\n      <td>71</td>\n      <td>GreatestCommonDivisor</td>\n      <td>30.757360</td>\n      <td>0.435651</td>\n    </tr>\n    <tr>\n      <th>1067</th>\n      <td>71</td>\n      <td>DumpSorting</td>\n      <td>113.368945</td>\n      <td>0.435651</td>\n    </tr>\n    <tr>\n      <th>1068</th>\n      <td>71</td>\n      <td>BinomialCoefficient</td>\n      <td>50.637861</td>\n      <td>0.435651</td>\n    </tr>\n    <tr>\n      <th>1069</th>\n      <td>71</td>\n      <td>IsAnagram</td>\n      <td>110.995754</td>\n      <td>0.435651</td>\n    </tr>\n    <tr>\n      <th>1070</th>\n      <td>71</td>\n      <td>ArrayAverage</td>\n      <td>8.310264</td>\n      <td>0.435651</td>\n    </tr>\n  </tbody>\n</table>\n<p>1018 rows × 4 columns</p>\n</div>"
     },
     "execution_count": 15,
     "metadata": {},
     "output_type": "execute_result"
    }
   ],
   "source": [
    "# read in Behavioural and Skills data\n",
    "df_behavioral = pd.read_csv('./data/filteredData/fixation_stats.csv', sep=\";\")\n",
    "df_behavioral = df_behavioral[df_behavioral[\"IsOutlier\"] == False]\n",
    "df_behavioral = df_behavioral[[\"Participant\", \"Algorithm\", \"Duration\", \"SkillScore\"]]\n",
    "df_behavioral"
   ],
   "metadata": {
    "collapsed": false,
    "pycharm": {
     "name": "#%%\n"
    }
   }
  },
  {
   "cell_type": "code",
   "execution_count": 16,
   "outputs": [
    {
     "data": {
      "text/plain": "                  10%       20%       30%       40%       50%       60%  \\\nParticipant                                                               \n1            0.104483  0.245391  0.348396  0.432725  0.493120  0.546829   \n2            0.145467  0.251232  0.355527  0.418872  0.464605  0.498878   \n3            0.290797  0.415433  0.521158  0.638263  0.717830  0.764809   \n4            0.081401  0.245859  0.331361  0.427805  0.500664  0.554532   \n5            0.201621  0.298898  0.390414  0.469532  0.536783  0.633263   \n6            0.120993  0.255461  0.391562  0.485468  0.578998  0.639232   \n7            0.119117  0.267153  0.392478  0.459563  0.495865  0.532007   \n10           0.076049  0.152989  0.243787  0.323574  0.405975  0.446269   \n11           0.143196  0.332465  0.457989  0.540979  0.610152  0.659481   \n12           0.058027  0.192586  0.291230  0.382240  0.483282  0.533730   \n13           0.031384  0.082224  0.147341  0.226887  0.325129  0.386145   \n14           0.012169  0.119928  0.189313  0.265715  0.340076  0.410010   \n18           0.130649  0.248608  0.302346  0.348008  0.423028  0.481445   \n22           0.177586  0.342935  0.437507  0.521076  0.607087  0.639785   \n24           0.043262  0.115407  0.187809  0.278484  0.342885  0.403141   \n25           0.073301  0.239604  0.323812  0.414941  0.508929  0.560282   \n28           0.071997  0.203192  0.325553  0.386997  0.456561  0.496521   \n35           0.006389  0.062410  0.127004  0.204227  0.272732  0.330115   \n36           0.023687  0.107101  0.213368  0.280750  0.317348  0.358155   \n37           0.161406  0.295348  0.398624  0.484356  0.555094  0.594158   \n38           0.037804  0.152494  0.229925  0.305608  0.381743  0.441346   \n41           0.165558  0.243174  0.285280  0.332532  0.365590  0.372823   \n42           0.117676  0.186451  0.277115  0.389047  0.452075  0.511187   \n49           0.421934  0.556035  0.691490  0.769187  0.797907  0.808313   \n50           0.006879  0.044056  0.119463  0.195807  0.305629  0.365823   \n55           0.000000  0.053445  0.118774  0.193105  0.285467  0.331781   \n58           0.080465  0.209018  0.333783  0.395619  0.475779  0.552417   \n59           0.007905  0.076968  0.174029  0.251870  0.330754  0.421855   \n60           0.034248  0.089754  0.166522  0.247891  0.309771  0.345640   \n61           0.018485  0.123741  0.219552  0.287566  0.381615  0.429824   \n62           0.144094  0.256269  0.341560  0.436265  0.528106  0.573123   \n63           0.129071  0.275068  0.351322  0.430606  0.519380  0.579784   \n66           0.062672  0.149857  0.237077  0.305374  0.375995  0.448028   \n67           0.135444  0.243628  0.328674  0.431144  0.508905  0.566819   \n68           0.096695  0.212064  0.290170  0.384874  0.444554  0.500991   \n70           0.357696  0.488062  0.582981  0.637074  0.672103  0.706922   \n71           0.157437  0.259448  0.354411  0.462327  0.513231  0.547390   \n\n                  70%       80%       90%      100%  SkillScore  \nParticipant                                                      \n1            0.585878  0.616424  0.670406  0.701124    0.331385  \n2            0.555433  0.595900  0.648031  0.684737    0.379187  \n3            0.807005  0.817180  0.824958  0.845963    0.311264  \n4            0.594059  0.635949  0.664308  0.710296    0.424727  \n5            0.674136  0.697142  0.730242  0.776159    0.313031  \n6            0.695732  0.750078  0.797493  0.815643    0.315932  \n7            0.565644  0.604134  0.634141  0.653961    0.420873  \n10           0.498451  0.551098  0.587737  0.617075    0.350392  \n11           0.713351  0.746848  0.775843  0.843983    0.178206  \n12           0.597121  0.657559  0.681801  0.733772    0.309233  \n13           0.454231  0.530543  0.577918  0.659777    0.419660  \n14           0.460029  0.531982  0.582458  0.618594    0.316361  \n18           0.532053  0.581494  0.611671  0.686781    0.225911  \n22           0.677445  0.710348  0.745981  0.782825    0.341397  \n24           0.458722  0.484493  0.528876  0.589697    0.212427  \n25           0.614625  0.648972  0.678910  0.725396    0.292946  \n28           0.533372  0.579175  0.602780  0.675886    0.291938  \n35           0.383074  0.430119  0.494440  0.559185    0.656726  \n36           0.405515  0.441785  0.483473  0.524116    0.369527  \n37           0.637472  0.664432  0.711342  0.776808    0.323330  \n38           0.482738  0.507780  0.530911  0.588234    0.394045  \n41           0.386910  0.394535  0.394535  0.410324    0.314773  \n42           0.554150  0.628047  0.702199  0.758524    0.311148  \n49           0.824526  0.846036  0.867382  0.888266    0.142520  \n50           0.420626  0.473421  0.524100  0.601443    0.247124  \n55           0.433585  0.492253  0.542199  0.648053    0.203765  \n58           0.638223  0.696968  0.760308  0.787958    0.183834  \n59           0.470120  0.521164  0.609763  0.687911    0.271680  \n60           0.383171  0.423306  0.485560  0.510853    0.401403  \n61           0.509457  0.544075  0.574505  0.641630    0.194679  \n62           0.645705  0.670271  0.730865  0.783252    0.353866  \n63           0.602761  0.649682  0.679066  0.706164    0.333068  \n66           0.513749  0.558030  0.600798  0.645339    0.536549  \n67           0.624416  0.681974  0.707558  0.737455    0.259896  \n68           0.564508  0.581554  0.627430  0.680903    0.433580  \n70           0.746808  0.770333  0.794529  0.823281    0.231481  \n71           0.596165  0.637965  0.664881  0.706461    0.435651  ",
      "text/html": "<div>\n<style scoped>\n    .dataframe tbody tr th:only-of-type {\n        vertical-align: middle;\n    }\n\n    .dataframe tbody tr th {\n        vertical-align: top;\n    }\n\n    .dataframe thead th {\n        text-align: right;\n    }\n</style>\n<table border=\"1\" class=\"dataframe\">\n  <thead>\n    <tr style=\"text-align: right;\">\n      <th></th>\n      <th>10%</th>\n      <th>20%</th>\n      <th>30%</th>\n      <th>40%</th>\n      <th>50%</th>\n      <th>60%</th>\n      <th>70%</th>\n      <th>80%</th>\n      <th>90%</th>\n      <th>100%</th>\n      <th>SkillScore</th>\n    </tr>\n    <tr>\n      <th>Participant</th>\n      <th></th>\n      <th></th>\n      <th></th>\n      <th></th>\n      <th></th>\n      <th></th>\n      <th></th>\n      <th></th>\n      <th></th>\n      <th></th>\n      <th></th>\n    </tr>\n  </thead>\n  <tbody>\n    <tr>\n      <th>1</th>\n      <td>0.104483</td>\n      <td>0.245391</td>\n      <td>0.348396</td>\n      <td>0.432725</td>\n      <td>0.493120</td>\n      <td>0.546829</td>\n      <td>0.585878</td>\n      <td>0.616424</td>\n      <td>0.670406</td>\n      <td>0.701124</td>\n      <td>0.331385</td>\n    </tr>\n    <tr>\n      <th>2</th>\n      <td>0.145467</td>\n      <td>0.251232</td>\n      <td>0.355527</td>\n      <td>0.418872</td>\n      <td>0.464605</td>\n      <td>0.498878</td>\n      <td>0.555433</td>\n      <td>0.595900</td>\n      <td>0.648031</td>\n      <td>0.684737</td>\n      <td>0.379187</td>\n    </tr>\n    <tr>\n      <th>3</th>\n      <td>0.290797</td>\n      <td>0.415433</td>\n      <td>0.521158</td>\n      <td>0.638263</td>\n      <td>0.717830</td>\n      <td>0.764809</td>\n      <td>0.807005</td>\n      <td>0.817180</td>\n      <td>0.824958</td>\n      <td>0.845963</td>\n      <td>0.311264</td>\n    </tr>\n    <tr>\n      <th>4</th>\n      <td>0.081401</td>\n      <td>0.245859</td>\n      <td>0.331361</td>\n      <td>0.427805</td>\n      <td>0.500664</td>\n      <td>0.554532</td>\n      <td>0.594059</td>\n      <td>0.635949</td>\n      <td>0.664308</td>\n      <td>0.710296</td>\n      <td>0.424727</td>\n    </tr>\n    <tr>\n      <th>5</th>\n      <td>0.201621</td>\n      <td>0.298898</td>\n      <td>0.390414</td>\n      <td>0.469532</td>\n      <td>0.536783</td>\n      <td>0.633263</td>\n      <td>0.674136</td>\n      <td>0.697142</td>\n      <td>0.730242</td>\n      <td>0.776159</td>\n      <td>0.313031</td>\n    </tr>\n    <tr>\n      <th>6</th>\n      <td>0.120993</td>\n      <td>0.255461</td>\n      <td>0.391562</td>\n      <td>0.485468</td>\n      <td>0.578998</td>\n      <td>0.639232</td>\n      <td>0.695732</td>\n      <td>0.750078</td>\n      <td>0.797493</td>\n      <td>0.815643</td>\n      <td>0.315932</td>\n    </tr>\n    <tr>\n      <th>7</th>\n      <td>0.119117</td>\n      <td>0.267153</td>\n      <td>0.392478</td>\n      <td>0.459563</td>\n      <td>0.495865</td>\n      <td>0.532007</td>\n      <td>0.565644</td>\n      <td>0.604134</td>\n      <td>0.634141</td>\n      <td>0.653961</td>\n      <td>0.420873</td>\n    </tr>\n    <tr>\n      <th>10</th>\n      <td>0.076049</td>\n      <td>0.152989</td>\n      <td>0.243787</td>\n      <td>0.323574</td>\n      <td>0.405975</td>\n      <td>0.446269</td>\n      <td>0.498451</td>\n      <td>0.551098</td>\n      <td>0.587737</td>\n      <td>0.617075</td>\n      <td>0.350392</td>\n    </tr>\n    <tr>\n      <th>11</th>\n      <td>0.143196</td>\n      <td>0.332465</td>\n      <td>0.457989</td>\n      <td>0.540979</td>\n      <td>0.610152</td>\n      <td>0.659481</td>\n      <td>0.713351</td>\n      <td>0.746848</td>\n      <td>0.775843</td>\n      <td>0.843983</td>\n      <td>0.178206</td>\n    </tr>\n    <tr>\n      <th>12</th>\n      <td>0.058027</td>\n      <td>0.192586</td>\n      <td>0.291230</td>\n      <td>0.382240</td>\n      <td>0.483282</td>\n      <td>0.533730</td>\n      <td>0.597121</td>\n      <td>0.657559</td>\n      <td>0.681801</td>\n      <td>0.733772</td>\n      <td>0.309233</td>\n    </tr>\n    <tr>\n      <th>13</th>\n      <td>0.031384</td>\n      <td>0.082224</td>\n      <td>0.147341</td>\n      <td>0.226887</td>\n      <td>0.325129</td>\n      <td>0.386145</td>\n      <td>0.454231</td>\n      <td>0.530543</td>\n      <td>0.577918</td>\n      <td>0.659777</td>\n      <td>0.419660</td>\n    </tr>\n    <tr>\n      <th>14</th>\n      <td>0.012169</td>\n      <td>0.119928</td>\n      <td>0.189313</td>\n      <td>0.265715</td>\n      <td>0.340076</td>\n      <td>0.410010</td>\n      <td>0.460029</td>\n      <td>0.531982</td>\n      <td>0.582458</td>\n      <td>0.618594</td>\n      <td>0.316361</td>\n    </tr>\n    <tr>\n      <th>18</th>\n      <td>0.130649</td>\n      <td>0.248608</td>\n      <td>0.302346</td>\n      <td>0.348008</td>\n      <td>0.423028</td>\n      <td>0.481445</td>\n      <td>0.532053</td>\n      <td>0.581494</td>\n      <td>0.611671</td>\n      <td>0.686781</td>\n      <td>0.225911</td>\n    </tr>\n    <tr>\n      <th>22</th>\n      <td>0.177586</td>\n      <td>0.342935</td>\n      <td>0.437507</td>\n      <td>0.521076</td>\n      <td>0.607087</td>\n      <td>0.639785</td>\n      <td>0.677445</td>\n      <td>0.710348</td>\n      <td>0.745981</td>\n      <td>0.782825</td>\n      <td>0.341397</td>\n    </tr>\n    <tr>\n      <th>24</th>\n      <td>0.043262</td>\n      <td>0.115407</td>\n      <td>0.187809</td>\n      <td>0.278484</td>\n      <td>0.342885</td>\n      <td>0.403141</td>\n      <td>0.458722</td>\n      <td>0.484493</td>\n      <td>0.528876</td>\n      <td>0.589697</td>\n      <td>0.212427</td>\n    </tr>\n    <tr>\n      <th>25</th>\n      <td>0.073301</td>\n      <td>0.239604</td>\n      <td>0.323812</td>\n      <td>0.414941</td>\n      <td>0.508929</td>\n      <td>0.560282</td>\n      <td>0.614625</td>\n      <td>0.648972</td>\n      <td>0.678910</td>\n      <td>0.725396</td>\n      <td>0.292946</td>\n    </tr>\n    <tr>\n      <th>28</th>\n      <td>0.071997</td>\n      <td>0.203192</td>\n      <td>0.325553</td>\n      <td>0.386997</td>\n      <td>0.456561</td>\n      <td>0.496521</td>\n      <td>0.533372</td>\n      <td>0.579175</td>\n      <td>0.602780</td>\n      <td>0.675886</td>\n      <td>0.291938</td>\n    </tr>\n    <tr>\n      <th>35</th>\n      <td>0.006389</td>\n      <td>0.062410</td>\n      <td>0.127004</td>\n      <td>0.204227</td>\n      <td>0.272732</td>\n      <td>0.330115</td>\n      <td>0.383074</td>\n      <td>0.430119</td>\n      <td>0.494440</td>\n      <td>0.559185</td>\n      <td>0.656726</td>\n    </tr>\n    <tr>\n      <th>36</th>\n      <td>0.023687</td>\n      <td>0.107101</td>\n      <td>0.213368</td>\n      <td>0.280750</td>\n      <td>0.317348</td>\n      <td>0.358155</td>\n      <td>0.405515</td>\n      <td>0.441785</td>\n      <td>0.483473</td>\n      <td>0.524116</td>\n      <td>0.369527</td>\n    </tr>\n    <tr>\n      <th>37</th>\n      <td>0.161406</td>\n      <td>0.295348</td>\n      <td>0.398624</td>\n      <td>0.484356</td>\n      <td>0.555094</td>\n      <td>0.594158</td>\n      <td>0.637472</td>\n      <td>0.664432</td>\n      <td>0.711342</td>\n      <td>0.776808</td>\n      <td>0.323330</td>\n    </tr>\n    <tr>\n      <th>38</th>\n      <td>0.037804</td>\n      <td>0.152494</td>\n      <td>0.229925</td>\n      <td>0.305608</td>\n      <td>0.381743</td>\n      <td>0.441346</td>\n      <td>0.482738</td>\n      <td>0.507780</td>\n      <td>0.530911</td>\n      <td>0.588234</td>\n      <td>0.394045</td>\n    </tr>\n    <tr>\n      <th>41</th>\n      <td>0.165558</td>\n      <td>0.243174</td>\n      <td>0.285280</td>\n      <td>0.332532</td>\n      <td>0.365590</td>\n      <td>0.372823</td>\n      <td>0.386910</td>\n      <td>0.394535</td>\n      <td>0.394535</td>\n      <td>0.410324</td>\n      <td>0.314773</td>\n    </tr>\n    <tr>\n      <th>42</th>\n      <td>0.117676</td>\n      <td>0.186451</td>\n      <td>0.277115</td>\n      <td>0.389047</td>\n      <td>0.452075</td>\n      <td>0.511187</td>\n      <td>0.554150</td>\n      <td>0.628047</td>\n      <td>0.702199</td>\n      <td>0.758524</td>\n      <td>0.311148</td>\n    </tr>\n    <tr>\n      <th>49</th>\n      <td>0.421934</td>\n      <td>0.556035</td>\n      <td>0.691490</td>\n      <td>0.769187</td>\n      <td>0.797907</td>\n      <td>0.808313</td>\n      <td>0.824526</td>\n      <td>0.846036</td>\n      <td>0.867382</td>\n      <td>0.888266</td>\n      <td>0.142520</td>\n    </tr>\n    <tr>\n      <th>50</th>\n      <td>0.006879</td>\n      <td>0.044056</td>\n      <td>0.119463</td>\n      <td>0.195807</td>\n      <td>0.305629</td>\n      <td>0.365823</td>\n      <td>0.420626</td>\n      <td>0.473421</td>\n      <td>0.524100</td>\n      <td>0.601443</td>\n      <td>0.247124</td>\n    </tr>\n    <tr>\n      <th>55</th>\n      <td>0.000000</td>\n      <td>0.053445</td>\n      <td>0.118774</td>\n      <td>0.193105</td>\n      <td>0.285467</td>\n      <td>0.331781</td>\n      <td>0.433585</td>\n      <td>0.492253</td>\n      <td>0.542199</td>\n      <td>0.648053</td>\n      <td>0.203765</td>\n    </tr>\n    <tr>\n      <th>58</th>\n      <td>0.080465</td>\n      <td>0.209018</td>\n      <td>0.333783</td>\n      <td>0.395619</td>\n      <td>0.475779</td>\n      <td>0.552417</td>\n      <td>0.638223</td>\n      <td>0.696968</td>\n      <td>0.760308</td>\n      <td>0.787958</td>\n      <td>0.183834</td>\n    </tr>\n    <tr>\n      <th>59</th>\n      <td>0.007905</td>\n      <td>0.076968</td>\n      <td>0.174029</td>\n      <td>0.251870</td>\n      <td>0.330754</td>\n      <td>0.421855</td>\n      <td>0.470120</td>\n      <td>0.521164</td>\n      <td>0.609763</td>\n      <td>0.687911</td>\n      <td>0.271680</td>\n    </tr>\n    <tr>\n      <th>60</th>\n      <td>0.034248</td>\n      <td>0.089754</td>\n      <td>0.166522</td>\n      <td>0.247891</td>\n      <td>0.309771</td>\n      <td>0.345640</td>\n      <td>0.383171</td>\n      <td>0.423306</td>\n      <td>0.485560</td>\n      <td>0.510853</td>\n      <td>0.401403</td>\n    </tr>\n    <tr>\n      <th>61</th>\n      <td>0.018485</td>\n      <td>0.123741</td>\n      <td>0.219552</td>\n      <td>0.287566</td>\n      <td>0.381615</td>\n      <td>0.429824</td>\n      <td>0.509457</td>\n      <td>0.544075</td>\n      <td>0.574505</td>\n      <td>0.641630</td>\n      <td>0.194679</td>\n    </tr>\n    <tr>\n      <th>62</th>\n      <td>0.144094</td>\n      <td>0.256269</td>\n      <td>0.341560</td>\n      <td>0.436265</td>\n      <td>0.528106</td>\n      <td>0.573123</td>\n      <td>0.645705</td>\n      <td>0.670271</td>\n      <td>0.730865</td>\n      <td>0.783252</td>\n      <td>0.353866</td>\n    </tr>\n    <tr>\n      <th>63</th>\n      <td>0.129071</td>\n      <td>0.275068</td>\n      <td>0.351322</td>\n      <td>0.430606</td>\n      <td>0.519380</td>\n      <td>0.579784</td>\n      <td>0.602761</td>\n      <td>0.649682</td>\n      <td>0.679066</td>\n      <td>0.706164</td>\n      <td>0.333068</td>\n    </tr>\n    <tr>\n      <th>66</th>\n      <td>0.062672</td>\n      <td>0.149857</td>\n      <td>0.237077</td>\n      <td>0.305374</td>\n      <td>0.375995</td>\n      <td>0.448028</td>\n      <td>0.513749</td>\n      <td>0.558030</td>\n      <td>0.600798</td>\n      <td>0.645339</td>\n      <td>0.536549</td>\n    </tr>\n    <tr>\n      <th>67</th>\n      <td>0.135444</td>\n      <td>0.243628</td>\n      <td>0.328674</td>\n      <td>0.431144</td>\n      <td>0.508905</td>\n      <td>0.566819</td>\n      <td>0.624416</td>\n      <td>0.681974</td>\n      <td>0.707558</td>\n      <td>0.737455</td>\n      <td>0.259896</td>\n    </tr>\n    <tr>\n      <th>68</th>\n      <td>0.096695</td>\n      <td>0.212064</td>\n      <td>0.290170</td>\n      <td>0.384874</td>\n      <td>0.444554</td>\n      <td>0.500991</td>\n      <td>0.564508</td>\n      <td>0.581554</td>\n      <td>0.627430</td>\n      <td>0.680903</td>\n      <td>0.433580</td>\n    </tr>\n    <tr>\n      <th>70</th>\n      <td>0.357696</td>\n      <td>0.488062</td>\n      <td>0.582981</td>\n      <td>0.637074</td>\n      <td>0.672103</td>\n      <td>0.706922</td>\n      <td>0.746808</td>\n      <td>0.770333</td>\n      <td>0.794529</td>\n      <td>0.823281</td>\n      <td>0.231481</td>\n    </tr>\n    <tr>\n      <th>71</th>\n      <td>0.157437</td>\n      <td>0.259448</td>\n      <td>0.354411</td>\n      <td>0.462327</td>\n      <td>0.513231</td>\n      <td>0.547390</td>\n      <td>0.596165</td>\n      <td>0.637965</td>\n      <td>0.664881</td>\n      <td>0.706461</td>\n      <td>0.435651</td>\n    </tr>\n  </tbody>\n</table>\n</div>"
     },
     "execution_count": 16,
     "metadata": {},
     "output_type": "execute_result"
    }
   ],
   "source": [
    "# merge dataframes together to access every possible combination of participant, algorithm and duration,skillscore\n",
    "df_combined = pd.merge(df_line_fixation_per_participant, df_snippet_length, on=[\"Algorithm\"])\n",
    "df_combined = pd.merge(df_combined, df_behavioral, on=[\"Participant\", \"Algorithm\"])\n",
    "\n",
    "# transform the data to seconds\n",
    "df_combined[\"FixationStart\"] = df_combined[\"FixationStart\"] / 1000.0\n",
    "df_combined[\"FixationEnd\"] = df_combined[\"FixationEnd\"] / 1000.0\n",
    "\n",
    "# Helper function to calculate the coverage of LOC after 'percentage' percent from the whole duration\n",
    "def loc_coverage_after_time_percentage(df, percentage):\n",
    "    end_duration = df[\"Duration\"].iloc[0]\n",
    "    loc = df[\"LOC\"].iloc[0]\n",
    "    max_duration = end_duration * percentage\n",
    "    df_filtered = df[df[\"FixationEnd\"] <= max_duration]\n",
    "    unique_loc = df_filtered[\"LineNumber\"].nunique()\n",
    "    return unique_loc / loc\n",
    "\n",
    "# calculate LOC coverage after a certain percentage of the duration\n",
    "df_10 = df_combined.groupby([\"Algorithm\", \"Participant\"]).apply(lambda df : loc_coverage_after_time_percentage(df, 0.1))\n",
    "df_20 = df_combined.groupby([\"Algorithm\", \"Participant\"]).apply(lambda df : loc_coverage_after_time_percentage(df, 0.2))\n",
    "df_30 = df_combined.groupby([\"Algorithm\", \"Participant\"]).apply(lambda df : loc_coverage_after_time_percentage(df, 0.3))\n",
    "df_40 = df_combined.groupby([\"Algorithm\", \"Participant\"]).apply(lambda df : loc_coverage_after_time_percentage(df, 0.4))\n",
    "df_50 = df_combined.groupby([\"Algorithm\", \"Participant\"]).apply(lambda df : loc_coverage_after_time_percentage(df, 0.5))\n",
    "df_60 = df_combined.groupby([\"Algorithm\", \"Participant\"]).apply(lambda df : loc_coverage_after_time_percentage(df, 0.6))\n",
    "df_70 = df_combined.groupby([\"Algorithm\", \"Participant\"]).apply(lambda df : loc_coverage_after_time_percentage(df, 0.7))\n",
    "df_80 = df_combined.groupby([\"Algorithm\", \"Participant\"]).apply(lambda df : loc_coverage_after_time_percentage(df, 0.8))\n",
    "df_90 = df_combined.groupby([\"Algorithm\", \"Participant\"]).apply(lambda df : loc_coverage_after_time_percentage(df, 0.9))\n",
    "df_100 = df_combined.groupby([\"Algorithm\", \"Participant\"]).apply(lambda df : loc_coverage_after_time_percentage(df, 1.))\n",
    "\n",
    "df_10 = df_10.reset_index()\n",
    "df_20 = df_20.reset_index()\n",
    "df_30 = df_30.reset_index()\n",
    "df_40 = df_40.reset_index()\n",
    "df_50 = df_50.reset_index()\n",
    "df_60 = df_60.reset_index()\n",
    "df_70 = df_70.reset_index()\n",
    "df_80 = df_80.reset_index()\n",
    "df_90 = df_90.reset_index()\n",
    "df_100 = df_100.reset_index()\n",
    "\n",
    "\n",
    "df_10 = df_10.groupby([\"Participant\"]).mean().values.reshape(37, )\n",
    "df_20 = df_20.groupby([\"Participant\"]).mean().values.reshape(37, )\n",
    "df_30 = df_30.groupby([\"Participant\"]).mean().values.reshape(37, )\n",
    "df_40 = df_40.groupby([\"Participant\"]).mean().values.reshape(37, )\n",
    "df_50 = df_50.groupby([\"Participant\"]).mean().values.reshape(37, )\n",
    "df_60 = df_60.groupby([\"Participant\"]).mean().values.reshape(37, )\n",
    "df_70 = df_70.groupby([\"Participant\"]).mean().values.reshape(37, )\n",
    "df_80 = df_80.groupby([\"Participant\"]).mean().values.reshape(37, )\n",
    "df_90 = df_90.groupby([\"Participant\"]).mean().values.reshape(37, )\n",
    "df_100 = df_100.groupby([\"Participant\"]).mean().values.reshape(37, )\n",
    "\n",
    "# extract the raw skillscore per participant\n",
    "df_skill = df_behavioral[[\"Participant\", \"SkillScore\"]]\n",
    "df_skill = df_skill.drop_duplicates()\n",
    "\n",
    "# create a dataframe with all the LOC coverage and Participant\n",
    "df_code_coverage = pd.DataFrame({\"Participant\": participants,\n",
    "                                 \"10%\" : df_10,\n",
    "                                 \"20%\" : df_20,\n",
    "                                 \"30%\" : df_30,\n",
    "                                 \"40%\" : df_40,\n",
    "                                 \"50%\" : df_50,\n",
    "                                 \"60%\" : df_60,\n",
    "                                 \"70%\" : df_70,\n",
    "                                 \"80%\" : df_80,\n",
    "                                 \"90%\" : df_90,\n",
    "                                 \"100%\" : df_100})\n",
    "\n",
    "df_code_coverage.set_index(\"Participant\", inplace=True, drop=True)\n",
    "\n",
    "# Merge LOC coverage with skillscore with correlations\n",
    "df_code_coverage = pd.merge(df_code_coverage, df_skill, on=[\"Participant\"])\n",
    "df_code_coverage.set_index(\"Participant\", inplace=True, drop=True)\n",
    "df_code_coverage"
   ],
   "metadata": {
    "collapsed": false,
    "pycharm": {
     "name": "#%%\n"
    }
   }
  },
  {
   "cell_type": "code",
   "execution_count": 17,
   "outputs": [
    {
     "data": {
      "text/plain": "             10%        20%        30%        40%        50%        60%  \\\ncount  37.000000  37.000000  37.000000  37.000000  37.000000  37.000000   \nmean    0.109380   0.218750   0.310235   0.390442   0.461750   0.512780   \nstd     0.094156   0.114959   0.126723   0.129326   0.123328   0.119180   \nmin     0.000000   0.044056   0.118774   0.193105   0.272732   0.330115   \n25%     0.037804   0.123741   0.219552   0.287566   0.365590   0.421855   \n50%     0.096695   0.239604   0.323812   0.389047   0.464605   0.511187   \n75%     0.144094   0.259448   0.355527   0.459563   0.519380   0.573123   \nmax     0.421934   0.556035   0.691490   0.769187   0.797907   0.808313   \n\n             70%        80%        90%       100%  SkillScore  \ncount  37.000000  37.000000  37.000000  37.000000   37.000000  \nmean    0.563269   0.604136   0.644038   0.691563    0.325230  \nstd     0.114814   0.110537   0.106864   0.102212    0.102510  \nmin     0.383074   0.394535   0.394535   0.410324    0.142520  \n25%     0.470120   0.530543   0.577918   0.641630    0.259896  \n50%     0.564508   0.604134   0.648031   0.687911    0.315932  \n75%     0.637472   0.670271   0.711342   0.776159    0.379187  \nmax     0.824526   0.846036   0.867382   0.888266    0.656726  ",
      "text/html": "<div>\n<style scoped>\n    .dataframe tbody tr th:only-of-type {\n        vertical-align: middle;\n    }\n\n    .dataframe tbody tr th {\n        vertical-align: top;\n    }\n\n    .dataframe thead th {\n        text-align: right;\n    }\n</style>\n<table border=\"1\" class=\"dataframe\">\n  <thead>\n    <tr style=\"text-align: right;\">\n      <th></th>\n      <th>10%</th>\n      <th>20%</th>\n      <th>30%</th>\n      <th>40%</th>\n      <th>50%</th>\n      <th>60%</th>\n      <th>70%</th>\n      <th>80%</th>\n      <th>90%</th>\n      <th>100%</th>\n      <th>SkillScore</th>\n    </tr>\n  </thead>\n  <tbody>\n    <tr>\n      <th>count</th>\n      <td>37.000000</td>\n      <td>37.000000</td>\n      <td>37.000000</td>\n      <td>37.000000</td>\n      <td>37.000000</td>\n      <td>37.000000</td>\n      <td>37.000000</td>\n      <td>37.000000</td>\n      <td>37.000000</td>\n      <td>37.000000</td>\n      <td>37.000000</td>\n    </tr>\n    <tr>\n      <th>mean</th>\n      <td>0.109380</td>\n      <td>0.218750</td>\n      <td>0.310235</td>\n      <td>0.390442</td>\n      <td>0.461750</td>\n      <td>0.512780</td>\n      <td>0.563269</td>\n      <td>0.604136</td>\n      <td>0.644038</td>\n      <td>0.691563</td>\n      <td>0.325230</td>\n    </tr>\n    <tr>\n      <th>std</th>\n      <td>0.094156</td>\n      <td>0.114959</td>\n      <td>0.126723</td>\n      <td>0.129326</td>\n      <td>0.123328</td>\n      <td>0.119180</td>\n      <td>0.114814</td>\n      <td>0.110537</td>\n      <td>0.106864</td>\n      <td>0.102212</td>\n      <td>0.102510</td>\n    </tr>\n    <tr>\n      <th>min</th>\n      <td>0.000000</td>\n      <td>0.044056</td>\n      <td>0.118774</td>\n      <td>0.193105</td>\n      <td>0.272732</td>\n      <td>0.330115</td>\n      <td>0.383074</td>\n      <td>0.394535</td>\n      <td>0.394535</td>\n      <td>0.410324</td>\n      <td>0.142520</td>\n    </tr>\n    <tr>\n      <th>25%</th>\n      <td>0.037804</td>\n      <td>0.123741</td>\n      <td>0.219552</td>\n      <td>0.287566</td>\n      <td>0.365590</td>\n      <td>0.421855</td>\n      <td>0.470120</td>\n      <td>0.530543</td>\n      <td>0.577918</td>\n      <td>0.641630</td>\n      <td>0.259896</td>\n    </tr>\n    <tr>\n      <th>50%</th>\n      <td>0.096695</td>\n      <td>0.239604</td>\n      <td>0.323812</td>\n      <td>0.389047</td>\n      <td>0.464605</td>\n      <td>0.511187</td>\n      <td>0.564508</td>\n      <td>0.604134</td>\n      <td>0.648031</td>\n      <td>0.687911</td>\n      <td>0.315932</td>\n    </tr>\n    <tr>\n      <th>75%</th>\n      <td>0.144094</td>\n      <td>0.259448</td>\n      <td>0.355527</td>\n      <td>0.459563</td>\n      <td>0.519380</td>\n      <td>0.573123</td>\n      <td>0.637472</td>\n      <td>0.670271</td>\n      <td>0.711342</td>\n      <td>0.776159</td>\n      <td>0.379187</td>\n    </tr>\n    <tr>\n      <th>max</th>\n      <td>0.421934</td>\n      <td>0.556035</td>\n      <td>0.691490</td>\n      <td>0.769187</td>\n      <td>0.797907</td>\n      <td>0.808313</td>\n      <td>0.824526</td>\n      <td>0.846036</td>\n      <td>0.867382</td>\n      <td>0.888266</td>\n      <td>0.656726</td>\n    </tr>\n  </tbody>\n</table>\n</div>"
     },
     "execution_count": 17,
     "metadata": {},
     "output_type": "execute_result"
    }
   ],
   "source": [
    "# describe the LOC coverage\n",
    "df_code_coverage.describe()"
   ],
   "metadata": {
    "collapsed": false,
    "pycharm": {
     "name": "#%%\n"
    }
   }
  },
  {
   "cell_type": "code",
   "execution_count": 18,
   "outputs": [
    {
     "data": {
      "text/plain": "                 10%       20%       30%       40%       50%       60%  \\\n10%         1.000000  0.938834  0.892840  0.894026  0.850403  0.809625   \n20%         0.938834  1.000000  0.974633  0.964438  0.944523  0.907776   \n30%         0.892840  0.974633  1.000000  0.982693  0.955666  0.925557   \n40%         0.894026  0.964438  0.982693  1.000000  0.978426  0.953295   \n50%         0.850403  0.944523  0.955666  0.978426  1.000000  0.986724   \n60%         0.809625  0.907776  0.925557  0.953295  0.986724  1.000000   \n70%         0.768374  0.873400  0.906117  0.929825  0.968706  0.987198   \n80%         0.748459  0.845899  0.881935  0.908013  0.948080  0.974870   \n90%         0.727359  0.810811  0.854670  0.883831  0.919156  0.954955   \n100%        0.680180  0.756994  0.796823  0.832859  0.878378  0.920104   \nSkillScore -0.076102 -0.086060 -0.111190 -0.110479 -0.172831 -0.206733   \n\n                 70%       80%       90%      100%  SkillScore  \n10%         0.768374  0.748459  0.727359  0.680180   -0.076102  \n20%         0.873400  0.845899  0.810811  0.756994   -0.086060  \n30%         0.906117  0.881935  0.854670  0.796823   -0.111190  \n40%         0.929825  0.908013  0.883831  0.832859   -0.110479  \n50%         0.968706  0.948080  0.919156  0.878378   -0.172831  \n60%         0.987198  0.974870  0.954955  0.920104   -0.206733  \n70%         1.000000  0.990280  0.972499  0.943338   -0.261024  \n80%         0.990280  1.000000  0.986012  0.959697   -0.263632  \n90%         0.972499  0.986012  1.000000  0.981508   -0.284732  \n100%        0.943338  0.959697  0.981508  1.000000   -0.350166  \nSkillScore -0.261024 -0.263632 -0.284732 -0.350166    1.000000  ",
      "text/html": "<div>\n<style scoped>\n    .dataframe tbody tr th:only-of-type {\n        vertical-align: middle;\n    }\n\n    .dataframe tbody tr th {\n        vertical-align: top;\n    }\n\n    .dataframe thead th {\n        text-align: right;\n    }\n</style>\n<table border=\"1\" class=\"dataframe\">\n  <thead>\n    <tr style=\"text-align: right;\">\n      <th></th>\n      <th>10%</th>\n      <th>20%</th>\n      <th>30%</th>\n      <th>40%</th>\n      <th>50%</th>\n      <th>60%</th>\n      <th>70%</th>\n      <th>80%</th>\n      <th>90%</th>\n      <th>100%</th>\n      <th>SkillScore</th>\n    </tr>\n  </thead>\n  <tbody>\n    <tr>\n      <th>10%</th>\n      <td>1.000000</td>\n      <td>0.938834</td>\n      <td>0.892840</td>\n      <td>0.894026</td>\n      <td>0.850403</td>\n      <td>0.809625</td>\n      <td>0.768374</td>\n      <td>0.748459</td>\n      <td>0.727359</td>\n      <td>0.680180</td>\n      <td>-0.076102</td>\n    </tr>\n    <tr>\n      <th>20%</th>\n      <td>0.938834</td>\n      <td>1.000000</td>\n      <td>0.974633</td>\n      <td>0.964438</td>\n      <td>0.944523</td>\n      <td>0.907776</td>\n      <td>0.873400</td>\n      <td>0.845899</td>\n      <td>0.810811</td>\n      <td>0.756994</td>\n      <td>-0.086060</td>\n    </tr>\n    <tr>\n      <th>30%</th>\n      <td>0.892840</td>\n      <td>0.974633</td>\n      <td>1.000000</td>\n      <td>0.982693</td>\n      <td>0.955666</td>\n      <td>0.925557</td>\n      <td>0.906117</td>\n      <td>0.881935</td>\n      <td>0.854670</td>\n      <td>0.796823</td>\n      <td>-0.111190</td>\n    </tr>\n    <tr>\n      <th>40%</th>\n      <td>0.894026</td>\n      <td>0.964438</td>\n      <td>0.982693</td>\n      <td>1.000000</td>\n      <td>0.978426</td>\n      <td>0.953295</td>\n      <td>0.929825</td>\n      <td>0.908013</td>\n      <td>0.883831</td>\n      <td>0.832859</td>\n      <td>-0.110479</td>\n    </tr>\n    <tr>\n      <th>50%</th>\n      <td>0.850403</td>\n      <td>0.944523</td>\n      <td>0.955666</td>\n      <td>0.978426</td>\n      <td>1.000000</td>\n      <td>0.986724</td>\n      <td>0.968706</td>\n      <td>0.948080</td>\n      <td>0.919156</td>\n      <td>0.878378</td>\n      <td>-0.172831</td>\n    </tr>\n    <tr>\n      <th>60%</th>\n      <td>0.809625</td>\n      <td>0.907776</td>\n      <td>0.925557</td>\n      <td>0.953295</td>\n      <td>0.986724</td>\n      <td>1.000000</td>\n      <td>0.987198</td>\n      <td>0.974870</td>\n      <td>0.954955</td>\n      <td>0.920104</td>\n      <td>-0.206733</td>\n    </tr>\n    <tr>\n      <th>70%</th>\n      <td>0.768374</td>\n      <td>0.873400</td>\n      <td>0.906117</td>\n      <td>0.929825</td>\n      <td>0.968706</td>\n      <td>0.987198</td>\n      <td>1.000000</td>\n      <td>0.990280</td>\n      <td>0.972499</td>\n      <td>0.943338</td>\n      <td>-0.261024</td>\n    </tr>\n    <tr>\n      <th>80%</th>\n      <td>0.748459</td>\n      <td>0.845899</td>\n      <td>0.881935</td>\n      <td>0.908013</td>\n      <td>0.948080</td>\n      <td>0.974870</td>\n      <td>0.990280</td>\n      <td>1.000000</td>\n      <td>0.986012</td>\n      <td>0.959697</td>\n      <td>-0.263632</td>\n    </tr>\n    <tr>\n      <th>90%</th>\n      <td>0.727359</td>\n      <td>0.810811</td>\n      <td>0.854670</td>\n      <td>0.883831</td>\n      <td>0.919156</td>\n      <td>0.954955</td>\n      <td>0.972499</td>\n      <td>0.986012</td>\n      <td>1.000000</td>\n      <td>0.981508</td>\n      <td>-0.284732</td>\n    </tr>\n    <tr>\n      <th>100%</th>\n      <td>0.680180</td>\n      <td>0.756994</td>\n      <td>0.796823</td>\n      <td>0.832859</td>\n      <td>0.878378</td>\n      <td>0.920104</td>\n      <td>0.943338</td>\n      <td>0.959697</td>\n      <td>0.981508</td>\n      <td>1.000000</td>\n      <td>-0.350166</td>\n    </tr>\n    <tr>\n      <th>SkillScore</th>\n      <td>-0.076102</td>\n      <td>-0.086060</td>\n      <td>-0.111190</td>\n      <td>-0.110479</td>\n      <td>-0.172831</td>\n      <td>-0.206733</td>\n      <td>-0.261024</td>\n      <td>-0.263632</td>\n      <td>-0.284732</td>\n      <td>-0.350166</td>\n      <td>1.000000</td>\n    </tr>\n  </tbody>\n</table>\n</div>"
     },
     "execution_count": 18,
     "metadata": {},
     "output_type": "execute_result"
    }
   ],
   "source": [
    "# spearman correlation for LOC coverage and skillscore\n",
    "df_code_coverage.corr(method=\"spearman\")"
   ],
   "metadata": {
    "collapsed": false,
    "pycharm": {
     "name": "#%%\n"
    }
   }
  }
 ],
 "metadata": {
  "kernelspec": {
   "display_name": "Python 3",
   "language": "python",
   "name": "python3"
  },
  "language_info": {
   "codemirror_mode": {
    "name": "ipython",
    "version": 2
   },
   "file_extension": ".py",
   "mimetype": "text/x-python",
   "name": "python",
   "nbconvert_exporter": "python",
   "pygments_lexer": "ipython2",
   "version": "2.7.6"
  }
 },
 "nbformat": 4,
 "nbformat_minor": 0
}