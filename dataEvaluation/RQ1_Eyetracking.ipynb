{
 "cells": [
  {
   "cell_type": "code",
   "execution_count": 1,
   "metadata": {
    "collapsed": true
   },
   "outputs": [],
   "source": [
    "import numpy as np\n",
    "import pandas as pd\n",
    "import matplotlib.pyplot as plt\n",
    "import seaborn as sns\n",
    "from tqdm.notebook import tqdm\n",
    "import utils.GenSnippetsLib as gsl\n",
    "import PIL\n",
    "import PIL.Image"
   ]
  },
  {
   "cell_type": "code",
   "execution_count": 2,
   "outputs": [
    {
     "data": {
      "text/plain": "      Participant            Algorithm Behavioral    StartTime      EndTime  \\\n0               1              IsPrime      Right     0.000000    12.390280   \n1               1  SiebDesEratosthenes      Wrong    49.778238   202.350152   \n2               1            IsAnagram      Right   254.122970   363.738694   \n3               1     RemoveDoubleChar      Right   401.629505   455.085781   \n4               1         BinToDecimal      Right   555.252914   605.175005   \n...           ...                  ...        ...          ...          ...   \n1067           71          DumpSorting      Wrong  2913.891198  3027.260143   \n1068           71  BinomialCoefficient      Right  3138.411363  3189.049224   \n1069           71            IsAnagram      Right  3227.575716  3338.571470   \n1070           71         ArrayAverage      Right  3375.662381  3383.972645   \n1071           71              IsPrime      Wrong  3425.092426  3430.782955   \n\n        Duration  IsOutlier  SkillScore  \\\n0      12.390280      False    0.331385   \n1     152.571914      False    0.331385   \n2     109.615724      False    0.331385   \n3      53.456276      False    0.331385   \n4      49.922091      False    0.331385   \n...          ...        ...         ...   \n1067  113.368945      False    0.435651   \n1068   50.637861      False    0.435651   \n1069  110.995754      False    0.435651   \n1070    8.310264      False    0.435651   \n1071    5.690529       True    0.435651   \n\n                                        Fixation_startT  \\\n0     [    0.      256.007   756.017  1136.027  1356...   \n1     [6.00050000e+01 2.40010000e+02 7.56025000e+02 ...   \n2     [5.59990000e+01 2.16007000e+02 8.16028000e+02 ...   \n3     [    0.      144.003   316.009   724.024   956...   \n4     [    0.      152.004   332.012   556.018   796...   \n...                                                 ...   \n1067  [     0.       148.003    476.015    860.038  ...   \n1068  [    0.      180.002   496.013   744.025   960...   \n1069  [3.60000000e+01 2.60009000e+02 6.24025000e+02 ...   \n1070  [   0.     176.006  884.026 1108.03  1336.04  ...   \n1071  [   0.     136.004  596.017 1400.047 1696.056 ...   \n\n                                          Fixation_endT  \\\n0     [  232.003   732.017  1112.027  1332.034  1512...   \n1     [   212.011    732.025   1484.047   1932.068  ...   \n2     [   192.008    792.028   1004.036   1252.046  ...   \n3     [  128.001   292.01    708.023   932.031  1392...   \n4     [  136.005   316.012   532.017   772.025   972...   \n...                                                 ...   \n1067  [1.12003000e+02 4.52015000e+02 8.28025000e+02 ...   \n1068  [  152.002   472.013   712.022   944.029  1168...   \n1069  [   232.009    604.025    812.03    1032.039  ...   \n1070  [ 152.006  868.024 1072.031 1312.039 2012.059 ...   \n1071  [ 112.004  572.018 1384.045 1672.056 2092.07  ...   \n\n                                             Fixation_x  \\\n0     [ 938.53660583 1015.99482536 1111.40476227  90...   \n1     [ 868.43007088 1007.4270916  1058.09211731 109...   \n2     [ 915.18871307  873.20179939  872.12508202  93...   \n3     [ 755.08060455  869.5891571   917.79919624  99...   \n4     [ 813.72073174  857.88272381  908.06817055 100...   \n...                                                 ...   \n1067  [ 784.28146362  843.5760498   984.98113632  74...   \n1068  [ 898.8488102   995.05531311  911.90717697  80...   \n1069  [ 901.21260166  849.42790031  774.66410637  88...   \n1070  [ 876.82525635 1010.44661522  884.08400059  93...   \n1071  [ 941.54145241 1023.22686195  971.83539391 103...   \n\n                                             Fixation_y  \\\n0     [455.2750361  458.47175181 454.98245269 482.13...   \n1     [291.24348164 299.36495841 298.56575131 298.83...   \n2     [202.82147884 209.60132539 257.19715655 269.01...   \n3     [289.39472079 287.10810274 292.48779595 294.61...   \n4     [442.74862647 433.95372748 438.14722717 445.20...   \n...                                                 ...   \n1067  [ 402.68189549  135.43147422  124.32098731  24...   \n1068  [380.1622349  376.28351927 381.3793999  458.69...   \n1069  [183.96801241 157.75504857 182.35525511 193.53...   \n1070  [337.34915793 341.4681378  445.61004728 499.84...   \n1071  [450.51098228 424.22285289 455.97357184 450.48...   \n\n                                       Fixation_x_range  \\\n0     [0.47429751 1.03018639 1.93792793 0.55711697 0...   \n1     [ 0.48993109  1.25416388  1.31951268  1.368347...   \n2     [0.38803218 0.70631827 0.36245902 0.39378108 0...   \n3     [0.56010773 0.5157867  1.29034051 0.56324224 1...   \n4     [0.45957416 0.59362373 0.66204565 0.49548783 0...   \n...                                                 ...   \n1067  [ 0.62816844  1.18571596  1.00710697  9.686770...   \n1068  [0.43449658 0.37841624 0.51664131 0.3588181  0...   \n1069  [0.41719424 0.38097427 0.61861535 0.48578809 1...   \n1070  [0.42700017 1.7542686  0.42859525 0.46904707 1...   \n1071  [0.52571906 0.6140548  1.04832382 0.60314503 0...   \n\n                                       Fixation_y_range  \n0     [1.20406041 1.38680553 0.92237319 0.94949848 0...  \n1     [ 0.98835416  1.03392199  1.15453978  0.971170...  \n2     [1.3295969  1.27731226 1.0016671  0.82503029 1...  \n3     [1.36399022 1.67141707 1.40613635 1.3199133  1...  \n4     [ 1.05953849  2.88387212  1.57175633  1.207385...  \n...                                                 ...  \n1067  [1.46929439 1.10845543 0.97169054 2.8639374  1...  \n1068  [0.73190452 0.94403384 1.16224789 1.15495182 0...  \n1069  [1.14784796 1.5037924  1.08456121 1.23995663 2...  \n1070  [1.41563445 2.79525118 0.9857216  1.93688978 2...  \n1071  [0.81654177 1.26165365 1.58039174 0.97071498 1...  \n\n[1072 rows x 14 columns]",
      "text/html": "<div>\n<style scoped>\n    .dataframe tbody tr th:only-of-type {\n        vertical-align: middle;\n    }\n\n    .dataframe tbody tr th {\n        vertical-align: top;\n    }\n\n    .dataframe thead th {\n        text-align: right;\n    }\n</style>\n<table border=\"1\" class=\"dataframe\">\n  <thead>\n    <tr style=\"text-align: right;\">\n      <th></th>\n      <th>Participant</th>\n      <th>Algorithm</th>\n      <th>Behavioral</th>\n      <th>StartTime</th>\n      <th>EndTime</th>\n      <th>Duration</th>\n      <th>IsOutlier</th>\n      <th>SkillScore</th>\n      <th>Fixation_startT</th>\n      <th>Fixation_endT</th>\n      <th>Fixation_x</th>\n      <th>Fixation_y</th>\n      <th>Fixation_x_range</th>\n      <th>Fixation_y_range</th>\n    </tr>\n  </thead>\n  <tbody>\n    <tr>\n      <th>0</th>\n      <td>1</td>\n      <td>IsPrime</td>\n      <td>Right</td>\n      <td>0.000000</td>\n      <td>12.390280</td>\n      <td>12.390280</td>\n      <td>False</td>\n      <td>0.331385</td>\n      <td>[    0.      256.007   756.017  1136.027  1356...</td>\n      <td>[  232.003   732.017  1112.027  1332.034  1512...</td>\n      <td>[ 938.53660583 1015.99482536 1111.40476227  90...</td>\n      <td>[455.2750361  458.47175181 454.98245269 482.13...</td>\n      <td>[0.47429751 1.03018639 1.93792793 0.55711697 0...</td>\n      <td>[1.20406041 1.38680553 0.92237319 0.94949848 0...</td>\n    </tr>\n    <tr>\n      <th>1</th>\n      <td>1</td>\n      <td>SiebDesEratosthenes</td>\n      <td>Wrong</td>\n      <td>49.778238</td>\n      <td>202.350152</td>\n      <td>152.571914</td>\n      <td>False</td>\n      <td>0.331385</td>\n      <td>[6.00050000e+01 2.40010000e+02 7.56025000e+02 ...</td>\n      <td>[   212.011    732.025   1484.047   1932.068  ...</td>\n      <td>[ 868.43007088 1007.4270916  1058.09211731 109...</td>\n      <td>[291.24348164 299.36495841 298.56575131 298.83...</td>\n      <td>[ 0.48993109  1.25416388  1.31951268  1.368347...</td>\n      <td>[ 0.98835416  1.03392199  1.15453978  0.971170...</td>\n    </tr>\n    <tr>\n      <th>2</th>\n      <td>1</td>\n      <td>IsAnagram</td>\n      <td>Right</td>\n      <td>254.122970</td>\n      <td>363.738694</td>\n      <td>109.615724</td>\n      <td>False</td>\n      <td>0.331385</td>\n      <td>[5.59990000e+01 2.16007000e+02 8.16028000e+02 ...</td>\n      <td>[   192.008    792.028   1004.036   1252.046  ...</td>\n      <td>[ 915.18871307  873.20179939  872.12508202  93...</td>\n      <td>[202.82147884 209.60132539 257.19715655 269.01...</td>\n      <td>[0.38803218 0.70631827 0.36245902 0.39378108 0...</td>\n      <td>[1.3295969  1.27731226 1.0016671  0.82503029 1...</td>\n    </tr>\n    <tr>\n      <th>3</th>\n      <td>1</td>\n      <td>RemoveDoubleChar</td>\n      <td>Right</td>\n      <td>401.629505</td>\n      <td>455.085781</td>\n      <td>53.456276</td>\n      <td>False</td>\n      <td>0.331385</td>\n      <td>[    0.      144.003   316.009   724.024   956...</td>\n      <td>[  128.001   292.01    708.023   932.031  1392...</td>\n      <td>[ 755.08060455  869.5891571   917.79919624  99...</td>\n      <td>[289.39472079 287.10810274 292.48779595 294.61...</td>\n      <td>[0.56010773 0.5157867  1.29034051 0.56324224 1...</td>\n      <td>[1.36399022 1.67141707 1.40613635 1.3199133  1...</td>\n    </tr>\n    <tr>\n      <th>4</th>\n      <td>1</td>\n      <td>BinToDecimal</td>\n      <td>Right</td>\n      <td>555.252914</td>\n      <td>605.175005</td>\n      <td>49.922091</td>\n      <td>False</td>\n      <td>0.331385</td>\n      <td>[    0.      152.004   332.012   556.018   796...</td>\n      <td>[  136.005   316.012   532.017   772.025   972...</td>\n      <td>[ 813.72073174  857.88272381  908.06817055 100...</td>\n      <td>[442.74862647 433.95372748 438.14722717 445.20...</td>\n      <td>[0.45957416 0.59362373 0.66204565 0.49548783 0...</td>\n      <td>[ 1.05953849  2.88387212  1.57175633  1.207385...</td>\n    </tr>\n    <tr>\n      <th>...</th>\n      <td>...</td>\n      <td>...</td>\n      <td>...</td>\n      <td>...</td>\n      <td>...</td>\n      <td>...</td>\n      <td>...</td>\n      <td>...</td>\n      <td>...</td>\n      <td>...</td>\n      <td>...</td>\n      <td>...</td>\n      <td>...</td>\n      <td>...</td>\n    </tr>\n    <tr>\n      <th>1067</th>\n      <td>71</td>\n      <td>DumpSorting</td>\n      <td>Wrong</td>\n      <td>2913.891198</td>\n      <td>3027.260143</td>\n      <td>113.368945</td>\n      <td>False</td>\n      <td>0.435651</td>\n      <td>[     0.       148.003    476.015    860.038  ...</td>\n      <td>[1.12003000e+02 4.52015000e+02 8.28025000e+02 ...</td>\n      <td>[ 784.28146362  843.5760498   984.98113632  74...</td>\n      <td>[ 402.68189549  135.43147422  124.32098731  24...</td>\n      <td>[ 0.62816844  1.18571596  1.00710697  9.686770...</td>\n      <td>[1.46929439 1.10845543 0.97169054 2.8639374  1...</td>\n    </tr>\n    <tr>\n      <th>1068</th>\n      <td>71</td>\n      <td>BinomialCoefficient</td>\n      <td>Right</td>\n      <td>3138.411363</td>\n      <td>3189.049224</td>\n      <td>50.637861</td>\n      <td>False</td>\n      <td>0.435651</td>\n      <td>[    0.      180.002   496.013   744.025   960...</td>\n      <td>[  152.002   472.013   712.022   944.029  1168...</td>\n      <td>[ 898.8488102   995.05531311  911.90717697  80...</td>\n      <td>[380.1622349  376.28351927 381.3793999  458.69...</td>\n      <td>[0.43449658 0.37841624 0.51664131 0.3588181  0...</td>\n      <td>[0.73190452 0.94403384 1.16224789 1.15495182 0...</td>\n    </tr>\n    <tr>\n      <th>1069</th>\n      <td>71</td>\n      <td>IsAnagram</td>\n      <td>Right</td>\n      <td>3227.575716</td>\n      <td>3338.571470</td>\n      <td>110.995754</td>\n      <td>False</td>\n      <td>0.435651</td>\n      <td>[3.60000000e+01 2.60009000e+02 6.24025000e+02 ...</td>\n      <td>[   232.009    604.025    812.03    1032.039  ...</td>\n      <td>[ 901.21260166  849.42790031  774.66410637  88...</td>\n      <td>[183.96801241 157.75504857 182.35525511 193.53...</td>\n      <td>[0.41719424 0.38097427 0.61861535 0.48578809 1...</td>\n      <td>[1.14784796 1.5037924  1.08456121 1.23995663 2...</td>\n    </tr>\n    <tr>\n      <th>1070</th>\n      <td>71</td>\n      <td>ArrayAverage</td>\n      <td>Right</td>\n      <td>3375.662381</td>\n      <td>3383.972645</td>\n      <td>8.310264</td>\n      <td>False</td>\n      <td>0.435651</td>\n      <td>[   0.     176.006  884.026 1108.03  1336.04  ...</td>\n      <td>[ 152.006  868.024 1072.031 1312.039 2012.059 ...</td>\n      <td>[ 876.82525635 1010.44661522  884.08400059  93...</td>\n      <td>[337.34915793 341.4681378  445.61004728 499.84...</td>\n      <td>[0.42700017 1.7542686  0.42859525 0.46904707 1...</td>\n      <td>[1.41563445 2.79525118 0.9857216  1.93688978 2...</td>\n    </tr>\n    <tr>\n      <th>1071</th>\n      <td>71</td>\n      <td>IsPrime</td>\n      <td>Wrong</td>\n      <td>3425.092426</td>\n      <td>3430.782955</td>\n      <td>5.690529</td>\n      <td>True</td>\n      <td>0.435651</td>\n      <td>[   0.     136.004  596.017 1400.047 1696.056 ...</td>\n      <td>[ 112.004  572.018 1384.045 1672.056 2092.07  ...</td>\n      <td>[ 941.54145241 1023.22686195  971.83539391 103...</td>\n      <td>[450.51098228 424.22285289 455.97357184 450.48...</td>\n      <td>[0.52571906 0.6140548  1.04832382 0.60314503 0...</td>\n      <td>[0.81654177 1.26165365 1.58039174 0.97071498 1...</td>\n    </tr>\n  </tbody>\n</table>\n<p>1072 rows × 14 columns</p>\n</div>"
     },
     "execution_count": 2,
     "metadata": {},
     "output_type": "execute_result"
    }
   ],
   "source": [
    "df_fixation = pd.read_csv('./data/filteredData/fixation_stats.csv', sep=\";\")\n",
    "df_fixation"
   ],
   "metadata": {
    "collapsed": false,
    "pycharm": {
     "name": "#%%\n"
    }
   }
  },
  {
   "cell_type": "code",
   "execution_count": 16,
   "outputs": [
    {
     "data": {
      "text/plain": "      Algorithm       Token TokenIdx           BoundingBox\n0       IsPrime    Modifier        0       (45, 9, 93, 23)\n1       IsPrime    Modifier        1     (101, 9, 149, 20)\n2       IsPrime   BasicType        2    (157, 10, 213, 20)\n3       IsPrime  Identifier        3     (221, 9, 277, 20)\n4       IsPrime   Separator        4     (277, 8, 285, 22)\n...         ...         ...      ...                   ...\n2700  Rectangle     Keyword       82  (253, 313, 285, 324)\n2701  Rectangle   Separator       83  (285, 321, 293, 324)\n2702  Rectangle  Identifier       84  (293, 313, 341, 327)\n2703  Rectangle   Separator       85  (341, 312, 365, 327)\n2704  Rectangle   Separator       86    (45, 331, 53, 345)\n\n[2705 rows x 4 columns]",
      "text/html": "<div>\n<style scoped>\n    .dataframe tbody tr th:only-of-type {\n        vertical-align: middle;\n    }\n\n    .dataframe tbody tr th {\n        vertical-align: top;\n    }\n\n    .dataframe thead th {\n        text-align: right;\n    }\n</style>\n<table border=\"1\" class=\"dataframe\">\n  <thead>\n    <tr style=\"text-align: right;\">\n      <th></th>\n      <th>Algorithm</th>\n      <th>Token</th>\n      <th>TokenIdx</th>\n      <th>BoundingBox</th>\n    </tr>\n  </thead>\n  <tbody>\n    <tr>\n      <th>0</th>\n      <td>IsPrime</td>\n      <td>Modifier</td>\n      <td>0</td>\n      <td>(45, 9, 93, 23)</td>\n    </tr>\n    <tr>\n      <th>1</th>\n      <td>IsPrime</td>\n      <td>Modifier</td>\n      <td>1</td>\n      <td>(101, 9, 149, 20)</td>\n    </tr>\n    <tr>\n      <th>2</th>\n      <td>IsPrime</td>\n      <td>BasicType</td>\n      <td>2</td>\n      <td>(157, 10, 213, 20)</td>\n    </tr>\n    <tr>\n      <th>3</th>\n      <td>IsPrime</td>\n      <td>Identifier</td>\n      <td>3</td>\n      <td>(221, 9, 277, 20)</td>\n    </tr>\n    <tr>\n      <th>4</th>\n      <td>IsPrime</td>\n      <td>Separator</td>\n      <td>4</td>\n      <td>(277, 8, 285, 22)</td>\n    </tr>\n    <tr>\n      <th>...</th>\n      <td>...</td>\n      <td>...</td>\n      <td>...</td>\n      <td>...</td>\n    </tr>\n    <tr>\n      <th>2700</th>\n      <td>Rectangle</td>\n      <td>Keyword</td>\n      <td>82</td>\n      <td>(253, 313, 285, 324)</td>\n    </tr>\n    <tr>\n      <th>2701</th>\n      <td>Rectangle</td>\n      <td>Separator</td>\n      <td>83</td>\n      <td>(285, 321, 293, 324)</td>\n    </tr>\n    <tr>\n      <th>2702</th>\n      <td>Rectangle</td>\n      <td>Identifier</td>\n      <td>84</td>\n      <td>(293, 313, 341, 327)</td>\n    </tr>\n    <tr>\n      <th>2703</th>\n      <td>Rectangle</td>\n      <td>Separator</td>\n      <td>85</td>\n      <td>(341, 312, 365, 327)</td>\n    </tr>\n    <tr>\n      <th>2704</th>\n      <td>Rectangle</td>\n      <td>Separator</td>\n      <td>86</td>\n      <td>(45, 331, 53, 345)</td>\n    </tr>\n  </tbody>\n</table>\n<p>2705 rows × 4 columns</p>\n</div>"
     },
     "execution_count": 16,
     "metadata": {},
     "output_type": "execute_result"
    }
   ],
   "source": [
    "# Get Token based AOIs\n",
    "snippets = df_fixation[\"Algorithm\"].unique()\n",
    "df_token_aois = pd.DataFrame(columns=[\"Algorithm\", \"Token\", \"TokenIdx\", \"BoundingBox\"])\n",
    "for snippet in snippets:\n",
    "    aoi_token_generator = f\"./../CodeSnippets/aois/Generators/{snippet}_ast.json\"\n",
    "    image, aoi_list = gsl.create_image(aoi_token_generator, font_path=\"./../CodeSnippets/fonts/ttf/\")\n",
    "    aoi_clustered = []\n",
    "    current_left = None\n",
    "    current_top = None\n",
    "    current_right = None\n",
    "    current_bottom = None\n",
    "    current_aoi = None\n",
    "    color = None\n",
    "    for letter in aoi_list:\n",
    "        if len(letter[\"AOI\"]) == 1 or letter[\"letter\"] == '\\n':\n",
    "            if current_aoi is not None:\n",
    "                aoi_clustered.append((len(aoi_clustered), current_aoi, current_left, current_top, current_right, current_bottom, color))\n",
    "            current_aoi = None\n",
    "            color = None\n",
    "            current_left = None\n",
    "            current_top = None\n",
    "            current_right = None\n",
    "            current_bottom = None\n",
    "            continue\n",
    "        if current_aoi is None:\n",
    "            current_aoi = letter[\"AOI\"][1]\n",
    "            color = letter[\"color\"]\n",
    "            current_left = letter[\"BoundingBox\"][0]\n",
    "            current_top = letter[\"BoundingBox\"][1]\n",
    "            current_right = letter[\"BoundingBox\"][2]\n",
    "            current_bottom = letter[\"BoundingBox\"][3]\n",
    "        elif current_aoi == letter[\"AOI\"][1]:\n",
    "            current_left = min(current_left, letter[\"BoundingBox\"][0])\n",
    "            current_top = min(current_top, letter[\"BoundingBox\"][1])\n",
    "            current_right = max(current_right, letter[\"BoundingBox\"][2])\n",
    "            current_bottom = max(current_bottom, letter[\"BoundingBox\"][3])\n",
    "        else:\n",
    "            aoi_clustered.append((len(aoi_clustered), current_aoi, current_left, current_top, current_right, current_bottom, color))\n",
    "            current_aoi = letter[\"AOI\"][1]\n",
    "            color = letter[\"color\"]\n",
    "            current_left = letter[\"BoundingBox\"][0]\n",
    "            current_top = letter[\"BoundingBox\"][1]\n",
    "            current_right = letter[\"BoundingBox\"][2]\n",
    "            current_bottom = letter[\"BoundingBox\"][3]\n",
    "\n",
    "    for token in aoi_clustered:\n",
    "        df_token_aois.loc[len(df_token_aois)] = [snippet, token[1], token[0], (token[2], token[3], token[4], token[5])]\n",
    "df_token_aois"
   ],
   "metadata": {
    "collapsed": false,
    "pycharm": {
     "name": "#%%\n"
    }
   }
  },
  {
   "cell_type": "code",
   "execution_count": null,
   "outputs": [],
   "source": [
    "df_token_aois"
   ],
   "metadata": {
    "collapsed": false,
    "pycharm": {
     "name": "#%%\n"
    }
   }
  },
  {
   "cell_type": "code",
   "execution_count": null,
   "outputs": [],
   "source": [
    "{'letter': ' ', 'color': (0, 0, 0, 255), 'bold': False, 'italic': False, 'AOI': ['None'], 'font': <PIL.ImageFont.FreeTypeFont object at 0x0000026D66B75D60>, 'BoundingBox': (5, 20, 13, 20)}"
   ],
   "metadata": {
    "collapsed": false,
    "pycharm": {
     "name": "#%%\n"
    }
   }
  }
 ],
 "metadata": {
  "kernelspec": {
   "display_name": "Python 3",
   "language": "python",
   "name": "python3"
  },
  "language_info": {
   "codemirror_mode": {
    "name": "ipython",
    "version": 2
   },
   "file_extension": ".py",
   "mimetype": "text/x-python",
   "name": "python",
   "nbconvert_exporter": "python",
   "pygments_lexer": "ipython2",
   "version": "2.7.6"
  }
 },
 "nbformat": 4,
 "nbformat_minor": 0
}