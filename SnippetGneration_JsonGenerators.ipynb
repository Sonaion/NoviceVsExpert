{
 "cells": [
  {
   "cell_type": "markdown",
   "source": [
    "# Create Json Generators"
   ],
   "metadata": {
    "collapsed": false,
    "pycharm": {
     "name": "#%% md\n"
    }
   }
  },
  {
   "cell_type": "markdown",
   "source": [
    "## Import Libs"
   ],
   "metadata": {
    "collapsed": false,
    "pycharm": {
     "name": "#%% md\n"
    }
   }
  },
  {
   "cell_type": "code",
   "execution_count": 1,
   "outputs": [],
   "source": [
    "import json\n",
    "import os"
   ],
   "metadata": {
    "collapsed": false,
    "pycharm": {
     "name": "#%%\n"
    }
   }
  },
  {
   "cell_type": "markdown",
   "source": [
    "## Set Template for Json Generator"
   ],
   "metadata": {
    "collapsed": false,
    "pycharm": {
     "name": "#%% md\n"
    }
   }
  },
  {
   "cell_type": "code",
   "execution_count": 2,
   "metadata": {},
   "outputs": [],
   "source": [
    "data_template = {\n",
    "    \"font-normal\" : \"JetBrainsMono-Regular.ttf\",\n",
    "    \"font-bold\" : \"JetBrainsMono-Bold.ttf\",\n",
    "    \"font-italic\" : \"JetBrainsMono-BoldItalic.ttf\",\n",
    "    \"font-bold-italic\" : \"JetBrainsMono-Italic.ttf\",\n",
    "    \"font-size\" : 14,\n",
    "    \"width-margin\" : 5,\n",
    "    \"height-margin\" : 5,\n",
    "    \"spacing\" : 1,\n",
    "    \"background-color\" : [255, 255, 255],\n",
    "}"
   ]
  },
  {
   "cell_type": "markdown",
   "source": [
    "## Iterate Over all Source Files and Create Json Files"
   ],
   "metadata": {
    "collapsed": false,
    "pycharm": {
     "name": "#%% md\n"
    }
   },
   "outputs": [],
   "execution_count": 1
  },
  {
   "cell_type": "code",
   "execution_count": 3,
   "metadata": {
    "pycharm": {
     "name": "#%%\n"
    }
   },
   "outputs": [],
   "source": [
    "source_folder = os.getcwd() + \"\\\\CodeSnippets\\\\Source\"\n",
    "generator_folder = os.getcwd() + \"\\\\CodeSnippets\\\\Generators_Raw\"\n",
    "files = os.listdir(source_folder)\n",
    "\n",
    "data_dict = {}\n",
    "for file in files:\n",
    "    filename, _file_extension = os.path.splitext(file)\n",
    "    file_data = open(source_folder + \"\\\\\" + file, \"r\")\n",
    "    file_data = file_data.read()\n",
    "    file_data_splitted = file_data.split(\"\\n\")\n",
    "    right = [\"right\"]\n",
    "    wrong1 = [\"wrong1\"]\n",
    "    wrong2 = [\"wrong2\"]\n",
    "    dont_know = [\"?\"]\n",
    "    next_snippet = [\"next\"]\n",
    "    \n",
    "    data_dict[filename] = [file_data_splitted, file_data_splitted, right, wrong1, wrong2, dont_know, next_snippet]\n",
    "    \n",
    "for key, value_array in data_dict.items():\n",
    "    data_dict = []\n",
    "    for value in value_array:\n",
    "        template = data_template.copy()\n",
    "        template[\"source-code\"] = value\n",
    "        data_dict.append(template)\n",
    "    \n",
    "    name_postfixes = [\"\", \"Input\", \"Right\", \"Wrong1\", \"Wrong2\", \"DontKnow\", \"Next\"]\n",
    "    for idx, data in enumerate(data_dict):\n",
    "        name = key + name_postfixes[idx] + \".json\"\n",
    "        file_data = json.dumps(data, indent=4, separators=(',', ': '))\n",
    "        f = open(generator_folder + \"\\\\\" + name, \"w\")\n",
    "        f.write(file_data)\n",
    "        f.close()"
   ]
  },
  {
   "cell_type": "markdown",
   "source": [
    "# !!! Change the Generators manually for code input and answer !!!"
   ],
   "metadata": {
    "collapsed": false,
    "pycharm": {
     "name": "#%% md\n"
    }
   }
  }
 ],
 "metadata": {
  "kernelspec": {
   "display_name": "Python 3",
   "language": "python",
   "name": "python3"
  },
  "language_info": {
   "codemirror_mode": {
    "name": "ipython",
    "version": 3
   },
   "file_extension": ".py",
   "mimetype": "text/x-python",
   "name": "python",
   "nbconvert_exporter": "python",
   "pygments_lexer": "ipython3",
   "version": "3.8.8"
  }
 },
 "nbformat": 4,
 "nbformat_minor": 4
}